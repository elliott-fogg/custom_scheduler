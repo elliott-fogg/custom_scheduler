{
 "cells": [
  {
   "cell_type": "markdown",
   "id": "75aaf264-cb18-46e2-b3fb-d3365741bd4b",
   "metadata": {},
   "source": [
    "# RequestGeneratorV3"
   ]
  },
  {
   "cell_type": "code",
   "execution_count": 1,
   "id": "c5860aee-7674-4528-acfa-90e0921647ab",
   "metadata": {
    "execution": {
     "iopub.execute_input": "2024-03-29T17:01:11.654297Z",
     "iopub.status.busy": "2024-03-29T17:01:11.654297Z",
     "iopub.status.idle": "2024-03-29T17:01:12.231813Z",
     "shell.execute_reply": "2024-03-29T17:01:12.231813Z",
     "shell.execute_reply.started": "2024-03-29T17:01:11.654297Z"
    }
   },
   "outputs": [],
   "source": [
    "from generate_requests_v3 import RequestGeneratorV3"
   ]
  },
  {
   "cell_type": "markdown",
   "id": "d7e38561-9774-469e-bfe1-4885b2d42592",
   "metadata": {},
   "source": [
    "# Generate Input Files"
   ]
  },
  {
   "cell_type": "markdown",
   "id": "1a0a8cc7-58d2-400e-9ba4-ff9c590113a3",
   "metadata": {},
   "source": [
    "## General Parameters"
   ]
  },
  {
   "cell_type": "code",
   "execution_count": 2,
   "id": "af19897b-b424-485f-b9ff-99d0a438dcd6",
   "metadata": {
    "execution": {
     "iopub.execute_input": "2024-03-29T17:01:12.231813Z",
     "iopub.status.busy": "2024-03-29T17:01:12.231813Z",
     "iopub.status.idle": "2024-03-29T17:01:12.286047Z",
     "shell.execute_reply": "2024-03-29T17:01:12.284033Z",
     "shell.execute_reply.started": "2024-03-29T17:01:12.231813Z"
    }
   },
   "outputs": [],
   "source": [
    "num_repeats = 10"
   ]
  },
  {
   "cell_type": "markdown",
   "id": "cfedd0ab-3ef7-4f0d-8ef2-f2f13c9f5a1d",
   "metadata": {},
   "source": [
    "## Scaling Number of Requests"
   ]
  },
  {
   "cell_type": "code",
   "execution_count": 3,
   "id": "af5e3e28-f765-4de8-bdc8-e0b2c986678f",
   "metadata": {
    "execution": {
     "iopub.execute_input": "2024-03-29T17:01:12.300503Z",
     "iopub.status.busy": "2024-03-29T17:01:12.295192Z",
     "iopub.status.idle": "2024-03-29T17:01:17.815015Z",
     "shell.execute_reply": "2024-03-29T17:01:17.815015Z",
     "shell.execute_reply.started": "2024-03-29T17:01:12.300503Z"
    },
    "scrolled": true
   },
   "outputs": [
    {
     "name": "stdout",
     "output_type": "stream",
     "text": [
      "Saved to file at 'data\\performance_input\\performanceTest1_100Requests_0.json'\n",
      "Saved to file at 'data\\performance_input\\performanceTest1_100Requests_1.json'\n",
      "Saved to file at 'data\\performance_input\\performanceTest1_100Requests_2.json'\n",
      "Saved to file at 'data\\performance_input\\performanceTest1_100Requests_3.json'\n",
      "Saved to file at 'data\\performance_input\\performanceTest1_100Requests_4.json'\n",
      "Saved to file at 'data\\performance_input\\performanceTest1_100Requests_5.json'\n",
      "Saved to file at 'data\\performance_input\\performanceTest1_100Requests_6.json'\n",
      "Saved to file at 'data\\performance_input\\performanceTest1_100Requests_7.json'\n",
      "Saved to file at 'data\\performance_input\\performanceTest1_100Requests_8.json'\n",
      "Saved to file at 'data\\performance_input\\performanceTest1_100Requests_9.json'\n",
      "Saved to file at 'data\\performance_input\\performanceTest1_500Requests_0.json'\n",
      "Saved to file at 'data\\performance_input\\performanceTest1_500Requests_1.json'\n",
      "Saved to file at 'data\\performance_input\\performanceTest1_500Requests_2.json'\n",
      "Saved to file at 'data\\performance_input\\performanceTest1_500Requests_3.json'\n",
      "Saved to file at 'data\\performance_input\\performanceTest1_500Requests_4.json'\n",
      "Saved to file at 'data\\performance_input\\performanceTest1_500Requests_5.json'\n",
      "Saved to file at 'data\\performance_input\\performanceTest1_500Requests_6.json'\n",
      "Saved to file at 'data\\performance_input\\performanceTest1_500Requests_7.json'\n",
      "Saved to file at 'data\\performance_input\\performanceTest1_500Requests_8.json'\n",
      "Saved to file at 'data\\performance_input\\performanceTest1_500Requests_9.json'\n",
      "Saved to file at 'data\\performance_input\\performanceTest1_1000Requests_0.json'\n",
      "Saved to file at 'data\\performance_input\\performanceTest1_1000Requests_1.json'\n",
      "Saved to file at 'data\\performance_input\\performanceTest1_1000Requests_2.json'\n",
      "Saved to file at 'data\\performance_input\\performanceTest1_1000Requests_3.json'\n",
      "Saved to file at 'data\\performance_input\\performanceTest1_1000Requests_4.json'\n",
      "Saved to file at 'data\\performance_input\\performanceTest1_1000Requests_5.json'\n",
      "Saved to file at 'data\\performance_input\\performanceTest1_1000Requests_6.json'\n",
      "Saved to file at 'data\\performance_input\\performanceTest1_1000Requests_7.json'\n",
      "Saved to file at 'data\\performance_input\\performanceTest1_1000Requests_8.json'\n",
      "Saved to file at 'data\\performance_input\\performanceTest1_1000Requests_9.json'\n",
      "Saved to file at 'data\\performance_input\\performanceTest1_5000Requests_0.json'\n",
      "Saved to file at 'data\\performance_input\\performanceTest1_5000Requests_1.json'\n",
      "Saved to file at 'data\\performance_input\\performanceTest1_5000Requests_2.json'\n",
      "Saved to file at 'data\\performance_input\\performanceTest1_5000Requests_3.json'\n",
      "Saved to file at 'data\\performance_input\\performanceTest1_5000Requests_4.json'\n",
      "Saved to file at 'data\\performance_input\\performanceTest1_5000Requests_5.json'\n",
      "Saved to file at 'data\\performance_input\\performanceTest1_5000Requests_6.json'\n",
      "Saved to file at 'data\\performance_input\\performanceTest1_5000Requests_7.json'\n",
      "Saved to file at 'data\\performance_input\\performanceTest1_5000Requests_8.json'\n",
      "Saved to file at 'data\\performance_input\\performanceTest1_5000Requests_9.json'\n"
     ]
    }
   ],
   "source": [
    "for num_requests in [100, 500, 1000, 5000]:\n",
    "    for i in range(num_repeats):\n",
    "        rg = RequestGeneratorV3(i)\n",
    "        rg.generate_single_request_injection(0, num_requests)\n",
    "        filename = \"performanceTest1_{}Requests_{}.json\".format(num_requests, i)\n",
    "        rg.save_to_file(\"data\", \"performance_input\", filename)"
   ]
  },
  {
   "cell_type": "markdown",
   "id": "6dc48f6f-8c9e-433a-9200-94dc0df4e126",
   "metadata": {},
   "source": [
    "## Scaling Number of Telescopes"
   ]
  },
  {
   "cell_type": "code",
   "execution_count": 5,
   "id": "62b1bb98-7512-41dd-9c3d-8bdf7bedd2b9",
   "metadata": {
    "execution": {
     "iopub.execute_input": "2024-03-29T17:01:36.460953Z",
     "iopub.status.busy": "2024-03-29T17:01:36.459954Z",
     "iopub.status.idle": "2024-03-29T17:03:28.809382Z",
     "shell.execute_reply": "2024-03-29T17:03:28.809382Z",
     "shell.execute_reply.started": "2024-03-29T17:01:36.460953Z"
    },
    "scrolled": true
   },
   "outputs": [
    {
     "name": "stdout",
     "output_type": "stream",
     "text": [
      "Saved to file at 'data\\performance_input\\performanceTest2_1Telescopes_500Requests_0.json'\n",
      "Saved to file at 'data\\performance_input\\performanceTest2_1Telescopes_500Requests_1.json'\n",
      "Saved to file at 'data\\performance_input\\performanceTest2_1Telescopes_500Requests_2.json'\n",
      "Saved to file at 'data\\performance_input\\performanceTest2_1Telescopes_500Requests_3.json'\n",
      "Saved to file at 'data\\performance_input\\performanceTest2_1Telescopes_500Requests_4.json'\n",
      "Saved to file at 'data\\performance_input\\performanceTest2_1Telescopes_500Requests_5.json'\n",
      "Saved to file at 'data\\performance_input\\performanceTest2_1Telescopes_500Requests_6.json'\n",
      "Saved to file at 'data\\performance_input\\performanceTest2_1Telescopes_500Requests_7.json'\n",
      "Saved to file at 'data\\performance_input\\performanceTest2_1Telescopes_500Requests_8.json'\n",
      "Saved to file at 'data\\performance_input\\performanceTest2_1Telescopes_500Requests_9.json'\n",
      "Saved to file at 'data\\performance_input\\performanceTest2_1Telescopes_1000Requests_0.json'\n",
      "Saved to file at 'data\\performance_input\\performanceTest2_1Telescopes_1000Requests_1.json'\n",
      "Saved to file at 'data\\performance_input\\performanceTest2_1Telescopes_1000Requests_2.json'\n",
      "Saved to file at 'data\\performance_input\\performanceTest2_1Telescopes_1000Requests_3.json'\n",
      "Saved to file at 'data\\performance_input\\performanceTest2_1Telescopes_1000Requests_4.json'\n",
      "Saved to file at 'data\\performance_input\\performanceTest2_1Telescopes_1000Requests_5.json'\n",
      "Saved to file at 'data\\performance_input\\performanceTest2_1Telescopes_1000Requests_6.json'\n",
      "Saved to file at 'data\\performance_input\\performanceTest2_1Telescopes_1000Requests_7.json'\n",
      "Saved to file at 'data\\performance_input\\performanceTest2_1Telescopes_1000Requests_8.json'\n",
      "Saved to file at 'data\\performance_input\\performanceTest2_1Telescopes_1000Requests_9.json'\n",
      "Saved to file at 'data\\performance_input\\performanceTest2_1Telescopes_5000Requests_0.json'\n",
      "Saved to file at 'data\\performance_input\\performanceTest2_1Telescopes_5000Requests_1.json'\n",
      "Saved to file at 'data\\performance_input\\performanceTest2_1Telescopes_5000Requests_2.json'\n",
      "Saved to file at 'data\\performance_input\\performanceTest2_1Telescopes_5000Requests_3.json'\n",
      "Saved to file at 'data\\performance_input\\performanceTest2_1Telescopes_5000Requests_4.json'\n",
      "Saved to file at 'data\\performance_input\\performanceTest2_1Telescopes_5000Requests_5.json'\n",
      "Saved to file at 'data\\performance_input\\performanceTest2_1Telescopes_5000Requests_6.json'\n",
      "Saved to file at 'data\\performance_input\\performanceTest2_1Telescopes_5000Requests_7.json'\n",
      "Saved to file at 'data\\performance_input\\performanceTest2_1Telescopes_5000Requests_8.json'\n",
      "Saved to file at 'data\\performance_input\\performanceTest2_1Telescopes_5000Requests_9.json'\n",
      "Saved to file at 'data\\performance_input\\performanceTest2_2Telescopes_500Requests_0.json'\n",
      "Saved to file at 'data\\performance_input\\performanceTest2_2Telescopes_500Requests_1.json'\n",
      "Saved to file at 'data\\performance_input\\performanceTest2_2Telescopes_500Requests_2.json'\n",
      "Saved to file at 'data\\performance_input\\performanceTest2_2Telescopes_500Requests_3.json'\n",
      "Saved to file at 'data\\performance_input\\performanceTest2_2Telescopes_500Requests_4.json'\n",
      "Saved to file at 'data\\performance_input\\performanceTest2_2Telescopes_500Requests_5.json'\n",
      "Saved to file at 'data\\performance_input\\performanceTest2_2Telescopes_500Requests_6.json'\n",
      "Saved to file at 'data\\performance_input\\performanceTest2_2Telescopes_500Requests_7.json'\n",
      "Saved to file at 'data\\performance_input\\performanceTest2_2Telescopes_500Requests_8.json'\n",
      "Saved to file at 'data\\performance_input\\performanceTest2_2Telescopes_500Requests_9.json'\n",
      "Saved to file at 'data\\performance_input\\performanceTest2_2Telescopes_1000Requests_0.json'\n",
      "Saved to file at 'data\\performance_input\\performanceTest2_2Telescopes_1000Requests_1.json'\n",
      "Saved to file at 'data\\performance_input\\performanceTest2_2Telescopes_1000Requests_2.json'\n",
      "Saved to file at 'data\\performance_input\\performanceTest2_2Telescopes_1000Requests_3.json'\n",
      "Saved to file at 'data\\performance_input\\performanceTest2_2Telescopes_1000Requests_4.json'\n",
      "Saved to file at 'data\\performance_input\\performanceTest2_2Telescopes_1000Requests_5.json'\n",
      "Saved to file at 'data\\performance_input\\performanceTest2_2Telescopes_1000Requests_6.json'\n",
      "Saved to file at 'data\\performance_input\\performanceTest2_2Telescopes_1000Requests_7.json'\n",
      "Saved to file at 'data\\performance_input\\performanceTest2_2Telescopes_1000Requests_8.json'\n",
      "Saved to file at 'data\\performance_input\\performanceTest2_2Telescopes_1000Requests_9.json'\n",
      "Saved to file at 'data\\performance_input\\performanceTest2_2Telescopes_5000Requests_0.json'\n",
      "Saved to file at 'data\\performance_input\\performanceTest2_2Telescopes_5000Requests_1.json'\n",
      "Saved to file at 'data\\performance_input\\performanceTest2_2Telescopes_5000Requests_2.json'\n",
      "Saved to file at 'data\\performance_input\\performanceTest2_2Telescopes_5000Requests_3.json'\n",
      "Saved to file at 'data\\performance_input\\performanceTest2_2Telescopes_5000Requests_4.json'\n",
      "Saved to file at 'data\\performance_input\\performanceTest2_2Telescopes_5000Requests_5.json'\n",
      "Saved to file at 'data\\performance_input\\performanceTest2_2Telescopes_5000Requests_6.json'\n",
      "Saved to file at 'data\\performance_input\\performanceTest2_2Telescopes_5000Requests_7.json'\n",
      "Saved to file at 'data\\performance_input\\performanceTest2_2Telescopes_5000Requests_8.json'\n",
      "Saved to file at 'data\\performance_input\\performanceTest2_2Telescopes_5000Requests_9.json'\n",
      "Saved to file at 'data\\performance_input\\performanceTest2_3Telescopes_500Requests_0.json'\n",
      "Saved to file at 'data\\performance_input\\performanceTest2_3Telescopes_500Requests_1.json'\n",
      "Saved to file at 'data\\performance_input\\performanceTest2_3Telescopes_500Requests_2.json'\n",
      "Saved to file at 'data\\performance_input\\performanceTest2_3Telescopes_500Requests_3.json'\n",
      "Saved to file at 'data\\performance_input\\performanceTest2_3Telescopes_500Requests_4.json'\n",
      "Saved to file at 'data\\performance_input\\performanceTest2_3Telescopes_500Requests_5.json'\n",
      "Saved to file at 'data\\performance_input\\performanceTest2_3Telescopes_500Requests_6.json'\n",
      "Saved to file at 'data\\performance_input\\performanceTest2_3Telescopes_500Requests_7.json'\n",
      "Saved to file at 'data\\performance_input\\performanceTest2_3Telescopes_500Requests_8.json'\n",
      "Saved to file at 'data\\performance_input\\performanceTest2_3Telescopes_500Requests_9.json'\n",
      "Saved to file at 'data\\performance_input\\performanceTest2_3Telescopes_1000Requests_0.json'\n",
      "Saved to file at 'data\\performance_input\\performanceTest2_3Telescopes_1000Requests_1.json'\n",
      "Saved to file at 'data\\performance_input\\performanceTest2_3Telescopes_1000Requests_2.json'\n",
      "Saved to file at 'data\\performance_input\\performanceTest2_3Telescopes_1000Requests_3.json'\n",
      "Saved to file at 'data\\performance_input\\performanceTest2_3Telescopes_1000Requests_4.json'\n",
      "Saved to file at 'data\\performance_input\\performanceTest2_3Telescopes_1000Requests_5.json'\n",
      "Saved to file at 'data\\performance_input\\performanceTest2_3Telescopes_1000Requests_6.json'\n",
      "Saved to file at 'data\\performance_input\\performanceTest2_3Telescopes_1000Requests_7.json'\n",
      "Saved to file at 'data\\performance_input\\performanceTest2_3Telescopes_1000Requests_8.json'\n",
      "Saved to file at 'data\\performance_input\\performanceTest2_3Telescopes_1000Requests_9.json'\n",
      "Saved to file at 'data\\performance_input\\performanceTest2_3Telescopes_5000Requests_0.json'\n",
      "Saved to file at 'data\\performance_input\\performanceTest2_3Telescopes_5000Requests_1.json'\n",
      "Saved to file at 'data\\performance_input\\performanceTest2_3Telescopes_5000Requests_2.json'\n",
      "Saved to file at 'data\\performance_input\\performanceTest2_3Telescopes_5000Requests_3.json'\n",
      "Saved to file at 'data\\performance_input\\performanceTest2_3Telescopes_5000Requests_4.json'\n",
      "Saved to file at 'data\\performance_input\\performanceTest2_3Telescopes_5000Requests_5.json'\n",
      "Saved to file at 'data\\performance_input\\performanceTest2_3Telescopes_5000Requests_6.json'\n",
      "Saved to file at 'data\\performance_input\\performanceTest2_3Telescopes_5000Requests_7.json'\n",
      "Saved to file at 'data\\performance_input\\performanceTest2_3Telescopes_5000Requests_8.json'\n",
      "Saved to file at 'data\\performance_input\\performanceTest2_3Telescopes_5000Requests_9.json'\n",
      "Saved to file at 'data\\performance_input\\performanceTest2_5Telescopes_500Requests_0.json'\n",
      "Saved to file at 'data\\performance_input\\performanceTest2_5Telescopes_500Requests_1.json'\n",
      "Saved to file at 'data\\performance_input\\performanceTest2_5Telescopes_500Requests_2.json'\n",
      "Saved to file at 'data\\performance_input\\performanceTest2_5Telescopes_500Requests_3.json'\n",
      "Saved to file at 'data\\performance_input\\performanceTest2_5Telescopes_500Requests_4.json'\n",
      "Saved to file at 'data\\performance_input\\performanceTest2_5Telescopes_500Requests_5.json'\n",
      "Saved to file at 'data\\performance_input\\performanceTest2_5Telescopes_500Requests_6.json'\n",
      "Saved to file at 'data\\performance_input\\performanceTest2_5Telescopes_500Requests_7.json'\n",
      "Saved to file at 'data\\performance_input\\performanceTest2_5Telescopes_500Requests_8.json'\n",
      "Saved to file at 'data\\performance_input\\performanceTest2_5Telescopes_500Requests_9.json'\n",
      "Saved to file at 'data\\performance_input\\performanceTest2_5Telescopes_1000Requests_0.json'\n",
      "Saved to file at 'data\\performance_input\\performanceTest2_5Telescopes_1000Requests_1.json'\n",
      "Saved to file at 'data\\performance_input\\performanceTest2_5Telescopes_1000Requests_2.json'\n",
      "Saved to file at 'data\\performance_input\\performanceTest2_5Telescopes_1000Requests_3.json'\n",
      "Saved to file at 'data\\performance_input\\performanceTest2_5Telescopes_1000Requests_4.json'\n",
      "Saved to file at 'data\\performance_input\\performanceTest2_5Telescopes_1000Requests_5.json'\n",
      "Saved to file at 'data\\performance_input\\performanceTest2_5Telescopes_1000Requests_6.json'\n",
      "Saved to file at 'data\\performance_input\\performanceTest2_5Telescopes_1000Requests_7.json'\n",
      "Saved to file at 'data\\performance_input\\performanceTest2_5Telescopes_1000Requests_8.json'\n",
      "Saved to file at 'data\\performance_input\\performanceTest2_5Telescopes_1000Requests_9.json'\n",
      "Saved to file at 'data\\performance_input\\performanceTest2_5Telescopes_5000Requests_0.json'\n",
      "Saved to file at 'data\\performance_input\\performanceTest2_5Telescopes_5000Requests_1.json'\n",
      "Saved to file at 'data\\performance_input\\performanceTest2_5Telescopes_5000Requests_2.json'\n",
      "Saved to file at 'data\\performance_input\\performanceTest2_5Telescopes_5000Requests_3.json'\n",
      "Saved to file at 'data\\performance_input\\performanceTest2_5Telescopes_5000Requests_4.json'\n",
      "Saved to file at 'data\\performance_input\\performanceTest2_5Telescopes_5000Requests_5.json'\n",
      "Saved to file at 'data\\performance_input\\performanceTest2_5Telescopes_5000Requests_6.json'\n",
      "Saved to file at 'data\\performance_input\\performanceTest2_5Telescopes_5000Requests_7.json'\n",
      "Saved to file at 'data\\performance_input\\performanceTest2_5Telescopes_5000Requests_8.json'\n",
      "Saved to file at 'data\\performance_input\\performanceTest2_5Telescopes_5000Requests_9.json'\n",
      "Saved to file at 'data\\performance_input\\performanceTest2_10Telescopes_500Requests_0.json'\n",
      "Saved to file at 'data\\performance_input\\performanceTest2_10Telescopes_500Requests_1.json'\n",
      "Saved to file at 'data\\performance_input\\performanceTest2_10Telescopes_500Requests_2.json'\n",
      "Saved to file at 'data\\performance_input\\performanceTest2_10Telescopes_500Requests_3.json'\n",
      "Saved to file at 'data\\performance_input\\performanceTest2_10Telescopes_500Requests_4.json'\n",
      "Saved to file at 'data\\performance_input\\performanceTest2_10Telescopes_500Requests_5.json'\n",
      "Saved to file at 'data\\performance_input\\performanceTest2_10Telescopes_500Requests_6.json'\n",
      "Saved to file at 'data\\performance_input\\performanceTest2_10Telescopes_500Requests_7.json'\n",
      "Saved to file at 'data\\performance_input\\performanceTest2_10Telescopes_500Requests_8.json'\n",
      "Saved to file at 'data\\performance_input\\performanceTest2_10Telescopes_500Requests_9.json'\n",
      "Saved to file at 'data\\performance_input\\performanceTest2_10Telescopes_1000Requests_0.json'\n",
      "Saved to file at 'data\\performance_input\\performanceTest2_10Telescopes_1000Requests_1.json'\n",
      "Saved to file at 'data\\performance_input\\performanceTest2_10Telescopes_1000Requests_2.json'\n",
      "Saved to file at 'data\\performance_input\\performanceTest2_10Telescopes_1000Requests_3.json'\n",
      "Saved to file at 'data\\performance_input\\performanceTest2_10Telescopes_1000Requests_4.json'\n",
      "Saved to file at 'data\\performance_input\\performanceTest2_10Telescopes_1000Requests_5.json'\n",
      "Saved to file at 'data\\performance_input\\performanceTest2_10Telescopes_1000Requests_6.json'\n",
      "Saved to file at 'data\\performance_input\\performanceTest2_10Telescopes_1000Requests_7.json'\n",
      "Saved to file at 'data\\performance_input\\performanceTest2_10Telescopes_1000Requests_8.json'\n",
      "Saved to file at 'data\\performance_input\\performanceTest2_10Telescopes_1000Requests_9.json'\n",
      "Saved to file at 'data\\performance_input\\performanceTest2_10Telescopes_5000Requests_0.json'\n",
      "Saved to file at 'data\\performance_input\\performanceTest2_10Telescopes_5000Requests_1.json'\n",
      "Saved to file at 'data\\performance_input\\performanceTest2_10Telescopes_5000Requests_2.json'\n",
      "Saved to file at 'data\\performance_input\\performanceTest2_10Telescopes_5000Requests_3.json'\n",
      "Saved to file at 'data\\performance_input\\performanceTest2_10Telescopes_5000Requests_4.json'\n",
      "Saved to file at 'data\\performance_input\\performanceTest2_10Telescopes_5000Requests_5.json'\n",
      "Saved to file at 'data\\performance_input\\performanceTest2_10Telescopes_5000Requests_6.json'\n",
      "Saved to file at 'data\\performance_input\\performanceTest2_10Telescopes_5000Requests_7.json'\n",
      "Saved to file at 'data\\performance_input\\performanceTest2_10Telescopes_5000Requests_8.json'\n",
      "Saved to file at 'data\\performance_input\\performanceTest2_10Telescopes_5000Requests_9.json'\n",
      "Saved to file at 'data\\performance_input\\performanceTest2_15Telescopes_500Requests_0.json'\n",
      "Saved to file at 'data\\performance_input\\performanceTest2_15Telescopes_500Requests_1.json'\n",
      "Saved to file at 'data\\performance_input\\performanceTest2_15Telescopes_500Requests_2.json'\n",
      "Saved to file at 'data\\performance_input\\performanceTest2_15Telescopes_500Requests_3.json'\n",
      "Saved to file at 'data\\performance_input\\performanceTest2_15Telescopes_500Requests_4.json'\n",
      "Saved to file at 'data\\performance_input\\performanceTest2_15Telescopes_500Requests_5.json'\n",
      "Saved to file at 'data\\performance_input\\performanceTest2_15Telescopes_500Requests_6.json'\n",
      "Saved to file at 'data\\performance_input\\performanceTest2_15Telescopes_500Requests_7.json'\n",
      "Saved to file at 'data\\performance_input\\performanceTest2_15Telescopes_500Requests_8.json'\n",
      "Saved to file at 'data\\performance_input\\performanceTest2_15Telescopes_500Requests_9.json'\n",
      "Saved to file at 'data\\performance_input\\performanceTest2_15Telescopes_1000Requests_0.json'\n",
      "Saved to file at 'data\\performance_input\\performanceTest2_15Telescopes_1000Requests_1.json'\n",
      "Saved to file at 'data\\performance_input\\performanceTest2_15Telescopes_1000Requests_2.json'\n",
      "Saved to file at 'data\\performance_input\\performanceTest2_15Telescopes_1000Requests_3.json'\n",
      "Saved to file at 'data\\performance_input\\performanceTest2_15Telescopes_1000Requests_4.json'\n",
      "Saved to file at 'data\\performance_input\\performanceTest2_15Telescopes_1000Requests_5.json'\n",
      "Saved to file at 'data\\performance_input\\performanceTest2_15Telescopes_1000Requests_6.json'\n",
      "Saved to file at 'data\\performance_input\\performanceTest2_15Telescopes_1000Requests_7.json'\n",
      "Saved to file at 'data\\performance_input\\performanceTest2_15Telescopes_1000Requests_8.json'\n",
      "Saved to file at 'data\\performance_input\\performanceTest2_15Telescopes_1000Requests_9.json'\n",
      "Saved to file at 'data\\performance_input\\performanceTest2_15Telescopes_5000Requests_0.json'\n",
      "Saved to file at 'data\\performance_input\\performanceTest2_15Telescopes_5000Requests_1.json'\n",
      "Saved to file at 'data\\performance_input\\performanceTest2_15Telescopes_5000Requests_2.json'\n",
      "Saved to file at 'data\\performance_input\\performanceTest2_15Telescopes_5000Requests_3.json'\n",
      "Saved to file at 'data\\performance_input\\performanceTest2_15Telescopes_5000Requests_4.json'\n",
      "Saved to file at 'data\\performance_input\\performanceTest2_15Telescopes_5000Requests_5.json'\n",
      "Saved to file at 'data\\performance_input\\performanceTest2_15Telescopes_5000Requests_6.json'\n",
      "Saved to file at 'data\\performance_input\\performanceTest2_15Telescopes_5000Requests_7.json'\n",
      "Saved to file at 'data\\performance_input\\performanceTest2_15Telescopes_5000Requests_8.json'\n",
      "Saved to file at 'data\\performance_input\\performanceTest2_15Telescopes_5000Requests_9.json'\n",
      "Saved to file at 'data\\performance_input\\performanceTest2_20Telescopes_500Requests_0.json'\n",
      "Saved to file at 'data\\performance_input\\performanceTest2_20Telescopes_500Requests_1.json'\n",
      "Saved to file at 'data\\performance_input\\performanceTest2_20Telescopes_500Requests_2.json'\n",
      "Saved to file at 'data\\performance_input\\performanceTest2_20Telescopes_500Requests_3.json'\n",
      "Saved to file at 'data\\performance_input\\performanceTest2_20Telescopes_500Requests_4.json'\n",
      "Saved to file at 'data\\performance_input\\performanceTest2_20Telescopes_500Requests_5.json'\n",
      "Saved to file at 'data\\performance_input\\performanceTest2_20Telescopes_500Requests_6.json'\n",
      "Saved to file at 'data\\performance_input\\performanceTest2_20Telescopes_500Requests_7.json'\n",
      "Saved to file at 'data\\performance_input\\performanceTest2_20Telescopes_500Requests_8.json'\n",
      "Saved to file at 'data\\performance_input\\performanceTest2_20Telescopes_500Requests_9.json'\n",
      "Saved to file at 'data\\performance_input\\performanceTest2_20Telescopes_1000Requests_0.json'\n",
      "Saved to file at 'data\\performance_input\\performanceTest2_20Telescopes_1000Requests_1.json'\n",
      "Saved to file at 'data\\performance_input\\performanceTest2_20Telescopes_1000Requests_2.json'\n",
      "Saved to file at 'data\\performance_input\\performanceTest2_20Telescopes_1000Requests_3.json'\n",
      "Saved to file at 'data\\performance_input\\performanceTest2_20Telescopes_1000Requests_4.json'\n",
      "Saved to file at 'data\\performance_input\\performanceTest2_20Telescopes_1000Requests_5.json'\n",
      "Saved to file at 'data\\performance_input\\performanceTest2_20Telescopes_1000Requests_6.json'\n",
      "Saved to file at 'data\\performance_input\\performanceTest2_20Telescopes_1000Requests_7.json'\n",
      "Saved to file at 'data\\performance_input\\performanceTest2_20Telescopes_1000Requests_8.json'\n",
      "Saved to file at 'data\\performance_input\\performanceTest2_20Telescopes_1000Requests_9.json'\n",
      "Saved to file at 'data\\performance_input\\performanceTest2_20Telescopes_5000Requests_0.json'\n",
      "Saved to file at 'data\\performance_input\\performanceTest2_20Telescopes_5000Requests_1.json'\n",
      "Saved to file at 'data\\performance_input\\performanceTest2_20Telescopes_5000Requests_2.json'\n",
      "Saved to file at 'data\\performance_input\\performanceTest2_20Telescopes_5000Requests_3.json'\n",
      "Saved to file at 'data\\performance_input\\performanceTest2_20Telescopes_5000Requests_4.json'\n",
      "Saved to file at 'data\\performance_input\\performanceTest2_20Telescopes_5000Requests_5.json'\n",
      "Saved to file at 'data\\performance_input\\performanceTest2_20Telescopes_5000Requests_6.json'\n",
      "Saved to file at 'data\\performance_input\\performanceTest2_20Telescopes_5000Requests_7.json'\n",
      "Saved to file at 'data\\performance_input\\performanceTest2_20Telescopes_5000Requests_8.json'\n",
      "Saved to file at 'data\\performance_input\\performanceTest2_20Telescopes_5000Requests_9.json'\n"
     ]
    }
   ],
   "source": [
    "for num_telescopes in [1, 2, 3, 5, 10, 15, 20]:\n",
    "    # for num_requests in [500, 1000, 10000]:\n",
    "# for num_telescopes in [1, 3, 5]:\n",
    "    for num_requests in [500, 1000, 5000]:\n",
    "        for i in range(num_repeats):\n",
    "            rg = RequestGeneratorV3(i, num_telescopes=num_telescopes)\n",
    "            rg.generate_single_request_injection(0, num_requests)\n",
    "            filename = \"performanceTest2_{}Telescopes_{}Requests_{}.json\".format(num_telescopes, num_requests, i)\n",
    "            rg.save_to_file(\"data\", \"performance_input\", filename)"
   ]
  },
  {
   "cell_type": "markdown",
   "id": "4efd7a3d-a823-4650-bc8b-7688b3dc019b",
   "metadata": {},
   "source": [
    "## Scaling Slice Size"
   ]
  },
  {
   "cell_type": "code",
   "execution_count": 6,
   "id": "f47354e2-4bea-4058-8201-dbb187329468",
   "metadata": {
    "execution": {
     "iopub.execute_input": "2024-03-29T17:03:28.814231Z",
     "iopub.status.busy": "2024-03-29T17:03:28.812227Z",
     "iopub.status.idle": "2024-03-29T17:03:58.190155Z",
     "shell.execute_reply": "2024-03-29T17:03:58.190155Z",
     "shell.execute_reply.started": "2024-03-29T17:03:28.814231Z"
    },
    "scrolled": true
   },
   "outputs": [
    {
     "name": "stdout",
     "output_type": "stream",
     "text": [
      "Saved to file at 'data\\performance_input\\performanceTest3_600SliceSize_1000Requests_0.json'\n",
      "Saved to file at 'data\\performance_input\\performanceTest3_600SliceSize_1000Requests_1.json'\n",
      "Saved to file at 'data\\performance_input\\performanceTest3_600SliceSize_1000Requests_2.json'\n",
      "Saved to file at 'data\\performance_input\\performanceTest3_600SliceSize_1000Requests_3.json'\n",
      "Saved to file at 'data\\performance_input\\performanceTest3_600SliceSize_1000Requests_4.json'\n",
      "Saved to file at 'data\\performance_input\\performanceTest3_600SliceSize_1000Requests_5.json'\n",
      "Saved to file at 'data\\performance_input\\performanceTest3_600SliceSize_1000Requests_6.json'\n",
      "Saved to file at 'data\\performance_input\\performanceTest3_600SliceSize_1000Requests_7.json'\n",
      "Saved to file at 'data\\performance_input\\performanceTest3_600SliceSize_1000Requests_8.json'\n",
      "Saved to file at 'data\\performance_input\\performanceTest3_600SliceSize_1000Requests_9.json'\n",
      "Saved to file at 'data\\performance_input\\performanceTest3_600SliceSize_5000Requests_0.json'\n",
      "Saved to file at 'data\\performance_input\\performanceTest3_600SliceSize_5000Requests_1.json'\n",
      "Saved to file at 'data\\performance_input\\performanceTest3_600SliceSize_5000Requests_2.json'\n",
      "Saved to file at 'data\\performance_input\\performanceTest3_600SliceSize_5000Requests_3.json'\n",
      "Saved to file at 'data\\performance_input\\performanceTest3_600SliceSize_5000Requests_4.json'\n",
      "Saved to file at 'data\\performance_input\\performanceTest3_600SliceSize_5000Requests_5.json'\n",
      "Saved to file at 'data\\performance_input\\performanceTest3_600SliceSize_5000Requests_6.json'\n",
      "Saved to file at 'data\\performance_input\\performanceTest3_600SliceSize_5000Requests_7.json'\n",
      "Saved to file at 'data\\performance_input\\performanceTest3_600SliceSize_5000Requests_8.json'\n",
      "Saved to file at 'data\\performance_input\\performanceTest3_600SliceSize_5000Requests_9.json'\n",
      "Saved to file at 'data\\performance_input\\performanceTest3_300SliceSize_1000Requests_0.json'\n",
      "Saved to file at 'data\\performance_input\\performanceTest3_300SliceSize_1000Requests_1.json'\n",
      "Saved to file at 'data\\performance_input\\performanceTest3_300SliceSize_1000Requests_2.json'\n",
      "Saved to file at 'data\\performance_input\\performanceTest3_300SliceSize_1000Requests_3.json'\n",
      "Saved to file at 'data\\performance_input\\performanceTest3_300SliceSize_1000Requests_4.json'\n",
      "Saved to file at 'data\\performance_input\\performanceTest3_300SliceSize_1000Requests_5.json'\n",
      "Saved to file at 'data\\performance_input\\performanceTest3_300SliceSize_1000Requests_6.json'\n",
      "Saved to file at 'data\\performance_input\\performanceTest3_300SliceSize_1000Requests_7.json'\n",
      "Saved to file at 'data\\performance_input\\performanceTest3_300SliceSize_1000Requests_8.json'\n",
      "Saved to file at 'data\\performance_input\\performanceTest3_300SliceSize_1000Requests_9.json'\n",
      "Saved to file at 'data\\performance_input\\performanceTest3_300SliceSize_5000Requests_0.json'\n",
      "Saved to file at 'data\\performance_input\\performanceTest3_300SliceSize_5000Requests_1.json'\n",
      "Saved to file at 'data\\performance_input\\performanceTest3_300SliceSize_5000Requests_2.json'\n",
      "Saved to file at 'data\\performance_input\\performanceTest3_300SliceSize_5000Requests_3.json'\n",
      "Saved to file at 'data\\performance_input\\performanceTest3_300SliceSize_5000Requests_4.json'\n",
      "Saved to file at 'data\\performance_input\\performanceTest3_300SliceSize_5000Requests_5.json'\n",
      "Saved to file at 'data\\performance_input\\performanceTest3_300SliceSize_5000Requests_6.json'\n",
      "Saved to file at 'data\\performance_input\\performanceTest3_300SliceSize_5000Requests_7.json'\n",
      "Saved to file at 'data\\performance_input\\performanceTest3_300SliceSize_5000Requests_8.json'\n",
      "Saved to file at 'data\\performance_input\\performanceTest3_300SliceSize_5000Requests_9.json'\n",
      "Saved to file at 'data\\performance_input\\performanceTest3_240SliceSize_1000Requests_0.json'\n",
      "Saved to file at 'data\\performance_input\\performanceTest3_240SliceSize_1000Requests_1.json'\n",
      "Saved to file at 'data\\performance_input\\performanceTest3_240SliceSize_1000Requests_2.json'\n",
      "Saved to file at 'data\\performance_input\\performanceTest3_240SliceSize_1000Requests_3.json'\n",
      "Saved to file at 'data\\performance_input\\performanceTest3_240SliceSize_1000Requests_4.json'\n",
      "Saved to file at 'data\\performance_input\\performanceTest3_240SliceSize_1000Requests_5.json'\n",
      "Saved to file at 'data\\performance_input\\performanceTest3_240SliceSize_1000Requests_6.json'\n",
      "Saved to file at 'data\\performance_input\\performanceTest3_240SliceSize_1000Requests_7.json'\n",
      "Saved to file at 'data\\performance_input\\performanceTest3_240SliceSize_1000Requests_8.json'\n",
      "Saved to file at 'data\\performance_input\\performanceTest3_240SliceSize_1000Requests_9.json'\n",
      "Saved to file at 'data\\performance_input\\performanceTest3_240SliceSize_5000Requests_0.json'\n",
      "Saved to file at 'data\\performance_input\\performanceTest3_240SliceSize_5000Requests_1.json'\n",
      "Saved to file at 'data\\performance_input\\performanceTest3_240SliceSize_5000Requests_2.json'\n",
      "Saved to file at 'data\\performance_input\\performanceTest3_240SliceSize_5000Requests_3.json'\n",
      "Saved to file at 'data\\performance_input\\performanceTest3_240SliceSize_5000Requests_4.json'\n",
      "Saved to file at 'data\\performance_input\\performanceTest3_240SliceSize_5000Requests_5.json'\n",
      "Saved to file at 'data\\performance_input\\performanceTest3_240SliceSize_5000Requests_6.json'\n",
      "Saved to file at 'data\\performance_input\\performanceTest3_240SliceSize_5000Requests_7.json'\n",
      "Saved to file at 'data\\performance_input\\performanceTest3_240SliceSize_5000Requests_8.json'\n",
      "Saved to file at 'data\\performance_input\\performanceTest3_240SliceSize_5000Requests_9.json'\n",
      "Saved to file at 'data\\performance_input\\performanceTest3_180SliceSize_1000Requests_0.json'\n",
      "Saved to file at 'data\\performance_input\\performanceTest3_180SliceSize_1000Requests_1.json'\n",
      "Saved to file at 'data\\performance_input\\performanceTest3_180SliceSize_1000Requests_2.json'\n",
      "Saved to file at 'data\\performance_input\\performanceTest3_180SliceSize_1000Requests_3.json'\n",
      "Saved to file at 'data\\performance_input\\performanceTest3_180SliceSize_1000Requests_4.json'\n",
      "Saved to file at 'data\\performance_input\\performanceTest3_180SliceSize_1000Requests_5.json'\n",
      "Saved to file at 'data\\performance_input\\performanceTest3_180SliceSize_1000Requests_6.json'\n",
      "Saved to file at 'data\\performance_input\\performanceTest3_180SliceSize_1000Requests_7.json'\n",
      "Saved to file at 'data\\performance_input\\performanceTest3_180SliceSize_1000Requests_8.json'\n",
      "Saved to file at 'data\\performance_input\\performanceTest3_180SliceSize_1000Requests_9.json'\n",
      "Saved to file at 'data\\performance_input\\performanceTest3_180SliceSize_5000Requests_0.json'\n",
      "Saved to file at 'data\\performance_input\\performanceTest3_180SliceSize_5000Requests_1.json'\n",
      "Saved to file at 'data\\performance_input\\performanceTest3_180SliceSize_5000Requests_2.json'\n",
      "Saved to file at 'data\\performance_input\\performanceTest3_180SliceSize_5000Requests_3.json'\n",
      "Saved to file at 'data\\performance_input\\performanceTest3_180SliceSize_5000Requests_4.json'\n",
      "Saved to file at 'data\\performance_input\\performanceTest3_180SliceSize_5000Requests_5.json'\n",
      "Saved to file at 'data\\performance_input\\performanceTest3_180SliceSize_5000Requests_6.json'\n",
      "Saved to file at 'data\\performance_input\\performanceTest3_180SliceSize_5000Requests_7.json'\n",
      "Saved to file at 'data\\performance_input\\performanceTest3_180SliceSize_5000Requests_8.json'\n",
      "Saved to file at 'data\\performance_input\\performanceTest3_180SliceSize_5000Requests_9.json'\n",
      "Saved to file at 'data\\performance_input\\performanceTest3_120SliceSize_1000Requests_0.json'\n",
      "Saved to file at 'data\\performance_input\\performanceTest3_120SliceSize_1000Requests_1.json'\n",
      "Saved to file at 'data\\performance_input\\performanceTest3_120SliceSize_1000Requests_2.json'\n",
      "Saved to file at 'data\\performance_input\\performanceTest3_120SliceSize_1000Requests_3.json'\n",
      "Saved to file at 'data\\performance_input\\performanceTest3_120SliceSize_1000Requests_4.json'\n",
      "Saved to file at 'data\\performance_input\\performanceTest3_120SliceSize_1000Requests_5.json'\n",
      "Saved to file at 'data\\performance_input\\performanceTest3_120SliceSize_1000Requests_6.json'\n",
      "Saved to file at 'data\\performance_input\\performanceTest3_120SliceSize_1000Requests_7.json'\n",
      "Saved to file at 'data\\performance_input\\performanceTest3_120SliceSize_1000Requests_8.json'\n",
      "Saved to file at 'data\\performance_input\\performanceTest3_120SliceSize_1000Requests_9.json'\n",
      "Saved to file at 'data\\performance_input\\performanceTest3_120SliceSize_5000Requests_0.json'\n",
      "Saved to file at 'data\\performance_input\\performanceTest3_120SliceSize_5000Requests_1.json'\n",
      "Saved to file at 'data\\performance_input\\performanceTest3_120SliceSize_5000Requests_2.json'\n",
      "Saved to file at 'data\\performance_input\\performanceTest3_120SliceSize_5000Requests_3.json'\n",
      "Saved to file at 'data\\performance_input\\performanceTest3_120SliceSize_5000Requests_4.json'\n",
      "Saved to file at 'data\\performance_input\\performanceTest3_120SliceSize_5000Requests_5.json'\n",
      "Saved to file at 'data\\performance_input\\performanceTest3_120SliceSize_5000Requests_6.json'\n",
      "Saved to file at 'data\\performance_input\\performanceTest3_120SliceSize_5000Requests_7.json'\n",
      "Saved to file at 'data\\performance_input\\performanceTest3_120SliceSize_5000Requests_8.json'\n",
      "Saved to file at 'data\\performance_input\\performanceTest3_120SliceSize_5000Requests_9.json'\n",
      "Saved to file at 'data\\performance_input\\performanceTest3_60SliceSize_1000Requests_0.json'\n",
      "Saved to file at 'data\\performance_input\\performanceTest3_60SliceSize_1000Requests_1.json'\n",
      "Saved to file at 'data\\performance_input\\performanceTest3_60SliceSize_1000Requests_2.json'\n",
      "Saved to file at 'data\\performance_input\\performanceTest3_60SliceSize_1000Requests_3.json'\n",
      "Saved to file at 'data\\performance_input\\performanceTest3_60SliceSize_1000Requests_4.json'\n",
      "Saved to file at 'data\\performance_input\\performanceTest3_60SliceSize_1000Requests_5.json'\n",
      "Saved to file at 'data\\performance_input\\performanceTest3_60SliceSize_1000Requests_6.json'\n",
      "Saved to file at 'data\\performance_input\\performanceTest3_60SliceSize_1000Requests_7.json'\n",
      "Saved to file at 'data\\performance_input\\performanceTest3_60SliceSize_1000Requests_8.json'\n",
      "Saved to file at 'data\\performance_input\\performanceTest3_60SliceSize_1000Requests_9.json'\n",
      "Saved to file at 'data\\performance_input\\performanceTest3_60SliceSize_5000Requests_0.json'\n",
      "Saved to file at 'data\\performance_input\\performanceTest3_60SliceSize_5000Requests_1.json'\n",
      "Saved to file at 'data\\performance_input\\performanceTest3_60SliceSize_5000Requests_2.json'\n",
      "Saved to file at 'data\\performance_input\\performanceTest3_60SliceSize_5000Requests_3.json'\n",
      "Saved to file at 'data\\performance_input\\performanceTest3_60SliceSize_5000Requests_4.json'\n",
      "Saved to file at 'data\\performance_input\\performanceTest3_60SliceSize_5000Requests_5.json'\n",
      "Saved to file at 'data\\performance_input\\performanceTest3_60SliceSize_5000Requests_6.json'\n",
      "Saved to file at 'data\\performance_input\\performanceTest3_60SliceSize_5000Requests_7.json'\n",
      "Saved to file at 'data\\performance_input\\performanceTest3_60SliceSize_5000Requests_8.json'\n",
      "Saved to file at 'data\\performance_input\\performanceTest3_60SliceSize_5000Requests_9.json'\n",
      "Saved to file at 'data\\performance_input\\performanceTest3_30SliceSize_1000Requests_0.json'\n",
      "Saved to file at 'data\\performance_input\\performanceTest3_30SliceSize_1000Requests_1.json'\n",
      "Saved to file at 'data\\performance_input\\performanceTest3_30SliceSize_1000Requests_2.json'\n",
      "Saved to file at 'data\\performance_input\\performanceTest3_30SliceSize_1000Requests_3.json'\n",
      "Saved to file at 'data\\performance_input\\performanceTest3_30SliceSize_1000Requests_4.json'\n",
      "Saved to file at 'data\\performance_input\\performanceTest3_30SliceSize_1000Requests_5.json'\n",
      "Saved to file at 'data\\performance_input\\performanceTest3_30SliceSize_1000Requests_6.json'\n",
      "Saved to file at 'data\\performance_input\\performanceTest3_30SliceSize_1000Requests_7.json'\n",
      "Saved to file at 'data\\performance_input\\performanceTest3_30SliceSize_1000Requests_8.json'\n",
      "Saved to file at 'data\\performance_input\\performanceTest3_30SliceSize_1000Requests_9.json'\n",
      "Saved to file at 'data\\performance_input\\performanceTest3_30SliceSize_5000Requests_0.json'\n",
      "Saved to file at 'data\\performance_input\\performanceTest3_30SliceSize_5000Requests_1.json'\n",
      "Saved to file at 'data\\performance_input\\performanceTest3_30SliceSize_5000Requests_2.json'\n",
      "Saved to file at 'data\\performance_input\\performanceTest3_30SliceSize_5000Requests_3.json'\n",
      "Saved to file at 'data\\performance_input\\performanceTest3_30SliceSize_5000Requests_4.json'\n",
      "Saved to file at 'data\\performance_input\\performanceTest3_30SliceSize_5000Requests_5.json'\n",
      "Saved to file at 'data\\performance_input\\performanceTest3_30SliceSize_5000Requests_6.json'\n",
      "Saved to file at 'data\\performance_input\\performanceTest3_30SliceSize_5000Requests_7.json'\n",
      "Saved to file at 'data\\performance_input\\performanceTest3_30SliceSize_5000Requests_8.json'\n",
      "Saved to file at 'data\\performance_input\\performanceTest3_30SliceSize_5000Requests_9.json'\n"
     ]
    }
   ],
   "source": [
    "for slice_size in [600, 300, 240, 180, 120, 60, 30]:\n",
    "# for slice_size in [600, 300, 180]:\n",
    "    for num_requests in [1000, 5000]:\n",
    "        for i in range(num_repeats):\n",
    "            rg = RequestGeneratorV3(i, slice_size=slice_size)\n",
    "            rg.generate_single_request_injection(0, num_requests)\n",
    "            filename = \"performanceTest3_{}SliceSize_{}Requests_{}.json\".format(slice_size, num_requests, i)\n",
    "            rg.save_to_file(\"data\", \"performance_input\", filename)"
   ]
  },
  {
   "cell_type": "markdown",
   "id": "c2bd1360-7282-480c-b1c3-fa2102c0de60",
   "metadata": {},
   "source": [
    "## Scaling Number of Networks"
   ]
  },
  {
   "cell_type": "code",
   "execution_count": 7,
   "id": "f042fde6-3991-4ff8-9f48-461cb8509147",
   "metadata": {
    "execution": {
     "iopub.execute_input": "2024-03-29T17:03:58.194830Z",
     "iopub.status.busy": "2024-03-29T17:03:58.192831Z",
     "iopub.status.idle": "2024-03-29T17:04:12.921089Z",
     "shell.execute_reply": "2024-03-29T17:04:12.921089Z",
     "shell.execute_reply.started": "2024-03-29T17:03:58.194830Z"
    },
    "scrolled": true
   },
   "outputs": [
    {
     "name": "stdout",
     "output_type": "stream",
     "text": [
      "Saved to file at 'data\\performance_input\\performanceTest5_1Networks_8Telescopes_1000RequestsPerNetwork_0.json'\n",
      "Saved to file at 'data\\performance_input\\performanceTest5_1Networks_8Telescopes_1000RequestsPerNetwork_1.json'\n",
      "Saved to file at 'data\\performance_input\\performanceTest5_1Networks_8Telescopes_1000RequestsPerNetwork_2.json'\n",
      "Saved to file at 'data\\performance_input\\performanceTest5_1Networks_8Telescopes_1000RequestsPerNetwork_3.json'\n",
      "Saved to file at 'data\\performance_input\\performanceTest5_1Networks_8Telescopes_1000RequestsPerNetwork_4.json'\n",
      "Saved to file at 'data\\performance_input\\performanceTest5_1Networks_8Telescopes_1000RequestsPerNetwork_5.json'\n",
      "Saved to file at 'data\\performance_input\\performanceTest5_1Networks_8Telescopes_1000RequestsPerNetwork_6.json'\n",
      "Saved to file at 'data\\performance_input\\performanceTest5_1Networks_8Telescopes_1000RequestsPerNetwork_7.json'\n",
      "Saved to file at 'data\\performance_input\\performanceTest5_1Networks_8Telescopes_1000RequestsPerNetwork_8.json'\n",
      "Saved to file at 'data\\performance_input\\performanceTest5_1Networks_8Telescopes_1000RequestsPerNetwork_9.json'\n",
      "Saved to file at 'data\\performance_input\\performanceTest5_2Networks_8Telescopes_1000RequestsPerNetwork_0.json'\n",
      "Saved to file at 'data\\performance_input\\performanceTest5_2Networks_8Telescopes_1000RequestsPerNetwork_1.json'\n",
      "Saved to file at 'data\\performance_input\\performanceTest5_2Networks_8Telescopes_1000RequestsPerNetwork_2.json'\n",
      "Saved to file at 'data\\performance_input\\performanceTest5_2Networks_8Telescopes_1000RequestsPerNetwork_3.json'\n",
      "Saved to file at 'data\\performance_input\\performanceTest5_2Networks_8Telescopes_1000RequestsPerNetwork_4.json'\n",
      "Saved to file at 'data\\performance_input\\performanceTest5_2Networks_8Telescopes_1000RequestsPerNetwork_5.json'\n",
      "Saved to file at 'data\\performance_input\\performanceTest5_2Networks_8Telescopes_1000RequestsPerNetwork_6.json'\n",
      "Saved to file at 'data\\performance_input\\performanceTest5_2Networks_8Telescopes_1000RequestsPerNetwork_7.json'\n",
      "Saved to file at 'data\\performance_input\\performanceTest5_2Networks_8Telescopes_1000RequestsPerNetwork_8.json'\n",
      "Saved to file at 'data\\performance_input\\performanceTest5_2Networks_8Telescopes_1000RequestsPerNetwork_9.json'\n",
      "Saved to file at 'data\\performance_input\\performanceTest5_4Networks_8Telescopes_1000RequestsPerNetwork_0.json'\n",
      "Saved to file at 'data\\performance_input\\performanceTest5_4Networks_8Telescopes_1000RequestsPerNetwork_1.json'\n",
      "Saved to file at 'data\\performance_input\\performanceTest5_4Networks_8Telescopes_1000RequestsPerNetwork_2.json'\n",
      "Saved to file at 'data\\performance_input\\performanceTest5_4Networks_8Telescopes_1000RequestsPerNetwork_3.json'\n",
      "Saved to file at 'data\\performance_input\\performanceTest5_4Networks_8Telescopes_1000RequestsPerNetwork_4.json'\n",
      "Saved to file at 'data\\performance_input\\performanceTest5_4Networks_8Telescopes_1000RequestsPerNetwork_5.json'\n",
      "Saved to file at 'data\\performance_input\\performanceTest5_4Networks_8Telescopes_1000RequestsPerNetwork_6.json'\n",
      "Saved to file at 'data\\performance_input\\performanceTest5_4Networks_8Telescopes_1000RequestsPerNetwork_7.json'\n",
      "Saved to file at 'data\\performance_input\\performanceTest5_4Networks_8Telescopes_1000RequestsPerNetwork_8.json'\n",
      "Saved to file at 'data\\performance_input\\performanceTest5_4Networks_8Telescopes_1000RequestsPerNetwork_9.json'\n",
      "Saved to file at 'data\\performance_input\\performanceTest5_8Networks_8Telescopes_1000RequestsPerNetwork_0.json'\n",
      "Saved to file at 'data\\performance_input\\performanceTest5_8Networks_8Telescopes_1000RequestsPerNetwork_1.json'\n",
      "Saved to file at 'data\\performance_input\\performanceTest5_8Networks_8Telescopes_1000RequestsPerNetwork_2.json'\n",
      "Saved to file at 'data\\performance_input\\performanceTest5_8Networks_8Telescopes_1000RequestsPerNetwork_3.json'\n",
      "Saved to file at 'data\\performance_input\\performanceTest5_8Networks_8Telescopes_1000RequestsPerNetwork_4.json'\n",
      "Saved to file at 'data\\performance_input\\performanceTest5_8Networks_8Telescopes_1000RequestsPerNetwork_5.json'\n",
      "Saved to file at 'data\\performance_input\\performanceTest5_8Networks_8Telescopes_1000RequestsPerNetwork_6.json'\n",
      "Saved to file at 'data\\performance_input\\performanceTest5_8Networks_8Telescopes_1000RequestsPerNetwork_7.json'\n",
      "Saved to file at 'data\\performance_input\\performanceTest5_8Networks_8Telescopes_1000RequestsPerNetwork_8.json'\n",
      "Saved to file at 'data\\performance_input\\performanceTest5_8Networks_8Telescopes_1000RequestsPerNetwork_9.json'\n"
     ]
    }
   ],
   "source": [
    "num_telescopes = 8\n",
    "num_requests = 1000\n",
    "for num_networks in [1, 2, 4, 8]:\n",
    "    for i in range(num_repeats):\n",
    "        rg = RequestGeneratorV3(i, num_telescopes=num_telescopes, num_networks=num_networks)\n",
    "        for network in range(num_networks):\n",
    "            rg.generate_single_request_injection(0, num_requests, network=network)\n",
    "        filename = \"performanceTest5_{}Networks_{}Telescopes_{}RequestsPerNetwork_{}.json\".format(num_networks, num_telescopes, num_requests, i)\n",
    "        rg.save_to_file(\"data\", \"performance_input\", filename)"
   ]
  },
  {
   "cell_type": "markdown",
   "id": "ea55203c-50f6-49ac-9adf-41dd809a70d0",
   "metadata": {},
   "source": [
    "## Scaling Number of Networks (with scaling request number)"
   ]
  },
  {
   "cell_type": "code",
   "execution_count": 8,
   "id": "db0b1868-d86e-4c3f-adee-c913791e20dc",
   "metadata": {
    "execution": {
     "iopub.execute_input": "2024-03-29T17:04:40.743054Z",
     "iopub.status.busy": "2024-03-29T17:04:40.743054Z",
     "iopub.status.idle": "2024-03-29T17:05:01.762294Z",
     "shell.execute_reply": "2024-03-29T17:05:01.762294Z",
     "shell.execute_reply.started": "2024-03-29T17:04:40.743054Z"
    }
   },
   "outputs": [
    {
     "name": "stdout",
     "output_type": "stream",
     "text": [
      "Saved to file at 'data\\performance_input\\performanceTest6_1Networks_8Telescopes_4000GrossRequests_0.json'\n",
      "Saved to file at 'data\\performance_input\\performanceTest6_1Networks_8Telescopes_4000GrossRequests_1.json'\n",
      "Saved to file at 'data\\performance_input\\performanceTest6_1Networks_8Telescopes_4000GrossRequests_2.json'\n",
      "Saved to file at 'data\\performance_input\\performanceTest6_1Networks_8Telescopes_4000GrossRequests_3.json'\n",
      "Saved to file at 'data\\performance_input\\performanceTest6_1Networks_8Telescopes_4000GrossRequests_4.json'\n",
      "Saved to file at 'data\\performance_input\\performanceTest6_1Networks_8Telescopes_4000GrossRequests_5.json'\n",
      "Saved to file at 'data\\performance_input\\performanceTest6_1Networks_8Telescopes_4000GrossRequests_6.json'\n",
      "Saved to file at 'data\\performance_input\\performanceTest6_1Networks_8Telescopes_4000GrossRequests_7.json'\n",
      "Saved to file at 'data\\performance_input\\performanceTest6_1Networks_8Telescopes_4000GrossRequests_8.json'\n",
      "Saved to file at 'data\\performance_input\\performanceTest6_1Networks_8Telescopes_4000GrossRequests_9.json'\n",
      "Saved to file at 'data\\performance_input\\performanceTest6_2Networks_8Telescopes_4000GrossRequests_0.json'\n",
      "Saved to file at 'data\\performance_input\\performanceTest6_2Networks_8Telescopes_4000GrossRequests_1.json'\n",
      "Saved to file at 'data\\performance_input\\performanceTest6_2Networks_8Telescopes_4000GrossRequests_2.json'\n",
      "Saved to file at 'data\\performance_input\\performanceTest6_2Networks_8Telescopes_4000GrossRequests_3.json'\n",
      "Saved to file at 'data\\performance_input\\performanceTest6_2Networks_8Telescopes_4000GrossRequests_4.json'\n",
      "Saved to file at 'data\\performance_input\\performanceTest6_2Networks_8Telescopes_4000GrossRequests_5.json'\n",
      "Saved to file at 'data\\performance_input\\performanceTest6_2Networks_8Telescopes_4000GrossRequests_6.json'\n",
      "Saved to file at 'data\\performance_input\\performanceTest6_2Networks_8Telescopes_4000GrossRequests_7.json'\n",
      "Saved to file at 'data\\performance_input\\performanceTest6_2Networks_8Telescopes_4000GrossRequests_8.json'\n",
      "Saved to file at 'data\\performance_input\\performanceTest6_2Networks_8Telescopes_4000GrossRequests_9.json'\n",
      "Saved to file at 'data\\performance_input\\performanceTest6_4Networks_8Telescopes_4000GrossRequests_0.json'\n",
      "Saved to file at 'data\\performance_input\\performanceTest6_4Networks_8Telescopes_4000GrossRequests_1.json'\n",
      "Saved to file at 'data\\performance_input\\performanceTest6_4Networks_8Telescopes_4000GrossRequests_2.json'\n",
      "Saved to file at 'data\\performance_input\\performanceTest6_4Networks_8Telescopes_4000GrossRequests_3.json'\n",
      "Saved to file at 'data\\performance_input\\performanceTest6_4Networks_8Telescopes_4000GrossRequests_4.json'\n",
      "Saved to file at 'data\\performance_input\\performanceTest6_4Networks_8Telescopes_4000GrossRequests_5.json'\n",
      "Saved to file at 'data\\performance_input\\performanceTest6_4Networks_8Telescopes_4000GrossRequests_6.json'\n",
      "Saved to file at 'data\\performance_input\\performanceTest6_4Networks_8Telescopes_4000GrossRequests_7.json'\n",
      "Saved to file at 'data\\performance_input\\performanceTest6_4Networks_8Telescopes_4000GrossRequests_8.json'\n",
      "Saved to file at 'data\\performance_input\\performanceTest6_4Networks_8Telescopes_4000GrossRequests_9.json'\n",
      "Saved to file at 'data\\performance_input\\performanceTest6_8Networks_8Telescopes_4000GrossRequests_0.json'\n",
      "Saved to file at 'data\\performance_input\\performanceTest6_8Networks_8Telescopes_4000GrossRequests_1.json'\n",
      "Saved to file at 'data\\performance_input\\performanceTest6_8Networks_8Telescopes_4000GrossRequests_2.json'\n",
      "Saved to file at 'data\\performance_input\\performanceTest6_8Networks_8Telescopes_4000GrossRequests_3.json'\n",
      "Saved to file at 'data\\performance_input\\performanceTest6_8Networks_8Telescopes_4000GrossRequests_4.json'\n",
      "Saved to file at 'data\\performance_input\\performanceTest6_8Networks_8Telescopes_4000GrossRequests_5.json'\n",
      "Saved to file at 'data\\performance_input\\performanceTest6_8Networks_8Telescopes_4000GrossRequests_6.json'\n",
      "Saved to file at 'data\\performance_input\\performanceTest6_8Networks_8Telescopes_4000GrossRequests_7.json'\n",
      "Saved to file at 'data\\performance_input\\performanceTest6_8Networks_8Telescopes_4000GrossRequests_8.json'\n",
      "Saved to file at 'data\\performance_input\\performanceTest6_8Networks_8Telescopes_4000GrossRequests_9.json'\n"
     ]
    }
   ],
   "source": [
    "num_telescopes = 8\n",
    "gross_requests = 4000\n",
    "for num_networks in [1, 2, 4, 8]:\n",
    "    requests_per_network = int(gross_requests / num_networks)\n",
    "    for i in range(num_repeats):\n",
    "        rg = RequestGeneratorV3(i, num_telescopes=num_telescopes, num_networks=num_networks)\n",
    "        for network in range(num_networks):\n",
    "            rg.generate_single_request_injection(0, requests_per_network, network=network)\n",
    "        filename = \"performanceTest6_{}Networks_{}Telescopes_{}GrossRequests_{}.json\".format(num_networks, num_telescopes, gross_requests, i)\n",
    "        rg.save_to_file(\"data\", \"performance_input\", filename)"
   ]
  },
  {
   "cell_type": "markdown",
   "id": "94780727-2f59-49d5-9fd4-a322bc589ead",
   "metadata": {},
   "source": [
    "## Scaling Scheduling Horizon"
   ]
  },
  {
   "cell_type": "code",
   "execution_count": 9,
   "id": "d6bf6a6c-82fc-4da4-b339-9f9c1f5f545e",
   "metadata": {
    "execution": {
     "iopub.execute_input": "2024-03-29T17:05:06.591278Z",
     "iopub.status.busy": "2024-03-29T17:05:06.590279Z",
     "iopub.status.idle": "2024-03-29T17:05:15.565351Z",
     "shell.execute_reply": "2024-03-29T17:05:15.563960Z",
     "shell.execute_reply.started": "2024-03-29T17:05:06.591278Z"
    }
   },
   "outputs": [
    {
     "name": "stdout",
     "output_type": "stream",
     "text": [
      "Saved to file at 'data\\performance_input\\performanceTest7_1HorizonDays_1000Requests_0.json'\n",
      "Saved to file at 'data\\performance_input\\performanceTest7_1HorizonDays_1000Requests_1.json'\n",
      "Saved to file at 'data\\performance_input\\performanceTest7_1HorizonDays_1000Requests_2.json'\n",
      "Saved to file at 'data\\performance_input\\performanceTest7_1HorizonDays_1000Requests_3.json'\n",
      "Saved to file at 'data\\performance_input\\performanceTest7_1HorizonDays_1000Requests_4.json'\n",
      "Saved to file at 'data\\performance_input\\performanceTest7_1HorizonDays_1000Requests_5.json'\n",
      "Saved to file at 'data\\performance_input\\performanceTest7_1HorizonDays_1000Requests_6.json'\n",
      "Saved to file at 'data\\performance_input\\performanceTest7_1HorizonDays_1000Requests_7.json'\n",
      "Saved to file at 'data\\performance_input\\performanceTest7_1HorizonDays_1000Requests_8.json'\n",
      "Saved to file at 'data\\performance_input\\performanceTest7_1HorizonDays_1000Requests_9.json'\n",
      "Saved to file at 'data\\performance_input\\performanceTest7_2HorizonDays_1000Requests_0.json'\n",
      "Saved to file at 'data\\performance_input\\performanceTest7_2HorizonDays_1000Requests_1.json'\n",
      "Saved to file at 'data\\performance_input\\performanceTest7_2HorizonDays_1000Requests_2.json'\n",
      "Saved to file at 'data\\performance_input\\performanceTest7_2HorizonDays_1000Requests_3.json'\n",
      "Saved to file at 'data\\performance_input\\performanceTest7_2HorizonDays_1000Requests_4.json'\n",
      "Saved to file at 'data\\performance_input\\performanceTest7_2HorizonDays_1000Requests_5.json'\n",
      "Saved to file at 'data\\performance_input\\performanceTest7_2HorizonDays_1000Requests_6.json'\n",
      "Saved to file at 'data\\performance_input\\performanceTest7_2HorizonDays_1000Requests_7.json'\n",
      "Saved to file at 'data\\performance_input\\performanceTest7_2HorizonDays_1000Requests_8.json'\n",
      "Saved to file at 'data\\performance_input\\performanceTest7_2HorizonDays_1000Requests_9.json'\n",
      "Saved to file at 'data\\performance_input\\performanceTest7_3HorizonDays_1000Requests_0.json'\n",
      "Saved to file at 'data\\performance_input\\performanceTest7_3HorizonDays_1000Requests_1.json'\n",
      "Saved to file at 'data\\performance_input\\performanceTest7_3HorizonDays_1000Requests_2.json'\n",
      "Saved to file at 'data\\performance_input\\performanceTest7_3HorizonDays_1000Requests_3.json'\n",
      "Saved to file at 'data\\performance_input\\performanceTest7_3HorizonDays_1000Requests_4.json'\n",
      "Saved to file at 'data\\performance_input\\performanceTest7_3HorizonDays_1000Requests_5.json'\n",
      "Saved to file at 'data\\performance_input\\performanceTest7_3HorizonDays_1000Requests_6.json'\n",
      "Saved to file at 'data\\performance_input\\performanceTest7_3HorizonDays_1000Requests_7.json'\n",
      "Saved to file at 'data\\performance_input\\performanceTest7_3HorizonDays_1000Requests_8.json'\n",
      "Saved to file at 'data\\performance_input\\performanceTest7_3HorizonDays_1000Requests_9.json'\n",
      "Saved to file at 'data\\performance_input\\performanceTest7_4HorizonDays_1000Requests_0.json'\n",
      "Saved to file at 'data\\performance_input\\performanceTest7_4HorizonDays_1000Requests_1.json'\n",
      "Saved to file at 'data\\performance_input\\performanceTest7_4HorizonDays_1000Requests_2.json'\n",
      "Saved to file at 'data\\performance_input\\performanceTest7_4HorizonDays_1000Requests_3.json'\n",
      "Saved to file at 'data\\performance_input\\performanceTest7_4HorizonDays_1000Requests_4.json'\n",
      "Saved to file at 'data\\performance_input\\performanceTest7_4HorizonDays_1000Requests_5.json'\n",
      "Saved to file at 'data\\performance_input\\performanceTest7_4HorizonDays_1000Requests_6.json'\n",
      "Saved to file at 'data\\performance_input\\performanceTest7_4HorizonDays_1000Requests_7.json'\n",
      "Saved to file at 'data\\performance_input\\performanceTest7_4HorizonDays_1000Requests_8.json'\n",
      "Saved to file at 'data\\performance_input\\performanceTest7_4HorizonDays_1000Requests_9.json'\n",
      "Saved to file at 'data\\performance_input\\performanceTest7_5HorizonDays_1000Requests_0.json'\n",
      "Saved to file at 'data\\performance_input\\performanceTest7_5HorizonDays_1000Requests_1.json'\n",
      "Saved to file at 'data\\performance_input\\performanceTest7_5HorizonDays_1000Requests_2.json'\n",
      "Saved to file at 'data\\performance_input\\performanceTest7_5HorizonDays_1000Requests_3.json'\n",
      "Saved to file at 'data\\performance_input\\performanceTest7_5HorizonDays_1000Requests_4.json'\n",
      "Saved to file at 'data\\performance_input\\performanceTest7_5HorizonDays_1000Requests_5.json'\n",
      "Saved to file at 'data\\performance_input\\performanceTest7_5HorizonDays_1000Requests_6.json'\n",
      "Saved to file at 'data\\performance_input\\performanceTest7_5HorizonDays_1000Requests_7.json'\n",
      "Saved to file at 'data\\performance_input\\performanceTest7_5HorizonDays_1000Requests_8.json'\n",
      "Saved to file at 'data\\performance_input\\performanceTest7_5HorizonDays_1000Requests_9.json'\n",
      "Saved to file at 'data\\performance_input\\performanceTest7_6HorizonDays_1000Requests_0.json'\n",
      "Saved to file at 'data\\performance_input\\performanceTest7_6HorizonDays_1000Requests_1.json'\n",
      "Saved to file at 'data\\performance_input\\performanceTest7_6HorizonDays_1000Requests_2.json'\n",
      "Saved to file at 'data\\performance_input\\performanceTest7_6HorizonDays_1000Requests_3.json'\n",
      "Saved to file at 'data\\performance_input\\performanceTest7_6HorizonDays_1000Requests_4.json'\n",
      "Saved to file at 'data\\performance_input\\performanceTest7_6HorizonDays_1000Requests_5.json'\n",
      "Saved to file at 'data\\performance_input\\performanceTest7_6HorizonDays_1000Requests_6.json'\n",
      "Saved to file at 'data\\performance_input\\performanceTest7_6HorizonDays_1000Requests_7.json'\n",
      "Saved to file at 'data\\performance_input\\performanceTest7_6HorizonDays_1000Requests_8.json'\n",
      "Saved to file at 'data\\performance_input\\performanceTest7_6HorizonDays_1000Requests_9.json'\n",
      "Saved to file at 'data\\performance_input\\performanceTest7_7HorizonDays_1000Requests_0.json'\n",
      "Saved to file at 'data\\performance_input\\performanceTest7_7HorizonDays_1000Requests_1.json'\n",
      "Saved to file at 'data\\performance_input\\performanceTest7_7HorizonDays_1000Requests_2.json'\n",
      "Saved to file at 'data\\performance_input\\performanceTest7_7HorizonDays_1000Requests_3.json'\n",
      "Saved to file at 'data\\performance_input\\performanceTest7_7HorizonDays_1000Requests_4.json'\n",
      "Saved to file at 'data\\performance_input\\performanceTest7_7HorizonDays_1000Requests_5.json'\n",
      "Saved to file at 'data\\performance_input\\performanceTest7_7HorizonDays_1000Requests_6.json'\n",
      "Saved to file at 'data\\performance_input\\performanceTest7_7HorizonDays_1000Requests_7.json'\n",
      "Saved to file at 'data\\performance_input\\performanceTest7_7HorizonDays_1000Requests_8.json'\n",
      "Saved to file at 'data\\performance_input\\performanceTest7_7HorizonDays_1000Requests_9.json'\n",
      "Saved to file at 'data\\performance_input\\performanceTest7_8HorizonDays_1000Requests_0.json'\n",
      "Saved to file at 'data\\performance_input\\performanceTest7_8HorizonDays_1000Requests_1.json'\n",
      "Saved to file at 'data\\performance_input\\performanceTest7_8HorizonDays_1000Requests_2.json'\n",
      "Saved to file at 'data\\performance_input\\performanceTest7_8HorizonDays_1000Requests_3.json'\n",
      "Saved to file at 'data\\performance_input\\performanceTest7_8HorizonDays_1000Requests_4.json'\n",
      "Saved to file at 'data\\performance_input\\performanceTest7_8HorizonDays_1000Requests_5.json'\n",
      "Saved to file at 'data\\performance_input\\performanceTest7_8HorizonDays_1000Requests_6.json'\n",
      "Saved to file at 'data\\performance_input\\performanceTest7_8HorizonDays_1000Requests_7.json'\n",
      "Saved to file at 'data\\performance_input\\performanceTest7_8HorizonDays_1000Requests_8.json'\n",
      "Saved to file at 'data\\performance_input\\performanceTest7_8HorizonDays_1000Requests_9.json'\n",
      "Saved to file at 'data\\performance_input\\performanceTest7_9HorizonDays_1000Requests_0.json'\n",
      "Saved to file at 'data\\performance_input\\performanceTest7_9HorizonDays_1000Requests_1.json'\n",
      "Saved to file at 'data\\performance_input\\performanceTest7_9HorizonDays_1000Requests_2.json'\n",
      "Saved to file at 'data\\performance_input\\performanceTest7_9HorizonDays_1000Requests_3.json'\n",
      "Saved to file at 'data\\performance_input\\performanceTest7_9HorizonDays_1000Requests_4.json'\n",
      "Saved to file at 'data\\performance_input\\performanceTest7_9HorizonDays_1000Requests_5.json'\n",
      "Saved to file at 'data\\performance_input\\performanceTest7_9HorizonDays_1000Requests_6.json'\n",
      "Saved to file at 'data\\performance_input\\performanceTest7_9HorizonDays_1000Requests_7.json'\n",
      "Saved to file at 'data\\performance_input\\performanceTest7_9HorizonDays_1000Requests_8.json'\n",
      "Saved to file at 'data\\performance_input\\performanceTest7_9HorizonDays_1000Requests_9.json'\n",
      "Saved to file at 'data\\performance_input\\performanceTest7_10HorizonDays_1000Requests_0.json'\n",
      "Saved to file at 'data\\performance_input\\performanceTest7_10HorizonDays_1000Requests_1.json'\n",
      "Saved to file at 'data\\performance_input\\performanceTest7_10HorizonDays_1000Requests_2.json'\n",
      "Saved to file at 'data\\performance_input\\performanceTest7_10HorizonDays_1000Requests_3.json'\n",
      "Saved to file at 'data\\performance_input\\performanceTest7_10HorizonDays_1000Requests_4.json'\n",
      "Saved to file at 'data\\performance_input\\performanceTest7_10HorizonDays_1000Requests_5.json'\n",
      "Saved to file at 'data\\performance_input\\performanceTest7_10HorizonDays_1000Requests_6.json'\n",
      "Saved to file at 'data\\performance_input\\performanceTest7_10HorizonDays_1000Requests_7.json'\n",
      "Saved to file at 'data\\performance_input\\performanceTest7_10HorizonDays_1000Requests_8.json'\n",
      "Saved to file at 'data\\performance_input\\performanceTest7_10HorizonDays_1000Requests_9.json'\n"
     ]
    }
   ],
   "source": [
    "for horizon_days in [1, 2, 3, 4, 5, 6, 7, 8, 9, 10] :\n",
    "    for num_requests in [1000]:\n",
    "        for i in range(num_repeats):\n",
    "            rg = RequestGeneratorV3(i, horizon_days=horizon_days)\n",
    "            rg.generate_single_request_injection(0, num_requests)\n",
    "            filename = \"performanceTest7_{}HorizonDays_{}Requests_{}.json\".format(horizon_days, num_requests, i)\n",
    "            rg.save_to_file(\"data\", \"performance_input\", filename)"
   ]
  },
  {
   "cell_type": "markdown",
   "id": "29984108-9680-47ac-b4ee-4e588fa82290",
   "metadata": {},
   "source": [
    "# Variable Window Test"
   ]
  },
  {
   "cell_type": "markdown",
   "id": "1aa07f10-8da8-4637-8eff-be7d6974a4c9",
   "metadata": {},
   "source": [
    "Conditions for the Variable Window Test (and for the Priority Banding Test):\n",
    "* Preload majority of the requests at the beginning, in one injection\n",
    "* Load a small amount of requests in on a regular basis, to simulate a dynamic and overloaded scheduler\n",
    "* Make sure that the requests are extending past the Simulator Horizon (which potentially needs to be distinct from the Scheduler Horizon)\n",
    "  * Do we need to simulate an entire observing semester? If so, is there a way of simplifying this? Are we satisfied with just a week, or two weeks?\n",
    "* Add in random closures of the telescopes, based on weather. See if there is some historical data for how much the telescopes are actually open."
   ]
  },
  {
   "cell_type": "code",
   "execution_count": 15,
   "id": "0bfde2c2-dc7e-4dff-8909-6d7cd4173403",
   "metadata": {
    "execution": {
     "iopub.execute_input": "2024-02-26T15:33:53.536411Z",
     "iopub.status.busy": "2024-02-26T15:33:53.535019Z",
     "iopub.status.idle": "2024-02-26T15:33:53.558671Z",
     "shell.execute_reply": "2024-02-26T15:33:53.556557Z",
     "shell.execute_reply.started": "2024-02-26T15:33:53.536411Z"
    }
   },
   "outputs": [
    {
     "name": "stdout",
     "output_type": "stream",
     "text": [
      "Bulk Requests: 70\n",
      "Remaining Requests: 30\n",
      "30 10 3 0\n",
      "Injections: [3, 3, 3, 3, 3, 3, 3, 3, 3, 3]\n",
      "30\n"
     ]
    }
   ],
   "source": [
    "num_scenarios = 3\n",
    "total_num_requests = 100\n",
    "bulk_fraction = 0.7\n",
    "num_injections = 10\n",
    "\n",
    "def split_requests(num_requests, num_splits):\n",
    "    # print(num_requests, num_splits)\n",
    "    split_size = int(num_requests / num_splits)\n",
    "    remainder = num_requests % num_splits\n",
    "    print(num_requests, num_splits, split_size, remainder)\n",
    "    splits = []\n",
    "    for i in range(num_splits):\n",
    "        if i < remainder:\n",
    "            splits.append(split_size + 1)\n",
    "        else:\n",
    "            splits.append(split_size)\n",
    "    return splits\n",
    "\n",
    "bulk_request_num = round(total_num_requests * bulk_fraction)\n",
    "print(\"Bulk Requests:\", bulk_request_num)\n",
    "remaining_request_num = round(total_num_requests * (1 - bulk_fraction))\n",
    "print(\"Remaining Requests:\", remaining_request_num)\n",
    "injections = split_requests(remaining_request_num, num_injections)\n",
    "print(\"Injections:\", injections)\n",
    "print(sum(injections))"
   ]
  },
  {
   "cell_type": "code",
   "execution_count": 16,
   "id": "38947deb-1257-4cc4-bcac-7220796a8aa0",
   "metadata": {
    "execution": {
     "iopub.execute_input": "2024-02-26T15:33:54.952542Z",
     "iopub.status.busy": "2024-02-26T15:33:54.951137Z",
     "iopub.status.idle": "2024-02-26T15:33:55.187090Z",
     "shell.execute_reply": "2024-02-26T15:33:55.185512Z",
     "shell.execute_reply.started": "2024-02-26T15:33:54.951538Z"
    }
   },
   "outputs": [
    {
     "name": "stdout",
     "output_type": "stream",
     "text": [
      "30 10 3 0\n",
      "Saved to file at 'variableWindows_input\\variableWindowsTest_0.json'\n",
      "30 10 3 0\n",
      "Saved to file at 'variableWindows_input\\variableWindowsTest_1.json'\n",
      "30 10 3 0\n",
      "Saved to file at 'variableWindows_input\\variableWindowsTest_2.json'\n"
     ]
    }
   ],
   "source": [
    "for i in range(num_scenarios):\n",
    "    random.seed(i)\n",
    "    rg = RequestGeneratorV3(num_telescopes=2)\n",
    "    # Generate upfront bulk request injection\n",
    "    rg.generate_single_request_injection(0, bulk_request_num)\n",
    "    injection_time = 0\n",
    "    for request_num in split_requests(remaining_request_num, num_injections):\n",
    "        injection_time += 60*60*3 # Space injections by 3 hours - WHY??? No reason currently.\n",
    "        rg.generate_single_request_injection(injection_time, request_num)\n",
    "    filename = \"variableWindowsTest_{}.json\".format(i)\n",
    "    rg.save_to_file(filename, \"variableWindows_input\")"
   ]
  },
  {
   "cell_type": "markdown",
   "id": "b6752e87-5e50-4cfe-a11c-c975d13f608d",
   "metadata": {},
   "source": [
    "# Testing"
   ]
  },
  {
   "cell_type": "code",
   "execution_count": 4,
   "id": "fe313100-2e55-4010-b80e-2a8beb6b74c4",
   "metadata": {
    "execution": {
     "iopub.execute_input": "2024-02-20T12:05:27.487771Z",
     "iopub.status.busy": "2024-02-20T12:05:27.486773Z",
     "iopub.status.idle": "2024-02-20T12:05:27.505580Z",
     "shell.execute_reply": "2024-02-20T12:05:27.504582Z",
     "shell.execute_reply.started": "2024-02-20T12:05:27.487771Z"
    }
   },
   "outputs": [],
   "source": [
    "obs_data = json.load(open(\"../archive_scraper/observation_patterns_v2.json\", \"r\"))"
   ]
  },
  {
   "cell_type": "code",
   "execution_count": 5,
   "id": "befd4363-ec83-4e71-b2bc-783287272967",
   "metadata": {
    "execution": {
     "iopub.execute_input": "2024-02-20T12:05:28.929618Z",
     "iopub.status.busy": "2024-02-20T12:05:28.928617Z",
     "iopub.status.idle": "2024-02-20T12:05:28.942178Z",
     "shell.execute_reply": "2024-02-20T12:05:28.941179Z",
     "shell.execute_reply.started": "2024-02-20T12:05:28.929618Z"
    }
   },
   "outputs": [],
   "source": [
    "sorted_obs_data = sorted(obs_data.values(), key=lambda x: x[\"cumulative_probability\"])"
   ]
  },
  {
   "cell_type": "code",
   "execution_count": 10,
   "id": "8d49e0e1-4abc-4a0e-b00a-b7f96f20f9f2",
   "metadata": {
    "execution": {
     "iopub.execute_input": "2024-02-20T12:05:49.410650Z",
     "iopub.status.busy": "2024-02-20T12:05:49.409656Z",
     "iopub.status.idle": "2024-02-20T12:05:49.424310Z",
     "shell.execute_reply": "2024-02-20T12:05:49.423312Z",
     "shell.execute_reply.started": "2024-02-20T12:05:49.410650Z"
    }
   },
   "outputs": [
    {
     "name": "stdout",
     "output_type": "stream",
     "text": [
      "[1800.0, 60.0, 20.0]\n",
      "1880.0\n"
     ]
    }
   ],
   "source": [
    "rnum = random.random()\n",
    "\n",
    "for p in sorted_obs_data:\n",
    "    if rnum < p[\"cumulative_probability\"]:\n",
    "        print(p[\"pattern\"])\n",
    "        print(sum(p[\"pattern\"]))\n",
    "        break"
   ]
  },
  {
   "cell_type": "code",
   "execution_count": 7,
   "id": "29ac1dcb-0a4b-41d6-b361-aaf9b78140c6",
   "metadata": {
    "execution": {
     "iopub.execute_input": "2024-02-20T12:05:33.156623Z",
     "iopub.status.busy": "2024-02-20T12:05:33.155625Z",
     "iopub.status.idle": "2024-02-20T12:05:33.169510Z",
     "shell.execute_reply": "2024-02-20T12:05:33.168513Z",
     "shell.execute_reply.started": "2024-02-20T12:05:33.156623Z"
    }
   },
   "outputs": [
    {
     "data": {
      "text/plain": [
       "{'pattern': [200.0],\n",
       " 'count': 197,\n",
       " 'cumulative_probability': 0.08011386742578284}"
      ]
     },
     "execution_count": 7,
     "metadata": {},
     "output_type": "execute_result"
    }
   ],
   "source": [
    "sorted_obs_data[0]"
   ]
  },
  {
   "cell_type": "code",
   "execution_count": 16,
   "id": "b1cbc18d-a106-4c0e-9aa3-b380dc35833f",
   "metadata": {
    "execution": {
     "iopub.execute_input": "2024-02-20T12:25:29.396958Z",
     "iopub.status.busy": "2024-02-20T12:25:29.395959Z",
     "iopub.status.idle": "2024-02-20T12:25:29.409997Z",
     "shell.execute_reply": "2024-02-20T12:25:29.408010Z",
     "shell.execute_reply.started": "2024-02-20T12:25:29.396958Z"
    }
   },
   "outputs": [],
   "source": [
    "a = []\n",
    "for p in sorted_obs_data:\n",
    "    # print(sum(p[\"pattern\"]))\n",
    "    a.append(sum(p[\"pattern\"]))"
   ]
  },
  {
   "cell_type": "code",
   "execution_count": 13,
   "id": "904bed2b-1d2f-473a-96fa-a88766d0c8c0",
   "metadata": {
    "execution": {
     "iopub.execute_input": "2024-02-20T12:24:25.133980Z",
     "iopub.status.busy": "2024-02-20T12:24:25.132981Z",
     "iopub.status.idle": "2024-02-20T12:24:25.152942Z",
     "shell.execute_reply": "2024-02-20T12:24:25.152942Z",
     "shell.execute_reply.started": "2024-02-20T12:24:25.133980Z"
    }
   },
   "outputs": [
    {
     "data": {
      "text/plain": [
       "10080.0"
      ]
     },
     "execution_count": 13,
     "metadata": {},
     "output_type": "execute_result"
    }
   ],
   "source": [
    "max(a)"
   ]
  },
  {
   "cell_type": "code",
   "execution_count": 14,
   "id": "66fdba71-ce1e-4534-b793-3ec3be4ac731",
   "metadata": {
    "execution": {
     "iopub.execute_input": "2024-02-20T12:24:27.400628Z",
     "iopub.status.busy": "2024-02-20T12:24:27.399630Z",
     "iopub.status.idle": "2024-02-20T12:24:27.409360Z",
     "shell.execute_reply": "2024-02-20T12:24:27.408359Z",
     "shell.execute_reply.started": "2024-02-20T12:24:27.400628Z"
    }
   },
   "outputs": [
    {
     "data": {
      "text/plain": [
       "0.0"
      ]
     },
     "execution_count": 14,
     "metadata": {},
     "output_type": "execute_result"
    }
   ],
   "source": [
    "min(a)"
   ]
  },
  {
   "cell_type": "code",
   "execution_count": 22,
   "id": "e419b7fd-674f-4127-b356-bd3db1d71572",
   "metadata": {
    "execution": {
     "iopub.execute_input": "2024-02-20T12:25:59.885112Z",
     "iopub.status.busy": "2024-02-20T12:25:59.883119Z",
     "iopub.status.idle": "2024-02-20T12:25:59.900290Z",
     "shell.execute_reply": "2024-02-20T12:25:59.899285Z",
     "shell.execute_reply.started": "2024-02-20T12:25:59.885112Z"
    }
   },
   "outputs": [
    {
     "data": {
      "text/plain": [
       "440.0"
      ]
     },
     "execution_count": 22,
     "metadata": {},
     "output_type": "execute_result"
    }
   ],
   "source": [
    "np.percentile(a, 25)"
   ]
  },
  {
   "cell_type": "code",
   "execution_count": 15,
   "id": "21bc139d-a895-4373-8441-af3add9e4f8a",
   "metadata": {
    "execution": {
     "iopub.execute_input": "2024-02-20T12:24:33.025259Z",
     "iopub.status.busy": "2024-02-20T12:24:33.024261Z",
     "iopub.status.idle": "2024-02-20T12:24:33.038533Z",
     "shell.execute_reply": "2024-02-20T12:24:33.037534Z",
     "shell.execute_reply.started": "2024-02-20T12:24:33.025259Z"
    }
   },
   "outputs": [
    {
     "data": {
      "text/plain": [
       "86400"
      ]
     },
     "execution_count": 15,
     "metadata": {},
     "output_type": "execute_result"
    }
   ],
   "source": [
    "24*60*60"
   ]
  },
  {
   "cell_type": "code",
   "execution_count": 53,
   "id": "0316bb3c-b022-45e7-ad35-60c94b647e6e",
   "metadata": {
    "execution": {
     "iopub.execute_input": "2024-02-20T12:34:05.064540Z",
     "iopub.status.busy": "2024-02-20T12:34:05.062545Z",
     "iopub.status.idle": "2024-02-20T12:34:05.077591Z",
     "shell.execute_reply": "2024-02-20T12:34:05.076587Z",
     "shell.execute_reply.started": "2024-02-20T12:34:05.064540Z"
    }
   },
   "outputs": [],
   "source": [
    "def get_pattern():\n",
    "    rnum = random.random()\n",
    "    for p in sorted_obs_data:\n",
    "        if rnum < p[\"cumulative_probability\"]:\n",
    "        # print(p[\"pattern\"])\n",
    "        # print(sum(p[\"pattern\"]))\n",
    "            return sum(p[\"pattern\"])"
   ]
  },
  {
   "cell_type": "code",
   "execution_count": 54,
   "id": "df0ca3ab-bfb6-4e61-a0e7-61f2f473766b",
   "metadata": {
    "execution": {
     "iopub.execute_input": "2024-02-20T12:34:05.293469Z",
     "iopub.status.busy": "2024-02-20T12:34:05.292466Z",
     "iopub.status.idle": "2024-02-20T12:34:05.307897Z",
     "shell.execute_reply": "2024-02-20T12:34:05.305901Z",
     "shell.execute_reply.started": "2024-02-20T12:34:05.293469Z"
    }
   },
   "outputs": [],
   "source": [
    "def generate_req():\n",
    "    pattern = get_pattern()\n",
    "    awlength = round(((random.random() * 10) + 1) * pattern)\n",
    "    return (pattern, awlength)"
   ]
  },
  {
   "cell_type": "code",
   "execution_count": 56,
   "id": "07077de5-70a8-426c-82fa-45418201d95d",
   "metadata": {
    "execution": {
     "iopub.execute_input": "2024-02-20T12:34:18.593381Z",
     "iopub.status.busy": "2024-02-20T12:34:18.592353Z",
     "iopub.status.idle": "2024-02-20T12:34:18.604230Z",
     "shell.execute_reply": "2024-02-20T12:34:18.603274Z",
     "shell.execute_reply.started": "2024-02-20T12:34:18.593381Z"
    }
   },
   "outputs": [
    {
     "name": "stdout",
     "output_type": "stream",
     "text": [
      "(190.0, 863)\n",
      "(240.0, 2563)\n",
      "(3400.0, 36338)\n",
      "(270.0, 1316)\n",
      "(2400.0, 24252)\n",
      "(684.0, 4380)\n",
      "(480.0, 1531)\n",
      "(190.0, 1365)\n",
      "(6490.0, 45771)\n",
      "(490.0, 3985)\n",
      "(200.0, 1109)\n",
      "(1800.0, 3481)\n",
      "(3700.0, 20982)\n",
      "(80.0, 813)\n",
      "(300.0, 430)\n",
      "(60.0, 522)\n",
      "(300.0, 664)\n",
      "(4900.0, 11989)\n",
      "(480.0, 4531)\n",
      "(4900.0, 5895)\n",
      "(420.0, 2423)\n",
      "(4910.0, 23411)\n",
      "(1900.0, 13391)\n",
      "(360.0, 3407)\n",
      "(120.0, 365)\n",
      "(4900.0, 28692)\n",
      "(2240.0, 23228)\n",
      "(190.0, 1683)\n",
      "(540.0, 887)\n",
      "(120.0, 401)\n",
      "(900.0, 3093)\n",
      "(600.0, 924)\n",
      "(300.0, 2271)\n",
      "(300.0, 812)\n",
      "(200.0, 256)\n",
      "(390.0, 408)\n",
      "(2000.0, 15588)\n",
      "(200.0, 1223)\n",
      "(560.0, 1559)\n",
      "(600.0, 2770)\n",
      "(3700.0, 7939)\n",
      "(200.0, 2124)\n",
      "(900.0, 3146)\n",
      "(3600.0, 14451)\n",
      "(80.0, 249)\n",
      "(155.0, 861)\n",
      "(240.0, 656)\n",
      "(560.0, 4104)\n",
      "(3400.0, 31555)\n",
      "(600.0, 2997)\n",
      "(2400.0, 17720)\n",
      "(560.0, 3844)\n",
      "(1800.0, 11336)\n",
      "(3720.0, 38732)\n",
      "(2000.0, 19223)\n",
      "(150.0, 1379)\n",
      "(190.0, 506)\n",
      "(285.0, 1255)\n",
      "(6470.0, 64438)\n",
      "(60.0, 419)\n",
      "(60.0, 639)\n",
      "(1400.0, 6453)\n",
      "(115.0, 543)\n",
      "(600.0, 5501)\n",
      "(3700.0, 24435)\n",
      "(3700.0, 25415)\n",
      "(2260.0, 14332)\n",
      "(6470.0, 66148)\n",
      "(1640.0, 13610)\n",
      "(1800.0, 3109)\n",
      "(5852.0, 8535)\n",
      "(180.0, 1957)\n",
      "(3600.0, 31160)\n",
      "(600.0, 3410)\n",
      "(120.0, 611)\n",
      "(480.0, 1726)\n",
      "(150.0, 1449)\n",
      "(600.0, 5400)\n",
      "(190.0, 1965)\n",
      "(600.0, 1722)\n",
      "(2400.0, 19812)\n",
      "(2800.0, 9006)\n",
      "(90.0, 337)\n",
      "(600.0, 3096)\n",
      "(30.0, 185)\n",
      "(6490.0, 60192)\n",
      "(450.0, 4446)\n",
      "(360.0, 2744)\n",
      "(600.0, 5829)\n",
      "(200.0, 1283)\n",
      "(2260.0, 10996)\n",
      "(2250.0, 2506)\n",
      "(200.0, 1956)\n",
      "(1000.0, 10936)\n",
      "(600.0, 1746)\n",
      "(190.0, 285)\n",
      "(600.0, 4268)\n",
      "(600.0, 3145)\n",
      "(450.0, 3258)\n",
      "(2400.0, 21434)\n"
     ]
    }
   ],
   "source": [
    "for i in range(100):\n",
    "    print(generate_req())"
   ]
  },
  {
   "cell_type": "code",
   "execution_count": null,
   "id": "7ee9a678-0f80-463d-892f-e472b4629aa0",
   "metadata": {},
   "outputs": [],
   "source": []
  },
  {
   "cell_type": "code",
   "execution_count": null,
   "id": "54e5da71-1d8f-4b86-baaa-7a6092c00efc",
   "metadata": {},
   "outputs": [],
   "source": []
  }
 ],
 "metadata": {
  "kernelspec": {
   "display_name": "Python 3 (ipykernel)",
   "language": "python",
   "name": "python3"
  },
  "language_info": {
   "codemirror_mode": {
    "name": "ipython",
    "version": 3
   },
   "file_extension": ".py",
   "mimetype": "text/x-python",
   "name": "python",
   "nbconvert_exporter": "python",
   "pygments_lexer": "ipython3",
   "version": "3.11.4"
  }
 },
 "nbformat": 4,
 "nbformat_minor": 5
}
