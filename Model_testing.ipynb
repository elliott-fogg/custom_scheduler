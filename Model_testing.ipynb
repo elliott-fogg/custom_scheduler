{
 "cells": [
  {
   "cell_type": "code",
   "execution_count": 170,
   "id": "2bfad5a4",
   "metadata": {
    "ExecuteTime": {
     "end_time": "2023-07-04T15:21:41.114975Z",
     "start_time": "2023-07-04T15:21:40.858961Z"
    }
   },
   "outputs": [],
   "source": [
    "from gurobipy import Model, GRB, tuplelist, quicksum\n",
    "import json\n",
    "import random\n",
    "\n",
    "random.seed(3)"
   ]
  },
  {
   "cell_type": "code",
   "execution_count": 171,
   "id": "8b3cb33d",
   "metadata": {},
   "outputs": [
    {
     "name": "stdout",
     "output_type": "stream",
     "text": [
      "['t1']\n",
      "[0, 1, 2, 3, 4, 5, 6, 7, 8, 9]\n"
     ]
    }
   ],
   "source": [
    "resources = [\"t1\"] # ,\"t2\", \"t3\"]\n",
    "timeslices = [i for i in range(10)]\n",
    "print(resources)\n",
    "print(timeslices)"
   ]
  },
  {
   "cell_type": "code",
   "execution_count": 172,
   "id": "7e2a0856-9a8e-4167-ab40-e8aec341f6e3",
   "metadata": {},
   "outputs": [
    {
     "name": "stdout",
     "output_type": "stream",
     "text": [
      "{'t1': [0, 1, 4, 5, 6, 7, 9]}\n"
     ]
    }
   ],
   "source": [
    "# Generate random availability for each resource\n",
    "# For each resource, knock out 3 random hours\n",
    "resource_slices = {}\n",
    "for r in resources:\n",
    "    empty_hours = random.sample(timeslices, 3)\n",
    "    resource_slices[r] = [i for i in timeslices if i not in empty_hours]\n",
    "print(resource_slices)"
   ]
  },
  {
   "cell_type": "code",
   "execution_count": 207,
   "id": "4bbd7c74-97d2-4736-91a7-17218f8b4dd7",
   "metadata": {},
   "outputs": [
    {
     "name": "stdout",
     "output_type": "stream",
     "text": [
      "(0, {'window_start': 1, 'window_end': 5, 'length': 1, 'priority': 2})\n",
      "(1, {'window_start': 3, 'window_end': 7, 'length': 2, 'priority': 4})\n",
      "(2, {'window_start': 4, 'window_end': 6, 'length': 2, 'priority': 4})\n",
      "(3, {'window_start': 5, 'window_end': 9, 'length': 3, 'priority': 5})\n",
      "(4, {'window_start': 6, 'window_end': 9, 'length': 1, 'priority': 3})\n",
      "(5, {'window_start': 0, 'window_end': 4, 'length': 3, 'priority': 2})\n",
      "(6, {'window_start': 5, 'window_end': 8, 'length': 3, 'priority': 5})\n",
      "(7, {'window_start': 1, 'window_end': 3, 'length': 2, 'priority': 5})\n",
      "(8, {'window_start': 4, 'window_end': 4, 'length': 0, 'priority': 1})\n",
      "(9, {'window_start': 7, 'window_end': 7, 'length': 0, 'priority': 3})\n"
     ]
    }
   ],
   "source": [
    "# Generate random requests\n",
    "requests = {}\n",
    "num_requests = 10\n",
    "\n",
    "for i in range(num_requests):\n",
    "    t1 = random.randint(0, 9)\n",
    "    t2 = random.randint(0, 9)\n",
    "    start = min([t1, t2])\n",
    "    end = max([t1, t2])\n",
    "    length = min(random.randint(1, 3), end-start)\n",
    "    priority = random.randint(1, 5)\n",
    "    requests[i] = {\n",
    "            \"window_start\": start,\n",
    "            \"window_end\": end,\n",
    "            \"length\": length,\n",
    "            \"priority\": priority\n",
    "        }\n",
    "\n",
    "for r in requests.items():\n",
    "    print(r)"
   ]
  },
  {
   "cell_type": "code",
   "execution_count": 210,
   "id": "caaa82ac-70ac-4546-ad5d-8b9e4541cc19",
   "metadata": {},
   "outputs": [
    {
     "name": "stdout",
     "output_type": "stream",
     "text": [
      "0 1 5 1\n",
      "[1, 4, 5, 6, 7]\n",
      "\n",
      "1 3 7 2\n",
      "[4, 5, 6]\n",
      "\n",
      "2 4 6 2\n",
      "[4, 5, 6]\n",
      "\n",
      "3 5 9 3\n",
      "[5]\n",
      "\n",
      "4 6 9 1\n",
      "[6, 7]\n",
      "\n",
      "5 0 4 3\n",
      "[4, 5]\n",
      "\n",
      "6 5 8 3\n",
      "[5]\n",
      "\n",
      "7 1 3 2\n",
      "[4, 5, 6]\n",
      "\n",
      "8 4 4 0\n",
      "[4, 5, 6, 7]\n",
      "\n",
      "9 7 7 0\n",
      "[7]\n",
      "\n",
      "TEL-t1_ID-0_ST-1\n",
      "{'rid': 0, 'priority': 2, 'resource': 't1', 'start': 1}\n",
      "\n",
      "TEL-t1_ID-0_ST-4\n",
      "{'rid': 0, 'priority': 2, 'resource': 't1', 'start': 4}\n",
      "\n",
      "TEL-t1_ID-0_ST-5\n",
      "{'rid': 0, 'priority': 2, 'resource': 't1', 'start': 5}\n",
      "\n",
      "TEL-t1_ID-0_ST-6\n",
      "{'rid': 0, 'priority': 2, 'resource': 't1', 'start': 6}\n",
      "\n",
      "TEL-t1_ID-0_ST-7\n",
      "{'rid': 0, 'priority': 2, 'resource': 't1', 'start': 7}\n",
      "\n",
      "TEL-t1_ID-1_ST-4\n",
      "{'rid': 1, 'priority': 4, 'resource': 't1', 'start': 4}\n",
      "\n",
      "TEL-t1_ID-1_ST-5\n",
      "{'rid': 1, 'priority': 4, 'resource': 't1', 'start': 5}\n",
      "\n",
      "TEL-t1_ID-1_ST-6\n",
      "{'rid': 1, 'priority': 4, 'resource': 't1', 'start': 6}\n",
      "\n",
      "TEL-t1_ID-2_ST-4\n",
      "{'rid': 2, 'priority': 4, 'resource': 't1', 'start': 4}\n",
      "\n",
      "TEL-t1_ID-2_ST-5\n",
      "{'rid': 2, 'priority': 4, 'resource': 't1', 'start': 5}\n",
      "\n",
      "TEL-t1_ID-2_ST-6\n",
      "{'rid': 2, 'priority': 4, 'resource': 't1', 'start': 6}\n",
      "\n",
      "TEL-t1_ID-3_ST-5\n",
      "{'rid': 3, 'priority': 5, 'resource': 't1', 'start': 5}\n",
      "\n",
      "TEL-t1_ID-4_ST-6\n",
      "{'rid': 4, 'priority': 3, 'resource': 't1', 'start': 6}\n",
      "\n",
      "TEL-t1_ID-4_ST-7\n",
      "{'rid': 4, 'priority': 3, 'resource': 't1', 'start': 7}\n",
      "\n",
      "TEL-t1_ID-5_ST-4\n",
      "{'rid': 5, 'priority': 2, 'resource': 't1', 'start': 4}\n",
      "\n",
      "TEL-t1_ID-5_ST-5\n",
      "{'rid': 5, 'priority': 2, 'resource': 't1', 'start': 5}\n",
      "\n",
      "TEL-t1_ID-6_ST-5\n",
      "{'rid': 6, 'priority': 5, 'resource': 't1', 'start': 5}\n",
      "\n",
      "TEL-t1_ID-7_ST-4\n",
      "{'rid': 7, 'priority': 5, 'resource': 't1', 'start': 4}\n",
      "\n",
      "TEL-t1_ID-7_ST-5\n",
      "{'rid': 7, 'priority': 5, 'resource': 't1', 'start': 5}\n",
      "\n",
      "TEL-t1_ID-7_ST-6\n",
      "{'rid': 7, 'priority': 5, 'resource': 't1', 'start': 6}\n",
      "\n",
      "TEL-t1_ID-8_ST-4\n",
      "{'rid': 8, 'priority': 1, 'resource': 't1', 'start': 4}\n",
      "\n",
      "TEL-t1_ID-8_ST-5\n",
      "{'rid': 8, 'priority': 1, 'resource': 't1', 'start': 5}\n",
      "\n",
      "TEL-t1_ID-8_ST-6\n",
      "{'rid': 8, 'priority': 1, 'resource': 't1', 'start': 6}\n",
      "\n",
      "TEL-t1_ID-8_ST-7\n",
      "{'rid': 8, 'priority': 1, 'resource': 't1', 'start': 7}\n",
      "\n",
      "TEL-t1_ID-9_ST-7\n",
      "{'rid': 9, 'priority': 3, 'resource': 't1', 'start': 7}\n",
      "\n"
     ]
    }
   ],
   "source": [
    "# Translate Requests into widx slices\n",
    "slices = {}\n",
    "for rid in range(len(requests)):\n",
    "\n",
    "    r = requests[rid]\n",
    "    w_start = r[\"window_start\"]\n",
    "    w_end = r[\"window_end\"]\n",
    "    length = r[\"length\"]\n",
    "    priority = r[\"priority\"]\n",
    "\n",
    "    print(rid, w_start, w_end, length)\n",
    "    \n",
    "    for resource, hours in resource_slices.items():\n",
    "        # Determine if the current start can fit in the time slices for this resource\n",
    "        initial_window = range(w_start, end+1)\n",
    "        # print(initial_window)\n",
    "        overlap = [t for t in hours if t in initial_window]\n",
    "        # print(overlap)\n",
    "        possible_windows = []\n",
    "        for t1 in overlap:\n",
    "            valid = True\n",
    "            for section in range(length):\n",
    "                if (t1 + section) not in overlap:\n",
    "                    valid = False\n",
    "                    break\n",
    "            if valid:\n",
    "                possible_windows.append(t1)\n",
    "        print(possible_windows)\n",
    "        for w in possible_windows:\n",
    "            name = f\"TEL-{resource}_ID-{rid}_ST-{w}\"\n",
    "            wnum = w + section\n",
    "\n",
    "            slices[name] = {\n",
    "                \"rid\": rid,\n",
    "                \"priority\": priority,\n",
    "                \"resource\": resource,\n",
    "                \"start\": w\n",
    "            }\n",
    "\n",
    "    print()\n",
    "\n",
    "for s in slices:\n",
    "    print(s)\n",
    "    print(slices[s])\n",
    "    print()"
   ]
  },
  {
   "cell_type": "code",
   "execution_count": 202,
   "id": "6098d6fb-0614-4d8d-a414-376e209b068e",
   "metadata": {},
   "outputs": [],
   "source": [
    "m = Model(\"Test Schedule\")"
   ]
  },
  {
   "cell_type": "code",
   "execution_count": 203,
   "id": "d84241ee-aff2-41b4-a14c-bd7800e784e9",
   "metadata": {},
   "outputs": [],
   "source": [
    "requestLocations = tuplelist()\n",
    "scheduled_vars = []\n",
    "for r_name, r in slices.items():\n",
    "    var = m.addVar(vtype=GRB.BINARY, name=str(r_name))\n",
    "    scheduled_vars.append(var)\n",
    "    requestLocations.append((r[\"rid\"], r[\"wnum\"], r[\"priority\"], r[\"resource\"], r[\"start\"], var))\n",
    "\n",
    "m.update()"
   ]
  },
  {
   "cell_type": "code",
   "execution_count": 204,
   "id": "4b6df959-30b9-4959-8d70-ca81674f4075",
   "metadata": {},
   "outputs": [],
   "source": [
    "# I DON'T KNOW WHY WE NEED THIS ONE\n",
    "# for i, r in enumerate(slices):\n",
    "    # scheduled_vars[i].start = r[\"wnum\"]\n",
    "# m.update()"
   ]
  },
  {
   "cell_type": "code",
   "execution_count": 205,
   "id": "a6565ec9-2e5f-4f39-b561-69537db3f6a0",
   "metadata": {},
   "outputs": [],
   "source": [
    "# Constraint 1: One-of (only schedule one of these)\n",
    "# Are we going to include these constraints in our final model? If there's no special cases, then they just turn into \n",
    "# Constraint 4 (which is why there is a skip_constraint2 flag)."
   ]
  },
  {
   "cell_type": "code",
   "execution_count": 206,
   "id": "0b245482-6566-4e8e-b75b-2b9f1a377b97",
   "metadata": {},
   "outputs": [
    {
     "name": "stdout",
     "output_type": "stream",
     "text": [
      "0 t1 5\n",
      "<gurobi.tuplelist (2 tuples, 6 values each):\n",
      " ( 0 , 5 , 5 , t1 , 5 , <gurobi.Var t1_0_ST5_SEC0> )\n",
      " ( 0 , 6 , 5 , t1 , 5 , <gurobi.Var t1_0_ST5_SEC1> )\n",
      ">\n",
      "0 t1 6\n",
      "<gurobi.tuplelist (2 tuples, 6 values each):\n",
      " ( 0 , 6 , 5 , t1 , 6 , <gurobi.Var t1_0_ST6_SEC0> )\n",
      " ( 0 , 7 , 5 , t1 , 6 , <gurobi.Var t1_0_ST6_SEC1> )\n",
      ">\n",
      "1 t1 1\n",
      "<gurobi.tuplelist (1 tuples, 6 values each):\n",
      " ( 1 , 1 , 4 , t1 , 1 , <gurobi.Var t1_1_ST1_SEC0> )\n",
      ">\n",
      "1 t1 4\n",
      "<gurobi.tuplelist (1 tuples, 6 values each):\n",
      " ( 1 , 4 , 4 , t1 , 4 , <gurobi.Var t1_1_ST4_SEC0> )\n",
      ">\n",
      "1 t1 5\n",
      "<gurobi.tuplelist (1 tuples, 6 values each):\n",
      " ( 1 , 5 , 4 , t1 , 5 , <gurobi.Var t1_1_ST5_SEC0> )\n",
      ">\n",
      "1 t1 6\n",
      "<gurobi.tuplelist (1 tuples, 6 values each):\n",
      " ( 1 , 6 , 4 , t1 , 6 , <gurobi.Var t1_1_ST6_SEC0> )\n",
      ">\n",
      "1 t1 7\n",
      "<gurobi.tuplelist (1 tuples, 6 values each):\n",
      " ( 1 , 7 , 4 , t1 , 7 , <gurobi.Var t1_1_ST7_SEC0> )\n",
      ">\n",
      "1 t1 9\n",
      "<gurobi.tuplelist (1 tuples, 6 values each):\n",
      " ( 1 , 9 , 4 , t1 , 9 , <gurobi.Var t1_1_ST9_SEC0> )\n",
      ">\n",
      "2 t1 4\n",
      "<gurobi.tuplelist (1 tuples, 6 values each):\n",
      " ( 2 , 4 , 2 , t1 , 4 , <gurobi.Var t1_2_ST4_SEC0> )\n",
      ">\n",
      "2 t1 5\n",
      "<gurobi.tuplelist (1 tuples, 6 values each):\n",
      " ( 2 , 5 , 2 , t1 , 5 , <gurobi.Var t1_2_ST5_SEC0> )\n",
      ">\n",
      "2 t1 6\n",
      "<gurobi.tuplelist (1 tuples, 6 values each):\n",
      " ( 2 , 6 , 2 , t1 , 6 , <gurobi.Var t1_2_ST6_SEC0> )\n",
      ">\n",
      "2 t1 7\n",
      "<gurobi.tuplelist (1 tuples, 6 values each):\n",
      " ( 2 , 7 , 2 , t1 , 7 , <gurobi.Var t1_2_ST7_SEC0> )\n",
      ">\n",
      "3 t1 7\n",
      "<gurobi.tuplelist (1 tuples, 6 values each):\n",
      " ( 3 , 7 , 4 , t1 , 7 , <gurobi.Var t1_3_ST7_SEC0> )\n",
      ">\n",
      "4 t1 4\n",
      "<gurobi.tuplelist (1 tuples, 6 values each):\n",
      " ( 4 , 4 , 2 , t1 , 4 , <gurobi.Var t1_4_ST4_SEC0> )\n",
      ">\n",
      "4 t1 5\n",
      "<gurobi.tuplelist (1 tuples, 6 values each):\n",
      " ( 4 , 5 , 2 , t1 , 5 , <gurobi.Var t1_4_ST5_SEC0> )\n",
      ">\n",
      "4 t1 6\n",
      "<gurobi.tuplelist (1 tuples, 6 values each):\n",
      " ( 4 , 6 , 2 , t1 , 6 , <gurobi.Var t1_4_ST6_SEC0> )\n",
      ">\n",
      "5 t1 6\n",
      "<gurobi.tuplelist (2 tuples, 6 values each):\n",
      " ( 5 , 6 , 1 , t1 , 6 , <gurobi.Var t1_5_ST6_SEC0> )\n",
      " ( 5 , 7 , 1 , t1 , 6 , <gurobi.Var t1_5_ST6_SEC1> )\n",
      ">\n",
      "6 t1 1\n",
      "<gurobi.tuplelist (1 tuples, 6 values each):\n",
      " ( 6 , 1 , 1 , t1 , 1 , <gurobi.Var t1_6_ST1_SEC0> )\n",
      ">\n",
      "7 t1 0\n",
      "<gurobi.tuplelist (2 tuples, 6 values each):\n",
      " ( 7 , 0 , 4 , t1 , 0 , <gurobi.Var t1_7_ST0_SEC0> )\n",
      " ( 7 , 1 , 4 , t1 , 0 , <gurobi.Var t1_7_ST0_SEC1> )\n",
      ">\n",
      "9 t1 6\n",
      "<gurobi.tuplelist (2 tuples, 6 values each):\n",
      " ( 9 , 6 , 2 , t1 , 6 , <gurobi.Var t1_9_ST6_SEC0> )\n",
      " ( 9 , 7 , 2 , t1 , 6 , <gurobi.Var t1_9_ST6_SEC1> )\n",
      ">\n"
     ]
    }
   ],
   "source": [
    "# Constraint 2: And (only schedule if they can ALL be scheduled)\n",
    "# I'm going to use this to ensure that all of an observation is scheduled\n",
    "for rid in requests:\n",
    "    for start in timeslices:\n",
    "        for r in resources:\n",
    "            match = requestLocations.select(rid, '*', '*', r, start, '*')\n",
    "            if len(match) > 0:\n",
    "                print(rid, r, start)\n",
    "                print(match)\n",
    "                andVar = m.addVar(vtype=GRB.BINARY, name=f\"full_request_var_{rid}_{start}_{r}\")\n",
    "                m.update()\n",
    "                nscheduled = quicksum(isScheduled for rid, wnum, priority, resource, start, isScheduled in match)\n",
    "                m.addConstr(andVar == nscheduled, "
   ]
  },
  {
   "cell_type": "code",
   "execution_count": 196,
   "id": "9d8ada2c-17f5-4a3c-82dd-397f155d062a",
   "metadata": {},
   "outputs": [],
   "source": [
    "# Constraint 4: Each request only scheduled once\n",
    "for rid in requests:\n",
    "    match = requestLocations.select(rid, '*', '*', '*', '*', '*')\n",
    "    nscheduled = quicksum([isScheduled for reqid, wnum, priority, resource, start, isScheduled in match])\n",
    "    m.addConstr(nscheduled <= 1, f'one_per_reqid_constraint_{rid}')\n",
    "m.update()"
   ]
  },
  {
   "cell_type": "code",
   "execution_count": 197,
   "id": "efdc3a45-238f-4c0c-914c-f97994a31320",
   "metadata": {},
   "outputs": [],
   "source": [
    "# Constraint 3: Each timeslice should only have one request in it\n",
    "for r in resource_slices:\n",
    "    for wnum in resource_slices[r]:\n",
    "        match = requestLocations.select('*', wnum, '*', r, '*', '*')\n",
    "        if len(match) == 0:\n",
    "            continue\n",
    "        nscheduled = quicksum(isScheduled for i, w, p, r, start, isScheduled in match)\n",
    "        m.addConstr(nscheduled <= 1, f'one_per_slice_constraint_{r}_{wnum}')\n",
    "m.update()"
   ]
  },
  {
   "cell_type": "code",
   "execution_count": 198,
   "id": "6a9a8b7d-b7eb-4e48-af35-edab16c51018",
   "metadata": {},
   "outputs": [],
   "source": [
    "objective = quicksum([isScheduled * (priority + 0.1/(wnum+1.0)) for req, wnum, priority, resource, start, isScheduled in requestLocations])"
   ]
  },
  {
   "cell_type": "code",
   "execution_count": 150,
   "id": "f896d340-f671-49c8-9580-ea7a56970666",
   "metadata": {},
   "outputs": [
    {
     "name": "stdout",
     "output_type": "stream",
     "text": [
      "Set parameter MIPGap to value 0.01\n",
      "Set parameter Method to value 3\n"
     ]
    }
   ],
   "source": [
    "m.setObjective(objective)\n",
    "m.modelSense = GRB.MAXIMIZE\n",
    "m.params.MIPGap = 0.01\n",
    "m.params.Method = 3\n",
    "m.update()"
   ]
  },
  {
   "cell_type": "code",
   "execution_count": 151,
   "id": "4dedcd2a-2cfc-4d48-85e2-a598ac2887a4",
   "metadata": {},
   "outputs": [],
   "source": [
    "m.write(\"test_model.mps\")"
   ]
  },
  {
   "cell_type": "code",
   "execution_count": 152,
   "id": "880552ba-75e3-48d7-97e3-32d6f9182401",
   "metadata": {},
   "outputs": [
    {
     "name": "stdout",
     "output_type": "stream",
     "text": [
      "Gurobi Optimizer version 10.0.2 build v10.0.2rc0 (win64)\n",
      "\n",
      "CPU model: Intel(R) Core(TM) i7-7700HQ CPU @ 2.80GHz, instruction set [SSE2|AVX|AVX2]\n",
      "Thread count: 4 physical cores, 8 logical processors, using up to 8 threads\n",
      "\n",
      "Optimize a model with 17 rows, 25 columns and 50 nonzeros\n",
      "Model fingerprint: 0xc21d554a\n",
      "Variable types: 0 continuous, 25 integer (25 binary)\n",
      "Coefficient statistics:\n",
      "  Matrix range     [1e+00, 1e+00]\n",
      "  Objective range  [1e+00, 5e+00]\n",
      "  Bounds range     [1e+00, 1e+00]\n",
      "  RHS range        [1e+00, 1e+00]\n",
      "Found heuristic solution: objective 21.2134524\n",
      "Presolve removed 17 rows and 25 columns\n",
      "Presolve time: 0.00s\n",
      "Presolve: All rows and columns removed\n",
      "\n",
      "Explored 0 nodes (0 simplex iterations) in 0.01 seconds (0.00 work units)\n",
      "Thread count was 1 (of 8 available processors)\n",
      "\n",
      "Solution count 2: 22.2235 21.2135 \n",
      "\n",
      "Optimal solution found (tolerance 1.00e-02)\n",
      "Best objective 2.222345238095e+01, best bound 2.222345238095e+01, gap 0.0000%\n"
     ]
    }
   ],
   "source": [
    "m.optimize()"
   ]
  },
  {
   "cell_type": "code",
   "execution_count": 153,
   "id": "56fb40b7-650d-4b38-b3b0-409988c15270",
   "metadata": {},
   "outputs": [],
   "source": [
    "rxf = [isScheduled.x for rid, wnum, priority, resource, start, isScheduled in requestLocations]"
   ]
  },
  {
   "cell_type": "code",
   "execution_count": 154,
   "id": "920eb051-ffa3-4a7d-a33e-4a629c5e516d",
   "metadata": {},
   "outputs": [
    {
     "name": "stdout",
     "output_type": "stream",
     "text": [
      "ID, w, p, reso, s\n",
      "(0, 5, 5, 't1', 5, <gurobi.Var t1_0_ST5_SEC0 (value 1.0)>)\n",
      "(1, 9, 4, 't1', 1, <gurobi.Var t1_1_ST9_SEC0 (value 1.0)>)\n",
      "(2, 4, 2, 't1', 4, <gurobi.Var t1_2_ST4_SEC0 (value 1.0)>)\n",
      "(3, 7, 4, 't1', 7, <gurobi.Var t1_3_ST7_SEC0 (value 1.0)>)\n",
      "(6, 1, 1, 't1', 1, <gurobi.Var t1_6_ST1_SEC0 (value 1.0)>)\n",
      "(7, 0, 4, 't1', 0, <gurobi.Var t1_7_ST0_SEC0 (value 1.0)>)\n",
      "(9, 6, 2, 't1', 6, <gurobi.Var t1_9_ST6_SEC0 (value 1.0)>)\n"
     ]
    }
   ],
   "source": [
    "print(\"ID, w, p, reso, s\")\n",
    "for i in range(len(requestLocations)):\n",
    "    if rxf[i] == 1:\n",
    "        print(requestLocations[i])"
   ]
  },
  {
   "cell_type": "code",
   "execution_count": 155,
   "id": "1a9fbe35-9abe-426f-9b43-58da6cd5e7f1",
   "metadata": {},
   "outputs": [
    {
     "name": "stdout",
     "output_type": "stream",
     "text": [
      "{'t1': [0, 1, 4, 5, 6, 7, 9]}\n"
     ]
    }
   ],
   "source": [
    "print(resource_slices)"
   ]
  },
  {
   "cell_type": "code",
   "execution_count": 156,
   "id": "7f3cd501-7668-4362-a0f3-7008d4366733",
   "metadata": {},
   "outputs": [
    {
     "data": {
      "text/plain": [
       "{0: {'start': 5, 'end': 9, 'length': 2, 'priority': 5},\n",
       " 1: {'start': 1, 'end': 9, 'length': 1, 'priority': 4},\n",
       " 2: {'start': 4, 'end': 8, 'length': 1, 'priority': 2},\n",
       " 3: {'start': 7, 'end': 8, 'length': 1, 'priority': 4},\n",
       " 4: {'start': 2, 'end': 6, 'length': 1, 'priority': 2},\n",
       " 5: {'start': 6, 'end': 8, 'length': 2, 'priority': 1},\n",
       " 6: {'start': 1, 'end': 2, 'length': 1, 'priority': 1},\n",
       " 7: {'start': 0, 'end': 4, 'length': 2, 'priority': 4},\n",
       " 8: {'start': 6, 'end': 9, 'length': 3, 'priority': 4},\n",
       " 9: {'start': 6, 'end': 9, 'length': 2, 'priority': 2}}"
      ]
     },
     "execution_count": 156,
     "metadata": {},
     "output_type": "execute_result"
    }
   ],
   "source": [
    "requests"
   ]
  },
  {
   "cell_type": "code",
   "execution_count": null,
   "id": "fe084522-fc69-45a4-b3b2-6d3e0cfd6d4d",
   "metadata": {},
   "outputs": [],
   "source": []
  }
 ],
 "metadata": {
  "kernelspec": {
   "display_name": "Python 3 (ipykernel)",
   "language": "python",
   "name": "python3"
  },
  "language_info": {
   "codemirror_mode": {
    "name": "ipython",
    "version": 3
   },
   "file_extension": ".py",
   "mimetype": "text/x-python",
   "name": "python",
   "nbconvert_exporter": "python",
   "pygments_lexer": "ipython3",
   "version": "3.11.0"
  },
  "toc": {
   "base_numbering": 1,
   "nav_menu": {},
   "number_sections": true,
   "sideBar": true,
   "skip_h1_title": true,
   "title_cell": "Table of Contents",
   "title_sidebar": "Contents",
   "toc_cell": false,
   "toc_position": {},
   "toc_section_display": true,
   "toc_window_display": true
  }
 },
 "nbformat": 4,
 "nbformat_minor": 5
}
