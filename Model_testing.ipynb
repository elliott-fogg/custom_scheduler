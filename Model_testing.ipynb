{
 "cells": [
  {
   "cell_type": "markdown",
   "id": "d3134c5d-bec3-4987-997c-72c548bdb7e3",
   "metadata": {},
   "source": [
    "## Import libraries and set random seed"
   ]
  },
  {
   "cell_type": "code",
   "execution_count": 1,
   "id": "2bfad5a4",
   "metadata": {
    "ExecuteTime": {
     "end_time": "2023-07-04T15:21:41.114975Z",
     "start_time": "2023-07-04T15:21:40.858961Z"
    }
   },
   "outputs": [],
   "source": [
    "from gurobipy import Model, GRB, tuplelist, quicksum\n",
    "from gurobipy import read as gurobi_read_model\n",
    "import json\n",
    "import random\n",
    "import math\n",
    "\n",
    "random.seed(3)"
   ]
  },
  {
   "cell_type": "markdown",
   "id": "6a42917a-5921-4fab-86f8-77ccaf6fcc0b",
   "metadata": {},
   "source": [
    "## Required Functions"
   ]
  },
  {
   "cell_type": "markdown",
   "id": "9a1dc7ed-bc01-46a7-8917-73ff1f4a2b6a",
   "metadata": {},
   "source": [
    "### PossibleStarts(object)"
   ]
  },
  {
   "cell_type": "code",
   "execution_count": 2,
   "id": "b6e3af22-969a-4118-ba9a-cc6b4799a77f",
   "metadata": {},
   "outputs": [],
   "source": [
    "class PossibleStart(object):\n",
    "    def __init__(self, resource, slice_starts, internal_start):\n",
    "        self.resource = resource\n",
    "        self.first_slice_start = slice_starts[0]\n",
    "        self.all_slice_starts = slice_starts\n",
    "        self.internal_start = internal_start\n",
    "\n",
    "    def __lt__(self, other):\n",
    "        return self.first_slice_start < other.first_slice_start\n",
    "\n",
    "    def __eq__(self, other):\n",
    "        return self.first_slice_start == self.first_slice_start\n",
    "\n",
    "    def __gt__(self, other):\n",
    "        return self.first_slice_start > self.first_slice_start"
   ]
  },
  {
   "cell_type": "markdown",
   "id": "84d50518-ea07-4f17-8a1e-774b0c4aa743",
   "metadata": {},
   "source": [
    "### InputParams(object)"
   ]
  },
  {
   "cell_type": "code",
   "execution_count": 3,
   "id": "37fdd337-8f86-480f-a3f9-70b7c5eaa439",
   "metadata": {},
   "outputs": [],
   "source": [
    "class InputParams(object):\n",
    "    def __init__(self, input_params_dict=None, requests = None):\n",
    "        self.start_time = None\n",
    "        self.slice_size = None\n",
    "        self.horizon = None\n",
    "        self.resources = None\n",
    "        self.requests = None\n",
    "        \n",
    "        if input_params_dict != None:\n",
    "            self.load_from_file(input_params_dict)\n",
    "\n",
    "        if requests != None:\n",
    "            self.load_requests(requests)\n",
    "            \n",
    "    def load_input_params(self, input_params_dict):\n",
    "        self.start_time = input_params_dict.start_time\n",
    "        self.slice_size = input_params_dict.slice_size\n",
    "        self.horizon = input_params_dict.horizon\n",
    "        self.resources = input_params_dict.resources\n",
    "\n",
    "    def load_requests(self, requests):\n",
    "        self.requests = requests"
   ]
  },
  {
   "cell_type": "markdown",
   "id": "21980240-20c1-453f-a132-85f82b12d78b",
   "metadata": {},
   "source": [
    "### get_slices(...)"
   ]
  },
  {
   "cell_type": "code",
   "execution_count": 4,
   "id": "a32103d0-320f-4054-8ac2-f742d28522a1",
   "metadata": {},
   "outputs": [],
   "source": [
    "def get_slices(intervals, resource, duration, slice_length):\n",
    "    slices = []\n",
    "    internal_starts = []\n",
    "    for t in intervals: \n",
    "        start = int(math.floor(float(t[\"start\"])/float(slice_length))*slice_length) # Start of the time_slice that this starts in\n",
    "        internal_start = t[\"start\"]                                                 # Actual start of this observation window\n",
    "        end_time = internal_start + duration                                        # End of this observation window\n",
    "\n",
    "        while (t[\"end\"] - start) >= duration:\n",
    "            # Generate a range of slices that will be occupied for this start and duration\n",
    "            tmp = list(range(start, internal_start+duration, slice_length))\n",
    "            slices.append(tmp)\n",
    "            internal_starts.append(internal_start)\n",
    "            start += slice_length                                # Moving on to the next potential start, so move the Start up to the next slice\n",
    "            internal_start = start                               # As only the first potential start in a window will be internal, make the \n",
    "                                                                 # next Internal Start an external start\n",
    "    # return slices, internal_starts\n",
    "    ps_list = []\n",
    "    idx = 0\n",
    "    for w in slices:\n",
    "        ps_list.append(PossibleStart(resource, w, internal_starts[idx]))\n",
    "        idx += 1\n",
    "\n",
    "    return ps_list"
   ]
  },
  {
   "cell_type": "markdown",
   "id": "3e8ab102-4059-4caf-97f7-ccff6a850634",
   "metadata": {},
   "source": [
    "#### test"
   ]
  },
  {
   "cell_type": "code",
   "execution_count": 5,
   "id": "2e14eb71-cb55-4c3d-95fa-b6450a2ca46f",
   "metadata": {},
   "outputs": [
    {
     "name": "stdout",
     "output_type": "stream",
     "text": [
      "<__main__.PossibleStart object at 0x000001982C103AD0>\n"
     ]
    }
   ],
   "source": [
    "# TEST:\n",
    "temp_slice_size = 300\n",
    "intervals = [{\"start\": 0, \"end\": 30}, {\"start\": 60, \"end\": 90}]\n",
    "possible_starts = get_slices(intervals, 13, 3, temp_slice_size)\n",
    "print(possible_starts[1])"
   ]
  },
  {
   "cell_type": "markdown",
   "id": "c7285d3d-74f2-48f1-b834-98e476b83495",
   "metadata": {},
   "source": [
    "### time_segments(...)"
   ]
  },
  {
   "cell_type": "code",
   "execution_count": 6,
   "id": "1cfbd7bb-d103-4fb9-90b1-5817f37b580f",
   "metadata": {},
   "outputs": [],
   "source": [
    "def time_segments(start, end, num_min=1, num_max=5):\n",
    "    segments = random.randint(num_min, num_max)\n",
    "    boundaries = sorted([random.randint(start, end) for x in range(2*segments)])\n",
    "    windows = [{\"start\": boundaries[i], \"end\": boundaries[i+1]} for i in range(0, len(boundaries), 2)]\n",
    "    return windows"
   ]
  },
  {
   "cell_type": "markdown",
   "id": "dd676203-a85f-4b55-920d-eb113e72c471",
   "metadata": {},
   "source": [
    "#### test"
   ]
  },
  {
   "cell_type": "code",
   "execution_count": 7,
   "id": "c75b42c4-cb0b-4b99-8862-27289e52cf47",
   "metadata": {},
   "outputs": [
    {
     "name": "stdout",
     "output_type": "stream",
     "text": [
      "[{'start': 2, 'end': 5}, {'start': 8, 'end': 9}]\n",
      "[{'start': 1, 'end': 9}, {'start': 9, 'end': 10}]\n"
     ]
    }
   ],
   "source": [
    "ts1 = time_segments(0, 10, 2, 2)\n",
    "ts2 = time_segments(0, 10, 2, 2)\n",
    "print(ts1)\n",
    "print(ts2)"
   ]
  },
  {
   "cell_type": "markdown",
   "id": "339809d8-d3b1-4587-aa99-b1f6fcea0bcf",
   "metadata": {},
   "source": [
    "### overlap_time_segments(...)"
   ]
  },
  {
   "cell_type": "code",
   "execution_count": 8,
   "id": "4c8dd9a2-84fe-44b9-9f5e-c1efceadf891",
   "metadata": {},
   "outputs": [],
   "source": [
    "def overlap_time_segments(seg1, seg2):\n",
    "    overlap_segments = []\n",
    "    i = 0\n",
    "    j = 0\n",
    "\n",
    "    while ((i < len(seg1)) and (j < len(seg2))):\n",
    "        s1 = seg1[i]\n",
    "        s2 = seg2[j]\n",
    "\n",
    "        if s1[\"end\"] < s2[\"start\"]: # Current s1 is behind Current s2, move to next s1\n",
    "            i += 1\n",
    "            continue\n",
    "\n",
    "        if s2[\"end\"] < s1[\"start\"]: # Current s2 is behind Current s1, move to next s2\n",
    "            j += 1\n",
    "            continue\n",
    "\n",
    "        window_start = max([s1[\"start\"], s2[\"start\"]])\n",
    "        \n",
    "        if s1[\"end\"] < s2[\"end\"]: # s1 ends first, move to next s1\n",
    "            window_end = s1[\"end\"]\n",
    "            i += 1\n",
    "            \n",
    "        elif s1[\"end\"] > s2[\"end\"]: # s2 ends first, move to next s2\n",
    "            window_end= s2[\"end\"]\n",
    "            j += 1\n",
    "\n",
    "        else: # Both segments end at the same time, move to next of both\n",
    "            window_end = s1[\"end\"]\n",
    "            i += 1\n",
    "            j+= 1\n",
    "\n",
    "        if window_start != window_end:\n",
    "            overlap_segments.append({\"start\": window_start, \"end\": window_end})\n",
    "            \n",
    "    return overlap_segments"
   ]
  },
  {
   "cell_type": "markdown",
   "id": "5c229104-b362-4e9f-ba08-eb02cd359938",
   "metadata": {},
   "source": [
    "#### test"
   ]
  },
  {
   "cell_type": "code",
   "execution_count": 9,
   "id": "62401882-efbe-4807-9cdc-e3e574e61d0b",
   "metadata": {},
   "outputs": [
    {
     "data": {
      "text/plain": [
       "[{'start': 2, 'end': 3}, {'start': 5, 'end': 6}]"
      ]
     },
     "execution_count": 9,
     "metadata": {},
     "output_type": "execute_result"
    }
   ],
   "source": [
    "ts1 = [{\"start\": 2, \"end\": 4}, {\"start\": 5, \"end\": 6}, {\"start\": 8, \"end\": 9}]\n",
    "ts2 = [{\"start\": 0, \"end\": 3}, {\"start\": 4, \"end\": 8}]\n",
    "\n",
    "overlap_time_segments(ts1, ts2)"
   ]
  },
  {
   "cell_type": "markdown",
   "id": "1b72f097-b27c-4948-8897-7b6ba24a6ae9",
   "metadata": {},
   "source": [
    "### build_data_structures(...)\n",
    "\n",
    "Build the Yik and the aikt for generating the Optimizer Constraints from.\n",
    "\n",
    "Requests must be a list of requests, which should have:\n",
    "* free_windows_dict\n",
    "* duration\n",
    "* resID\n",
    "* priority"
   ]
  },
  {
   "cell_type": "code",
   "execution_count": 10,
   "id": "1842c22e-0188-4df6-b2dd-e6b61d0807c3",
   "metadata": {},
   "outputs": [],
   "source": [
    "def build_data_structures(requests, slice_length):\n",
    "    yik = []\n",
    "    aikt = {}\n",
    "\n",
    "    for i in range(len(requests)):\n",
    "        r = requests[i]\n",
    "        yik_entries = []\n",
    "        possible_starts = []\n",
    "\n",
    "        print(r)\n",
    "        for resource in r[\"free_windows_dict\"].keys():\n",
    "            possible_starts.extend(get_slices(r[\"free_windows_dict\"][resource], resource, r[\"duration\"], slice_length))\n",
    "        possible_starts.sort()\n",
    "    \n",
    "        w_idx = 0\n",
    "        for ps in possible_starts:\n",
    "            yik_idx = len(yik)\n",
    "            yik_entries.append(yik_idx)\n",
    "            scheduled = 0 # Option to set to 1 for a Warm Start would go here\n",
    "            yik.append([r[\"resID\"], w_idx, r[\"priority\"], ps.resource, scheduled, ps])\n",
    "            w_idx += 1\n",
    "    \n",
    "            for s in ps.all_slice_starts:\n",
    "                slice_hash = f\"resource_{ps.resource}_start_{repr(s)}_length_{repr(slice_length)}\"\n",
    "                if slice_hash not in aikt:\n",
    "                    aikt[slice_hash] = []\n",
    "                aikt[slice_hash].append(yik_idx)\n",
    "                \n",
    "    return (yik, aikt)"
   ]
  },
  {
   "cell_type": "markdown",
   "id": "7e9c1cda-ad8d-43a2-b6c1-8f2473a91c93",
   "metadata": {},
   "source": [
    "#### test"
   ]
  },
  {
   "cell_type": "code",
   "execution_count": 11,
   "id": "e57a2224-953d-4a4a-b8a2-8f74d5d95084",
   "metadata": {},
   "outputs": [
    {
     "name": "stdout",
     "output_type": "stream",
     "text": [
      "{'free_windows_dict': {'t1': [{'start': 0, 'end': 23}, {'start': 27, 'end': 88}]}, 'duration': 10, 'resID': 3, 'priority': 5}\n",
      "{'free_windows_dict': {'t1': [{'start': 24, 'end': 63}]}, 'duration': 13, 'resID': 1, 'priority': 4}\n"
     ]
    },
    {
     "data": {
      "text/plain": [
       "([[3, 0, 5, 't1', 0, <__main__.PossibleStart at 0x1982c153390>],\n",
       "  [3, 1, 5, 't1', 0, <__main__.PossibleStart at 0x1982c010710>],\n",
       "  [3, 2, 5, 't1', 0, <__main__.PossibleStart at 0x1982c1504d0>],\n",
       "  [3, 3, 5, 't1', 0, <__main__.PossibleStart at 0x1982c151cd0>],\n",
       "  [3, 4, 5, 't1', 0, <__main__.PossibleStart at 0x1982c152050>],\n",
       "  [3, 5, 5, 't1', 0, <__main__.PossibleStart at 0x1982c1009d0>],\n",
       "  [3, 6, 5, 't1', 0, <__main__.PossibleStart at 0x1982c102fd0>],\n",
       "  [3, 7, 5, 't1', 0, <__main__.PossibleStart at 0x1982c100250>],\n",
       "  [3, 8, 5, 't1', 0, <__main__.PossibleStart at 0x1982c101c90>],\n",
       "  [3, 9, 5, 't1', 0, <__main__.PossibleStart at 0x1982c1000d0>],\n",
       "  [3, 10, 5, 't1', 0, <__main__.PossibleStart at 0x1982c1031d0>],\n",
       "  [3, 11, 5, 't1', 0, <__main__.PossibleStart at 0x1982c101690>],\n",
       "  [3, 12, 5, 't1', 0, <__main__.PossibleStart at 0x1982c101950>],\n",
       "  [3, 13, 5, 't1', 0, <__main__.PossibleStart at 0x1982c0cffd0>],\n",
       "  [1, 0, 4, 't1', 0, <__main__.PossibleStart at 0x1982c0cf1d0>],\n",
       "  [1, 1, 4, 't1', 0, <__main__.PossibleStart at 0x1982c164190>],\n",
       "  [1, 2, 4, 't1', 0, <__main__.PossibleStart at 0x1982c164050>],\n",
       "  [1, 3, 4, 't1', 0, <__main__.PossibleStart at 0x1982c1642d0>],\n",
       "  [1, 4, 4, 't1', 0, <__main__.PossibleStart at 0x1982c164250>],\n",
       "  [1, 5, 4, 't1', 0, <__main__.PossibleStart at 0x1982c165310>],\n",
       "  [1, 6, 4, 't1', 0, <__main__.PossibleStart at 0x1982c165250>]],\n",
       " {'resource_t1_start_0_length_5': [0],\n",
       "  'resource_t1_start_5_length_5': [0, 1],\n",
       "  'resource_t1_start_10_length_5': [1, 2],\n",
       "  'resource_t1_start_15_length_5': [2],\n",
       "  'resource_t1_start_25_length_5': [3, 14, 15],\n",
       "  'resource_t1_start_30_length_5': [3, 4, 14, 15, 16],\n",
       "  'resource_t1_start_35_length_5': [3, 4, 5, 14, 15, 16, 17],\n",
       "  'resource_t1_start_40_length_5': [5, 6, 16, 17, 18],\n",
       "  'resource_t1_start_45_length_5': [6, 7, 17, 18, 19],\n",
       "  'resource_t1_start_50_length_5': [7, 8, 18, 19, 20],\n",
       "  'resource_t1_start_55_length_5': [8, 9, 19, 20],\n",
       "  'resource_t1_start_60_length_5': [9, 10, 20],\n",
       "  'resource_t1_start_65_length_5': [10, 11],\n",
       "  'resource_t1_start_70_length_5': [11, 12],\n",
       "  'resource_t1_start_75_length_5': [12, 13],\n",
       "  'resource_t1_start_80_length_5': [13],\n",
       "  'resource_t1_start_20_length_5': [14]})"
      ]
     },
     "execution_count": 11,
     "metadata": {},
     "output_type": "execute_result"
    }
   ],
   "source": [
    "test_requests = [\n",
    "    {\"free_windows_dict\": {\"t1\": [{\"start\": 0, \"end\": 23}, {\"start\": 27, \"end\": 88}]},\n",
    "     \"duration\": 10,\n",
    "     \"resID\": 3,\n",
    "     \"priority\": 5},\n",
    "    {\"free_windows_dict\": {\"t1\": [{\"start\": 24, \"end\": 63}]},\n",
    "     \"duration\": 13,\n",
    "     \"resID\": 1,\n",
    "     \"priority\": 4}\n",
    "]\n",
    "\n",
    "build_data_structures(test_requests, 5)"
   ]
  },
  {
   "cell_type": "markdown",
   "id": "bbfc11ef-f060-4391-894a-6f4e6c484aa5",
   "metadata": {},
   "source": [
    "### build_model(...)"
   ]
  },
  {
   "cell_type": "code",
   "execution_count": 12,
   "id": "13865670-355b-4887-a589-21fd03ae8df3",
   "metadata": {},
   "outputs": [],
   "source": [
    "def build_model(yik, aikt, filename=\"test_model.mps\"):\n",
    "    m = Model(\"Test Schedule\")\n",
    "\n",
    "    requestLocations = tuplelist()\n",
    "    scheduled_vars = []\n",
    "\n",
    "    for r in yik:\n",
    "        var = m.addVar(vtype=GRB.BINARY, name=str(r[0]))\n",
    "        scheduled_vars.append(var)\n",
    "        requestLocations.append((r[0], r[1], r[2], r[3], var)) # resID, start_w_idx, priority, resource, isScheduled?\n",
    "    m.update()\n",
    "\n",
    "    # Constraint 4: Each request only scheduled once\n",
    "    for rid in requests:\n",
    "        match = requestLocations.select(rid, '*', '*', '*', '*', '*')\n",
    "        nscheduled = quicksum([isScheduled for reqid, wnum, priority, resource, isScheduled in match])\n",
    "        m.addConstr(nscheduled <= 1, f'one_per_reqid_constraint_{rid}')\n",
    "    m.update()\n",
    "\n",
    "    # Constraint 3: Each timeslice should only have one request in it\n",
    "    for s in aikt.keys():\n",
    "        match = tuplelist()\n",
    "        for timeslice in aikt[s]:\n",
    "            match.append(requestLocations[timeslice])\n",
    "        nscheduled = quicksum(isScheduled for reqid, winidx, priority, resource, isScheduled in match)\n",
    "        m.addConstr(nscheduled <= 1, f\"one_per_slice_constrain_{s}\")\n",
    "\n",
    "    objective = quicksum([isScheduled * (priority + 0.1/(winidx+1.0)) for req, winidx, priority, resource, isScheduled in requestLocations])\n",
    "\n",
    "    m.setObjective(objective)\n",
    "    m.modelSense = GRB.MAXIMIZE\n",
    "\n",
    "    # Implement a timelimit? (Do I actually want to do this?)\n",
    "    timelimit = 0 # NOTE: Hardcode out for now.\n",
    "    if timelimit > 0:\n",
    "        m.params.timeLimit = timelimit\n",
    "\n",
    "    # Set the tolerance of the solution\n",
    "    m.params.MIPGap = 0.01\n",
    "\n",
    "    # Set the Method of solving the root relaxation of the MIPs model to concurrent\n",
    "    m.params.Method = 3\n",
    "\n",
    "    m.update()\n",
    "\n",
    "    m.write(filename)\n",
    "\n",
    "    print(f\"\\n\\nModel built and written to file: {filename}\")"
   ]
  },
  {
   "cell_type": "markdown",
   "id": "c60a7f23-bec6-469d-9e25-a0906a4f2bdd",
   "metadata": {},
   "source": [
    "### load_model()"
   ]
  },
  {
   "cell_type": "code",
   "execution_count": 13,
   "id": "f92bd55c-5ef3-4b4a-8408-e96e0d876dac",
   "metadata": {},
   "outputs": [],
   "source": [
    "def load_model(model_name=\"test_model.mps\"):\n",
    "    model = gurobi_read_model(model_name)\n",
    "    return model"
   ]
  },
  {
   "cell_type": "markdown",
   "id": "40784996-0062-4f86-8266-7ef13edb2e0e",
   "metadata": {},
   "source": [
    "### interpret_solution(...)"
   ]
  },
  {
   "cell_type": "code",
   "execution_count": 14,
   "id": "fb887873-76d1-40d0-bece-67a2da6fe873",
   "metadata": {},
   "outputs": [],
   "source": [
    "def interpret_solution(solution, yik, aikt, requests):\n",
    "    # Get list of all requests that are scheduled\n",
    "    # Get details of scheduled requests\n",
    "    # Sort by resource and start time\n",
    "    # Print Details\n",
    "\n",
    "    enum_aikt = list(enumerate(aikt))\n",
    "    scheduled = []\n",
    "    for i in range(len(solution)):\n",
    "        if solution[i] == 1:\n",
    "            scheduled.append(yik[i]) # ID, start_w_idx, priority, resource, isScheduled(dud), possible_start\n",
    "\n",
    "    scheduled.sort(key=lambda x: [x[3], x[1]]) # Sort by Resource, then by Starting Window\n",
    "    for i in range(len(scheduled)):\n",
    "        \n",
    "        s = scheduled[i]\n",
    "        rid = s[0]\n",
    "\n",
    "        print(i)\n",
    "        print(s)\n",
    "        print(rid)\n",
    "        \n",
    "        r = requests[rid]\n",
    "        print(f\"Request {rid}:\")\n",
    "        print(f\"Resource = {s[3]}\")\n",
    "        start_time = s[5].internal_start\n",
    "        duration = r[\"duration\"]\n",
    "        end_time = start_time + duration\n",
    "        print(f\"Start Window ID = {enum_aikt[s[1]-1]}\")\n",
    "        print(f\"Start / End (Duration) = {start_time} / {end_time} ({duration})\")\n",
    "        print(f\"Duration = {r['duration']}\")\n",
    "        \n",
    "        print()"
   ]
  },
  {
   "cell_type": "code",
   "execution_count": 16,
   "id": "88ce6a12-674a-431e-a20d-d52bdfb0312a",
   "metadata": {},
   "outputs": [],
   "source": [
    "# scheduled = []\n",
    "# for i in range(len(solution)):\n",
    "#     if solution[i] == 1:\n",
    "#         scheduled.append(yik[i])"
   ]
  },
  {
   "cell_type": "code",
   "execution_count": 17,
   "id": "67b7f55d-960e-4739-820a-38e34a6b1f7c",
   "metadata": {},
   "outputs": [
    {
     "data": {
      "text/plain": [
       "[]"
      ]
     },
     "execution_count": 17,
     "metadata": {},
     "output_type": "execute_result"
    }
   ],
   "source": [
    "scheduled"
   ]
  },
  {
   "cell_type": "code",
   "execution_count": 18,
   "id": "b0918786-45d6-4df6-b7a3-38bd31d843ed",
   "metadata": {},
   "outputs": [],
   "source": [
    "for s in scheduled:\n",
    "    print(s[5].internal_start)\n",
    "    print(s[5].first_slice_start)\n",
    "    print(s[5].all_slice_starts)"
   ]
  },
  {
   "cell_type": "markdown",
   "id": "3daa12b6-107e-4ac6-9c57-af5d93d1f975",
   "metadata": {},
   "source": [
    "## Input Parameters"
   ]
  },
  {
   "cell_type": "markdown",
   "id": "3a090164-d481-478b-a0dc-6a6f0a516934",
   "metadata": {},
   "source": [
    "### Scheduler Parameters"
   ]
  },
  {
   "cell_type": "code",
   "execution_count": 19,
   "id": "d9e0c8de-5c9e-4d7c-befb-2f14c43aed95",
   "metadata": {},
   "outputs": [
    {
     "name": "stdout",
     "output_type": "stream",
     "text": [
      "Slice_size: 300s\n",
      "Scheduling Horizon: 86400s\n"
     ]
    }
   ],
   "source": [
    "input_params = InputParams()\n",
    "input_params.start_time = 0\n",
    "input_params.slice_size = 300\n",
    "input_params.horizon = 24*60*60\n",
    "print(f\"Slice_size: {input_params.slice_size}s\")\n",
    "print(f\"Scheduling Horizon: {input_params.horizon}s\")"
   ]
  },
  {
   "cell_type": "markdown",
   "id": "610198ea-3da7-4315-a7b4-82fbe3dac85e",
   "metadata": {},
   "source": [
    "### Request-Generation Parameters"
   ]
  },
  {
   "cell_type": "code",
   "execution_count": 20,
   "id": "2a92d9d4-b1cf-4550-824f-cb7b1a5cbd7f",
   "metadata": {},
   "outputs": [],
   "source": [
    "num_requests = 20\n",
    "request_min_length = 30\n",
    "request_max_length = 60*60*3\n",
    "priority_min = 1\n",
    "priority_max = 10"
   ]
  },
  {
   "cell_type": "markdown",
   "id": "58f3dfc4-c6ae-4f5c-b5c3-2f2747e72555",
   "metadata": {},
   "source": [
    "### Resource Availability"
   ]
  },
  {
   "cell_type": "code",
   "execution_count": 22,
   "id": "ae974180-54a3-4334-8118-cb1d323fe657",
   "metadata": {},
   "outputs": [
    {
     "data": {
      "text/plain": [
       "{'t1': [{'start': 33994, 'end': 61503}]}"
      ]
     },
     "execution_count": 22,
     "metadata": {},
     "output_type": "execute_result"
    }
   ],
   "source": [
    "resources = [\"t1\"]\n",
    "resource_availability = {res: time_segments(input_params.start_time, input_params.horizon, 1, 5) for res in resources}\n",
    "resource_availability"
   ]
  },
  {
   "cell_type": "markdown",
   "id": "4969a54f-c013-45ea-ba9b-6f330494453e",
   "metadata": {},
   "source": [
    "### Generate Observation Requests (Randomly)"
   ]
  },
  {
   "cell_type": "code",
   "execution_count": 23,
   "id": "4bbd7c74-97d2-4736-91a7-17218f8b4dd7",
   "metadata": {},
   "outputs": [
    {
     "name": "stdout",
     "output_type": "stream",
     "text": [
      "(0, {'windows': {'t1': [{'start': 19741, 'end': 25132}, {'start': 52053, 'end': 61638}, {'start': 62436, 'end': 70906}, {'start': 72041, 'end': 83763}]}, 'duration': 3829, 'priority': 3, 'resID': 0})\n",
      "(1, {'windows': {'t1': [{'start': 1985, 'end': 4064}, {'start': 5608, 'end': 8392}, {'start': 20892, 'end': 35314}, {'start': 39487, 'end': 50804}, {'start': 51768, 'end': 55959}, {'start': 61964, 'end': 75616}, {'start': 77476, 'end': 77955}]}, 'duration': 7314, 'priority': 3, 'resID': 1})\n",
      "(2, {'windows': {'t1': [{'start': 4703, 'end': 12773}, {'start': 17821, 'end': 28440}, {'start': 33814, 'end': 39456}, {'start': 50576, 'end': 55200}, {'start': 57168, 'end': 64865}, {'start': 66485, 'end': 82136}]}, 'duration': 9434, 'priority': 6, 'resID': 2})\n",
      "(3, {'windows': {'t1': [{'start': 3756, 'end': 13641}, {'start': 21377, 'end': 27672}, {'start': 30459, 'end': 36658}, {'start': 42780, 'end': 44140}, {'start': 71010, 'end': 74594}, {'start': 74967, 'end': 76579}, {'start': 79405, 'end': 85919}]}, 'duration': 10400, 'priority': 10, 'resID': 3})\n",
      "(4, {'windows': {'t1': [{'start': 8317, 'end': 8730}, {'start': 11602, 'end': 16309}, {'start': 37349, 'end': 45099}, {'start': 53800, 'end': 63176}, {'start': 63374, 'end': 83723}]}, 'duration': 2500, 'priority': 1, 'resID': 4})\n",
      "(5, {'windows': {'t1': [{'start': 5792, 'end': 5890}, {'start': 15586, 'end': 43378}, {'start': 49519, 'end': 54420}, {'start': 55986, 'end': 76857}, {'start': 79297, 'end': 80548}]}, 'duration': 9055, 'priority': 5, 'resID': 5})\n",
      "(6, {'windows': {'t1': [{'start': 948, 'end': 4112}, {'start': 4720, 'end': 10088}, {'start': 14171, 'end': 40589}, {'start': 70199, 'end': 78612}]}, 'duration': 3263, 'priority': 7, 'resID': 6})\n",
      "(7, {'windows': {'t1': [{'start': 5562, 'end': 18130}, {'start': 20473, 'end': 34520}, {'start': 41134, 'end': 44540}, {'start': 47211, 'end': 49381}, {'start': 49517, 'end': 80015}]}, 'duration': 7573, 'priority': 9, 'resID': 7})\n",
      "(8, {'windows': {'t1': [{'start': 13444, 'end': 31147}, {'start': 33847, 'end': 35559}, {'start': 39464, 'end': 56517}, {'start': 57336, 'end': 66457}, {'start': 68305, 'end': 73303}, {'start': 78073, 'end': 81281}, {'start': 83137, 'end': 84395}]}, 'duration': 4994, 'priority': 9, 'resID': 8})\n",
      "(9, {'windows': {'t1': [{'start': 1501, 'end': 2628}, {'start': 7874, 'end': 17467}, {'start': 41271, 'end': 49350}, {'start': 54422, 'end': 76017}, {'start': 77228, 'end': 80713}, {'start': 82861, 'end': 83038}]}, 'duration': 10308, 'priority': 6, 'resID': 9})\n",
      "(10, {'windows': {'t1': [{'start': 2785, 'end': 2907}, {'start': 7939, 'end': 32915}, {'start': 36559, 'end': 39142}, {'start': 46212, 'end': 46257}, {'start': 48387, 'end': 59809}, {'start': 64160, 'end': 77250}, {'start': 77682, 'end': 78833}, {'start': 79805, 'end': 82309}]}, 'duration': 5273, 'priority': 3, 'resID': 10})\n",
      "(11, {'windows': {'t1': [{'start': 3528, 'end': 13745}, {'start': 17225, 'end': 24280}, {'start': 34620, 'end': 39374}, {'start': 40634, 'end': 40982}, {'start': 48385, 'end': 49435}, {'start': 74613, 'end': 78069}]}, 'duration': 8222, 'priority': 4, 'resID': 11})\n",
      "(12, {'windows': {'t1': [{'start': 12716, 'end': 13348}, {'start': 24562, 'end': 31286}, {'start': 42200, 'end': 42963}, {'start': 43745, 'end': 57047}, {'start': 78738, 'end': 85136}]}, 'duration': 3707, 'priority': 8, 'resID': 12})\n",
      "(13, {'windows': {'t1': [{'start': 10478, 'end': 28576}, {'start': 44133, 'end': 59126}, {'start': 74501, 'end': 85227}]}, 'duration': 4463, 'priority': 4, 'resID': 13})\n",
      "(14, {'windows': {'t1': [{'start': 4444, 'end': 25009}, {'start': 41306, 'end': 69419}]}, 'duration': 9448, 'priority': 3, 'resID': 14})\n",
      "(15, {'windows': {'t1': [{'start': 11211, 'end': 16998}, {'start': 38265, 'end': 44578}, {'start': 45256, 'end': 55217}, {'start': 67947, 'end': 77264}, {'start': 81177, 'end': 84140}]}, 'duration': 4472, 'priority': 8, 'resID': 15})\n",
      "(16, {'windows': {'t1': [{'start': 611, 'end': 4658}, {'start': 20446, 'end': 26158}, {'start': 38063, 'end': 53676}, {'start': 54167, 'end': 54644}, {'start': 55020, 'end': 62567}, {'start': 74492, 'end': 83123}]}, 'duration': 10231, 'priority': 9, 'resID': 16})\n",
      "(17, {'windows': {'t1': [{'start': 4236, 'end': 8921}, {'start': 15728, 'end': 29109}, {'start': 29814, 'end': 32051}, {'start': 37619, 'end': 37885}, {'start': 44704, 'end': 59856}, {'start': 68028, 'end': 71284}, {'start': 73252, 'end': 77159}]}, 'duration': 768, 'priority': 1, 'resID': 17})\n",
      "(18, {'windows': {'t1': [{'start': 1722, 'end': 6469}, {'start': 15835, 'end': 22520}, {'start': 56346, 'end': 63051}, {'start': 65953, 'end': 75622}]}, 'duration': 4943, 'priority': 4, 'resID': 18})\n",
      "(19, {'windows': {'t1': [{'start': 68808, 'end': 70385}]}, 'duration': 6808, 'priority': 1, 'resID': 19})\n"
     ]
    }
   ],
   "source": [
    "# Generate random requests\n",
    "requests = {}\n",
    "\n",
    "for i in range(num_requests):\n",
    "    requests[i] = {\n",
    "        \"windows\": {r: time_segments(input_params.start_time, input_params.start_time+input_params.horizon, 1, 8) for r in resources},\n",
    "        \"duration\": random.randint(request_min_length, request_max_length),\n",
    "        \"priority\": random.randint(priority_min, priority_max),\n",
    "        \"resID\": i\n",
    "    }\n",
    "\n",
    "for r in requests.items():\n",
    "    print(r)"
   ]
  },
  {
   "cell_type": "markdown",
   "id": "1b851b19-6be9-43cc-b72d-303cc797d5a0",
   "metadata": {},
   "source": [
    "## Model"
   ]
  },
  {
   "cell_type": "markdown",
   "id": "3b40d380-3f3f-461e-b105-84666711817c",
   "metadata": {},
   "source": [
    "### Overlap Request Windows and Resource Windows"
   ]
  },
  {
   "cell_type": "code",
   "execution_count": 24,
   "id": "2f2b1082-149c-44d3-8eab-726ebd0f2e84",
   "metadata": {},
   "outputs": [
    {
     "data": {
      "text/plain": [
       "{0: {'windows': {'t1': [{'start': 19741, 'end': 25132},\n",
       "    {'start': 52053, 'end': 61638},\n",
       "    {'start': 62436, 'end': 70906},\n",
       "    {'start': 72041, 'end': 83763}]},\n",
       "  'duration': 3829,\n",
       "  'priority': 3,\n",
       "  'resID': 0,\n",
       "  'free_windows_dict': {'t1': [{'start': 52053, 'end': 61503}]}},\n",
       " 1: {'windows': {'t1': [{'start': 1985, 'end': 4064},\n",
       "    {'start': 5608, 'end': 8392},\n",
       "    {'start': 20892, 'end': 35314},\n",
       "    {'start': 39487, 'end': 50804},\n",
       "    {'start': 51768, 'end': 55959},\n",
       "    {'start': 61964, 'end': 75616},\n",
       "    {'start': 77476, 'end': 77955}]},\n",
       "  'duration': 7314,\n",
       "  'priority': 3,\n",
       "  'resID': 1,\n",
       "  'free_windows_dict': {'t1': [{'start': 33994, 'end': 35314},\n",
       "    {'start': 39487, 'end': 50804},\n",
       "    {'start': 51768, 'end': 55959}]}},\n",
       " 2: {'windows': {'t1': [{'start': 4703, 'end': 12773},\n",
       "    {'start': 17821, 'end': 28440},\n",
       "    {'start': 33814, 'end': 39456},\n",
       "    {'start': 50576, 'end': 55200},\n",
       "    {'start': 57168, 'end': 64865},\n",
       "    {'start': 66485, 'end': 82136}]},\n",
       "  'duration': 9434,\n",
       "  'priority': 6,\n",
       "  'resID': 2,\n",
       "  'free_windows_dict': {'t1': [{'start': 33994, 'end': 39456},\n",
       "    {'start': 50576, 'end': 55200},\n",
       "    {'start': 57168, 'end': 61503}]}},\n",
       " 3: {'windows': {'t1': [{'start': 3756, 'end': 13641},\n",
       "    {'start': 21377, 'end': 27672},\n",
       "    {'start': 30459, 'end': 36658},\n",
       "    {'start': 42780, 'end': 44140},\n",
       "    {'start': 71010, 'end': 74594},\n",
       "    {'start': 74967, 'end': 76579},\n",
       "    {'start': 79405, 'end': 85919}]},\n",
       "  'duration': 10400,\n",
       "  'priority': 10,\n",
       "  'resID': 3,\n",
       "  'free_windows_dict': {'t1': [{'start': 33994, 'end': 36658},\n",
       "    {'start': 42780, 'end': 44140}]}},\n",
       " 4: {'windows': {'t1': [{'start': 8317, 'end': 8730},\n",
       "    {'start': 11602, 'end': 16309},\n",
       "    {'start': 37349, 'end': 45099},\n",
       "    {'start': 53800, 'end': 63176},\n",
       "    {'start': 63374, 'end': 83723}]},\n",
       "  'duration': 2500,\n",
       "  'priority': 1,\n",
       "  'resID': 4,\n",
       "  'free_windows_dict': {'t1': [{'start': 37349, 'end': 45099},\n",
       "    {'start': 53800, 'end': 61503}]}},\n",
       " 5: {'windows': {'t1': [{'start': 5792, 'end': 5890},\n",
       "    {'start': 15586, 'end': 43378},\n",
       "    {'start': 49519, 'end': 54420},\n",
       "    {'start': 55986, 'end': 76857},\n",
       "    {'start': 79297, 'end': 80548}]},\n",
       "  'duration': 9055,\n",
       "  'priority': 5,\n",
       "  'resID': 5,\n",
       "  'free_windows_dict': {'t1': [{'start': 33994, 'end': 43378},\n",
       "    {'start': 49519, 'end': 54420},\n",
       "    {'start': 55986, 'end': 61503}]}},\n",
       " 6: {'windows': {'t1': [{'start': 948, 'end': 4112},\n",
       "    {'start': 4720, 'end': 10088},\n",
       "    {'start': 14171, 'end': 40589},\n",
       "    {'start': 70199, 'end': 78612}]},\n",
       "  'duration': 3263,\n",
       "  'priority': 7,\n",
       "  'resID': 6,\n",
       "  'free_windows_dict': {'t1': [{'start': 33994, 'end': 40589}]}},\n",
       " 7: {'windows': {'t1': [{'start': 5562, 'end': 18130},\n",
       "    {'start': 20473, 'end': 34520},\n",
       "    {'start': 41134, 'end': 44540},\n",
       "    {'start': 47211, 'end': 49381},\n",
       "    {'start': 49517, 'end': 80015}]},\n",
       "  'duration': 7573,\n",
       "  'priority': 9,\n",
       "  'resID': 7,\n",
       "  'free_windows_dict': {'t1': [{'start': 33994, 'end': 34520},\n",
       "    {'start': 41134, 'end': 44540},\n",
       "    {'start': 47211, 'end': 49381},\n",
       "    {'start': 49517, 'end': 61503}]}},\n",
       " 8: {'windows': {'t1': [{'start': 13444, 'end': 31147},\n",
       "    {'start': 33847, 'end': 35559},\n",
       "    {'start': 39464, 'end': 56517},\n",
       "    {'start': 57336, 'end': 66457},\n",
       "    {'start': 68305, 'end': 73303},\n",
       "    {'start': 78073, 'end': 81281},\n",
       "    {'start': 83137, 'end': 84395}]},\n",
       "  'duration': 4994,\n",
       "  'priority': 9,\n",
       "  'resID': 8,\n",
       "  'free_windows_dict': {'t1': [{'start': 33994, 'end': 35559},\n",
       "    {'start': 39464, 'end': 56517},\n",
       "    {'start': 57336, 'end': 61503}]}},\n",
       " 9: {'windows': {'t1': [{'start': 1501, 'end': 2628},\n",
       "    {'start': 7874, 'end': 17467},\n",
       "    {'start': 41271, 'end': 49350},\n",
       "    {'start': 54422, 'end': 76017},\n",
       "    {'start': 77228, 'end': 80713},\n",
       "    {'start': 82861, 'end': 83038}]},\n",
       "  'duration': 10308,\n",
       "  'priority': 6,\n",
       "  'resID': 9,\n",
       "  'free_windows_dict': {'t1': [{'start': 41271, 'end': 49350},\n",
       "    {'start': 54422, 'end': 61503}]}},\n",
       " 10: {'windows': {'t1': [{'start': 2785, 'end': 2907},\n",
       "    {'start': 7939, 'end': 32915},\n",
       "    {'start': 36559, 'end': 39142},\n",
       "    {'start': 46212, 'end': 46257},\n",
       "    {'start': 48387, 'end': 59809},\n",
       "    {'start': 64160, 'end': 77250},\n",
       "    {'start': 77682, 'end': 78833},\n",
       "    {'start': 79805, 'end': 82309}]},\n",
       "  'duration': 5273,\n",
       "  'priority': 3,\n",
       "  'resID': 10,\n",
       "  'free_windows_dict': {'t1': [{'start': 36559, 'end': 39142},\n",
       "    {'start': 46212, 'end': 46257},\n",
       "    {'start': 48387, 'end': 59809}]}},\n",
       " 11: {'windows': {'t1': [{'start': 3528, 'end': 13745},\n",
       "    {'start': 17225, 'end': 24280},\n",
       "    {'start': 34620, 'end': 39374},\n",
       "    {'start': 40634, 'end': 40982},\n",
       "    {'start': 48385, 'end': 49435},\n",
       "    {'start': 74613, 'end': 78069}]},\n",
       "  'duration': 8222,\n",
       "  'priority': 4,\n",
       "  'resID': 11,\n",
       "  'free_windows_dict': {'t1': [{'start': 34620, 'end': 39374},\n",
       "    {'start': 40634, 'end': 40982},\n",
       "    {'start': 48385, 'end': 49435}]}},\n",
       " 12: {'windows': {'t1': [{'start': 12716, 'end': 13348},\n",
       "    {'start': 24562, 'end': 31286},\n",
       "    {'start': 42200, 'end': 42963},\n",
       "    {'start': 43745, 'end': 57047},\n",
       "    {'start': 78738, 'end': 85136}]},\n",
       "  'duration': 3707,\n",
       "  'priority': 8,\n",
       "  'resID': 12,\n",
       "  'free_windows_dict': {'t1': [{'start': 42200, 'end': 42963},\n",
       "    {'start': 43745, 'end': 57047}]}},\n",
       " 13: {'windows': {'t1': [{'start': 10478, 'end': 28576},\n",
       "    {'start': 44133, 'end': 59126},\n",
       "    {'start': 74501, 'end': 85227}]},\n",
       "  'duration': 4463,\n",
       "  'priority': 4,\n",
       "  'resID': 13,\n",
       "  'free_windows_dict': {'t1': [{'start': 44133, 'end': 59126}]}},\n",
       " 14: {'windows': {'t1': [{'start': 4444, 'end': 25009},\n",
       "    {'start': 41306, 'end': 69419}]},\n",
       "  'duration': 9448,\n",
       "  'priority': 3,\n",
       "  'resID': 14,\n",
       "  'free_windows_dict': {'t1': [{'start': 41306, 'end': 61503}]}},\n",
       " 15: {'windows': {'t1': [{'start': 11211, 'end': 16998},\n",
       "    {'start': 38265, 'end': 44578},\n",
       "    {'start': 45256, 'end': 55217},\n",
       "    {'start': 67947, 'end': 77264},\n",
       "    {'start': 81177, 'end': 84140}]},\n",
       "  'duration': 4472,\n",
       "  'priority': 8,\n",
       "  'resID': 15,\n",
       "  'free_windows_dict': {'t1': [{'start': 38265, 'end': 44578},\n",
       "    {'start': 45256, 'end': 55217}]}},\n",
       " 16: {'windows': {'t1': [{'start': 611, 'end': 4658},\n",
       "    {'start': 20446, 'end': 26158},\n",
       "    {'start': 38063, 'end': 53676},\n",
       "    {'start': 54167, 'end': 54644},\n",
       "    {'start': 55020, 'end': 62567},\n",
       "    {'start': 74492, 'end': 83123}]},\n",
       "  'duration': 10231,\n",
       "  'priority': 9,\n",
       "  'resID': 16,\n",
       "  'free_windows_dict': {'t1': [{'start': 38063, 'end': 53676},\n",
       "    {'start': 54167, 'end': 54644},\n",
       "    {'start': 55020, 'end': 61503}]}},\n",
       " 17: {'windows': {'t1': [{'start': 4236, 'end': 8921},\n",
       "    {'start': 15728, 'end': 29109},\n",
       "    {'start': 29814, 'end': 32051},\n",
       "    {'start': 37619, 'end': 37885},\n",
       "    {'start': 44704, 'end': 59856},\n",
       "    {'start': 68028, 'end': 71284},\n",
       "    {'start': 73252, 'end': 77159}]},\n",
       "  'duration': 768,\n",
       "  'priority': 1,\n",
       "  'resID': 17,\n",
       "  'free_windows_dict': {'t1': [{'start': 37619, 'end': 37885},\n",
       "    {'start': 44704, 'end': 59856}]}},\n",
       " 18: {'windows': {'t1': [{'start': 1722, 'end': 6469},\n",
       "    {'start': 15835, 'end': 22520},\n",
       "    {'start': 56346, 'end': 63051},\n",
       "    {'start': 65953, 'end': 75622}]},\n",
       "  'duration': 4943,\n",
       "  'priority': 4,\n",
       "  'resID': 18,\n",
       "  'free_windows_dict': {'t1': [{'start': 56346, 'end': 61503}]}},\n",
       " 19: {'windows': {'t1': [{'start': 68808, 'end': 70385}]},\n",
       "  'duration': 6808,\n",
       "  'priority': 1,\n",
       "  'resID': 19,\n",
       "  'free_windows_dict': {'t1': []}}}"
      ]
     },
     "execution_count": 24,
     "metadata": {},
     "output_type": "execute_result"
    }
   ],
   "source": [
    "for i, r in requests.items():\n",
    "    requests[i][\"free_windows_dict\"] = {}\n",
    "    for res in requests[i][\"windows\"]:\n",
    "        requests[i][\"free_windows_dict\"][res] = overlap_time_segments(resource_availability[res], requests[i][\"windows\"][res])\n",
    "requests"
   ]
  },
  {
   "cell_type": "markdown",
   "id": "99dfec50-96da-4011-9bcd-9c20dd0ce9ac",
   "metadata": {},
   "source": [
    "### Build Model"
   ]
  },
  {
   "cell_type": "code",
   "execution_count": 25,
   "id": "606ffc73-6ba0-4453-8013-5b97ec45643d",
   "metadata": {},
   "outputs": [
    {
     "name": "stdout",
     "output_type": "stream",
     "text": [
      "{'windows': {'t1': [{'start': 19741, 'end': 25132}, {'start': 52053, 'end': 61638}, {'start': 62436, 'end': 70906}, {'start': 72041, 'end': 83763}]}, 'duration': 3829, 'priority': 3, 'resID': 0, 'free_windows_dict': {'t1': [{'start': 52053, 'end': 61503}]}}\n",
      "{'windows': {'t1': [{'start': 1985, 'end': 4064}, {'start': 5608, 'end': 8392}, {'start': 20892, 'end': 35314}, {'start': 39487, 'end': 50804}, {'start': 51768, 'end': 55959}, {'start': 61964, 'end': 75616}, {'start': 77476, 'end': 77955}]}, 'duration': 7314, 'priority': 3, 'resID': 1, 'free_windows_dict': {'t1': [{'start': 33994, 'end': 35314}, {'start': 39487, 'end': 50804}, {'start': 51768, 'end': 55959}]}}\n",
      "{'windows': {'t1': [{'start': 4703, 'end': 12773}, {'start': 17821, 'end': 28440}, {'start': 33814, 'end': 39456}, {'start': 50576, 'end': 55200}, {'start': 57168, 'end': 64865}, {'start': 66485, 'end': 82136}]}, 'duration': 9434, 'priority': 6, 'resID': 2, 'free_windows_dict': {'t1': [{'start': 33994, 'end': 39456}, {'start': 50576, 'end': 55200}, {'start': 57168, 'end': 61503}]}}\n",
      "{'windows': {'t1': [{'start': 3756, 'end': 13641}, {'start': 21377, 'end': 27672}, {'start': 30459, 'end': 36658}, {'start': 42780, 'end': 44140}, {'start': 71010, 'end': 74594}, {'start': 74967, 'end': 76579}, {'start': 79405, 'end': 85919}]}, 'duration': 10400, 'priority': 10, 'resID': 3, 'free_windows_dict': {'t1': [{'start': 33994, 'end': 36658}, {'start': 42780, 'end': 44140}]}}\n",
      "{'windows': {'t1': [{'start': 8317, 'end': 8730}, {'start': 11602, 'end': 16309}, {'start': 37349, 'end': 45099}, {'start': 53800, 'end': 63176}, {'start': 63374, 'end': 83723}]}, 'duration': 2500, 'priority': 1, 'resID': 4, 'free_windows_dict': {'t1': [{'start': 37349, 'end': 45099}, {'start': 53800, 'end': 61503}]}}\n",
      "{'windows': {'t1': [{'start': 5792, 'end': 5890}, {'start': 15586, 'end': 43378}, {'start': 49519, 'end': 54420}, {'start': 55986, 'end': 76857}, {'start': 79297, 'end': 80548}]}, 'duration': 9055, 'priority': 5, 'resID': 5, 'free_windows_dict': {'t1': [{'start': 33994, 'end': 43378}, {'start': 49519, 'end': 54420}, {'start': 55986, 'end': 61503}]}}\n",
      "{'windows': {'t1': [{'start': 948, 'end': 4112}, {'start': 4720, 'end': 10088}, {'start': 14171, 'end': 40589}, {'start': 70199, 'end': 78612}]}, 'duration': 3263, 'priority': 7, 'resID': 6, 'free_windows_dict': {'t1': [{'start': 33994, 'end': 40589}]}}\n",
      "{'windows': {'t1': [{'start': 5562, 'end': 18130}, {'start': 20473, 'end': 34520}, {'start': 41134, 'end': 44540}, {'start': 47211, 'end': 49381}, {'start': 49517, 'end': 80015}]}, 'duration': 7573, 'priority': 9, 'resID': 7, 'free_windows_dict': {'t1': [{'start': 33994, 'end': 34520}, {'start': 41134, 'end': 44540}, {'start': 47211, 'end': 49381}, {'start': 49517, 'end': 61503}]}}\n",
      "{'windows': {'t1': [{'start': 13444, 'end': 31147}, {'start': 33847, 'end': 35559}, {'start': 39464, 'end': 56517}, {'start': 57336, 'end': 66457}, {'start': 68305, 'end': 73303}, {'start': 78073, 'end': 81281}, {'start': 83137, 'end': 84395}]}, 'duration': 4994, 'priority': 9, 'resID': 8, 'free_windows_dict': {'t1': [{'start': 33994, 'end': 35559}, {'start': 39464, 'end': 56517}, {'start': 57336, 'end': 61503}]}}\n",
      "{'windows': {'t1': [{'start': 1501, 'end': 2628}, {'start': 7874, 'end': 17467}, {'start': 41271, 'end': 49350}, {'start': 54422, 'end': 76017}, {'start': 77228, 'end': 80713}, {'start': 82861, 'end': 83038}]}, 'duration': 10308, 'priority': 6, 'resID': 9, 'free_windows_dict': {'t1': [{'start': 41271, 'end': 49350}, {'start': 54422, 'end': 61503}]}}\n",
      "{'windows': {'t1': [{'start': 2785, 'end': 2907}, {'start': 7939, 'end': 32915}, {'start': 36559, 'end': 39142}, {'start': 46212, 'end': 46257}, {'start': 48387, 'end': 59809}, {'start': 64160, 'end': 77250}, {'start': 77682, 'end': 78833}, {'start': 79805, 'end': 82309}]}, 'duration': 5273, 'priority': 3, 'resID': 10, 'free_windows_dict': {'t1': [{'start': 36559, 'end': 39142}, {'start': 46212, 'end': 46257}, {'start': 48387, 'end': 59809}]}}\n",
      "{'windows': {'t1': [{'start': 3528, 'end': 13745}, {'start': 17225, 'end': 24280}, {'start': 34620, 'end': 39374}, {'start': 40634, 'end': 40982}, {'start': 48385, 'end': 49435}, {'start': 74613, 'end': 78069}]}, 'duration': 8222, 'priority': 4, 'resID': 11, 'free_windows_dict': {'t1': [{'start': 34620, 'end': 39374}, {'start': 40634, 'end': 40982}, {'start': 48385, 'end': 49435}]}}\n",
      "{'windows': {'t1': [{'start': 12716, 'end': 13348}, {'start': 24562, 'end': 31286}, {'start': 42200, 'end': 42963}, {'start': 43745, 'end': 57047}, {'start': 78738, 'end': 85136}]}, 'duration': 3707, 'priority': 8, 'resID': 12, 'free_windows_dict': {'t1': [{'start': 42200, 'end': 42963}, {'start': 43745, 'end': 57047}]}}\n",
      "{'windows': {'t1': [{'start': 10478, 'end': 28576}, {'start': 44133, 'end': 59126}, {'start': 74501, 'end': 85227}]}, 'duration': 4463, 'priority': 4, 'resID': 13, 'free_windows_dict': {'t1': [{'start': 44133, 'end': 59126}]}}\n",
      "{'windows': {'t1': [{'start': 4444, 'end': 25009}, {'start': 41306, 'end': 69419}]}, 'duration': 9448, 'priority': 3, 'resID': 14, 'free_windows_dict': {'t1': [{'start': 41306, 'end': 61503}]}}\n",
      "{'windows': {'t1': [{'start': 11211, 'end': 16998}, {'start': 38265, 'end': 44578}, {'start': 45256, 'end': 55217}, {'start': 67947, 'end': 77264}, {'start': 81177, 'end': 84140}]}, 'duration': 4472, 'priority': 8, 'resID': 15, 'free_windows_dict': {'t1': [{'start': 38265, 'end': 44578}, {'start': 45256, 'end': 55217}]}}\n",
      "{'windows': {'t1': [{'start': 611, 'end': 4658}, {'start': 20446, 'end': 26158}, {'start': 38063, 'end': 53676}, {'start': 54167, 'end': 54644}, {'start': 55020, 'end': 62567}, {'start': 74492, 'end': 83123}]}, 'duration': 10231, 'priority': 9, 'resID': 16, 'free_windows_dict': {'t1': [{'start': 38063, 'end': 53676}, {'start': 54167, 'end': 54644}, {'start': 55020, 'end': 61503}]}}\n",
      "{'windows': {'t1': [{'start': 4236, 'end': 8921}, {'start': 15728, 'end': 29109}, {'start': 29814, 'end': 32051}, {'start': 37619, 'end': 37885}, {'start': 44704, 'end': 59856}, {'start': 68028, 'end': 71284}, {'start': 73252, 'end': 77159}]}, 'duration': 768, 'priority': 1, 'resID': 17, 'free_windows_dict': {'t1': [{'start': 37619, 'end': 37885}, {'start': 44704, 'end': 59856}]}}\n",
      "{'windows': {'t1': [{'start': 1722, 'end': 6469}, {'start': 15835, 'end': 22520}, {'start': 56346, 'end': 63051}, {'start': 65953, 'end': 75622}]}, 'duration': 4943, 'priority': 4, 'resID': 18, 'free_windows_dict': {'t1': [{'start': 56346, 'end': 61503}]}}\n",
      "{'windows': {'t1': [{'start': 68808, 'end': 70385}]}, 'duration': 6808, 'priority': 1, 'resID': 19, 'free_windows_dict': {'t1': []}}\n",
      "Set parameter Username\n",
      "Academic license - for non-commercial use only - expires 2024-08-20\n",
      "Set parameter MIPGap to value 0.01\n",
      "Set parameter Method to value 3\n",
      "Warning: variables 0 and 1 have the same name \"0\"\n",
      "Warning: default variable names used to write mps file\n",
      "\n",
      "\n",
      "Model built and written to file: test_model.mps\n"
     ]
    }
   ],
   "source": [
    "yik, aikt = build_data_structures(requests, 300)\n",
    "build_model(yik, aikt)"
   ]
  },
  {
   "cell_type": "markdown",
   "id": "57e3ac39-1795-4ce0-b355-dbd73907813d",
   "metadata": {},
   "source": [
    "### Solve Model - Gurobi"
   ]
  },
  {
   "cell_type": "code",
   "execution_count": 26,
   "id": "59885d1e-fd2a-4c30-8c87-bf2422f0ff71",
   "metadata": {},
   "outputs": [
    {
     "name": "stdout",
     "output_type": "stream",
     "text": [
      "Read MPS format model from file test_model.mps\n",
      "Reading time = 0.03 seconds\n",
      "Test: 112 rows, 363 columns, 6366 nonzeros\n",
      "Gurobi Optimizer version 10.0.2 build v10.0.2rc0 (win64)\n",
      "\n",
      "CPU model: Intel(R) Core(TM) i5-8250U CPU @ 1.60GHz, instruction set [SSE2|AVX|AVX2]\n",
      "Thread count: 4 physical cores, 8 logical processors, using up to 8 threads\n",
      "\n",
      "Optimize a model with 112 rows, 363 columns and 6366 nonzeros\n",
      "Model fingerprint: 0x4eb34b59\n",
      "Variable types: 0 continuous, 363 integer (363 binary)\n",
      "Coefficient statistics:\n",
      "  Matrix range     [1e+00, 1e+00]\n",
      "  Objective range  [1e+00, 9e+00]\n",
      "  Bounds range     [1e+00, 1e+00]\n",
      "  RHS range        [1e+00, 1e+00]\n",
      "Found heuristic solution: objective 23.3159415\n",
      "Presolve removed 59 rows and 163 columns\n",
      "Presolve time: 0.08s\n",
      "Presolved: 53 rows, 200 columns, 2489 nonzeros\n",
      "Variable types: 0 continuous, 200 integer (200 binary)\n",
      "Found heuristic solution: objective 34.2438095\n",
      "\n",
      "Root relaxation: objective 4.271720e+01, 62 iterations, 0.00 seconds (0.00 work units)\n",
      "\n",
      "    Nodes    |    Current Node    |     Objective Bounds      |     Work\n",
      " Expl Unexpl |  Obj  Depth IntInf | Incumbent    BestBd   Gap | It/Node Time\n",
      "\n",
      "     0     0   42.71720    0    9   34.24381   42.71720  24.7%     -    0s\n",
      "H    0     0                      42.2004978   42.71720  1.22%     -    0s\n",
      "H    0     0                      42.2279555   42.71720  1.16%     -    0s\n",
      "H    0     0                      42.2296221   42.71720  1.15%     -    0s\n",
      "H    0     0                      42.3188830   42.71561  0.94%     -    0s\n",
      "\n",
      "Cutting planes:\n",
      "  Gomory: 1\n",
      "  Clique: 1\n",
      "  Zero half: 1\n",
      "\n",
      "Explored 1 nodes (62 simplex iterations) in 0.21 seconds (0.03 work units)\n",
      "Thread count was 8 (of 8 available processors)\n",
      "\n",
      "Solution count 6: 42.3189 42.2296 42.228 ... 23.3159\n",
      "\n",
      "Optimal solution found (tolerance 1.00e-04)\n",
      "Best objective 4.231888297373e+01, best bound 4.231888297373e+01, gap 0.0000%\n"
     ]
    }
   ],
   "source": [
    "model = load_model()\n",
    "model.optimize()"
   ]
  },
  {
   "cell_type": "code",
   "execution_count": 27,
   "id": "a0fca7e2-4c4d-464a-ae3a-cd92a7037252",
   "metadata": {},
   "outputs": [
    {
     "name": "stdout",
     "output_type": "stream",
     "text": [
      "72 [6, 0, 7, 't1', 0, <__main__.PossibleStart object at 0x000001982C747A50>]\n",
      "98 [7, 14, 9, 't1', 0, <__main__.PossibleStart object at 0x000001982C731150>]\n"
     ]
    }
   ],
   "source": [
    "if model.Status == GRB.OPTIMAL:\n",
    "    solution = model.getAttr(\"X\")\n",
    "    for i in range(len(solution)):\n",
    "        if solution[i] == 1:\n",
    "            print(i, yik[i])"
   ]
  },
  {
   "cell_type": "code",
   "execution_count": 28,
   "id": "ef48a1bf-58ed-4912-a5e0-a9edbf748240",
   "metadata": {},
   "outputs": [
    {
     "name": "stdout",
     "output_type": "stream",
     "text": [
      "Total Priority Score:  6.000000499359214\n"
     ]
    }
   ],
   "source": [
    "print(\"Total Priority Score: \", sum(solution))"
   ]
  },
  {
   "cell_type": "markdown",
   "id": "432e8bff-a951-4fa9-a222-b661801e2479",
   "metadata": {},
   "source": [
    "## Interpret Results"
   ]
  },
  {
   "cell_type": "code",
   "execution_count": 29,
   "id": "786af7d7-3d76-480d-b13a-7abe8bd5eed8",
   "metadata": {},
   "outputs": [
    {
     "name": "stdout",
     "output_type": "stream",
     "text": [
      "0\n",
      "[6, 0, 7, 't1', 0, <__main__.PossibleStart object at 0x000001982C747A50>]\n",
      "6\n",
      "Request 6:\n",
      "Resource = t1\n",
      "Start Window ID = (91, 'resource_t1_start_51600_length_300')\n",
      "Start / End (Duration) = 33994 / 37257 (3263)\n",
      "Duration = 3263\n",
      "\n",
      "1\n",
      "[7, 14, 9, 't1', 0, <__main__.PossibleStart object at 0x000001982C731150>]\n",
      "7\n",
      "Request 7:\n",
      "Resource = t1\n",
      "Start Window ID = (13, 'resource_t1_start_55800_length_300')\n",
      "Start / End (Duration) = 53700 / 61273 (7573)\n",
      "Duration = 7573\n",
      "\n"
     ]
    }
   ],
   "source": [
    "interpret_solution(solution, yik, aikt, requests)"
   ]
  },
  {
   "cell_type": "markdown",
   "id": "bcd8efce-9e33-4ccd-ac86-6c1be3a642ca",
   "metadata": {},
   "source": [
    "## Create Sample Input File"
   ]
  },
  {
   "cell_type": "markdown",
   "id": "218d3adf-e18c-4da2-b922-5f12548e3ac3",
   "metadata": {},
   "source": [
    "### Create Input Variables"
   ]
  },
  {
   "cell_type": "code",
   "execution_count": 30,
   "id": "82d8c8e5-01f6-487d-b4c2-4fe641fef785",
   "metadata": {},
   "outputs": [],
   "source": [
    "sample_input_variables = {\n",
    "    \"start_time\": 0,\n",
    "    \"slice_size\": 300,\n",
    "    \"horizon\": 28800,    # 8 hours\n",
    "    \"resources\": {\"t1\": [{\"start\": 0, \"end\": 10000}, {\"start\": 12500, \"end\": 28800}]}\n",
    "}"
   ]
  },
  {
   "cell_type": "markdown",
   "id": "f45c0db6-f17a-4b10-b4b9-c54f49c75a05",
   "metadata": {},
   "source": [
    "### Create Requests"
   ]
  },
  {
   "cell_type": "code",
   "execution_count": 31,
   "id": "ade51eac-8960-4ebb-a47f-552c91998ff8",
   "metadata": {},
   "outputs": [],
   "source": [
    "sample_requests = {}\n",
    "#0\n",
    "sample_requests[0] = {\n",
    "    \"windows\": {\n",
    "        \"t1\": [\n",
    "            {'start': 0, \"end\": 4500},\n",
    "            {'start': 8100, \"end\": 12600},\n",
    "            {'start': 16200, \"end\": 20700},\n",
    "            {'start': 24300, \"end\": 28800}\n",
    "        ]\n",
    "    },\n",
    "    \"duration\": 2000,\n",
    "    \"priority\": 3,\n",
    "    \"resID\": 0\n",
    "}"
   ]
  },
  {
   "cell_type": "code",
   "execution_count": 32,
   "id": "9743bfa0-639f-41a0-a240-25f2a6021615",
   "metadata": {},
   "outputs": [],
   "source": [
    "#1\n",
    "sample_requests[1] = {\n",
    "    \"windows\": {\n",
    "        \"t1\": [\n",
    "            {'start': 2000, \"end\": 8000},\n",
    "            {'start': 13000, \"end\": 19000}\n",
    "        ]\n",
    "    },\n",
    "    \"duration\": 4000,\n",
    "    \"priority\": 3,\n",
    "    \"resID\": 1\n",
    "}"
   ]
  },
  {
   "cell_type": "code",
   "execution_count": 33,
   "id": "da7d308a-8f06-4bfe-b613-37a96f4c6605",
   "metadata": {},
   "outputs": [],
   "source": [
    "#2\n",
    "sample_requests[2] = {\n",
    "    \"windows\": {\n",
    "        \"t1\": [\n",
    "            {'start': 0, \"end\": 1800},\n",
    "            {'start': 3600, \"end\": 5400},\n",
    "            {'start': 7200, \"end\": 9000},\n",
    "            {'start': 10800, \"end\": 12600},\n",
    "            {'start': 14400, \"end\": 16200}\n",
    "        ]\n",
    "    },\n",
    "    \"duration\": 1800,\n",
    "    \"priority\": 10,\n",
    "    \"resID\": 2\n",
    "}"
   ]
  },
  {
   "cell_type": "code",
   "execution_count": 34,
   "id": "65b76454-f4c7-4dfa-aad6-dd8cab0907f2",
   "metadata": {},
   "outputs": [],
   "source": [
    "#3\n",
    "sample_requests[3] = {\n",
    "    \"windows\": {\n",
    "        \"t1\": [\n",
    "            {'start': 50, \"end\": 9050},\n",
    "        ]\n",
    "    },\n",
    "    \"duration\": 6000,\n",
    "    \"priority\": 3,\n",
    "    \"resID\": 3\n",
    "}"
   ]
  },
  {
   "cell_type": "code",
   "execution_count": 35,
   "id": "bc371f2c-75e3-472d-bd2d-3421c768ad00",
   "metadata": {},
   "outputs": [],
   "source": [
    "#4\n",
    "sample_requests[4] = {\n",
    "    \"windows\": {\n",
    "        \"t1\": [\n",
    "            {'start': 2000, \"end\": 8000},\n",
    "            {'start': 14500, \"end\": 26800}\n",
    "        ]\n",
    "    },\n",
    "    \"duration\": 1000,\n",
    "    \"priority\": 3,\n",
    "    \"resID\": 4\n",
    "}"
   ]
  },
  {
   "cell_type": "code",
   "execution_count": 36,
   "id": "9a24e697-7484-4ae2-b77f-4e2b02a28e2c",
   "metadata": {},
   "outputs": [],
   "source": [
    "#5\n",
    "sample_requests[5] = {\n",
    "    \"windows\": {\n",
    "        \"t1\": [\n",
    "            {'start': 0, \"end\": 1000},\n",
    "            {'start': 9500, \"end\": 10500},\n",
    "            {'start': 14500, \"end\": 15500},\n",
    "            {'start': 25500, \"end\": 26500}\n",
    "        ]\n",
    "    },\n",
    "    \"duration\": 400,\n",
    "    \"priority\": 3,\n",
    "    \"resID\": 5\n",
    "}"
   ]
  },
  {
   "cell_type": "markdown",
   "id": "7e36c4d6-a1b7-4427-adef-c92bc4efbeab",
   "metadata": {},
   "source": [
    "### Combine and Save"
   ]
  },
  {
   "cell_type": "code",
   "execution_count": 37,
   "id": "d805a3af-4824-4cbb-bee2-8d55cf5d847b",
   "metadata": {},
   "outputs": [
    {
     "data": {
      "text/plain": [
       "{'input_parameters': {'start_time': 0,\n",
       "  'slice_size': 300,\n",
       "  'horizon': 28800,\n",
       "  'resources': {'t1': [{'start': 0, 'end': 10000},\n",
       "    {'start': 12500, 'end': 28800}]}},\n",
       " 'requests': {0: {'windows': {'t1': [{'start': 0, 'end': 4500},\n",
       "     {'start': 8100, 'end': 12600},\n",
       "     {'start': 16200, 'end': 20700},\n",
       "     {'start': 24300, 'end': 28800}]},\n",
       "   'duration': 2000,\n",
       "   'priority': 3,\n",
       "   'resID': 0},\n",
       "  1: {'windows': {'t1': [{'start': 2000, 'end': 8000},\n",
       "     {'start': 13000, 'end': 19000}]},\n",
       "   'duration': 4000,\n",
       "   'priority': 3,\n",
       "   'resID': 1},\n",
       "  2: {'windows': {'t1': [{'start': 0, 'end': 1800},\n",
       "     {'start': 3600, 'end': 5400},\n",
       "     {'start': 7200, 'end': 9000},\n",
       "     {'start': 10800, 'end': 12600},\n",
       "     {'start': 14400, 'end': 16200}]},\n",
       "   'duration': 1800,\n",
       "   'priority': 10,\n",
       "   'resID': 2},\n",
       "  3: {'windows': {'t1': [{'start': 50, 'end': 9050}]},\n",
       "   'duration': 6000,\n",
       "   'priority': 3,\n",
       "   'resID': 3},\n",
       "  4: {'windows': {'t1': [{'start': 2000, 'end': 8000},\n",
       "     {'start': 14500, 'end': 26800}]},\n",
       "   'duration': 1000,\n",
       "   'priority': 3,\n",
       "   'resID': 4},\n",
       "  5: {'windows': {'t1': [{'start': 0, 'end': 1000},\n",
       "     {'start': 9500, 'end': 10500},\n",
       "     {'start': 14500, 'end': 15500},\n",
       "     {'start': 25500, 'end': 26500}]},\n",
       "   'duration': 400,\n",
       "   'priority': 3,\n",
       "   'resID': 5}}}"
      ]
     },
     "execution_count": 37,
     "metadata": {},
     "output_type": "execute_result"
    }
   ],
   "source": [
    "sample_input = {\n",
    "    \"input_parameters\": sample_input_variables,\n",
    "    \"requests\": sample_requests\n",
    "}\n",
    "sample_input"
   ]
  },
  {
   "cell_type": "code",
   "execution_count": 38,
   "id": "b72c9292-3860-434e-bfcf-65b88d843058",
   "metadata": {},
   "outputs": [],
   "source": [
    "with open(\"sample_input.json\", \"w\") as f:\n",
    "    json.dump(sample_input, f)"
   ]
  },
  {
   "cell_type": "markdown",
   "id": "51452706-13ac-48db-bf83-98831c6691a1",
   "metadata": {},
   "source": [
    "## Convert Input File to Parameters"
   ]
  },
  {
   "cell_type": "code",
   "execution_count": null,
   "id": "2b1098aa-fb70-46aa-94b7-18677279dc0a",
   "metadata": {},
   "outputs": [],
   "source": []
  }
 ],
 "metadata": {
  "kernelspec": {
   "display_name": "Python 3 (ipykernel)",
   "language": "python",
   "name": "python3"
  },
  "language_info": {
   "codemirror_mode": {
    "name": "ipython",
    "version": 3
   },
   "file_extension": ".py",
   "mimetype": "text/x-python",
   "name": "python",
   "nbconvert_exporter": "python",
   "pygments_lexer": "ipython3",
   "version": "3.11.4"
  },
  "toc": {
   "base_numbering": 1,
   "nav_menu": {},
   "number_sections": true,
   "sideBar": true,
   "skip_h1_title": true,
   "title_cell": "Table of Contents",
   "title_sidebar": "Contents",
   "toc_cell": false,
   "toc_position": {},
   "toc_section_display": true,
   "toc_window_display": true
  }
 },
 "nbformat": 4,
 "nbformat_minor": 5
}
