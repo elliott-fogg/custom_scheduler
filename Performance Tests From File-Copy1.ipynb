{
 "cells": [
  {
   "cell_type": "markdown",
   "id": "538b708c-ca20-4987-a871-9386c2678312",
   "metadata": {},
   "source": [
    "# Import Libraries"
   ]
  },
  {
   "cell_type": "code",
   "execution_count": 1,
   "id": "fa93a188-701b-4a72-a6a4-bb8eba3705eb",
   "metadata": {
    "execution": {
     "iopub.execute_input": "2024-06-06T21:26:00.496217Z",
     "iopub.status.busy": "2024-06-06T21:26:00.495835Z",
     "iopub.status.idle": "2024-06-06T21:26:02.351164Z",
     "shell.execute_reply": "2024-06-06T21:26:02.349713Z",
     "shell.execute_reply.started": "2024-06-06T21:26:00.496189Z"
    }
   },
   "outputs": [],
   "source": [
    "from test_template_from_file import PerformanceTest\n",
    "# AltPerformanceTest, AltPerformanceTestParser, SolverComparisonTest\n",
    "import os\n",
    "import json\n",
    "import re\n",
    "import pandas as pd\n",
    "import seaborn as sns"
   ]
  },
  {
   "cell_type": "markdown",
   "id": "3f955f49-161e-4c51-a099-b495c81f0a0a",
   "metadata": {},
   "source": [
    "# Performance Tests"
   ]
  },
  {
   "cell_type": "markdown",
   "id": "621d7c2c-b8bd-4911-ae13-ef3da42f4ab2",
   "metadata": {},
   "source": [
    "## Performance Test 1"
   ]
  },
  {
   "cell_type": "code",
   "execution_count": null,
   "id": "1d2f3227-3406-4122-b168-b3674ae01916",
   "metadata": {
    "scrolled": true
   },
   "outputs": [],
   "source": [
    "pt1 = PerformanceTest(\"../request_generation/input_data\", \"test_output\", \"historic\")\n",
    "pt1.run()"
   ]
  },
  {
   "cell_type": "markdown",
   "id": "82b14013-b10e-4f54-936c-cffa5b4fbc3f",
   "metadata": {},
   "source": [
    "## Performance Test 2"
   ]
  },
  {
   "cell_type": "code",
   "execution_count": null,
   "id": "03b0c5f2-787b-4a23-8467-8930930be511",
   "metadata": {
    "scrolled": true
   },
   "outputs": [],
   "source": [
    "pt2 = AltPerformanceTest(\"data/performance_input\", \"data/performance_output\", \"performanceTest2\")\n",
    "pt2.run()"
   ]
  },
  {
   "cell_type": "markdown",
   "id": "6b56f6f9-ca72-45a0-a61f-d80cc5ba7ccc",
   "metadata": {},
   "source": [
    "## Performance Test 3"
   ]
  },
  {
   "cell_type": "code",
   "execution_count": null,
   "id": "9b7b946a-e14e-4fa4-8015-2148d4537290",
   "metadata": {
    "scrolled": true
   },
   "outputs": [],
   "source": [
    "pt3 = AltPerformanceTest(\"data/performance_input\", \"data/performance_output\", \"performanceTest3\")\n",
    "pt3.run()"
   ]
  },
  {
   "cell_type": "markdown",
   "id": "be3c6c4c-351f-4d19-be6d-a440afc4984a",
   "metadata": {},
   "source": [
    "## Performance Test 5"
   ]
  },
  {
   "cell_type": "code",
   "execution_count": null,
   "id": "6482123b-e06d-4142-912c-587c83466d91",
   "metadata": {
    "scrolled": true
   },
   "outputs": [],
   "source": [
    "pt5 = AltPerformanceTest(\"data/performance_input\", \"data/performance_output\", \"performanceTest5\")\n",
    "pt5.run()"
   ]
  },
  {
   "cell_type": "markdown",
   "id": "35e143e6-a4aa-46a1-bc57-ab515fac9248",
   "metadata": {},
   "source": [
    "## Performance Test 6"
   ]
  },
  {
   "cell_type": "code",
   "execution_count": null,
   "id": "a89d9ecf-13b9-48ae-9ffd-37a4185c9cac",
   "metadata": {},
   "outputs": [],
   "source": [
    "pt6 = AltPerformanceTest(\"data/performance_input\", \"data/performance_output\", \"performanceTest6\")\n",
    "pt6.run()"
   ]
  },
  {
   "cell_type": "markdown",
   "id": "9acaa09f-2c72-4587-bd40-4f10fd0af47c",
   "metadata": {},
   "source": [
    "## Performance Test 7"
   ]
  },
  {
   "cell_type": "code",
   "execution_count": null,
   "id": "4c2f4031-767f-43e1-8642-4e073cbedb22",
   "metadata": {
    "scrolled": true
   },
   "outputs": [],
   "source": [
    "pt7 = AltPerformanceTest(\"data/performance_input\", \"data/performance_output\", \"performanceTest7\")\n",
    "pt7.run()"
   ]
  },
  {
   "cell_type": "markdown",
   "id": "ee8be652-eefe-465b-aec3-f02df04d5748",
   "metadata": {},
   "source": [
    "# Solver Comparison"
   ]
  },
  {
   "cell_type": "code",
   "execution_count": null,
   "id": "b0bd3bbc-0524-415c-ad67-62fddf38f03b",
   "metadata": {},
   "outputs": [],
   "source": [
    "comparison_time_limit = 150"
   ]
  },
  {
   "cell_type": "markdown",
   "id": "ee76724b-9488-4817-a8ea-8691658671b4",
   "metadata": {},
   "source": [
    "## Performance Test 1"
   ]
  },
  {
   "cell_type": "markdown",
   "id": "c4bd74b8-5793-4b11-9419-c45b137f7fe2",
   "metadata": {},
   "source": [
    "### Gurobi"
   ]
  },
  {
   "cell_type": "code",
   "execution_count": null,
   "id": "70319597-ee39-45aa-9761-7214453576c9",
   "metadata": {
    "scrolled": true
   },
   "outputs": [],
   "source": [
    "ptg1 = SolverComparisonTest(\"data/comparison_input\", \"data/comparison_output\", \"performanceTest1\",\n",
    "                            scheduler_type=\"gurobi\", timelimit=comparison_time_limit)\n",
    "ptg1.run()"
   ]
  },
  {
   "cell_type": "markdown",
   "id": "d298cb5f-e221-46ef-81f4-b6a393388e8c",
   "metadata": {},
   "source": [
    "### CPSAT"
   ]
  },
  {
   "cell_type": "code",
   "execution_count": null,
   "id": "08a6f807-1834-4d34-a70c-e41d0895035b",
   "metadata": {
    "scrolled": true
   },
   "outputs": [],
   "source": [
    "pt1_cpsat = SolverComparisonTest(\"data/comparison_input\", \"data/comparison_output\", \"performanceTest1\", \n",
    "                                 scheduler_type=\"cpsat\", timelimit=comparison_time_limit)\n",
    "pt1_cpsat.run()"
   ]
  },
  {
   "cell_type": "markdown",
   "id": "5462dbbb-885c-4424-b5ef-96fcb3787f93",
   "metadata": {},
   "source": [
    "### CBC"
   ]
  },
  {
   "cell_type": "code",
   "execution_count": null,
   "id": "af2c991d-f601-4b7e-8d9f-bf7c1782d6af",
   "metadata": {},
   "outputs": [],
   "source": [
    "pt1_cbc = SolverComparisonTest(\"data/comparison_input\", \"data/comparison_output\", \"performanceTest1\", \n",
    "                               scheduler_type=\"cbc\", timelimit=comparison_time_limit)\n",
    "pt1_cbc.run()"
   ]
  },
  {
   "cell_type": "markdown",
   "id": "87375314-7252-41ed-8936-bba49a5360d9",
   "metadata": {},
   "source": [
    "### SCIP"
   ]
  },
  {
   "cell_type": "code",
   "execution_count": null,
   "id": "484c1f6b-dbea-457d-b71f-3e97a4d0ad21",
   "metadata": {},
   "outputs": [],
   "source": [
    "pt1_scip = SolverComparisonTest(\"data/comparison_input\", \"data/comparison_output\", \"performanceTest1\", \n",
    "                                scheduler_type=\"scip\", timelimit=comparison_time_limit)\n",
    "pt1_scip.run()"
   ]
  },
  {
   "cell_type": "markdown",
   "id": "c27fd40c-dbdb-4f38-96d2-189063716907",
   "metadata": {},
   "source": [
    "### HiGHS"
   ]
  },
  {
   "cell_type": "code",
   "execution_count": null,
   "id": "9df7ac60-48fb-467f-96d5-45290b3559a0",
   "metadata": {},
   "outputs": [],
   "source": [
    "pt1_highs = SolverComparisonTest(\"data/comparison_input\", \"data/comparison_output\", \"performanceTest1\", \n",
    "                                 scheduler_type=\"highs\", timelimit=comparison_time_limit)\n",
    "pt1_highs.run()"
   ]
  },
  {
   "cell_type": "markdown",
   "id": "13fe361f-93cd-4b61-886c-d474371c8ab8",
   "metadata": {},
   "source": [
    "### PuLP Gurobi"
   ]
  },
  {
   "cell_type": "code",
   "execution_count": null,
   "id": "73ac2d5a-7589-4b88-8fc2-87cd6de44da6",
   "metadata": {},
   "outputs": [],
   "source": [
    "pt1_gp = SolverComparisonTest(\"data/comparison_input\", \"data/comparison_output\", \"performanceTest1\", \n",
    "                              scheduler_type=\"gurobi_pulp\", timelimit=comparison_time_limit)\n",
    "pt1_gp.run()"
   ]
  },
  {
   "cell_type": "markdown",
   "id": "d36c0434-62c9-45d6-9ee1-3aeebacc1e22",
   "metadata": {},
   "source": [
    "### PuLP Gurobi CMD"
   ]
  },
  {
   "cell_type": "code",
   "execution_count": null,
   "id": "145406df-dd66-454c-9b4b-ef180ffc6bf1",
   "metadata": {},
   "outputs": [],
   "source": [
    "pt1_gpc = SolverComparisonTest(\"data/comparison_input\", \"data/comparison_output\", \"performanceTest1\", \n",
    "                               scheduler_type=\"gurobi_pulp_cmd\", timelimit=comparison_time_limit)\n",
    "pt1_gpc.run()"
   ]
  },
  {
   "cell_type": "markdown",
   "id": "cfb9b393-147f-4753-b5ad-c346bf6e05ac",
   "metadata": {},
   "source": [
    "## Performance Test 5"
   ]
  },
  {
   "cell_type": "markdown",
   "id": "8b2ae4f7-e58a-4ec3-ae8f-68023b820c20",
   "metadata": {},
   "source": [
    "### Gurobi"
   ]
  },
  {
   "cell_type": "code",
   "execution_count": null,
   "id": "b54cb600-53d6-4180-86f5-a4349be80d29",
   "metadata": {},
   "outputs": [],
   "source": [
    "pt5_g = SolverComparisonTest(\"data/performance_input\", \"data/comparison_output\", \"performanceTest5\", \n",
    "                             scheduler_type=\"gurobi\")\n",
    "pt5_g.run()"
   ]
  },
  {
   "cell_type": "markdown",
   "id": "338ba9e0-d10d-49d5-9570-ea389e73e19e",
   "metadata": {},
   "source": [
    "### CPSAT"
   ]
  },
  {
   "cell_type": "code",
   "execution_count": null,
   "id": "f906dcc5-7364-4de6-a718-0d1ff6faf512",
   "metadata": {},
   "outputs": [],
   "source": [
    "pt5_cpsat = SolverComparisonTest(\"data/performance_input\", \"data/comparison_output\", \"performanceTest5\", scheduler_type=\"cpsat\")\n",
    "pt5_cpsat.run()"
   ]
  },
  {
   "cell_type": "markdown",
   "id": "54d79f4f-87fc-45e2-bc62-a7012cdd0130",
   "metadata": {},
   "source": [
    "### CBC"
   ]
  },
  {
   "cell_type": "code",
   "execution_count": null,
   "id": "20b4211a-098d-4e76-9380-1f183056b2b0",
   "metadata": {},
   "outputs": [],
   "source": [
    "pt5_cbc = SolverComparisonTest(\"data/performance_input\", \"data/comparison_output\", \"performanceTest5\", scheduler_type=\"cbc\")\n",
    "pt5_cbc.run()"
   ]
  },
  {
   "cell_type": "markdown",
   "id": "1ca3cb1f-fd8e-4cd1-aec4-7f6acc712a38",
   "metadata": {},
   "source": [
    "### SCIP"
   ]
  },
  {
   "cell_type": "code",
   "execution_count": null,
   "id": "b537e03e-862f-4801-a973-c944daa69bf3",
   "metadata": {},
   "outputs": [],
   "source": [
    "pt5_scip = SolverComparisonTest(\"data/performance_input\", \"data/comparison_output\", \"performanceTest5\", scheduler_type=\"scip\")\n",
    "pt5_scip.run()"
   ]
  },
  {
   "cell_type": "markdown",
   "id": "9465f2bd-4a8c-47ff-8d17-8a98da30848b",
   "metadata": {},
   "source": [
    "## Performance Test 6"
   ]
  },
  {
   "cell_type": "markdown",
   "id": "f526af82-379c-4ceb-9df4-9f0e2b03ca46",
   "metadata": {},
   "source": [
    "### Gurobi"
   ]
  },
  {
   "cell_type": "code",
   "execution_count": null,
   "id": "f4e42e66-1877-4f7d-bf4d-7b1ef749c332",
   "metadata": {},
   "outputs": [],
   "source": [
    "pt6_gurobi = SolverComparisonTest(\"data/performance_input\", \"data/comparison_output\", \"performanceTest6\", scheduler_type=\"gurobi\")\n",
    "pt6_gurobi.run()"
   ]
  },
  {
   "cell_type": "markdown",
   "id": "a284b8dc-1bef-4d3e-9f89-4f84df55ba7e",
   "metadata": {},
   "source": [
    "### CPSAT"
   ]
  },
  {
   "cell_type": "code",
   "execution_count": null,
   "id": "48ae20a9-cab0-4671-8e4d-95c0947866eb",
   "metadata": {},
   "outputs": [],
   "source": [
    "pt6_cpsat = SolverComparisonTest(\"data/performance_input\", \"data/comparison_output\", \"performanceTest6\", scheduler_type=\"cpsat\")\n",
    "pt6_cpsat.run()"
   ]
  },
  {
   "cell_type": "markdown",
   "id": "b335ca7f-57e7-4b27-a15f-cd4eeb193bfd",
   "metadata": {},
   "source": [
    "### CBC"
   ]
  },
  {
   "cell_type": "code",
   "execution_count": null,
   "id": "c5909ca0-53c5-499d-92cd-12a0be7ea2bf",
   "metadata": {},
   "outputs": [],
   "source": [
    "pt6_cbc = SolverComparisonTest(\"data/performance_input\", \"data/comparison_output\", \"performanceTest6\", scheduler_type=\"cbc\")\n",
    "pt6_cbc.run()"
   ]
  },
  {
   "cell_type": "markdown",
   "id": "e2aeafcf-72a3-4560-8dad-0aad87fcd63d",
   "metadata": {},
   "source": [
    "### SCIP"
   ]
  },
  {
   "cell_type": "code",
   "execution_count": null,
   "id": "c4e06381-9dd6-4dc9-be61-eacb59743220",
   "metadata": {},
   "outputs": [],
   "source": [
    "pt6_scip = SolverComparisonTest(\"data/performance_input\", \"data/comparison_output\", \"performanceTest6\", scheduler_type=\"scip\")\n",
    "pt6_scip.run()"
   ]
  },
  {
   "cell_type": "markdown",
   "id": "5dbce4d4-7318-4d48-b7a6-f72c7224e95b",
   "metadata": {},
   "source": [
    "# Result Interpretation"
   ]
  },
  {
   "cell_type": "code",
   "execution_count": null,
   "id": "6b362c41-c47f-4c7a-9798-4fbb78a4914a",
   "metadata": {},
   "outputs": [],
   "source": [
    "def parse_filename(filename):\n",
    "    split_filename = filename.split(\"_\")\n",
    "    file_info = {}\n",
    "    for i in range(1, len(split_filename)):\n",
    "        match = re.match('(\\d+)(\\w*)', split_filename[i])\n",
    "        if match != None:\n",
    "            column = match.group(2)\n",
    "            value = int(match.group(1))\n",
    "            if column == \"\":\n",
    "                column = \"iteration\"\n",
    "            file_info[column] = value\n",
    "        else:\n",
    "            submatch = re.match('(\\w+)\\.json', split_filename[i])\n",
    "            if submatch:\n",
    "                solver = submatch.group(1)\n",
    "                file_info[\"solver\"] = solver\n",
    "    return file_info\n",
    "\n",
    "\n",
    "def load_data(output_folder):\n",
    "    # Load all files in folder\n",
    "    # For file:\n",
    "        # Split filename\n",
    "        # Put separate sections into column, value\n",
    "        # Add all into dataframe\n",
    "    output_list = os.listdir(output_folder)\n",
    "    output_data = []\n",
    "    for filename in output_list:\n",
    "        file_info = parse_filename(filename)\n",
    "        file_data = json.load(open(os.path.join(output_folder, filename), \"r\"))\n",
    "        file_data.update(file_info)\n",
    "        output_data.append(file_data)\n",
    "    return output_data\n",
    "\n",
    "def load_data_old(output_folder):\n",
    "    output_list = os.listdir(output_folder)\n",
    "    output_data = []\n",
    "    for filename in output_list:\n",
    "        file_info = parse_filename(filename)\n",
    "        file_data = json.load(open(os.path.join(output_folder, filename), \"r\"))\n",
    "        file_info[\"time\"] = float(file_data)\n",
    "        output_data.append(file_info)\n",
    "    return output_data"
   ]
  },
  {
   "cell_type": "code",
   "execution_count": null,
   "id": "c77ddbc5-9857-4b8e-b0d9-fc24ce7ff0dd",
   "metadata": {
    "scrolled": true
   },
   "outputs": [],
   "source": [
    "fname = \"data/performance_output/performanceTest1\"\n",
    "\n",
    "def load_data(output_folder):\n",
    "    # Load all files in folder\n",
    "    # For file:\n",
    "        # Split filename\n",
    "        # Put separate sections into column, value\n",
    "        # Add all into dataframe\n",
    "    output_list = os.listdir(output_folder)\n",
    "    output_data = []\n",
    "    for filename in output_list:\n",
    "        file_info = parse_filename(filename)\n",
    "        file_data = json.load(open(os.path.join(output_folder, filename), \"r\"))\n",
    "        file_data.update(file_info)\n",
    "        output_data.append(file_data)\n",
    "    return output_data\n",
    "\n",
    "pd.DataFrame(load_data(fname))"
   ]
  },
  {
   "cell_type": "markdown",
   "id": "dbe29924-3932-4ed9-8173-03197f873da2",
   "metadata": {},
   "source": [
    "## Performance Test 1"
   ]
  },
  {
   "cell_type": "code",
   "execution_count": null,
   "id": "533f9e13-6cd9-42e2-876b-bcd3193e49cd",
   "metadata": {},
   "outputs": [],
   "source": [
    "datap1 = load_data(\"data/performance_output/performanceTest1\")\n",
    "dfp1 = pd.DataFrame(datap1)\n",
    "mean_pt1 = dfp1.groupby(\"Requests\").agg({\"solve\": \"mean\"}).reset_index()\n",
    "sns.scatterplot(mean_pt1, x=\"Requests\", y=\"solve\")"
   ]
  },
  {
   "cell_type": "markdown",
   "id": "a85f34c3-a796-4252-b647-2207789bd67f",
   "metadata": {},
   "source": [
    "## Performance Test 2"
   ]
  },
  {
   "cell_type": "code",
   "execution_count": null,
   "id": "6acb62cd-52fd-4200-bfb4-cdf3b00c237e",
   "metadata": {},
   "outputs": [],
   "source": [
    "datap2 = load_data(\"data/performance_output/performanceTest2\")\n",
    "dfp2 = pd.DataFrame(datap2)\n",
    "mean_pt2 = dfp2.groupby(\"Telescopes\").agg({\"solve\": \"median\"}).reset_index()\n",
    "sns.scatterplot(mean_pt2, x=\"Telescopes\", y=\"solve\")"
   ]
  },
  {
   "cell_type": "markdown",
   "id": "c47b38f6-e267-4c9f-abb8-5f27968f8392",
   "metadata": {},
   "source": [
    "## Performance Test 3"
   ]
  },
  {
   "cell_type": "code",
   "execution_count": null,
   "id": "9146e180-d5de-461c-8642-13e8efd181e9",
   "metadata": {},
   "outputs": [],
   "source": [
    "datap3 = load_data(\"data/performance_output/performanceTest3\")\n",
    "dfp3 = pd.DataFrame(datap3)\n",
    "mean_pt3 = dfp3.groupby(\"SliceSize\").agg({\"solve\": \"median\"}).reset_index()\n",
    "sns.scatterplot(mean_pt3, x=\"SliceSize\", y=\"solve\")"
   ]
  },
  {
   "cell_type": "markdown",
   "id": "e20bca79-68a5-4b53-b222-d3f441fa69ea",
   "metadata": {},
   "source": [
    "## Performance Test 5"
   ]
  },
  {
   "cell_type": "code",
   "execution_count": null,
   "id": "3962b470-ee76-4c4d-bd27-c044e8c88faa",
   "metadata": {},
   "outputs": [],
   "source": [
    "datap5 = load_data(\"data/performance_output/performanceTest5\")\n",
    "dfp5 = pd.DataFrame(datap5)\n",
    "dfp5 = dfp5[dfp5[\"scheduler_type\"]==\"gurobi\"]\n",
    "dfp5"
   ]
  },
  {
   "cell_type": "code",
   "execution_count": null,
   "id": "0c2e2fe9-c797-48d7-bcfd-0ead8b007242",
   "metadata": {},
   "outputs": [],
   "source": [
    "mean_pt5 = dfp5.groupby(\"Networks\").agg({\"solve\": \"mean\"}).reset_index()\n",
    "sns.lineplot(mean_pt5, x=\"Networks\", y=\"solve\")"
   ]
  },
  {
   "cell_type": "markdown",
   "id": "bebb92c1-6ad9-4dc4-b140-1d82ba3833e4",
   "metadata": {},
   "source": [
    "## Performance Test 6"
   ]
  },
  {
   "cell_type": "code",
   "execution_count": null,
   "id": "19d84597-c9ea-4ff5-95b1-cfb7102e776b",
   "metadata": {},
   "outputs": [],
   "source": [
    "datap6 = load_data(\"data/performance_output/performanceTest6\")\n",
    "dfp6 = pd.DataFrame(datap6)\n",
    "dfp6 = dfp6[dfp6[\"scheduler_type\"]==\"gurobi\"]\n",
    "dfp6"
   ]
  },
  {
   "cell_type": "code",
   "execution_count": null,
   "id": "5b0ce388-9ebb-4449-929b-6db0d6c39f0b",
   "metadata": {},
   "outputs": [],
   "source": [
    "mean_pt6 = dfp6.groupby(\"Networks\").agg({\"solve\": \"mean\"}).reset_index()\n",
    "sns.lineplot(mean_pt6, x=\"Networks\", y=\"solve\")"
   ]
  },
  {
   "cell_type": "code",
   "execution_count": null,
   "id": "a7148992-d997-4e51-aa88-85668bff68d8",
   "metadata": {},
   "outputs": [],
   "source": [
    "median_pt6 = dfp6.groupby(\"Networks\").agg({\"solve\": \"median\"}).reset_index()\n",
    "sns.scatterplot(median_pt6, x=\"Networks\", y=\"solve\")"
   ]
  },
  {
   "cell_type": "code",
   "execution_count": null,
   "id": "145899cf-a3de-41d8-b0eb-6451b3a4b033",
   "metadata": {},
   "outputs": [],
   "source": [
    "median_pt6 = dfp6.groupby(\"Networks\").agg({\"solve\": \"median\"}).reset_index()\n",
    "sns.lineplot(dfp6, x=\"Networks\", y=\"solve\")"
   ]
  },
  {
   "cell_type": "markdown",
   "id": "ce86a385-37f2-43c5-961a-5bf5e0eb549d",
   "metadata": {},
   "source": [
    "## Performance Test 7"
   ]
  },
  {
   "cell_type": "code",
   "execution_count": null,
   "id": "78ed46f8-b735-4667-be2f-4d809c0ddf45",
   "metadata": {},
   "outputs": [],
   "source": [
    "datap7 = load_data(\"data/performance_output/performanceTest7\")\n",
    "dfp7 = pd.DataFrame(datap7)\n",
    "dfp7"
   ]
  },
  {
   "cell_type": "code",
   "execution_count": null,
   "id": "af95ad03-8897-4e05-a27a-2139f5d5c148",
   "metadata": {},
   "outputs": [],
   "source": [
    "median_pt7 = dfp7.groupby(\"HorizonDays\").agg({\"solve\": \"median\"}).reset_index()\n",
    "sns.lineplot(dfp7, x=\"HorizonDays\", y=\"solve\")"
   ]
  },
  {
   "cell_type": "markdown",
   "id": "81eee12c-2a49-4b0e-b026-34c8590f789f",
   "metadata": {},
   "source": [
    "## Comparison 1"
   ]
  },
  {
   "cell_type": "code",
   "execution_count": null,
   "id": "f69eb644-14ad-465c-96ee-e4343a1001da",
   "metadata": {},
   "outputs": [],
   "source": [
    "data1 = load_data(\"data/comparison_output/performanceTest1\")\n",
    "df1 = pd.DataFrame(data1)\n",
    "df1"
   ]
  },
  {
   "cell_type": "markdown",
   "id": "df68a1af-ac15-43ad-8b1f-ae7dbffaddfb",
   "metadata": {},
   "source": [
    "### Mean Solve"
   ]
  },
  {
   "cell_type": "code",
   "execution_count": null,
   "id": "38651863-1e21-4976-9257-5de3e435ebe8",
   "metadata": {},
   "outputs": [],
   "source": [
    "mean_solve1 = df1.groupby([\"scheduler_type\", \"Requests\"]).agg({\"solve\": \"mean\"}).reset_index()\n",
    "sns.lineplot(mean_solve1, x=\"Requests\", y=\"solve\", hue=\"scheduler_type\")"
   ]
  },
  {
   "cell_type": "markdown",
   "id": "36c4b88e-d0b1-4d79-a1e5-a20ff29fec3f",
   "metadata": {},
   "source": [
    "### Median Solve"
   ]
  },
  {
   "cell_type": "code",
   "execution_count": null,
   "id": "71e239e3-8f84-4252-a4ba-5c7ba25f8bc2",
   "metadata": {},
   "outputs": [],
   "source": [
    "median_solve1 = df1.groupby([\"scheduler_type\", \"Requests\"]).agg({\"solve\": \"median\"}).reset_index()\n",
    "sns.lineplot(median_solve1, x=\"Requests\", y=\"solve\", hue=\"scheduler_type\")"
   ]
  },
  {
   "cell_type": "markdown",
   "id": "5836caf9-42e4-41b9-9746-4d640a467cad",
   "metadata": {},
   "source": [
    "### Mean Total"
   ]
  },
  {
   "cell_type": "code",
   "execution_count": null,
   "id": "6d060bff-4729-48b7-85be-1fc58bb5f1a5",
   "metadata": {},
   "outputs": [],
   "source": [
    "mean_total1 = df1.groupby([\"scheduler_type\", \"Requests\"]).agg({\"total_time\": \"mean\"}).reset_index()\n",
    "sns.lineplot(mean_total1, x=\"Requests\", y=\"total_time\", hue=\"scheduler_type\")"
   ]
  },
  {
   "cell_type": "markdown",
   "id": "fcc632b9-a138-44bd-8a9e-74a494438e5c",
   "metadata": {},
   "source": [
    "## Comparison 5"
   ]
  },
  {
   "cell_type": "code",
   "execution_count": null,
   "id": "60b988f8-a8c0-4f9a-8f16-53c4eecd2e3b",
   "metadata": {},
   "outputs": [],
   "source": [
    "data5 = load_data(\"data/comparison_output/performanceTest5\")\n",
    "df5 = pd.DataFrame(data5)"
   ]
  },
  {
   "cell_type": "markdown",
   "id": "51052d57-3850-4acb-ba0b-7b0e9e869f0f",
   "metadata": {},
   "source": [
    "### Mean Solve"
   ]
  },
  {
   "cell_type": "code",
   "execution_count": null,
   "id": "9d38dec7-6904-4fe2-989a-4495dac8e7c3",
   "metadata": {},
   "outputs": [],
   "source": [
    "mean_solve5 = df5.groupby([\"scheduler_type\", \"Networks\"]).agg({\"solve\": \"mean\"}).reset_index()\n",
    "sns.lineplot(mean_solve5, x=\"Networks\", y=\"solve\", hue=\"scheduler_type\")"
   ]
  },
  {
   "cell_type": "markdown",
   "id": "0caa2e93-4b91-4c64-997f-e2174f094328",
   "metadata": {},
   "source": [
    "## Comparison 6"
   ]
  },
  {
   "cell_type": "code",
   "execution_count": null,
   "id": "7a754324-6866-42e0-a2a3-996871220202",
   "metadata": {},
   "outputs": [],
   "source": [
    "data6 = load_data(\"data/comparison_output/performanceTest6\")\n",
    "df6 = pd.DataFrame(data6)\n",
    "df6"
   ]
  },
  {
   "cell_type": "code",
   "execution_count": null,
   "id": "729853bb-aa6a-4fb2-8c77-e807a0d6ad01",
   "metadata": {},
   "outputs": [],
   "source": [
    "mean_solve6 = df6.groupby([\"scheduler_type\", \"Networks\"]).agg({\"solve\": \"mean\"}).reset_index()\n",
    "sns.lineplot(mean_solve6, x=\"Networks\", y=\"solve\", hue=\"scheduler_type\")"
   ]
  },
  {
   "cell_type": "code",
   "execution_count": null,
   "id": "1dacd6a7-d5b8-45cf-a040-005a1dcbf662",
   "metadata": {},
   "outputs": [],
   "source": []
  }
 ],
 "metadata": {
  "kernelspec": {
   "display_name": "Python 3 (ipykernel)",
   "language": "python",
   "name": "python3"
  },
  "language_info": {
   "codemirror_mode": {
    "name": "ipython",
    "version": 3
   },
   "file_extension": ".py",
   "mimetype": "text/x-python",
   "name": "python",
   "nbconvert_exporter": "python",
   "pygments_lexer": "ipython3",
   "version": "3.10.12"
  }
 },
 "nbformat": 4,
 "nbformat_minor": 5
}
