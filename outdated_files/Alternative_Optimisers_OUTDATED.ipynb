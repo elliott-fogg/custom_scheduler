{
 "cells": [
  {
   "cell_type": "markdown",
   "id": "bb90e724-4ca8-4d2e-8992-275403fb2b35",
   "metadata": {},
   "source": [
    "## Import Libraries"
   ]
  },
  {
   "cell_type": "code",
   "execution_count": 1,
   "id": "eb93f74d-e001-4121-b4fa-390b86ba968e",
   "metadata": {
    "execution": {
     "iopub.execute_input": "2024-01-15T16:51:07.846656Z",
     "iopub.status.busy": "2024-01-15T16:51:07.846656Z",
     "iopub.status.idle": "2024-01-15T16:51:31.667737Z",
     "shell.execute_reply": "2024-01-15T16:51:31.667737Z",
     "shell.execute_reply.started": "2024-01-15T16:51:07.846656Z"
    }
   },
   "outputs": [],
   "source": [
    "import test_template as tt\n",
    "import pandas as pd\n",
    "import numpy as np\n",
    "import seaborn as sns\n",
    "import matplotlib.pyplot as plt"
   ]
  },
  {
   "cell_type": "markdown",
   "id": "f19bb591-17fb-498b-b863-9722f369a185",
   "metadata": {},
   "source": [
    "## Alternative Optimisers"
   ]
  },
  {
   "cell_type": "markdown",
   "id": "e0d80f28-09f8-49e9-be50-434437832e06",
   "metadata": {},
   "source": [
    "### Generate .MPS file with Gurobi"
   ]
  },
  {
   "cell_type": "markdown",
   "id": "4c1d8af3-a181-4067-8834-ceee3716ceed",
   "metadata": {},
   "source": [
    "#### Import Libraries"
   ]
  },
  {
   "cell_type": "code",
   "execution_count": 1,
   "id": "970dd130-3d7f-4e54-a16f-2d44b880d95e",
   "metadata": {
    "execution": {
     "iopub.execute_input": "2024-02-01T16:58:29.428487Z",
     "iopub.status.busy": "2024-02-01T16:58:29.428487Z",
     "iopub.status.idle": "2024-02-01T16:58:29.883826Z",
     "shell.execute_reply": "2024-02-01T16:58:29.881817Z",
     "shell.execute_reply.started": "2024-02-01T16:58:29.428487Z"
    }
   },
   "outputs": [],
   "source": [
    "from scheduler_v2 import Scheduler\n",
    "from ScheduleSimulator import SchedulerSimulation as SchedSim\n",
    "filename = \"test_model_main.mps\""
   ]
  },
  {
   "cell_type": "markdown",
   "id": "fe25131d-afa7-4e8c-8f9d-a118c9a05dfb",
   "metadata": {},
   "source": [
    "#### Generate Model File"
   ]
  },
  {
   "cell_type": "code",
   "execution_count": 2,
   "id": "57843972-5ecd-499a-8aee-6f9b321f4a38",
   "metadata": {
    "execution": {
     "iopub.execute_input": "2024-02-01T16:58:33.526635Z",
     "iopub.status.busy": "2024-02-01T16:58:33.525637Z",
     "iopub.status.idle": "2024-02-01T16:58:34.546657Z",
     "shell.execute_reply": "2024-02-01T16:58:34.546657Z",
     "shell.execute_reply.started": "2024-02-01T16:58:33.526635Z"
    }
   },
   "outputs": [],
   "source": [
    "s = SchedSim(\"sample_input/sample_input_v2_3.json\")\n",
    "s.process_event(s.events[0])\n",
    "requests, resources = s.prepare_scheduler()\n",
    "sched = Scheduler(s.now, s.horizon, s.slice_size, resources, s.proposals, requests, verbose=0)\n",
    "sched.calculate_free_windows()\n",
    "sched.build_data_structures()\n",
    "sched.build_model()\n",
    "sched.write_model(\"new_test_file.mps\")"
   ]
  },
  {
   "cell_type": "markdown",
   "id": "77c6e655-8579-432f-b184-a9d6a2cbf364",
   "metadata": {},
   "source": [
    "#### Solve with Gurobi"
   ]
  },
  {
   "cell_type": "code",
   "execution_count": 3,
   "id": "10c29b8c-31b6-46a1-8113-6a9461ced465",
   "metadata": {
    "execution": {
     "iopub.execute_input": "2024-02-01T16:54:50.598450Z",
     "iopub.status.busy": "2024-02-01T16:54:50.597447Z",
     "iopub.status.idle": "2024-02-01T16:54:52.232259Z",
     "shell.execute_reply": "2024-02-01T16:54:52.232259Z",
     "shell.execute_reply.started": "2024-02-01T16:54:50.598450Z"
    }
   },
   "outputs": [],
   "source": [
    "sched.load_model(filename)\n",
    "sched.solve_model()\n",
    "g_sol = sched.return_solution()"
   ]
  },
  {
   "cell_type": "code",
   "execution_count": 3,
   "id": "8f939286-0c9e-4dbf-982a-fbbdea0934fa",
   "metadata": {
    "execution": {
     "iopub.execute_input": "2024-02-01T16:59:08.961916Z",
     "iopub.status.busy": "2024-02-01T16:59:08.960620Z",
     "iopub.status.idle": "2024-02-01T16:59:10.673967Z",
     "shell.execute_reply": "2024-02-01T16:59:10.673967Z",
     "shell.execute_reply.started": "2024-02-01T16:59:08.961916Z"
    }
   },
   "outputs": [
    {
     "name": "stdout",
     "output_type": "stream",
     "text": [
      "Set parameter Username\n",
      "Academic license - for non-commercial use only - expires 2024-08-20\n",
      "Read MPS format model from file new_test_file.mps\n",
      "Reading time = 0.23 seconds\n",
      "Test: 711 rows, 21693 columns, 106950 nonzeros\n",
      "Gurobi Optimizer version 10.0.3 build v10.0.3rc0 (win64)\n",
      "\n",
      "CPU model: Intel(R) Core(TM) i5-8250U CPU @ 1.60GHz, instruction set [SSE2|AVX|AVX2]\n",
      "Thread count: 4 physical cores, 8 logical processors, using up to 8 threads\n",
      "\n",
      "Optimize a model with 711 rows, 21693 columns and 106950 nonzeros\n",
      "Model fingerprint: 0x2b85e252\n",
      "Variable types: 0 continuous, 21693 integer (21693 binary)\n",
      "Coefficient statistics:\n",
      "  Matrix range     [1e+00, 1e+00]\n",
      "  Objective range  [2e+01, 2e+03]\n",
      "  Bounds range     [1e+00, 1e+00]\n",
      "  RHS range        [1e+00, 1e+00]\n",
      "Found heuristic solution: objective 22175.989190\n",
      "Presolve removed 23 rows and 472 columns\n",
      "Presolve time: 0.40s\n",
      "Presolved: 688 rows, 21221 columns, 103837 nonzeros\n",
      "Found heuristic solution: objective 36511.719201\n",
      "Variable types: 0 continuous, 21221 integer (21221 binary)\n",
      "Found heuristic solution: objective 36598.878114\n",
      "\n",
      "Root relaxation: objective 3.872871e+04, 3339 iterations, 0.38 seconds (0.35 work units)\n",
      "\n",
      "    Nodes    |    Current Node    |     Objective Bounds      |     Work\n",
      " Expl Unexpl |  Obj  Depth IntInf | Incumbent    BestBd   Gap | It/Node Time\n",
      "\n",
      "     0     0 38728.7057    0   66 36598.8781 38728.7057  5.82%     -    1s\n",
      "H    0     0                    38714.088107 38728.7057  0.04%     -    1s\n",
      "\n",
      "Cutting planes:\n",
      "  Clique: 7\n",
      "  Mod-K: 36\n",
      "\n",
      "Explored 1 nodes (3339 simplex iterations) in 1.46 seconds (1.08 work units)\n",
      "Thread count was 8 (of 8 available processors)\n",
      "\n",
      "Solution count 4: 38714.1 36598.9 36511.7 22176 \n",
      "\n",
      "Optimal solution found (tolerance 1.00e-04)\n",
      "Best objective 3.871408810728e+04, best bound 3.871780350393e+04, gap 0.0096%\n",
      "Objective: 38714.088107283256\n"
     ]
    }
   ],
   "source": [
    "import gurobipy\n",
    "filename = \"enlight_hard.mps\"\n",
    "model = gurobipy.read(\"new_test_file.mps\")\n",
    "model.optimize()\n",
    "print(f\"Objective: {model.ObjVal}\")"
   ]
  },
  {
   "cell_type": "markdown",
   "id": "d5c3acb7-e953-4259-99af-f6cb9da15386",
   "metadata": {},
   "source": [
    "### HiGHS"
   ]
  },
  {
   "cell_type": "code",
   "execution_count": 4,
   "id": "159bb23f-c9e1-4188-bf78-ed24065bf443",
   "metadata": {
    "execution": {
     "iopub.execute_input": "2024-01-25T12:45:54.304031Z",
     "iopub.status.busy": "2024-01-25T12:45:54.303031Z",
     "iopub.status.idle": "2024-01-25T12:45:54.320443Z",
     "shell.execute_reply": "2024-01-25T12:45:54.317709Z",
     "shell.execute_reply.started": "2024-01-25T12:45:54.304031Z"
    }
   },
   "outputs": [],
   "source": [
    "import highspy\n",
    "h = highspy.Highs()"
   ]
  },
  {
   "cell_type": "code",
   "execution_count": 5,
   "id": "6622c5f3-5b4b-463b-85a7-3d860c06563b",
   "metadata": {
    "execution": {
     "iopub.execute_input": "2024-01-25T12:45:56.277524Z",
     "iopub.status.busy": "2024-01-25T12:45:56.276525Z",
     "iopub.status.idle": "2024-01-25T12:49:01.028491Z",
     "shell.execute_reply": "2024-01-25T12:49:01.028491Z",
     "shell.execute_reply.started": "2024-01-25T12:45:56.277524Z"
    }
   },
   "outputs": [
    {
     "name": "stdout",
     "output_type": "stream",
     "text": [
      "HighsStatus.kOk\n",
      "Model Status =  Optimal\n",
      "Optimal Objective =  37.0\n"
     ]
    }
   ],
   "source": [
    "status = h.readModel(filename)\n",
    "print(status)\n",
    "h.run()\n",
    "\n",
    "solution = h.getSolution()\n",
    "info = h.getInfo()\n",
    "model_status = h.getModelStatus()\n",
    "print(\"Model Status = \", h.modelStatusToString(model_status))\n",
    "print(\"Optimal Objective = \", info.objective_function_value)"
   ]
  },
  {
   "cell_type": "code",
   "execution_count": 5,
   "id": "93eae8cd-5588-44a2-82f4-f20455307db8",
   "metadata": {
    "execution": {
     "iopub.execute_input": "2024-01-25T11:06:10.757644Z",
     "iopub.status.busy": "2024-01-25T11:06:10.755652Z",
     "iopub.status.idle": "2024-01-25T11:06:10.789900Z",
     "shell.execute_reply": "2024-01-25T11:06:10.786897Z",
     "shell.execute_reply.started": "2024-01-25T11:06:10.757644Z"
    }
   },
   "outputs": [
    {
     "name": "stdout",
     "output_type": "stream",
     "text": [
      "[6, 24, 789.6428975928169, 't0', 0, <scheduler_utils.PossibleStart object at 0x0000024B61470910>]\n",
      "[31, 27, 589.112687224596, 't0', 0, <scheduler_utils.PossibleStart object at 0x0000024B6150E6D0>]\n",
      "[32, 1, 966.564840781936, 't1', 0, <scheduler_utils.PossibleStart object at 0x0000024B6151CD10>]\n",
      "[33, 13, 188.5491771372604, 't1', 0, <scheduler_utils.PossibleStart object at 0x0000024B6151EB90>]\n",
      "[36, 93, 67.6505827194146, 't4', 0, <scheduler_utils.PossibleStart object at 0x0000024B61533F90>]\n",
      "[55, 11, 1522.4043285722641, 't3', 0, <scheduler_utils.PossibleStart object at 0x0000024B61590AD0>]\n",
      "[60, 3, 1742.6443059376518, 't3', 0, <scheduler_utils.PossibleStart object at 0x0000024B615B1D50>]\n",
      "[70, 6, 1978.0724539871, 't0', 0, <scheduler_utils.PossibleStart object at 0x0000024B618156D0>]\n",
      "[86, 21, 1549.8383807970579, 't3', 0, <scheduler_utils.PossibleStart object at 0x0000024B61872ED0>]\n",
      "[104, 75, 332.2713207766198, 't1', 0, <scheduler_utils.PossibleStart object at 0x0000024B618D5010>]\n",
      "[113, 40, 984.0254235989191, 't1', 0, <scheduler_utils.PossibleStart object at 0x0000024B61911CD0>]\n",
      "[114, 19, 748.0570162588388, 't4', 0, <scheduler_utils.PossibleStart object at 0x0000024B61918910>]\n",
      "[117, 0, 753.3702448871005, 't0', 0, <scheduler_utils.PossibleStart object at 0x0000024B61920650>]\n",
      "[141, 95, 75.34638174429506, 't3', 0, <scheduler_utils.PossibleStart object at 0x0000024B619A23D0>]\n",
      "[143, 31, 993.3536986293867, 't0', 0, <scheduler_utils.PossibleStart object at 0x0000024B619A7610>]\n",
      "[153, 86, 357.75638892521124, 't2', 0, <scheduler_utils.PossibleStart object at 0x0000024B619F0650>]\n",
      "[167, 4, 1549.7860011942219, 't4', 0, <scheduler_utils.PossibleStart object at 0x0000024B61A37110>]\n",
      "[170, 55, 604.3987388531301, 't1', 0, <scheduler_utils.PossibleStart object at 0x0000024B61A55390>]\n",
      "[203, 5, 1977.208519115056, 't2', 0, <scheduler_utils.PossibleStart object at 0x0000024B61B18090>]\n",
      "[208, 61, 584.0401118373613, 't1', 0, <scheduler_utils.PossibleStart object at 0x0000024B61B23B90>]\n",
      "[213, 11, 1981.0846681029245, 't2', 0, <scheduler_utils.PossibleStart object at 0x0000024B61B3EC90>]\n",
      "[250, 27, 1324.5089964731649, 't3', 0, <scheduler_utils.PossibleStart object at 0x0000024B61C3DD90>]\n",
      "[264, 0, 772.9409941307673, 't0', 0, <scheduler_utils.PossibleStart object at 0x0000024B61C9C350>]\n",
      "[270, 3, 1320.5651010808413, 't2', 0, <scheduler_utils.PossibleStart object at 0x0000024B61CB7AD0>]\n",
      "[301, 0, 1315.9993370928892, 't3', 0, <scheduler_utils.PossibleStart object at 0x0000024B61D4C390>]\n",
      "[302, 0, 908.8752121611194, 't2', 0, <scheduler_utils.PossibleStart object at 0x0000024B61D4E850>]\n",
      "[314, 13, 1555.9289707672197, 't0', 0, <scheduler_utils.PossibleStart object at 0x0000024B61D96510>]\n",
      "[317, 9, 1731.345251755009, 't0', 0, <scheduler_utils.PossibleStart object at 0x0000024B61DAA590>]\n",
      "[323, 1, 588.7020598589962, 't0', 0, <scheduler_utils.PossibleStart object at 0x0000024B61DC31D0>]\n",
      "[361, 18, 1740.490180234116, 't3', 0, <scheduler_utils.PossibleStart object at 0x0000024B61E8BA50>]\n",
      "[375, 18, 1884.96717351751, 't1', 0, <scheduler_utils.PossibleStart object at 0x0000024B61ED1450>]\n",
      "[398, 34, 687.6130312734078, 't2', 0, <scheduler_utils.PossibleStart object at 0x0000024B61F4CE90>]\n",
      "[414, 108, 143.88824028804797, 't3', 0, <scheduler_utils.PossibleStart object at 0x0000024B61FB1250>]\n",
      "[416, 0, 108.23264373689207, 't1', 0, <scheduler_utils.PossibleStart object at 0x0000024B61FB7990>]\n",
      "[425, 52, 1531.425448761475, 't4', 0, <scheduler_utils.PossibleStart object at 0x0000024B62001C10>]\n",
      "[432, 7, 1910.2591869478483, 't2', 0, <scheduler_utils.PossibleStart object at 0x0000024B6201EF10>]\n",
      "[439, 57, 755.9388761633866, 't1', 0, <scheduler_utils.PossibleStart object at 0x0000024B62045810>]\n",
      "[467, 0, 21.995420861703305, 't4', 0, <scheduler_utils.PossibleStart object at 0x0000024B620EC8D0>]\n",
      "[470, 31, 74.32415025876399, 't4', 0, <scheduler_utils.PossibleStart object at 0x0000024B620FE050>]\n"
     ]
    }
   ],
   "source": [
    "cv = solution.col_value\n",
    "\n",
    "for i in range(len(cv)):\n",
    "    if cv[i] > 0.5:\n",
    "        print(sched.yik[i])"
   ]
  },
  {
   "cell_type": "code",
   "execution_count": 6,
   "id": "46a3816d-5591-4347-9e7e-dda669b04c6a",
   "metadata": {
    "execution": {
     "iopub.execute_input": "2024-01-25T11:06:10.802896Z",
     "iopub.status.busy": "2024-01-25T11:06:10.801897Z",
     "iopub.status.idle": "2024-01-25T11:06:10.827073Z",
     "shell.execute_reply": "2024-01-25T11:06:10.825158Z",
     "shell.execute_reply.started": "2024-01-25T11:06:10.802896Z"
    }
   },
   "outputs": [
    {
     "name": "stdout",
     "output_type": "stream",
     "text": [
      "['6', '31', '32', '33', '36', '55', '60', '70', '86', '104', '113', '114', '117', '141', '143', '153', '167', '170', '203', '208', '213', '250', '264', '270', '301', '302', '314', '317', '323', '361', '375', '398', '414', '416', '425', '432', '439', '467', '470']\n"
     ]
    }
   ],
   "source": [
    "h_scheduled = []\n",
    "rv = solution.row_value\n",
    "for i in range(len(rv)):\n",
    "    if rv[i] > 0.5:\n",
    "        const_name = h.getRowName(i)[1]\n",
    "        if \"one_per_reqid_constraint_\" in const_name:\n",
    "            h_scheduled.append(const_name.replace(\"one_per_reqid_constraint_\", \"\"))\n",
    "print(h_scheduled)"
   ]
  },
  {
   "cell_type": "code",
   "execution_count": 7,
   "id": "ac0f41fa-0ea8-4cc7-a81a-ebaa502c2078",
   "metadata": {
    "execution": {
     "iopub.execute_input": "2024-01-25T11:06:10.838825Z",
     "iopub.status.busy": "2024-01-25T11:06:10.837830Z",
     "iopub.status.idle": "2024-01-25T11:06:10.867602Z",
     "shell.execute_reply": "2024-01-25T11:06:10.865608Z",
     "shell.execute_reply.started": "2024-01-25T11:06:10.838825Z"
    }
   },
   "outputs": [
    {
     "data": {
      "text/plain": [
       "True"
      ]
     },
     "execution_count": 7,
     "metadata": {},
     "output_type": "execute_result"
    }
   ],
   "source": [
    "list(g_sol[\"scheduled\"].keys()) == h_scheduled"
   ]
  },
  {
   "cell_type": "markdown",
   "id": "aeecfb57-cbf5-4bce-a29c-b4705fc867e8",
   "metadata": {},
   "source": [
    "### CPL\n",
    "Coin-OR Linear Problem Solver, run using the Python package CyPL"
   ]
  },
  {
   "cell_type": "code",
   "execution_count": 10,
   "id": "ce4aeb9a-132e-4015-9c2e-1828ad2c4a09",
   "metadata": {
    "execution": {
     "iopub.execute_input": "2024-01-25T12:58:54.726492Z",
     "iopub.status.busy": "2024-01-25T12:58:54.725740Z",
     "iopub.status.idle": "2024-01-25T12:58:54.762159Z",
     "shell.execute_reply": "2024-01-25T12:58:54.762159Z",
     "shell.execute_reply.started": "2024-01-25T12:58:54.726492Z"
    }
   },
   "outputs": [
    {
     "data": {
      "text/plain": [
       "0.0"
      ]
     },
     "execution_count": 10,
     "metadata": {},
     "output_type": "execute_result"
    }
   ],
   "source": [
    "from cylp.cy import CyClpSimplex\n",
    "s = CyClpSimplex()\n",
    "s.readMps(filename)\n",
    "s.dual()\n",
    "round(s.objectiveValue, 3)"
   ]
  },
  {
   "cell_type": "code",
   "execution_count": null,
   "id": "a958fdad-d546-4ce0-977d-623006564cdb",
   "metadata": {},
   "outputs": [],
   "source": [
    "from cylp.cy import CyClpSimplex"
   ]
  },
  {
   "cell_type": "code",
   "execution_count": null,
   "id": "9d4debc6-5099-40ca-9d67-e14828ca43b9",
   "metadata": {},
   "outputs": [],
   "source": [
    "s = CyClpSimplex()"
   ]
  },
  {
   "cell_type": "code",
   "execution_count": null,
   "id": "e6ae926f-668f-4513-8190-84d9f0691149",
   "metadata": {},
   "outputs": [],
   "source": [
    "s.readMps(filename)"
   ]
  },
  {
   "cell_type": "code",
   "execution_count": null,
   "id": "d4e827ed-8abc-4096-98dc-aada759d83af",
   "metadata": {},
   "outputs": [],
   "source": [
    "s.primal()"
   ]
  },
  {
   "cell_type": "code",
   "execution_count": null,
   "id": "27a1fe9e-c3ad-4de4-b383-2f5285eae575",
   "metadata": {},
   "outputs": [],
   "source": [
    "round(s.objectiveValue, 3)"
   ]
  },
  {
   "cell_type": "code",
   "execution_count": 23,
   "id": "7f399105-eef1-4824-a9e8-072fb8a3b5fb",
   "metadata": {
    "execution": {
     "iopub.execute_input": "2024-01-25T11:25:45.303728Z",
     "iopub.status.busy": "2024-01-25T11:25:45.302630Z",
     "iopub.status.idle": "2024-01-25T11:25:45.322549Z",
     "shell.execute_reply": "2024-01-25T11:25:45.320551Z",
     "shell.execute_reply.started": "2024-01-25T11:25:45.303728Z"
    }
   },
   "outputs": [
    {
     "data": {
      "text/plain": [
       "0.0"
      ]
     },
     "execution_count": 23,
     "metadata": {},
     "output_type": "execute_result"
    }
   ],
   "source": [
    "s.objectiveValue"
   ]
  },
  {
   "cell_type": "code",
   "execution_count": 27,
   "id": "227a744e-5d4c-4bbc-8a49-f92c0e268905",
   "metadata": {
    "execution": {
     "iopub.execute_input": "2024-01-25T11:26:02.590620Z",
     "iopub.status.busy": "2024-01-25T11:26:02.590620Z",
     "iopub.status.idle": "2024-01-25T11:26:02.608148Z",
     "shell.execute_reply": "2024-01-25T11:26:02.606038Z",
     "shell.execute_reply.started": "2024-01-25T11:26:02.590620Z"
    }
   },
   "outputs": [
    {
     "data": {
      "text/plain": [
       "9254451.756768674"
      ]
     },
     "execution_count": 27,
     "metadata": {},
     "output_type": "execute_result"
    }
   ],
   "source": [
    "s.objective.sum()"
   ]
  },
  {
   "cell_type": "code",
   "execution_count": 14,
   "id": "1d9f6654-c700-4913-988a-99d1413fa91a",
   "metadata": {
    "execution": {
     "iopub.execute_input": "2024-01-25T11:06:13.832230Z",
     "iopub.status.busy": "2024-01-25T11:06:13.830542Z",
     "iopub.status.idle": "2024-01-25T11:06:13.857411Z",
     "shell.execute_reply": "2024-01-25T11:06:13.854458Z",
     "shell.execute_reply.started": "2024-01-25T11:06:13.832230Z"
    }
   },
   "outputs": [
    {
     "data": {
      "text/plain": [
       "0.0"
      ]
     },
     "execution_count": 14,
     "metadata": {},
     "output_type": "execute_result"
    }
   ],
   "source": [
    "s.primalVariableSolution.sum()"
   ]
  },
  {
   "cell_type": "code",
   "execution_count": 15,
   "id": "87fcfd0c-6e04-49fe-936f-23ad0cb84d4b",
   "metadata": {
    "execution": {
     "iopub.execute_input": "2024-01-25T11:19:58.300621Z",
     "iopub.status.busy": "2024-01-25T11:19:58.298625Z",
     "iopub.status.idle": "2024-01-25T11:19:58.394132Z",
     "shell.execute_reply": "2024-01-25T11:19:58.391965Z",
     "shell.execute_reply.started": "2024-01-25T11:19:58.300621Z"
    }
   },
   "outputs": [
    {
     "name": "stdout",
     "output_type": "stream",
     "text": [
      "[0.2 2.  1.1]\n"
     ]
    }
   ],
   "source": [
    "import numpy as np\n",
    "from cylp.cy import CyClpSimplex\n",
    "from cylp.py.modeling.CyLPModel import CyLPArray\n",
    "\n",
    "s = CyClpSimplex()\n",
    "\n",
    "# Add variables\n",
    "x = s.addVariable('x', 3)\n",
    "y = s.addVariable('y', 2)\n",
    "\n",
    "# Create coefficients and bounds\n",
    "A = np.matrix([[1., 2., 0],[1., 0, 1.]])\n",
    "B = np.matrix([[1., 0, 0], [0, 0, 1.]])\n",
    "D = np.matrix([[1., 2.],[0, 1]])\n",
    "a = CyLPArray([5, 2.5])\n",
    "b = CyLPArray([4.2, 3])\n",
    "x_u= CyLPArray([2., 3.5])\n",
    "\n",
    "# Add constraints\n",
    "s += A * x <= a\n",
    "s += 2 <= B * x + D * y <= b\n",
    "s += y >= 0\n",
    "s += 1.1 <= x[1:3] <= x_u\n",
    "\n",
    "# Set the objective function\n",
    "c = CyLPArray([1., -2., 3.])\n",
    "s.objective = c * x + 2 * y.sum()\n",
    "\n",
    "# Solve using primal Simplex\n",
    "s.primal()\n",
    "print(s.primalVariableSolution['x'])"
   ]
  },
  {
   "cell_type": "code",
   "execution_count": 16,
   "id": "b9705541-07cf-44b8-a972-4107780784c9",
   "metadata": {
    "execution": {
     "iopub.execute_input": "2024-01-25T11:20:32.944555Z",
     "iopub.status.busy": "2024-01-25T11:20:32.943617Z",
     "iopub.status.idle": "2024-01-25T11:20:32.965479Z",
     "shell.execute_reply": "2024-01-25T11:20:32.963321Z",
     "shell.execute_reply.started": "2024-01-25T11:20:32.944555Z"
    }
   },
   "outputs": [
    {
     "data": {
      "text/plain": [
       "1.3000000000000003"
      ]
     },
     "execution_count": 16,
     "metadata": {},
     "output_type": "execute_result"
    }
   ],
   "source": [
    "s.objectiveValue"
   ]
  },
  {
   "cell_type": "code",
   "execution_count": 17,
   "id": "7c2ecbfd-a39e-45f0-a492-44b423cccf10",
   "metadata": {
    "execution": {
     "iopub.execute_input": "2024-01-25T11:25:16.639029Z",
     "iopub.status.busy": "2024-01-25T11:25:16.638021Z",
     "iopub.status.idle": "2024-01-25T11:25:16.659739Z",
     "shell.execute_reply": "2024-01-25T11:25:16.656713Z",
     "shell.execute_reply.started": "2024-01-25T11:25:16.639029Z"
    }
   },
   "outputs": [
    {
     "data": {
      "text/plain": [
       "array([ 1., -2.,  3.,  2.,  2.])"
      ]
     },
     "execution_count": 17,
     "metadata": {},
     "output_type": "execute_result"
    }
   ],
   "source": [
    "s.objective"
   ]
  },
  {
   "cell_type": "code",
   "execution_count": 29,
   "id": "9b9be58f-7f42-4a27-986a-eb00b68958ba",
   "metadata": {
    "execution": {
     "iopub.execute_input": "2024-01-25T11:30:17.879369Z",
     "iopub.status.busy": "2024-01-25T11:30:17.878370Z",
     "iopub.status.idle": "2024-01-25T11:30:18.064524Z",
     "shell.execute_reply": "2024-01-25T11:30:18.060990Z",
     "shell.execute_reply.started": "2024-01-25T11:30:17.879369Z"
    }
   },
   "outputs": [
    {
     "name": "stdout",
     "output_type": "stream",
     "text": [
      "solution\n"
     ]
    },
    {
     "data": {
      "text/plain": [
       "True"
      ]
     },
     "execution_count": 29,
     "metadata": {},
     "output_type": "execute_result"
    }
   ],
   "source": [
    "import numpy as np\n",
    "from cylp.cy import CyCbcModel, CyClpSimplex\n",
    "from cylp.py.modeling.CyLPModel import CyLPModel, CyLPArray\n",
    "model = CyLPModel()\n",
    "\n",
    "x = model.addVariable('x', 3, isInt=True)\n",
    "y = model.addVariable('y', 2)\n",
    "\n",
    "A = np.matrix([[1., 2., 0],[1., 0, 1.]])\n",
    "B = np.matrix([[1., 0, 0], [0, 0, 1.]])\n",
    "D = np.matrix([[1., 2.],[0, 1]])\n",
    "a = CyLPArray([5, 2.5])\n",
    "b = CyLPArray([4.2, 3])\n",
    "x_u= CyLPArray([2., 3.5])\n",
    "\n",
    "model += A*x <= a\n",
    "model += 2 <= B * x + D * y <= b\n",
    "model += y >= 0\n",
    "model += 1.1 <= x[1:3] <= x_u\n",
    "\n",
    "c = CyLPArray([1., -2., 3.])\n",
    "model.objective = c * x + 2 * y.sum()\n",
    "\n",
    "s = CyClpSimplex(model)\n",
    "\n",
    "cbcModel = s.getCbcModel()\n",
    "\n",
    "cbcModel.solve()\n",
    "\n",
    "print (cbcModel.status)\n",
    "sol_x = cbcModel.primalVariableSolution['x']\n",
    "\n",
    "(abs(sol_x - np.array([0, 2, 2])) <= 10**-6).all()"
   ]
  },
  {
   "cell_type": "code",
   "execution_count": 31,
   "id": "4ce4147a-8afb-4848-abee-da4f24aaa5bf",
   "metadata": {
    "execution": {
     "iopub.execute_input": "2024-01-25T11:31:45.985265Z",
     "iopub.status.busy": "2024-01-25T11:31:45.983704Z",
     "iopub.status.idle": "2024-01-25T11:31:46.770970Z",
     "shell.execute_reply": "2024-01-25T11:31:46.768912Z",
     "shell.execute_reply.started": "2024-01-25T11:31:45.984705Z"
    }
   },
   "outputs": [
    {
     "name": "stdout",
     "output_type": "stream",
     "text": [
      "solution\n"
     ]
    }
   ],
   "source": [
    "s = CyClpSimplex()\n",
    "s.readMps(filename)\n",
    "cbcModel = s.getCbcModel()\n",
    "cbcModel.solve()\n",
    "print(cbcModel.status)"
   ]
  },
  {
   "cell_type": "code",
   "execution_count": 36,
   "id": "6c1cdaa7-7976-4686-8417-1beee1479ff2",
   "metadata": {
    "execution": {
     "iopub.execute_input": "2024-01-25T11:50:54.205209Z",
     "iopub.status.busy": "2024-01-25T11:50:54.204208Z",
     "iopub.status.idle": "2024-01-25T11:50:54.221413Z",
     "shell.execute_reply": "2024-01-25T11:50:54.219376Z",
     "shell.execute_reply.started": "2024-01-25T11:50:54.205209Z"
    }
   },
   "outputs": [],
   "source": [
    "sol_x = cbcModel.primalVariableSolution"
   ]
  },
  {
   "cell_type": "code",
   "execution_count": 37,
   "id": "d38578cc-8da3-4d54-9cc1-88051dd2f33e",
   "metadata": {
    "execution": {
     "iopub.execute_input": "2024-01-25T11:50:56.897891Z",
     "iopub.status.busy": "2024-01-25T11:50:56.896884Z",
     "iopub.status.idle": "2024-01-25T11:50:56.920069Z",
     "shell.execute_reply": "2024-01-25T11:50:56.917618Z",
     "shell.execute_reply.started": "2024-01-25T11:50:56.897891Z"
    }
   },
   "outputs": [
    {
     "data": {
      "text/plain": [
       "array([0., 0., 0., ..., 0., 0., 0.])"
      ]
     },
     "execution_count": 37,
     "metadata": {},
     "output_type": "execute_result"
    }
   ],
   "source": [
    "sol_x"
   ]
  },
  {
   "cell_type": "markdown",
   "id": "c38835b4-8343-4461-b403-cd8e8be2aed5",
   "metadata": {},
   "source": [
    "## OUTDATED - Alternative Optimiser - HiGHS"
   ]
  },
  {
   "cell_type": "code",
   "execution_count": 2,
   "id": "e4867dca-769d-4a85-90ac-bdf0ef42c600",
   "metadata": {
    "execution": {
     "iopub.execute_input": "2023-12-14T16:00:24.467428Z",
     "iopub.status.busy": "2023-12-14T16:00:24.467428Z",
     "iopub.status.idle": "2023-12-14T16:00:24.480572Z",
     "shell.execute_reply": "2023-12-14T16:00:24.479778Z",
     "shell.execute_reply.started": "2023-12-14T16:00:24.467428Z"
    }
   },
   "outputs": [],
   "source": [
    "from scheduler_v2 import Scheduler\n",
    "from ScheduleSimulator import SchedulerSimulation as SchedSim\n",
    "import highspy\n",
    "h = highspy.Highs()\n",
    "filename = \"test_model_main.mps\""
   ]
  },
  {
   "cell_type": "markdown",
   "id": "ed086bc0-4a17-42e0-8269-5a6f43564735",
   "metadata": {},
   "source": [
    "### Gurobi - Create Model"
   ]
  },
  {
   "cell_type": "code",
   "execution_count": 3,
   "id": "1c8d97cd-b9cd-4f6d-9323-233325a1a310",
   "metadata": {
    "execution": {
     "iopub.execute_input": "2023-12-14T16:00:24.482667Z",
     "iopub.status.busy": "2023-12-14T16:00:24.482667Z",
     "iopub.status.idle": "2023-12-14T16:00:25.373628Z",
     "shell.execute_reply": "2023-12-14T16:00:25.373101Z",
     "shell.execute_reply.started": "2023-12-14T16:00:24.482667Z"
    }
   },
   "outputs": [],
   "source": [
    "s = SchedSim(\"sample_input/sample_input_v2_3.json\")\n",
    "s.process_event(s.events[0])\n",
    "requests, resources = s.prepare_scheduler()\n",
    "sched = Scheduler(s.now, s.horizon, s.slice_size, resources, s.proposals, requests, verbose=0)\n",
    "sched.calculate_free_windows()\n",
    "sched.build_data_structures()\n",
    "sched.build_model()"
   ]
  },
  {
   "cell_type": "markdown",
   "id": "d4707fe2-6ac3-495d-8723-0919882b9b43",
   "metadata": {},
   "source": [
    "### Gurobi - Solve Model"
   ]
  },
  {
   "cell_type": "code",
   "execution_count": 4,
   "id": "0f1b1969-1c7f-40b5-a15c-3477afb0dc46",
   "metadata": {
    "execution": {
     "iopub.execute_input": "2023-12-14T16:00:25.373628Z",
     "iopub.status.busy": "2023-12-14T16:00:25.373628Z",
     "iopub.status.idle": "2023-12-14T16:00:26.894913Z",
     "shell.execute_reply": "2023-12-14T16:00:26.894913Z",
     "shell.execute_reply.started": "2023-12-14T16:00:25.373628Z"
    }
   },
   "outputs": [
    {
     "name": "stdout",
     "output_type": "stream",
     "text": [
      "21693\n"
     ]
    }
   ],
   "source": [
    "sched.load_model(filename)\n",
    "sched.solve_model()\n",
    "g_sol = sched.return_solution()"
   ]
  },
  {
   "cell_type": "code",
   "execution_count": 5,
   "id": "905ea5ff-9d90-4714-b8c2-7195f2391c33",
   "metadata": {
    "execution": {
     "iopub.execute_input": "2023-12-14T16:00:26.897133Z",
     "iopub.status.busy": "2023-12-14T16:00:26.894913Z",
     "iopub.status.idle": "2023-12-14T16:00:26.905511Z",
     "shell.execute_reply": "2023-12-14T16:00:26.904511Z",
     "shell.execute_reply.started": "2023-12-14T16:00:26.897133Z"
    }
   },
   "outputs": [
    {
     "name": "stdout",
     "output_type": "stream",
     "text": [
      "['6', '31', '32', '33', '36', '55', '60', '70', '86', '104', '113', '114', '117', '141', '143', '153', '167', '170', '203', '208', '213', '250', '264', '270', '301', '302', '314', '317', '323', '361', '375', '398', '414', '416', '425', '432', '439', '467', '470']\n"
     ]
    }
   ],
   "source": [
    "print(list(g_sol[\"scheduled\"].keys()))"
   ]
  },
  {
   "cell_type": "markdown",
   "id": "d8339b62-7498-4c97-bbf9-950fb9256879",
   "metadata": {},
   "source": [
    "### HiGHS - Solve Model"
   ]
  },
  {
   "cell_type": "code",
   "execution_count": 6,
   "id": "deaf9331-200c-4598-bcf6-83bdf090b178",
   "metadata": {
    "execution": {
     "iopub.execute_input": "2023-12-14T16:00:26.907794Z",
     "iopub.status.busy": "2023-12-14T16:00:26.906512Z",
     "iopub.status.idle": "2023-12-14T16:00:45.558568Z",
     "shell.execute_reply": "2023-12-14T16:00:45.558568Z",
     "shell.execute_reply.started": "2023-12-14T16:00:26.907794Z"
    }
   },
   "outputs": [
    {
     "name": "stdout",
     "output_type": "stream",
     "text": [
      "HighsStatus.kOk\n"
     ]
    },
    {
     "data": {
      "text/plain": [
       "<HighsStatus.kOk: 0>"
      ]
     },
     "execution_count": 6,
     "metadata": {},
     "output_type": "execute_result"
    }
   ],
   "source": [
    "status = h.readModel(filename)\n",
    "print(status)\n",
    "h.run()"
   ]
  },
  {
   "cell_type": "code",
   "execution_count": 7,
   "id": "984fadd2-1d6f-4ce2-b432-adf98bc4eeb5",
   "metadata": {
    "execution": {
     "iopub.execute_input": "2023-12-14T16:00:45.561153Z",
     "iopub.status.busy": "2023-12-14T16:00:45.558568Z",
     "iopub.status.idle": "2023-12-14T16:00:45.569784Z",
     "shell.execute_reply": "2023-12-14T16:00:45.568785Z",
     "shell.execute_reply.started": "2023-12-14T16:00:45.561153Z"
    }
   },
   "outputs": [
    {
     "name": "stdout",
     "output_type": "stream",
     "text": [
      "Model Status =  Optimal\n",
      "Optimal Objective =  38714.088107283256\n"
     ]
    }
   ],
   "source": [
    "solution = h.getSolution()\n",
    "info = h.getInfo()\n",
    "model_status = h.getModelStatus()\n",
    "print(\"Model Status = \", h.modelStatusToString(model_status))\n",
    "print(\"Optimal Objective = \", info.objective_function_value)"
   ]
  },
  {
   "cell_type": "code",
   "execution_count": 8,
   "id": "0429819b-d5a2-49e9-899c-30450d3c762f",
   "metadata": {
    "execution": {
     "iopub.execute_input": "2023-12-14T16:00:45.571787Z",
     "iopub.status.busy": "2023-12-14T16:00:45.570789Z",
     "iopub.status.idle": "2023-12-14T16:00:45.591453Z",
     "shell.execute_reply": "2023-12-14T16:00:45.590453Z",
     "shell.execute_reply.started": "2023-12-14T16:00:45.571787Z"
    }
   },
   "outputs": [],
   "source": [
    "cv = solution.col_value"
   ]
  },
  {
   "cell_type": "code",
   "execution_count": 9,
   "id": "c306e366-9546-4c56-abcb-2d80326ae7d3",
   "metadata": {
    "execution": {
     "iopub.execute_input": "2023-12-14T16:00:45.593460Z",
     "iopub.status.busy": "2023-12-14T16:00:45.592454Z",
     "iopub.status.idle": "2023-12-14T16:00:45.615588Z",
     "shell.execute_reply": "2023-12-14T16:00:45.613594Z",
     "shell.execute_reply.started": "2023-12-14T16:00:45.593460Z"
    }
   },
   "outputs": [
    {
     "name": "stdout",
     "output_type": "stream",
     "text": [
      "[6, 24, 789.6428975928169, 't0', 0, <scheduler_utils.PossibleStart object at 0x00000250B1348B10>]\n",
      "[31, 27, 589.112687224596, 't0', 0, <scheduler_utils.PossibleStart object at 0x00000250B13EA5D0>]\n",
      "[32, 1, 966.564840781936, 't1', 0, <scheduler_utils.PossibleStart object at 0x00000250B13ECC10>]\n",
      "[33, 13, 188.5491771372604, 't1', 0, <scheduler_utils.PossibleStart object at 0x00000250B13EEA90>]\n",
      "[36, 93, 67.6505827194146, 't4', 0, <scheduler_utils.PossibleStart object at 0x00000250B140BE90>]\n",
      "[55, 11, 1522.4043285722641, 't3', 0, <scheduler_utils.PossibleStart object at 0x00000250B1470F10>]\n",
      "[60, 3, 1742.6443059376518, 't3', 0, <scheduler_utils.PossibleStart object at 0x00000250B1486190>]\n",
      "[70, 6, 1978.0724539871, 't0', 0, <scheduler_utils.PossibleStart object at 0x00000250B16E5B50>]\n",
      "[86, 21, 1549.8383807970579, 't3', 0, <scheduler_utils.PossibleStart object at 0x00000250B173B450>]\n",
      "[104, 75, 332.2713207766198, 't1', 0, <scheduler_utils.PossibleStart object at 0x00000250B179D4D0>]\n",
      "[113, 40, 984.0254235989191, 't1', 0, <scheduler_utils.PossibleStart object at 0x00000250B17D2150>]\n",
      "[114, 19, 748.0570162588388, 't4', 0, <scheduler_utils.PossibleStart object at 0x00000250B17D8D90>]\n",
      "[117, 0, 753.3702448871005, 't0', 0, <scheduler_utils.PossibleStart object at 0x00000250B17E4AD0>]\n",
      "[141, 95, 75.34638174429506, 't3', 0, <scheduler_utils.PossibleStart object at 0x00000250B186A790>]\n",
      "[143, 31, 993.3536986293867, 't0', 0, <scheduler_utils.PossibleStart object at 0x00000250B18779D0>]\n",
      "[153, 86, 357.75638892521124, 't2', 0, <scheduler_utils.PossibleStart object at 0x00000250B18BCA10>]\n",
      "[167, 4, 1549.7860011942219, 't4', 0, <scheduler_utils.PossibleStart object at 0x00000250B19034D0>]\n",
      "[170, 55, 604.3987388531301, 't1', 0, <scheduler_utils.PossibleStart object at 0x00000250B191D750>]\n",
      "[203, 5, 1977.208519115056, 't2', 0, <scheduler_utils.PossibleStart object at 0x00000250B19EC4D0>]\n",
      "[208, 61, 584.0401118373613, 't1', 0, <scheduler_utils.PossibleStart object at 0x00000250B19FC150>]\n",
      "[213, 11, 1981.0846681029245, 't2', 0, <scheduler_utils.PossibleStart object at 0x00000250B1A0F210>]\n",
      "[250, 27, 1324.5089964731649, 't3', 0, <scheduler_utils.PossibleStart object at 0x00000250B1B09F10>]\n",
      "[264, 0, 772.9409941307673, 't0', 0, <scheduler_utils.PossibleStart object at 0x00000250B1B684D0>]\n",
      "[270, 3, 1320.5651010808413, 't2', 0, <scheduler_utils.PossibleStart object at 0x00000250B1B87C50>]\n",
      "[301, 0, 1315.9993370928892, 't3', 0, <scheduler_utils.PossibleStart object at 0x00000250B1C1C510>]\n",
      "[302, 0, 908.8752121611194, 't2', 0, <scheduler_utils.PossibleStart object at 0x00000250B1C1E9D0>]\n",
      "[314, 13, 1555.9289707672197, 't0', 0, <scheduler_utils.PossibleStart object at 0x00000250B1C6A750>]\n",
      "[317, 9, 1731.345251755009, 't0', 0, <scheduler_utils.PossibleStart object at 0x00000250B1C767D0>]\n",
      "[323, 1, 588.7020598589962, 't0', 0, <scheduler_utils.PossibleStart object at 0x00000250B1C97410>]\n",
      "[361, 18, 1740.490180234116, 't3', 0, <scheduler_utils.PossibleStart object at 0x00000250B1D53C90>]\n",
      "[375, 18, 1884.96717351751, 't1', 0, <scheduler_utils.PossibleStart object at 0x00000250B1D9D690>]\n",
      "[398, 34, 687.6130312734078, 't2', 0, <scheduler_utils.PossibleStart object at 0x00000250B1E210D0>]\n",
      "[414, 108, 143.88824028804797, 't3', 0, <scheduler_utils.PossibleStart object at 0x00000250B1E7D490>]\n",
      "[416, 0, 108.23264373689207, 't1', 0, <scheduler_utils.PossibleStart object at 0x00000250B1E8BBD0>]\n",
      "[425, 52, 1531.425448761475, 't4', 0, <scheduler_utils.PossibleStart object at 0x00000250B1ED1E50>]\n",
      "[432, 7, 1910.2591869478483, 't2', 0, <scheduler_utils.PossibleStart object at 0x00000250B1EEF150>]\n",
      "[439, 57, 755.9388761633866, 't1', 0, <scheduler_utils.PossibleStart object at 0x00000250B1F15A50>]\n",
      "[467, 0, 21.995420861703305, 't4', 0, <scheduler_utils.PossibleStart object at 0x00000250B1FC0B10>]\n",
      "[470, 31, 74.32415025876399, 't4', 0, <scheduler_utils.PossibleStart object at 0x00000250B1FCE290>]\n"
     ]
    }
   ],
   "source": [
    "for i in range(len(cv)):\n",
    "    if cv[i] > 0.5:\n",
    "        print(sched.yik[i])"
   ]
  },
  {
   "cell_type": "code",
   "execution_count": 10,
   "id": "e8f57f41-6bde-4a32-a9c7-7411900b0433",
   "metadata": {
    "execution": {
     "iopub.execute_input": "2023-12-14T16:00:45.617558Z",
     "iopub.status.busy": "2023-12-14T16:00:45.617558Z",
     "iopub.status.idle": "2023-12-14T16:00:45.646732Z",
     "shell.execute_reply": "2023-12-14T16:00:45.642915Z",
     "shell.execute_reply.started": "2023-12-14T16:00:45.617558Z"
    }
   },
   "outputs": [
    {
     "name": "stdout",
     "output_type": "stream",
     "text": [
      "['6', '31', '32', '33', '36', '55', '60', '70', '86', '104', '113', '114', '117', '141', '143', '153', '167', '170', '203', '208', '213', '250', '264', '270', '301', '302', '314', '317', '323', '361', '375', '398', '414', '416', '425', '432', '439', '467', '470']\n"
     ]
    }
   ],
   "source": [
    "h_scheduled = []\n",
    "rv = solution.row_value\n",
    "for i in range(len(rv)):\n",
    "    if rv[i] > 0.5:\n",
    "        const_name = h.getRowName(i)[1]\n",
    "        if \"one_per_reqid_constraint_\" in const_name:\n",
    "            h_scheduled.append(const_name.replace(\"one_per_reqid_constraint_\", \"\"))\n",
    "print(h_scheduled)"
   ]
  },
  {
   "cell_type": "code",
   "execution_count": 11,
   "id": "f3175759-ba65-4755-9e3f-466fe12b9827",
   "metadata": {
    "execution": {
     "iopub.execute_input": "2023-12-14T16:00:45.648731Z",
     "iopub.status.busy": "2023-12-14T16:00:45.648731Z",
     "iopub.status.idle": "2023-12-14T16:00:45.669156Z",
     "shell.execute_reply": "2023-12-14T16:00:45.668156Z",
     "shell.execute_reply.started": "2023-12-14T16:00:45.648731Z"
    }
   },
   "outputs": [
    {
     "data": {
      "text/plain": [
       "True"
      ]
     },
     "execution_count": 11,
     "metadata": {},
     "output_type": "execute_result"
    }
   ],
   "source": [
    "list(g_sol[\"scheduled\"].keys()) == h_scheduled"
   ]
  },
  {
   "cell_type": "markdown",
   "id": "0a0984a0-a340-43b3-be46-122d2b99c96a",
   "metadata": {},
   "source": [
    "### Combined"
   ]
  },
  {
   "cell_type": "code",
   "execution_count": 12,
   "id": "a1e55a11-7333-4381-90f2-33e807f1dace",
   "metadata": {
    "execution": {
     "iopub.execute_input": "2023-12-14T16:00:45.672155Z",
     "iopub.status.busy": "2023-12-14T16:00:45.671154Z",
     "iopub.status.idle": "2023-12-14T16:00:45.683800Z",
     "shell.execute_reply": "2023-12-14T16:00:45.681805Z",
     "shell.execute_reply.started": "2023-12-14T16:00:45.672155Z"
    }
   },
   "outputs": [],
   "source": [
    "from scheduler_v2 import Scheduler\n",
    "from ScheduleSimulator import SchedulerSimulation as SchedSim"
   ]
  },
  {
   "cell_type": "code",
   "execution_count": 13,
   "id": "faf5b5ff-fef9-436b-b20a-85cbd7464708",
   "metadata": {
    "execution": {
     "iopub.execute_input": "2023-12-14T16:00:45.687792Z",
     "iopub.status.busy": "2023-12-14T16:00:45.686791Z",
     "iopub.status.idle": "2023-12-14T16:00:46.578699Z",
     "shell.execute_reply": "2023-12-14T16:00:46.577733Z",
     "shell.execute_reply.started": "2023-12-14T16:00:45.687792Z"
    }
   },
   "outputs": [],
   "source": [
    "s = SchedSim(\"sample_input/sample_input_v2_3.json\")\n",
    "s.process_event(s.events[0])\n",
    "requests, resources = s.prepare_scheduler()\n",
    "sched = Scheduler(s.now, s.horizon, s.slice_size, resources, s.proposals, requests, verbose=0)\n",
    "sched.calculate_free_windows()\n",
    "sched.build_data_structures()\n",
    "sched.build_model()"
   ]
  },
  {
   "cell_type": "code",
   "execution_count": 14,
   "id": "85a04dcf-aaa3-4b72-bec0-29c984fbcbf3",
   "metadata": {
    "execution": {
     "iopub.execute_input": "2023-12-14T16:00:46.578699Z",
     "iopub.status.busy": "2023-12-14T16:00:46.578699Z",
     "iopub.status.idle": "2023-12-14T16:00:47.429672Z",
     "shell.execute_reply": "2023-12-14T16:00:47.428672Z",
     "shell.execute_reply.started": "2023-12-14T16:00:46.578699Z"
    }
   },
   "outputs": [
    {
     "name": "stdout",
     "output_type": "stream",
     "text": [
      "21693\n"
     ]
    }
   ],
   "source": [
    "sched.solve_model()"
   ]
  },
  {
   "cell_type": "code",
   "execution_count": 15,
   "id": "74f58eaa-496a-44ec-8f0f-2c0928a23d03",
   "metadata": {
    "execution": {
     "iopub.execute_input": "2023-12-14T16:00:47.430675Z",
     "iopub.status.busy": "2023-12-14T16:00:47.430675Z",
     "iopub.status.idle": "2023-12-14T16:00:47.447415Z",
     "shell.execute_reply": "2023-12-14T16:00:47.446761Z",
     "shell.execute_reply.started": "2023-12-14T16:00:47.430675Z"
    },
    "scrolled": true
   },
   "outputs": [
    {
     "data": {
      "text/plain": [
       "[-0.0,\n",
       " -0.0,\n",
       " -0.0,\n",
       " -0.0,\n",
       " -0.0,\n",
       " 0.0,\n",
       " -0.0,\n",
       " -0.0,\n",
       " -0.0,\n",
       " -0.0,\n",
       " -0.0,\n",
       " -0.0,\n",
       " -0.0,\n",
       " -0.0,\n",
       " -0.0,\n",
       " -0.0,\n",
       " -0.0,\n",
       " -0.0,\n",
       " -0.0,\n",
       " -0.0,\n",
       " -0.0,\n",
       " -0.0,\n",
       " -0.0,\n",
       " -0.0,\n",
       " -0.0,\n",
       " -0.0,\n",
       " -0.0,\n",
       " -0.0,\n",
       " -0.0,\n",
       " -0.0,\n",
       " -0.0,\n",
       " -0.0,\n",
       " -0.0,\n",
       " -0.0,\n",
       " -0.0,\n",
       " -0.0,\n",
       " -0.0,\n",
       " -0.0,\n",
       " -0.0,\n",
       " -0.0,\n",
       " -0.0,\n",
       " -0.0,\n",
       " -0.0,\n",
       " -0.0,\n",
       " -0.0,\n",
       " -0.0,\n",
       " -0.0,\n",
       " -0.0,\n",
       " -0.0,\n",
       " -0.0,\n",
       " -0.0,\n",
       " -0.0,\n",
       " -0.0,\n",
       " -0.0,\n",
       " -0.0,\n",
       " -0.0,\n",
       " -0.0,\n",
       " -0.0,\n",
       " -0.0,\n",
       " -0.0,\n",
       " -0.0,\n",
       " -0.0,\n",
       " -0.0,\n",
       " -0.0,\n",
       " -0.0,\n",
       " -0.0,\n",
       " -0.0,\n",
       " -0.0,\n",
       " 0.0,\n",
       " -0.0,\n",
       " -0.0,\n",
       " -0.0,\n",
       " -0.0,\n",
       " -0.0,\n",
       " -0.0,\n",
       " -0.0,\n",
       " -0.0,\n",
       " -0.0,\n",
       " -0.0,\n",
       " -0.0,\n",
       " -0.0,\n",
       " -0.0,\n",
       " -0.0,\n",
       " -0.0,\n",
       " -0.0,\n",
       " -0.0,\n",
       " -0.0,\n",
       " -0.0,\n",
       " -0.0,\n",
       " -0.0,\n",
       " -0.0,\n",
       " -0.0,\n",
       " -0.0,\n",
       " -0.0,\n",
       " -0.0,\n",
       " -0.0,\n",
       " -0.0,\n",
       " -0.0,\n",
       " -0.0,\n",
       " -0.0,\n",
       " -0.0,\n",
       " -0.0,\n",
       " -0.0,\n",
       " -0.0,\n",
       " -0.0,\n",
       " -0.0,\n",
       " -0.0,\n",
       " -0.0,\n",
       " -0.0,\n",
       " -0.0,\n",
       " -0.0,\n",
       " -0.0,\n",
       " -0.0,\n",
       " -0.0,\n",
       " -0.0,\n",
       " -0.0,\n",
       " -0.0,\n",
       " -0.0,\n",
       " -0.0,\n",
       " -0.0,\n",
       " -0.0,\n",
       " -0.0,\n",
       " -0.0,\n",
       " -0.0,\n",
       " -0.0,\n",
       " -0.0,\n",
       " -0.0,\n",
       " -0.0,\n",
       " -0.0,\n",
       " -0.0,\n",
       " -0.0,\n",
       " -0.0,\n",
       " -0.0,\n",
       " -0.0,\n",
       " -0.0,\n",
       " -0.0,\n",
       " -0.0,\n",
       " -0.0,\n",
       " -0.0,\n",
       " -0.0,\n",
       " -0.0,\n",
       " -0.0,\n",
       " -0.0,\n",
       " -0.0,\n",
       " -0.0,\n",
       " -0.0,\n",
       " -0.0,\n",
       " -0.0,\n",
       " -0.0,\n",
       " -0.0,\n",
       " -0.0,\n",
       " -0.0,\n",
       " -0.0,\n",
       " -0.0,\n",
       " -0.0,\n",
       " -0.0,\n",
       " -0.0,\n",
       " 0.0,\n",
       " -0.0,\n",
       " -0.0,\n",
       " -0.0,\n",
       " -0.0,\n",
       " -0.0,\n",
       " -0.0,\n",
       " -0.0,\n",
       " -0.0,\n",
       " -0.0,\n",
       " -0.0,\n",
       " -0.0,\n",
       " -0.0,\n",
       " -0.0,\n",
       " -0.0,\n",
       " -0.0,\n",
       " -0.0,\n",
       " -0.0,\n",
       " -0.0,\n",
       " -0.0,\n",
       " -0.0,\n",
       " -0.0,\n",
       " 0.0,\n",
       " -0.0,\n",
       " -0.0,\n",
       " -0.0,\n",
       " -0.0,\n",
       " -0.0,\n",
       " -0.0,\n",
       " 0.0,\n",
       " -0.0,\n",
       " -0.0,\n",
       " -0.0,\n",
       " 1.0,\n",
       " -0.0,\n",
       " -0.0,\n",
       " -0.0,\n",
       " -0.0,\n",
       " -0.0,\n",
       " -0.0,\n",
       " -0.0,\n",
       " -0.0,\n",
       " -0.0,\n",
       " -0.0,\n",
       " -0.0,\n",
       " -0.0,\n",
       " -0.0,\n",
       " -0.0,\n",
       " -0.0,\n",
       " -0.0,\n",
       " -0.0,\n",
       " -0.0,\n",
       " -0.0,\n",
       " -0.0,\n",
       " -0.0,\n",
       " -0.0,\n",
       " -0.0,\n",
       " -0.0,\n",
       " -0.0,\n",
       " -0.0,\n",
       " -0.0,\n",
       " -0.0,\n",
       " -0.0,\n",
       " -0.0,\n",
       " -0.0,\n",
       " -0.0,\n",
       " -0.0,\n",
       " -0.0,\n",
       " -0.0,\n",
       " -0.0,\n",
       " -0.0,\n",
       " -0.0,\n",
       " -0.0,\n",
       " -0.0,\n",
       " -0.0,\n",
       " -0.0,\n",
       " -0.0,\n",
       " -0.0,\n",
       " -0.0,\n",
       " -0.0,\n",
       " -0.0,\n",
       " -0.0,\n",
       " -0.0,\n",
       " -0.0,\n",
       " -0.0,\n",
       " -0.0,\n",
       " -0.0,\n",
       " -0.0,\n",
       " -0.0,\n",
       " -0.0,\n",
       " -0.0,\n",
       " -0.0,\n",
       " -0.0,\n",
       " -0.0,\n",
       " -0.0,\n",
       " -0.0,\n",
       " -0.0,\n",
       " -0.0,\n",
       " -0.0,\n",
       " -0.0,\n",
       " -0.0,\n",
       " -0.0,\n",
       " -0.0,\n",
       " -0.0,\n",
       " -0.0,\n",
       " -0.0,\n",
       " -0.0,\n",
       " 0.0,\n",
       " -0.0,\n",
       " -0.0,\n",
       " -0.0,\n",
       " -0.0,\n",
       " -0.0,\n",
       " -0.0,\n",
       " -0.0,\n",
       " -0.0,\n",
       " -0.0,\n",
       " -0.0,\n",
       " -0.0,\n",
       " -0.0,\n",
       " -0.0,\n",
       " -0.0,\n",
       " -0.0,\n",
       " -0.0,\n",
       " -0.0,\n",
       " -0.0,\n",
       " -0.0,\n",
       " -0.0,\n",
       " -0.0,\n",
       " -0.0,\n",
       " -0.0,\n",
       " -0.0,\n",
       " -0.0,\n",
       " -0.0,\n",
       " -0.0,\n",
       " -0.0,\n",
       " -0.0,\n",
       " -0.0,\n",
       " -0.0,\n",
       " -0.0,\n",
       " -0.0,\n",
       " -0.0,\n",
       " -0.0,\n",
       " -0.0,\n",
       " -0.0,\n",
       " -0.0,\n",
       " -0.0,\n",
       " -0.0,\n",
       " -0.0,\n",
       " -0.0,\n",
       " -0.0,\n",
       " -0.0,\n",
       " -0.0,\n",
       " -0.0,\n",
       " -0.0,\n",
       " -0.0,\n",
       " -0.0,\n",
       " -0.0,\n",
       " -0.0,\n",
       " -0.0,\n",
       " -0.0,\n",
       " -0.0,\n",
       " -0.0,\n",
       " -0.0,\n",
       " -0.0,\n",
       " -0.0,\n",
       " -0.0,\n",
       " -0.0,\n",
       " -0.0,\n",
       " -0.0,\n",
       " -0.0,\n",
       " -0.0,\n",
       " -0.0,\n",
       " -0.0,\n",
       " -0.0,\n",
       " -0.0,\n",
       " -0.0,\n",
       " -0.0,\n",
       " -0.0,\n",
       " -0.0,\n",
       " -0.0,\n",
       " -0.0,\n",
       " -0.0,\n",
       " -0.0,\n",
       " -0.0,\n",
       " -0.0,\n",
       " -0.0,\n",
       " -0.0,\n",
       " -0.0,\n",
       " -0.0,\n",
       " -0.0,\n",
       " -0.0,\n",
       " -0.0,\n",
       " -0.0,\n",
       " -0.0,\n",
       " -0.0,\n",
       " -0.0,\n",
       " -0.0,\n",
       " -0.0,\n",
       " -0.0,\n",
       " -0.0,\n",
       " -0.0,\n",
       " -0.0,\n",
       " -0.0,\n",
       " -0.0,\n",
       " -0.0,\n",
       " -0.0,\n",
       " -0.0,\n",
       " -0.0,\n",
       " -0.0,\n",
       " -0.0,\n",
       " -0.0,\n",
       " -0.0,\n",
       " -0.0,\n",
       " -0.0,\n",
       " -0.0,\n",
       " -0.0,\n",
       " -0.0,\n",
       " -0.0,\n",
       " -0.0,\n",
       " -0.0,\n",
       " -0.0,\n",
       " -0.0,\n",
       " -0.0,\n",
       " -0.0,\n",
       " -0.0,\n",
       " -0.0,\n",
       " -0.0,\n",
       " -0.0,\n",
       " -0.0,\n",
       " -0.0,\n",
       " -0.0,\n",
       " -0.0,\n",
       " -0.0,\n",
       " -0.0,\n",
       " -0.0,\n",
       " -0.0,\n",
       " 0.0,\n",
       " -0.0,\n",
       " -0.0,\n",
       " -0.0,\n",
       " -0.0,\n",
       " -0.0,\n",
       " -0.0,\n",
       " -0.0,\n",
       " -0.0,\n",
       " -0.0,\n",
       " -0.0,\n",
       " -0.0,\n",
       " -0.0,\n",
       " -0.0,\n",
       " -0.0,\n",
       " -0.0,\n",
       " -0.0,\n",
       " -0.0,\n",
       " -0.0,\n",
       " -0.0,\n",
       " -0.0,\n",
       " -0.0,\n",
       " -0.0,\n",
       " -0.0,\n",
       " -0.0,\n",
       " -0.0,\n",
       " -0.0,\n",
       " -0.0,\n",
       " -0.0,\n",
       " -0.0,\n",
       " -0.0,\n",
       " 0.0,\n",
       " -0.0,\n",
       " -0.0,\n",
       " -0.0,\n",
       " -0.0,\n",
       " -0.0,\n",
       " -0.0,\n",
       " -0.0,\n",
       " -0.0,\n",
       " -0.0,\n",
       " -0.0,\n",
       " -0.0,\n",
       " -0.0,\n",
       " -0.0,\n",
       " -0.0,\n",
       " -0.0,\n",
       " -0.0,\n",
       " -0.0,\n",
       " -0.0,\n",
       " -0.0,\n",
       " -0.0,\n",
       " -0.0,\n",
       " -0.0,\n",
       " -0.0,\n",
       " -0.0,\n",
       " -0.0,\n",
       " -0.0,\n",
       " -0.0,\n",
       " -0.0,\n",
       " -0.0,\n",
       " -0.0,\n",
       " -0.0,\n",
       " -0.0,\n",
       " -0.0,\n",
       " -0.0,\n",
       " -0.0,\n",
       " -0.0,\n",
       " -0.0,\n",
       " -0.0,\n",
       " -0.0,\n",
       " -0.0,\n",
       " -0.0,\n",
       " -0.0,\n",
       " -0.0,\n",
       " -0.0,\n",
       " -0.0,\n",
       " -0.0,\n",
       " -0.0,\n",
       " -0.0,\n",
       " -0.0,\n",
       " -0.0,\n",
       " -0.0,\n",
       " -0.0,\n",
       " -0.0,\n",
       " -0.0,\n",
       " -0.0,\n",
       " -0.0,\n",
       " -0.0,\n",
       " -0.0,\n",
       " -0.0,\n",
       " -0.0,\n",
       " -0.0,\n",
       " -0.0,\n",
       " -0.0,\n",
       " -0.0,\n",
       " 0.0,\n",
       " -0.0,\n",
       " -0.0,\n",
       " -0.0,\n",
       " -0.0,\n",
       " -0.0,\n",
       " -0.0,\n",
       " -0.0,\n",
       " -0.0,\n",
       " -0.0,\n",
       " -0.0,\n",
       " -0.0,\n",
       " -0.0,\n",
       " -0.0,\n",
       " -0.0,\n",
       " -0.0,\n",
       " -0.0,\n",
       " -0.0,\n",
       " -0.0,\n",
       " -0.0,\n",
       " -0.0,\n",
       " -0.0,\n",
       " -0.0,\n",
       " -0.0,\n",
       " -0.0,\n",
       " -0.0,\n",
       " -0.0,\n",
       " -0.0,\n",
       " -0.0,\n",
       " -0.0,\n",
       " -0.0,\n",
       " -0.0,\n",
       " -0.0,\n",
       " -0.0,\n",
       " -0.0,\n",
       " -0.0,\n",
       " -0.0,\n",
       " -0.0,\n",
       " -0.0,\n",
       " -0.0,\n",
       " -0.0,\n",
       " -0.0,\n",
       " -0.0,\n",
       " -0.0,\n",
       " -0.0,\n",
       " -0.0,\n",
       " -0.0,\n",
       " -0.0,\n",
       " -0.0,\n",
       " -0.0,\n",
       " -0.0,\n",
       " -0.0,\n",
       " -0.0,\n",
       " -0.0,\n",
       " -0.0,\n",
       " -0.0,\n",
       " -0.0,\n",
       " -0.0,\n",
       " -0.0,\n",
       " -0.0,\n",
       " -0.0,\n",
       " -0.0,\n",
       " -0.0,\n",
       " -0.0,\n",
       " -0.0,\n",
       " -0.0,\n",
       " -0.0,\n",
       " -0.0,\n",
       " -0.0,\n",
       " -0.0,\n",
       " -0.0,\n",
       " -0.0,\n",
       " -0.0,\n",
       " -0.0,\n",
       " -0.0,\n",
       " -0.0,\n",
       " -0.0,\n",
       " -0.0,\n",
       " -0.0,\n",
       " -0.0,\n",
       " -0.0,\n",
       " -0.0,\n",
       " -0.0,\n",
       " -0.0,\n",
       " -0.0,\n",
       " -0.0,\n",
       " -0.0,\n",
       " -0.0,\n",
       " -0.0,\n",
       " -0.0,\n",
       " -0.0,\n",
       " -0.0,\n",
       " -0.0,\n",
       " -0.0,\n",
       " -0.0,\n",
       " -0.0,\n",
       " -0.0,\n",
       " -0.0,\n",
       " -0.0,\n",
       " -0.0,\n",
       " -0.0,\n",
       " -0.0,\n",
       " -0.0,\n",
       " -0.0,\n",
       " -0.0,\n",
       " -0.0,\n",
       " -0.0,\n",
       " -0.0,\n",
       " -0.0,\n",
       " -0.0,\n",
       " -0.0,\n",
       " -0.0,\n",
       " -0.0,\n",
       " -0.0,\n",
       " -0.0,\n",
       " -0.0,\n",
       " -0.0,\n",
       " -0.0,\n",
       " -0.0,\n",
       " -0.0,\n",
       " -0.0,\n",
       " -0.0,\n",
       " 0.0,\n",
       " -0.0,\n",
       " -0.0,\n",
       " -0.0,\n",
       " -0.0,\n",
       " -0.0,\n",
       " -0.0,\n",
       " -0.0,\n",
       " -0.0,\n",
       " -0.0,\n",
       " -0.0,\n",
       " -0.0,\n",
       " -0.0,\n",
       " -0.0,\n",
       " -0.0,\n",
       " -0.0,\n",
       " -0.0,\n",
       " -0.0,\n",
       " -0.0,\n",
       " -0.0,\n",
       " -0.0,\n",
       " -0.0,\n",
       " -0.0,\n",
       " -0.0,\n",
       " -0.0,\n",
       " -0.0,\n",
       " -0.0,\n",
       " -0.0,\n",
       " -0.0,\n",
       " -0.0,\n",
       " -0.0,\n",
       " -0.0,\n",
       " -0.0,\n",
       " -0.0,\n",
       " -0.0,\n",
       " -0.0,\n",
       " -0.0,\n",
       " -0.0,\n",
       " -0.0,\n",
       " -0.0,\n",
       " -0.0,\n",
       " -0.0,\n",
       " -0.0,\n",
       " -0.0,\n",
       " -0.0,\n",
       " -0.0,\n",
       " -0.0,\n",
       " 0.0,\n",
       " 0.0,\n",
       " 0.0,\n",
       " -0.0,\n",
       " -0.0,\n",
       " -0.0,\n",
       " -0.0,\n",
       " -0.0,\n",
       " -0.0,\n",
       " -0.0,\n",
       " -0.0,\n",
       " -0.0,\n",
       " -0.0,\n",
       " -0.0,\n",
       " -0.0,\n",
       " -0.0,\n",
       " -0.0,\n",
       " -0.0,\n",
       " -0.0,\n",
       " -0.0,\n",
       " -0.0,\n",
       " -0.0,\n",
       " -0.0,\n",
       " -0.0,\n",
       " -0.0,\n",
       " -0.0,\n",
       " -0.0,\n",
       " -0.0,\n",
       " -0.0,\n",
       " -0.0,\n",
       " -0.0,\n",
       " -0.0,\n",
       " -0.0,\n",
       " -0.0,\n",
       " -0.0,\n",
       " -0.0,\n",
       " -0.0,\n",
       " -0.0,\n",
       " -0.0,\n",
       " -0.0,\n",
       " -0.0,\n",
       " -0.0,\n",
       " -0.0,\n",
       " -0.0,\n",
       " -0.0,\n",
       " -0.0,\n",
       " -0.0,\n",
       " 0.0,\n",
       " -0.0,\n",
       " -0.0,\n",
       " -0.0,\n",
       " -0.0,\n",
       " -0.0,\n",
       " -0.0,\n",
       " -0.0,\n",
       " -0.0,\n",
       " -0.0,\n",
       " -0.0,\n",
       " -0.0,\n",
       " -0.0,\n",
       " -0.0,\n",
       " -0.0,\n",
       " -0.0,\n",
       " -0.0,\n",
       " -0.0,\n",
       " -0.0,\n",
       " -0.0,\n",
       " -0.0,\n",
       " -0.0,\n",
       " -0.0,\n",
       " -0.0,\n",
       " 0.0,\n",
       " 0.0,\n",
       " 0.0,\n",
       " 0.0,\n",
       " 0.0,\n",
       " -0.0,\n",
       " -0.0,\n",
       " -0.0,\n",
       " -0.0,\n",
       " -0.0,\n",
       " -0.0,\n",
       " -0.0,\n",
       " -0.0,\n",
       " -0.0,\n",
       " -0.0,\n",
       " -0.0,\n",
       " -0.0,\n",
       " -0.0,\n",
       " -0.0,\n",
       " -0.0,\n",
       " -0.0,\n",
       " -0.0,\n",
       " -0.0,\n",
       " -0.0,\n",
       " -0.0,\n",
       " -0.0,\n",
       " -0.0,\n",
       " -0.0,\n",
       " -0.0,\n",
       " -0.0,\n",
       " -0.0,\n",
       " -0.0,\n",
       " -0.0,\n",
       " -0.0,\n",
       " -0.0,\n",
       " -0.0,\n",
       " -0.0,\n",
       " -0.0,\n",
       " -0.0,\n",
       " -0.0,\n",
       " -0.0,\n",
       " -0.0,\n",
       " -0.0,\n",
       " -0.0,\n",
       " -0.0,\n",
       " -0.0,\n",
       " -0.0,\n",
       " -0.0,\n",
       " -0.0,\n",
       " -0.0,\n",
       " -0.0,\n",
       " -0.0,\n",
       " -0.0,\n",
       " -0.0,\n",
       " -0.0,\n",
       " -0.0,\n",
       " -0.0,\n",
       " -0.0,\n",
       " -0.0,\n",
       " -0.0,\n",
       " -0.0,\n",
       " -0.0,\n",
       " -0.0,\n",
       " -0.0,\n",
       " -0.0,\n",
       " -0.0,\n",
       " -0.0,\n",
       " -0.0,\n",
       " -0.0,\n",
       " -0.0,\n",
       " -0.0,\n",
       " -0.0,\n",
       " -0.0,\n",
       " -0.0,\n",
       " -0.0,\n",
       " -0.0,\n",
       " -0.0,\n",
       " -0.0,\n",
       " -0.0,\n",
       " -0.0,\n",
       " -0.0,\n",
       " -0.0,\n",
       " -0.0,\n",
       " -0.0,\n",
       " -0.0,\n",
       " -0.0,\n",
       " -0.0,\n",
       " -0.0,\n",
       " -0.0,\n",
       " -0.0,\n",
       " -0.0,\n",
       " -0.0,\n",
       " -0.0,\n",
       " -0.0,\n",
       " -0.0,\n",
       " -0.0,\n",
       " -0.0,\n",
       " -0.0,\n",
       " -0.0,\n",
       " -0.0,\n",
       " -0.0,\n",
       " -0.0,\n",
       " -0.0,\n",
       " -0.0,\n",
       " -0.0,\n",
       " -0.0,\n",
       " -0.0,\n",
       " -0.0,\n",
       " -0.0,\n",
       " -0.0,\n",
       " -0.0,\n",
       " -0.0,\n",
       " -0.0,\n",
       " -0.0,\n",
       " -0.0,\n",
       " -0.0,\n",
       " -0.0,\n",
       " -0.0,\n",
       " -0.0,\n",
       " -0.0,\n",
       " -0.0,\n",
       " -0.0,\n",
       " -0.0,\n",
       " -0.0,\n",
       " -0.0,\n",
       " -0.0,\n",
       " -0.0,\n",
       " -0.0,\n",
       " -0.0,\n",
       " -0.0,\n",
       " -0.0,\n",
       " -0.0,\n",
       " -0.0,\n",
       " -0.0,\n",
       " -0.0,\n",
       " -0.0,\n",
       " -0.0,\n",
       " -0.0,\n",
       " -0.0,\n",
       " -0.0,\n",
       " -0.0,\n",
       " -0.0,\n",
       " -0.0,\n",
       " -0.0,\n",
       " -0.0,\n",
       " -0.0,\n",
       " -0.0,\n",
       " -0.0,\n",
       " -0.0,\n",
       " -0.0,\n",
       " -0.0,\n",
       " -0.0,\n",
       " -0.0,\n",
       " -0.0,\n",
       " -0.0,\n",
       " -0.0,\n",
       " -0.0,\n",
       " -0.0,\n",
       " -0.0,\n",
       " -0.0,\n",
       " -0.0,\n",
       " -0.0,\n",
       " -0.0,\n",
       " -0.0,\n",
       " -0.0,\n",
       " -0.0,\n",
       " -0.0,\n",
       " -0.0,\n",
       " -0.0,\n",
       " -0.0,\n",
       " -0.0,\n",
       " -0.0,\n",
       " -0.0,\n",
       " -0.0,\n",
       " -0.0,\n",
       " -0.0,\n",
       " -0.0,\n",
       " -0.0,\n",
       " -0.0,\n",
       " -0.0,\n",
       " -0.0,\n",
       " -0.0,\n",
       " -0.0,\n",
       " -0.0,\n",
       " -0.0,\n",
       " -0.0,\n",
       " -0.0,\n",
       " -0.0,\n",
       " -0.0,\n",
       " -0.0,\n",
       " -0.0,\n",
       " -0.0,\n",
       " -0.0,\n",
       " -0.0,\n",
       " -0.0,\n",
       " -0.0,\n",
       " -0.0,\n",
       " -0.0,\n",
       " -0.0,\n",
       " -0.0,\n",
       " -0.0,\n",
       " -0.0,\n",
       " -0.0,\n",
       " -0.0,\n",
       " -0.0,\n",
       " -0.0,\n",
       " -0.0,\n",
       " -0.0,\n",
       " -0.0,\n",
       " -0.0,\n",
       " -0.0,\n",
       " -0.0,\n",
       " -0.0,\n",
       " -0.0,\n",
       " -0.0,\n",
       " -0.0,\n",
       " -0.0,\n",
       " -0.0,\n",
       " -0.0,\n",
       " -0.0,\n",
       " -0.0,\n",
       " -0.0,\n",
       " -0.0,\n",
       " -0.0,\n",
       " -0.0,\n",
       " -0.0,\n",
       " -0.0,\n",
       " -0.0,\n",
       " -0.0,\n",
       " -0.0,\n",
       " -0.0,\n",
       " -0.0,\n",
       " -0.0,\n",
       " -0.0,\n",
       " -0.0,\n",
       " -0.0,\n",
       " -0.0,\n",
       " -0.0,\n",
       " -0.0,\n",
       " -0.0,\n",
       " -0.0,\n",
       " -0.0,\n",
       " -0.0,\n",
       " -0.0,\n",
       " -0.0,\n",
       " -0.0,\n",
       " -0.0,\n",
       " -0.0,\n",
       " -0.0,\n",
       " -0.0,\n",
       " 0.0,\n",
       " -0.0,\n",
       " -0.0,\n",
       " -0.0,\n",
       " -0.0,\n",
       " -0.0,\n",
       " -0.0,\n",
       " -0.0,\n",
       " -0.0,\n",
       " -0.0,\n",
       " -0.0,\n",
       " -0.0,\n",
       " -0.0,\n",
       " -0.0,\n",
       " -0.0,\n",
       " -0.0,\n",
       " -0.0,\n",
       " -0.0,\n",
       " -0.0,\n",
       " -0.0,\n",
       " ...]"
      ]
     },
     "execution_count": 15,
     "metadata": {},
     "output_type": "execute_result"
    }
   ],
   "source": [
    "sched.solution"
   ]
  },
  {
   "cell_type": "code",
   "execution_count": 16,
   "id": "aae69cac-81b1-4b05-9b35-d3a073fb6c3e",
   "metadata": {
    "execution": {
     "iopub.execute_input": "2023-12-14T16:00:47.449412Z",
     "iopub.status.busy": "2023-12-14T16:00:47.448411Z",
     "iopub.status.idle": "2023-12-14T16:01:06.710300Z",
     "shell.execute_reply": "2023-12-14T16:01:06.710300Z",
     "shell.execute_reply.started": "2023-12-14T16:00:47.448411Z"
    },
    "scrolled": true
   },
   "outputs": [
    {
     "data": {
      "text/plain": [
       "(38714.088107283256,\n",
       " {'scheduled': {'6': {'rID': 6,\n",
       "    'resource': 't0',\n",
       "    'start': 12900,\n",
       "    'end': 14081,\n",
       "    'duration': 1181,\n",
       "    'priority': 789.6428975928169},\n",
       "   '31': {'rID': 31,\n",
       "    'resource': 't0',\n",
       "    'start': 14100,\n",
       "    'end': 14988,\n",
       "    'duration': 888,\n",
       "    'priority': 589.112687224596},\n",
       "   '32': {'rID': 32,\n",
       "    'resource': 't1',\n",
       "    'start': 300,\n",
       "    'end': 1756,\n",
       "    'duration': 1456,\n",
       "    'priority': 966.564840781936},\n",
       "   '33': {'rID': 33,\n",
       "    'resource': 't1',\n",
       "    'start': 1800,\n",
       "    'end': 2123,\n",
       "    'duration': 323,\n",
       "    'priority': 188.5491771372604},\n",
       "   '36': {'rID': 36,\n",
       "    'resource': 't4',\n",
       "    'start': 14890,\n",
       "    'end': 15104,\n",
       "    'duration': 214,\n",
       "    'priority': 67.6505827194146},\n",
       "   '55': {'rID': 55,\n",
       "    'resource': 't3',\n",
       "    'start': 9900,\n",
       "    'end': 12193,\n",
       "    'duration': 2293,\n",
       "    'priority': 1522.4043285722641},\n",
       "   '60': {'rID': 60,\n",
       "    'resource': 't3',\n",
       "    'start': 2100,\n",
       "    'end': 4719,\n",
       "    'duration': 2619,\n",
       "    'priority': 1742.6443059376518},\n",
       "   '70': {'rID': 70,\n",
       "    'resource': 't0',\n",
       "    'start': 5700,\n",
       "    'end': 8655,\n",
       "    'duration': 2955,\n",
       "    'priority': 1978.0724539871},\n",
       "   '86': {'rID': 86,\n",
       "    'resource': 't3',\n",
       "    'start': 7500,\n",
       "    'end': 9818,\n",
       "    'duration': 2318,\n",
       "    'priority': 1549.8383807970579},\n",
       "   '104': {'rID': 104,\n",
       "    'resource': 't1',\n",
       "    'start': 14400,\n",
       "    'end': 14967,\n",
       "    'duration': 567,\n",
       "    'priority': 332.2713207766198},\n",
       "   '113': {'rID': 113,\n",
       "    'resource': 't1',\n",
       "    'start': 12900,\n",
       "    'end': 14383,\n",
       "    'duration': 1483,\n",
       "    'priority': 984.0254235989191},\n",
       "   '114': {'rID': 114,\n",
       "    'resource': 't4',\n",
       "    'start': 10200,\n",
       "    'end': 11325,\n",
       "    'duration': 1125,\n",
       "    'priority': 748.0570162588388},\n",
       "   '117': {'rID': 117,\n",
       "    'resource': 't0',\n",
       "    'start': 57,\n",
       "    'end': 1190,\n",
       "    'duration': 1133,\n",
       "    'priority': 753.3702448871005},\n",
       "   '141': {'rID': 141,\n",
       "    'resource': 't3',\n",
       "    'start': 14700,\n",
       "    'end': 14813,\n",
       "    'duration': 113,\n",
       "    'priority': 75.34638174429506},\n",
       "   '143': {'rID': 143,\n",
       "    'resource': 't0',\n",
       "    'start': 11400,\n",
       "    'end': 12884,\n",
       "    'duration': 1484,\n",
       "    'priority': 993.3536986293867},\n",
       "   '153': {'rID': 153,\n",
       "    'resource': 't2',\n",
       "    'start': 14400,\n",
       "    'end': 14934,\n",
       "    'duration': 534,\n",
       "    'priority': 357.75638892521124},\n",
       "   '167': {'rID': 167,\n",
       "    'resource': 't4',\n",
       "    'start': 7800,\n",
       "    'end': 10131,\n",
       "    'duration': 2331,\n",
       "    'priority': 1549.7860011942219},\n",
       "   '170': {'rID': 170,\n",
       "    'resource': 't1',\n",
       "    'start': 9894,\n",
       "    'end': 10798,\n",
       "    'duration': 904,\n",
       "    'priority': 604.3987388531301},\n",
       "   '203': {'rID': 203,\n",
       "    'resource': 't2',\n",
       "    'start': 1500,\n",
       "    'end': 4478,\n",
       "    'duration': 2978,\n",
       "    'priority': 1977.208519115056},\n",
       "   '208': {'rID': 208,\n",
       "    'resource': 't1',\n",
       "    'start': 10800,\n",
       "    'end': 11678,\n",
       "    'duration': 878,\n",
       "    'priority': 584.0401118373613},\n",
       "   '213': {'rID': 213,\n",
       "    'resource': 't2',\n",
       "    'start': 4500,\n",
       "    'end': 7482,\n",
       "    'duration': 2982,\n",
       "    'priority': 1981.0846681029245},\n",
       "   '250': {'rID': 250,\n",
       "    'resource': 't3',\n",
       "    'start': 12300,\n",
       "    'end': 14289,\n",
       "    'duration': 1989,\n",
       "    'priority': 1324.5089964731649},\n",
       "   '264': {'rID': 264,\n",
       "    'resource': 't0',\n",
       "    'start': 1214,\n",
       "    'end': 2372,\n",
       "    'duration': 1158,\n",
       "    'priority': 772.9409941307673},\n",
       "   '270': {'rID': 270,\n",
       "    'resource': 't2',\n",
       "    'start': 7500,\n",
       "    'end': 9474,\n",
       "    'duration': 1974,\n",
       "    'priority': 1320.5651010808413},\n",
       "   '301': {'rID': 301,\n",
       "    'resource': 't3',\n",
       "    'start': 84,\n",
       "    'end': 2060,\n",
       "    'duration': 1976,\n",
       "    'priority': 1315.9993370928892},\n",
       "   '302': {'rID': 302,\n",
       "    'resource': 't2',\n",
       "    'start': 104,\n",
       "    'end': 1461,\n",
       "    'duration': 1357,\n",
       "    'priority': 908.8752121611194},\n",
       "   '314': {'rID': 314,\n",
       "    'resource': 't0',\n",
       "    'start': 3300,\n",
       "    'end': 5641,\n",
       "    'duration': 2341,\n",
       "    'priority': 1555.9289707672197},\n",
       "   '317': {'rID': 317,\n",
       "    'resource': 't0',\n",
       "    'start': 8700,\n",
       "    'end': 11298,\n",
       "    'duration': 2598,\n",
       "    'priority': 1731.345251755009},\n",
       "   '323': {'rID': 323,\n",
       "    'resource': 't0',\n",
       "    'start': 2400,\n",
       "    'end': 3281,\n",
       "    'duration': 881,\n",
       "    'priority': 588.7020598589962},\n",
       "   '361': {'rID': 361,\n",
       "    'resource': 't3',\n",
       "    'start': 4800,\n",
       "    'end': 7400,\n",
       "    'duration': 2600,\n",
       "    'priority': 1740.490180234116},\n",
       "   '375': {'rID': 375,\n",
       "    'resource': 't1',\n",
       "    'start': 6061,\n",
       "    'end': 8896,\n",
       "    'duration': 2835,\n",
       "    'priority': 1884.96717351751},\n",
       "   '398': {'rID': 398,\n",
       "    'resource': 't2',\n",
       "    'start': 13200,\n",
       "    'end': 14227,\n",
       "    'duration': 1027,\n",
       "    'priority': 687.6130312734078},\n",
       "   '414': {'rID': 414,\n",
       "    'resource': 't3',\n",
       "    'start': 14400,\n",
       "    'end': 14616,\n",
       "    'duration': 216,\n",
       "    'priority': 143.88824028804797},\n",
       "   '416': {'rID': 416,\n",
       "    'resource': 't1',\n",
       "    'start': 21,\n",
       "    'end': 207,\n",
       "    'duration': 186,\n",
       "    'priority': 108.23264373689207},\n",
       "   '425': {'rID': 425,\n",
       "    'resource': 't4',\n",
       "    'start': 11400,\n",
       "    'end': 13699,\n",
       "    'duration': 2299,\n",
       "    'priority': 1531.425448761475},\n",
       "   '432': {'rID': 432,\n",
       "    'resource': 't2',\n",
       "    'start': 10251,\n",
       "    'end': 13114,\n",
       "    'duration': 2863,\n",
       "    'priority': 1910.2591869478483},\n",
       "   '439': {'rID': 439,\n",
       "    'resource': 't1',\n",
       "    'start': 11700,\n",
       "    'end': 12835,\n",
       "    'duration': 1135,\n",
       "    'priority': 755.9388761633866},\n",
       "   '467': {'rID': 467,\n",
       "    'resource': 't4',\n",
       "    'start': 32,\n",
       "    'end': 95,\n",
       "    'duration': 63,\n",
       "    'priority': 21.995420861703305},\n",
       "   '470': {'rID': 470,\n",
       "    'resource': 't4',\n",
       "    'start': 7687,\n",
       "    'end': 7799,\n",
       "    'duration': 112,\n",
       "    'priority': 74.32415025876399}},\n",
       "  'now': 0})"
      ]
     },
     "execution_count": 16,
     "metadata": {},
     "output_type": "execute_result"
    }
   ],
   "source": [
    "sched.solve_with_highs()"
   ]
  },
  {
   "cell_type": "code",
   "execution_count": 17,
   "id": "6488b3cb-d892-4b4c-a4de-5e304f02b277",
   "metadata": {
    "execution": {
     "iopub.execute_input": "2023-12-14T16:01:06.710300Z",
     "iopub.status.busy": "2023-12-14T16:01:06.710300Z",
     "iopub.status.idle": "2023-12-14T16:01:06.721482Z",
     "shell.execute_reply": "2023-12-14T16:01:06.721482Z",
     "shell.execute_reply.started": "2023-12-14T16:01:06.710300Z"
    }
   },
   "outputs": [
    {
     "data": {
      "text/plain": [
       "0.8298239707946777"
      ]
     },
     "execution_count": 17,
     "metadata": {},
     "output_type": "execute_result"
    }
   ],
   "source": [
    "sched.gurobi_solve_time"
   ]
  },
  {
   "cell_type": "code",
   "execution_count": 18,
   "id": "dfdc2d3b-be8d-4216-839d-286be835e23c",
   "metadata": {
    "execution": {
     "iopub.execute_input": "2023-12-14T16:01:06.721482Z",
     "iopub.status.busy": "2023-12-14T16:01:06.721482Z",
     "iopub.status.idle": "2023-12-14T16:01:06.738437Z",
     "shell.execute_reply": "2023-12-14T16:01:06.738437Z",
     "shell.execute_reply.started": "2023-12-14T16:01:06.721482Z"
    }
   },
   "outputs": [
    {
     "data": {
      "text/plain": [
       "18.630943059921265"
      ]
     },
     "execution_count": 18,
     "metadata": {},
     "output_type": "execute_result"
    }
   ],
   "source": [
    "sched.highs_solve_time"
   ]
  },
  {
   "cell_type": "code",
   "execution_count": 19,
   "id": "344c9464-2489-4cb2-9487-ce4ac92378b5",
   "metadata": {
    "execution": {
     "iopub.execute_input": "2023-12-14T16:01:06.740441Z",
     "iopub.status.busy": "2023-12-14T16:01:06.740441Z",
     "iopub.status.idle": "2023-12-14T16:01:06.760809Z",
     "shell.execute_reply": "2023-12-14T16:01:06.757147Z",
     "shell.execute_reply.started": "2023-12-14T16:01:06.740441Z"
    }
   },
   "outputs": [
    {
     "data": {
      "text/plain": [
       "{'_cmodel': <capsule object NULL at 0x00000250B1BAFB70>, '_rowno': 6}"
      ]
     },
     "execution_count": 19,
     "metadata": {},
     "output_type": "execute_result"
    }
   ],
   "source": [
    "vars(sched.model.getConstrs()[6])"
   ]
  },
  {
   "cell_type": "code",
   "execution_count": 20,
   "id": "b07fe903-1ffb-486c-b284-5f08bd870084",
   "metadata": {
    "execution": {
     "iopub.execute_input": "2023-12-14T16:01:06.765331Z",
     "iopub.status.busy": "2023-12-14T16:01:06.764814Z",
     "iopub.status.idle": "2023-12-14T16:01:06.794290Z",
     "shell.execute_reply": "2023-12-14T16:01:06.792294Z",
     "shell.execute_reply.started": "2023-12-14T16:01:06.765331Z"
    }
   },
   "outputs": [],
   "source": [
    "a = sched.model.getJSONSolution()"
   ]
  },
  {
   "cell_type": "code",
   "execution_count": 21,
   "id": "0ee97122-2ba8-42f5-b288-3619e88b12f9",
   "metadata": {
    "execution": {
     "iopub.execute_input": "2023-12-14T16:01:06.796288Z",
     "iopub.status.busy": "2023-12-14T16:01:06.796288Z",
     "iopub.status.idle": "2023-12-14T16:01:06.819425Z",
     "shell.execute_reply": "2023-12-14T16:01:06.818426Z",
     "shell.execute_reply.started": "2023-12-14T16:01:06.796288Z"
    }
   },
   "outputs": [
    {
     "data": {
      "text/plain": [
       "{'SolutionInfo': {'Status': 2,\n",
       "  'Runtime': 0.8300001621246338,\n",
       "  'Work': 0.822935926542864,\n",
       "  'ObjVal': 38714.088107283256,\n",
       "  'ObjBound': 38728.70566797898,\n",
       "  'ObjBoundC': 38728.70566797898,\n",
       "  'MIPGap': 0.00037757729576938813,\n",
       "  'IntVio': 0,\n",
       "  'BoundVio': 0,\n",
       "  'ConstrVio': 0,\n",
       "  'IterCount': 176,\n",
       "  'BarIterCount': 23,\n",
       "  'NodeCount': 1,\n",
       "  'SolCount': 4,\n",
       "  'PoolObjBound': 38728.70566797898,\n",
       "  'PoolObjVal': [38714.088107283256,\n",
       "   36598.87811435307,\n",
       "   36511.71920131412,\n",
       "   22175.989190077886]},\n",
       " 'Vars': [{'VarName': '6', 'X': 1},\n",
       "  {'VarName': '31', 'X': 1},\n",
       "  {'VarName': '32', 'X': 1},\n",
       "  {'VarName': '33', 'X': 1},\n",
       "  {'VarName': '36', 'X': 1},\n",
       "  {'VarName': '55', 'X': 1},\n",
       "  {'VarName': '60', 'X': 1},\n",
       "  {'VarName': '70', 'X': 1},\n",
       "  {'VarName': '86', 'X': 1},\n",
       "  {'VarName': '104', 'X': 1},\n",
       "  {'VarName': '113', 'X': 1},\n",
       "  {'VarName': '114', 'X': 1},\n",
       "  {'VarName': '117', 'X': 1},\n",
       "  {'VarName': '141', 'X': 1},\n",
       "  {'VarName': '143', 'X': 1},\n",
       "  {'VarName': '153', 'X': 1},\n",
       "  {'VarName': '167', 'X': 1},\n",
       "  {'VarName': '170', 'X': 1},\n",
       "  {'VarName': '203', 'X': 1},\n",
       "  {'VarName': '208', 'X': 1},\n",
       "  {'VarName': '213', 'X': 1},\n",
       "  {'VarName': '250', 'X': 1},\n",
       "  {'VarName': '264', 'X': 1},\n",
       "  {'VarName': '270', 'X': 1},\n",
       "  {'VarName': '301', 'X': 1},\n",
       "  {'VarName': '302', 'X': 1},\n",
       "  {'VarName': '314', 'X': 1},\n",
       "  {'VarName': '317', 'X': 1},\n",
       "  {'VarName': '323', 'X': 1},\n",
       "  {'VarName': '361', 'X': 1},\n",
       "  {'VarName': '375', 'X': 1},\n",
       "  {'VarName': '398', 'X': 1},\n",
       "  {'VarName': '414', 'X': 1},\n",
       "  {'VarName': '416', 'X': 1},\n",
       "  {'VarName': '425', 'X': 1},\n",
       "  {'VarName': '432', 'X': 1},\n",
       "  {'VarName': '439', 'X': 1},\n",
       "  {'VarName': '467', 'X': 1},\n",
       "  {'VarName': '470', 'X': 1}]}"
      ]
     },
     "execution_count": 21,
     "metadata": {},
     "output_type": "execute_result"
    }
   ],
   "source": [
    "import json\n",
    "json.loads(a)"
   ]
  },
  {
   "cell_type": "code",
   "execution_count": 22,
   "id": "342032ca-8721-4276-a232-c77679202d32",
   "metadata": {
    "execution": {
     "iopub.execute_input": "2023-12-14T16:01:06.824433Z",
     "iopub.status.busy": "2023-12-14T16:01:06.823425Z",
     "iopub.status.idle": "2023-12-14T16:01:06.838095Z",
     "shell.execute_reply": "2023-12-14T16:01:06.837093Z",
     "shell.execute_reply.started": "2023-12-14T16:01:06.824433Z"
    }
   },
   "outputs": [
    {
     "data": {
      "text/plain": [
       "'{ \"SolutionInfo\": { \"Status\": 2, \"Runtime\": 8.3000016212463379e-01, \"Work\": 0.822935926542864, \"ObjVal\": 3.8714088107283256e+04, \"ObjBound\": 3.8728705667978982e+04, \"ObjBoundC\": 3.8728705667978982e+04, \"MIPGap\": 3.7757729576938813e-04, \"IntVio\": 0, \"BoundVio\": 0, \"ConstrVio\": 0, \"IterCount\": 176, \"BarIterCount\": 23, \"NodeCount\": 1, \"SolCount\": 4, \"PoolObjBound\": 3.8728705667978982e+04, \"PoolObjVal\": [ 3.8714088107283256e+04, 3.6598878114353072e+04, 3.6511719201314118e+04, 2.2175989190077886e+04]}, \"Vars\": [ { \"VarName\": \"6\", \"X\": 1}, { \"VarName\": \"31\", \"X\": 1}, { \"VarName\": \"32\", \"X\": 1}, { \"VarName\": \"33\", \"X\": 1}, { \"VarName\": \"36\", \"X\": 1}, { \"VarName\": \"55\", \"X\": 1}, { \"VarName\": \"60\", \"X\": 1}, { \"VarName\": \"70\", \"X\": 1}, { \"VarName\": \"86\", \"X\": 1}, { \"VarName\": \"104\", \"X\": 1}, { \"VarName\": \"113\", \"X\": 1}, { \"VarName\": \"114\", \"X\": 1}, { \"VarName\": \"117\", \"X\": 1}, { \"VarName\": \"141\", \"X\": 1}, { \"VarName\": \"143\", \"X\": 1}, { \"VarName\": \"153\", \"X\": 1}, { \"VarName\": \"167\", \"X\": 1}, { \"VarName\": \"170\", \"X\": 1}, { \"VarName\": \"203\", \"X\": 1}, { \"VarName\": \"208\", \"X\": 1}, { \"VarName\": \"213\", \"X\": 1}, { \"VarName\": \"250\", \"X\": 1}, { \"VarName\": \"264\", \"X\": 1}, { \"VarName\": \"270\", \"X\": 1}, { \"VarName\": \"301\", \"X\": 1}, { \"VarName\": \"302\", \"X\": 1}, { \"VarName\": \"314\", \"X\": 1}, { \"VarName\": \"317\", \"X\": 1}, { \"VarName\": \"323\", \"X\": 1}, { \"VarName\": \"361\", \"X\": 1}, { \"VarName\": \"375\", \"X\": 1}, { \"VarName\": \"398\", \"X\": 1}, { \"VarName\": \"414\", \"X\": 1}, { \"VarName\": \"416\", \"X\": 1}, { \"VarName\": \"425\", \"X\": 1}, { \"VarName\": \"432\", \"X\": 1}, { \"VarName\": \"439\", \"X\": 1}, { \"VarName\": \"467\", \"X\": 1}, { \"VarName\": \"470\", \"X\": 1}]}'"
      ]
     },
     "execution_count": 22,
     "metadata": {},
     "output_type": "execute_result"
    }
   ],
   "source": [
    "a"
   ]
  },
  {
   "cell_type": "markdown",
   "id": "f8318a3d-c97d-4abd-bb31-1b184e33cc25",
   "metadata": {},
   "source": [
    "---"
   ]
  },
  {
   "cell_type": "code",
   "execution_count": 4,
   "id": "2253cf46-3839-486c-a7c0-2a49a45b96da",
   "metadata": {
    "execution": {
     "iopub.execute_input": "2024-01-15T10:57:41.809514Z",
     "iopub.status.busy": "2024-01-15T10:57:41.808513Z",
     "iopub.status.idle": "2024-01-15T10:57:41.834856Z",
     "shell.execute_reply": "2024-01-15T10:57:41.833681Z",
     "shell.execute_reply.started": "2024-01-15T10:57:41.809514Z"
    }
   },
   "outputs": [],
   "source": [
    "import numpy as np"
   ]
  },
  {
   "cell_type": "code",
   "execution_count": 6,
   "id": "4c0f3711-6bac-4339-b12b-306094db8ac8",
   "metadata": {
    "execution": {
     "iopub.execute_input": "2024-01-15T10:58:15.338568Z",
     "iopub.status.busy": "2024-01-15T10:58:15.337568Z",
     "iopub.status.idle": "2024-01-15T10:58:15.354056Z",
     "shell.execute_reply": "2024-01-15T10:58:15.353039Z",
     "shell.execute_reply.started": "2024-01-15T10:58:15.338568Z"
    }
   },
   "outputs": [
    {
     "data": {
      "text/plain": [
       "[array(['t1', 't2', 't3', 't4'], dtype='<U2'),\n",
       " array(['t5', 't6', 't7', 't8'], dtype='<U2')]"
      ]
     },
     "execution_count": 6,
     "metadata": {},
     "output_type": "execute_result"
    }
   ],
   "source": [
    "np.array_split([\"t1\", \"t2\", \"t3\", \"t4\", \"t5\", \"t6\", \"t7\", \"t8\"], 2)"
   ]
  },
  {
   "cell_type": "code",
   "execution_count": 20,
   "id": "b0826b7b-9161-455c-83db-142082a485a3",
   "metadata": {
    "execution": {
     "iopub.execute_input": "2024-01-15T11:23:18.564882Z",
     "iopub.status.busy": "2024-01-15T11:23:18.564882Z",
     "iopub.status.idle": "2024-01-15T11:23:18.580579Z",
     "shell.execute_reply": "2024-01-15T11:23:18.579566Z",
     "shell.execute_reply.started": "2024-01-15T11:23:18.564882Z"
    }
   },
   "outputs": [],
   "source": [
    "from collections import defaultdict\n",
    "import json\n",
    "import pprint"
   ]
  },
  {
   "cell_type": "code",
   "execution_count": 14,
   "id": "eec4a4c4-174d-4991-92fe-b198db0f79cc",
   "metadata": {
    "execution": {
     "iopub.execute_input": "2024-01-15T11:14:24.399761Z",
     "iopub.status.busy": "2024-01-15T11:14:24.399761Z",
     "iopub.status.idle": "2024-01-15T11:14:24.418266Z",
     "shell.execute_reply": "2024-01-15T11:14:24.417256Z",
     "shell.execute_reply.started": "2024-01-15T11:14:24.399761Z"
    }
   },
   "outputs": [],
   "source": [
    "a = defaultdict(lambda: defaultdict(lambda: []))"
   ]
  },
  {
   "cell_type": "code",
   "execution_count": 16,
   "id": "839cfdba-d756-4124-8b38-aaf24070fb4f",
   "metadata": {
    "execution": {
     "iopub.execute_input": "2024-01-15T11:14:36.845798Z",
     "iopub.status.busy": "2024-01-15T11:14:36.845798Z",
     "iopub.status.idle": "2024-01-15T11:14:36.853009Z",
     "shell.execute_reply": "2024-01-15T11:14:36.853009Z",
     "shell.execute_reply.started": "2024-01-15T11:14:36.845798Z"
    }
   },
   "outputs": [
    {
     "data": {
      "text/plain": [
       "[]"
      ]
     },
     "execution_count": 16,
     "metadata": {},
     "output_type": "execute_result"
    }
   ],
   "source": [
    "a[1][2]"
   ]
  },
  {
   "cell_type": "code",
   "execution_count": 17,
   "id": "6799146e-7d90-4e73-a0fd-aca3031907ef",
   "metadata": {
    "execution": {
     "iopub.execute_input": "2024-01-15T11:14:44.675946Z",
     "iopub.status.busy": "2024-01-15T11:14:44.675946Z",
     "iopub.status.idle": "2024-01-15T11:14:44.684306Z",
     "shell.execute_reply": "2024-01-15T11:14:44.683298Z",
     "shell.execute_reply.started": "2024-01-15T11:14:44.675946Z"
    }
   },
   "outputs": [
    {
     "data": {
      "text/plain": [
       "defaultdict(<function __main__.<lambda>()>,\n",
       "            {1: defaultdict(<function __main__.<lambda>.<locals>.<lambda>()>,\n",
       "                         {2: []})})"
      ]
     },
     "execution_count": 17,
     "metadata": {},
     "output_type": "execute_result"
    }
   ],
   "source": [
    "a"
   ]
  },
  {
   "cell_type": "code",
   "execution_count": 18,
   "id": "3189d83e-7bff-4cd2-95ea-43570cfff964",
   "metadata": {
    "execution": {
     "iopub.execute_input": "2024-01-15T11:14:56.815357Z",
     "iopub.status.busy": "2024-01-15T11:14:56.815357Z",
     "iopub.status.idle": "2024-01-15T11:14:56.824720Z",
     "shell.execute_reply": "2024-01-15T11:14:56.824720Z",
     "shell.execute_reply.started": "2024-01-15T11:14:56.815357Z"
    }
   },
   "outputs": [],
   "source": [
    "a[1][2] = 3"
   ]
  },
  {
   "cell_type": "code",
   "execution_count": 19,
   "id": "8832736a-a26c-49ec-b055-ae56d0354434",
   "metadata": {
    "execution": {
     "iopub.execute_input": "2024-01-15T11:15:00.056238Z",
     "iopub.status.busy": "2024-01-15T11:15:00.056238Z",
     "iopub.status.idle": "2024-01-15T11:15:00.065183Z",
     "shell.execute_reply": "2024-01-15T11:15:00.064173Z",
     "shell.execute_reply.started": "2024-01-15T11:15:00.056238Z"
    }
   },
   "outputs": [
    {
     "data": {
      "text/plain": [
       "defaultdict(<function __main__.<lambda>()>,\n",
       "            {1: defaultdict(<function __main__.<lambda>.<locals>.<lambda>()>,\n",
       "                         {2: 3})})"
      ]
     },
     "execution_count": 19,
     "metadata": {},
     "output_type": "execute_result"
    }
   ],
   "source": [
    "a"
   ]
  },
  {
   "cell_type": "code",
   "execution_count": 21,
   "id": "ced34cbf-c316-4256-ab23-8e09bc821f20",
   "metadata": {
    "execution": {
     "iopub.execute_input": "2024-01-15T11:23:33.229069Z",
     "iopub.status.busy": "2024-01-15T11:23:33.228068Z",
     "iopub.status.idle": "2024-01-15T11:23:33.237456Z",
     "shell.execute_reply": "2024-01-15T11:23:33.236446Z",
     "shell.execute_reply.started": "2024-01-15T11:23:33.229069Z"
    }
   },
   "outputs": [
    {
     "name": "stdout",
     "output_type": "stream",
     "text": [
      "{'1': {'2': 3}}\n"
     ]
    }
   ],
   "source": [
    "pprint.pprint(json.loads(json.dumps(a)))"
   ]
  },
  {
   "cell_type": "code",
   "execution_count": 22,
   "id": "83909864-550a-45b3-8c43-5acbb5d37e22",
   "metadata": {
    "execution": {
     "iopub.execute_input": "2024-01-15T11:23:56.337494Z",
     "iopub.status.busy": "2024-01-15T11:23:56.323061Z",
     "iopub.status.idle": "2024-01-15T11:23:56.344964Z",
     "shell.execute_reply": "2024-01-15T11:23:56.343954Z",
     "shell.execute_reply.started": "2024-01-15T11:23:56.337494Z"
    }
   },
   "outputs": [
    {
     "name": "stdout",
     "output_type": "stream",
     "text": [
      "{1: defaultdict(<function <lambda>.<locals>.<lambda> at 0x0000018CF1F85580>, {2: 3})}\n"
     ]
    }
   ],
   "source": [
    "print(dict(a))"
   ]
  },
  {
   "cell_type": "code",
   "execution_count": 24,
   "id": "3cd62a2b-9f9c-417e-9ebc-3ac953fdd093",
   "metadata": {
    "execution": {
     "iopub.execute_input": "2024-01-15T11:24:35.665828Z",
     "iopub.status.busy": "2024-01-15T11:24:35.665828Z",
     "iopub.status.idle": "2024-01-15T11:24:35.673217Z",
     "shell.execute_reply": "2024-01-15T11:24:35.673217Z",
     "shell.execute_reply.started": "2024-01-15T11:24:35.665828Z"
    }
   },
   "outputs": [
    {
     "name": "stdout",
     "output_type": "stream",
     "text": [
      "1\n",
      "{2: 3}\n"
     ]
    }
   ],
   "source": [
    "for k, v in a.items():\n",
    "    print(k)\n",
    "    print(dict(v))"
   ]
  },
  {
   "cell_type": "code",
   "execution_count": 25,
   "id": "137422a9-7429-4f5f-a87f-2f4ae2eebbc7",
   "metadata": {
    "execution": {
     "iopub.execute_input": "2024-01-15T11:25:40.944683Z",
     "iopub.status.busy": "2024-01-15T11:25:40.944683Z",
     "iopub.status.idle": "2024-01-15T11:25:40.953078Z",
     "shell.execute_reply": "2024-01-15T11:25:40.953078Z",
     "shell.execute_reply.started": "2024-01-15T11:25:40.944683Z"
    }
   },
   "outputs": [
    {
     "data": {
      "text/plain": [
       "defaultdict(<function __main__.<lambda>()>,\n",
       "            {1: defaultdict(<function __main__.<lambda>.<locals>.<lambda>()>,\n",
       "                         {2: 3})})"
      ]
     },
     "execution_count": 25,
     "metadata": {},
     "output_type": "execute_result"
    }
   ],
   "source": [
    "a"
   ]
  },
  {
   "cell_type": "code",
   "execution_count": 26,
   "id": "948b5453-523b-4cec-abd2-a49a1aea6b38",
   "metadata": {
    "execution": {
     "iopub.execute_input": "2024-01-15T11:25:58.810618Z",
     "iopub.status.busy": "2024-01-15T11:25:58.809621Z",
     "iopub.status.idle": "2024-01-15T11:25:58.817784Z",
     "shell.execute_reply": "2024-01-15T11:25:58.817784Z",
     "shell.execute_reply.started": "2024-01-15T11:25:58.810618Z"
    }
   },
   "outputs": [
    {
     "data": {
      "text/plain": [
       "[]"
      ]
     },
     "execution_count": 26,
     "metadata": {},
     "output_type": "execute_result"
    }
   ],
   "source": [
    "a[1][1]"
   ]
  },
  {
   "cell_type": "code",
   "execution_count": 27,
   "id": "cf1ad26d-3fdd-43f1-b276-22f1526f8b58",
   "metadata": {
    "execution": {
     "iopub.execute_input": "2024-01-15T11:26:05.172010Z",
     "iopub.status.busy": "2024-01-15T11:26:05.171010Z",
     "iopub.status.idle": "2024-01-15T11:26:05.181113Z",
     "shell.execute_reply": "2024-01-15T11:26:05.180101Z",
     "shell.execute_reply.started": "2024-01-15T11:26:05.172010Z"
    }
   },
   "outputs": [],
   "source": [
    "a[2][2].append(3)"
   ]
  },
  {
   "cell_type": "code",
   "execution_count": 28,
   "id": "166be8fc-ef73-405d-9fce-d276a0f418f7",
   "metadata": {
    "execution": {
     "iopub.execute_input": "2024-01-15T11:26:06.172284Z",
     "iopub.status.busy": "2024-01-15T11:26:06.172284Z",
     "iopub.status.idle": "2024-01-15T11:26:06.182425Z",
     "shell.execute_reply": "2024-01-15T11:26:06.182425Z",
     "shell.execute_reply.started": "2024-01-15T11:26:06.172284Z"
    }
   },
   "outputs": [
    {
     "data": {
      "text/plain": [
       "defaultdict(<function __main__.<lambda>()>,\n",
       "            {1: defaultdict(<function __main__.<lambda>.<locals>.<lambda>()>,\n",
       "                         {2: 3, 1: []}),\n",
       "             2: defaultdict(<function __main__.<lambda>.<locals>.<lambda>()>,\n",
       "                         {2: [3]})})"
      ]
     },
     "execution_count": 28,
     "metadata": {},
     "output_type": "execute_result"
    }
   ],
   "source": [
    "a"
   ]
  }
 ],
 "metadata": {
  "kernelspec": {
   "display_name": "Python 3 (ipykernel)",
   "language": "python",
   "name": "python3"
  },
  "language_info": {
   "codemirror_mode": {
    "name": "ipython",
    "version": 3
   },
   "file_extension": ".py",
   "mimetype": "text/x-python",
   "name": "python",
   "nbconvert_exporter": "python",
   "pygments_lexer": "ipython3",
   "version": "3.11.4"
  }
 },
 "nbformat": 4,
 "nbformat_minor": 5
}
