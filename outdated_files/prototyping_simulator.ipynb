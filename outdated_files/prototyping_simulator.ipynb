{
 "cells": [
  {
   "cell_type": "code",
   "execution_count": 1,
   "id": "41c556f5-7e28-4135-9885-82802fea03d6",
   "metadata": {},
   "outputs": [],
   "source": [
    "from gurobipy import Model, GRB, tuplelist, quicksum\n",
    "from gurobipy import read as gurobi_read_model\n",
    "from ScheduleSimulator import *\n",
    "import json\n",
    "import random\n",
    "import math\n",
    "import os\n",
    "import copy\n",
    "import time"
   ]
  },
  {
   "cell_type": "code",
   "execution_count": 2,
   "id": "1499faaf-5280-4a0a-98b7-5779faa5ecaa",
   "metadata": {},
   "outputs": [
    {
     "name": "stdout",
     "output_type": "stream",
     "text": [
      "11.609 seconds\n"
     ]
    }
   ],
   "source": [
    "t1 = time.time()\n",
    "s = SchedulerSimulation(\"sample_input/sample_input_v2_3.json\")\n",
    "s.run_simulation()\n",
    "t2 = time.time()\n",
    "print(f\"{round(t2 - t1, 3)} seconds\")"
   ]
  },
  {
   "cell_type": "code",
   "execution_count": 4,
   "id": "ecd39518-ab10-4c3f-9fa3-548b5a0c4907",
   "metadata": {},
   "outputs": [
    {
     "name": "stdout",
     "output_type": "stream",
     "text": [
      "\n",
      "Simulation Complete.\n",
      "Scheduled requests for 't1'\n",
      "416: 21 - 207 (186), Priority = 108.23264373689207\n",
      "32: 300 - 1756 (1456), Priority = 966.564840781936\n",
      "682: 10798 - 12805 (2007), Priority = 1338.387264670336\n",
      "113: 12900 - 14383 (1483), Priority = 984.0254235989191\n",
      "104: 14400 - 14967 (567), Priority = 332.2713207766198\n",
      "\n",
      "Scheduled requests for 't0'\n",
      "117: 57 - 1190 (1133), Priority = 753.3702448871005\n",
      "95: 3500 - 6000 (2500), Priority = 1671.0026913051631\n",
      "667: 9559 - 9883 (324), Priority = 215.14286664971442\n",
      "70: 11081 - 14036 (2955), Priority = 1978.0724539871\n",
      "31: 14100 - 14988 (888), Priority = 589.112687224596\n",
      "\n",
      "Scheduled requests for 't2'\n",
      "302: 104 - 1461 (1357), Priority = 908.8752121611194\n",
      "296: 3000 - 3261 (261), Priority = 173.2571315656865\n",
      "119: 4458 - 7188 (2730), Priority = 1827.7588940248274\n",
      "640: 10251 - 13183 (2932), Priority = 1945.247625163548\n",
      "430: 13200 - 14008 (808), Priority = 537.4382355085442\n",
      "772: 14100 - 14358 (258), Priority = 171.3197899696073\n",
      "153: 14400 - 14934 (534), Priority = 357.75638892521124\n",
      "\n",
      "Scheduled requests for 't4'\n",
      "467: 32 - 95 (63), Priority = 21.995420861703305\n",
      "470: 7687 - 7799 (112), Priority = 74.32415025876399\n",
      "393: 11083 - 13909 (2826), Priority = 1881.6242092988275\n",
      "\n",
      "Scheduled requests for 't3'\n",
      "261: 3500 - 4496 (996), Priority = 663.5576539861474\n",
      "60: 4500 - 7119 (2619), Priority = 1742.6443059376518\n",
      "55: 10000 - 12293 (2293), Priority = 1522.4043285722641\n",
      "726: 12300 - 13475 (1175), Priority = 781.4794226194739\n",
      "208: 13500 - 14378 (878), Priority = 584.0401118373613\n",
      "\n"
     ]
    }
   ],
   "source": [
    "s.display_simulation_results()"
   ]
  },
  {
   "cell_type": "code",
   "execution_count": null,
   "id": "270d35ca-6cd1-4cf2-aaf5-f14544b7537d",
   "metadata": {},
   "outputs": [],
   "source": []
  }
 ],
 "metadata": {
  "kernelspec": {
   "display_name": "Python 3 (ipykernel)",
   "language": "python",
   "name": "python3"
  },
  "language_info": {
   "codemirror_mode": {
    "name": "ipython",
    "version": 3
   },
   "file_extension": ".py",
   "mimetype": "text/x-python",
   "name": "python",
   "nbconvert_exporter": "python",
   "pygments_lexer": "ipython3",
   "version": "3.11.4"
  }
 },
 "nbformat": 4,
 "nbformat_minor": 5
}
