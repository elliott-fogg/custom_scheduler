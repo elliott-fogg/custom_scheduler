{
 "cells": [
  {
   "cell_type": "code",
   "execution_count": 1,
   "id": "6e810196-702e-4f4a-aaf0-4c431eb9b166",
   "metadata": {},
   "outputs": [],
   "source": [
    "from gurobipy import Model, GRB, tuplelist, quicksum\n",
    "from gurobipy import read as gurobi_read_model\n",
    "import json\n",
    "import random\n",
    "import math\n",
    "from scheduler_utils import *"
   ]
  },
  {
   "cell_type": "code",
   "execution_count": 2,
   "id": "15effc8b-c0ca-49e7-81e7-671367b1efc9",
   "metadata": {},
   "outputs": [],
   "source": [
    "scheduler = Scheduler()\n",
    "scheduler.load_from_file(\"sample_input_custom2.json\")"
   ]
  },
  {
   "cell_type": "code",
   "execution_count": 3,
   "id": "05ce213a-397d-42ca-9f2a-5dd73d1a1bb8",
   "metadata": {},
   "outputs": [],
   "source": [
    "scheduler.build_data_structures()"
   ]
  },
  {
   "cell_type": "code",
   "execution_count": 4,
   "id": "4665e2af-ea9d-47f3-baea-d366e80347fe",
   "metadata": {},
   "outputs": [
    {
     "name": "stdout",
     "output_type": "stream",
     "text": [
      "Set parameter Username\n",
      "Academic license - for non-commercial use only - expires 2024-06-06\n",
      "Set parameter MIPGap to value 0.01\n",
      "Set parameter Method to value 3\n",
      "Model constructed\n"
     ]
    }
   ],
   "source": [
    "scheduler.build_model()"
   ]
  },
  {
   "cell_type": "code",
   "execution_count": 5,
   "id": "85a1ae29-8101-4aa9-96db-e73013d57fb0",
   "metadata": {},
   "outputs": [
    {
     "name": "stdout",
     "output_type": "stream",
     "text": [
      "Gurobi Optimizer version 10.0.2 build v10.0.2rc0 (win64)\n",
      "\n",
      "CPU model: Intel(R) Core(TM) i7-7700HQ CPU @ 2.80GHz, instruction set [SSE2|AVX|AVX2]\n",
      "Thread count: 4 physical cores, 8 logical processors, using up to 8 threads\n",
      "\n",
      "Optimize a model with 41 rows, 96 columns and 646 nonzeros\n",
      "Model fingerprint: 0x6ddc5313\n",
      "Variable types: 0 continuous, 96 integer (96 binary)\n",
      "Coefficient statistics:\n",
      "  Matrix range     [1e+00, 1e+00]\n",
      "  Objective range  [2e+02, 1e+03]\n",
      "  Bounds range     [1e+00, 1e+00]\n",
      "  RHS range        [1e+00, 1e+00]\n",
      "Found heuristic solution: objective 3251.6919513\n",
      "Presolve removed 21 rows and 44 columns\n",
      "Presolve time: 0.00s\n",
      "Presolved: 20 rows, 52 columns, 307 nonzeros\n",
      "Variable types: 0 continuous, 52 integer (52 binary)\n",
      "Found heuristic solution: objective 3254.3266360\n",
      "\n",
      "Root relaxation: objective 3.259933e+03, 26 iterations, 0.00 seconds (0.00 work units)\n",
      "\n",
      "    Nodes    |    Current Node    |     Objective Bounds      |     Work\n",
      " Expl Unexpl |  Obj  Depth IntInf | Incumbent    BestBd   Gap | It/Node Time\n",
      "\n",
      "     0     0          -    0      3254.32664 3259.93282  0.17%     -    0s\n",
      "\n",
      "Explored 1 nodes (26 simplex iterations) in 0.03 seconds (0.00 work units)\n",
      "Thread count was 8 (of 8 available processors)\n",
      "\n",
      "Solution count 2: 3254.33 3251.69 \n",
      "\n",
      "Optimal solution found (tolerance 1.00e-02)\n",
      "Best objective 3.254326636022e+03, best bound 3.259932818197e+03, gap 0.1723%\n",
      "Model optimized\n"
     ]
    }
   ],
   "source": [
    "scheduler.solve_model()"
   ]
  },
  {
   "cell_type": "code",
   "execution_count": 6,
   "id": "ecd7334f-3e1e-40eb-9094-855f78646d60",
   "metadata": {},
   "outputs": [
    {
     "name": "stdout",
     "output_type": "stream",
     "text": [
      "22 [2, 0, 1004.5603427188925, 't1', 0, <scheduler_utils.PossibleStart object at 0x00000259BE955810>]\n",
      "47 [3, 14, 249.34491156772972, 't1', 0, <scheduler_utils.PossibleStart object at 0x00000259BE9575D0>]\n",
      "56 [4, 7, 997.3604808973744, 't1', 0, <scheduler_utils.PossibleStart object at 0x00000259BE95C490>]\n",
      "85 [6, 11, 1002.9334008376168, 't1', 0, <scheduler_utils.PossibleStart object at 0x00000259BE95E810>]\n",
      "[2, 0, 1004.5603427188925, 't1', 0, <scheduler_utils.PossibleStart object at 0x00000259BE955810>]\n",
      "Request 2:\n",
      "Resource = t1\n",
      "Start Window ID = resource_t1_start_0_length_300\n",
      "Start Window ID = (33, 'resource_t1_start_17700_length_300')\n",
      "Start / End (Duration) = 0 / 2000 (2000)\n",
      "Duration = 2000\n",
      "Priority: 1004.5603427188925\n",
      "\n",
      "[4, 7, 997.3604808973744, 't1', 0, <scheduler_utils.PossibleStart object at 0x00000259BE95C490>]\n",
      "Request 4:\n",
      "Resource = t1\n",
      "Start Window ID = resource_t1_start_2100_length_300\n",
      "Start Window ID = (6, 'resource_t1_start_1800_length_300')\n",
      "Start / End (Duration) = 2100 / 4100 (2000)\n",
      "Duration = 2000\n",
      "Priority: 997.3604808973744\n",
      "\n",
      "[3, 14, 249.34491156772972, 't1', 0, <scheduler_utils.PossibleStart object at 0x00000259BE9575D0>]\n",
      "Request 3:\n",
      "Resource = t1\n",
      "Start Window ID = resource_t1_start_4200_length_300\n",
      "Start Window ID = (13, 'resource_t1_start_3900_length_300')\n",
      "Start / End (Duration) = 4200 / 4700 (500)\n",
      "Duration = 500\n",
      "Priority: 249.34491156772972\n",
      "\n",
      "[6, 11, 1002.9334008376168, 't1', 0, <scheduler_utils.PossibleStart object at 0x00000259BE95E810>]\n",
      "Request 6:\n",
      "Resource = t1\n",
      "Start Window ID = resource_t1_start_12900_length_300\n",
      "Start Window ID = (10, 'resource_t1_start_3000_length_300')\n",
      "Start / End (Duration) = 13000 / 15000 (2000)\n",
      "Duration = 2000\n",
      "Priority: 1002.9334008376168\n",
      "\n"
     ]
    }
   ],
   "source": [
    "scheduler.interpret_solution()"
   ]
  },
  {
   "cell_type": "code",
   "execution_count": null,
   "id": "3b26b334-beec-4545-a24c-98ea9301cffa",
   "metadata": {},
   "outputs": [],
   "source": []
  },
  {
   "cell_type": "code",
   "execution_count": null,
   "id": "bbe0cc2f-2e71-42bd-99db-48c1365a917d",
   "metadata": {},
   "outputs": [],
   "source": []
  }
 ],
 "metadata": {
  "kernelspec": {
   "display_name": "Python 3 (ipykernel)",
   "language": "python",
   "name": "python3"
  },
  "language_info": {
   "codemirror_mode": {
    "name": "ipython",
    "version": 3
   },
   "file_extension": ".py",
   "mimetype": "text/x-python",
   "name": "python",
   "nbconvert_exporter": "python",
   "pygments_lexer": "ipython3",
   "version": "3.11.4"
  }
 },
 "nbformat": 4,
 "nbformat_minor": 5
}
