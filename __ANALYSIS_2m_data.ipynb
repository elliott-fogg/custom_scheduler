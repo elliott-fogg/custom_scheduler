{
 "cells": [
  {
   "cell_type": "markdown",
   "id": "edf86e26-8155-4e47-9804-053e51461c7f",
   "metadata": {},
   "source": [
    "## Setup\n",
    "\n",
    "### Import Libraries"
   ]
  },
  {
   "cell_type": "code",
   "execution_count": 64,
   "id": "e45d3bae-b8a7-445c-8e82-3a9a79710c1e",
   "metadata": {
    "execution": {
     "iopub.execute_input": "2024-06-26T23:51:54.316811Z",
     "iopub.status.busy": "2024-06-26T23:51:54.316330Z",
     "iopub.status.idle": "2024-06-26T23:51:54.328032Z",
     "shell.execute_reply": "2024-06-26T23:51:54.325704Z",
     "shell.execute_reply.started": "2024-06-26T23:51:54.316752Z"
    }
   },
   "outputs": [],
   "source": [
    "import pandas as pd\n",
    "from matplotlib import pyplot as plt\n",
    "import random\n",
    "import datetime as dt\n",
    "import numpy as np\n",
    "import statistics as stats\n",
    "import pickle\n",
    "import json\n",
    "import os\n",
    "import copy\n",
    "import inspect\n",
    "\n",
    "from configdb import configdb\n",
    "import duration_utils as du\n",
    "\n",
    "from rise_set.angle import Angle\n",
    "from rise_set.rates import ProperMotion\n",
    "from rise_set.visibility import Visibility\n",
    "from rise_set.astrometry import calculate_airmass_at_times, make_ra_dec_target\n",
    "from time_intervals.intervals import Intervals\n",
    "\n",
    "from models import ICRSTarget, OrbitalElementsTarget, SatelliteTarget\n",
    "\n",
    "from pandas import notna"
   ]
  },
  {
   "cell_type": "markdown",
   "id": "dbd9cbbe-19c1-4a20-9f4c-4047c0fd9de0",
   "metadata": {},
   "source": [
    "### Plotting Functions"
   ]
  },
  {
   "cell_type": "code",
   "execution_count": 2,
   "id": "e41231cd-b3fc-44ca-bad9-e8408d76ea1f",
   "metadata": {
    "execution": {
     "iopub.execute_input": "2024-06-26T16:34:08.230957Z",
     "iopub.status.busy": "2024-06-26T16:34:08.230035Z",
     "iopub.status.idle": "2024-06-26T16:34:08.238895Z",
     "shell.execute_reply": "2024-06-26T16:34:08.237466Z",
     "shell.execute_reply.started": "2024-06-26T16:34:08.230923Z"
    }
   },
   "outputs": [],
   "source": [
    "def scatter(x_values, y_values, title, xlabel, ylabel, filename):\n",
    "    plt.scatter(x_values, y_values, marker=\".\", color=\"black\")\n",
    "    plt.title(title)\n",
    "    plt.xlabel(xlabel)\n",
    "    plt.ylabel(ylabel)\n",
    "    plt.savefig(os.path.join(\"plots\", filename+\".png\"))\n",
    "    plt.show()"
   ]
  },
  {
   "cell_type": "code",
   "execution_count": 3,
   "id": "f2b8f8c8-f052-4830-af94-ae59e5e23ac0",
   "metadata": {
    "execution": {
     "iopub.execute_input": "2024-06-26T16:34:08.241990Z",
     "iopub.status.busy": "2024-06-26T16:34:08.240911Z",
     "iopub.status.idle": "2024-06-26T16:34:08.289951Z",
     "shell.execute_reply": "2024-06-26T16:34:08.287114Z",
     "shell.execute_reply.started": "2024-06-26T16:34:08.241958Z"
    }
   },
   "outputs": [],
   "source": [
    "def histogram(x_values, bin_edges, title, xlabel, ylabel, filename):\n",
    "    plot = plt.hist(x_values, bin_edges)\n",
    "    plt.xscale(\"log\")\n",
    "    plt.title(title)\n",
    "    plt.xlabel(xlabel)\n",
    "    plt.ylabel(ylabel)\n",
    "    plt.show()"
   ]
  },
  {
   "cell_type": "code",
   "execution_count": 4,
   "id": "86b235a6-6d6f-4b0b-82ab-b208acea4fd8",
   "metadata": {
    "execution": {
     "iopub.execute_input": "2024-06-26T16:34:08.301117Z",
     "iopub.status.busy": "2024-06-26T16:34:08.299515Z",
     "iopub.status.idle": "2024-06-26T16:34:08.345064Z",
     "shell.execute_reply": "2024-06-26T16:34:08.342277Z",
     "shell.execute_reply.started": "2024-06-26T16:34:08.301068Z"
    }
   },
   "outputs": [],
   "source": [
    "def flat_hist(x_values, bin_edges, bin_names, title, xlabel, ylabel, filename=None):\n",
    "    data = np.histogram(x_values, bin_edges)\n",
    "    plot = plt.bar(bin_names, data[0])\n",
    "    plt.title(title)\n",
    "    plt.xlabel(xlabel)\n",
    "    plt.ylabel(ylabel)\n",
    "    plt.show()"
   ]
  },
  {
   "cell_type": "code",
   "execution_count": 5,
   "id": "c40a8195-0d59-41e9-8b4f-d939d64fbc56",
   "metadata": {
    "execution": {
     "iopub.execute_input": "2024-06-26T16:34:08.350011Z",
     "iopub.status.busy": "2024-06-26T16:34:08.349048Z",
     "iopub.status.idle": "2024-06-26T16:34:08.380406Z",
     "shell.execute_reply": "2024-06-26T16:34:08.375466Z",
     "shell.execute_reply.started": "2024-06-26T16:34:08.349974Z"
    }
   },
   "outputs": [],
   "source": [
    "def split_on_limits(df, column_name, limits):\n",
    "    counts = []\n",
    "    for i in range(len(limits)):\n",
    "        bottom_limit = limits[i]\n",
    "        if (i+1) < len(limits):\n",
    "            top_limit = limits[i+1]\n",
    "        else:\n",
    "            top_limit = float(\"inf\")\n",
    "        counts.append(df[(df[column_name]>bottom_limit) & (df[column_name]<=top_limit)].shape[0])\n",
    "\n",
    "        print(f\"{bottom_limit} -> {top_limit}: {counts[i]}\")\n",
    "\n",
    "    labels = [\"<=\"+str(x) for x in limits[1:]]\n",
    "    labels.append(str(limits[-1])+\"+\")\n",
    "    plt.bar(labels, counts)\n",
    "    plt.show()"
   ]
  },
  {
   "cell_type": "markdown",
   "id": "5574820e-cd6d-4b2d-bf50-f1f2a464315e",
   "metadata": {},
   "source": [
    "## Prep Data"
   ]
  },
  {
   "cell_type": "markdown",
   "id": "bad9a78b-c97b-4447-8970-a3afb43ecbb5",
   "metadata": {},
   "source": [
    "### Load Request States"
   ]
  },
  {
   "cell_type": "code",
   "execution_count": 29,
   "id": "8c696e2c-8124-4549-adbe-f5002f41caf6",
   "metadata": {
    "execution": {
     "iopub.execute_input": "2024-06-26T23:32:31.720715Z",
     "iopub.status.busy": "2024-06-26T23:32:31.719183Z",
     "iopub.status.idle": "2024-06-26T23:32:37.565264Z",
     "shell.execute_reply": "2024-06-26T23:32:37.563693Z",
     "shell.execute_reply.started": "2024-06-26T23:32:31.720572Z"
    }
   },
   "outputs": [
    {
     "data": {
      "text/html": [
       "<div>\n",
       "<style scoped>\n",
       "    .dataframe tbody tr th:only-of-type {\n",
       "        vertical-align: middle;\n",
       "    }\n",
       "\n",
       "    .dataframe tbody tr th {\n",
       "        vertical-align: top;\n",
       "    }\n",
       "\n",
       "    .dataframe thead th {\n",
       "        text-align: right;\n",
       "    }\n",
       "</style>\n",
       "<table border=\"1\" class=\"dataframe\">\n",
       "  <thead>\n",
       "    <tr style=\"text-align: right;\">\n",
       "      <th></th>\n",
       "      <th>id</th>\n",
       "      <th>state</th>\n",
       "    </tr>\n",
       "  </thead>\n",
       "  <tbody>\n",
       "    <tr>\n",
       "      <th>0</th>\n",
       "      <td>3053362</td>\n",
       "      <td>WINDOW_EXPIRED</td>\n",
       "    </tr>\n",
       "    <tr>\n",
       "      <th>1</th>\n",
       "      <td>3097579</td>\n",
       "      <td>COMPLETED</td>\n",
       "    </tr>\n",
       "    <tr>\n",
       "      <th>2</th>\n",
       "      <td>3057472</td>\n",
       "      <td>COMPLETED</td>\n",
       "    </tr>\n",
       "    <tr>\n",
       "      <th>3</th>\n",
       "      <td>3112564</td>\n",
       "      <td>COMPLETED</td>\n",
       "    </tr>\n",
       "    <tr>\n",
       "      <th>4</th>\n",
       "      <td>3112973</td>\n",
       "      <td>COMPLETED</td>\n",
       "    </tr>\n",
       "    <tr>\n",
       "      <th>...</th>\n",
       "      <td>...</td>\n",
       "      <td>...</td>\n",
       "    </tr>\n",
       "    <tr>\n",
       "      <th>1062601</th>\n",
       "      <td>2327326</td>\n",
       "      <td>WINDOW_EXPIRED</td>\n",
       "    </tr>\n",
       "    <tr>\n",
       "      <th>1062602</th>\n",
       "      <td>2327327</td>\n",
       "      <td>WINDOW_EXPIRED</td>\n",
       "    </tr>\n",
       "    <tr>\n",
       "      <th>1062603</th>\n",
       "      <td>2327328</td>\n",
       "      <td>COMPLETED</td>\n",
       "    </tr>\n",
       "    <tr>\n",
       "      <th>1062604</th>\n",
       "      <td>2327329</td>\n",
       "      <td>COMPLETED</td>\n",
       "    </tr>\n",
       "    <tr>\n",
       "      <th>1062605</th>\n",
       "      <td>2327330</td>\n",
       "      <td>COMPLETED</td>\n",
       "    </tr>\n",
       "  </tbody>\n",
       "</table>\n",
       "<p>1062606 rows × 2 columns</p>\n",
       "</div>"
      ],
      "text/plain": [
       "              id           state\n",
       "0        3053362  WINDOW_EXPIRED\n",
       "1        3097579       COMPLETED\n",
       "2        3057472       COMPLETED\n",
       "3        3112564       COMPLETED\n",
       "4        3112973       COMPLETED\n",
       "...          ...             ...\n",
       "1062601  2327326  WINDOW_EXPIRED\n",
       "1062602  2327327  WINDOW_EXPIRED\n",
       "1062603  2327328       COMPLETED\n",
       "1062604  2327329       COMPLETED\n",
       "1062605  2327330       COMPLETED\n",
       "\n",
       "[1062606 rows x 2 columns]"
      ]
     },
     "execution_count": 29,
     "metadata": {},
     "output_type": "execute_result"
    }
   ],
   "source": [
    "raw_data_folder = \"/mnt/c/Users/ecf3/Documents/LCO/lco_data/extracted_data\"\n",
    "request_state = pickle.load(open(os.path.join(raw_data_folder, \"requestgroups_request.pkl\"), \"rb\"))[[\"id\", \"state\"]]\n",
    "request_state"
   ]
  },
  {
   "cell_type": "markdown",
   "id": "276e21d0-ac1c-4bb9-98c9-9e9f6c7e0112",
   "metadata": {},
   "source": [
    "### Load Configuration Data"
   ]
  },
  {
   "cell_type": "code",
   "execution_count": 6,
   "id": "76c8767b-9b9e-44cc-aff3-192c65256d76",
   "metadata": {
    "execution": {
     "iopub.execute_input": "2024-06-26T16:34:08.384920Z",
     "iopub.status.busy": "2024-06-26T16:34:08.384319Z",
     "iopub.status.idle": "2024-06-26T16:34:08.423490Z",
     "shell.execute_reply": "2024-06-26T16:34:08.422096Z",
     "shell.execute_reply.started": "2024-06-26T16:34:08.384867Z"
    }
   },
   "outputs": [],
   "source": [
    "def load_config_data():\n",
    "    raw_data_folder = \"/mnt/c/Users/ecf3/Documents/LCO/lco_data/extracted_data\"\n",
    "    config_data_list = []\n",
    "    for i in range(2):\n",
    "        temp = pickle.load(open(os.path.join(raw_data_folder, f\"requestgroups_configuration_{i}.pkl\"), \"rb\"))\n",
    "        config_data_list.append(temp)\n",
    "    config_data = pd.concat(config_data_list)\n",
    "    return config_data\n",
    "\n",
    "def group_config_data(config_data):\n",
    "    num_request_ids = len(config_data[\"request_id\"].unique())\n",
    "    count = 0\n",
    "    request_types = {}\n",
    "    for request_id, group in config_data.groupby(\"request_id\"):\n",
    "        count += 1\n",
    "        if count % 10000 == 0:\n",
    "            print(f\"\\r{count} / {num_request_ids}\", end=\"\")\n",
    "        request_types[request_id] = sorted(group[\"type\"].unique().tolist())\n",
    "    config_df = pd.Series(request_types).rename(\"exposure_types\").to_frame()    \n",
    "    return config_df"
   ]
  },
  {
   "cell_type": "code",
   "execution_count": 7,
   "id": "7c046c42-d813-43d1-a27c-5285bf074502",
   "metadata": {
    "execution": {
     "iopub.execute_input": "2024-06-26T16:34:08.427062Z",
     "iopub.status.busy": "2024-06-26T16:34:08.425942Z",
     "iopub.status.idle": "2024-06-26T16:34:21.906476Z",
     "shell.execute_reply": "2024-06-26T16:34:21.905285Z",
     "shell.execute_reply.started": "2024-06-26T16:34:08.427006Z"
    }
   },
   "outputs": [
    {
     "data": {
      "text/html": [
       "<div>\n",
       "<style scoped>\n",
       "    .dataframe tbody tr th:only-of-type {\n",
       "        vertical-align: middle;\n",
       "    }\n",
       "\n",
       "    .dataframe tbody tr th {\n",
       "        vertical-align: top;\n",
       "    }\n",
       "\n",
       "    .dataframe thead th {\n",
       "        text-align: right;\n",
       "    }\n",
       "</style>\n",
       "<table border=\"1\" class=\"dataframe\">\n",
       "  <thead>\n",
       "    <tr style=\"text-align: right;\">\n",
       "      <th></th>\n",
       "      <th>exposure_types</th>\n",
       "    </tr>\n",
       "  </thead>\n",
       "  <tbody>\n",
       "    <tr>\n",
       "      <th>2048275</th>\n",
       "      <td>[EXPOSE]</td>\n",
       "    </tr>\n",
       "    <tr>\n",
       "      <th>2048276</th>\n",
       "      <td>[BIAS, DARK]</td>\n",
       "    </tr>\n",
       "    <tr>\n",
       "      <th>2048277</th>\n",
       "      <td>[BIAS, DARK]</td>\n",
       "    </tr>\n",
       "    <tr>\n",
       "      <th>2048278</th>\n",
       "      <td>[SKY_FLAT]</td>\n",
       "    </tr>\n",
       "    <tr>\n",
       "      <th>2048279</th>\n",
       "      <td>[SKY_FLAT]</td>\n",
       "    </tr>\n",
       "    <tr>\n",
       "      <th>...</th>\n",
       "      <td>...</td>\n",
       "    </tr>\n",
       "    <tr>\n",
       "      <th>3117669</th>\n",
       "      <td>[EXPOSE]</td>\n",
       "    </tr>\n",
       "    <tr>\n",
       "      <th>3117670</th>\n",
       "      <td>[EXPOSE]</td>\n",
       "    </tr>\n",
       "    <tr>\n",
       "      <th>3117671</th>\n",
       "      <td>[EXPOSE]</td>\n",
       "    </tr>\n",
       "    <tr>\n",
       "      <th>3117672</th>\n",
       "      <td>[EXPOSE]</td>\n",
       "    </tr>\n",
       "    <tr>\n",
       "      <th>3117673</th>\n",
       "      <td>[EXPOSE]</td>\n",
       "    </tr>\n",
       "  </tbody>\n",
       "</table>\n",
       "<p>1062606 rows × 1 columns</p>\n",
       "</div>"
      ],
      "text/plain": [
       "        exposure_types\n",
       "2048275       [EXPOSE]\n",
       "2048276   [BIAS, DARK]\n",
       "2048277   [BIAS, DARK]\n",
       "2048278     [SKY_FLAT]\n",
       "2048279     [SKY_FLAT]\n",
       "...                ...\n",
       "3117669       [EXPOSE]\n",
       "3117670       [EXPOSE]\n",
       "3117671       [EXPOSE]\n",
       "3117672       [EXPOSE]\n",
       "3117673       [EXPOSE]\n",
       "\n",
       "[1062606 rows x 1 columns]"
      ]
     },
     "execution_count": 7,
     "metadata": {},
     "output_type": "execute_result"
    }
   ],
   "source": [
    "condensed_config_data_filepath = \"_condensed_config_data.pkldf\"\n",
    "if not os.path.isfile(condensed_config_data_filepath):\n",
    "    config_df = group_config_data(load_config_data())\n",
    "    config_df.to_pickle(condensed_config_data_filepath)\n",
    "else:\n",
    "    config_df = pd.read_pickle(condensed_config_data_filepath)\n",
    "\n",
    "config_df"
   ]
  },
  {
   "cell_type": "markdown",
   "id": "e7c45b3d-f057-4aab-ada3-2a25121bcb3b",
   "metadata": {},
   "source": [
    "### Load Request and Proposal Data"
   ]
  },
  {
   "cell_type": "code",
   "execution_count": 13,
   "id": "c8be29c9-5b19-44b3-8630-fc3b3ffd97da",
   "metadata": {
    "execution": {
     "iopub.execute_input": "2024-06-26T16:34:22.033227Z",
     "iopub.status.busy": "2024-06-26T16:34:22.032811Z",
     "iopub.status.idle": "2024-06-26T16:34:33.391493Z",
     "shell.execute_reply": "2024-06-26T16:34:33.389805Z",
     "shell.execute_reply.started": "2024-06-26T16:34:22.033198Z"
    }
   },
   "outputs": [
    {
     "name": "stdout",
     "output_type": "stream",
     "text": [
      "Original Number of Proposals: 2612\n",
      "Number of Proposals used on the 2m telescopes: 175\n",
      "Original Number of Requests: 71380\n",
      "Requests with invalid windows: 71380\n",
      "Number of Valid Requests: 71364\n"
     ]
    }
   ],
   "source": [
    "request_data = pd.read_pickle(\"condensed_2m/2m_large_all.pkldf\")\n",
    "proposal_data = pickle.load(open(\"proposals_proposal.pkl\", \"rb\")).set_index(\"id\")\n",
    "invalid_requests = request_data.loc[request_data[\"windows\"].apply(bool)]\n",
    "valid_requests = request_data.loc[request_data[\"proposal_id\"]!=\"NSF2022A-009\", :]\n",
    "proposals_2m = proposal_data.loc[proposal_data.index.isin(valid_requests[\"proposal_id\"].unique()), :]\n",
    "print(\"Original Number of Proposals:\", len(proposal_data))\n",
    "print(\"Number of Proposals used on the 2m telescopes:\", len(proposals_2m))\n",
    "print(\"Original Number of Requests:\", len(request_data))\n",
    "print(\"Requests with invalid windows:\", len(invalid_requests))\n",
    "print(\"Number of Valid Requests:\", len(valid_requests))"
   ]
  },
  {
   "cell_type": "markdown",
   "id": "c83cc3b7-c5a6-46d1-b0fb-67bec97c7d6d",
   "metadata": {},
   "source": [
    "### Calculate Availability Window Length"
   ]
  },
  {
   "cell_type": "code",
   "execution_count": 14,
   "id": "abf1c2e0-0453-4b4c-93ad-a7fcdb69959f",
   "metadata": {
    "execution": {
     "iopub.execute_input": "2024-06-26T16:34:33.394180Z",
     "iopub.status.busy": "2024-06-26T16:34:33.393280Z",
     "iopub.status.idle": "2024-06-26T16:34:33.985435Z",
     "shell.execute_reply": "2024-06-26T16:34:33.983394Z",
     "shell.execute_reply.started": "2024-06-26T16:34:33.394125Z"
    }
   },
   "outputs": [
    {
     "name": "stderr",
     "output_type": "stream",
     "text": [
      "/tmp/ipykernel_29248/408803167.py:8: SettingWithCopyWarning: \n",
      "A value is trying to be set on a copy of a slice from a DataFrame.\n",
      "Try using .loc[row_indexer,col_indexer] = value instead\n",
      "\n",
      "See the caveats in the documentation: https://pandas.pydata.org/pandas-docs/stable/user_guide/indexing.html#returning-a-view-versus-a-copy\n",
      "  valid_requests[\"og_length\"] = valid_requests[\"original_windows\"].apply(find_availability_length)\n"
     ]
    }
   ],
   "source": [
    "def find_availability_length(og_windows):\n",
    "    og_windows.sort(key=lambda x: x[\"start\"])\n",
    "    start = og_windows[0][\"start\"]\n",
    "    end = og_windows[-1][\"end\"]\n",
    "    td = end - start\n",
    "    return (td.days*24*60*60 + td.seconds) / (60*60)\n",
    "\n",
    "valid_requests[\"og_length\"] = valid_requests[\"original_windows\"].apply(find_availability_length)"
   ]
  },
  {
   "cell_type": "markdown",
   "id": "c5bc831b-1953-482c-af1a-e865fe9b6b98",
   "metadata": {},
   "source": [
    "### Get availability window start"
   ]
  },
  {
   "cell_type": "code",
   "execution_count": 15,
   "id": "12760c05-5029-4226-898b-804f82f209c0",
   "metadata": {
    "execution": {
     "iopub.execute_input": "2024-06-26T16:34:33.989307Z",
     "iopub.status.busy": "2024-06-26T16:34:33.987968Z",
     "iopub.status.idle": "2024-06-26T16:34:34.230718Z",
     "shell.execute_reply": "2024-06-26T16:34:34.229080Z",
     "shell.execute_reply.started": "2024-06-26T16:34:33.989246Z"
    }
   },
   "outputs": [
    {
     "name": "stderr",
     "output_type": "stream",
     "text": [
      "/tmp/ipykernel_29248/482955157.py:1: SettingWithCopyWarning: \n",
      "A value is trying to be set on a copy of a slice from a DataFrame.\n",
      "Try using .loc[row_indexer,col_indexer] = value instead\n",
      "\n",
      "See the caveats in the documentation: https://pandas.pydata.org/pandas-docs/stable/user_guide/indexing.html#returning-a-view-versus-a-copy\n",
      "  valid_requests[\"og_window_start\"] = valid_requests[\"original_windows\"].apply(lambda x: x[0][\"start\"])\n"
     ]
    }
   ],
   "source": [
    "valid_requests[\"og_window_start\"] = valid_requests[\"original_windows\"].apply(lambda x: x[0][\"start\"])"
   ]
  },
  {
   "cell_type": "markdown",
   "id": "34390ee8-aa17-467c-a1bc-b69658cc9a57",
   "metadata": {},
   "source": [
    "### Get Target Types"
   ]
  },
  {
   "cell_type": "code",
   "execution_count": 16,
   "id": "0596ca49-e3ac-4275-b877-e2ad81a62e6b",
   "metadata": {
    "execution": {
     "iopub.execute_input": "2024-06-26T16:34:34.233604Z",
     "iopub.status.busy": "2024-06-26T16:34:34.232809Z",
     "iopub.status.idle": "2024-06-26T16:34:34.358938Z",
     "shell.execute_reply": "2024-06-26T16:34:34.357395Z",
     "shell.execute_reply.started": "2024-06-26T16:34:34.233541Z"
    }
   },
   "outputs": [
    {
     "name": "stderr",
     "output_type": "stream",
     "text": [
      "/tmp/ipykernel_29248/3985369805.py:9: SettingWithCopyWarning: \n",
      "A value is trying to be set on a copy of a slice from a DataFrame.\n",
      "Try using .loc[row_indexer,col_indexer] = value instead\n",
      "\n",
      "See the caveats in the documentation: https://pandas.pydata.org/pandas-docs/stable/user_guide/indexing.html#returning-a-view-versus-a-copy\n",
      "  valid_requests[\"target_types\"] = valid_requests[\"target_constraint_pairs\"].apply(get_target_type)\n"
     ]
    }
   ],
   "source": [
    "def get_target_type(target_constraint_pairs):\n",
    "    target_types = set()\n",
    "    for pair in target_constraint_pairs:\n",
    "        target_types.add(pair[\"target\"][\"type\"])\n",
    "    if len(target_types) == 1:\n",
    "        return target_types.pop()\n",
    "    else:\n",
    "        return \"BOTH\"\n",
    "valid_requests[\"target_types\"] = valid_requests[\"target_constraint_pairs\"].apply(get_target_type)"
   ]
  },
  {
   "cell_type": "markdown",
   "id": "4fec2252-41a0-43d2-b690-d192211acdc9",
   "metadata": {},
   "source": [
    "### Merge Exposure Types"
   ]
  },
  {
   "cell_type": "code",
   "execution_count": 17,
   "id": "67baf23c-51b2-4e4a-94be-c2867f25cfd3",
   "metadata": {
    "execution": {
     "iopub.execute_input": "2024-06-26T16:34:34.361441Z",
     "iopub.status.busy": "2024-06-26T16:34:34.360908Z",
     "iopub.status.idle": "2024-06-26T16:34:34.524413Z",
     "shell.execute_reply": "2024-06-26T16:34:34.523207Z",
     "shell.execute_reply.started": "2024-06-26T16:34:34.361408Z"
    }
   },
   "outputs": [],
   "source": [
    "valid_requests = valid_requests.merge(config_df, left_index=True, right_index=True)"
   ]
  },
  {
   "cell_type": "markdown",
   "id": "e4b8c391-b4e0-450d-8644-091d9d78d10b",
   "metadata": {},
   "source": [
    "### Merge Request State"
   ]
  },
  {
   "cell_type": "code",
   "execution_count": 31,
   "id": "f499b94c-7189-44ad-b604-8716052098ac",
   "metadata": {
    "execution": {
     "iopub.execute_input": "2024-06-26T23:33:45.173512Z",
     "iopub.status.busy": "2024-06-26T23:33:45.172221Z",
     "iopub.status.idle": "2024-06-26T23:33:50.344896Z",
     "shell.execute_reply": "2024-06-26T23:33:50.342856Z",
     "shell.execute_reply.started": "2024-06-26T23:33:45.173464Z"
    }
   },
   "outputs": [],
   "source": [
    "valid_requests = valid_requests.merge(request_state.set_index(\"id\"), left_index=True, right_index=True)"
   ]
  },
  {
   "cell_type": "markdown",
   "id": "4b94617b-2597-4435-a430-5573e7b3d6fa",
   "metadata": {},
   "source": [
    "### Calculate Flexibility"
   ]
  },
  {
   "cell_type": "code",
   "execution_count": 53,
   "id": "ef18dc13-3597-4fbe-b469-c5510bf2cddd",
   "metadata": {
    "execution": {
     "iopub.execute_input": "2024-06-26T23:47:40.176554Z",
     "iopub.status.busy": "2024-06-26T23:47:40.175993Z",
     "iopub.status.idle": "2024-06-26T23:47:45.919503Z",
     "shell.execute_reply": "2024-06-26T23:47:45.918089Z",
     "shell.execute_reply.started": "2024-06-26T23:47:40.176490Z"
    }
   },
   "outputs": [],
   "source": [
    "def calculate_flexibility(row):\n",
    "    total_observable_time = 0\n",
    "    windows = row[\"windows\"]\n",
    "    for telescope, obs_intervals in windows.items():\n",
    "        for i in range(0, len(obs_intervals.timepoints), 2):\n",
    "            start = obs_intervals.timepoints[i][\"time\"]\n",
    "            end = obs_intervals.timepoints[i+1][\"time\"]\n",
    "            interval_length = end - start\n",
    "            interval_length_seconds = interval_length.days*24*60*60 + interval_length.seconds\n",
    "            total_observable_time += interval_length_seconds\n",
    "    duration = row[\"total_duration\"]\n",
    "    return total_observable_time / duration\n",
    "\n",
    "def calculate_theoretical_flexibility(row):\n",
    "    theoretical_observable_time = 0\n",
    "    windows = row[\"original_windows\"]\n",
    "    for i in range(len(windows)):\n",
    "        start = windows[i][\"start\"]\n",
    "        end = windows[i][\"end\"]\n",
    "        interval_length = end - start\n",
    "        interval_length_seconds = interval_length.days*24*60*60 + interval_length.seconds\n",
    "        theoretical_observable_time += interval_length_seconds\n",
    "    duration = row[\"total_duration\"]\n",
    "    return theoretical_observable_time / duration\n",
    "\n",
    "valid_requests[\"flexibility\"] = valid_requests.apply(calculate_flexibility, axis=1)\n",
    "valid_requests[\"theoretical_flexibility\"] = valid_requests.apply(calculate_theoretical_flexibility, axis=1)"
   ]
  },
  {
   "cell_type": "markdown",
   "id": "92bdc201-01fd-47e0-9636-5a20d5832c74",
   "metadata": {},
   "source": [
    "### Split off Calibration Requests\n",
    "\n",
    "Unsure about \"MuSCAT Commissioning\", it is not listed as a 'non-science' proposal."
   ]
  },
  {
   "cell_type": "code",
   "execution_count": 56,
   "id": "ef432ec6-ba84-4ac9-b0ef-0743e2ca5b7b",
   "metadata": {
    "execution": {
     "iopub.execute_input": "2024-06-26T23:48:25.369336Z",
     "iopub.status.busy": "2024-06-26T23:48:25.367288Z",
     "iopub.status.idle": "2024-06-26T23:48:25.392087Z",
     "shell.execute_reply": "2024-06-26T23:48:25.389351Z",
     "shell.execute_reply.started": "2024-06-26T23:48:25.369231Z"
    }
   },
   "outputs": [
    {
     "data": {
      "text/plain": [
       "['OGG_calib',\n",
       " 'standard',\n",
       " 'auto_focus',\n",
       " 'LCOEngineering',\n",
       " 'COJ_calib',\n",
       " 'FLOYDS standards',\n",
       " 'Photometric standards',\n",
       " 'MuSCAT Comissioning']"
      ]
     },
     "execution_count": 56,
     "metadata": {},
     "output_type": "execute_result"
    }
   ],
   "source": [
    "calibration_proposal_ids = proposals_2m[proposals_2m[\"non_science\"]].index.tolist()\n",
    "calibration_proposal_ids.append(\"MuSCAT Comissioning\")\n",
    "calibration_proposal_ids"
   ]
  },
  {
   "cell_type": "code",
   "execution_count": 57,
   "id": "9d896e5b-e864-4724-8c1e-7e7f108fd5eb",
   "metadata": {
    "execution": {
     "iopub.execute_input": "2024-06-26T23:48:28.577779Z",
     "iopub.status.busy": "2024-06-26T23:48:28.576316Z",
     "iopub.status.idle": "2024-06-26T23:48:28.780675Z",
     "shell.execute_reply": "2024-06-26T23:48:28.778277Z",
     "shell.execute_reply.started": "2024-06-26T23:48:28.577725Z"
    }
   },
   "outputs": [
    {
     "name": "stdout",
     "output_type": "stream",
     "text": [
      "Calibration Requests: 19758\n",
      "Science Requests: 51606\n"
     ]
    }
   ],
   "source": [
    "calibration = valid_requests[valid_requests[\"proposal_id\"].isin(calibration_proposal_ids)]\n",
    "requests = valid_requests[~valid_requests[\"proposal_id\"].isin(calibration_proposal_ids)]\n",
    "print(\"Calibration Requests:\", len(calibration))\n",
    "print(\"Science Requests:\", len(requests))"
   ]
  },
  {
   "cell_type": "code",
   "execution_count": 58,
   "id": "b3f519d4-0864-4ae0-ad43-413047cd80b1",
   "metadata": {
    "execution": {
     "iopub.execute_input": "2024-06-26T23:48:32.752380Z",
     "iopub.status.busy": "2024-06-26T23:48:32.751830Z",
     "iopub.status.idle": "2024-06-26T23:48:33.500170Z",
     "shell.execute_reply": "2024-06-26T23:48:33.498659Z",
     "shell.execute_reply.started": "2024-06-26T23:48:32.752339Z"
    }
   },
   "outputs": [
    {
     "data": {
      "image/png": "[encoded data removed]",
      "text/plain": [
       "<Figure size 640x480 with 1 Axes>"
      ]
     },
     "metadata": {},
     "output_type": "display_data"
    }
   ],
   "source": [
    "plt.bar([\"Science\", \"Non-Science\"], [len(requests), len(calibration)])\n",
    "plt.title(\"Number of Science vs Non-Science Requests (for 2-meter Telescopes)\")\n",
    "plt.xlabel(\"Request Type\")\n",
    "plt.ylabel(\"# of 2m Requests\")\n",
    "plt.show()"
   ]
  },
  {
   "cell_type": "code",
   "execution_count": 59,
   "id": "79e76b06-a777-4ef0-90da-72ea84a8ba68",
   "metadata": {
    "execution": {
     "iopub.execute_input": "2024-06-26T23:48:40.160646Z",
     "iopub.status.busy": "2024-06-26T23:48:40.158985Z",
     "iopub.status.idle": "2024-06-26T23:48:40.324518Z",
     "shell.execute_reply": "2024-06-26T23:48:40.320834Z",
     "shell.execute_reply.started": "2024-06-26T23:48:40.160570Z"
    }
   },
   "outputs": [
    {
     "data": {
      "text/html": [
       "<div>\n",
       "<style scoped>\n",
       "    .dataframe tbody tr th:only-of-type {\n",
       "        vertical-align: middle;\n",
       "    }\n",
       "\n",
       "    .dataframe tbody tr th {\n",
       "        vertical-align: top;\n",
       "    }\n",
       "\n",
       "    .dataframe thead th {\n",
       "        text-align: right;\n",
       "    }\n",
       "</style>\n",
       "<table border=\"1\" class=\"dataframe\">\n",
       "  <thead>\n",
       "    <tr style=\"text-align: right;\">\n",
       "      <th></th>\n",
       "      <th>original_windows</th>\n",
       "      <th>windows</th>\n",
       "      <th>id</th>\n",
       "      <th>ipp_value</th>\n",
       "      <th>created</th>\n",
       "      <th>proposal_id</th>\n",
       "      <th>optimization_type</th>\n",
       "      <th>total_duration</th>\n",
       "      <th>acceptibility_cutoff</th>\n",
       "      <th>valid_telescopes</th>\n",
       "      <th>target_constraint_pairs</th>\n",
       "      <th>og_length</th>\n",
       "      <th>og_window_start</th>\n",
       "      <th>target_types</th>\n",
       "      <th>exposure_types</th>\n",
       "      <th>state</th>\n",
       "      <th>flexibility</th>\n",
       "      <th>theoretical_flexibility</th>\n",
       "    </tr>\n",
       "  </thead>\n",
       "  <tbody>\n",
       "    <tr>\n",
       "      <th>2070067</th>\n",
       "      <td>[{'start': 2020-02-26 08:00:22.880000, 'end': ...</td>\n",
       "      <td>{'2m0a.clma.ogg': Timestamp('2020-02-26 08:00:...</td>\n",
       "      <td>2070067</td>\n",
       "      <td>0.95</td>\n",
       "      <td>2020-02-26T08:00:25.724Z</td>\n",
       "      <td>KEY2017AB-001</td>\n",
       "      <td>TIME</td>\n",
       "      <td>3345</td>\n",
       "      <td>3344.5</td>\n",
       "      <td>[2m0a.clma.coj, 2m0a.clma.ogg]</td>\n",
       "      <td>[{'target': {'id': 3794395, 'name': 'SN2019xdf...</td>\n",
       "      <td>24.000000</td>\n",
       "      <td>2020-02-26 08:00:22.880</td>\n",
       "      <td>ICRS</td>\n",
       "      <td>[SPECTRUM, ARC, LAMP_FLAT]</td>\n",
       "      <td>COMPLETED</td>\n",
       "      <td>8.689387</td>\n",
       "      <td>25.829596</td>\n",
       "    </tr>\n",
       "    <tr>\n",
       "      <th>2074257</th>\n",
       "      <td>[{'start': 2020-02-29 08:24:00, 'end': 2020-02...</td>\n",
       "      <td>{'2m0a.clma.coj': Timestamp('2020-02-29 12:54:...</td>\n",
       "      <td>2074257</td>\n",
       "      <td>1.05</td>\n",
       "      <td>2020-02-29T08:03:33.408Z</td>\n",
       "      <td>FTPEPO2014A-004</td>\n",
       "      <td>TIME</td>\n",
       "      <td>317</td>\n",
       "      <td>317.0</td>\n",
       "      <td>[2m0a.clma.coj, 2m0a.clma.ogg]</td>\n",
       "      <td>[{'target': {'id': 3810533, 'name': '2016 UJ10...</td>\n",
       "      <td>15.133333</td>\n",
       "      <td>2020-02-29 08:24:00.000</td>\n",
       "      <td>ORBITAL_ELEMENTS</td>\n",
       "      <td>[EXPOSE]</td>\n",
       "      <td>COMPLETED</td>\n",
       "      <td>14.195584</td>\n",
       "      <td>171.861199</td>\n",
       "    </tr>\n",
       "    <tr>\n",
       "      <th>2071382</th>\n",
       "      <td>[{'start': 2020-02-27 00:40:20.385000, 'end': ...</td>\n",
       "      <td>{'2m0a.clma.coj': Timestamp('2020-02-27 09:35:...</td>\n",
       "      <td>2071382</td>\n",
       "      <td>1.0</td>\n",
       "      <td>2020-02-27T00:40:23.349Z</td>\n",
       "      <td>LCO2020A-010</td>\n",
       "      <td>TIME</td>\n",
       "      <td>4245</td>\n",
       "      <td>4244.5</td>\n",
       "      <td>[2m0a.clma.coj, 2m0a.clma.ogg]</td>\n",
       "      <td>[{'target': {'id': 3798648, 'name': 'at2019ahk...</td>\n",
       "      <td>24.000000</td>\n",
       "      <td>2020-02-27 00:40:20.385</td>\n",
       "      <td>ICRS</td>\n",
       "      <td>[SPECTRUM, ARC, LAMP_FLAT]</td>\n",
       "      <td>WINDOW_EXPIRED</td>\n",
       "      <td>5.705300</td>\n",
       "      <td>20.353357</td>\n",
       "    </tr>\n",
       "    <tr>\n",
       "      <th>2074258</th>\n",
       "      <td>[{'start': 2020-02-29 08:24:00, 'end': 2020-02...</td>\n",
       "      <td>{'2m0a.clma.coj': Timestamp('2020-02-29 12:54:...</td>\n",
       "      <td>2074258</td>\n",
       "      <td>1.05</td>\n",
       "      <td>2020-02-29T08:04:04.004Z</td>\n",
       "      <td>FTPEPO2014A-004</td>\n",
       "      <td>TIME</td>\n",
       "      <td>317</td>\n",
       "      <td>317.0</td>\n",
       "      <td>[2m0a.clma.coj, 2m0a.clma.ogg]</td>\n",
       "      <td>[{'target': {'id': 3810534, 'name': '2016 UJ10...</td>\n",
       "      <td>15.133333</td>\n",
       "      <td>2020-02-29 08:24:00.000</td>\n",
       "      <td>ORBITAL_ELEMENTS</td>\n",
       "      <td>[EXPOSE]</td>\n",
       "      <td>COMPLETED</td>\n",
       "      <td>14.195584</td>\n",
       "      <td>171.861199</td>\n",
       "    </tr>\n",
       "    <tr>\n",
       "      <th>2070887</th>\n",
       "      <td>[{'start': 2020-02-26 11:40:21.209000, 'end': ...</td>\n",
       "      <td>{'2m0a.clma.ogg': Timestamp('2020-02-26 13:39:...</td>\n",
       "      <td>2070887</td>\n",
       "      <td>1.0</td>\n",
       "      <td>2020-02-26T11:40:24.120Z</td>\n",
       "      <td>KEY2017AB-001</td>\n",
       "      <td>TIME</td>\n",
       "      <td>4245</td>\n",
       "      <td>4244.5</td>\n",
       "      <td>[2m0a.clma.coj, 2m0a.clma.ogg]</td>\n",
       "      <td>[{'target': {'id': 3795667, 'name': 'SN 2020cx...</td>\n",
       "      <td>24.000000</td>\n",
       "      <td>2020-02-26 11:40:21.209</td>\n",
       "      <td>ICRS</td>\n",
       "      <td>[SPECTRUM, ARC, LAMP_FLAT]</td>\n",
       "      <td>COMPLETED</td>\n",
       "      <td>1.977856</td>\n",
       "      <td>20.353357</td>\n",
       "    </tr>\n",
       "    <tr>\n",
       "      <th>...</th>\n",
       "      <td>...</td>\n",
       "      <td>...</td>\n",
       "      <td>...</td>\n",
       "      <td>...</td>\n",
       "      <td>...</td>\n",
       "      <td>...</td>\n",
       "      <td>...</td>\n",
       "      <td>...</td>\n",
       "      <td>...</td>\n",
       "      <td>...</td>\n",
       "      <td>...</td>\n",
       "      <td>...</td>\n",
       "      <td>...</td>\n",
       "      <td>...</td>\n",
       "      <td>...</td>\n",
       "      <td>...</td>\n",
       "      <td>...</td>\n",
       "      <td>...</td>\n",
       "    </tr>\n",
       "    <tr>\n",
       "      <th>2628372</th>\n",
       "      <td>[{'start': 2021-08-30 18:00:11.734000, 'end': ...</td>\n",
       "      <td>{'2m0a.clma.coj': Timestamp('2021-08-30 18:00:...</td>\n",
       "      <td>2628372</td>\n",
       "      <td>1.0</td>\n",
       "      <td>2021-08-30T18:00:18.984Z</td>\n",
       "      <td>KEY2020B-002</td>\n",
       "      <td>TIME</td>\n",
       "      <td>1845</td>\n",
       "      <td>1844.5</td>\n",
       "      <td>[2m0a.clma.coj, 2m0a.clma.ogg]</td>\n",
       "      <td>[{'target': {'id': 6529054, 'name': 'SN2021vtq...</td>\n",
       "      <td>24.000000</td>\n",
       "      <td>2021-08-30 18:00:11.734</td>\n",
       "      <td>ICRS</td>\n",
       "      <td>[SPECTRUM, ARC, LAMP_FLAT]</td>\n",
       "      <td>COMPLETED</td>\n",
       "      <td>21.868293</td>\n",
       "      <td>46.829268</td>\n",
       "    </tr>\n",
       "    <tr>\n",
       "      <th>2628924</th>\n",
       "      <td>[{'start': 2021-08-31 11:55:25.041000, 'end': ...</td>\n",
       "      <td>{'2m0a.clma.ogg': Timestamp('2021-08-31 11:55:...</td>\n",
       "      <td>2628924</td>\n",
       "      <td>1.0</td>\n",
       "      <td>2021-08-31T11:55:29.112Z</td>\n",
       "      <td>NSF2021B-019</td>\n",
       "      <td>TIME</td>\n",
       "      <td>1740</td>\n",
       "      <td>1740.0</td>\n",
       "      <td>[2m0a.clma.coj, 2m0a.clma.ogg]</td>\n",
       "      <td>[{'target': {'id': 6533080, 'name': 'ZTF20acgi...</td>\n",
       "      <td>96.000000</td>\n",
       "      <td>2021-08-31 11:55:25.041</td>\n",
       "      <td>ICRS</td>\n",
       "      <td>[EXPOSE]</td>\n",
       "      <td>WINDOW_EXPIRED</td>\n",
       "      <td>52.405172</td>\n",
       "      <td>198.620690</td>\n",
       "    </tr>\n",
       "    <tr>\n",
       "      <th>2546029</th>\n",
       "      <td>[{'start': 2021-06-10 00:30:21.276000, 'end': ...</td>\n",
       "      <td>{'2m0a.clma.coj': Timestamp('2021-06-10 12:56:...</td>\n",
       "      <td>2546029</td>\n",
       "      <td>1.0</td>\n",
       "      <td>2021-06-10T00:30:30.609Z</td>\n",
       "      <td>KEY2020B-002</td>\n",
       "      <td>TIME</td>\n",
       "      <td>4245</td>\n",
       "      <td>4244.5</td>\n",
       "      <td>[2m0a.clma.coj, 2m0a.clma.ogg]</td>\n",
       "      <td>[{'target': {'id': 6101526, 'name': 'SN2021hku...</td>\n",
       "      <td>24.000000</td>\n",
       "      <td>2021-06-10 00:30:21.276</td>\n",
       "      <td>ICRS</td>\n",
       "      <td>[SPECTRUM, ARC, LAMP_FLAT]</td>\n",
       "      <td>WINDOW_EXPIRED</td>\n",
       "      <td>6.010365</td>\n",
       "      <td>20.353357</td>\n",
       "    </tr>\n",
       "    <tr>\n",
       "      <th>2625941</th>\n",
       "      <td>[{'start': 2021-08-28 00:00:04.674000, 'end': ...</td>\n",
       "      <td>{'2m0a.clma.coj': Timestamp('2021-08-28 13:07:...</td>\n",
       "      <td>2625941</td>\n",
       "      <td>0.9</td>\n",
       "      <td>2021-08-28T00:00:21.972Z</td>\n",
       "      <td>KEY2020B-002</td>\n",
       "      <td>TIME</td>\n",
       "      <td>1245</td>\n",
       "      <td>1244.5</td>\n",
       "      <td>[2m0a.clma.coj, 2m0a.clma.ogg]</td>\n",
       "      <td>[{'target': {'id': 6516191, 'name': 'SN2021rhu...</td>\n",
       "      <td>24.000000</td>\n",
       "      <td>2021-08-28 00:00:04.674</td>\n",
       "      <td>ICRS</td>\n",
       "      <td>[SPECTRUM, ARC, LAMP_FLAT]</td>\n",
       "      <td>COMPLETED</td>\n",
       "      <td>36.383133</td>\n",
       "      <td>69.397590</td>\n",
       "    </tr>\n",
       "    <tr>\n",
       "      <th>2626209</th>\n",
       "      <td>[{'start': 2021-08-28 07:57:31, 'end': 2021-08...</td>\n",
       "      <td>{'2m0a.clma.ogg': Timestamp('2021-08-29 05:32:...</td>\n",
       "      <td>2626209</td>\n",
       "      <td>1.0</td>\n",
       "      <td>2021-08-28T07:55:34.791Z</td>\n",
       "      <td>KEY2020B-006</td>\n",
       "      <td>TIME</td>\n",
       "      <td>1205</td>\n",
       "      <td>1204.5</td>\n",
       "      <td>[2m0a.clma.coj, 2m0a.clma.ogg]</td>\n",
       "      <td>[{'target': {'id': 6517648, 'name': 'NGC5548',...</td>\n",
       "      <td>24.000000</td>\n",
       "      <td>2021-08-28 07:57:31.000</td>\n",
       "      <td>ICRS</td>\n",
       "      <td>[SPECTRUM, LAMP_FLAT, ARC]</td>\n",
       "      <td>WINDOW_EXPIRED</td>\n",
       "      <td>4.243154</td>\n",
       "      <td>71.701245</td>\n",
       "    </tr>\n",
       "  </tbody>\n",
       "</table>\n",
       "<p>51606 rows × 18 columns</p>\n",
       "</div>"
      ],
      "text/plain": [
       "                                          original_windows  \\\n",
       "2070067  [{'start': 2020-02-26 08:00:22.880000, 'end': ...   \n",
       "2074257  [{'start': 2020-02-29 08:24:00, 'end': 2020-02...   \n",
       "2071382  [{'start': 2020-02-27 00:40:20.385000, 'end': ...   \n",
       "2074258  [{'start': 2020-02-29 08:24:00, 'end': 2020-02...   \n",
       "2070887  [{'start': 2020-02-26 11:40:21.209000, 'end': ...   \n",
       "...                                                    ...   \n",
       "2628372  [{'start': 2021-08-30 18:00:11.734000, 'end': ...   \n",
       "2628924  [{'start': 2021-08-31 11:55:25.041000, 'end': ...   \n",
       "2546029  [{'start': 2021-06-10 00:30:21.276000, 'end': ...   \n",
       "2625941  [{'start': 2021-08-28 00:00:04.674000, 'end': ...   \n",
       "2626209  [{'start': 2021-08-28 07:57:31, 'end': 2021-08...   \n",
       "\n",
       "                                                   windows       id ipp_value  \\\n",
       "2070067  {'2m0a.clma.ogg': Timestamp('2020-02-26 08:00:...  2070067      0.95   \n",
       "2074257  {'2m0a.clma.coj': Timestamp('2020-02-29 12:54:...  2074257      1.05   \n",
       "2071382  {'2m0a.clma.coj': Timestamp('2020-02-27 09:35:...  2071382       1.0   \n",
       "2074258  {'2m0a.clma.coj': Timestamp('2020-02-29 12:54:...  2074258      1.05   \n",
       "2070887  {'2m0a.clma.ogg': Timestamp('2020-02-26 13:39:...  2070887       1.0   \n",
       "...                                                    ...      ...       ...   \n",
       "2628372  {'2m0a.clma.coj': Timestamp('2021-08-30 18:00:...  2628372       1.0   \n",
       "2628924  {'2m0a.clma.ogg': Timestamp('2021-08-31 11:55:...  2628924       1.0   \n",
       "2546029  {'2m0a.clma.coj': Timestamp('2021-06-10 12:56:...  2546029       1.0   \n",
       "2625941  {'2m0a.clma.coj': Timestamp('2021-08-28 13:07:...  2625941       0.9   \n",
       "2626209  {'2m0a.clma.ogg': Timestamp('2021-08-29 05:32:...  2626209       1.0   \n",
       "\n",
       "                          created      proposal_id optimization_type  \\\n",
       "2070067  2020-02-26T08:00:25.724Z    KEY2017AB-001              TIME   \n",
       "2074257  2020-02-29T08:03:33.408Z  FTPEPO2014A-004              TIME   \n",
       "2071382  2020-02-27T00:40:23.349Z     LCO2020A-010              TIME   \n",
       "2074258  2020-02-29T08:04:04.004Z  FTPEPO2014A-004              TIME   \n",
       "2070887  2020-02-26T11:40:24.120Z    KEY2017AB-001              TIME   \n",
       "...                           ...              ...               ...   \n",
       "2628372  2021-08-30T18:00:18.984Z     KEY2020B-002              TIME   \n",
       "2628924  2021-08-31T11:55:29.112Z     NSF2021B-019              TIME   \n",
       "2546029  2021-06-10T00:30:30.609Z     KEY2020B-002              TIME   \n",
       "2625941  2021-08-28T00:00:21.972Z     KEY2020B-002              TIME   \n",
       "2626209  2021-08-28T07:55:34.791Z     KEY2020B-006              TIME   \n",
       "\n",
       "        total_duration acceptibility_cutoff                valid_telescopes  \\\n",
       "2070067           3345               3344.5  [2m0a.clma.coj, 2m0a.clma.ogg]   \n",
       "2074257            317                317.0  [2m0a.clma.coj, 2m0a.clma.ogg]   \n",
       "2071382           4245               4244.5  [2m0a.clma.coj, 2m0a.clma.ogg]   \n",
       "2074258            317                317.0  [2m0a.clma.coj, 2m0a.clma.ogg]   \n",
       "2070887           4245               4244.5  [2m0a.clma.coj, 2m0a.clma.ogg]   \n",
       "...                ...                  ...                             ...   \n",
       "2628372           1845               1844.5  [2m0a.clma.coj, 2m0a.clma.ogg]   \n",
       "2628924           1740               1740.0  [2m0a.clma.coj, 2m0a.clma.ogg]   \n",
       "2546029           4245               4244.5  [2m0a.clma.coj, 2m0a.clma.ogg]   \n",
       "2625941           1245               1244.5  [2m0a.clma.coj, 2m0a.clma.ogg]   \n",
       "2626209           1205               1204.5  [2m0a.clma.coj, 2m0a.clma.ogg]   \n",
       "\n",
       "                                   target_constraint_pairs  og_length  \\\n",
       "2070067  [{'target': {'id': 3794395, 'name': 'SN2019xdf...  24.000000   \n",
       "2074257  [{'target': {'id': 3810533, 'name': '2016 UJ10...  15.133333   \n",
       "2071382  [{'target': {'id': 3798648, 'name': 'at2019ahk...  24.000000   \n",
       "2074258  [{'target': {'id': 3810534, 'name': '2016 UJ10...  15.133333   \n",
       "2070887  [{'target': {'id': 3795667, 'name': 'SN 2020cx...  24.000000   \n",
       "...                                                    ...        ...   \n",
       "2628372  [{'target': {'id': 6529054, 'name': 'SN2021vtq...  24.000000   \n",
       "2628924  [{'target': {'id': 6533080, 'name': 'ZTF20acgi...  96.000000   \n",
       "2546029  [{'target': {'id': 6101526, 'name': 'SN2021hku...  24.000000   \n",
       "2625941  [{'target': {'id': 6516191, 'name': 'SN2021rhu...  24.000000   \n",
       "2626209  [{'target': {'id': 6517648, 'name': 'NGC5548',...  24.000000   \n",
       "\n",
       "                og_window_start      target_types              exposure_types  \\\n",
       "2070067 2020-02-26 08:00:22.880              ICRS  [SPECTRUM, ARC, LAMP_FLAT]   \n",
       "2074257 2020-02-29 08:24:00.000  ORBITAL_ELEMENTS                    [EXPOSE]   \n",
       "2071382 2020-02-27 00:40:20.385              ICRS  [SPECTRUM, ARC, LAMP_FLAT]   \n",
       "2074258 2020-02-29 08:24:00.000  ORBITAL_ELEMENTS                    [EXPOSE]   \n",
       "2070887 2020-02-26 11:40:21.209              ICRS  [SPECTRUM, ARC, LAMP_FLAT]   \n",
       "...                         ...               ...                         ...   \n",
       "2628372 2021-08-30 18:00:11.734              ICRS  [SPECTRUM, ARC, LAMP_FLAT]   \n",
       "2628924 2021-08-31 11:55:25.041              ICRS                    [EXPOSE]   \n",
       "2546029 2021-06-10 00:30:21.276              ICRS  [SPECTRUM, ARC, LAMP_FLAT]   \n",
       "2625941 2021-08-28 00:00:04.674              ICRS  [SPECTRUM, ARC, LAMP_FLAT]   \n",
       "2626209 2021-08-28 07:57:31.000              ICRS  [SPECTRUM, LAMP_FLAT, ARC]   \n",
       "\n",
       "                  state  flexibility  theoretical_flexibility  \n",
       "2070067       COMPLETED     8.689387                25.829596  \n",
       "2074257       COMPLETED    14.195584               171.861199  \n",
       "2071382  WINDOW_EXPIRED     5.705300                20.353357  \n",
       "2074258       COMPLETED    14.195584               171.861199  \n",
       "2070887       COMPLETED     1.977856                20.353357  \n",
       "...                 ...          ...                      ...  \n",
       "2628372       COMPLETED    21.868293                46.829268  \n",
       "2628924  WINDOW_EXPIRED    52.405172               198.620690  \n",
       "2546029  WINDOW_EXPIRED     6.010365                20.353357  \n",
       "2625941       COMPLETED    36.383133                69.397590  \n",
       "2626209  WINDOW_EXPIRED     4.243154                71.701245  \n",
       "\n",
       "[51606 rows x 18 columns]"
      ]
     },
     "execution_count": 59,
     "metadata": {},
     "output_type": "execute_result"
    }
   ],
   "source": [
    "requests"
   ]
  },
  {
   "cell_type": "code",
   "execution_count": 60,
   "id": "20dc006e-1de3-44a2-b1b1-281bb153d0c0",
   "metadata": {
    "execution": {
     "iopub.execute_input": "2024-06-26T23:48:41.149325Z",
     "iopub.status.busy": "2024-06-26T23:48:41.148435Z",
     "iopub.status.idle": "2024-06-26T23:48:41.236234Z",
     "shell.execute_reply": "2024-06-26T23:48:41.234464Z",
     "shell.execute_reply.started": "2024-06-26T23:48:41.149259Z"
    }
   },
   "outputs": [
    {
     "data": {
      "text/html": [
       "<div>\n",
       "<style scoped>\n",
       "    .dataframe tbody tr th:only-of-type {\n",
       "        vertical-align: middle;\n",
       "    }\n",
       "\n",
       "    .dataframe tbody tr th {\n",
       "        vertical-align: top;\n",
       "    }\n",
       "\n",
       "    .dataframe thead th {\n",
       "        text-align: right;\n",
       "    }\n",
       "</style>\n",
       "<table border=\"1\" class=\"dataframe\">\n",
       "  <thead>\n",
       "    <tr style=\"text-align: right;\">\n",
       "      <th></th>\n",
       "      <th>original_windows</th>\n",
       "      <th>windows</th>\n",
       "      <th>id</th>\n",
       "      <th>ipp_value</th>\n",
       "      <th>created</th>\n",
       "      <th>proposal_id</th>\n",
       "      <th>optimization_type</th>\n",
       "      <th>total_duration</th>\n",
       "      <th>acceptibility_cutoff</th>\n",
       "      <th>valid_telescopes</th>\n",
       "      <th>target_constraint_pairs</th>\n",
       "      <th>og_length</th>\n",
       "      <th>og_window_start</th>\n",
       "      <th>target_types</th>\n",
       "      <th>exposure_types</th>\n",
       "      <th>state</th>\n",
       "      <th>flexibility</th>\n",
       "      <th>theoretical_flexibility</th>\n",
       "    </tr>\n",
       "  </thead>\n",
       "  <tbody>\n",
       "    <tr>\n",
       "      <th>2074133</th>\n",
       "      <td>[{'start': 2020-02-29 10:32:42.554000, 'end': ...</td>\n",
       "      <td>{'2m0a.clma.coj': Timestamp('2020-02-29 10:32:...</td>\n",
       "      <td>2074133</td>\n",
       "      <td>1.05</td>\n",
       "      <td>2020-02-29T02:00:40.155Z</td>\n",
       "      <td>auto_focus</td>\n",
       "      <td>TIME</td>\n",
       "      <td>720</td>\n",
       "      <td>720.0</td>\n",
       "      <td>[2m0a.clma.coj]</td>\n",
       "      <td>[{'target': {'id': 3809568, 'name': 'auto_focu...</td>\n",
       "      <td>1.0</td>\n",
       "      <td>2020-02-29 10:32:42.554</td>\n",
       "      <td>ICRS</td>\n",
       "      <td>[AUTO_FOCUS]</td>\n",
       "      <td>WINDOW_EXPIRED</td>\n",
       "      <td>5.000000</td>\n",
       "      <td>5.000000</td>\n",
       "    </tr>\n",
       "    <tr>\n",
       "      <th>2074134</th>\n",
       "      <td>[{'start': 2020-02-29 11:32:42.554000, 'end': ...</td>\n",
       "      <td>{'2m0a.clma.coj': Timestamp('2020-02-29 11:32:...</td>\n",
       "      <td>2074134</td>\n",
       "      <td>1.05</td>\n",
       "      <td>2020-02-29T02:00:41.027Z</td>\n",
       "      <td>auto_focus</td>\n",
       "      <td>TIME</td>\n",
       "      <td>720</td>\n",
       "      <td>720.0</td>\n",
       "      <td>[2m0a.clma.coj]</td>\n",
       "      <td>[{'target': {'id': 3809569, 'name': 'auto_focu...</td>\n",
       "      <td>1.0</td>\n",
       "      <td>2020-02-29 11:32:42.554</td>\n",
       "      <td>ICRS</td>\n",
       "      <td>[AUTO_FOCUS]</td>\n",
       "      <td>COMPLETED</td>\n",
       "      <td>5.000000</td>\n",
       "      <td>5.000000</td>\n",
       "    </tr>\n",
       "    <tr>\n",
       "      <th>2149114</th>\n",
       "      <td>[{'start': 2020-06-13 09:04:44.596000, 'end': ...</td>\n",
       "      <td>{'2m0a.clma.coj': Timestamp('2020-06-13 09:04:...</td>\n",
       "      <td>2149114</td>\n",
       "      <td>1.05</td>\n",
       "      <td>2020-06-13T02:00:42.445Z</td>\n",
       "      <td>auto_focus</td>\n",
       "      <td>TIME</td>\n",
       "      <td>720</td>\n",
       "      <td>720.0</td>\n",
       "      <td>[2m0a.clma.coj]</td>\n",
       "      <td>[{'target': {'id': 4230328, 'name': 'auto_focu...</td>\n",
       "      <td>1.0</td>\n",
       "      <td>2020-06-13 09:04:44.596</td>\n",
       "      <td>ICRS</td>\n",
       "      <td>[AUTO_FOCUS]</td>\n",
       "      <td>WINDOW_EXPIRED</td>\n",
       "      <td>5.000000</td>\n",
       "      <td>5.000000</td>\n",
       "    </tr>\n",
       "    <tr>\n",
       "      <th>2074051</th>\n",
       "      <td>[{'start': 2020-02-29 11:17:16.861000, 'end': ...</td>\n",
       "      <td>{'2m0a.clma.ogg': Timestamp('2020-02-29 11:17:...</td>\n",
       "      <td>2074051</td>\n",
       "      <td>1.05</td>\n",
       "      <td>2020-02-28T22:00:41.525Z</td>\n",
       "      <td>auto_focus</td>\n",
       "      <td>TIME</td>\n",
       "      <td>720</td>\n",
       "      <td>720.0</td>\n",
       "      <td>[2m0a.clma.ogg]</td>\n",
       "      <td>[{'target': {'id': 3809083, 'name': 'auto_focu...</td>\n",
       "      <td>1.0</td>\n",
       "      <td>2020-02-29 11:17:16.861</td>\n",
       "      <td>ICRS</td>\n",
       "      <td>[AUTO_FOCUS]</td>\n",
       "      <td>WINDOW_EXPIRED</td>\n",
       "      <td>5.000000</td>\n",
       "      <td>5.000000</td>\n",
       "    </tr>\n",
       "    <tr>\n",
       "      <th>2074052</th>\n",
       "      <td>[{'start': 2020-02-29 12:17:16.861000, 'end': ...</td>\n",
       "      <td>{'2m0a.clma.ogg': Timestamp('2020-02-29 12:17:...</td>\n",
       "      <td>2074052</td>\n",
       "      <td>1.05</td>\n",
       "      <td>2020-02-28T22:00:42.882Z</td>\n",
       "      <td>auto_focus</td>\n",
       "      <td>TIME</td>\n",
       "      <td>720</td>\n",
       "      <td>720.0</td>\n",
       "      <td>[2m0a.clma.ogg]</td>\n",
       "      <td>[{'target': {'id': 3809084, 'name': 'auto_focu...</td>\n",
       "      <td>1.0</td>\n",
       "      <td>2020-02-29 12:17:16.861</td>\n",
       "      <td>ICRS</td>\n",
       "      <td>[AUTO_FOCUS]</td>\n",
       "      <td>WINDOW_EXPIRED</td>\n",
       "      <td>5.000000</td>\n",
       "      <td>5.000000</td>\n",
       "    </tr>\n",
       "    <tr>\n",
       "      <th>...</th>\n",
       "      <td>...</td>\n",
       "      <td>...</td>\n",
       "      <td>...</td>\n",
       "      <td>...</td>\n",
       "      <td>...</td>\n",
       "      <td>...</td>\n",
       "      <td>...</td>\n",
       "      <td>...</td>\n",
       "      <td>...</td>\n",
       "      <td>...</td>\n",
       "      <td>...</td>\n",
       "      <td>...</td>\n",
       "      <td>...</td>\n",
       "      <td>...</td>\n",
       "      <td>...</td>\n",
       "      <td>...</td>\n",
       "      <td>...</td>\n",
       "      <td>...</td>\n",
       "    </tr>\n",
       "    <tr>\n",
       "      <th>2545965</th>\n",
       "      <td>[{'start': 2021-06-10 10:59:20.179000, 'end': ...</td>\n",
       "      <td>{'2m0a.clma.ogg': Timestamp('2021-06-10 10:59:...</td>\n",
       "      <td>2545965</td>\n",
       "      <td>1.05</td>\n",
       "      <td>2021-06-09T22:01:01.983Z</td>\n",
       "      <td>auto_focus</td>\n",
       "      <td>TIME</td>\n",
       "      <td>466</td>\n",
       "      <td>466.0</td>\n",
       "      <td>[2m0a.clma.ogg]</td>\n",
       "      <td>[{'target': {'id': 6101076, 'name': 'auto_focu...</td>\n",
       "      <td>1.0</td>\n",
       "      <td>2021-06-10 10:59:20.179</td>\n",
       "      <td>ICRS</td>\n",
       "      <td>[AUTO_FOCUS]</td>\n",
       "      <td>WINDOW_EXPIRED</td>\n",
       "      <td>7.725322</td>\n",
       "      <td>7.725322</td>\n",
       "    </tr>\n",
       "    <tr>\n",
       "      <th>2545966</th>\n",
       "      <td>[{'start': 2021-06-10 11:59:20.179000, 'end': ...</td>\n",
       "      <td>{'2m0a.clma.ogg': Timestamp('2021-06-10 11:59:...</td>\n",
       "      <td>2545966</td>\n",
       "      <td>1.05</td>\n",
       "      <td>2021-06-09T22:01:03.206Z</td>\n",
       "      <td>auto_focus</td>\n",
       "      <td>TIME</td>\n",
       "      <td>466</td>\n",
       "      <td>466.0</td>\n",
       "      <td>[2m0a.clma.ogg]</td>\n",
       "      <td>[{'target': {'id': 6101077, 'name': 'auto_focu...</td>\n",
       "      <td>1.0</td>\n",
       "      <td>2021-06-10 11:59:20.179</td>\n",
       "      <td>ICRS</td>\n",
       "      <td>[AUTO_FOCUS]</td>\n",
       "      <td>WINDOW_EXPIRED</td>\n",
       "      <td>7.725322</td>\n",
       "      <td>7.725322</td>\n",
       "    </tr>\n",
       "    <tr>\n",
       "      <th>2545967</th>\n",
       "      <td>[{'start': 2021-06-10 12:59:20.179000, 'end': ...</td>\n",
       "      <td>{'2m0a.clma.ogg': Timestamp('2021-06-10 12:59:...</td>\n",
       "      <td>2545967</td>\n",
       "      <td>1.05</td>\n",
       "      <td>2021-06-09T22:01:04.380Z</td>\n",
       "      <td>auto_focus</td>\n",
       "      <td>TIME</td>\n",
       "      <td>466</td>\n",
       "      <td>466.0</td>\n",
       "      <td>[2m0a.clma.ogg]</td>\n",
       "      <td>[{'target': {'id': 6101078, 'name': 'auto_focu...</td>\n",
       "      <td>1.0</td>\n",
       "      <td>2021-06-10 12:59:20.179</td>\n",
       "      <td>ICRS</td>\n",
       "      <td>[AUTO_FOCUS]</td>\n",
       "      <td>WINDOW_EXPIRED</td>\n",
       "      <td>7.725322</td>\n",
       "      <td>7.725322</td>\n",
       "    </tr>\n",
       "    <tr>\n",
       "      <th>2545968</th>\n",
       "      <td>[{'start': 2021-06-10 13:59:20.179000, 'end': ...</td>\n",
       "      <td>{'2m0a.clma.ogg': Timestamp('2021-06-10 13:59:...</td>\n",
       "      <td>2545968</td>\n",
       "      <td>1.05</td>\n",
       "      <td>2021-06-09T22:01:05.352Z</td>\n",
       "      <td>auto_focus</td>\n",
       "      <td>TIME</td>\n",
       "      <td>466</td>\n",
       "      <td>466.0</td>\n",
       "      <td>[2m0a.clma.ogg]</td>\n",
       "      <td>[{'target': {'id': 6101079, 'name': 'auto_focu...</td>\n",
       "      <td>1.0</td>\n",
       "      <td>2021-06-10 13:59:20.179</td>\n",
       "      <td>ICRS</td>\n",
       "      <td>[AUTO_FOCUS]</td>\n",
       "      <td>WINDOW_EXPIRED</td>\n",
       "      <td>6.474249</td>\n",
       "      <td>7.725322</td>\n",
       "    </tr>\n",
       "    <tr>\n",
       "      <th>2628675</th>\n",
       "      <td>[{'start': 2021-08-31 18:39:40.818000, 'end': ...</td>\n",
       "      <td>{'2m0a.clma.coj': Timestamp('2021-08-31 18:39:...</td>\n",
       "      <td>2628675</td>\n",
       "      <td>1.05</td>\n",
       "      <td>2021-08-31T02:00:52.062Z</td>\n",
       "      <td>auto_focus</td>\n",
       "      <td>TIME</td>\n",
       "      <td>720</td>\n",
       "      <td>720.0</td>\n",
       "      <td>[2m0a.clma.coj]</td>\n",
       "      <td>[{'target': {'id': 6531444, 'name': 'auto_focu...</td>\n",
       "      <td>1.0</td>\n",
       "      <td>2021-08-31 18:39:40.818</td>\n",
       "      <td>ICRS</td>\n",
       "      <td>[AUTO_FOCUS]</td>\n",
       "      <td>WINDOW_EXPIRED</td>\n",
       "      <td>4.006944</td>\n",
       "      <td>5.000000</td>\n",
       "    </tr>\n",
       "  </tbody>\n",
       "</table>\n",
       "<p>19758 rows × 18 columns</p>\n",
       "</div>"
      ],
      "text/plain": [
       "                                          original_windows  \\\n",
       "2074133  [{'start': 2020-02-29 10:32:42.554000, 'end': ...   \n",
       "2074134  [{'start': 2020-02-29 11:32:42.554000, 'end': ...   \n",
       "2149114  [{'start': 2020-06-13 09:04:44.596000, 'end': ...   \n",
       "2074051  [{'start': 2020-02-29 11:17:16.861000, 'end': ...   \n",
       "2074052  [{'start': 2020-02-29 12:17:16.861000, 'end': ...   \n",
       "...                                                    ...   \n",
       "2545965  [{'start': 2021-06-10 10:59:20.179000, 'end': ...   \n",
       "2545966  [{'start': 2021-06-10 11:59:20.179000, 'end': ...   \n",
       "2545967  [{'start': 2021-06-10 12:59:20.179000, 'end': ...   \n",
       "2545968  [{'start': 2021-06-10 13:59:20.179000, 'end': ...   \n",
       "2628675  [{'start': 2021-08-31 18:39:40.818000, 'end': ...   \n",
       "\n",
       "                                                   windows       id ipp_value  \\\n",
       "2074133  {'2m0a.clma.coj': Timestamp('2020-02-29 10:32:...  2074133      1.05   \n",
       "2074134  {'2m0a.clma.coj': Timestamp('2020-02-29 11:32:...  2074134      1.05   \n",
       "2149114  {'2m0a.clma.coj': Timestamp('2020-06-13 09:04:...  2149114      1.05   \n",
       "2074051  {'2m0a.clma.ogg': Timestamp('2020-02-29 11:17:...  2074051      1.05   \n",
       "2074052  {'2m0a.clma.ogg': Timestamp('2020-02-29 12:17:...  2074052      1.05   \n",
       "...                                                    ...      ...       ...   \n",
       "2545965  {'2m0a.clma.ogg': Timestamp('2021-06-10 10:59:...  2545965      1.05   \n",
       "2545966  {'2m0a.clma.ogg': Timestamp('2021-06-10 11:59:...  2545966      1.05   \n",
       "2545967  {'2m0a.clma.ogg': Timestamp('2021-06-10 12:59:...  2545967      1.05   \n",
       "2545968  {'2m0a.clma.ogg': Timestamp('2021-06-10 13:59:...  2545968      1.05   \n",
       "2628675  {'2m0a.clma.coj': Timestamp('2021-08-31 18:39:...  2628675      1.05   \n",
       "\n",
       "                          created proposal_id optimization_type  \\\n",
       "2074133  2020-02-29T02:00:40.155Z  auto_focus              TIME   \n",
       "2074134  2020-02-29T02:00:41.027Z  auto_focus              TIME   \n",
       "2149114  2020-06-13T02:00:42.445Z  auto_focus              TIME   \n",
       "2074051  2020-02-28T22:00:41.525Z  auto_focus              TIME   \n",
       "2074052  2020-02-28T22:00:42.882Z  auto_focus              TIME   \n",
       "...                           ...         ...               ...   \n",
       "2545965  2021-06-09T22:01:01.983Z  auto_focus              TIME   \n",
       "2545966  2021-06-09T22:01:03.206Z  auto_focus              TIME   \n",
       "2545967  2021-06-09T22:01:04.380Z  auto_focus              TIME   \n",
       "2545968  2021-06-09T22:01:05.352Z  auto_focus              TIME   \n",
       "2628675  2021-08-31T02:00:52.062Z  auto_focus              TIME   \n",
       "\n",
       "        total_duration acceptibility_cutoff valid_telescopes  \\\n",
       "2074133            720                720.0  [2m0a.clma.coj]   \n",
       "2074134            720                720.0  [2m0a.clma.coj]   \n",
       "2149114            720                720.0  [2m0a.clma.coj]   \n",
       "2074051            720                720.0  [2m0a.clma.ogg]   \n",
       "2074052            720                720.0  [2m0a.clma.ogg]   \n",
       "...                ...                  ...              ...   \n",
       "2545965            466                466.0  [2m0a.clma.ogg]   \n",
       "2545966            466                466.0  [2m0a.clma.ogg]   \n",
       "2545967            466                466.0  [2m0a.clma.ogg]   \n",
       "2545968            466                466.0  [2m0a.clma.ogg]   \n",
       "2628675            720                720.0  [2m0a.clma.coj]   \n",
       "\n",
       "                                   target_constraint_pairs  og_length  \\\n",
       "2074133  [{'target': {'id': 3809568, 'name': 'auto_focu...        1.0   \n",
       "2074134  [{'target': {'id': 3809569, 'name': 'auto_focu...        1.0   \n",
       "2149114  [{'target': {'id': 4230328, 'name': 'auto_focu...        1.0   \n",
       "2074051  [{'target': {'id': 3809083, 'name': 'auto_focu...        1.0   \n",
       "2074052  [{'target': {'id': 3809084, 'name': 'auto_focu...        1.0   \n",
       "...                                                    ...        ...   \n",
       "2545965  [{'target': {'id': 6101076, 'name': 'auto_focu...        1.0   \n",
       "2545966  [{'target': {'id': 6101077, 'name': 'auto_focu...        1.0   \n",
       "2545967  [{'target': {'id': 6101078, 'name': 'auto_focu...        1.0   \n",
       "2545968  [{'target': {'id': 6101079, 'name': 'auto_focu...        1.0   \n",
       "2628675  [{'target': {'id': 6531444, 'name': 'auto_focu...        1.0   \n",
       "\n",
       "                og_window_start target_types exposure_types           state  \\\n",
       "2074133 2020-02-29 10:32:42.554         ICRS   [AUTO_FOCUS]  WINDOW_EXPIRED   \n",
       "2074134 2020-02-29 11:32:42.554         ICRS   [AUTO_FOCUS]       COMPLETED   \n",
       "2149114 2020-06-13 09:04:44.596         ICRS   [AUTO_FOCUS]  WINDOW_EXPIRED   \n",
       "2074051 2020-02-29 11:17:16.861         ICRS   [AUTO_FOCUS]  WINDOW_EXPIRED   \n",
       "2074052 2020-02-29 12:17:16.861         ICRS   [AUTO_FOCUS]  WINDOW_EXPIRED   \n",
       "...                         ...          ...            ...             ...   \n",
       "2545965 2021-06-10 10:59:20.179         ICRS   [AUTO_FOCUS]  WINDOW_EXPIRED   \n",
       "2545966 2021-06-10 11:59:20.179         ICRS   [AUTO_FOCUS]  WINDOW_EXPIRED   \n",
       "2545967 2021-06-10 12:59:20.179         ICRS   [AUTO_FOCUS]  WINDOW_EXPIRED   \n",
       "2545968 2021-06-10 13:59:20.179         ICRS   [AUTO_FOCUS]  WINDOW_EXPIRED   \n",
       "2628675 2021-08-31 18:39:40.818         ICRS   [AUTO_FOCUS]  WINDOW_EXPIRED   \n",
       "\n",
       "         flexibility  theoretical_flexibility  \n",
       "2074133     5.000000                 5.000000  \n",
       "2074134     5.000000                 5.000000  \n",
       "2149114     5.000000                 5.000000  \n",
       "2074051     5.000000                 5.000000  \n",
       "2074052     5.000000                 5.000000  \n",
       "...              ...                      ...  \n",
       "2545965     7.725322                 7.725322  \n",
       "2545966     7.725322                 7.725322  \n",
       "2545967     7.725322                 7.725322  \n",
       "2545968     6.474249                 7.725322  \n",
       "2628675     4.006944                 5.000000  \n",
       "\n",
       "[19758 rows x 18 columns]"
      ]
     },
     "execution_count": 60,
     "metadata": {},
     "output_type": "execute_result"
    }
   ],
   "source": [
    "calibration"
   ]
  },
  {
   "cell_type": "markdown",
   "id": "c4fc657e-ca02-4a7f-94ea-8e6fb2be2346",
   "metadata": {},
   "source": [
    "## Request Duration"
   ]
  },
  {
   "cell_type": "markdown",
   "id": "f2c43956-c64b-4a7f-9a9a-658755c24c19",
   "metadata": {
    "execution": {
     "iopub.execute_input": "2024-06-21T08:56:16.235263Z",
     "iopub.status.busy": "2024-06-21T08:56:16.234816Z",
     "iopub.status.idle": "2024-06-21T08:56:16.249962Z",
     "shell.execute_reply": "2024-06-21T08:56:16.248297Z",
     "shell.execute_reply.started": "2024-06-21T08:56:16.235235Z"
    }
   },
   "source": [
    "### Plot Duration Distribution Quantiles"
   ]
  },
  {
   "cell_type": "code",
   "execution_count": 65,
   "id": "dd01d85f-b090-41d0-b1ea-feaa9a812af4",
   "metadata": {
    "execution": {
     "iopub.execute_input": "2024-06-25T16:32:52.501182Z",
     "iopub.status.busy": "2024-06-25T16:32:52.499869Z",
     "iopub.status.idle": "2024-06-25T16:32:56.397534Z",
     "shell.execute_reply": "2024-06-25T16:32:56.395921Z",
     "shell.execute_reply.started": "2024-06-25T16:32:52.501125Z"
    }
   },
   "outputs": [
    {
     "name": "stdout",
     "output_type": "stream",
     "text": [
      "0.0 3.6166666666666667\n",
      "0.01 4.2\n",
      "0.02 4.716666666666667\n",
      "0.03 5.016666666666667\n",
      "0.04 5.016666666666667\n",
      "0.05 5.266666666666667\n",
      "0.06 5.266666666666667\n",
      "0.07 5.283333333333333\n",
      "0.08 5.433333333333334\n",
      "0.09 5.9\n",
      "0.1 6.116666666666666\n",
      "0.11 6.116666666666666\n",
      "0.12 6.116666666666666\n",
      "0.13 6.116666666666666\n",
      "0.14 6.8\n",
      "0.15 6.8\n",
      "0.16 6.9\n",
      "0.17 6.933333333333334\n",
      "0.18 6.95\n",
      "0.19 6.95\n",
      "0.2 6.95\n",
      "0.21 6.95\n",
      "0.22 6.95\n",
      "0.23 6.95\n",
      "0.24 6.95\n",
      "0.25 7.033333333333333\n",
      "0.26 7.566666666666666\n",
      "0.27 7.566666666666666\n",
      "0.28 7.75\n",
      "0.29 7.9\n",
      "0.3 8.6\n",
      "0.31 8.6\n",
      "0.32 8.8\n",
      "0.33 9.45\n",
      "0.34 9.8\n",
      "0.35 10.25\n",
      "0.36 10.8\n",
      "0.37 11.1\n",
      "0.38 11.1\n",
      "0.39 11.1\n",
      "0.4 11.1\n",
      "0.41 11.7\n",
      "0.42 12.666666666666666\n",
      "0.43 13.8\n",
      "0.44 13.966666666666667\n",
      "0.45 13.966666666666667\n",
      "0.46 14.266666666666667\n",
      "0.47 14.85\n",
      "0.48 15.966666666666667\n",
      "0.49 17.75\n",
      "0.5 18.983333333333334\n",
      "0.51 20.083333333333332\n",
      "0.52 20.5\n",
      "0.53 20.5\n",
      "0.54 21.166666666666668\n",
      "0.55 23.133333333333333\n",
      "0.56 24.883333333333333\n",
      "0.57 25.083333333333332\n",
      "0.58 25.75\n",
      "0.59 26.9\n",
      "0.6 28.3\n",
      "0.61 28.3\n",
      "0.62 28.3\n",
      "0.63 30.083333333333332\n",
      "0.64 30.5\n",
      "0.65 30.5\n",
      "0.66 30.5\n",
      "0.67 30.666666666666668\n",
      "0.68 31.4\n",
      "0.69 32.766666666666666\n",
      "0.7 35.233333333333334\n",
      "0.71 40.083333333333336\n",
      "0.72 40.75\n",
      "0.73 40.75\n",
      "0.74 40.75\n",
      "0.75 41.46666666666667\n",
      "0.76 42.766666666666666\n",
      "0.77 46.46666666666667\n",
      "0.78 50.75\n",
      "0.79 55.75\n",
      "0.8 55.75\n",
      "0.81 55.75\n",
      "0.82 55.75\n",
      "0.83 55.75\n",
      "0.84 56.46666666666667\n",
      "0.85 70.5\n",
      "0.86 70.75\n",
      "0.87 70.75\n",
      "0.88 70.75\n",
      "0.89 70.75\n",
      "0.9 70.75\n",
      "0.91 70.75\n",
      "0.92 70.75\n",
      "0.93 70.75\n",
      "0.94 70.75\n",
      "0.95 70.75\n",
      "0.96 70.75\n",
      "0.97 76.46666666666667\n",
      "0.98 106.13333333333334\n",
      "0.99 221.7\n",
      "1.0 539.9833333333333\n"
     ]
    }
   ],
   "source": [
    "quantiles = []\n",
    "steps = []\n",
    "step = 100\n",
    "for i in range(int(step)+1):\n",
    "    q = requests[\"total_duration\"].quantile(i/step)\n",
    "    print(i/step, q/60)\n",
    "    quantiles.append(q/60)\n",
    "    steps.append(i/step)"
   ]
  },
  {
   "cell_type": "code",
   "execution_count": 72,
   "id": "949f7b1e-a60c-4390-8921-abfc96c37ea4",
   "metadata": {
    "execution": {
     "iopub.execute_input": "2024-06-25T16:35:31.229908Z",
     "iopub.status.busy": "2024-06-25T16:35:31.228552Z",
     "iopub.status.idle": "2024-06-25T16:35:31.267289Z",
     "shell.execute_reply": "2024-06-25T16:35:31.263598Z",
     "shell.execute_reply.started": "2024-06-25T16:35:31.229868Z"
    }
   },
   "outputs": [
    {
     "data": {
      "text/plain": [
       "145.9287357889203"
      ]
     },
     "execution_count": 72,
     "metadata": {},
     "output_type": "execute_result"
    }
   ],
   "source": [
    "dur_mean = requests[\"total_duration\"].mean()\n",
    "dur_std = requests[\"total_duration\"].std()\n",
    "outlier_limit = dur_mean/60 + 3*dur_std/60\n",
    "outlier_limit"
   ]
  },
  {
   "cell_type": "code",
   "execution_count": 76,
   "id": "b5096966-c489-4106-802b-64a69f50868a",
   "metadata": {
    "execution": {
     "iopub.execute_input": "2024-06-25T16:36:30.158426Z",
     "iopub.status.busy": "2024-06-25T16:36:30.157398Z",
     "iopub.status.idle": "2024-06-25T16:36:30.376858Z",
     "shell.execute_reply": "2024-06-25T16:36:30.374727Z",
     "shell.execute_reply.started": "2024-06-25T16:36:30.158384Z"
    }
   },
   "outputs": [
    {
     "data": {
      "text/html": [
       "<div>\n",
       "<style scoped>\n",
       "    .dataframe tbody tr th:only-of-type {\n",
       "        vertical-align: middle;\n",
       "    }\n",
       "\n",
       "    .dataframe tbody tr th {\n",
       "        vertical-align: top;\n",
       "    }\n",
       "\n",
       "    .dataframe thead th {\n",
       "        text-align: right;\n",
       "    }\n",
       "</style>\n",
       "<table border=\"1\" class=\"dataframe\">\n",
       "  <thead>\n",
       "    <tr style=\"text-align: right;\">\n",
       "      <th></th>\n",
       "      <th>original_windows</th>\n",
       "      <th>windows</th>\n",
       "      <th>id</th>\n",
       "      <th>ipp_value</th>\n",
       "      <th>created</th>\n",
       "      <th>proposal_id</th>\n",
       "      <th>optimization_type</th>\n",
       "      <th>total_duration</th>\n",
       "      <th>acceptibility_cutoff</th>\n",
       "      <th>valid_telescopes</th>\n",
       "      <th>target_constraint_pairs</th>\n",
       "      <th>og_length</th>\n",
       "      <th>og_window_start</th>\n",
       "      <th>target_types</th>\n",
       "    </tr>\n",
       "  </thead>\n",
       "  <tbody>\n",
       "    <tr>\n",
       "      <th>2364003</th>\n",
       "      <td>[{'start': 2021-01-22 09:50:00, 'end': 2021-01...</td>\n",
       "      <td>{'2m0a.clma.ogg': Timestamp('2021-01-22 09:50:...</td>\n",
       "      <td>2364003</td>\n",
       "      <td>1.1</td>\n",
       "      <td>2021-01-22T09:46:42.991Z</td>\n",
       "      <td>CON2020B-001</td>\n",
       "      <td>TIME</td>\n",
       "      <td>8790</td>\n",
       "      <td>8790.0</td>\n",
       "      <td>[2m0a.clma.coj, 2m0a.clma.ogg]</td>\n",
       "      <td>[{'target': {'id': 5334956, 'name': 'TOI-620',...</td>\n",
       "      <td>2.450000</td>\n",
       "      <td>2021-01-22 09:50:00</td>\n",
       "      <td>ICRS</td>\n",
       "    </tr>\n",
       "    <tr>\n",
       "      <th>2537123</th>\n",
       "      <td>[{'start': 2021-06-04 07:57:00, 'end': 2021-06...</td>\n",
       "      <td>{'2m0a.clma.ogg': Timestamp('2021-06-04 07:57:...</td>\n",
       "      <td>2537123</td>\n",
       "      <td>1.0</td>\n",
       "      <td>2021-06-04T03:57:08.541Z</td>\n",
       "      <td>KEY2020B-005</td>\n",
       "      <td>TIME</td>\n",
       "      <td>8802</td>\n",
       "      <td>8802.0</td>\n",
       "      <td>[2m0a.clma.coj, 2m0a.clma.ogg]</td>\n",
       "      <td>[{'target': {'id': 6066320, 'name': 'TIC 23568...</td>\n",
       "      <td>2.466667</td>\n",
       "      <td>2021-06-04 07:57:00</td>\n",
       "      <td>ICRS</td>\n",
       "    </tr>\n",
       "    <tr>\n",
       "      <th>2791853</th>\n",
       "      <td>[{'start': 2022-02-18 13:02:00, 'end': 2022-02...</td>\n",
       "      <td>{'2m0a.clma.ogg': Timestamp('2022-02-18 13:02:...</td>\n",
       "      <td>2791853</td>\n",
       "      <td>1.16</td>\n",
       "      <td>2022-02-18T03:13:23.163Z</td>\n",
       "      <td>KEY2020B-005</td>\n",
       "      <td>TIME</td>\n",
       "      <td>8838</td>\n",
       "      <td>8838.0</td>\n",
       "      <td>[2m0a.clma.coj, 2m0a.clma.ogg]</td>\n",
       "      <td>[{'target': {'id': 7377856, 'name': 'TIC 21985...</td>\n",
       "      <td>2.633333</td>\n",
       "      <td>2022-02-18 13:02:00</td>\n",
       "      <td>ICRS</td>\n",
       "    </tr>\n",
       "    <tr>\n",
       "      <th>2493038</th>\n",
       "      <td>[{'start': 2021-05-07 07:34:00, 'end': 2021-05...</td>\n",
       "      <td>{'2m0a.clma.ogg': Timestamp('2021-05-07 07:34:...</td>\n",
       "      <td>2493038</td>\n",
       "      <td>1.001</td>\n",
       "      <td>2021-05-07T03:42:53.892Z</td>\n",
       "      <td>KEY2020B-005</td>\n",
       "      <td>TIME</td>\n",
       "      <td>8862</td>\n",
       "      <td>8862.0</td>\n",
       "      <td>[2m0a.clma.coj, 2m0a.clma.ogg]</td>\n",
       "      <td>[{'target': {'id': 5896380, 'name': 'TIC 21985...</td>\n",
       "      <td>2.483333</td>\n",
       "      <td>2021-05-07 07:34:00</td>\n",
       "      <td>ICRS</td>\n",
       "    </tr>\n",
       "    <tr>\n",
       "      <th>2116263</th>\n",
       "      <td>[{'start': 2020-05-07 05:42:00, 'end': 2020-05...</td>\n",
       "      <td>{'2m0a.clma.ogg': Timestamp('2020-05-07 05:42:...</td>\n",
       "      <td>2116263</td>\n",
       "      <td>1.075</td>\n",
       "      <td>2020-05-06T03:42:36.510Z</td>\n",
       "      <td>LCO2020A-008</td>\n",
       "      <td>TIME</td>\n",
       "      <td>8864</td>\n",
       "      <td>8864.0</td>\n",
       "      <td>[2m0a.clma.coj, 2m0a.clma.ogg]</td>\n",
       "      <td>[{'target': {'id': 4050568, 'name': 'TIC 17290...</td>\n",
       "      <td>2.483333</td>\n",
       "      <td>2020-05-07 05:42:00</td>\n",
       "      <td>ICRS</td>\n",
       "    </tr>\n",
       "    <tr>\n",
       "      <th>...</th>\n",
       "      <td>...</td>\n",
       "      <td>...</td>\n",
       "      <td>...</td>\n",
       "      <td>...</td>\n",
       "      <td>...</td>\n",
       "      <td>...</td>\n",
       "      <td>...</td>\n",
       "      <td>...</td>\n",
       "      <td>...</td>\n",
       "      <td>...</td>\n",
       "      <td>...</td>\n",
       "      <td>...</td>\n",
       "      <td>...</td>\n",
       "      <td>...</td>\n",
       "    </tr>\n",
       "    <tr>\n",
       "      <th>2705658</th>\n",
       "      <td>[{'start': 2021-11-11 06:30:00, 'end': 2021-11...</td>\n",
       "      <td>{'2m0a.clma.ogg': Timestamp('2021-11-11 06:30:...</td>\n",
       "      <td>2705658</td>\n",
       "      <td>1.0</td>\n",
       "      <td>2021-11-10T04:04:18.285Z</td>\n",
       "      <td>CON2021B-003</td>\n",
       "      <td>TIME</td>\n",
       "      <td>30380</td>\n",
       "      <td>30380.0</td>\n",
       "      <td>[2m0a.clma.coj, 2m0a.clma.ogg]</td>\n",
       "      <td>[{'target': {'id': 6900190, 'name': 'TOI3763.0...</td>\n",
       "      <td>8.500000</td>\n",
       "      <td>2021-11-11 06:30:00</td>\n",
       "      <td>ICRS</td>\n",
       "    </tr>\n",
       "    <tr>\n",
       "      <th>2975295</th>\n",
       "      <td>[{'start': 2022-08-17 06:06:00, 'end': 2022-08...</td>\n",
       "      <td>{'2m0a.clma.ogg': Timestamp('2022-08-17 06:06:...</td>\n",
       "      <td>2975295</td>\n",
       "      <td>1.21</td>\n",
       "      <td>2022-08-17T03:43:36.477Z</td>\n",
       "      <td>KEY2020B-005</td>\n",
       "      <td>TIME</td>\n",
       "      <td>31086</td>\n",
       "      <td>31086.0</td>\n",
       "      <td>[2m0a.clma.coj, 2m0a.clma.ogg]</td>\n",
       "      <td>[{'target': {'id': 8333389, 'name': 'TIC 25678...</td>\n",
       "      <td>9.116667</td>\n",
       "      <td>2022-08-17 06:06:00</td>\n",
       "      <td>ICRS</td>\n",
       "    </tr>\n",
       "    <tr>\n",
       "      <th>3056816</th>\n",
       "      <td>[{'start': 2022-11-18 06:30:00, 'end': 2022-11...</td>\n",
       "      <td>{'2m0a.clma.ogg': Timestamp('2022-11-18 06:30:...</td>\n",
       "      <td>3056816</td>\n",
       "      <td>1.09</td>\n",
       "      <td>2022-11-18T06:06:25.170Z</td>\n",
       "      <td>CON2022B-003</td>\n",
       "      <td>TIME</td>\n",
       "      <td>31499</td>\n",
       "      <td>31499.0</td>\n",
       "      <td>[2m0a.clma.coj, 2m0a.clma.ogg]</td>\n",
       "      <td>[{'target': {'id': 8784286, 'name': 'V1298Tau'...</td>\n",
       "      <td>8.750000</td>\n",
       "      <td>2022-11-18 06:30:00</td>\n",
       "      <td>ICRS</td>\n",
       "    </tr>\n",
       "    <tr>\n",
       "      <th>3056739</th>\n",
       "      <td>[{'start': 2022-11-18 06:20:00, 'end': 2022-11...</td>\n",
       "      <td>{'2m0a.clma.ogg': Timestamp('2022-11-18 06:20:...</td>\n",
       "      <td>3056739</td>\n",
       "      <td>1.1</td>\n",
       "      <td>2022-11-18T03:56:05.961Z</td>\n",
       "      <td>CON2022B-003</td>\n",
       "      <td>TIME</td>\n",
       "      <td>31799</td>\n",
       "      <td>31799.0</td>\n",
       "      <td>[2m0a.clma.coj, 2m0a.clma.ogg]</td>\n",
       "      <td>[{'target': {'id': 8783888, 'name': 'V1298Tau'...</td>\n",
       "      <td>8.833333</td>\n",
       "      <td>2022-11-18 06:20:00</td>\n",
       "      <td>ICRS</td>\n",
       "    </tr>\n",
       "    <tr>\n",
       "      <th>3056737</th>\n",
       "      <td>[{'start': 2022-11-18 06:15:00, 'end': 2022-11...</td>\n",
       "      <td>{'2m0a.clma.ogg': Timestamp('2022-11-18 06:15:...</td>\n",
       "      <td>3056737</td>\n",
       "      <td>1.1</td>\n",
       "      <td>2022-11-18T03:52:30.573Z</td>\n",
       "      <td>CON2022B-003</td>\n",
       "      <td>TIME</td>\n",
       "      <td>32399</td>\n",
       "      <td>32399.0</td>\n",
       "      <td>[2m0a.clma.coj, 2m0a.clma.ogg]</td>\n",
       "      <td>[{'target': {'id': 8783886, 'name': 'V1298Tau'...</td>\n",
       "      <td>9.000000</td>\n",
       "      <td>2022-11-18 06:15:00</td>\n",
       "      <td>ICRS</td>\n",
       "    </tr>\n",
       "  </tbody>\n",
       "</table>\n",
       "<p>899 rows × 14 columns</p>\n",
       "</div>"
      ],
      "text/plain": [
       "                                          original_windows  \\\n",
       "2364003  [{'start': 2021-01-22 09:50:00, 'end': 2021-01...   \n",
       "2537123  [{'start': 2021-06-04 07:57:00, 'end': 2021-06...   \n",
       "2791853  [{'start': 2022-02-18 13:02:00, 'end': 2022-02...   \n",
       "2493038  [{'start': 2021-05-07 07:34:00, 'end': 2021-05...   \n",
       "2116263  [{'start': 2020-05-07 05:42:00, 'end': 2020-05...   \n",
       "...                                                    ...   \n",
       "2705658  [{'start': 2021-11-11 06:30:00, 'end': 2021-11...   \n",
       "2975295  [{'start': 2022-08-17 06:06:00, 'end': 2022-08...   \n",
       "3056816  [{'start': 2022-11-18 06:30:00, 'end': 2022-11...   \n",
       "3056739  [{'start': 2022-11-18 06:20:00, 'end': 2022-11...   \n",
       "3056737  [{'start': 2022-11-18 06:15:00, 'end': 2022-11...   \n",
       "\n",
       "                                                   windows       id ipp_value  \\\n",
       "2364003  {'2m0a.clma.ogg': Timestamp('2021-01-22 09:50:...  2364003       1.1   \n",
       "2537123  {'2m0a.clma.ogg': Timestamp('2021-06-04 07:57:...  2537123       1.0   \n",
       "2791853  {'2m0a.clma.ogg': Timestamp('2022-02-18 13:02:...  2791853      1.16   \n",
       "2493038  {'2m0a.clma.ogg': Timestamp('2021-05-07 07:34:...  2493038     1.001   \n",
       "2116263  {'2m0a.clma.ogg': Timestamp('2020-05-07 05:42:...  2116263     1.075   \n",
       "...                                                    ...      ...       ...   \n",
       "2705658  {'2m0a.clma.ogg': Timestamp('2021-11-11 06:30:...  2705658       1.0   \n",
       "2975295  {'2m0a.clma.ogg': Timestamp('2022-08-17 06:06:...  2975295      1.21   \n",
       "3056816  {'2m0a.clma.ogg': Timestamp('2022-11-18 06:30:...  3056816      1.09   \n",
       "3056739  {'2m0a.clma.ogg': Timestamp('2022-11-18 06:20:...  3056739       1.1   \n",
       "3056737  {'2m0a.clma.ogg': Timestamp('2022-11-18 06:15:...  3056737       1.1   \n",
       "\n",
       "                          created   proposal_id optimization_type  \\\n",
       "2364003  2021-01-22T09:46:42.991Z  CON2020B-001              TIME   \n",
       "2537123  2021-06-04T03:57:08.541Z  KEY2020B-005              TIME   \n",
       "2791853  2022-02-18T03:13:23.163Z  KEY2020B-005              TIME   \n",
       "2493038  2021-05-07T03:42:53.892Z  KEY2020B-005              TIME   \n",
       "2116263  2020-05-06T03:42:36.510Z  LCO2020A-008              TIME   \n",
       "...                           ...           ...               ...   \n",
       "2705658  2021-11-10T04:04:18.285Z  CON2021B-003              TIME   \n",
       "2975295  2022-08-17T03:43:36.477Z  KEY2020B-005              TIME   \n",
       "3056816  2022-11-18T06:06:25.170Z  CON2022B-003              TIME   \n",
       "3056739  2022-11-18T03:56:05.961Z  CON2022B-003              TIME   \n",
       "3056737  2022-11-18T03:52:30.573Z  CON2022B-003              TIME   \n",
       "\n",
       "        total_duration acceptibility_cutoff                valid_telescopes  \\\n",
       "2364003           8790               8790.0  [2m0a.clma.coj, 2m0a.clma.ogg]   \n",
       "2537123           8802               8802.0  [2m0a.clma.coj, 2m0a.clma.ogg]   \n",
       "2791853           8838               8838.0  [2m0a.clma.coj, 2m0a.clma.ogg]   \n",
       "2493038           8862               8862.0  [2m0a.clma.coj, 2m0a.clma.ogg]   \n",
       "2116263           8864               8864.0  [2m0a.clma.coj, 2m0a.clma.ogg]   \n",
       "...                ...                  ...                             ...   \n",
       "2705658          30380              30380.0  [2m0a.clma.coj, 2m0a.clma.ogg]   \n",
       "2975295          31086              31086.0  [2m0a.clma.coj, 2m0a.clma.ogg]   \n",
       "3056816          31499              31499.0  [2m0a.clma.coj, 2m0a.clma.ogg]   \n",
       "3056739          31799              31799.0  [2m0a.clma.coj, 2m0a.clma.ogg]   \n",
       "3056737          32399              32399.0  [2m0a.clma.coj, 2m0a.clma.ogg]   \n",
       "\n",
       "                                   target_constraint_pairs  og_length  \\\n",
       "2364003  [{'target': {'id': 5334956, 'name': 'TOI-620',...   2.450000   \n",
       "2537123  [{'target': {'id': 6066320, 'name': 'TIC 23568...   2.466667   \n",
       "2791853  [{'target': {'id': 7377856, 'name': 'TIC 21985...   2.633333   \n",
       "2493038  [{'target': {'id': 5896380, 'name': 'TIC 21985...   2.483333   \n",
       "2116263  [{'target': {'id': 4050568, 'name': 'TIC 17290...   2.483333   \n",
       "...                                                    ...        ...   \n",
       "2705658  [{'target': {'id': 6900190, 'name': 'TOI3763.0...   8.500000   \n",
       "2975295  [{'target': {'id': 8333389, 'name': 'TIC 25678...   9.116667   \n",
       "3056816  [{'target': {'id': 8784286, 'name': 'V1298Tau'...   8.750000   \n",
       "3056739  [{'target': {'id': 8783888, 'name': 'V1298Tau'...   8.833333   \n",
       "3056737  [{'target': {'id': 8783886, 'name': 'V1298Tau'...   9.000000   \n",
       "\n",
       "            og_window_start target_types  \n",
       "2364003 2021-01-22 09:50:00         ICRS  \n",
       "2537123 2021-06-04 07:57:00         ICRS  \n",
       "2791853 2022-02-18 13:02:00         ICRS  \n",
       "2493038 2021-05-07 07:34:00         ICRS  \n",
       "2116263 2020-05-07 05:42:00         ICRS  \n",
       "...                     ...          ...  \n",
       "2705658 2021-11-11 06:30:00         ICRS  \n",
       "2975295 2022-08-17 06:06:00         ICRS  \n",
       "3056816 2022-11-18 06:30:00         ICRS  \n",
       "3056739 2022-11-18 06:20:00         ICRS  \n",
       "3056737 2022-11-18 06:15:00         ICRS  \n",
       "\n",
       "[899 rows x 14 columns]"
      ]
     },
     "execution_count": 76,
     "metadata": {},
     "output_type": "execute_result"
    }
   ],
   "source": [
    "requests[requests[\"total_duration\"] > outlier_limit*60].sort_values(\"total_duration\")"
   ]
  },
  {
   "cell_type": "code",
   "execution_count": 60,
   "id": "6f6e56ff-1a95-41ae-8dd8-3eb8deab3c0e",
   "metadata": {
    "execution": {
     "iopub.execute_input": "2024-06-25T16:31:43.652505Z",
     "iopub.status.busy": "2024-06-25T16:31:43.651298Z",
     "iopub.status.idle": "2024-06-25T16:31:44.664473Z",
     "shell.execute_reply": "2024-06-25T16:31:44.660937Z",
     "shell.execute_reply.started": "2024-06-25T16:31:43.652472Z"
    }
   },
   "outputs": [
    {
     "data": {
      "image/png": "[encoded data removed]",
      "text/plain": [
       "<Figure size 640x480 with 1 Axes>"
      ]
     },
     "metadata": {},
     "output_type": "display_data"
    },
    {
     "data": {
      "image/png": "[encoded data removed]",
      "text/plain": [
       "<Figure size 640x480 with 1 Axes>"
      ]
     },
     "metadata": {},
     "output_type": "display_data"
    }
   ],
   "source": [
    "scatter(steps, quantiles,\n",
    "        \"2m Request Duration Distribution\",\n",
    "        \"Quantile\",\n",
    "        \"Request Total Duration (mins)\",\n",
    "        \"2m_duration_distribution\")\n",
    "\n",
    "scatter(steps[:-2], quantiles[:-2],\n",
    "        \"2m Request Duration Distribution (without outliers)\",\n",
    "        \"Quantile\",\n",
    "        \"Request Total Duration (mins)\",\n",
    "        \"2m_duration_distribution_without_outliers\")"
   ]
  },
  {
   "cell_type": "markdown",
   "id": "e9e2d699-e218-4fcf-9ea9-73e42625bfbc",
   "metadata": {},
   "source": [
    "### Suggest Values to split the durations\n",
    "Splitting into Small, Medium, and Large distributions\n",
    "\n",
    "Using boundaries of 600 and 1800 gives us a 35%, 38%, 27% split."
   ]
  },
  {
   "cell_type": "code",
   "execution_count": 39,
   "id": "613a7256-11fc-431e-8f2e-be045c804705",
   "metadata": {
    "execution": {
     "iopub.execute_input": "2024-06-25T21:12:24.072234Z",
     "iopub.status.busy": "2024-06-25T21:12:24.070498Z",
     "iopub.status.idle": "2024-06-25T21:12:31.454123Z",
     "shell.execute_reply": "2024-06-25T21:12:31.452442Z",
     "shell.execute_reply.started": "2024-06-25T21:12:24.072044Z"
    }
   },
   "outputs": [
    {
     "name": "stdout",
     "output_type": "stream",
     "text": [
      "0 -> 600: 17847\n",
      "600 -> 1800: 14618\n",
      "1800 -> inf: 19141\n"
     ]
    },
    {
     "data": {
      "image/png": "[encoded data removed]",
      "text/plain": [
       "<Figure size 640x480 with 1 Axes>"
      ]
     },
     "metadata": {},
     "output_type": "display_data"
    }
   ],
   "source": [
    "split_on_limits(requests, \"total_duration\", [0, 600, 1800])"
   ]
  },
  {
   "cell_type": "code",
   "execution_count": 52,
   "id": "0a9cc532-93e8-4455-b4be-a67d4136ddfc",
   "metadata": {
    "execution": {
     "iopub.execute_input": "2024-06-25T21:13:45.072027Z",
     "iopub.status.busy": "2024-06-25T21:13:45.071435Z",
     "iopub.status.idle": "2024-06-25T21:13:45.376306Z",
     "shell.execute_reply": "2024-06-25T21:13:45.374731Z",
     "shell.execute_reply.started": "2024-06-25T21:13:45.071998Z"
    }
   },
   "outputs": [
    {
     "name": "stdout",
     "output_type": "stream",
     "text": [
      "0 -> 600: 6988\n",
      "600 -> 1800: 12744\n",
      "1800 -> inf: 26\n"
     ]
    },
    {
     "data": {
      "image/png": "[encoded data removed]",
      "text/plain": [
       "<Figure size 640x480 with 1 Axes>"
      ]
     },
     "metadata": {},
     "output_type": "display_data"
    }
   ],
   "source": [
    "split_on_limits(calibration, \"total_duration\", [0, 600, 1800])"
   ]
  },
  {
   "cell_type": "markdown",
   "id": "5146df07-ca15-47b4-a61f-d7a1bf7013db",
   "metadata": {},
   "source": [
    "### Split by Target Type"
   ]
  },
  {
   "cell_type": "code",
   "execution_count": 40,
   "id": "d0ee2699-2c11-42cb-a2df-6b347c2dc07b",
   "metadata": {
    "execution": {
     "iopub.execute_input": "2024-06-25T21:12:38.663290Z",
     "iopub.status.busy": "2024-06-25T21:12:38.662193Z",
     "iopub.status.idle": "2024-06-25T21:12:41.163985Z",
     "shell.execute_reply": "2024-06-25T21:12:41.162020Z",
     "shell.execute_reply.started": "2024-06-25T21:12:38.663239Z"
    }
   },
   "outputs": [
    {
     "name": "stdout",
     "output_type": "stream",
     "text": [
      "Index(['ICRS', 'ORBITAL_ELEMENTS', 'BOTH'], dtype='object', name='target_types')\n",
      "[49880, 1660, 66]\n"
     ]
    },
    {
     "data": {
      "image/png": "[encoded data removed]",
      "text/plain": [
       "<Figure size 640x480 with 1 Axes>"
      ]
     },
     "metadata": {},
     "output_type": "display_data"
    },
    {
     "data": {
      "image/png": "[encoded data removed]",
      "text/plain": [
       "<Figure size 640x480 with 1 Axes>"
      ]
     },
     "metadata": {},
     "output_type": "display_data"
    }
   ],
   "source": [
    "target_types = requests[\"target_types\"].value_counts()\n",
    "print(target_types.index)\n",
    "print(requests[\"target_types\"].value_counts().to_list())\n",
    "\n",
    "plt.bar([x for x in target_types.index], target_types.to_list())\n",
    "plt.title(\"Log# of Requests by Target Type\")\n",
    "plt.yscale(\"log\")\n",
    "plt.ylabel(\"# of Requests\")\n",
    "plt.show()\n",
    "\n",
    "plt.bar([x for x in target_types.index], target_types.to_list())\n",
    "plt.ylabel(\"# of Requests\")\n",
    "plt.show()"
   ]
  },
  {
   "cell_type": "markdown",
   "id": "26c6c870-5ae8-43f3-bea1-49517c6681b1",
   "metadata": {},
   "source": [
    "### Duration vs Target Type"
   ]
  },
  {
   "cell_type": "code",
   "execution_count": null,
   "id": "d399448d-8ef7-4498-84bd-81e84758c847",
   "metadata": {},
   "outputs": [],
   "source": []
  },
  {
   "cell_type": "markdown",
   "id": "79885602-37db-4234-b6fc-a6455650ac61",
   "metadata": {},
   "source": [
    "## Availability Windows"
   ]
  },
  {
   "cell_type": "markdown",
   "id": "7b0ea630-e93f-4b13-a2a2-d1edb4352e88",
   "metadata": {},
   "source": [
    "### Plot Availability Window Distribution"
   ]
  },
  {
   "cell_type": "code",
   "execution_count": 47,
   "id": "e8505a23-76ba-4eba-a836-f87e827aa66a",
   "metadata": {
    "execution": {
     "iopub.execute_input": "2024-06-25T21:13:03.525878Z",
     "iopub.status.busy": "2024-06-25T21:13:03.524900Z",
     "iopub.status.idle": "2024-06-25T21:13:03.702537Z",
     "shell.execute_reply": "2024-06-25T21:13:03.700752Z",
     "shell.execute_reply.started": "2024-06-25T21:13:03.525816Z"
    }
   },
   "outputs": [],
   "source": [
    "quantiles = []\n",
    "steps = []\n",
    "step = 50\n",
    "for i in range(int(step)+1):\n",
    "    q = requests[\"og_length\"].quantile(i/step)\n",
    "    # print(i/step, q)\n",
    "    quantiles.append(q)\n",
    "    steps.append(i/step)"
   ]
  },
  {
   "cell_type": "code",
   "execution_count": 48,
   "id": "6e55b850-c9d9-43e4-b0c6-b0e03cdd1838",
   "metadata": {
    "execution": {
     "iopub.execute_input": "2024-06-25T21:13:03.781236Z",
     "iopub.status.busy": "2024-06-25T21:13:03.780241Z",
     "iopub.status.idle": "2024-06-25T21:13:04.365098Z",
     "shell.execute_reply": "2024-06-25T21:13:04.362364Z",
     "shell.execute_reply.started": "2024-06-25T21:13:03.781171Z"
    }
   },
   "outputs": [
    {
     "data": {
      "image/png": "[encoded data removed]",
      "text/plain": [
       "<Figure size 640x480 with 1 Axes>"
      ]
     },
     "metadata": {},
     "output_type": "display_data"
    }
   ],
   "source": [
    "scatter(steps, quantiles,\n",
    "        \"2m Availability Window Length Distribution\",\n",
    "        \"Quantile (2% steps)\",\n",
    "        \"Availability Window Length (Hrs)\",\n",
    "        \"2m_availability_window_length_distribution\")"
   ]
  },
  {
   "cell_type": "code",
   "execution_count": 49,
   "id": "56f2eb10-18fe-48b6-8eac-71441dfa1f18",
   "metadata": {
    "execution": {
     "iopub.execute_input": "2024-06-25T21:13:04.369926Z",
     "iopub.status.busy": "2024-06-25T21:13:04.369164Z",
     "iopub.status.idle": "2024-06-25T21:13:04.864747Z",
     "shell.execute_reply": "2024-06-25T21:13:04.863164Z",
     "shell.execute_reply.started": "2024-06-25T21:13:04.369835Z"
    }
   },
   "outputs": [
    {
     "data": {
      "image/png": "[encoded data removed]",
      "text/plain": [
       "<Figure size 640x480 with 1 Axes>"
      ]
     },
     "metadata": {},
     "output_type": "display_data"
    }
   ],
   "source": [
    "scatter(steps[:-1], quantiles[:-1],\n",
    "        \"2m Availability Window Length Distribution (without outliers)\",\n",
    "        \"Quantile (2% steps)\",\n",
    "        \"Availability Window Length (Hrs)\",\n",
    "        \"2m_availability_window_length_distribution_without_outliers\")"
   ]
  },
  {
   "cell_type": "markdown",
   "id": "eaba08e5-afdb-4f71-b5df-2ee8575a2bd0",
   "metadata": {},
   "source": [
    "### Suggest values to split availability windows\n",
    "\n",
    "Determining what values to use to set as the availability windows to test.\n",
    "\n",
    "Using boundaries of 1hr and 24hrs gives us a 27%, 49%, 23% split."
   ]
  },
  {
   "cell_type": "code",
   "execution_count": 12,
   "id": "45d257c5-e58d-4d90-a3f9-625b6afba538",
   "metadata": {
    "execution": {
     "iopub.execute_input": "2024-06-25T23:54:51.592539Z",
     "iopub.status.busy": "2024-06-25T23:54:51.584640Z",
     "iopub.status.idle": "2024-06-25T23:54:52.803540Z",
     "shell.execute_reply": "2024-06-25T23:54:52.795658Z",
     "shell.execute_reply.started": "2024-06-25T23:54:51.590361Z"
    }
   },
   "outputs": [
    {
     "ename": "NameError",
     "evalue": "name 'requests' is not defined",
     "output_type": "error",
     "traceback": [
      "\u001b[0;31m---------------------------------------------------------------------------\u001b[0m",
      "\u001b[0;31mNameError\u001b[0m                                 Traceback (most recent call last)",
      "Cell \u001b[0;32mIn[12], line 1\u001b[0m\n\u001b[0;32m----> 1\u001b[0m split_on_limits(\u001b[43mrequests\u001b[49m, \u001b[38;5;124m\"\u001b[39m\u001b[38;5;124mog_length\u001b[39m\u001b[38;5;124m\"\u001b[39m, [\u001b[38;5;241m0\u001b[39m, \u001b[38;5;241m1\u001b[39m, \u001b[38;5;241m24\u001b[39m, \u001b[38;5;241m72\u001b[39m, \u001b[38;5;241m168\u001b[39m])\n",
      "\u001b[0;31mNameError\u001b[0m: name 'requests' is not defined"
     ]
    }
   ],
   "source": [
    "split_on_limits(requests, \"og_length\", [0, 1, 24, 72, 168])"
   ]
  },
  {
   "cell_type": "code",
   "execution_count": 51,
   "id": "a1e1b765-233a-4d32-ab71-1d0ae8219694",
   "metadata": {
    "execution": {
     "iopub.execute_input": "2024-06-25T21:13:25.879957Z",
     "iopub.status.busy": "2024-06-25T21:13:25.878906Z",
     "iopub.status.idle": "2024-06-25T21:13:26.586328Z",
     "shell.execute_reply": "2024-06-25T21:13:26.584215Z",
     "shell.execute_reply.started": "2024-06-25T21:13:25.879922Z"
    }
   },
   "outputs": [
    {
     "name": "stdout",
     "output_type": "stream",
     "text": [
      "0 -> 1: 17025\n",
      "1 -> 24: 2685\n",
      "24 -> 168: 47\n",
      "168 -> inf: 1\n"
     ]
    },
    {
     "data": {
      "image/png": "[encoded data removed]",
      "text/plain": [
       "<Figure size 640x480 with 1 Axes>"
      ]
     },
     "metadata": {},
     "output_type": "display_data"
    }
   ],
   "source": [
    "split_on_limits(calibration, \"og_length\", [0, 1, 24, 168])"
   ]
  },
  {
   "cell_type": "code",
   "execution_count": 60,
   "id": "38d7c0b1-91c1-4501-8b78-921c9741a05d",
   "metadata": {
    "execution": {
     "iopub.execute_input": "2024-06-24T17:23:47.967638Z",
     "iopub.status.busy": "2024-06-24T17:23:47.964982Z",
     "iopub.status.idle": "2024-06-24T17:23:48.622549Z",
     "shell.execute_reply": "2024-06-24T17:23:48.618349Z",
     "shell.execute_reply.started": "2024-06-24T17:23:47.967509Z"
    }
   },
   "outputs": [
    {
     "name": "stdout",
     "output_type": "stream",
     "text": [
      "0 1 19380\n",
      "1 24 35225\n",
      "24 168 15832\n",
      "168 100000000 943\n"
     ]
    },
    {
     "data": {
      "text/plain": [
       "<BarContainer object of 4 artists>"
      ]
     },
     "execution_count": 60,
     "metadata": {},
     "output_type": "execute_result"
    },
    {
     "data": {
      "image/png": "[encoded data removed]",
      "text/plain": [
       "<Figure size 640x480 with 1 Axes>"
      ]
     },
     "metadata": {},
     "output_type": "display_data"
    }
   ],
   "source": [
    "avw_limits = [0, 1, 24, 168]\n",
    "avw_counts = []\n",
    "for i in range(len(avw_limits)):\n",
    "    bottom_limit = avw_limits[i]\n",
    "    if (i+1) < len(avw_limits):\n",
    "        top_limit = avw_limits[i+1]\n",
    "    else:\n",
    "        top_limit = 100000000\n",
    "    avw_counts.append(requests[(requests[\"og_length\"]>bottom_limit) & (requests[\"og_length\"]<=top_limit)].shape[0])\n",
    "\n",
    "    print(bottom_limit, top_limit, avw_counts[i])\n",
    "\n",
    "labels = [\"<=\"+str(x) for x in avw_limits[1:]]\n",
    "labels.append(str(avw_limits[-1]) + \"+\")\n",
    "\n",
    "plt.bar(labels, avw_counts)"
   ]
  },
  {
   "cell_type": "code",
   "execution_count": 103,
   "id": "1d7af0f9-9d06-4c39-955f-7b10b8fb97ff",
   "metadata": {
    "execution": {
     "iopub.execute_input": "2024-06-24T17:33:50.317499Z",
     "iopub.status.busy": "2024-06-24T17:33:50.315895Z",
     "iopub.status.idle": "2024-06-24T17:33:50.838880Z",
     "shell.execute_reply": "2024-06-24T17:33:50.836392Z",
     "shell.execute_reply.started": "2024-06-24T17:33:50.317445Z"
    }
   },
   "outputs": [
    {
     "name": "stdout",
     "output_type": "stream",
     "text": [
      "0 0.2 175\n",
      "0.2 0.5 662\n",
      "0.5 1 18543\n",
      "1 6 3339\n",
      "6 16 7435\n",
      "16 24 24451\n",
      "24 48 4873\n",
      "48 72 2502\n",
      "72 96 771\n",
      "96 120 356\n",
      "120 144 287\n",
      "144 168 7043\n",
      "168 100000000 943\n"
     ]
    },
    {
     "data": {
      "text/plain": [
       "<BarContainer object of 13 artists>"
      ]
     },
     "execution_count": 103,
     "metadata": {},
     "output_type": "execute_result"
    },
    {
     "data": {
      "image/png": "[encoded data removed]",
      "text/plain": [
       "<Figure size 640x480 with 1 Axes>"
      ]
     },
     "metadata": {},
     "output_type": "display_data"
    }
   ],
   "source": [
    "avw_limits = [0, 0.2, 0.5, 1, 6, 16, 24, 48, 72, 96, 120, 144, 168]\n",
    "avw_counts = []\n",
    "for i in range(len(avw_limits)):\n",
    "    bottom_limit = avw_limits[i]\n",
    "    if (i+1) < len(avw_limits):\n",
    "        top_limit = avw_limits[i+1]\n",
    "    else:\n",
    "        top_limit = 100000000\n",
    "    avw_counts.append(requests[(requests[\"og_length\"]>bottom_limit) & (requests[\"og_length\"]<=top_limit)].shape[0])\n",
    "\n",
    "    print(bottom_limit, top_limit, avw_counts[i])\n",
    "\n",
    "labels = [str(x) for x in avw_limits[1:]]\n",
    "labels.append(str(avw_limits[-1]) + \"+\")\n",
    "\n",
    "plt.bar(labels, avw_counts)"
   ]
  },
  {
   "cell_type": "markdown",
   "id": "a837a34f-3ae2-4d79-b4f0-78a4b976e1fb",
   "metadata": {},
   "source": [
    "### Availability Windows with Target"
   ]
  },
  {
   "cell_type": "code",
   "execution_count": 102,
   "id": "dcced161-ae14-4011-9003-8593d3e56eba",
   "metadata": {
    "execution": {
     "iopub.execute_input": "2024-06-24T17:33:11.855956Z",
     "iopub.status.busy": "2024-06-24T17:33:11.854792Z",
     "iopub.status.idle": "2024-06-24T17:33:13.823052Z",
     "shell.execute_reply": "2024-06-24T17:33:13.820712Z",
     "shell.execute_reply.started": "2024-06-24T17:33:11.855910Z"
    }
   },
   "outputs": [
    {
     "name": "stdout",
     "output_type": "stream",
     "text": [
      "0 0.2 174\n",
      "0.2 0.5 600\n",
      "0.5 1 18240\n",
      "1 6 3107\n",
      "6 16 7056\n",
      "16 24 24024\n",
      "24 48 4783\n",
      "48 72 2450\n",
      "72 96 733\n",
      "96 120 341\n",
      "120 144 244\n",
      "144 168 7010\n",
      "168 100000000 874\n"
     ]
    },
    {
     "data": {
      "text/plain": [
       "Text(0.5, 1.0, 'Availability Windows for ICRS Targets')"
      ]
     },
     "execution_count": 102,
     "metadata": {},
     "output_type": "execute_result"
    },
    {
     "data": {
      "image/png": "[encoded data removed]",
      "text/plain": [
       "<Figure size 640x480 with 1 Axes>"
      ]
     },
     "metadata": {},
     "output_type": "display_data"
    }
   ],
   "source": [
    "# ICRS Targets\n",
    "vv1 = requests[requests[\"target_types\"] == ('ICRS',)]\n",
    "\n",
    "avw_limits = [0, 0.2, 0.5, 1, 6, 16, 24, 48, 72, 96, 120, 144, 168]\n",
    "avw_counts = []\n",
    "for i in range(len(avw_limits)):\n",
    "    bottom_limit = avw_limits[i]\n",
    "    if (i+1) < len(avw_limits):\n",
    "        top_limit = avw_limits[i+1]\n",
    "    else:\n",
    "        top_limit = 100000000\n",
    "    avw_counts.append(vv1[(vv1[\"og_length\"]>bottom_limit) & (vv1[\"og_length\"]<=top_limit)].shape[0])\n",
    "\n",
    "    print(bottom_limit, top_limit, avw_counts[i])\n",
    "\n",
    "labels = [str(x) for x in avw_limits[1:]]\n",
    "labels.append(str(avw_limits[-1]) + \"+\")\n",
    "\n",
    "plt.bar(labels, avw_counts)\n",
    "plt.title(\"Availability Windows for ICRS Targets\")"
   ]
  },
  {
   "cell_type": "code",
   "execution_count": 95,
   "id": "6af20bac-bc6a-4ed5-b61b-eb568bd30bdf",
   "metadata": {
    "execution": {
     "iopub.execute_input": "2024-06-24T17:31:59.379465Z",
     "iopub.status.busy": "2024-06-24T17:31:59.378860Z",
     "iopub.status.idle": "2024-06-24T17:31:59.402910Z",
     "shell.execute_reply": "2024-06-24T17:31:59.401651Z",
     "shell.execute_reply.started": "2024-06-24T17:31:59.379414Z"
    }
   },
   "outputs": [
    {
     "data": {
      "text/plain": [
       "16.125"
      ]
     },
     "execution_count": 95,
     "metadata": {},
     "output_type": "execute_result"
    }
   ],
   "source": [
    "vv1[\"og_length\"].quantile(0.42)"
   ]
  },
  {
   "cell_type": "code",
   "execution_count": 101,
   "id": "308b1bb1-1f8c-4688-a598-7b9533acfe07",
   "metadata": {
    "execution": {
     "iopub.execute_input": "2024-06-24T17:33:05.123488Z",
     "iopub.status.busy": "2024-06-24T17:33:05.120991Z",
     "iopub.status.idle": "2024-06-24T17:33:07.654187Z",
     "shell.execute_reply": "2024-06-24T17:33:07.652390Z",
     "shell.execute_reply.started": "2024-06-24T17:33:05.123406Z"
    }
   },
   "outputs": [
    {
     "name": "stdout",
     "output_type": "stream",
     "text": [
      "0 0.2 1\n",
      "0.2 0.5 62\n",
      "0.5 1 303\n",
      "1 6 204\n",
      "6 16 349\n",
      "16 24 425\n",
      "24 48 88\n",
      "48 72 52\n",
      "72 96 35\n",
      "96 120 15\n",
      "120 144 39\n",
      "144 168 33\n",
      "168 100000000 66\n"
     ]
    },
    {
     "data": {
      "text/plain": [
       "Text(0.5, 1.0, 'Availability Windows for ORBITAL_ELEMENTS Targets')"
      ]
     },
     "execution_count": 101,
     "metadata": {},
     "output_type": "execute_result"
    },
    {
     "data": {
      "image/png": "[encoded data removed]",
      "text/plain": [
       "<Figure size 640x480 with 1 Axes>"
      ]
     },
     "metadata": {},
     "output_type": "display_data"
    }
   ],
   "source": [
    "# Orbiting Element Targets\n",
    "vv2 = requests[requests[\"target_types\"] == ('ORBITAL_ELEMENTS',)]\n",
    "\n",
    "avw_limits = [0, 0.2, 0.5, 1, 6, 16, 24, 48, 72, 96, 120, 144, 168]\n",
    "avw_counts = []\n",
    "for i in range(len(avw_limits)):\n",
    "    bottom_limit = avw_limits[i]\n",
    "    if (i+1) < len(avw_limits):\n",
    "        top_limit = avw_limits[i+1]\n",
    "    else:\n",
    "        top_limit = 100000000\n",
    "    avw_counts.append(vv2[(vv2[\"og_length\"]>bottom_limit) & (vv2[\"og_length\"]<=top_limit)].shape[0])\n",
    "\n",
    "    print(bottom_limit, top_limit, avw_counts[i])\n",
    "\n",
    "labels = [str(x) for x in avw_limits[1:]]\n",
    "labels.append(str(avw_limits[-1]) + \"+\")\n",
    "\n",
    "plt.bar(labels, avw_counts)\n",
    "plt.title(\"Availability Windows for ORBITAL_ELEMENTS Targets\")"
   ]
  },
  {
   "cell_type": "code",
   "execution_count": 100,
   "id": "f43227d2-c473-4bc3-b608-699dcf023ffe",
   "metadata": {
    "execution": {
     "iopub.execute_input": "2024-06-24T17:32:19.544883Z",
     "iopub.status.busy": "2024-06-24T17:32:19.543335Z",
     "iopub.status.idle": "2024-06-24T17:32:19.556993Z",
     "shell.execute_reply": "2024-06-24T17:32:19.555805Z",
     "shell.execute_reply.started": "2024-06-24T17:32:19.544840Z"
    }
   },
   "outputs": [
    {
     "data": {
      "text/plain": [
       "16.0"
      ]
     },
     "execution_count": 100,
     "metadata": {},
     "output_type": "execute_result"
    }
   ],
   "source": [
    "vv2[\"og_length\"].quantile(0.54)"
   ]
  },
  {
   "cell_type": "code",
   "execution_count": 7,
   "id": "6598485b-3520-4b92-8f14-969529029c1a",
   "metadata": {
    "execution": {
     "iopub.execute_input": "2024-06-21T20:32:32.927313Z",
     "iopub.status.busy": "2024-06-21T20:32:32.926160Z",
     "iopub.status.idle": "2024-06-21T20:32:32.938863Z",
     "shell.execute_reply": "2024-06-21T20:32:32.936349Z",
     "shell.execute_reply.started": "2024-06-21T20:32:32.927238Z"
    }
   },
   "outputs": [
    {
     "name": "stdout",
     "output_type": "stream",
     "text": [
      "3660.512820512821\n",
      "3660.512820512821\n",
      "3660.512820512821\n",
      "915.1282051282052\n"
     ]
    }
   ],
   "source": [
    "weights = [4, 4, 4, 1]\n",
    "for w in weights:\n",
    "    print(w / sum(weights)*71380/6)"
   ]
  },
  {
   "cell_type": "code",
   "execution_count": 105,
   "id": "9b141468-254d-463e-be8e-4ab2377d3217",
   "metadata": {
    "execution": {
     "iopub.execute_input": "2024-06-22T17:14:27.630478Z",
     "iopub.status.busy": "2024-06-22T17:14:27.629607Z",
     "iopub.status.idle": "2024-06-22T17:14:27.660219Z",
     "shell.execute_reply": "2024-06-22T17:14:27.658971Z",
     "shell.execute_reply.started": "2024-06-22T17:14:27.630442Z"
    }
   },
   "outputs": [
    {
     "name": "stdout",
     "output_type": "stream",
     "text": [
      "0.0->0.2 (147, 12)\n",
      "0.2->0.4 (364, 12)\n",
      "0.4->0.6000000000000001 (471, 12)\n",
      "0.6->0.8 (148, 12)\n",
      "0.8->1.0 (162, 12)\n",
      "1.0->1.2 (18362, 12)\n"
     ]
    }
   ],
   "source": [
    "for j in range(0, 11, 2):\n",
    "    i = j/10\n",
    "    print(f\"{i}->{i+0.2}\", requests[(requests[\"og_length\"]>=i)&(requests[\"og_length\"]<i+0.2)].shape)"
   ]
  },
  {
   "cell_type": "code",
   "execution_count": 101,
   "id": "f696a155-3808-4395-b140-99139b66d688",
   "metadata": {
    "execution": {
     "iopub.execute_input": "2024-06-22T17:10:26.829541Z",
     "iopub.status.busy": "2024-06-22T17:10:26.828840Z",
     "iopub.status.idle": "2024-06-22T17:10:26.855555Z",
     "shell.execute_reply": "2024-06-22T17:10:26.852609Z",
     "shell.execute_reply.started": "2024-06-22T17:10:26.829511Z"
    }
   },
   "outputs": [
    {
     "data": {
      "text/plain": [
       "og_length\n",
       "1.000000    18196\n",
       "0.500000      159\n",
       "0.333333      135\n",
       "0.800000      124\n",
       "0.600000      108\n",
       "0.250000       96\n",
       "0.433333       93\n",
       "0.066667       43\n",
       "0.416667       39\n",
       "0.300000       31\n",
       "0.166667       29\n",
       "0.200000       28\n",
       "0.233333       20\n",
       "0.100000       20\n",
       "0.666667       19\n",
       "0.150000       18\n",
       "0.216667       16\n",
       "0.400000       15\n",
       "0.750000       14\n",
       "0.450000       13\n",
       "Name: count, dtype: int64"
      ]
     },
     "execution_count": 101,
     "metadata": {},
     "output_type": "execute_result"
    }
   ],
   "source": [
    "requests[requests[\"og_length\"]<=1.0].value_counts(\"og_length\").head(20)"
   ]
  },
  {
   "cell_type": "markdown",
   "id": "a22029da-df90-4f61-ae85-e2bb42169b5e",
   "metadata": {},
   "source": [
    "### Availability Histogram"
   ]
  },
  {
   "cell_type": "code",
   "execution_count": 44,
   "id": "83aad695-2689-4167-940f-b48c8e930d5b",
   "metadata": {
    "execution": {
     "iopub.execute_input": "2024-06-22T16:35:47.981603Z",
     "iopub.status.busy": "2024-06-22T16:35:47.981194Z",
     "iopub.status.idle": "2024-06-22T16:35:48.803107Z",
     "shell.execute_reply": "2024-06-22T16:35:48.802048Z",
     "shell.execute_reply.started": "2024-06-22T16:35:47.981577Z"
    }
   },
   "outputs": [
    {
     "data": {
      "image/png": "[encoded data removed]",
      "text/plain": [
       "<Figure size 640x480 with 1 Axes>"
      ]
     },
     "metadata": {},
     "output_type": "display_data"
    }
   ],
   "source": [
    "max_val = requests[\"og_length\"].max()\n",
    "histogram(requests[\"og_length\"],\n",
    "          [0, 1.1, 24.1, 168.1, max_val],\n",
    "          \"Availability Window Histogram\",\n",
    "          \"Availability Window Length (Hours)\",\n",
    "          \"Number of Requests\",\n",
    "          \"\")"
   ]
  },
  {
   "cell_type": "code",
   "execution_count": 51,
   "id": "edb937c9-26b8-4da9-95da-088c443e2c20",
   "metadata": {
    "execution": {
     "iopub.execute_input": "2024-06-22T16:37:55.593547Z",
     "iopub.status.busy": "2024-06-22T16:37:55.592644Z",
     "iopub.status.idle": "2024-06-22T16:37:55.608605Z",
     "shell.execute_reply": "2024-06-22T16:37:55.606552Z",
     "shell.execute_reply.started": "2024-06-22T16:37:55.593512Z"
    }
   },
   "outputs": [
    {
     "data": {
      "text/plain": [
       "2422236     200.766667\n",
       "2380149     200.938889\n",
       "2107503     202.883333\n",
       "2107572     202.883333\n",
       "2107573     202.883333\n",
       "              ...     \n",
       "2172119    5087.995000\n",
       "2172120    5087.995000\n",
       "2172015    5087.998056\n",
       "2170842    5111.983889\n",
       "2170857    5111.993056\n",
       "Name: og_length, Length: 630, dtype: float64"
      ]
     },
     "execution_count": 51,
     "metadata": {},
     "output_type": "execute_result"
    }
   ],
   "source": [
    "requests[requests[\"og_length\"]>200].sort_values(\"og_length\")[\"og_length\"]"
   ]
  },
  {
   "cell_type": "code",
   "execution_count": 73,
   "id": "fbde71f4-49b3-46f7-9b2e-686e63f49815",
   "metadata": {
    "execution": {
     "iopub.execute_input": "2024-06-22T16:52:33.633436Z",
     "iopub.status.busy": "2024-06-22T16:52:33.633100Z",
     "iopub.status.idle": "2024-06-22T16:52:41.600515Z",
     "shell.execute_reply": "2024-06-22T16:52:41.599347Z",
     "shell.execute_reply.started": "2024-06-22T16:52:33.633413Z"
    }
   },
   "outputs": [
    {
     "name": "stdout",
     "output_type": "stream",
     "text": [
      "(array([ 534, 1637,  463, ...,    0,    0,    2]), array([1.52527778e+00, 2.81417255e+00, 4.10306733e+00, ...,\n",
      "       5.10941527e+03, 5.11070416e+03, 5.11199306e+03]))\n"
     ]
    },
    {
     "data": {
      "image/png": "[encoded data removed]",
      "text/plain": [
       "<Figure size 640x480 with 1 Axes>"
      ]
     },
     "metadata": {},
     "output_type": "display_data"
    }
   ],
   "source": [
    "print(np.histogram(requests[requests[\"og_length\"]>1.5][\"og_length\"], bins=\"auto\"))\n",
    "plt.hist(requests[\"og_length\"], bins=\"auto\")\n",
    "# plt.yscale(\"log\")\n",
    "plt.xscale(\"log\")\n",
    "plt.show()"
   ]
  },
  {
   "cell_type": "code",
   "execution_count": 78,
   "id": "fbb933cc-88c2-454a-88bd-dff837148649",
   "metadata": {
    "execution": {
     "iopub.execute_input": "2024-06-22T16:54:12.416785Z",
     "iopub.status.busy": "2024-06-22T16:54:12.416003Z",
     "iopub.status.idle": "2024-06-22T16:54:12.923552Z",
     "shell.execute_reply": "2024-06-22T16:54:12.922361Z",
     "shell.execute_reply.started": "2024-06-22T16:54:12.416752Z"
    }
   },
   "outputs": [
    {
     "data": {
      "text/plain": [
       "(1.0, 35000.0)"
      ]
     },
     "execution_count": 78,
     "metadata": {},
     "output_type": "execute_result"
    },
    {
     "data": {
      "image/png": "[encoded data removed]",
      "text/plain": [
       "<Figure size 640x480 with 1 Axes>"
      ]
     },
     "metadata": {},
     "output_type": "display_data"
    }
   ],
   "source": [
    "eps = 10**(-5)\n",
    "bins = [0, 0.3+eps, 1+eps, 3+eps, 10+eps, 30+eps, 100+eps, 300+eps, 1000+eps, 5000+eps]\n",
    "x = requests[\"og_length\"]\n",
    "plt.hist(x, bins=bins)\n",
    "\n",
    "# x = requests[\"og_length\"]\n",
    "# _, bins = np.histogram(x, bins=\"auto\")\n",
    "# logbins = np.logspace(np.log10(bins[0]),np.log10(bins[-1]),len(bins))\n",
    "# plt.hist(x, bins=logbins)\n",
    "plt.xscale(\"log\")\n",
    "# plt.yscale(\"log\")\n",
    "plt.ylim(1, 35000)"
   ]
  },
  {
   "cell_type": "code",
   "execution_count": 66,
   "id": "3fb398b2-3708-4bfb-b1e0-4caf43074d8d",
   "metadata": {
    "execution": {
     "iopub.execute_input": "2024-06-22T16:48:02.031784Z",
     "iopub.status.busy": "2024-06-22T16:48:02.031141Z",
     "iopub.status.idle": "2024-06-22T16:48:02.224544Z",
     "shell.execute_reply": "2024-06-22T16:48:02.223001Z",
     "shell.execute_reply.started": "2024-06-22T16:48:02.031742Z"
    }
   },
   "outputs": [
    {
     "data": {
      "image/png": "[encoded data removed]",
      "text/plain": [
       "<Figure size 640x480 with 1 Axes>"
      ]
     },
     "metadata": {},
     "output_type": "display_data"
    }
   ],
   "source": [
    "max_value = round(requests[\"og_length\"].max())\n",
    "flat_hist(requests[\"og_length\"],\n",
    "          [0, 1.01, 24.01, 168.01, 10000000],\n",
    "          [\"<=1\", \"<=24\", \"<=168\", f\"168-{max_value}\"],\n",
    "          \"Availability Window Histogram\",\n",
    "          \"Availability Window Length (Hours)\",\n",
    "          \"Number of Requests\",\n",
    "          \"\")"
   ]
  },
  {
   "cell_type": "code",
   "execution_count": 107,
   "id": "68ffdcd3-d7b7-4ea7-8f82-7ea417211780",
   "metadata": {
    "execution": {
     "iopub.execute_input": "2024-06-22T17:33:27.995794Z",
     "iopub.status.busy": "2024-06-22T17:33:27.994657Z",
     "iopub.status.idle": "2024-06-22T17:33:28.029440Z",
     "shell.execute_reply": "2024-06-22T17:33:28.026895Z",
     "shell.execute_reply.started": "2024-06-22T17:33:27.995757Z"
    }
   },
   "outputs": [],
   "source": [
    "from dateutil.relativedelta import relativedelta"
   ]
  },
  {
   "cell_type": "code",
   "execution_count": 121,
   "id": "f2313136-a0a9-41db-924c-857b792d3aca",
   "metadata": {
    "execution": {
     "iopub.execute_input": "2024-06-22T17:41:48.448047Z",
     "iopub.status.busy": "2024-06-22T17:41:48.447105Z",
     "iopub.status.idle": "2024-06-22T17:41:48.961166Z",
     "shell.execute_reply": "2024-06-22T17:41:48.959688Z",
     "shell.execute_reply.started": "2024-06-22T17:41:48.448011Z"
    }
   },
   "outputs": [
    {
     "name": "stdout",
     "output_type": "stream",
     "text": [
      "2020-08-01 00:00:00 529\n",
      "2020-09-01 00:00:00 412\n",
      "2020-10-01 00:00:00 522\n",
      "2020-11-01 00:00:00 487\n",
      "2020-12-01 00:00:00 503\n",
      "2021-01-01 00:00:00 510\n",
      "2021-02-01 00:00:00 410\n",
      "2021-03-01 00:00:00 362\n",
      "2021-04-01 00:00:00 644\n",
      "2021-05-01 00:00:00 787\n",
      "2021-06-01 00:00:00 530\n",
      "2021-07-01 00:00:00 624\n",
      "2021-08-01 00:00:00 667\n",
      "2021-09-01 00:00:00 517\n",
      "2021-10-01 00:00:00 563\n",
      "2021-11-01 00:00:00 518\n",
      "2021-12-01 00:00:00 491\n",
      "2022-01-01 00:00:00 514\n",
      "2022-02-01 00:00:00 486\n",
      "2022-03-01 00:00:00 545\n",
      "2022-04-01 00:00:00 533\n",
      "2022-05-01 00:00:00 474\n",
      "2022-06-01 00:00:00 397\n",
      "2022-07-01 00:00:00 314\n"
     ]
    },
    {
     "data": {
      "image/png": "[encoded data removed]",
      "text/plain": [
       "<Figure size 640x480 with 1 Axes>"
      ]
     },
     "metadata": {},
     "output_type": "display_data"
    }
   ],
   "source": [
    "short = requests[requests[\"og_length\"]<=1.0]\n",
    "\n",
    "start_dates = []\n",
    "month_start = dt.datetime(2020, 8, 1)\n",
    "while month_start < dt.datetime(2022, 8, 2):\n",
    "    start_dates.append(month_start)\n",
    "    month_start += relativedelta(months=1)\n",
    "\n",
    "counts = []\n",
    "\n",
    "for i in range(len(start_dates)-1):\n",
    "    start = start_dates[i]\n",
    "    end = start_dates[i+1]\n",
    "    month_requests = short[(short[\"og_window_start\"]>start) & (short[\"og_window_start\"]<end)]\n",
    "    counts.append(len(month_requests))\n",
    "    print(start, len(month_requests))\n",
    "\n",
    "plt.scatter([str(x) for x in start_dates[:-1]], counts)\n",
    "plt.ylim(0, 1000)\n",
    "plt.show()\n",
    "    \n",
    "    \n",
    "\n",
    "\n",
    "# to_timestamp = np.vectorize(lambda x: x.timestamp())\n",
    "# time_stamps = to_timestamp(dt_array)\n",
    "# np.histogram(time_stamps)"
   ]
  },
  {
   "cell_type": "markdown",
   "id": "cafcc376-6b6c-40d8-9288-69ec199b7e5b",
   "metadata": {},
   "source": [
    "## Proposal Priority"
   ]
  },
  {
   "cell_type": "markdown",
   "id": "727acbcc-30b2-41d6-b95b-d92e1b46b5a5",
   "metadata": {},
   "source": [
    "### Plot Proposal Priority Distribution"
   ]
  },
  {
   "cell_type": "code",
   "execution_count": 16,
   "id": "4ab4e87d-4563-4c32-93fc-8f070cbc59ac",
   "metadata": {
    "execution": {
     "iopub.execute_input": "2024-06-21T09:58:03.013313Z",
     "iopub.status.busy": "2024-06-21T09:58:03.011362Z",
     "iopub.status.idle": "2024-06-21T09:58:03.075801Z",
     "shell.execute_reply": "2024-06-21T09:58:03.071496Z",
     "shell.execute_reply.started": "2024-06-21T09:58:03.013267Z"
    }
   },
   "outputs": [
    {
     "data": {
      "text/html": [
       "<div>\n",
       "<style scoped>\n",
       "    .dataframe tbody tr th:only-of-type {\n",
       "        vertical-align: middle;\n",
       "    }\n",
       "\n",
       "    .dataframe tbody tr th {\n",
       "        vertical-align: top;\n",
       "    }\n",
       "\n",
       "    .dataframe thead th {\n",
       "        text-align: right;\n",
       "    }\n",
       "</style>\n",
       "<table border=\"1\" class=\"dataframe\">\n",
       "  <thead>\n",
       "    <tr style=\"text-align: right;\">\n",
       "      <th></th>\n",
       "      <th>active</th>\n",
       "      <th>title</th>\n",
       "      <th>abstract</th>\n",
       "      <th>tac_priority</th>\n",
       "      <th>tac_rank</th>\n",
       "      <th>public</th>\n",
       "      <th>non_science</th>\n",
       "      <th>direct_submission</th>\n",
       "      <th>sca_id</th>\n",
       "      <th>tags</th>\n",
       "    </tr>\n",
       "    <tr>\n",
       "      <th>id</th>\n",
       "      <th></th>\n",
       "      <th></th>\n",
       "      <th></th>\n",
       "      <th></th>\n",
       "      <th></th>\n",
       "      <th></th>\n",
       "      <th></th>\n",
       "      <th></th>\n",
       "      <th></th>\n",
       "      <th></th>\n",
       "    </tr>\n",
       "  </thead>\n",
       "  <tbody>\n",
       "    <tr>\n",
       "      <th>LCOELP-002</th>\n",
       "      <td>False</td>\n",
       "      <td>Active W UMa stars</td>\n",
       "      <td></td>\n",
       "      <td>50</td>\n",
       "      <td>0</td>\n",
       "      <td>False</td>\n",
       "      <td>False</td>\n",
       "      <td>False</td>\n",
       "      <td>LCOGT</td>\n",
       "      <td>{}</td>\n",
       "    </tr>\n",
       "    <tr>\n",
       "      <th>CON2018A-006</th>\n",
       "      <td>False</td>\n",
       "      <td>AGN Reverberation Lags</td>\n",
       "      <td></td>\n",
       "      <td>25</td>\n",
       "      <td>6</td>\n",
       "      <td>False</td>\n",
       "      <td>False</td>\n",
       "      <td>False</td>\n",
       "      <td>LCOGT</td>\n",
       "      <td>{}</td>\n",
       "    </tr>\n",
       "    <tr>\n",
       "      <th>DDTELP-003</th>\n",
       "      <td>False</td>\n",
       "      <td>Astrophotography</td>\n",
       "      <td></td>\n",
       "      <td>50</td>\n",
       "      <td>0</td>\n",
       "      <td>False</td>\n",
       "      <td>False</td>\n",
       "      <td>False</td>\n",
       "      <td>LCOGT</td>\n",
       "      <td>{}</td>\n",
       "    </tr>\n",
       "    <tr>\n",
       "      <th>DDT2020A-004</th>\n",
       "      <td>False</td>\n",
       "      <td>Catch a Fading Star 2: High-Cadence Photometry...</td>\n",
       "      <td></td>\n",
       "      <td>20</td>\n",
       "      <td>4</td>\n",
       "      <td>False</td>\n",
       "      <td>False</td>\n",
       "      <td>False</td>\n",
       "      <td>LCO</td>\n",
       "      <td>{}</td>\n",
       "    </tr>\n",
       "    <tr>\n",
       "      <th>TAU2019B-007</th>\n",
       "      <td>False</td>\n",
       "      <td>changing-look AGNs</td>\n",
       "      <td></td>\n",
       "      <td>20</td>\n",
       "      <td>7</td>\n",
       "      <td>False</td>\n",
       "      <td>False</td>\n",
       "      <td>False</td>\n",
       "      <td>TAU</td>\n",
       "      <td>{}</td>\n",
       "    </tr>\n",
       "    <tr>\n",
       "      <th>...</th>\n",
       "      <td>...</td>\n",
       "      <td>...</td>\n",
       "      <td>...</td>\n",
       "      <td>...</td>\n",
       "      <td>...</td>\n",
       "      <td>...</td>\n",
       "      <td>...</td>\n",
       "      <td>...</td>\n",
       "      <td>...</td>\n",
       "      <td>...</td>\n",
       "    </tr>\n",
       "    <tr>\n",
       "      <th>SOAR2023B-020</th>\n",
       "      <td>False</td>\n",
       "      <td>Very Rapid-Response Spectroscopy of Supernovae...</td>\n",
       "      <td></td>\n",
       "      <td>20</td>\n",
       "      <td>20</td>\n",
       "      <td>False</td>\n",
       "      <td>False</td>\n",
       "      <td>False</td>\n",
       "      <td>SOAR</td>\n",
       "      <td>{}</td>\n",
       "    </tr>\n",
       "    <tr>\n",
       "      <th>FTPEPO2021A-001</th>\n",
       "      <td>True</td>\n",
       "      <td>Consolidated Activities Regarding Moon, Earth ...</td>\n",
       "      <td></td>\n",
       "      <td>13</td>\n",
       "      <td>1</td>\n",
       "      <td>True</td>\n",
       "      <td>False</td>\n",
       "      <td>False</td>\n",
       "      <td>FTP</td>\n",
       "      <td>{public}</td>\n",
       "    </tr>\n",
       "    <tr>\n",
       "      <th>KEY2023B-005</th>\n",
       "      <td>True</td>\n",
       "      <td>LCO follow up of TESS transiting planet candid...</td>\n",
       "      <td></td>\n",
       "      <td>30</td>\n",
       "      <td>5</td>\n",
       "      <td>False</td>\n",
       "      <td>False</td>\n",
       "      <td>False</td>\n",
       "      <td>SCICOLLAB</td>\n",
       "      <td>{}</td>\n",
       "    </tr>\n",
       "    <tr>\n",
       "      <th>SOAR2023B-005</th>\n",
       "      <td>False</td>\n",
       "      <td>Testing planetary formation paradigms via SOAR...</td>\n",
       "      <td></td>\n",
       "      <td>20</td>\n",
       "      <td>5</td>\n",
       "      <td>False</td>\n",
       "      <td>False</td>\n",
       "      <td>False</td>\n",
       "      <td>SOAR</td>\n",
       "      <td>{}</td>\n",
       "    </tr>\n",
       "    <tr>\n",
       "      <th>NSF2023B-014</th>\n",
       "      <td>True</td>\n",
       "      <td>White Dwarf Companions to Sub-Subgiants and Re...</td>\n",
       "      <td></td>\n",
       "      <td>30</td>\n",
       "      <td>14</td>\n",
       "      <td>False</td>\n",
       "      <td>False</td>\n",
       "      <td>False</td>\n",
       "      <td>NSF</td>\n",
       "      <td>{}</td>\n",
       "    </tr>\n",
       "  </tbody>\n",
       "</table>\n",
       "<p>2612 rows × 10 columns</p>\n",
       "</div>"
      ],
      "text/plain": [
       "                 active                                              title  \\\n",
       "id                                                                           \n",
       "LCOELP-002        False                                 Active W UMa stars   \n",
       "CON2018A-006      False                             AGN Reverberation Lags   \n",
       "DDTELP-003        False                                   Astrophotography   \n",
       "DDT2020A-004      False  Catch a Fading Star 2: High-Cadence Photometry...   \n",
       "TAU2019B-007      False                                 changing-look AGNs   \n",
       "...                 ...                                                ...   \n",
       "SOAR2023B-020     False  Very Rapid-Response Spectroscopy of Supernovae...   \n",
       "FTPEPO2021A-001    True  Consolidated Activities Regarding Moon, Earth ...   \n",
       "KEY2023B-005       True  LCO follow up of TESS transiting planet candid...   \n",
       "SOAR2023B-005     False  Testing planetary formation paradigms via SOAR...   \n",
       "NSF2023B-014       True  White Dwarf Companions to Sub-Subgiants and Re...   \n",
       "\n",
       "                abstract  tac_priority  tac_rank  public  non_science  \\\n",
       "id                                                                      \n",
       "LCOELP-002                          50         0   False        False   \n",
       "CON2018A-006                        25         6   False        False   \n",
       "DDTELP-003                          50         0   False        False   \n",
       "DDT2020A-004                        20         4   False        False   \n",
       "TAU2019B-007                        20         7   False        False   \n",
       "...                  ...           ...       ...     ...          ...   \n",
       "SOAR2023B-020                       20        20   False        False   \n",
       "FTPEPO2021A-001                     13         1    True        False   \n",
       "KEY2023B-005                        30         5   False        False   \n",
       "SOAR2023B-005                       20         5   False        False   \n",
       "NSF2023B-014                        30        14   False        False   \n",
       "\n",
       "                 direct_submission     sca_id      tags  \n",
       "id                                                       \n",
       "LCOELP-002                   False      LCOGT        {}  \n",
       "CON2018A-006                 False      LCOGT        {}  \n",
       "DDTELP-003                   False      LCOGT        {}  \n",
       "DDT2020A-004                 False        LCO        {}  \n",
       "TAU2019B-007                 False        TAU        {}  \n",
       "...                            ...        ...       ...  \n",
       "SOAR2023B-020                False       SOAR        {}  \n",
       "FTPEPO2021A-001              False        FTP  {public}  \n",
       "KEY2023B-005                 False  SCICOLLAB        {}  \n",
       "SOAR2023B-005                False       SOAR        {}  \n",
       "NSF2023B-014                 False        NSF        {}  \n",
       "\n",
       "[2612 rows x 10 columns]"
      ]
     },
     "execution_count": 16,
     "metadata": {},
     "output_type": "execute_result"
    }
   ],
   "source": []
  },
  {
   "cell_type": "code",
   "execution_count": 19,
   "id": "e76466d9-1551-439f-9ab2-be547592a1c2",
   "metadata": {
    "execution": {
     "iopub.execute_input": "2024-06-21T09:58:03.166250Z",
     "iopub.status.busy": "2024-06-21T09:58:03.164795Z",
     "iopub.status.idle": "2024-06-21T09:58:03.251713Z",
     "shell.execute_reply": "2024-06-21T09:58:03.250244Z",
     "shell.execute_reply.started": "2024-06-21T09:58:03.166204Z"
    }
   },
   "outputs": [
    {
     "name": "stdout",
     "output_type": "stream",
     "text": [
      "0.0 10.0\n",
      "0.02 10.0\n",
      "0.04 11.0\n",
      "0.06 11.0\n",
      "0.08 12.0\n",
      "0.1 12.5\n",
      "0.12 13.0\n",
      "0.14 13.0\n",
      "0.16 15.0\n",
      "0.18 16.0\n",
      "0.2 18.0\n",
      "0.22 18.0\n",
      "0.24 19.0\n",
      "0.26 19.0\n",
      "0.28 19.000000000000007\n",
      "0.3 20.0\n",
      "0.32 20.0\n",
      "0.34 20.0\n",
      "0.36 21.0\n",
      "0.38 21.0\n",
      "0.4 22.0\n",
      "0.42 22.0\n",
      "0.44 22.0\n",
      "0.46 24.0\n",
      "0.48 24.0\n",
      "0.5 25.0\n",
      "0.52 25.0\n",
      "0.54 25.0\n",
      "0.56 25.0\n",
      "0.58 25.0\n",
      "0.6 25.0\n",
      "0.62 25.0\n",
      "0.64 25.0\n",
      "0.66 25.0\n",
      "0.68 25.0\n",
      "0.7 25.0\n",
      "0.72 25.0\n",
      "0.74 25.5\n",
      "0.76 26.0\n",
      "0.78 27.0\n",
      "0.8 28.0\n",
      "0.82 28.0\n",
      "0.84 28.0\n",
      "0.86 29.0\n",
      "0.88 29.0\n",
      "0.9 30.0\n",
      "0.92 30.0\n",
      "0.94 30.0\n",
      "0.96 33.0\n",
      "0.98 550.0\n",
      "1.0 10000.0\n"
     ]
    }
   ],
   "source": [
    "quantiles = []\n",
    "steps = []\n",
    "step = 50\n",
    "for i in range(int(step)+1):\n",
    "    q = proposals_2m[\"tac_priority\"].quantile(i/step)\n",
    "    print(i/step, q)\n",
    "    quantiles.append(q)\n",
    "    steps.append(i/step)"
   ]
  },
  {
   "cell_type": "code",
   "execution_count": 20,
   "id": "d16f26d0-a90c-45a1-9c5f-297521bbcbef",
   "metadata": {
    "execution": {
     "iopub.execute_input": "2024-06-21T09:58:03.253915Z",
     "iopub.status.busy": "2024-06-21T09:58:03.253388Z",
     "iopub.status.idle": "2024-06-21T09:58:03.711248Z",
     "shell.execute_reply": "2024-06-21T09:58:03.709250Z",
     "shell.execute_reply.started": "2024-06-21T09:58:03.253882Z"
    }
   },
   "outputs": [
    {
     "data": {
      "image/png": "[encoded data removed]",
      "text/plain": [
       "<Figure size 640x480 with 1 Axes>"
      ]
     },
     "metadata": {},
     "output_type": "display_data"
    }
   ],
   "source": [
    "scatter(steps, quantiles,\n",
    "        \"2m Proposal Priority Distribution\",\n",
    "        \"Quantile (2% steps)\",\n",
    "        \"Proposal Priority\",\n",
    "        \"2m_proposal_priority_distribution\")"
   ]
  },
  {
   "cell_type": "code",
   "execution_count": 21,
   "id": "c917eb60-5906-4eaf-9d7f-79f6707ab325",
   "metadata": {
    "execution": {
     "iopub.execute_input": "2024-06-21T09:58:03.713957Z",
     "iopub.status.busy": "2024-06-21T09:58:03.713249Z",
     "iopub.status.idle": "2024-06-21T09:58:04.332694Z",
     "shell.execute_reply": "2024-06-21T09:58:04.331276Z",
     "shell.execute_reply.started": "2024-06-21T09:58:03.713911Z"
    }
   },
   "outputs": [
    {
     "data": {
      "image/png": "[encoded data removed]",
      "text/plain": [
       "<Figure size 640x480 with 1 Axes>"
      ]
     },
     "metadata": {},
     "output_type": "display_data"
    }
   ],
   "source": [
    "scatter(steps[:-2], quantiles[:-2],\n",
    "        \"2m Proposal Priority Distribution (without outliers)\",\n",
    "        \"Quantile (2% steps)\",\n",
    "        \"Proposal Priority\",\n",
    "        \"2m_proposal_priority_distribution_without_outliers\")"
   ]
  },
  {
   "cell_type": "markdown",
   "id": "d9b90141-b505-46c8-b277-920382ce51c2",
   "metadata": {},
   "source": [
    "### Suggest Values to split Priorities\n",
    "Determining what priority values to use to divide the proposals into bands.\n",
    "\n",
    "Using boundaries of 20 and 25 gives us a 36%, 39%, 24% split."
   ]
  },
  {
   "cell_type": "code",
   "execution_count": 22,
   "id": "b1377709-88a9-4ea6-b36d-2d9a1bc096c9",
   "metadata": {
    "execution": {
     "iopub.execute_input": "2024-06-21T09:58:04.334523Z",
     "iopub.status.busy": "2024-06-21T09:58:04.334164Z",
     "iopub.status.idle": "2024-06-21T09:58:04.355516Z",
     "shell.execute_reply": "2024-06-21T09:58:04.353202Z",
     "shell.execute_reply.started": "2024-06-21T09:58:04.334496Z"
    }
   },
   "outputs": [
    {
     "data": {
      "text/html": [
       "<div>\n",
       "<style scoped>\n",
       "    .dataframe tbody tr th:only-of-type {\n",
       "        vertical-align: middle;\n",
       "    }\n",
       "\n",
       "    .dataframe tbody tr th {\n",
       "        vertical-align: top;\n",
       "    }\n",
       "\n",
       "    .dataframe thead th {\n",
       "        text-align: right;\n",
       "    }\n",
       "</style>\n",
       "<table border=\"1\" class=\"dataframe\">\n",
       "  <thead>\n",
       "    <tr style=\"text-align: right;\">\n",
       "      <th></th>\n",
       "      <th>tac_priority</th>\n",
       "    </tr>\n",
       "    <tr>\n",
       "      <th>id</th>\n",
       "      <th></th>\n",
       "    </tr>\n",
       "  </thead>\n",
       "  <tbody>\n",
       "    <tr>\n",
       "      <th>NSF2022A-009</th>\n",
       "      <td>10000</td>\n",
       "    </tr>\n",
       "    <tr>\n",
       "      <th>COJ_calib</th>\n",
       "      <td>1000</td>\n",
       "    </tr>\n",
       "    <tr>\n",
       "      <th>OGG_calib</th>\n",
       "      <td>1000</td>\n",
       "    </tr>\n",
       "    <tr>\n",
       "      <th>LCOEngineering</th>\n",
       "      <td>1000</td>\n",
       "    </tr>\n",
       "    <tr>\n",
       "      <th>FLOYDS standards</th>\n",
       "      <td>100</td>\n",
       "    </tr>\n",
       "    <tr>\n",
       "      <th>MuSCAT Commissioning</th>\n",
       "      <td>40</td>\n",
       "    </tr>\n",
       "    <tr>\n",
       "      <th>KEY2020B-002</th>\n",
       "      <td>35</td>\n",
       "    </tr>\n",
       "    <tr>\n",
       "      <th>DDT2021A-011</th>\n",
       "      <td>33</td>\n",
       "    </tr>\n",
       "    <tr>\n",
       "      <th>SUPA2021A-006</th>\n",
       "      <td>30</td>\n",
       "    </tr>\n",
       "    <tr>\n",
       "      <th>KEY2018B-001</th>\n",
       "      <td>30</td>\n",
       "    </tr>\n",
       "  </tbody>\n",
       "</table>\n",
       "</div>"
      ],
      "text/plain": [
       "                      tac_priority\n",
       "id                                \n",
       "NSF2022A-009                 10000\n",
       "COJ_calib                     1000\n",
       "OGG_calib                     1000\n",
       "LCOEngineering                1000\n",
       "FLOYDS standards               100\n",
       "MuSCAT Commissioning            40\n",
       "KEY2020B-002                    35\n",
       "DDT2021A-011                    33\n",
       "SUPA2021A-006                   30\n",
       "KEY2018B-001                    30"
      ]
     },
     "execution_count": 22,
     "metadata": {},
     "output_type": "execute_result"
    }
   ],
   "source": [
    "proposals_2m.sort_values(\"tac_priority\", ascending=False)[[\"tac_priority\"]].head(10)"
   ]
  },
  {
   "cell_type": "code",
   "execution_count": 23,
   "id": "7550790e-3a84-4b63-8184-1a42856ef7c8",
   "metadata": {
    "execution": {
     "iopub.execute_input": "2024-06-21T09:58:04.365952Z",
     "iopub.status.busy": "2024-06-21T09:58:04.363387Z",
     "iopub.status.idle": "2024-06-21T09:58:04.400330Z",
     "shell.execute_reply": "2024-06-21T09:58:04.397395Z",
     "shell.execute_reply.started": "2024-06-21T09:58:04.365868Z"
    }
   },
   "outputs": [
    {
     "name": "stdout",
     "output_type": "stream",
     "text": [
      "36.25730994152047\n",
      "39.76608187134503\n",
      "23.976608187134502\n"
     ]
    }
   ],
   "source": [
    "req_proposals = proposals_2m.drop(index=[\"COJ_calib\", \"OGG_calib\", \n",
    "                                         \"LCOEngineering\", \"FLOYDS standards\",\n",
    "                                         \"MuSCAT Commissioning\"])\n",
    "\n",
    "prop_short = req_proposals[req_proposals[\"tac_priority\"] <= 20.0]\n",
    "prop_medium = req_proposals[(20.0 < req_proposals[\"tac_priority\"]) & (req_proposals[\"tac_priority\"] <= 25.0)]\n",
    "prop_long = req_proposals[25.0 < req_proposals[\"tac_priority\"]]\n",
    "\n",
    "counts = [len(prop_short), len(prop_medium), len(prop_long)]\n",
    "for c in counts:\n",
    "    print(c/sum(counts)*100)"
   ]
  },
  {
   "cell_type": "code",
   "execution_count": 34,
   "id": "9eeee409-8b51-48f3-bbfc-70e5d7e9f99e",
   "metadata": {
    "execution": {
     "iopub.execute_input": "2024-06-25T20:59:19.873146Z",
     "iopub.status.busy": "2024-06-25T20:59:19.871870Z",
     "iopub.status.idle": "2024-06-25T20:59:19.939144Z",
     "shell.execute_reply": "2024-06-25T20:59:19.936619Z",
     "shell.execute_reply.started": "2024-06-25T20:59:19.873072Z"
    }
   },
   "outputs": [
    {
     "data": {
      "text/plain": [
       "['OGG_calib',\n",
       " 'standard',\n",
       " 'auto_focus',\n",
       " 'LCOEngineering',\n",
       " 'COJ_calib',\n",
       " 'FLOYDS standards',\n",
       " 'Photometric standards']"
      ]
     },
     "execution_count": 34,
     "metadata": {},
     "output_type": "execute_result"
    }
   ],
   "source": [
    "proposals_2m[proposals_2m[\"non_science\"]].index.tolist()"
   ]
  },
  {
   "cell_type": "markdown",
   "id": "0315f932-f0a2-4ecd-9039-fc50648cf429",
   "metadata": {},
   "source": [
    "## Flexibility"
   ]
  },
  {
   "cell_type": "code",
   "execution_count": 66,
   "id": "e761818e-4356-4ec8-9f6c-8a27eee2f9af",
   "metadata": {
    "execution": {
     "iopub.execute_input": "2024-06-26T23:52:23.737161Z",
     "iopub.status.busy": "2024-06-26T23:52:23.736737Z",
     "iopub.status.idle": "2024-06-26T23:52:24.407103Z",
     "shell.execute_reply": "2024-06-26T23:52:24.404963Z",
     "shell.execute_reply.started": "2024-06-26T23:52:23.737128Z"
    }
   },
   "outputs": [
    {
     "data": {
      "text/plain": [
       "<matplotlib.collections.PathCollection at 0x7fe23939e290>"
      ]
     },
     "execution_count": 66,
     "metadata": {},
     "output_type": "execute_result"
    },
    {
     "data": {
      "image/png": "[encoded data removed]",
      "text/plain": [
       "<Figure size 640x480 with 1 Axes>"
      ]
     },
     "metadata": {},
     "output_type": "display_data"
    }
   ],
   "source": [
    "plt.scatter(requests[\"flexibility\"], requests[\"state\"])"
   ]
  },
  {
   "cell_type": "code",
   "execution_count": 67,
   "id": "fc4df876-5383-4f8e-9382-03ebc62b1f3b",
   "metadata": {
    "execution": {
     "iopub.execute_input": "2024-06-26T23:53:03.179209Z",
     "iopub.status.busy": "2024-06-26T23:53:03.178168Z",
     "iopub.status.idle": "2024-06-26T23:53:03.262512Z",
     "shell.execute_reply": "2024-06-26T23:53:03.259949Z",
     "shell.execute_reply.started": "2024-06-26T23:53:03.179157Z"
    }
   },
   "outputs": [
    {
     "data": {
      "text/plain": [
       "state\n",
       "WINDOW_EXPIRED           29686\n",
       "COMPLETED                16912\n",
       "CANCELED                  4587\n",
       "FAILURE_LIMIT_REACHED      421\n",
       "Name: count, dtype: int64"
      ]
     },
     "execution_count": 67,
     "metadata": {},
     "output_type": "execute_result"
    }
   ],
   "source": [
    "requests.value_counts(\"state\")"
   ]
  },
  {
   "cell_type": "markdown",
   "id": "878e9adc-2dab-42c6-81c7-0b12cdf481d5",
   "metadata": {},
   "source": [
    "Not sure how to represent this. But it looks like more flexible observations ARE getting scheduled, at least on the 2m telescopes, while the less flexible observations are more likely to get cancelled. This is a scenario that makes sense if the telescope is undersubscribed, as there should be enough space to fit everything in eventually."
   ]
  },
  {
   "cell_type": "code",
   "execution_count": 82,
   "id": "4533f1db-06b2-4a84-aec5-edaf81972d24",
   "metadata": {
    "execution": {
     "iopub.execute_input": "2024-06-26T23:57:18.083911Z",
     "iopub.status.busy": "2024-06-26T23:57:18.083008Z",
     "iopub.status.idle": "2024-06-26T23:57:19.277976Z",
     "shell.execute_reply": "2024-06-26T23:57:19.275273Z",
     "shell.execute_reply.started": "2024-06-26T23:57:18.083876Z"
    }
   },
   "outputs": [
    {
     "data": {
      "image/png": "[encoded data removed]",
      "text/plain": [
       "<Figure size 640x480 with 1 Axes>"
      ]
     },
     "metadata": {},
     "output_type": "display_data"
    }
   ],
   "source": [
    "plt.scatter(requests[\"flexibility\"], requests[\"total_duration\"])\n",
    "plt.yscale(\"log\")\n",
    "plt.ylim([170, 40000])\n",
    "plt.xscale(\"log\")\n",
    "plt.show()"
   ]
  },
  {
   "cell_type": "code",
   "execution_count": 76,
   "id": "4b16c7e0-6fb0-4ab2-aa54-df397defacca",
   "metadata": {
    "execution": {
     "iopub.execute_input": "2024-06-26T23:56:38.849565Z",
     "iopub.status.busy": "2024-06-26T23:56:38.848181Z",
     "iopub.status.idle": "2024-06-26T23:56:38.876377Z",
     "shell.execute_reply": "2024-06-26T23:56:38.873149Z",
     "shell.execute_reply.started": "2024-06-26T23:56:38.849508Z"
    }
   },
   "outputs": [
    {
     "data": {
      "text/plain": [
       "32399"
      ]
     },
     "execution_count": 76,
     "metadata": {},
     "output_type": "execute_result"
    }
   ],
   "source": [
    "requests[\"total_duration\"].max()"
   ]
  },
  {
   "cell_type": "code",
   "execution_count": 83,
   "id": "11d91041-4dad-4795-b8d6-624dec177e34",
   "metadata": {
    "execution": {
     "iopub.execute_input": "2024-06-27T00:07:41.142380Z",
     "iopub.status.busy": "2024-06-27T00:07:41.121947Z",
     "iopub.status.idle": "2024-06-27T00:07:41.899966Z",
     "shell.execute_reply": "2024-06-27T00:07:41.894548Z",
     "shell.execute_reply.started": "2024-06-27T00:07:41.142103Z"
    }
   },
   "outputs": [
    {
     "data": {
      "text/html": [
       "<div>\n",
       "<style scoped>\n",
       "    .dataframe tbody tr th:only-of-type {\n",
       "        vertical-align: middle;\n",
       "    }\n",
       "\n",
       "    .dataframe tbody tr th {\n",
       "        vertical-align: top;\n",
       "    }\n",
       "\n",
       "    .dataframe thead th {\n",
       "        text-align: right;\n",
       "    }\n",
       "</style>\n",
       "<table border=\"1\" class=\"dataframe\">\n",
       "  <thead>\n",
       "    <tr style=\"text-align: right;\">\n",
       "      <th></th>\n",
       "      <th>id</th>\n",
       "      <th>state</th>\n",
       "    </tr>\n",
       "  </thead>\n",
       "  <tbody>\n",
       "    <tr>\n",
       "      <th>0</th>\n",
       "      <td>3053362</td>\n",
       "      <td>WINDOW_EXPIRED</td>\n",
       "    </tr>\n",
       "    <tr>\n",
       "      <th>1</th>\n",
       "      <td>3097579</td>\n",
       "      <td>COMPLETED</td>\n",
       "    </tr>\n",
       "    <tr>\n",
       "      <th>2</th>\n",
       "      <td>3057472</td>\n",
       "      <td>COMPLETED</td>\n",
       "    </tr>\n",
       "    <tr>\n",
       "      <th>3</th>\n",
       "      <td>3112564</td>\n",
       "      <td>COMPLETED</td>\n",
       "    </tr>\n",
       "    <tr>\n",
       "      <th>4</th>\n",
       "      <td>3112973</td>\n",
       "      <td>COMPLETED</td>\n",
       "    </tr>\n",
       "    <tr>\n",
       "      <th>...</th>\n",
       "      <td>...</td>\n",
       "      <td>...</td>\n",
       "    </tr>\n",
       "    <tr>\n",
       "      <th>1062601</th>\n",
       "      <td>2327326</td>\n",
       "      <td>WINDOW_EXPIRED</td>\n",
       "    </tr>\n",
       "    <tr>\n",
       "      <th>1062602</th>\n",
       "      <td>2327327</td>\n",
       "      <td>WINDOW_EXPIRED</td>\n",
       "    </tr>\n",
       "    <tr>\n",
       "      <th>1062603</th>\n",
       "      <td>2327328</td>\n",
       "      <td>COMPLETED</td>\n",
       "    </tr>\n",
       "    <tr>\n",
       "      <th>1062604</th>\n",
       "      <td>2327329</td>\n",
       "      <td>COMPLETED</td>\n",
       "    </tr>\n",
       "    <tr>\n",
       "      <th>1062605</th>\n",
       "      <td>2327330</td>\n",
       "      <td>COMPLETED</td>\n",
       "    </tr>\n",
       "  </tbody>\n",
       "</table>\n",
       "<p>1062606 rows × 2 columns</p>\n",
       "</div>"
      ],
      "text/plain": [
       "              id           state\n",
       "0        3053362  WINDOW_EXPIRED\n",
       "1        3097579       COMPLETED\n",
       "2        3057472       COMPLETED\n",
       "3        3112564       COMPLETED\n",
       "4        3112973       COMPLETED\n",
       "...          ...             ...\n",
       "1062601  2327326  WINDOW_EXPIRED\n",
       "1062602  2327327  WINDOW_EXPIRED\n",
       "1062603  2327328       COMPLETED\n",
       "1062604  2327329       COMPLETED\n",
       "1062605  2327330       COMPLETED\n",
       "\n",
       "[1062606 rows x 2 columns]"
      ]
     },
     "execution_count": 83,
     "metadata": {},
     "output_type": "execute_result"
    }
   ],
   "source": [
    "request_data"
   ]
  },
  {
   "cell_type": "code",
   "execution_count": 86,
   "id": "6274f1b8-df8c-4a53-bef3-22a1dc986ee6",
   "metadata": {
    "execution": {
     "iopub.execute_input": "2024-06-27T00:09:37.149483Z",
     "iopub.status.busy": "2024-06-27T00:09:37.147843Z",
     "iopub.status.idle": "2024-06-27T00:10:16.928299Z",
     "shell.execute_reply": "2024-06-27T00:10:16.884827Z",
     "shell.execute_reply.started": "2024-06-27T00:09:37.149436Z"
    }
   },
   "outputs": [],
   "source": [
    "a1 = pd.read_pickle(\"condensed_2m/2m_large_all.pkldf\")"
   ]
  },
  {
   "cell_type": "code",
   "execution_count": 87,
   "id": "50ddd35c-7360-4351-bdf4-591715aa64bd",
   "metadata": {
    "execution": {
     "iopub.execute_input": "2024-06-27T00:10:17.038350Z",
     "iopub.status.busy": "2024-06-27T00:10:17.033736Z",
     "iopub.status.idle": "2024-06-27T00:10:17.244931Z",
     "shell.execute_reply": "2024-06-27T00:10:17.234992Z",
     "shell.execute_reply.started": "2024-06-27T00:10:17.035536Z"
    }
   },
   "outputs": [
    {
     "data": {
      "text/plain": [
       "Index(['original_windows', 'windows', 'id', 'ipp_value', 'created',\n",
       "       'proposal_id', 'optimization_type', 'total_duration',\n",
       "       'acceptibility_cutoff', 'valid_telescopes', 'target_constraint_pairs'],\n",
       "      dtype='object')"
      ]
     },
     "execution_count": 87,
     "metadata": {},
     "output_type": "execute_result"
    }
   ],
   "source": [
    "a1.columns"
   ]
  },
  {
   "cell_type": "code",
   "execution_count": null,
   "id": "b040ad97-805c-476b-876a-019d499cf3de",
   "metadata": {},
   "outputs": [],
   "source": []
  }
 ],
 "metadata": {
  "kernelspec": {
   "display_name": "Python 3 (ipykernel)",
   "language": "python",
   "name": "python3"
  },
  "language_info": {
   "codemirror_mode": {
    "name": "ipython",
    "version": 3
   },
   "file_extension": ".py",
   "mimetype": "text/x-python",
   "name": "python",
   "nbconvert_exporter": "python",
   "pygments_lexer": "ipython3",
   "version": "3.10.11"
  }
 },
 "nbformat": 4,
 "nbformat_minor": 5
}
