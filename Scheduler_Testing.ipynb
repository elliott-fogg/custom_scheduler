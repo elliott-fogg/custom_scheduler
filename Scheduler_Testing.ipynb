{
 "cells": [
  {
   "cell_type": "markdown",
   "id": "cb1b6e6f-639d-4031-ad33-637716b718b2",
   "metadata": {},
   "source": [
    "# Testing Scheduler with different Solvers"
   ]
  },
  {
   "cell_type": "markdown",
   "id": "ad06df51-4381-400d-93ec-e7e462bb9e96",
   "metadata": {},
   "source": [
    "### Import Libraries"
   ]
  },
  {
   "cell_type": "code",
   "execution_count": 3,
   "id": "818bbf45-3fe7-47f5-8a95-f668ad81146d",
   "metadata": {
    "execution": {
     "iopub.execute_input": "2024-03-08T17:07:41.378763Z",
     "iopub.status.busy": "2024-03-08T17:07:41.377762Z",
     "iopub.status.idle": "2024-03-08T17:07:41.393591Z",
     "shell.execute_reply": "2024-03-08T17:07:41.391598Z",
     "shell.execute_reply.started": "2024-03-08T17:07:41.378763Z"
    }
   },
   "outputs": [],
   "source": [
    "import random\n",
    "import test_template_from_file as tt\n",
    "from ScheduleSimulator import SchedulerSimulation\n",
    "import json\n",
    "from copy import deepcopy"
   ]
  },
  {
   "cell_type": "code",
   "execution_count": 8,
   "id": "c83cd925-bf8b-4182-8f77-3089772627f0",
   "metadata": {
    "execution": {
     "iopub.execute_input": "2024-03-08T17:07:41.399541Z",
     "iopub.status.busy": "2024-03-08T17:07:41.397537Z",
     "iopub.status.idle": "2024-03-08T17:07:41.423734Z",
     "shell.execute_reply": "2024-03-08T17:07:41.422688Z",
     "shell.execute_reply.started": "2024-03-08T17:07:41.399541Z"
    }
   },
   "outputs": [],
   "source": [
    "input_data = json.load(open(\"data/test_input/performanceTest1_100Requests_0.json\", \"r\"))\n",
    "sim = SchedulerSimulation(data=input_data)"
   ]
  },
  {
   "cell_type": "code",
   "execution_count": 9,
   "id": "052fe08a-2884-4398-ade4-96ce18e14fdd",
   "metadata": {
    "execution": {
     "iopub.execute_input": "2024-03-08T17:07:41.424692Z",
     "iopub.status.busy": "2024-03-08T17:07:41.424692Z",
     "iopub.status.idle": "2024-03-08T17:07:41.440155Z",
     "shell.execute_reply": "2024-03-08T17:07:41.439159Z",
     "shell.execute_reply.started": "2024-03-08T17:07:41.424692Z"
    }
   },
   "outputs": [],
   "source": [
    "next_events = sim.get_next_events()"
   ]
  },
  {
   "cell_type": "code",
   "execution_count": 10,
   "id": "a275f0be-3f3d-48cf-adc9-8b0bc15f5ad6",
   "metadata": {
    "execution": {
     "iopub.execute_input": "2024-03-08T17:07:41.443159Z",
     "iopub.status.busy": "2024-03-08T17:07:41.443159Z",
     "iopub.status.idle": "2024-03-08T17:07:41.479644Z",
     "shell.execute_reply": "2024-03-08T17:07:41.478646Z",
     "shell.execute_reply.started": "2024-03-08T17:07:41.443159Z"
    }
   },
   "outputs": [],
   "source": [
    "sim.process_event_group(next_events)"
   ]
  },
  {
   "cell_type": "code",
   "execution_count": 11,
   "id": "3c872fe4-2b1e-491b-b098-0a68d1cbf92d",
   "metadata": {
    "execution": {
     "iopub.execute_input": "2024-03-08T17:07:41.484644Z",
     "iopub.status.busy": "2024-03-08T17:07:41.483644Z",
     "iopub.status.idle": "2024-03-08T17:07:41.568333Z",
     "shell.execute_reply": "2024-03-08T17:07:41.565818Z",
     "shell.execute_reply.started": "2024-03-08T17:07:41.483644Z"
    }
   },
   "outputs": [
    {
     "data": {
      "text/plain": [
       "{'now': 0,\n",
       " 'horizon': 604800,\n",
       " 'slice_size': 300,\n",
       " 'resources': {'telescope_0': [{'start': 0, 'end': 16200},\n",
       "   {'start': 61200, 'end': 102600},\n",
       "   {'start': 147600, 'end': 189000},\n",
       "   {'start': 234000, 'end': 275400},\n",
       "   {'start': 320400, 'end': 361800},\n",
       "   {'start': 406800, 'end': 448200},\n",
       "   {'start': 493200, 'end': 534600},\n",
       "   {'start': 579600, 'end': 604800}]},\n",
       " 'proposals': {'proposal_0': {'tac_priority': 25},\n",
       "  'proposal_1': {'tac_priority': 20},\n",
       "  'proposal_2': {'tac_priority': 25},\n",
       "  'proposal_3': {'tac_priority': 30},\n",
       "  'proposal_4': {'tac_priority': 25}},\n",
       " 'requests': {'0': {'windows': {'telescope_0': [{'start': 91722,\n",
       "      'end': 109763}]},\n",
       "   'duration': 2240,\n",
       "   'proposal': 'proposal_3',\n",
       "   'resID': 0},\n",
       "  '1': {'windows': {'telescope_0': [{'start': 66057, 'end': 71472}]},\n",
       "   'duration': 600,\n",
       "   'proposal': 'proposal_1',\n",
       "   'resID': 1},\n",
       "  '2': {'windows': {'telescope_0': [{'start': 186995, 'end': 237632}]},\n",
       "   'duration': 6490,\n",
       "   'proposal': 'proposal_2',\n",
       "   'resID': 2},\n",
       "  '3': {'windows': {'telescope_0': [{'start': 213244, 'end': 226336}]},\n",
       "   'duration': 2260,\n",
       "   'proposal': 'proposal_4',\n",
       "   'resID': 3},\n",
       "  '4': {'windows': {'telescope_0': [{'start': 220701, 'end': 226464}]},\n",
       "   'duration': 1520,\n",
       "   'proposal': 'proposal_2',\n",
       "   'resID': 4},\n",
       "  '5': {'windows': {'telescope_0': [{'start': 131294, 'end': 131408}]},\n",
       "   'duration': 60,\n",
       "   'proposal': 'proposal_4',\n",
       "   'resID': 5},\n",
       "  '6': {'windows': {'telescope_0': [{'start': 167083, 'end': 168787}]},\n",
       "   'duration': 600,\n",
       "   'proposal': 'proposal_3',\n",
       "   'resID': 6},\n",
       "  '7': {'windows': {'telescope_0': [{'start': 243440, 'end': 247453}]},\n",
       "   'duration': 1200,\n",
       "   'proposal': 'proposal_4',\n",
       "   'resID': 7},\n",
       "  '8': {'windows': {'telescope_0': [{'start': 254044, 'end': 260004}]},\n",
       "   'duration': 3240,\n",
       "   'proposal': 'proposal_0',\n",
       "   'resID': 8},\n",
       "  '9': {'windows': {'telescope_0': [{'start': 100740, 'end': 101754}]},\n",
       "   'duration': 120,\n",
       "   'proposal': 'proposal_2',\n",
       "   'resID': 9},\n",
       "  '10': {'windows': {'telescope_0': [{'start': 277307, 'end': 277683}]},\n",
       "   'duration': 240,\n",
       "   'proposal': 'proposal_1',\n",
       "   'resID': 10},\n",
       "  '11': {'windows': {'telescope_0': [{'start': 242881, 'end': 275111}]},\n",
       "   'duration': 3320,\n",
       "   'proposal': 'proposal_3',\n",
       "   'resID': 11},\n",
       "  '12': {'windows': {'telescope_0': [{'start': 264626, 'end': 286989}]},\n",
       "   'duration': 2250,\n",
       "   'proposal': 'proposal_3',\n",
       "   'resID': 12},\n",
       "  '13': {'windows': {'telescope_0': [{'start': 213664, 'end': 227196}]},\n",
       "   'duration': 2270,\n",
       "   'proposal': 'proposal_4',\n",
       "   'resID': 13},\n",
       "  '14': {'windows': {'telescope_0': [{'start': 61448, 'end': 67028}]},\n",
       "   'duration': 600,\n",
       "   'proposal': 'proposal_4',\n",
       "   'resID': 14},\n",
       "  '15': {'windows': {'telescope_0': [{'start': 27710, 'end': 35857}]},\n",
       "   'duration': 2270,\n",
       "   'proposal': 'proposal_3',\n",
       "   'resID': 15},\n",
       "  '16': {'windows': {'telescope_0': [{'start': 55602, 'end': 63613}]},\n",
       "   'duration': 2520,\n",
       "   'proposal': 'proposal_1',\n",
       "   'resID': 16},\n",
       "  '17': {'windows': {'telescope_0': [{'start': 78641, 'end': 80607}]},\n",
       "   'duration': 200,\n",
       "   'proposal': 'proposal_0',\n",
       "   'resID': 17},\n",
       "  '18': {'windows': {'telescope_0': [{'start': 265135, 'end': 282726}]},\n",
       "   'duration': 2250,\n",
       "   'proposal': 'proposal_0',\n",
       "   'resID': 18},\n",
       "  '19': {'windows': {'telescope_0': [{'start': 279140, 'end': 293310}]},\n",
       "   'duration': 1560,\n",
       "   'proposal': 'proposal_4',\n",
       "   'resID': 19},\n",
       "  '20': {'windows': {'telescope_0': [{'start': 158631, 'end': 162047}]},\n",
       "   'duration': 400,\n",
       "   'proposal': 'proposal_4',\n",
       "   'resID': 20},\n",
       "  '21': {'windows': {'telescope_0': [{'start': 270660, 'end': 291409}]},\n",
       "   'duration': 2400,\n",
       "   'proposal': 'proposal_4',\n",
       "   'resID': 21},\n",
       "  '22': {'windows': {'telescope_0': [{'start': 83224, 'end': 85015}]},\n",
       "   'duration': 375,\n",
       "   'proposal': 'proposal_3',\n",
       "   'resID': 22},\n",
       "  '23': {'windows': {'telescope_0': [{'start': 277283, 'end': 312265}]},\n",
       "   'duration': 3510,\n",
       "   'proposal': 'proposal_2',\n",
       "   'resID': 23},\n",
       "  '24': {'windows': {'telescope_0': [{'start': 147101, 'end': 161760}]},\n",
       "   'duration': 2250,\n",
       "   'proposal': 'proposal_2',\n",
       "   'resID': 24},\n",
       "  '25': {'windows': {'telescope_0': [{'start': 221202, 'end': 226174}]},\n",
       "   'duration': 1560,\n",
       "   'proposal': 'proposal_0',\n",
       "   'resID': 25},\n",
       "  '26': {'windows': {'telescope_0': [{'start': 51554, 'end': 52598}]},\n",
       "   'duration': 240,\n",
       "   'proposal': 'proposal_3',\n",
       "   'resID': 26},\n",
       "  '27': {'windows': {'telescope_0': [{'start': 44259, 'end': 48832}]},\n",
       "   'duration': 2400,\n",
       "   'proposal': 'proposal_1',\n",
       "   'resID': 27},\n",
       "  '28': {'windows': {'telescope_0': [{'start': 275189, 'end': 276422}]},\n",
       "   'duration': 200,\n",
       "   'proposal': 'proposal_4',\n",
       "   'resID': 28},\n",
       "  '29': {'windows': {'telescope_0': [{'start': 37632, 'end': 40631}]},\n",
       "   'duration': 1800,\n",
       "   'proposal': 'proposal_1',\n",
       "   'resID': 29},\n",
       "  '30': {'windows': {'telescope_0': [{'start': 118302, 'end': 119044}]},\n",
       "   'duration': 120,\n",
       "   'proposal': 'proposal_2',\n",
       "   'resID': 30},\n",
       "  '31': {'windows': {'telescope_0': [{'start': 183104, 'end': 186375}]},\n",
       "   'duration': 1600,\n",
       "   'proposal': 'proposal_1',\n",
       "   'resID': 31},\n",
       "  '32': {'windows': {'telescope_0': [{'start': 37466, 'end': 38106}]},\n",
       "   'duration': 240,\n",
       "   'proposal': 'proposal_1',\n",
       "   'resID': 32},\n",
       "  '33': {'windows': {'telescope_0': [{'start': 205435, 'end': 206830}]},\n",
       "   'duration': 900,\n",
       "   'proposal': 'proposal_4',\n",
       "   'resID': 33},\n",
       "  '34': {'windows': {'telescope_0': [{'start': 78600, 'end': 78849}]},\n",
       "   'duration': 130,\n",
       "   'proposal': 'proposal_1',\n",
       "   'resID': 34},\n",
       "  '35': {'windows': {'telescope_0': [{'start': 131867, 'end': 132609}]},\n",
       "   'duration': 200,\n",
       "   'proposal': 'proposal_0',\n",
       "   'resID': 35},\n",
       "  '36': {'windows': {'telescope_0': [{'start': 30519, 'end': 31332}]},\n",
       "   'duration': 600,\n",
       "   'proposal': 'proposal_3',\n",
       "   'resID': 36},\n",
       "  '37': {'windows': {'telescope_0': [{'start': 221235, 'end': 226646}]},\n",
       "   'duration': 1280,\n",
       "   'proposal': 'proposal_4',\n",
       "   'resID': 37},\n",
       "  '38': {'windows': {'telescope_0': [{'start': 292284, 'end': 305686}]},\n",
       "   'duration': 1900,\n",
       "   'proposal': 'proposal_0',\n",
       "   'resID': 38},\n",
       "  '39': {'windows': {'telescope_0': [{'start': 48975, 'end': 51884}]},\n",
       "   'duration': 1200,\n",
       "   'proposal': 'proposal_4',\n",
       "   'resID': 39},\n",
       "  '40': {'windows': {'telescope_0': [{'start': 133756, 'end': 135667}]},\n",
       "   'duration': 300,\n",
       "   'proposal': 'proposal_1',\n",
       "   'resID': 40},\n",
       "  '41': {'windows': {'telescope_0': [{'start': 272190, 'end': 273616}]},\n",
       "   'duration': 200,\n",
       "   'proposal': 'proposal_4',\n",
       "   'resID': 41},\n",
       "  '42': {'windows': {'telescope_0': [{'start': 117525, 'end': 122040}]},\n",
       "   'duration': 660,\n",
       "   'proposal': 'proposal_2',\n",
       "   'resID': 42},\n",
       "  '43': {'windows': {'telescope_0': [{'start': 138485, 'end': 152198}]},\n",
       "   'duration': 1900,\n",
       "   'proposal': 'proposal_0',\n",
       "   'resID': 43},\n",
       "  '44': {'windows': {'telescope_0': [{'start': 84939, 'end': 85786}]},\n",
       "   'duration': 600,\n",
       "   'proposal': 'proposal_1',\n",
       "   'resID': 44},\n",
       "  '45': {'windows': {'telescope_0': [{'start': 184505, 'end': 190909}]},\n",
       "   'duration': 1200,\n",
       "   'proposal': 'proposal_2',\n",
       "   'resID': 45},\n",
       "  '46': {'windows': {'telescope_0': [{'start': 258181, 'end': 259580}]},\n",
       "   'duration': 155,\n",
       "   'proposal': 'proposal_1',\n",
       "   'resID': 46},\n",
       "  '47': {'windows': {'telescope_0': [{'start': 125320, 'end': 128554}]},\n",
       "   'duration': 720,\n",
       "   'proposal': 'proposal_0',\n",
       "   'resID': 47},\n",
       "  '48': {'windows': {'telescope_0': [{'start': 101123, 'end': 101669}]},\n",
       "   'duration': 200,\n",
       "   'proposal': 'proposal_1',\n",
       "   'resID': 48},\n",
       "  '49': {'windows': {'telescope_0': [{'start': 214810, 'end': 247425}]},\n",
       "   'duration': 6480,\n",
       "   'proposal': 'proposal_4',\n",
       "   'resID': 49},\n",
       "  '50': {'windows': {'telescope_0': [{'start': 263599, 'end': 264100}]},\n",
       "   'duration': 390,\n",
       "   'proposal': 'proposal_4',\n",
       "   'resID': 50},\n",
       "  '51': {'windows': {'telescope_0': [{'start': 14146, 'end': 14772}]},\n",
       "   'duration': 90,\n",
       "   'proposal': 'proposal_3',\n",
       "   'resID': 51},\n",
       "  '52': {'windows': {'telescope_0': [{'start': 134981, 'end': 136444}]},\n",
       "   'duration': 200,\n",
       "   'proposal': 'proposal_3',\n",
       "   'resID': 52},\n",
       "  '53': {'windows': {'telescope_0': [{'start': 21, 'end': 14180}]},\n",
       "   'duration': 2200,\n",
       "   'proposal': 'proposal_0',\n",
       "   'resID': 53},\n",
       "  '54': {'windows': {'telescope_0': [{'start': 141188, 'end': 154137}]},\n",
       "   'duration': 3400,\n",
       "   'proposal': 'proposal_3',\n",
       "   'resID': 54},\n",
       "  '55': {'windows': {'telescope_0': [{'start': 191446, 'end': 228427}]},\n",
       "   'duration': 3700,\n",
       "   'proposal': 'proposal_0',\n",
       "   'resID': 55},\n",
       "  '56': {'windows': {'telescope_0': [{'start': 4454, 'end': 9304}]},\n",
       "   'duration': 2230,\n",
       "   'proposal': 'proposal_3',\n",
       "   'resID': 56},\n",
       "  '57': {'windows': {'telescope_0': [{'start': 216919, 'end': 224282}]},\n",
       "   'duration': 2520,\n",
       "   'proposal': 'proposal_0',\n",
       "   'resID': 57},\n",
       "  '58': {'windows': {'telescope_0': [{'start': 185088, 'end': 188983}]},\n",
       "   'duration': 550,\n",
       "   'proposal': 'proposal_1',\n",
       "   'resID': 58},\n",
       "  '59': {'windows': {'telescope_0': [{'start': 264193, 'end': 279727}]},\n",
       "   'duration': 2270,\n",
       "   'proposal': 'proposal_2',\n",
       "   'resID': 59},\n",
       "  '60': {'windows': {'telescope_0': [{'start': 143823, 'end': 146199}]},\n",
       "   'duration': 900,\n",
       "   'proposal': 'proposal_3',\n",
       "   'resID': 60},\n",
       "  '61': {'windows': {'telescope_0': [{'start': 276358, 'end': 276502}]},\n",
       "   'duration': 120,\n",
       "   'proposal': 'proposal_0',\n",
       "   'resID': 61},\n",
       "  '62': {'windows': {'telescope_0': [{'start': 157510, 'end': 177713}]},\n",
       "   'duration': 9180,\n",
       "   'proposal': 'proposal_2',\n",
       "   'resID': 62},\n",
       "  '63': {'windows': {'telescope_0': [{'start': 257415, 'end': 262840}]},\n",
       "   'duration': 2270,\n",
       "   'proposal': 'proposal_0',\n",
       "   'resID': 63},\n",
       "  '64': {'windows': {'telescope_0': [{'start': 168847, 'end': 170273}]},\n",
       "   'duration': 200,\n",
       "   'proposal': 'proposal_2',\n",
       "   'resID': 64},\n",
       "  '65': {'windows': {'telescope_0': [{'start': 12702, 'end': 17664}]},\n",
       "   'duration': 540,\n",
       "   'proposal': 'proposal_4',\n",
       "   'resID': 65},\n",
       "  '66': {'windows': {'telescope_0': [{'start': 272980, 'end': 273869}]},\n",
       "   'duration': 120,\n",
       "   'proposal': 'proposal_3',\n",
       "   'resID': 66},\n",
       "  '67': {'windows': {'telescope_0': [{'start': 62852, 'end': 66357}]},\n",
       "   'duration': 600,\n",
       "   'proposal': 'proposal_4',\n",
       "   'resID': 67},\n",
       "  '68': {'windows': {'telescope_0': [{'start': 82063, 'end': 82602}]},\n",
       "   'duration': 240,\n",
       "   'proposal': 'proposal_2',\n",
       "   'resID': 68},\n",
       "  '69': {'windows': {'telescope_0': [{'start': 102289, 'end': 107142}]},\n",
       "   'duration': 650,\n",
       "   'proposal': 'proposal_4',\n",
       "   'resID': 69},\n",
       "  '70': {'windows': {'telescope_0': [{'start': 45183, 'end': 45868}]},\n",
       "   'duration': 200,\n",
       "   'proposal': 'proposal_4',\n",
       "   'resID': 70},\n",
       "  '71': {'windows': {'telescope_0': [{'start': 165862, 'end': 166955}]},\n",
       "   'duration': 240,\n",
       "   'proposal': 'proposal_2',\n",
       "   'resID': 71},\n",
       "  '72': {'windows': {'telescope_0': [{'start': 282367, 'end': 299562}]},\n",
       "   'duration': 2270,\n",
       "   'proposal': 'proposal_2',\n",
       "   'resID': 72},\n",
       "  '73': {'windows': {'telescope_0': [{'start': 21429, 'end': 42547}]},\n",
       "   'duration': 3700,\n",
       "   'proposal': 'proposal_3',\n",
       "   'resID': 73},\n",
       "  '74': {'windows': {'telescope_0': [{'start': 32856, 'end': 46446}]},\n",
       "   'duration': 3680,\n",
       "   'proposal': 'proposal_4',\n",
       "   'resID': 74},\n",
       "  '75': {'windows': {'telescope_0': [{'start': 254273, 'end': 264384}]},\n",
       "   'duration': 1920,\n",
       "   'proposal': 'proposal_2',\n",
       "   'resID': 75},\n",
       "  '76': {'windows': {'telescope_0': [{'start': 150515, 'end': 155155}]},\n",
       "   'duration': 2270,\n",
       "   'proposal': 'proposal_0',\n",
       "   'resID': 76},\n",
       "  '77': {'windows': {'telescope_0': [{'start': 270466, 'end': 272293}]},\n",
       "   'duration': 240,\n",
       "   'proposal': 'proposal_1',\n",
       "   'resID': 77},\n",
       "  '78': {'windows': {'telescope_0': [{'start': 294707, 'end': 301715}]},\n",
       "   'duration': 1600,\n",
       "   'proposal': 'proposal_0',\n",
       "   'resID': 78},\n",
       "  '79': {'windows': {'telescope_0': [{'start': 226761, 'end': 227113}]},\n",
       "   'duration': 200,\n",
       "   'proposal': 'proposal_0',\n",
       "   'resID': 79},\n",
       "  '80': {'windows': {'telescope_0': [{'start': 168278, 'end': 170085}]},\n",
       "   'duration': 960,\n",
       "   'proposal': 'proposal_2',\n",
       "   'resID': 80},\n",
       "  '81': {'windows': {'telescope_0': [{'start': 176870, 'end': 178813}]},\n",
       "   'duration': 360,\n",
       "   'proposal': 'proposal_1',\n",
       "   'resID': 81},\n",
       "  '82': {'windows': {'telescope_0': [{'start': 298910, 'end': 299298}]},\n",
       "   'duration': 90,\n",
       "   'proposal': 'proposal_2',\n",
       "   'resID': 82},\n",
       "  '83': {'windows': {'telescope_0': [{'start': 58044, 'end': 58494}]},\n",
       "   'duration': 180,\n",
       "   'proposal': 'proposal_0',\n",
       "   'resID': 83},\n",
       "  '84': {'windows': {'telescope_0': [{'start': 212286, 'end': 214040}]},\n",
       "   'duration': 200,\n",
       "   'proposal': 'proposal_4',\n",
       "   'resID': 84},\n",
       "  '85': {'windows': {'telescope_0': [{'start': 35958, 'end': 38511}]},\n",
       "   'duration': 360,\n",
       "   'proposal': 'proposal_3',\n",
       "   'resID': 85},\n",
       "  '86': {'windows': {'telescope_0': [{'start': 301505, 'end': 303536}]},\n",
       "   'duration': 300,\n",
       "   'proposal': 'proposal_1',\n",
       "   'resID': 86},\n",
       "  '87': {'windows': {'telescope_0': [{'start': 138623, 'end': 148118}]},\n",
       "   'duration': 4890,\n",
       "   'proposal': 'proposal_2',\n",
       "   'resID': 87},\n",
       "  '88': {'windows': {'telescope_0': [{'start': 298980, 'end': 304342}]},\n",
       "   'duration': 2270,\n",
       "   'proposal': 'proposal_3',\n",
       "   'resID': 88},\n",
       "  '89': {'windows': {'telescope_0': [{'start': 205611, 'end': 216127}]},\n",
       "   'duration': 2260,\n",
       "   'proposal': 'proposal_4',\n",
       "   'resID': 89},\n",
       "  '90': {'windows': {'telescope_0': [{'start': 97512, 'end': 128974}]},\n",
       "   'duration': 3400,\n",
       "   'proposal': 'proposal_3',\n",
       "   'resID': 90},\n",
       "  '91': {'windows': {'telescope_0': [{'start': 264509, 'end': 265013}]},\n",
       "   'duration': 75,\n",
       "   'proposal': 'proposal_4',\n",
       "   'resID': 91},\n",
       "  '92': {'windows': {'telescope_0': [{'start': 102883, 'end': 103239}]},\n",
       "   'duration': 120,\n",
       "   'proposal': 'proposal_2',\n",
       "   'resID': 92},\n",
       "  '93': {'windows': {'telescope_0': [{'start': 44866, 'end': 48032}]},\n",
       "   'duration': 2400,\n",
       "   'proposal': 'proposal_2',\n",
       "   'resID': 93},\n",
       "  '94': {'windows': {'telescope_0': [{'start': 114611, 'end': 118937}]},\n",
       "   'duration': 1800,\n",
       "   'proposal': 'proposal_2',\n",
       "   'resID': 94},\n",
       "  '95': {'windows': {'telescope_0': [{'start': 20067, 'end': 26017}]},\n",
       "   'duration': 720,\n",
       "   'proposal': 'proposal_0',\n",
       "   'resID': 95},\n",
       "  '96': {'windows': {'telescope_0': [{'start': 20066, 'end': 23392}]},\n",
       "   'duration': 360,\n",
       "   'proposal': 'proposal_1',\n",
       "   'resID': 96},\n",
       "  '97': {'windows': {'telescope_0': [{'start': 255212, 'end': 255440}]},\n",
       "   'duration': 200,\n",
       "   'proposal': 'proposal_2',\n",
       "   'resID': 97},\n",
       "  '98': {'windows': {'telescope_0': [{'start': 262694, 'end': 305258}]},\n",
       "   'duration': 5187,\n",
       "   'proposal': 'proposal_3',\n",
       "   'resID': 98},\n",
       "  '99': {'windows': {'telescope_0': [{'start': 272490, 'end': 273044}]},\n",
       "   'duration': 100,\n",
       "   'proposal': 'proposal_4',\n",
       "   'resID': 99}},\n",
       " 'timelimit': 0}"
      ]
     },
     "execution_count": 11,
     "metadata": {},
     "output_type": "execute_result"
    }
   ],
   "source": [
    "sinfo = sim.get_scheduler_info()\n",
    "sinfo"
   ]
  },
  {
   "cell_type": "code",
   "execution_count": 12,
   "id": "f4975559-dd8d-49ed-b25e-b26a7a93e5ab",
   "metadata": {
    "execution": {
     "iopub.execute_input": "2024-03-08T17:07:41.570393Z",
     "iopub.status.busy": "2024-03-08T17:07:41.568355Z",
     "iopub.status.idle": "2024-03-08T17:07:41.585845Z",
     "shell.execute_reply": "2024-03-08T17:07:41.585845Z",
     "shell.execute_reply.started": "2024-03-08T17:07:41.570393Z"
    }
   },
   "outputs": [
    {
     "data": {
      "text/plain": [
       "dict_keys(['now', 'horizon', 'slice_size', 'resources', 'proposals', 'requests', 'timelimit'])"
      ]
     },
     "execution_count": 12,
     "metadata": {},
     "output_type": "execute_result"
    }
   ],
   "source": [
    "sinfo.keys()"
   ]
  },
  {
   "cell_type": "markdown",
   "id": "6e25f2cb-8ff5-42ce-a2d7-3ebfba1f5452",
   "metadata": {},
   "source": [
    "## Gurobi"
   ]
  },
  {
   "cell_type": "code",
   "execution_count": 13,
   "id": "a87a851d-29b0-4f42-9a0e-dad303fc40d2",
   "metadata": {
    "execution": {
     "iopub.execute_input": "2024-03-08T17:07:41.590388Z",
     "iopub.status.busy": "2024-03-08T17:07:41.585845Z",
     "iopub.status.idle": "2024-03-08T17:07:41.773263Z",
     "shell.execute_reply": "2024-03-08T17:07:41.773263Z",
     "shell.execute_reply.started": "2024-03-08T17:07:41.590388Z"
    }
   },
   "outputs": [
    {
     "name": "stdout",
     "output_type": "stream",
     "text": [
      "Total Time: 0.31967806816101074s\n",
      "Build: 0.15224528312683105s, Solve: 0.1629626750946045s, Interpret: 0.004470109939575195s\n",
      "Objective Value: 29782.61716563539\n",
      "Scheduled Requests: dict_keys(['0', '1', '6', '7', '8', '9', '11', '12', '14', '17', '21', '22', '24', '31', '34', '41', '44', '45', '48', '49', '51', '53', '54', '56', '58', '59', '62', '63', '64', '65', '67', '68', '75', '76', '80', '81', '90', '98'])\n"
     ]
    }
   ],
   "source": [
    "from scheduler_gurobi import SchedulerGurobi\n",
    "scheduler = SchedulerGurobi(now=sinfo[\"now\"], horizon=sinfo[\"horizon\"], slice_size=sinfo[\"slice_size\"],\n",
    "                            resources=sinfo[\"resources\"], proposals=sinfo[\"proposals\"], requests=sinfo[\"requests\"],\n",
    "                            verbose=0, timelimit=sinfo[\"timelimit\"], scheduler_type=\"gurobi\")\n",
    "results = scheduler.run()\n",
    "print(\"Total Time: {}s\".format(scheduler.get_total_time()))\n",
    "print(\"Build: {}s, Solve: {}s, Interpret: {}s\".format(scheduler.build_time, scheduler.solve_time, scheduler.interpret_time))\n",
    "print(\"Objective Value:\", scheduler.objective_value)\n",
    "print(\"Scheduled Requests:\", scheduler.scheduled_requests[\"scheduled\"].keys())"
   ]
  },
  {
   "cell_type": "code",
   "execution_count": 14,
   "id": "f8fd5a7b-cf6e-40f3-97dd-d0e2b8f4b4c0",
   "metadata": {
    "execution": {
     "iopub.execute_input": "2024-03-08T17:07:41.773263Z",
     "iopub.status.busy": "2024-03-08T17:07:41.773263Z",
     "iopub.status.idle": "2024-03-08T17:07:41.785207Z",
     "shell.execute_reply": "2024-03-08T17:07:41.784171Z",
     "shell.execute_reply.started": "2024-03-08T17:07:41.773263Z"
    }
   },
   "outputs": [],
   "source": [
    "# Check that all Schedulers conform to this scheduler\n",
    "DEFAULT_OBJ_VALUE = scheduler.objective_value\n",
    "DEFAULT_SCHEDULED_REQUESTS = set(scheduler.scheduled_requests[\"scheduled\"].keys())"
   ]
  },
  {
   "cell_type": "markdown",
   "id": "1c71d9f1-fa0a-47c5-ae67-d3cd69f59a03",
   "metadata": {},
   "source": [
    "## CPSAT"
   ]
  },
  {
   "cell_type": "code",
   "execution_count": 15,
   "id": "8d5f8d6c-2746-4e06-84c0-af8fd68127ed",
   "metadata": {
    "execution": {
     "iopub.execute_input": "2024-03-08T17:07:41.785207Z",
     "iopub.status.busy": "2024-03-08T17:07:41.785207Z",
     "iopub.status.idle": "2024-03-08T17:07:42.180352Z",
     "shell.execute_reply": "2024-03-08T17:07:42.178991Z",
     "shell.execute_reply.started": "2024-03-08T17:07:41.785207Z"
    }
   },
   "outputs": [
    {
     "name": "stdout",
     "output_type": "stream",
     "text": [
      "Total Time: 0.8648324012756348s\n",
      "Build: 0.30556297302246094s, Solve: 0.5466513633728027s, Interpret: 0.012618064880371094s\n",
      "Objective Value Difference: 3.637978807091713e-12\n",
      "Same Scheduled Requests: True\n"
     ]
    }
   ],
   "source": [
    "from scheduler_cpsat import SchedulerCPSAT\n",
    "scheduler = SchedulerCPSAT(now=sinfo[\"now\"], horizon=sinfo[\"horizon\"], slice_size=sinfo[\"slice_size\"],\n",
    "                            resources=sinfo[\"resources\"], proposals=sinfo[\"proposals\"], requests=sinfo[\"requests\"],\n",
    "                            verbose=0, timelimit=sinfo[\"timelimit\"], scheduler_type=\"cpsat\")\n",
    "results = scheduler.run()\n",
    "print(\"Total Time: {}s\".format(scheduler.get_total_time()))\n",
    "print(\"Build: {}s, Solve: {}s, Interpret: {}s\".format(scheduler.build_time, scheduler.solve_time, scheduler.interpret_time))\n",
    "print(\"Objective Value Difference:\", scheduler.objective_value - DEFAULT_OBJ_VALUE)\n",
    "print(\"Same Scheduled Requests:\", set(scheduler.scheduled_requests[\"scheduled\"].keys()) == DEFAULT_SCHEDULED_REQUESTS)"
   ]
  },
  {
   "cell_type": "markdown",
   "id": "c3b0c72b-a95f-436d-bacc-fbe0ab08ae50",
   "metadata": {},
   "source": [
    "## PuLP - CBC"
   ]
  },
  {
   "cell_type": "code",
   "execution_count": 16,
   "id": "182385fe-3c1c-4e05-b28d-2aeb981b95cc",
   "metadata": {
    "execution": {
     "iopub.execute_input": "2024-03-08T17:07:42.185288Z",
     "iopub.status.busy": "2024-03-08T17:07:42.185288Z",
     "iopub.status.idle": "2024-03-08T17:07:43.974478Z",
     "shell.execute_reply": "2024-03-08T17:07:43.974478Z",
     "shell.execute_reply.started": "2024-03-08T17:07:42.185288Z"
    }
   },
   "outputs": [
    {
     "name": "stdout",
     "output_type": "stream",
     "text": [
      "Welcome to the CBC MILP Solver \n",
      "Version: 2.10.3 \n",
      "Build Date: Dec 15 2019 \n",
      "\n",
      "command line - /home/elfest2/custom_scheduler/.venv/lib/python3.10/site-packages/pulp/solverdir/cbc/linux/64/cbc /tmp/c17a2bf7c8294934809666003135ef69-pulp.mps -max -timeMode elapsed -branch -printingOptions all -solution /tmp/c17a2bf7c8294934809666003135ef69-pulp.sol (default strategy 1)\n",
      "At line 2 NAME          MODEL\n",
      "At line 3 ROWS\n",
      "At line 510 COLUMNS\n",
      "At line 9397 RHS\n",
      "At line 9903 BOUNDS\n",
      "At line 10576 ENDATA\n",
      "Problem MODEL has 505 rows, 672 columns and 6870 elements\n",
      "Coin0008I MODEL read with 0 errors\n",
      "Option for timeMode changed from cpu to elapsed\n",
      "Continuous objective value is 29939.9 - 0.01 seconds\n",
      "Cgl0003I 0 fixed, 0 tightened bounds, 259 strengthened rows, 0 substitutions\n",
      "Cgl0003I 0 fixed, 0 tightened bounds, 245 strengthened rows, 0 substitutions\n",
      "Cgl0003I 0 fixed, 0 tightened bounds, 228 strengthened rows, 0 substitutions\n",
      "Cgl0003I 0 fixed, 0 tightened bounds, 214 strengthened rows, 0 substitutions\n",
      "Cgl0003I 0 fixed, 0 tightened bounds, 200 strengthened rows, 0 substitutions\n",
      "Cgl0003I 0 fixed, 0 tightened bounds, 189 strengthened rows, 0 substitutions\n",
      "Cgl0003I 0 fixed, 0 tightened bounds, 179 strengthened rows, 0 substitutions\n",
      "Cgl0003I 0 fixed, 0 tightened bounds, 171 strengthened rows, 0 substitutions\n",
      "Cgl0003I 0 fixed, 0 tightened bounds, 158 strengthened rows, 0 substitutions\n",
      "Cgl0004I processed model has 388 rows, 634 columns (634 integer (634 of which binary)) and 7691 elements\n",
      "Cbc0038I Initial state - 0 integers unsatisfied sum - 0\n",
      "Cbc0038I Solution found of -29782.6\n",
      "Cbc0038I Before mini branch and bound, 634 integers at bound fixed and 0 continuous\n",
      "Cbc0038I Mini branch and bound did not improve solution (0.83 seconds)\n",
      "Cbc0038I After 0.83 seconds - Feasibility pump exiting with objective of -29782.6 - took 0.00 seconds\n",
      "Cbc0012I Integer solution of -29782.617 found by feasibility pump after 0 iterations and 0 nodes (0.83 seconds)\n",
      "Cbc0001I Search completed - best objective -29782.61716563408, took 0 iterations and 0 nodes (0.84 seconds)\n",
      "Cbc0035I Maximum depth 0, 0 variables fixed on reduced cost\n",
      "Cuts at root node changed objective from -29782.6 to -29782.6\n",
      "Probing was tried 0 times and created 0 cuts of which 0 were active after adding rounds of cuts (0.000 seconds)\n",
      "Gomory was tried 0 times and created 0 cuts of which 0 were active after adding rounds of cuts (0.000 seconds)\n",
      "Knapsack was tried 0 times and created 0 cuts of which 0 were active after adding rounds of cuts (0.000 seconds)\n",
      "Clique was tried 0 times and created 0 cuts of which 0 were active after adding rounds of cuts (0.000 seconds)\n",
      "MixedIntegerRounding2 was tried 0 times and created 0 cuts of which 0 were active after adding rounds of cuts (0.000 seconds)\n",
      "FlowCover was tried 0 times and created 0 cuts of which 0 were active after adding rounds of cuts (0.000 seconds)\n",
      "TwoMirCuts was tried 0 times and created 0 cuts of which 0 were active after adding rounds of cuts (0.000 seconds)\n",
      "ZeroHalf was tried 0 times and created 0 cuts of which 0 were active after adding rounds of cuts (0.000 seconds)\n",
      "\n",
      "Result - Optimal solution found\n",
      "\n",
      "Objective value:                29782.61716563\n",
      "Enumerated nodes:               0\n",
      "Total iterations:               0\n",
      "Time (CPU seconds):             0.78\n",
      "Time (Wallclock seconds):       0.86\n",
      "\n",
      "Option for printingOptions changed from normal to all\n",
      "Total time (CPU seconds):       0.79   (Wallclock seconds):       0.88\n",
      "\n",
      "Total Time: 1.248408555984497s\n",
      "Build: 0.1666736602783203s, Solve: 1.0803351402282715s, Interpret: 0.0013997554779052734s\n",
      "Objective Value Difference: 7.275957614183426e-12\n",
      "Same Scheduled Requests: True\n"
     ]
    }
   ],
   "source": [
    "from scheduler_pulp import SchedulerPulp\n",
    "scheduler = SchedulerPulp(now=sinfo[\"now\"], horizon=sinfo[\"horizon\"], slice_size=sinfo[\"slice_size\"],\n",
    "                            resources=sinfo[\"resources\"], proposals=sinfo[\"proposals\"], requests=sinfo[\"requests\"],\n",
    "                            verbose=0, timelimit=sinfo[\"timelimit\"], scheduler_type=\"cbc\")\n",
    "results = scheduler.run()\n",
    "print(\"Total Time: {}s\".format(scheduler.get_total_time()))\n",
    "print(\"Build: {}s, Solve: {}s, Interpret: {}s\".format(scheduler.build_time, scheduler.solve_time, scheduler.interpret_time))\n",
    "print(\"Objective Value Difference:\", scheduler.objective_value - DEFAULT_OBJ_VALUE)\n",
    "print(\"Same Scheduled Requests:\", set(scheduler.scheduled_requests[\"scheduled\"].keys()) == DEFAULT_SCHEDULED_REQUESTS)"
   ]
  },
  {
   "cell_type": "markdown",
   "id": "b5aeb73d-df12-470a-b516-518938871342",
   "metadata": {},
   "source": [
    "## PuLP - Gurobi"
   ]
  },
  {
   "cell_type": "code",
   "execution_count": 17,
   "id": "ad78d0fd-75d0-4b4c-882e-b9f8d2be6820",
   "metadata": {
    "execution": {
     "iopub.execute_input": "2024-03-08T17:07:43.974478Z",
     "iopub.status.busy": "2024-03-08T17:07:43.974478Z",
     "iopub.status.idle": "2024-03-08T17:07:44.233500Z",
     "shell.execute_reply": "2024-03-08T17:07:44.231467Z",
     "shell.execute_reply.started": "2024-03-08T17:07:43.974478Z"
    }
   },
   "outputs": [
    {
     "name": "stdout",
     "output_type": "stream",
     "text": [
      "Restricted license - for non-production use only - expires 2024-10-28\n"
     ]
    },
    {
     "name": "stdout",
     "output_type": "stream",
     "text": [
      "Gurobi Optimizer version 10.0.3 build v10.0.3rc0 (linux64)\n",
      "\n",
      "CPU model: Intel(R) Core(TM) i5-8250U CPU @ 1.60GHz, instruction set [SSE2|AVX|AVX2]\n",
      "Thread count: 4 physical cores, 8 logical processors, using up to 8 threads\n",
      "\n",
      "Optimize a model with 505 rows, 672 columns and 6870 nonzeros\n",
      "Model fingerprint: 0xd4fc7c08\n",
      "Variable types: 0 continuous, 672 integer (0 binary)\n",
      "Coefficient statistics:\n",
      "  Matrix range     [1e+00, 1e+00]\n",
      "  Objective range  [3e+01, 4e+03]\n",
      "  Bounds range     [1e+00, 1e+00]\n",
      "  RHS range        [1e+00, 1e+00]\n",
      "Found heuristic solution: objective 25048.687580\n",
      "Presolve removed 458 rows and 570 columns\n",
      "Presolve time: 0.06s\n",
      "Presolved: 47 rows, 102 columns, 717 nonzeros\n",
      "Found heuristic solution: objective 27940.638406\n",
      "Variable types: 0 continuous, 102 integer (102 binary)\n",
      "Found heuristic solution: objective 29084.846203\n",
      "\n",
      "Root relaxation: objective 2.978262e+04, 46 iterations, 0.00 seconds (0.00 work units)\n",
      "\n",
      "    Nodes    |    Current Node    |     Objective Bounds      |     Work\n",
      " Expl Unexpl |  Obj  Depth IntInf | Incumbent    BestBd   Gap | It/Node Time\n",
      "\n",
      "*    0     0               0    29782.617166 29782.6172  0.00%     -    0s\n",
      "\n",
      "Explored 1 nodes (46 simplex iterations) in 0.15 seconds (0.02 work units)\n",
      "Thread count was 8 (of 8 available processors)\n",
      "\n",
      "Solution count 4: 29782.6 29084.8 27940.6 25048.7 \n",
      "\n",
      "Optimal solution found (tolerance 1.00e-04)\n",
      "Best objective 2.978261716564e+04, best bound 2.978261716564e+04, gap 0.0000%\n",
      "Gurobi status= 2\n",
      "Total Time: 0.36156249046325684s\n",
      "Build: 0.0791473388671875s, Solve: 0.2804698944091797s, Interpret: 0.0019452571868896484s\n",
      "Objective Value Difference: 7.275957614183426e-12\n",
      "Same Scheduled Requests: True\n"
     ]
    }
   ],
   "source": [
    "from scheduler_pulp import SchedulerPulp\n",
    "scheduler = SchedulerPulp(now=sinfo[\"now\"], horizon=sinfo[\"horizon\"], slice_size=sinfo[\"slice_size\"],\n",
    "                            resources=sinfo[\"resources\"], proposals=sinfo[\"proposals\"], requests=sinfo[\"requests\"],\n",
    "                            verbose=0, timelimit=sinfo[\"timelimit\"], scheduler_type=\"gurobi_pulp\")\n",
    "results = scheduler.run()\n",
    "print(\"Total Time: {}s\".format(scheduler.get_total_time()))\n",
    "print(\"Build: {}s, Solve: {}s, Interpret: {}s\".format(scheduler.build_time, scheduler.solve_time, scheduler.interpret_time))\n",
    "print(\"Objective Value Difference:\", scheduler.objective_value - DEFAULT_OBJ_VALUE)\n",
    "print(\"Same Scheduled Requests:\", set(scheduler.scheduled_requests[\"scheduled\"].keys()) == DEFAULT_SCHEDULED_REQUESTS)"
   ]
  },
  {
   "cell_type": "markdown",
   "id": "a254b0e3-61b1-4736-b9dc-0604e6cadd25",
   "metadata": {},
   "source": [
    "## PuLP - Gurobi_CMD"
   ]
  },
  {
   "cell_type": "code",
   "execution_count": 18,
   "id": "fe8ade54-3e92-4c5a-b43a-efe2834291ce",
   "metadata": {
    "execution": {
     "iopub.execute_input": "2024-03-08T17:07:44.235492Z",
     "iopub.status.busy": "2024-03-08T17:07:44.234479Z",
     "iopub.status.idle": "2024-03-08T17:07:46.749817Z",
     "shell.execute_reply": "2024-03-08T17:07:46.748819Z",
     "shell.execute_reply.started": "2024-03-08T17:07:44.235492Z"
    }
   },
   "outputs": [
    {
     "ename": "PulpSolverError",
     "evalue": "PuLP: cannot execute gurobi_cl",
     "output_type": "error",
     "traceback": [
      "\u001b[0;31m---------------------------------------------------------------------------\u001b[0m",
      "\u001b[0;31mPulpSolverError\u001b[0m                           Traceback (most recent call last)",
      "Cell \u001b[0;32mIn[18], line 5\u001b[0m\n\u001b[1;32m      1\u001b[0m \u001b[38;5;28;01mfrom\u001b[39;00m \u001b[38;5;21;01mscheduler_pulp\u001b[39;00m \u001b[38;5;28;01mimport\u001b[39;00m SchedulerPulp\n\u001b[1;32m      2\u001b[0m scheduler \u001b[38;5;241m=\u001b[39m SchedulerPulp(now\u001b[38;5;241m=\u001b[39msinfo[\u001b[38;5;124m\"\u001b[39m\u001b[38;5;124mnow\u001b[39m\u001b[38;5;124m\"\u001b[39m], horizon\u001b[38;5;241m=\u001b[39msinfo[\u001b[38;5;124m\"\u001b[39m\u001b[38;5;124mhorizon\u001b[39m\u001b[38;5;124m\"\u001b[39m], slice_size\u001b[38;5;241m=\u001b[39msinfo[\u001b[38;5;124m\"\u001b[39m\u001b[38;5;124mslice_size\u001b[39m\u001b[38;5;124m\"\u001b[39m],\n\u001b[1;32m      3\u001b[0m                             resources\u001b[38;5;241m=\u001b[39msinfo[\u001b[38;5;124m\"\u001b[39m\u001b[38;5;124mresources\u001b[39m\u001b[38;5;124m\"\u001b[39m], proposals\u001b[38;5;241m=\u001b[39msinfo[\u001b[38;5;124m\"\u001b[39m\u001b[38;5;124mproposals\u001b[39m\u001b[38;5;124m\"\u001b[39m], requests\u001b[38;5;241m=\u001b[39msinfo[\u001b[38;5;124m\"\u001b[39m\u001b[38;5;124mrequests\u001b[39m\u001b[38;5;124m\"\u001b[39m],\n\u001b[1;32m      4\u001b[0m                             verbose\u001b[38;5;241m=\u001b[39m\u001b[38;5;241m0\u001b[39m, timelimit\u001b[38;5;241m=\u001b[39msinfo[\u001b[38;5;124m\"\u001b[39m\u001b[38;5;124mtimelimit\u001b[39m\u001b[38;5;124m\"\u001b[39m], scheduler_type\u001b[38;5;241m=\u001b[39m\u001b[38;5;124m\"\u001b[39m\u001b[38;5;124mgurobi_pulp_cmd\u001b[39m\u001b[38;5;124m\"\u001b[39m)\n\u001b[0;32m----> 5\u001b[0m results \u001b[38;5;241m=\u001b[39m \u001b[43mscheduler\u001b[49m\u001b[38;5;241;43m.\u001b[39;49m\u001b[43mrun\u001b[49m\u001b[43m(\u001b[49m\u001b[43m)\u001b[49m\n\u001b[1;32m      6\u001b[0m \u001b[38;5;28mprint\u001b[39m(\u001b[38;5;124m\"\u001b[39m\u001b[38;5;124mTotal Time: \u001b[39m\u001b[38;5;132;01m{}\u001b[39;00m\u001b[38;5;124ms\u001b[39m\u001b[38;5;124m\"\u001b[39m\u001b[38;5;241m.\u001b[39mformat(scheduler\u001b[38;5;241m.\u001b[39mget_total_time()))\n\u001b[1;32m      7\u001b[0m \u001b[38;5;28mprint\u001b[39m(\u001b[38;5;124m\"\u001b[39m\u001b[38;5;124mBuild: \u001b[39m\u001b[38;5;132;01m{}\u001b[39;00m\u001b[38;5;124ms, Solve: \u001b[39m\u001b[38;5;132;01m{}\u001b[39;00m\u001b[38;5;124ms, Interpret: \u001b[39m\u001b[38;5;132;01m{}\u001b[39;00m\u001b[38;5;124ms\u001b[39m\u001b[38;5;124m\"\u001b[39m\u001b[38;5;241m.\u001b[39mformat(scheduler\u001b[38;5;241m.\u001b[39mbuild_time, scheduler\u001b[38;5;241m.\u001b[39msolve_time, scheduler\u001b[38;5;241m.\u001b[39minterpret_time))\n",
      "File \u001b[0;32m~/custom_scheduler/scheduler_v2.py:217\u001b[0m, in \u001b[0;36mSchedulerV2.run\u001b[0;34m(self)\u001b[0m\n\u001b[1;32m    215\u001b[0m \u001b[38;5;28mself\u001b[39m\u001b[38;5;241m.\u001b[39mbuild_data_structures()\n\u001b[1;32m    216\u001b[0m \u001b[38;5;28mself\u001b[39m\u001b[38;5;241m.\u001b[39mtime_build_model()\n\u001b[0;32m--> 217\u001b[0m \u001b[38;5;28;43mself\u001b[39;49m\u001b[38;5;241;43m.\u001b[39;49m\u001b[43mtime_solve_model\u001b[49m\u001b[43m(\u001b[49m\u001b[43m)\u001b[49m\n\u001b[1;32m    218\u001b[0m \u001b[38;5;28mself\u001b[39m\u001b[38;5;241m.\u001b[39mtime_interpret_model()\n\u001b[1;32m    219\u001b[0m \u001b[38;5;28;01mreturn\u001b[39;00m \u001b[38;5;28mself\u001b[39m\u001b[38;5;241m.\u001b[39mreturn_solution()\n",
      "File \u001b[0;32m~/custom_scheduler/scheduler_v2.py:156\u001b[0m, in \u001b[0;36mSchedulerV2.time_solve_model\u001b[0;34m(self)\u001b[0m\n\u001b[1;32m    154\u001b[0m \u001b[38;5;28;01mdef\u001b[39;00m \u001b[38;5;21mtime_solve_model\u001b[39m(\u001b[38;5;28mself\u001b[39m):\n\u001b[1;32m    155\u001b[0m     start_solve \u001b[38;5;241m=\u001b[39m time\u001b[38;5;241m.\u001b[39mtime()\n\u001b[0;32m--> 156\u001b[0m     \u001b[38;5;28;43mself\u001b[39;49m\u001b[38;5;241;43m.\u001b[39;49m\u001b[43msolve_model\u001b[49m\u001b[43m(\u001b[49m\u001b[43m)\u001b[49m\n\u001b[1;32m    157\u001b[0m     end_solve \u001b[38;5;241m=\u001b[39m time\u001b[38;5;241m.\u001b[39mtime()\n\u001b[1;32m    158\u001b[0m     \u001b[38;5;28mself\u001b[39m\u001b[38;5;241m.\u001b[39msolve_time \u001b[38;5;241m=\u001b[39m end_solve \u001b[38;5;241m-\u001b[39m start_solve\n",
      "File \u001b[0;32m~/custom_scheduler/scheduler_pulp.py:89\u001b[0m, in \u001b[0;36mSchedulerPulp.solve_model\u001b[0;34m(self)\u001b[0m\n\u001b[1;32m     87\u001b[0m \u001b[38;5;28;01mdef\u001b[39;00m \u001b[38;5;21msolve_model\u001b[39m(\u001b[38;5;28mself\u001b[39m):\n\u001b[1;32m     88\u001b[0m     solver \u001b[38;5;241m=\u001b[39m \u001b[38;5;28mself\u001b[39m\u001b[38;5;241m.\u001b[39mgetSolver()\n\u001b[0;32m---> 89\u001b[0m     status \u001b[38;5;241m=\u001b[39m \u001b[38;5;28;43mself\u001b[39;49m\u001b[38;5;241;43m.\u001b[39;49m\u001b[43mmodel\u001b[49m\u001b[38;5;241;43m.\u001b[39;49m\u001b[43msolve\u001b[49m\u001b[43m(\u001b[49m\u001b[43msolver\u001b[49m\u001b[43m)\u001b[49m\n\u001b[1;32m     90\u001b[0m     \u001b[38;5;28;01mif\u001b[39;00m status \u001b[38;5;241m!=\u001b[39m \u001b[38;5;241m1\u001b[39m:\n\u001b[1;32m     91\u001b[0m         \u001b[38;5;28mprint\u001b[39m(\u001b[38;5;124mf\u001b[39m\u001b[38;5;124m\"\u001b[39m\u001b[38;5;124mModel Status not optimal: \u001b[39m\u001b[38;5;132;01m{\u001b[39;00mstatus\u001b[38;5;132;01m}\u001b[39;00m\u001b[38;5;124m\"\u001b[39m)\n",
      "File \u001b[0;32m~/custom_scheduler/.venv/lib/python3.10/site-packages/pulp/pulp.py:1883\u001b[0m, in \u001b[0;36mLpProblem.solve\u001b[0;34m(self, solver, **kwargs)\u001b[0m\n\u001b[1;32m   1881\u001b[0m \u001b[38;5;66;03m# time it\u001b[39;00m\n\u001b[1;32m   1882\u001b[0m \u001b[38;5;28mself\u001b[39m\u001b[38;5;241m.\u001b[39mstartClock()\n\u001b[0;32m-> 1883\u001b[0m status \u001b[38;5;241m=\u001b[39m \u001b[43msolver\u001b[49m\u001b[38;5;241;43m.\u001b[39;49m\u001b[43mactualSolve\u001b[49m\u001b[43m(\u001b[49m\u001b[38;5;28;43mself\u001b[39;49m\u001b[43m,\u001b[49m\u001b[43m \u001b[49m\u001b[38;5;241;43m*\u001b[39;49m\u001b[38;5;241;43m*\u001b[39;49m\u001b[43mkwargs\u001b[49m\u001b[43m)\u001b[49m\n\u001b[1;32m   1884\u001b[0m \u001b[38;5;28mself\u001b[39m\u001b[38;5;241m.\u001b[39mstopClock()\n\u001b[1;32m   1885\u001b[0m \u001b[38;5;28mself\u001b[39m\u001b[38;5;241m.\u001b[39mrestoreObjective(wasNone, dummyVar)\n",
      "File \u001b[0;32m~/custom_scheduler/.venv/lib/python3.10/site-packages/pulp/apis/gurobi_api.py:450\u001b[0m, in \u001b[0;36mGUROBI_CMD.actualSolve\u001b[0;34m(self, lp)\u001b[0m\n\u001b[1;32m    447\u001b[0m \u001b[38;5;250m\u001b[39m\u001b[38;5;124;03m\"\"\"Solve a well formulated lp problem\"\"\"\u001b[39;00m\n\u001b[1;32m    449\u001b[0m \u001b[38;5;28;01mif\u001b[39;00m \u001b[38;5;129;01mnot\u001b[39;00m \u001b[38;5;28mself\u001b[39m\u001b[38;5;241m.\u001b[39mexecutable(\u001b[38;5;28mself\u001b[39m\u001b[38;5;241m.\u001b[39mpath):\n\u001b[0;32m--> 450\u001b[0m     \u001b[38;5;28;01mraise\u001b[39;00m PulpSolverError(\u001b[38;5;124m\"\u001b[39m\u001b[38;5;124mPuLP: cannot execute \u001b[39m\u001b[38;5;124m\"\u001b[39m \u001b[38;5;241m+\u001b[39m \u001b[38;5;28mself\u001b[39m\u001b[38;5;241m.\u001b[39mpath)\n\u001b[1;32m    451\u001b[0m tmpLp, tmpSol, tmpMst \u001b[38;5;241m=\u001b[39m \u001b[38;5;28mself\u001b[39m\u001b[38;5;241m.\u001b[39mcreate_tmp_files(lp\u001b[38;5;241m.\u001b[39mname, \u001b[38;5;124m\"\u001b[39m\u001b[38;5;124mlp\u001b[39m\u001b[38;5;124m\"\u001b[39m, \u001b[38;5;124m\"\u001b[39m\u001b[38;5;124msol\u001b[39m\u001b[38;5;124m\"\u001b[39m, \u001b[38;5;124m\"\u001b[39m\u001b[38;5;124mmst\u001b[39m\u001b[38;5;124m\"\u001b[39m)\n\u001b[1;32m    452\u001b[0m vs \u001b[38;5;241m=\u001b[39m lp\u001b[38;5;241m.\u001b[39mwriteLP(tmpLp, writeSOS\u001b[38;5;241m=\u001b[39m\u001b[38;5;241m1\u001b[39m)\n",
      "\u001b[0;31mPulpSolverError\u001b[0m: PuLP: cannot execute gurobi_cl"
     ]
    }
   ],
   "source": [
    "from scheduler_pulp import SchedulerPulp\n",
    "scheduler = SchedulerPulp(now=sinfo[\"now\"], horizon=sinfo[\"horizon\"], slice_size=sinfo[\"slice_size\"],\n",
    "                            resources=sinfo[\"resources\"], proposals=sinfo[\"proposals\"], requests=sinfo[\"requests\"],\n",
    "                            verbose=0, timelimit=sinfo[\"timelimit\"], scheduler_type=\"gurobi_pulp_cmd\")\n",
    "results = scheduler.run()\n",
    "print(\"Total Time: {}s\".format(scheduler.get_total_time()))\n",
    "print(\"Build: {}s, Solve: {}s, Interpret: {}s\".format(scheduler.build_time, scheduler.solve_time, scheduler.interpret_time))\n",
    "print(\"Objective Value Difference:\", scheduler.objective_value - DEFAULT_OBJ_VALUE)\n",
    "print(\"Same Scheduled Requests:\", set(scheduler.scheduled_requests[\"scheduled\"].keys()) == DEFAULT_SCHEDULED_REQUESTS)"
   ]
  },
  {
   "cell_type": "markdown",
   "id": "27b17041-3ea8-49f0-aa6a-30dd15695f99",
   "metadata": {},
   "source": [
    "## PuLP - SCIP"
   ]
  },
  {
   "cell_type": "code",
   "execution_count": 20,
   "id": "0363bfe1-ca74-4699-976f-8421fa748f76",
   "metadata": {
    "execution": {
     "iopub.execute_input": "2024-03-08T17:07:46.752016Z",
     "iopub.status.busy": "2024-03-08T17:07:46.750820Z",
     "iopub.status.idle": "2024-03-08T17:07:47.244144Z",
     "shell.execute_reply": "2024-03-08T17:07:47.244144Z",
     "shell.execute_reply.started": "2024-03-08T17:07:46.752016Z"
    }
   },
   "outputs": [
    {
     "ename": "PulpSolverError",
     "evalue": "PuLP: cannot execute scip",
     "output_type": "error",
     "traceback": [
      "\u001b[0;31m---------------------------------------------------------------------------\u001b[0m",
      "\u001b[0;31mPulpSolverError\u001b[0m                           Traceback (most recent call last)",
      "Cell \u001b[0;32mIn[20], line 5\u001b[0m\n\u001b[1;32m      1\u001b[0m \u001b[38;5;28;01mfrom\u001b[39;00m \u001b[38;5;21;01mscheduler_pulp\u001b[39;00m \u001b[38;5;28;01mimport\u001b[39;00m SchedulerPulp\n\u001b[1;32m      2\u001b[0m scheduler \u001b[38;5;241m=\u001b[39m SchedulerPulp(now\u001b[38;5;241m=\u001b[39msinfo[\u001b[38;5;124m\"\u001b[39m\u001b[38;5;124mnow\u001b[39m\u001b[38;5;124m\"\u001b[39m], horizon\u001b[38;5;241m=\u001b[39msinfo[\u001b[38;5;124m\"\u001b[39m\u001b[38;5;124mhorizon\u001b[39m\u001b[38;5;124m\"\u001b[39m], slice_size\u001b[38;5;241m=\u001b[39msinfo[\u001b[38;5;124m\"\u001b[39m\u001b[38;5;124mslice_size\u001b[39m\u001b[38;5;124m\"\u001b[39m],\n\u001b[1;32m      3\u001b[0m                             resources\u001b[38;5;241m=\u001b[39msinfo[\u001b[38;5;124m\"\u001b[39m\u001b[38;5;124mresources\u001b[39m\u001b[38;5;124m\"\u001b[39m], proposals\u001b[38;5;241m=\u001b[39msinfo[\u001b[38;5;124m\"\u001b[39m\u001b[38;5;124mproposals\u001b[39m\u001b[38;5;124m\"\u001b[39m], requests\u001b[38;5;241m=\u001b[39msinfo[\u001b[38;5;124m\"\u001b[39m\u001b[38;5;124mrequests\u001b[39m\u001b[38;5;124m\"\u001b[39m],\n\u001b[1;32m      4\u001b[0m                             verbose\u001b[38;5;241m=\u001b[39m\u001b[38;5;241m0\u001b[39m, timelimit\u001b[38;5;241m=\u001b[39msinfo[\u001b[38;5;124m\"\u001b[39m\u001b[38;5;124mtimelimit\u001b[39m\u001b[38;5;124m\"\u001b[39m], scheduler_type\u001b[38;5;241m=\u001b[39m\u001b[38;5;124m\"\u001b[39m\u001b[38;5;124mscip\u001b[39m\u001b[38;5;124m\"\u001b[39m)\n\u001b[0;32m----> 5\u001b[0m results \u001b[38;5;241m=\u001b[39m \u001b[43mscheduler\u001b[49m\u001b[38;5;241;43m.\u001b[39;49m\u001b[43mrun\u001b[49m\u001b[43m(\u001b[49m\u001b[43m)\u001b[49m\n\u001b[1;32m      6\u001b[0m \u001b[38;5;28mprint\u001b[39m(\u001b[38;5;124m\"\u001b[39m\u001b[38;5;124mTotal Time: \u001b[39m\u001b[38;5;132;01m{}\u001b[39;00m\u001b[38;5;124ms\u001b[39m\u001b[38;5;124m\"\u001b[39m\u001b[38;5;241m.\u001b[39mformat(scheduler\u001b[38;5;241m.\u001b[39mget_total_time()))\n\u001b[1;32m      7\u001b[0m \u001b[38;5;28mprint\u001b[39m(\u001b[38;5;124m\"\u001b[39m\u001b[38;5;124mBuild: \u001b[39m\u001b[38;5;132;01m{}\u001b[39;00m\u001b[38;5;124ms, Solve: \u001b[39m\u001b[38;5;132;01m{}\u001b[39;00m\u001b[38;5;124ms, Interpret: \u001b[39m\u001b[38;5;132;01m{}\u001b[39;00m\u001b[38;5;124ms\u001b[39m\u001b[38;5;124m\"\u001b[39m\u001b[38;5;241m.\u001b[39mformat(scheduler\u001b[38;5;241m.\u001b[39mbuild_time, scheduler\u001b[38;5;241m.\u001b[39msolve_time, scheduler\u001b[38;5;241m.\u001b[39minterpret_time))\n",
      "File \u001b[0;32m~/custom_scheduler/scheduler_v2.py:217\u001b[0m, in \u001b[0;36mSchedulerV2.run\u001b[0;34m(self)\u001b[0m\n\u001b[1;32m    215\u001b[0m \u001b[38;5;28mself\u001b[39m\u001b[38;5;241m.\u001b[39mbuild_data_structures()\n\u001b[1;32m    216\u001b[0m \u001b[38;5;28mself\u001b[39m\u001b[38;5;241m.\u001b[39mtime_build_model()\n\u001b[0;32m--> 217\u001b[0m \u001b[38;5;28;43mself\u001b[39;49m\u001b[38;5;241;43m.\u001b[39;49m\u001b[43mtime_solve_model\u001b[49m\u001b[43m(\u001b[49m\u001b[43m)\u001b[49m\n\u001b[1;32m    218\u001b[0m \u001b[38;5;28mself\u001b[39m\u001b[38;5;241m.\u001b[39mtime_interpret_model()\n\u001b[1;32m    219\u001b[0m \u001b[38;5;28;01mreturn\u001b[39;00m \u001b[38;5;28mself\u001b[39m\u001b[38;5;241m.\u001b[39mreturn_solution()\n",
      "File \u001b[0;32m~/custom_scheduler/scheduler_v2.py:156\u001b[0m, in \u001b[0;36mSchedulerV2.time_solve_model\u001b[0;34m(self)\u001b[0m\n\u001b[1;32m    154\u001b[0m \u001b[38;5;28;01mdef\u001b[39;00m \u001b[38;5;21mtime_solve_model\u001b[39m(\u001b[38;5;28mself\u001b[39m):\n\u001b[1;32m    155\u001b[0m     start_solve \u001b[38;5;241m=\u001b[39m time\u001b[38;5;241m.\u001b[39mtime()\n\u001b[0;32m--> 156\u001b[0m     \u001b[38;5;28;43mself\u001b[39;49m\u001b[38;5;241;43m.\u001b[39;49m\u001b[43msolve_model\u001b[49m\u001b[43m(\u001b[49m\u001b[43m)\u001b[49m\n\u001b[1;32m    157\u001b[0m     end_solve \u001b[38;5;241m=\u001b[39m time\u001b[38;5;241m.\u001b[39mtime()\n\u001b[1;32m    158\u001b[0m     \u001b[38;5;28mself\u001b[39m\u001b[38;5;241m.\u001b[39msolve_time \u001b[38;5;241m=\u001b[39m end_solve \u001b[38;5;241m-\u001b[39m start_solve\n",
      "File \u001b[0;32m~/custom_scheduler/scheduler_pulp.py:89\u001b[0m, in \u001b[0;36mSchedulerPulp.solve_model\u001b[0;34m(self)\u001b[0m\n\u001b[1;32m     87\u001b[0m \u001b[38;5;28;01mdef\u001b[39;00m \u001b[38;5;21msolve_model\u001b[39m(\u001b[38;5;28mself\u001b[39m):\n\u001b[1;32m     88\u001b[0m     solver \u001b[38;5;241m=\u001b[39m \u001b[38;5;28mself\u001b[39m\u001b[38;5;241m.\u001b[39mgetSolver()\n\u001b[0;32m---> 89\u001b[0m     status \u001b[38;5;241m=\u001b[39m \u001b[38;5;28;43mself\u001b[39;49m\u001b[38;5;241;43m.\u001b[39;49m\u001b[43mmodel\u001b[49m\u001b[38;5;241;43m.\u001b[39;49m\u001b[43msolve\u001b[49m\u001b[43m(\u001b[49m\u001b[43msolver\u001b[49m\u001b[43m)\u001b[49m\n\u001b[1;32m     90\u001b[0m     \u001b[38;5;28;01mif\u001b[39;00m status \u001b[38;5;241m!=\u001b[39m \u001b[38;5;241m1\u001b[39m:\n\u001b[1;32m     91\u001b[0m         \u001b[38;5;28mprint\u001b[39m(\u001b[38;5;124mf\u001b[39m\u001b[38;5;124m\"\u001b[39m\u001b[38;5;124mModel Status not optimal: \u001b[39m\u001b[38;5;132;01m{\u001b[39;00mstatus\u001b[38;5;132;01m}\u001b[39;00m\u001b[38;5;124m\"\u001b[39m)\n",
      "File \u001b[0;32m~/custom_scheduler/.venv/lib/python3.10/site-packages/pulp/pulp.py:1883\u001b[0m, in \u001b[0;36mLpProblem.solve\u001b[0;34m(self, solver, **kwargs)\u001b[0m\n\u001b[1;32m   1881\u001b[0m \u001b[38;5;66;03m# time it\u001b[39;00m\n\u001b[1;32m   1882\u001b[0m \u001b[38;5;28mself\u001b[39m\u001b[38;5;241m.\u001b[39mstartClock()\n\u001b[0;32m-> 1883\u001b[0m status \u001b[38;5;241m=\u001b[39m \u001b[43msolver\u001b[49m\u001b[38;5;241;43m.\u001b[39;49m\u001b[43mactualSolve\u001b[49m\u001b[43m(\u001b[49m\u001b[38;5;28;43mself\u001b[39;49m\u001b[43m,\u001b[49m\u001b[43m \u001b[49m\u001b[38;5;241;43m*\u001b[39;49m\u001b[38;5;241;43m*\u001b[39;49m\u001b[43mkwargs\u001b[49m\u001b[43m)\u001b[49m\n\u001b[1;32m   1884\u001b[0m \u001b[38;5;28mself\u001b[39m\u001b[38;5;241m.\u001b[39mstopClock()\n\u001b[1;32m   1885\u001b[0m \u001b[38;5;28mself\u001b[39m\u001b[38;5;241m.\u001b[39mrestoreObjective(wasNone, dummyVar)\n",
      "File \u001b[0;32m~/custom_scheduler/.venv/lib/python3.10/site-packages/pulp/apis/scip_api.py:119\u001b[0m, in \u001b[0;36mSCIP_CMD.actualSolve\u001b[0;34m(self, lp)\u001b[0m\n\u001b[1;32m    117\u001b[0m \u001b[38;5;250m\u001b[39m\u001b[38;5;124;03m\"\"\"Solve a well formulated lp problem\"\"\"\u001b[39;00m\n\u001b[1;32m    118\u001b[0m \u001b[38;5;28;01mif\u001b[39;00m \u001b[38;5;129;01mnot\u001b[39;00m \u001b[38;5;28mself\u001b[39m\u001b[38;5;241m.\u001b[39mexecutable(\u001b[38;5;28mself\u001b[39m\u001b[38;5;241m.\u001b[39mpath):\n\u001b[0;32m--> 119\u001b[0m     \u001b[38;5;28;01mraise\u001b[39;00m PulpSolverError(\u001b[38;5;124m\"\u001b[39m\u001b[38;5;124mPuLP: cannot execute \u001b[39m\u001b[38;5;124m\"\u001b[39m \u001b[38;5;241m+\u001b[39m \u001b[38;5;28mself\u001b[39m\u001b[38;5;241m.\u001b[39mpath)\n\u001b[1;32m    121\u001b[0m tmpLp, tmpSol, tmpOptions \u001b[38;5;241m=\u001b[39m \u001b[38;5;28mself\u001b[39m\u001b[38;5;241m.\u001b[39mcreate_tmp_files(lp\u001b[38;5;241m.\u001b[39mname, \u001b[38;5;124m\"\u001b[39m\u001b[38;5;124mlp\u001b[39m\u001b[38;5;124m\"\u001b[39m, \u001b[38;5;124m\"\u001b[39m\u001b[38;5;124msol\u001b[39m\u001b[38;5;124m\"\u001b[39m, \u001b[38;5;124m\"\u001b[39m\u001b[38;5;124mset\u001b[39m\u001b[38;5;124m\"\u001b[39m)\n\u001b[1;32m    122\u001b[0m lp\u001b[38;5;241m.\u001b[39mwriteLP(tmpLp)\n",
      "\u001b[0;31mPulpSolverError\u001b[0m: PuLP: cannot execute scip"
     ]
    }
   ],
   "source": [
    "from scheduler_pulp import SchedulerPulp\n",
    "scheduler = SchedulerPulp(now=sinfo[\"now\"], horizon=sinfo[\"horizon\"], slice_size=sinfo[\"slice_size\"],\n",
    "                            resources=sinfo[\"resources\"], proposals=sinfo[\"proposals\"], requests=sinfo[\"requests\"],\n",
    "                            verbose=0, timelimit=sinfo[\"timelimit\"], scheduler_type=\"scip\")\n",
    "results = scheduler.run()\n",
    "print(\"Total Time: {}s\".format(scheduler.get_total_time()))\n",
    "print(\"Build: {}s, Solve: {}s, Interpret: {}s\".format(scheduler.build_time, scheduler.solve_time, scheduler.interpret_time))\n",
    "print(\"Objective Value Difference:\", scheduler.objective_value - DEFAULT_OBJ_VALUE)\n",
    "print(\"Same Scheduled Requests:\", set(scheduler.scheduled_requests[\"scheduled\"].keys()) == DEFAULT_SCHEDULED_REQUESTS)"
   ]
  },
  {
   "cell_type": "markdown",
   "id": "fdeb1cd9-41c8-4314-935a-cdef62913ec6",
   "metadata": {},
   "source": [
    "## HiGHS"
   ]
  },
  {
   "cell_type": "code",
   "execution_count": 16,
   "id": "e3a5c720-7f4b-4a4c-9cb3-62b2b54d40a9",
   "metadata": {
    "execution": {
     "iopub.execute_input": "2024-03-08T17:07:47.252164Z",
     "iopub.status.busy": "2024-03-08T17:07:47.244144Z",
     "iopub.status.idle": "2024-03-08T17:07:47.493911Z",
     "shell.execute_reply": "2024-03-08T17:07:47.493911Z",
     "shell.execute_reply.started": "2024-03-08T17:07:47.252164Z"
    }
   },
   "outputs": [
    {
     "name": "stdout",
     "output_type": "stream",
     "text": [
      "Build: 0.06208610534667969s, Solve: 0.05869913101196289s, Interpret: 0.0s\n",
      "Total Time: 0.16445708274841309s\n",
      "Objective Value Difference: 0.0\n",
      "Same Scheduled Requests: True\n"
     ]
    }
   ],
   "source": [
    "from scheduler_highs import SchedulerHighs\n",
    "scheduler = SchedulerHighs(now=sinfo[\"now\"], horizon=sinfo[\"horizon\"], slice_size=sinfo[\"slice_size\"],\n",
    "                            resources=sinfo[\"resources\"], proposals=sinfo[\"proposals\"], requests=sinfo[\"requests\"],\n",
    "                            verbose=0, timelimit=sinfo[\"timelimit\"], scheduler_type=\"highs\")\n",
    "results = scheduler.run()\n",
    "print(\"Build: {}s, Solve: {}s, Interpret: {}s\".format(scheduler.build_time, scheduler.solve_time, scheduler.interpret_time))\n",
    "print(\"Total Time: {}s\".format(scheduler.get_total_time()))\n",
    "print(\"Objective Value Difference:\", scheduler.objective_value - DEFAULT_OBJ_VALUE)\n",
    "print(\"Same Scheduled Requests:\", set(scheduler.scheduled_requests[\"scheduled\"].keys()) == DEFAULT_SCHEDULED_REQUESTS)"
   ]
  }
 ],
 "metadata": {
  "kernelspec": {
   "display_name": "Python 3 (ipykernel)",
   "language": "python",
   "name": "python3"
  },
  "language_info": {
   "codemirror_mode": {
    "name": "ipython",
    "version": 3
   },
   "file_extension": ".py",
   "mimetype": "text/x-python",
   "name": "python",
   "nbconvert_exporter": "python",
   "pygments_lexer": "ipython3",
   "version": "3.10.12"
  }
 },
 "nbformat": 4,
 "nbformat_minor": 5
}
