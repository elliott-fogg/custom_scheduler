{
 "cells": [
  {
   "cell_type": "markdown",
   "id": "ec4eb222-ef1d-40b9-bf58-04b173970655",
   "metadata": {
    "execution": {
     "iopub.execute_input": "2024-02-01T23:47:18.915029Z",
     "iopub.status.busy": "2024-02-01T23:47:18.914029Z",
     "iopub.status.idle": "2024-02-01T23:47:18.926933Z",
     "shell.execute_reply": "2024-02-01T23:47:18.925916Z",
     "shell.execute_reply.started": "2024-02-01T23:47:18.915029Z"
    }
   },
   "source": [
    "## PuLP Setup"
   ]
  },
  {
   "cell_type": "code",
   "execution_count": 1,
   "id": "47dc5f75-afbe-45d4-8add-b97f22f491cb",
   "metadata": {
    "execution": {
     "iopub.execute_input": "2024-02-06T16:07:02.499764Z",
     "iopub.status.busy": "2024-02-06T16:07:02.498763Z",
     "iopub.status.idle": "2024-02-06T16:07:07.518836Z",
     "shell.execute_reply": "2024-02-06T16:07:07.518836Z",
     "shell.execute_reply.started": "2024-02-06T16:07:02.499764Z"
    }
   },
   "outputs": [
    {
     "name": "stdout",
     "output_type": "stream",
     "text": [
      "Set parameter Username\n",
      "Academic license - for non-commercial use only - expires 2024-08-20\n",
      "No parameters matching '_test' found\n",
      "['GLPK_CMD', 'PYGLPK', 'CPLEX_CMD', 'CPLEX_PY', 'GUROBI', 'GUROBI_CMD', 'MOSEK', 'XPRESS', 'XPRESS', 'XPRESS_PY', 'PULP_CBC_CMD', 'COIN_CMD', 'COINMP_DLL', 'CHOCO_CMD', 'MIPCL_CMD', 'SCIP_CMD', 'HiGHS_CMD']\n",
      "['GUROBI', 'GUROBI_CMD', 'PULP_CBC_CMD', 'SCIP_CMD', 'HiGHS_CMD']\n"
     ]
    }
   ],
   "source": [
    "import pulp as pl\n",
    "solver_list = pl.listSolvers()\n",
    "available_solvers = pl.listSolvers(onlyAvailable=True)\n",
    "print(solver_list)\n",
    "print(available_solvers)"
   ]
  },
  {
   "cell_type": "code",
   "execution_count": 2,
   "id": "ef2a8774-40a3-4990-b7d8-75a9273ba130",
   "metadata": {
    "execution": {
     "iopub.execute_input": "2024-02-01T23:42:48.800724Z",
     "iopub.status.busy": "2024-02-01T23:42:48.799724Z",
     "iopub.status.idle": "2024-02-01T23:42:48.818574Z",
     "shell.execute_reply": "2024-02-01T23:42:48.816551Z",
     "shell.execute_reply.started": "2024-02-01T23:42:48.800724Z"
    }
   },
   "outputs": [],
   "source": [
    "def test_minimize(solver):\n",
    "    model = pl.LpProblem(\"Example\", pl.LpMinimize)\n",
    "    var_set = [\"a1\", \"a2\", \"a3\"]\n",
    "    _vars = pl.LpVariable.dict(\"var_set\", var_set, lowBound=0, upBound=10, cat=\"Integer\")\n",
    "\n",
    "    print([v for v in _vars])\n",
    "    \n",
    "    model.setObjective(pl.lpSum(_vars))\n",
    "    \n",
    "    model += _vars['a1']*3 + _vars['a2']*2 - 4*_vars['a3'] == 26\n",
    "    model += _vars['a1'] <= 3\n",
    "\n",
    "    model.writeMPS(\"pulp_min.mps\")\n",
    "    \n",
    "    result = model.solve(solver)\n",
    "\n",
    "    print(model.objective.value())\n",
    "\n",
    "    for v in _vars:\n",
    "        print(_vars[v].name, _vars[v].value())\n",
    "    return result"
   ]
  },
  {
   "cell_type": "code",
   "execution_count": 3,
   "id": "0edf2bef-ec33-4c29-afbd-fef1580295fe",
   "metadata": {
    "execution": {
     "iopub.execute_input": "2024-02-01T23:42:56.378546Z",
     "iopub.status.busy": "2024-02-01T23:42:56.377553Z",
     "iopub.status.idle": "2024-02-01T23:42:56.395081Z",
     "shell.execute_reply": "2024-02-01T23:42:56.394078Z",
     "shell.execute_reply.started": "2024-02-01T23:42:56.378546Z"
    }
   },
   "outputs": [],
   "source": [
    "def test_maximize(solver):\n",
    "    model = pl.LpProblem(\"Example\", pl.LpMaximize)\n",
    "    var_set = [\"b1\", \"b2\", \"b3\"]\n",
    "    _vars = pl.LpVariable.dict(\"var_set\", var_set, lowBound=0, upBound=10, cat=\"Integer\")\n",
    "\n",
    "    model.setObjective(pl.lpSum(_vars))\n",
    "    \n",
    "    model += _vars['b1']*3 + _vars['b2']*2 - 4*_vars['b3'] == 26\n",
    "\n",
    "    model.writeMPS(\"pulp_max.mps\")\n",
    "    \n",
    "    result = model.solve(solver)\n",
    "\n",
    "    print(model.objective.value())\n",
    "\n",
    "    for v in _vars:\n",
    "        print(_vars[v], _vars[v].value())\n",
    "    return result"
   ]
  },
  {
   "cell_type": "code",
   "execution_count": 4,
   "id": "46149518-6aad-4720-898c-b0ed13effc3a",
   "metadata": {
    "execution": {
     "iopub.execute_input": "2024-02-01T23:43:03.776996Z",
     "iopub.status.busy": "2024-02-01T23:43:03.775993Z",
     "iopub.status.idle": "2024-02-01T23:43:03.797584Z",
     "shell.execute_reply": "2024-02-01T23:43:03.794569Z",
     "shell.execute_reply.started": "2024-02-01T23:43:03.776996Z"
    }
   },
   "outputs": [],
   "source": [
    "def test_mps(solver):\n",
    "    vars, prob = pl.LpProblem.fromMPS(\"pulp_max.mps\", pl.LpMaximize)\n",
    "    result = prob.solve(solver)\n",
    "    print(\"Result:\", result)\n",
    "    print(\"Objective:\", prob.objective.value())\n",
    "    print(\"Variables:\")\n",
    "    for v in prob.variables():\n",
    "        print(\"\\t{}: {}\".format(v, v.value()))"
   ]
  },
  {
   "cell_type": "code",
   "execution_count": 5,
   "id": "12dfbe71-8c4a-427f-8ea9-d381064f88ad",
   "metadata": {
    "execution": {
     "iopub.execute_input": "2024-02-01T23:43:10.912640Z",
     "iopub.status.busy": "2024-02-01T23:43:10.912640Z",
     "iopub.status.idle": "2024-02-01T23:43:10.923919Z",
     "shell.execute_reply": "2024-02-01T23:43:10.922911Z",
     "shell.execute_reply.started": "2024-02-01T23:43:10.912640Z"
    }
   },
   "outputs": [],
   "source": [
    "def test_schedule_file(solver):\n",
    "    vars, prob = vars, prob = pl.LpProblem.fromMPS(\"new_test_file.mps\", pl.LpMaximize)\n",
    "    result = prob.solve(solver)\n",
    "    print(\"Result:\", result)\n",
    "    print(\"Objective:\", prob.objective.value())\n",
    "    print(\"Variables:\")\n",
    "    for v in prob.variables():\n",
    "        if v.value() == 1:\n",
    "            print(\"\\t{}: {}\".format(v, v.value()))"
   ]
  },
  {
   "cell_type": "markdown",
   "id": "99f75dc1-5e66-49be-a806-fac75d63f154",
   "metadata": {},
   "source": [
    "## GLPK"
   ]
  },
  {
   "cell_type": "code",
   "execution_count": 7,
   "id": "0e38a469-7ccf-4ffe-9717-39e78f27b223",
   "metadata": {
    "execution": {
     "iopub.execute_input": "2024-02-01T23:44:33.373860Z",
     "iopub.status.busy": "2024-02-01T23:44:33.372853Z",
     "iopub.status.idle": "2024-02-01T23:44:40.059359Z",
     "shell.execute_reply": "2024-02-01T23:44:40.059359Z",
     "shell.execute_reply.started": "2024-02-01T23:44:33.373860Z"
    },
    "scrolled": true
   },
   "outputs": [
    {
     "name": "stdout",
     "output_type": "stream",
     "text": [
      "['a1', 'a2', 'a3']\n",
      "12\n",
      "var_set_a1 2\n",
      "var_set_a2 10\n",
      "var_set_a3 0\n",
      "26\n",
      "var_set_b1 10\n",
      "var_set_b2 10\n",
      "var_set_b3 6\n",
      "Result: 1\n",
      "Objective: 26.0\n",
      "Variables:\n",
      "\tvar_set_b1: 10\n",
      "\tvar_set_b2: 10\n",
      "\tvar_set_b3: 6\n",
      "Result: 1\n",
      "Objective: 38714.08810728325\n",
      "Variables:\n",
      "\tisSched_11163: 1\n",
      "\tisSched_11947: 1\n",
      "\tisSched_12199: 1\n",
      "\tisSched_13282: 1\n",
      "\tisSched_13320: 1\n",
      "\tisSched_1358: 1\n",
      "\tisSched_1360: 1\n",
      "\tisSched_13941: 1\n",
      "\tisSched_14066: 1\n",
      "\tisSched_1409: 1\n",
      "\tisSched_14257: 1\n",
      "\tisSched_15753: 1\n",
      "\tisSched_1627: 1\n",
      "\tisSched_16289: 1\n",
      "\tisSched_17200: 1\n",
      "\tisSched_17976: 1\n",
      "\tisSched_18012: 1\n",
      "\tisSched_18639: 1\n",
      "\tisSched_18828: 1\n",
      "\tisSched_190: 1\n",
      "\tisSched_19123: 1\n",
      "\tisSched_20341: 1\n",
      "\tisSched_20536: 1\n",
      "\tisSched_2283: 1\n",
      "\tisSched_2476: 1\n",
      "\tisSched_2991: 1\n",
      "\tisSched_3698: 1\n",
      "\tisSched_4525: 1\n",
      "\tisSched_4939: 1\n",
      "\tisSched_4959: 1\n",
      "\tisSched_5011: 1\n",
      "\tisSched_6065: 1\n",
      "\tisSched_6143: 1\n",
      "\tisSched_6694: 1\n",
      "\tisSched_7182: 1\n",
      "\tisSched_7437: 1\n",
      "\tisSched_8992: 1\n",
      "\tisSched_9150: 1\n",
      "\tisSched_9271: 1\n"
     ]
    }
   ],
   "source": [
    "glpk_path = \"C:/Users/ecf3/Documents/glpk/glpk-4.65/w64/glpsol.exe\"\n",
    "glpk_solver = pl.GLPK_CMD(path=glpk_path)\n",
    "\n",
    "test_minimize(glpk_solver)\n",
    "test_maximize(glpk_solver)\n",
    "test_mps(glpk_solver)\n",
    "test_schedule_file(glpk_solver)"
   ]
  },
  {
   "cell_type": "markdown",
   "id": "c80bae74-4a26-4aa9-b51d-614595681bdd",
   "metadata": {},
   "source": [
    "## Gurobi"
   ]
  },
  {
   "cell_type": "code",
   "execution_count": 8,
   "id": "f5e47b0e-9469-4e98-a258-ee8c68df373e",
   "metadata": {
    "execution": {
     "iopub.execute_input": "2024-02-01T23:44:54.035014Z",
     "iopub.status.busy": "2024-02-01T23:44:54.034015Z",
     "iopub.status.idle": "2024-02-01T23:44:57.560284Z",
     "shell.execute_reply": "2024-02-01T23:44:57.558263Z",
     "shell.execute_reply.started": "2024-02-01T23:44:54.035014Z"
    }
   },
   "outputs": [
    {
     "name": "stdout",
     "output_type": "stream",
     "text": [
      "['a1', 'a2', 'a3']\n",
      "Gurobi Optimizer version 10.0.3 build v10.0.3rc0 (win64)\n",
      "\n",
      "CPU model: Intel(R) Core(TM) i5-8250U CPU @ 1.60GHz, instruction set [SSE2|AVX|AVX2]\n",
      "Thread count: 4 physical cores, 8 logical processors, using up to 8 threads\n",
      "\n",
      "Optimize a model with 2 rows, 3 columns and 4 nonzeros\n",
      "Model fingerprint: 0x4959c097\n",
      "Variable types: 0 continuous, 3 integer (0 binary)\n",
      "Coefficient statistics:\n",
      "  Matrix range     [1e+00, 4e+00]\n",
      "  Objective range  [1e+00, 1e+00]\n",
      "  Bounds range     [1e+01, 1e+01]\n",
      "  RHS range        [3e+00, 3e+01]\n",
      "Presolve removed 2 rows and 3 columns\n",
      "Presolve time: 0.00s\n",
      "Presolve: All rows and columns removed\n",
      "\n",
      "Explored 0 nodes (0 simplex iterations) in 0.01 seconds (0.00 work units)\n",
      "Thread count was 1 (of 8 available processors)\n",
      "\n",
      "Solution count 1: 12 \n",
      "\n",
      "Optimal solution found (tolerance 1.00e-04)\n",
      "Best objective 1.200000000000e+01, best bound 1.200000000000e+01, gap 0.0000%\n",
      "Gurobi status= 2\n",
      "12.0\n",
      "var_set_a1 2.0\n",
      "var_set_a2 10.0\n",
      "var_set_a3 0.0\n",
      "Gurobi Optimizer version 10.0.3 build v10.0.3rc0 (win64)\n",
      "\n",
      "CPU model: Intel(R) Core(TM) i5-8250U CPU @ 1.60GHz, instruction set [SSE2|AVX|AVX2]\n",
      "Thread count: 4 physical cores, 8 logical processors, using up to 8 threads\n",
      "\n",
      "Optimize a model with 1 rows, 3 columns and 3 nonzeros\n",
      "Model fingerprint: 0x84171896\n",
      "Variable types: 0 continuous, 3 integer (0 binary)\n",
      "Coefficient statistics:\n",
      "  Matrix range     [2e+00, 4e+00]\n",
      "  Objective range  [1e+00, 1e+00]\n",
      "  Bounds range     [1e+01, 1e+01]\n",
      "  RHS range        [3e+01, 3e+01]\n",
      "Presolve removed 1 rows and 3 columns\n",
      "Presolve time: 0.00s\n",
      "Presolve: All rows and columns removed\n",
      "\n",
      "Explored 0 nodes (0 simplex iterations) in 0.02 seconds (0.00 work units)\n",
      "Thread count was 1 (of 8 available processors)\n",
      "\n",
      "Solution count 1: 26 \n",
      "\n",
      "Optimal solution found (tolerance 1.00e-04)\n",
      "Best objective 2.600000000000e+01, best bound 2.600000000000e+01, gap 0.0000%\n",
      "Gurobi status= 2\n",
      "26.0\n",
      "var_set_b1 10.0\n",
      "var_set_b2 10.0\n",
      "var_set_b3 6.0\n",
      "Gurobi Optimizer version 10.0.3 build v10.0.3rc0 (win64)\n",
      "\n",
      "CPU model: Intel(R) Core(TM) i5-8250U CPU @ 1.60GHz, instruction set [SSE2|AVX|AVX2]\n",
      "Thread count: 4 physical cores, 8 logical processors, using up to 8 threads\n",
      "\n",
      "Optimize a model with 1 rows, 3 columns and 3 nonzeros\n",
      "Model fingerprint: 0x84171896\n",
      "Variable types: 0 continuous, 3 integer (0 binary)\n",
      "Coefficient statistics:\n",
      "  Matrix range     [2e+00, 4e+00]\n",
      "  Objective range  [1e+00, 1e+00]\n",
      "  Bounds range     [1e+01, 1e+01]\n",
      "  RHS range        [3e+01, 3e+01]\n",
      "Presolve removed 1 rows and 3 columns\n",
      "Presolve time: 0.00s\n",
      "Presolve: All rows and columns removed\n",
      "\n",
      "Explored 0 nodes (0 simplex iterations) in 0.01 seconds (0.00 work units)\n",
      "Thread count was 1 (of 8 available processors)\n",
      "\n",
      "Solution count 1: 26 \n",
      "\n",
      "Optimal solution found (tolerance 1.00e-04)\n",
      "Best objective 2.600000000000e+01, best bound 2.600000000000e+01, gap 0.0000%\n",
      "Gurobi status= 2\n",
      "Result: 1\n",
      "Objective: 26.0\n",
      "Variables:\n",
      "\tvar_set_b1: 10.0\n",
      "\tvar_set_b2: 10.0\n",
      "\tvar_set_b3: 6.0\n",
      "Gurobi Optimizer version 10.0.3 build v10.0.3rc0 (win64)\n",
      "\n",
      "CPU model: Intel(R) Core(TM) i5-8250U CPU @ 1.60GHz, instruction set [SSE2|AVX|AVX2]\n",
      "Thread count: 4 physical cores, 8 logical processors, using up to 8 threads\n",
      "\n",
      "Optimize a model with 711 rows, 21693 columns and 106950 nonzeros\n",
      "Model fingerprint: 0x11adc90e\n",
      "Variable types: 0 continuous, 21693 integer (0 binary)\n",
      "Coefficient statistics:\n",
      "  Matrix range     [1e+00, 1e+00]\n",
      "  Objective range  [2e+01, 2e+03]\n",
      "  Bounds range     [1e+00, 1e+00]\n",
      "  RHS range        [1e+00, 1e+00]\n",
      "Found heuristic solution: objective 21945.835613\n",
      "Presolve removed 23 rows and 472 columns\n",
      "Presolve time: 0.37s\n",
      "Presolved: 688 rows, 21221 columns, 103837 nonzeros\n",
      "Variable types: 0 continuous, 21221 integer (21221 binary)\n",
      "Found heuristic solution: objective 35498.023736\n",
      "\n",
      "Root relaxation: objective 3.872871e+04, 4613 iterations, 0.60 seconds (0.57 work units)\n",
      "\n",
      "    Nodes    |    Current Node    |     Objective Bounds      |     Work\n",
      " Expl Unexpl |  Obj  Depth IntInf | Incumbent    BestBd   Gap | It/Node Time\n",
      "\n",
      "     0     0 38728.7057    0   66 35498.0237 38728.7057  9.10%     -    1s\n",
      "H    0     0                    38714.088107 38728.7057  0.04%     -    1s\n",
      "\n",
      "Cutting planes:\n",
      "  Clique: 6\n",
      "  Mod-K: 31\n",
      "\n",
      "Explored 1 nodes (4613 simplex iterations) in 1.62 seconds (1.19 work units)\n",
      "Thread count was 8 (of 8 available processors)\n",
      "\n",
      "Solution count 3: 38714.1 35498 21945.8 \n",
      "\n",
      "Optimal solution found (tolerance 1.00e-04)\n",
      "Best objective 3.871408810728e+04, best bound 3.871780350393e+04, gap 0.0096%\n",
      "Gurobi status= 2\n",
      "Result: 1\n",
      "Objective: 38714.08810728325\n",
      "Variables:\n",
      "\tisSched_11163: 1.0\n",
      "\tisSched_11947: 1.0\n",
      "\tisSched_12199: 1.0\n",
      "\tisSched_13282: 1.0\n",
      "\tisSched_13320: 1.0\n",
      "\tisSched_1358: 1.0\n",
      "\tisSched_1360: 1.0\n",
      "\tisSched_13941: 1.0\n",
      "\tisSched_14066: 1.0\n",
      "\tisSched_1409: 1.0\n",
      "\tisSched_14257: 1.0\n",
      "\tisSched_15753: 1.0\n",
      "\tisSched_1627: 1.0\n",
      "\tisSched_16289: 1.0\n",
      "\tisSched_17200: 1.0\n",
      "\tisSched_17976: 1.0\n",
      "\tisSched_18012: 1.0\n",
      "\tisSched_18639: 1.0\n",
      "\tisSched_18828: 1.0\n",
      "\tisSched_190: 1.0\n",
      "\tisSched_19123: 1.0\n",
      "\tisSched_20341: 1.0\n",
      "\tisSched_20536: 1.0\n",
      "\tisSched_2283: 1.0\n",
      "\tisSched_2476: 1.0\n",
      "\tisSched_2991: 1.0\n",
      "\tisSched_3698: 1.0\n",
      "\tisSched_4525: 1.0\n",
      "\tisSched_4939: 1.0\n",
      "\tisSched_4959: 1.0\n",
      "\tisSched_5011: 1.0\n",
      "\tisSched_6065: 1.0\n",
      "\tisSched_6143: 1.0\n",
      "\tisSched_6694: 1.0\n",
      "\tisSched_7182: 1.0\n",
      "\tisSched_7437: 1.0\n",
      "\tisSched_8992: 1.0\n",
      "\tisSched_9150: 1.0\n",
      "\tisSched_9271: 1.0\n"
     ]
    }
   ],
   "source": [
    "gurobi_solver = pl.GUROBI()\n",
    "\n",
    "test_minimize(gurobi_solver)\n",
    "test_maximize(gurobi_solver)\n",
    "test_mps(gurobi_solver)\n",
    "test_schedule_file(gurobi_solver)"
   ]
  },
  {
   "cell_type": "markdown",
   "id": "5583a547-14a9-4b49-aaa6-d299d57a5d09",
   "metadata": {},
   "source": [
    "## GUROBI_CMD"
   ]
  },
  {
   "cell_type": "code",
   "execution_count": 10,
   "id": "7661facb-5f3c-456c-a8df-281b4948b03a",
   "metadata": {
    "execution": {
     "iopub.execute_input": "2024-02-01T23:45:20.516421Z",
     "iopub.status.busy": "2024-02-01T23:45:20.516421Z",
     "iopub.status.idle": "2024-02-01T23:45:34.038540Z",
     "shell.execute_reply": "2024-02-01T23:45:34.038540Z",
     "shell.execute_reply.started": "2024-02-01T23:45:20.516421Z"
    }
   },
   "outputs": [
    {
     "name": "stdout",
     "output_type": "stream",
     "text": [
      "['a1', 'a2', 'a3']\n",
      "12.0\n",
      "var_set_a1 2.0\n",
      "var_set_a2 10.0\n",
      "var_set_a3 0.0\n",
      "26.0\n",
      "var_set_b1 10.0\n",
      "var_set_b2 10.0\n",
      "var_set_b3 6.0\n",
      "Result: 1\n",
      "Objective: 26.0\n",
      "Variables:\n",
      "\tvar_set_b1: 10.0\n",
      "\tvar_set_b2: 10.0\n",
      "\tvar_set_b3: 6.0\n",
      "Result: 1\n",
      "Objective: 38714.08810728325\n",
      "Variables:\n",
      "\tisSched_11163: 1.0\n",
      "\tisSched_11947: 1.0\n",
      "\tisSched_12199: 1.0\n",
      "\tisSched_13282: 1.0\n",
      "\tisSched_13320: 1.0\n",
      "\tisSched_1358: 1.0\n",
      "\tisSched_1360: 1.0\n",
      "\tisSched_13941: 1.0\n",
      "\tisSched_14066: 1.0\n",
      "\tisSched_1409: 1.0\n",
      "\tisSched_14257: 1.0\n",
      "\tisSched_15753: 1.0\n",
      "\tisSched_1627: 1.0\n",
      "\tisSched_16289: 1.0\n",
      "\tisSched_17200: 1.0\n",
      "\tisSched_17976: 1.0\n",
      "\tisSched_18012: 1.0\n",
      "\tisSched_18639: 1.0\n",
      "\tisSched_18828: 1.0\n",
      "\tisSched_190: 1.0\n",
      "\tisSched_19123: 1.0\n",
      "\tisSched_20341: 1.0\n",
      "\tisSched_20536: 1.0\n",
      "\tisSched_2283: 1.0\n",
      "\tisSched_2476: 1.0\n",
      "\tisSched_2991: 1.0\n",
      "\tisSched_3698: 1.0\n",
      "\tisSched_4525: 1.0\n",
      "\tisSched_4939: 1.0\n",
      "\tisSched_4959: 1.0\n",
      "\tisSched_5011: 1.0\n",
      "\tisSched_6065: 1.0\n",
      "\tisSched_6143: 1.0\n",
      "\tisSched_6694: 1.0\n",
      "\tisSched_7182: 1.0\n",
      "\tisSched_7437: 1.0\n",
      "\tisSched_8992: 1.0\n",
      "\tisSched_9150: 1.0\n",
      "\tisSched_9271: 1.0\n"
     ]
    }
   ],
   "source": [
    "gurobi_solver = pl.GUROBI_CMD()\n",
    "\n",
    "test_minimize(gurobi_solver)\n",
    "test_maximize(gurobi_solver)\n",
    "test_mps(gurobi_solver)\n",
    "test_schedule_file(gurobi_solver)"
   ]
  },
  {
   "cell_type": "markdown",
   "id": "79432081-071e-472f-9080-5b4813edaefb",
   "metadata": {},
   "source": [
    "## Gurobipy - Not using PuLP\n",
    "Just testing ability to read from an MPS file and solve."
   ]
  },
  {
   "cell_type": "code",
   "execution_count": 13,
   "id": "4080b337-3e37-419e-adc3-6d68676348b6",
   "metadata": {
    "execution": {
     "iopub.execute_input": "2024-02-01T23:46:00.658973Z",
     "iopub.status.busy": "2024-02-01T23:46:00.658973Z",
     "iopub.status.idle": "2024-02-01T23:46:02.339402Z",
     "shell.execute_reply": "2024-02-01T23:46:02.338391Z",
     "shell.execute_reply.started": "2024-02-01T23:46:00.658973Z"
    }
   },
   "outputs": [
    {
     "name": "stdout",
     "output_type": "stream",
     "text": [
      "Read MPS format model from file new_test_file.mps\n",
      "Reading time = 0.18 seconds\n",
      "Test: 711 rows, 21693 columns, 106950 nonzeros\n",
      "Gurobi Optimizer version 10.0.3 build v10.0.3rc0 (win64)\n",
      "\n",
      "CPU model: Intel(R) Core(TM) i5-8250U CPU @ 1.60GHz, instruction set [SSE2|AVX|AVX2]\n",
      "Thread count: 4 physical cores, 8 logical processors, using up to 8 threads\n",
      "\n",
      "Optimize a model with 711 rows, 21693 columns and 106950 nonzeros\n",
      "Model fingerprint: 0x2b85e252\n",
      "Variable types: 0 continuous, 21693 integer (21693 binary)\n",
      "Coefficient statistics:\n",
      "  Matrix range     [1e+00, 1e+00]\n",
      "  Objective range  [2e+01, 2e+03]\n",
      "  Bounds range     [1e+00, 1e+00]\n",
      "  RHS range        [1e+00, 1e+00]\n",
      "Found heuristic solution: objective 22175.989190\n",
      "Presolve removed 23 rows and 472 columns\n",
      "Presolve time: 0.38s\n",
      "Presolved: 688 rows, 21221 columns, 103837 nonzeros\n",
      "Found heuristic solution: objective 36511.719201\n",
      "Variable types: 0 continuous, 21221 integer (21221 binary)\n",
      "Found heuristic solution: objective 36598.878114\n",
      "\n",
      "Root relaxation: objective 3.872871e+04, 3339 iterations, 0.37 seconds (0.35 work units)\n",
      "\n",
      "    Nodes    |    Current Node    |     Objective Bounds      |     Work\n",
      " Expl Unexpl |  Obj  Depth IntInf | Incumbent    BestBd   Gap | It/Node Time\n",
      "\n",
      "     0     0 38728.7057    0   66 36598.8781 38728.7057  5.82%     -    1s\n",
      "H    0     0                    38714.088107 38728.7057  0.04%     -    1s\n",
      "\n",
      "Cutting planes:\n",
      "  Clique: 7\n",
      "  Mod-K: 36\n",
      "\n",
      "Explored 1 nodes (3339 simplex iterations) in 1.42 seconds (1.08 work units)\n",
      "Thread count was 8 (of 8 available processors)\n",
      "\n",
      "Solution count 4: 38714.1 36598.9 36511.7 22176 \n",
      "\n",
      "Optimal solution found (tolerance 1.00e-04)\n",
      "Best objective 3.871408810728e+04, best bound 3.871780350393e+04, gap 0.0096%\n",
      "21693\n",
      "39\n"
     ]
    }
   ],
   "source": [
    "import gurobipy\n",
    "m = gurobipy.Model(\"hello\")\n",
    "m = gurobipy.read(\"new_test_file.mps\")\n",
    "m.ModelSense = -1\n",
    "m.update()\n",
    "m.optimize()\n",
    "sol = m.getAttr(\"X\")\n",
    "# print(sol)\n",
    "total = 0\n",
    "print(len(sol))\n",
    "for i in range(len(sol)):\n",
    "    total += round(sol[i])\n",
    "print(total)\n",
    "# print(m.getObjective())"
   ]
  },
  {
   "cell_type": "markdown",
   "id": "f225f610-52a1-4300-95b7-3aa751d887be",
   "metadata": {},
   "source": [
    "## CBC"
   ]
  },
  {
   "cell_type": "code",
   "execution_count": 15,
   "id": "e3829068-b319-4436-a204-a650f10d3a12",
   "metadata": {
    "execution": {
     "iopub.execute_input": "2024-02-01T23:46:21.142078Z",
     "iopub.status.busy": "2024-02-01T23:46:21.141076Z",
     "iopub.status.idle": "2024-02-01T23:46:30.464517Z",
     "shell.execute_reply": "2024-02-01T23:46:30.463505Z",
     "shell.execute_reply.started": "2024-02-01T23:46:21.142078Z"
    }
   },
   "outputs": [
    {
     "name": "stdout",
     "output_type": "stream",
     "text": [
      "['a1', 'a2', 'a3']\n",
      "12.0\n",
      "var_set_a1 2.0\n",
      "var_set_a2 10.0\n",
      "var_set_a3 0.0\n",
      "26.0\n",
      "var_set_b1 10.0\n",
      "var_set_b2 10.0\n",
      "var_set_b3 6.0\n",
      "Result: 1\n",
      "Objective: 26.0\n",
      "Variables:\n",
      "\tvar_set_b1: 10.0\n",
      "\tvar_set_b2: 10.0\n",
      "\tvar_set_b3: 6.0\n",
      "Result: 1\n",
      "Objective: 38714.08810728325\n",
      "Variables:\n",
      "\tisSched_11163: 1.0\n",
      "\tisSched_11947: 1.0\n",
      "\tisSched_12199: 1.0\n",
      "\tisSched_13282: 1.0\n",
      "\tisSched_13320: 1.0\n",
      "\tisSched_1358: 1.0\n",
      "\tisSched_1360: 1.0\n",
      "\tisSched_13941: 1.0\n",
      "\tisSched_14066: 1.0\n",
      "\tisSched_1409: 1.0\n",
      "\tisSched_14257: 1.0\n",
      "\tisSched_15753: 1.0\n",
      "\tisSched_1627: 1.0\n",
      "\tisSched_16289: 1.0\n",
      "\tisSched_17200: 1.0\n",
      "\tisSched_17976: 1.0\n",
      "\tisSched_18012: 1.0\n",
      "\tisSched_18639: 1.0\n",
      "\tisSched_18828: 1.0\n",
      "\tisSched_190: 1.0\n",
      "\tisSched_19123: 1.0\n",
      "\tisSched_20341: 1.0\n",
      "\tisSched_20536: 1.0\n",
      "\tisSched_2283: 1.0\n",
      "\tisSched_2476: 1.0\n",
      "\tisSched_2991: 1.0\n",
      "\tisSched_3698: 1.0\n",
      "\tisSched_4525: 1.0\n",
      "\tisSched_4939: 1.0\n",
      "\tisSched_4959: 1.0\n",
      "\tisSched_5011: 1.0\n",
      "\tisSched_6065: 1.0\n",
      "\tisSched_6143: 1.0\n",
      "\tisSched_6694: 1.0\n",
      "\tisSched_7182: 1.0\n",
      "\tisSched_7437: 1.0\n",
      "\tisSched_8992: 1.0\n",
      "\tisSched_9150: 1.0\n",
      "\tisSched_9271: 1.0\n"
     ]
    }
   ],
   "source": [
    "cbc_solver = pl.PULP_CBC_CMD()\n",
    "\n",
    "test_minimize(cbc_solver)\n",
    "test_maximize(cbc_solver)\n",
    "test_mps(cbc_solver)\n",
    "test_schedule_file(cbc_solver)"
   ]
  },
  {
   "cell_type": "markdown",
   "id": "1ff7654a-a3c3-4295-b48b-ed1646f5be0e",
   "metadata": {},
   "source": [
    "## SCIP"
   ]
  },
  {
   "cell_type": "code",
   "execution_count": 17,
   "id": "fded8c7d-4ef1-4458-a5df-475f47c4df23",
   "metadata": {
    "execution": {
     "iopub.execute_input": "2024-02-01T23:46:37.971809Z",
     "iopub.status.busy": "2024-02-01T23:46:37.971809Z",
     "iopub.status.idle": "2024-02-01T23:46:48.464368Z",
     "shell.execute_reply": "2024-02-01T23:46:48.463366Z",
     "shell.execute_reply.started": "2024-02-01T23:46:37.971809Z"
    }
   },
   "outputs": [
    {
     "name": "stdout",
     "output_type": "stream",
     "text": [
      "['a1', 'a2', 'a3']\n",
      "12.0\n",
      "var_set_a1 2.0\n",
      "var_set_a2 10.0\n",
      "var_set_a3 0.0\n",
      "26.0\n",
      "var_set_b1 10.0\n",
      "var_set_b2 10.0\n",
      "var_set_b3 6.0\n",
      "Result: 1\n",
      "Objective: 26.0\n",
      "Variables:\n",
      "\tvar_set_b1: 10.0\n",
      "\tvar_set_b2: 10.0\n",
      "\tvar_set_b3: 6.0\n",
      "Result: 1\n",
      "Objective: 38714.08810728325\n",
      "Variables:\n",
      "\tisSched_11163: 1.0\n",
      "\tisSched_11947: 1.0\n",
      "\tisSched_12199: 1.0\n",
      "\tisSched_13282: 1.0\n",
      "\tisSched_13320: 1.0\n",
      "\tisSched_1358: 1.0\n",
      "\tisSched_1360: 1.0\n",
      "\tisSched_13941: 1.0\n",
      "\tisSched_14066: 1.0\n",
      "\tisSched_1409: 1.0\n",
      "\tisSched_14257: 1.0\n",
      "\tisSched_15753: 1.0\n",
      "\tisSched_1627: 1.0\n",
      "\tisSched_16289: 1.0\n",
      "\tisSched_17200: 1.0\n",
      "\tisSched_17976: 1.0\n",
      "\tisSched_18012: 1.0\n",
      "\tisSched_18639: 1.0\n",
      "\tisSched_18828: 1.0\n",
      "\tisSched_190: 1.0\n",
      "\tisSched_19123: 1.0\n",
      "\tisSched_20341: 1.0\n",
      "\tisSched_20536: 1.0\n",
      "\tisSched_2283: 1.0\n",
      "\tisSched_2476: 1.0\n",
      "\tisSched_2991: 1.0\n",
      "\tisSched_3698: 1.0\n",
      "\tisSched_4525: 1.0\n",
      "\tisSched_4939: 1.0\n",
      "\tisSched_4959: 1.0\n",
      "\tisSched_5011: 1.0\n",
      "\tisSched_6065: 1.0\n",
      "\tisSched_6143: 1.0\n",
      "\tisSched_6694: 1.0\n",
      "\tisSched_7182: 1.0\n",
      "\tisSched_7437: 1.0\n",
      "\tisSched_8992: 1.0\n",
      "\tisSched_9150: 1.0\n",
      "\tisSched_9271: 1.0\n"
     ]
    }
   ],
   "source": [
    "scip_path = \"C:/Program Files/SCIPOptSuite 8.1.0/bin/scip.exe\"\n",
    "scip_solver = pl.SCIP_CMD(scip_path)\n",
    "\n",
    "test_minimize(scip_solver)\n",
    "test_maximize(scip_solver)\n",
    "test_mps(scip_solver)\n",
    "test_schedule_file(scip_solver)"
   ]
  },
  {
   "cell_type": "markdown",
   "id": "7dfd75e4-d71e-474a-bb50-3998f428a7bf",
   "metadata": {},
   "source": [
    "## HiGHS (Not PuLP)"
   ]
  },
  {
   "cell_type": "markdown",
   "id": "9960760f-b356-49f7-a1d9-2161a04b3392",
   "metadata": {},
   "source": [
    "### General Testing"
   ]
  },
  {
   "cell_type": "code",
   "execution_count": 2,
   "id": "b849b75c-1771-4a36-94bf-c802fa9e1f35",
   "metadata": {
    "execution": {
     "iopub.execute_input": "2024-02-06T16:07:16.733487Z",
     "iopub.status.busy": "2024-02-06T16:07:16.733487Z",
     "iopub.status.idle": "2024-02-06T16:07:18.220731Z",
     "shell.execute_reply": "2024-02-06T16:07:18.219765Z",
     "shell.execute_reply.started": "2024-02-06T16:07:16.733487Z"
    }
   },
   "outputs": [],
   "source": [
    "import highspy\n",
    "import numpy as np\n",
    "h = highspy.Highs()"
   ]
  },
  {
   "cell_type": "code",
   "execution_count": 22,
   "id": "9c35b50f-4773-4ad1-9e31-b840f47a2a22",
   "metadata": {
    "execution": {
     "iopub.execute_input": "2024-02-02T17:29:01.807586Z",
     "iopub.status.busy": "2024-02-02T17:29:01.806592Z",
     "iopub.status.idle": "2024-02-02T17:29:01.842901Z",
     "shell.execute_reply": "2024-02-02T17:29:01.841889Z",
     "shell.execute_reply.started": "2024-02-02T17:29:01.807586Z"
    }
   },
   "outputs": [
    {
     "ename": "AttributeError",
     "evalue": "module 'highspy' has no attribute '__version__'",
     "output_type": "error",
     "traceback": [
      "\u001b[1;31m---------------------------------------------------------------------------\u001b[0m",
      "\u001b[1;31mAttributeError\u001b[0m                            Traceback (most recent call last)",
      "Cell \u001b[1;32mIn[22], line 1\u001b[0m\n\u001b[1;32m----> 1\u001b[0m \u001b[43mhighspy\u001b[49m\u001b[38;5;241;43m.\u001b[39;49m\u001b[43m__version__\u001b[49m\n",
      "\u001b[1;31mAttributeError\u001b[0m: module 'highspy' has no attribute '__version__'"
     ]
    }
   ],
   "source": [
    "highspy.__version__"
   ]
  },
  {
   "cell_type": "code",
   "execution_count": 19,
   "id": "43260f13-1094-4a0b-ac02-c95047a6deba",
   "metadata": {
    "execution": {
     "iopub.execute_input": "2024-02-02T17:26:52.923709Z",
     "iopub.status.busy": "2024-02-02T17:26:52.922710Z",
     "iopub.status.idle": "2024-02-02T17:26:52.963014Z",
     "shell.execute_reply": "2024-02-02T17:26:52.960995Z",
     "shell.execute_reply.started": "2024-02-02T17:26:52.923709Z"
    }
   },
   "outputs": [
    {
     "ename": "AttributeError",
     "evalue": "'Highs' object has no attribute 'addConstr'",
     "output_type": "error",
     "traceback": [
      "\u001b[1;31m---------------------------------------------------------------------------\u001b[0m",
      "\u001b[1;31mAttributeError\u001b[0m                            Traceback (most recent call last)",
      "Cell \u001b[1;32mIn[19], line 2\u001b[0m\n\u001b[0;32m      1\u001b[0m v \u001b[38;5;241m=\u001b[39m [h\u001b[38;5;241m.\u001b[39maddVar(\u001b[38;5;241m0\u001b[39m, \u001b[38;5;241m1\u001b[39m) \u001b[38;5;28;01mfor\u001b[39;00m _ \u001b[38;5;129;01min\u001b[39;00m \u001b[38;5;28mrange\u001b[39m(\u001b[38;5;241m5\u001b[39m)]\n\u001b[1;32m----> 2\u001b[0m \u001b[43mh\u001b[49m\u001b[38;5;241;43m.\u001b[39;49m\u001b[43maddConstr\u001b[49m(\u001b[38;5;28msum\u001b[39m(v) \u001b[38;5;241m<\u001b[39m\u001b[38;5;241m=\u001b[39m \u001b[38;5;241m15\u001b[39m)\n\u001b[0;32m      4\u001b[0m \u001b[38;5;66;03m# x0 = h.addVar(0, 4)\u001b[39;00m\n\u001b[0;32m      5\u001b[0m \u001b[38;5;66;03m# x1 = h.addVar(lb = 1, ub = 7)\u001b[39;00m\n\u001b[0;32m      6\u001b[0m \n\u001b[1;32m   (...)\u001b[0m\n\u001b[0;32m      9\u001b[0m \n\u001b[0;32m     10\u001b[0m \u001b[38;5;66;03m# h.minimize(x0 + x1)\u001b[39;00m\n",
      "\u001b[1;31mAttributeError\u001b[0m: 'Highs' object has no attribute 'addConstr'"
     ]
    }
   ],
   "source": [
    "v = [h.addVar(0, 1) for _ in range(5)]\n",
    "h.addConstr(sum(v) <= 15)\n",
    "\n",
    "# x0 = h.addVar(0, 4)\n",
    "# x1 = h.addVar(lb = 1, ub = 7)\n",
    "\n",
    "# h.addConstr(5 <=   x0 + 2*x1 <= 15)\n",
    "# h.addConstr(6 <= 3*x0 + 2*x1)\n",
    "\n",
    "# h.minimize(x0 + x1)"
   ]
  },
  {
   "cell_type": "code",
   "execution_count": 21,
   "id": "af09974b-1672-4dc0-aa45-370201b1714c",
   "metadata": {
    "execution": {
     "iopub.execute_input": "2024-02-02T17:27:33.776411Z",
     "iopub.status.busy": "2024-02-02T17:27:33.775401Z",
     "iopub.status.idle": "2024-02-02T17:27:33.789232Z",
     "shell.execute_reply": "2024-02-02T17:27:33.787219Z",
     "shell.execute_reply.started": "2024-02-02T17:27:33.776411Z"
    }
   },
   "outputs": [
    {
     "data": {
      "text/plain": [
       "\u001b[1;31mType:\u001b[0m           Highs\n",
       "\u001b[1;31mString form:\u001b[0m    <highspy.highs.Highs object at 0x0000022E11FBB770>\n",
       "\u001b[1;31mFile:\u001b[0m           c:\\users\\ecf3\\appdata\\local\\pypoetry\\cache\\virtualenvs\\custom-scheduler-vhmtugfn-py3.11\\lib\\site-packages\\highspy\\highs.py\n",
       "\u001b[1;31mDocstring:\u001b[0m      <no docstring>\n",
       "\u001b[1;31mInit docstring:\u001b[0m __init__(self: highspy.highs_bindings._Highs) -> None"
      ]
     },
     "metadata": {},
     "output_type": "display_data"
    }
   ],
   "source": [
    "h?"
   ]
  },
  {
   "cell_type": "code",
   "execution_count": 18,
   "id": "b5bf7e11-a36e-485e-aafe-1a16e9567cab",
   "metadata": {
    "execution": {
     "iopub.execute_input": "2024-02-02T17:26:19.899566Z",
     "iopub.status.busy": "2024-02-02T17:26:19.898563Z",
     "iopub.status.idle": "2024-02-02T17:26:19.915305Z",
     "shell.execute_reply": "2024-02-02T17:26:19.914280Z",
     "shell.execute_reply.started": "2024-02-02T17:26:19.899566Z"
    }
   },
   "outputs": [
    {
     "data": {
      "text/plain": [
       "<HighsStatus.kOk: 0>"
      ]
     },
     "execution_count": 18,
     "metadata": {},
     "output_type": "execute_result"
    }
   ],
   "source": [
    "v[1]"
   ]
  },
  {
   "cell_type": "markdown",
   "id": "bea4d405-fd98-4194-9155-8c2342df5785",
   "metadata": {},
   "source": [
    "### Building Scheduler"
   ]
  },
  {
   "cell_type": "code",
   "execution_count": 20,
   "id": "53e4412b-96d2-4357-9c23-bb228b8ac856",
   "metadata": {
    "execution": {
     "iopub.execute_input": "2024-02-01T23:48:48.005912Z",
     "iopub.status.busy": "2024-02-01T23:48:48.004910Z",
     "iopub.status.idle": "2024-02-01T23:49:08.587090Z",
     "shell.execute_reply": "2024-02-01T23:49:08.586081Z",
     "shell.execute_reply.started": "2024-02-01T23:48:48.005912Z"
    }
   },
   "outputs": [
    {
     "name": "stdout",
     "output_type": "stream",
     "text": [
      "HighsStatus.kOk\n"
     ]
    },
    {
     "data": {
      "text/plain": [
       "<HighsStatus.kOk: 0>"
      ]
     },
     "execution_count": 20,
     "metadata": {},
     "output_type": "execute_result"
    }
   ],
   "source": [
    "import highspy\n",
    "h = highspy.Highs()\n",
    "filename = \"new_test_file.mps\"\n",
    "\n",
    "status = h.readModel(filename)\n",
    "print(status)\n",
    "h.run()"
   ]
  },
  {
   "cell_type": "code",
   "execution_count": 21,
   "id": "3b3a679d-611c-4ffd-aedb-a4ca57fb3c32",
   "metadata": {
    "execution": {
     "iopub.execute_input": "2024-02-01T23:49:11.556337Z",
     "iopub.status.busy": "2024-02-01T23:49:11.555340Z",
     "iopub.status.idle": "2024-02-01T23:49:11.569459Z",
     "shell.execute_reply": "2024-02-01T23:49:11.568446Z",
     "shell.execute_reply.started": "2024-02-01T23:49:11.556337Z"
    }
   },
   "outputs": [
    {
     "name": "stdout",
     "output_type": "stream",
     "text": [
      "Model Status =  Optimal\n",
      "Optimal Objective =  38714.088107283256\n"
     ]
    }
   ],
   "source": [
    "solution = h.getSolution()\n",
    "info = h.getInfo()\n",
    "model_status = h.getModelStatus()\n",
    "print(\"Model Status = \", h.modelStatusToString(model_status))\n",
    "print(\"Optimal Objective = \", info.objective_function_value)"
   ]
  },
  {
   "cell_type": "code",
   "execution_count": 26,
   "id": "725176e6-f719-4f22-bf3e-cad6c68de3a5",
   "metadata": {
    "execution": {
     "iopub.execute_input": "2024-02-01T23:51:41.372737Z",
     "iopub.status.busy": "2024-02-01T23:51:41.371733Z",
     "iopub.status.idle": "2024-02-01T23:51:41.386529Z",
     "shell.execute_reply": "2024-02-01T23:51:41.385518Z",
     "shell.execute_reply.started": "2024-02-01T23:51:41.372737Z"
    }
   },
   "outputs": [
    {
     "name": "stdout",
     "output_type": "stream",
     "text": [
      "39\n"
     ]
    }
   ],
   "source": [
    "total = 0\n",
    "cv = solution.col_value\n",
    "for i in range(len(cv)):\n",
    "    if cv[i] > 0.5:\n",
    "        total += 1\n",
    "print(total)"
   ]
  },
  {
   "cell_type": "markdown",
   "id": "3484c0e5-8ec4-45ea-b449-351a5941b5f3",
   "metadata": {},
   "source": [
    "## CP-SAT"
   ]
  },
  {
   "cell_type": "code",
   "execution_count": 1,
   "id": "22f41de2-ad27-4066-a2d3-59288ada6a6e",
   "metadata": {
    "execution": {
     "iopub.execute_input": "2024-02-02T14:08:00.444618Z",
     "iopub.status.busy": "2024-02-02T14:08:00.444618Z",
     "iopub.status.idle": "2024-02-02T14:08:02.618277Z",
     "shell.execute_reply": "2024-02-02T14:08:02.618277Z",
     "shell.execute_reply.started": "2024-02-02T14:08:00.444618Z"
    }
   },
   "outputs": [],
   "source": [
    "from ortools.sat.python import cp_model"
   ]
  },
  {
   "cell_type": "markdown",
   "id": "e45fb9a6-8485-4262-bae7-de6bb2155550",
   "metadata": {
    "jp-MarkdownHeadingCollapsed": true
   },
   "source": [
    "### General Testing"
   ]
  },
  {
   "cell_type": "code",
   "execution_count": 21,
   "id": "f9566740-ff02-40f8-a8ed-655df8b7f070",
   "metadata": {
    "execution": {
     "iopub.execute_input": "2024-02-02T13:57:42.985380Z",
     "iopub.status.busy": "2024-02-02T13:57:42.984383Z",
     "iopub.status.idle": "2024-02-02T13:57:43.022235Z",
     "shell.execute_reply": "2024-02-02T13:57:43.021234Z",
     "shell.execute_reply.started": "2024-02-02T13:57:42.985380Z"
    }
   },
   "outputs": [
    {
     "name": "stdout",
     "output_type": "stream",
     "text": [
      "x = 1\n",
      "y = 0\n",
      "z = 0\n"
     ]
    }
   ],
   "source": [
    "model = cp_model.CpModel()\n",
    "\n",
    "num_vals = 3\n",
    "x = model.NewIntVar(0, num_vals - 1, \"x\")\n",
    "y = model.NewIntVar(0, num_vals - 1, \"y\")\n",
    "z = model.NewIntVar(0, num_vals - 1, \"z\")\n",
    "\n",
    "model.Add(x != y)\n",
    "\n",
    "solver = cp_model.CpSolver()\n",
    "status = solver.Solve(model)\n",
    "\n",
    "if status == cp_model.OPTIMAL or status == cp_model.FEASIBLE:\n",
    "    print(f\"x = {solver.Value(x)}\")\n",
    "    print(f\"y = {solver.Value(y)}\")\n",
    "    print(f\"z = {solver.Value(z)}\")\n",
    "else:\n",
    "    print(\"No solution found.\")"
   ]
  },
  {
   "cell_type": "code",
   "execution_count": 29,
   "id": "97de797a-c8b2-4c26-83fe-835deff2929d",
   "metadata": {
    "execution": {
     "iopub.execute_input": "2024-02-02T14:02:37.001765Z",
     "iopub.status.busy": "2024-02-02T14:02:37.001765Z",
     "iopub.status.idle": "2024-02-02T14:02:37.015885Z",
     "shell.execute_reply": "2024-02-02T14:02:37.014875Z",
     "shell.execute_reply.started": "2024-02-02T14:02:37.001765Z"
    }
   },
   "outputs": [
    {
     "name": "stdout",
     "output_type": "stream",
     "text": [
      "1 1 1 0 0 0 \n",
      "1 0 1 1 0 0 \n",
      "1 1 0 1 0 0 \n",
      "1 1 0 1 1 0 \n",
      "1 0 1 1 1 0 \n",
      "1 1 1 0 1 0 \n",
      "1 1 1 0 1 1 \n",
      "1 0 1 1 1 1 \n",
      "1 1 0 1 1 1 \n",
      "1 1 0 1 0 1 \n",
      "1 0 1 1 0 1 \n",
      "1 1 1 0 0 1 \n",
      "0 1 1 1 0 1 \n",
      "0 1 1 1 0 0 \n",
      "0 1 1 1 1 0 \n",
      "0 1 1 1 1 1 \n",
      "0\n",
      "1\n",
      "1\n",
      "1\n",
      "0\n",
      "0\n"
     ]
    }
   ],
   "source": [
    "model = cp_model.CpModel()\n",
    "\n",
    "class VarArraySolutionPrinter(cp_model.CpSolverSolutionCallback):\n",
    "    \"\"\"Print intermediate solutions.\"\"\"\n",
    "\n",
    "    def __init__(self, variables):\n",
    "        cp_model.CpSolverSolutionCallback.__init__(self)\n",
    "        self.__variables = variables\n",
    "        self.__solution_count = 0\n",
    "\n",
    "    def on_solution_callback(self):\n",
    "        self.__solution_count += 1\n",
    "        for v in self.__variables:\n",
    "            print(f\"{self.Value(v)}\", end=\" \")\n",
    "        print()\n",
    "\n",
    "    def solution_count(self):\n",
    "        return self.__solution_count\n",
    "\n",
    "num_vars = 6\n",
    "x = [model.NewBoolVar(str(i)) for i in range(num_vars)]\n",
    "\n",
    "# model.Add(x[0] != x[1])\n",
    "# model.AddBoolXOr(x)\n",
    "# model.Add(x[2] == 0)\n",
    "# model.Add(x[0] != x[2])\n",
    "\n",
    "model.Add(sum([x[i] for i in range(len(x)) if i < 4]) == 3)\n",
    "\n",
    "solver = cp_model.CpSolver()\n",
    "solution_printer = VarArraySolutionPrinter(x)\n",
    "solver.parameters.enumerate_all_solutions = True\n",
    "status = solver.Solve(model, solution_printer)\n",
    "\n",
    "if status == cp_model.OPTIMAL or status == cp_model.FEASIBLE:\n",
    "    for i in range(len(x)):\n",
    "        # print(f\"{i} = {solver.Value(x[i])}\")\n",
    "        print(f\"{solver.Value(x[i])}\")\n",
    "        \n",
    "else:\n",
    "    print(\"No solution found.\")"
   ]
  },
  {
   "cell_type": "code",
   "execution_count": 4,
   "id": "e76d5ceb-d640-4c9c-86a7-fa0c396a2584",
   "metadata": {
    "execution": {
     "iopub.execute_input": "2024-02-02T14:08:36.181507Z",
     "iopub.status.busy": "2024-02-02T14:08:36.180506Z",
     "iopub.status.idle": "2024-02-02T14:08:36.242471Z",
     "shell.execute_reply": "2024-02-02T14:08:36.240456Z",
     "shell.execute_reply.started": "2024-02-02T14:08:36.181507Z"
    }
   },
   "outputs": [
    {
     "name": "stdout",
     "output_type": "stream",
     "text": [
      "Maximum of objective function: 15.0\n",
      "\n",
      "x = 10\n",
      "y = 2\n",
      "z = 3\n"
     ]
    }
   ],
   "source": [
    "model = cp_model.CpModel()\n",
    "\n",
    "var_upper_bound = max(50, 45, 37)\n",
    "x = model.NewIntVar(0, var_upper_bound, \"x\")\n",
    "y = model.NewIntVar(0, var_upper_bound, \"y\")\n",
    "z = model.NewIntVar(0, var_upper_bound, \"z\")\n",
    "\n",
    "model.Add(2 * x + 7 * y + 3 * z <= 50)\n",
    "model.Add(3 * x - 5 * y + 7 * z <= 45)\n",
    "model.Add(5 * x + 2 * y - 6 * z <= 37)\n",
    "\n",
    "# model.Maximize(2 * x + 2 * y + 3 * z)\n",
    "model.Maximize(sum([x, y, z]))\n",
    "\n",
    "solver = cp_model.CpSolver()\n",
    "status = solver.Solve(model)\n",
    "\n",
    "if status == cp_model.OPTIMAL or status == cp_model.FEASIBLE:\n",
    "    print(f\"Maximum of objective function: {solver.ObjectiveValue()}\\n\")\n",
    "    print(f\"x = {solver.Value(x)}\")\n",
    "    print(f\"y = {solver.Value(y)}\")\n",
    "    print(f\"z = {solver.Value(z)}\")\n",
    "else:\n",
    "    print(\"No solution found.\")"
   ]
  },
  {
   "cell_type": "markdown",
   "id": "f03c90dd-0479-4c04-b3eb-d52e15eee32d",
   "metadata": {},
   "source": [
    "### Building Scheduler"
   ]
  },
  {
   "cell_type": "code",
   "execution_count": 2,
   "id": "f83e62d8-61fd-44f5-9226-6595158123a2",
   "metadata": {
    "execution": {
     "iopub.execute_input": "2024-02-02T14:42:57.565004Z",
     "iopub.status.busy": "2024-02-02T14:42:57.564004Z",
     "iopub.status.idle": "2024-02-02T14:43:22.630282Z",
     "shell.execute_reply": "2024-02-02T14:43:22.629282Z",
     "shell.execute_reply.started": "2024-02-02T14:42:57.565004Z"
    }
   },
   "outputs": [
    {
     "name": "stdout",
     "output_type": "stream",
     "text": [
      "38714.08810728324\n"
     ]
    },
    {
     "data": {
      "text/plain": [
       "{'scheduled': {'6': {'rID': 6,\n",
       "   'resource': 't0',\n",
       "   'start': 12900,\n",
       "   'end': 14081,\n",
       "   'duration': 1181,\n",
       "   'priority': 789.6428975928169},\n",
       "  '31': {'rID': 31,\n",
       "   'resource': 't0',\n",
       "   'start': 14100,\n",
       "   'end': 14988,\n",
       "   'duration': 888,\n",
       "   'priority': 589.112687224596},\n",
       "  '32': {'rID': 32,\n",
       "   'resource': 't1',\n",
       "   'start': 300,\n",
       "   'end': 1756,\n",
       "   'duration': 1456,\n",
       "   'priority': 966.564840781936},\n",
       "  '33': {'rID': 33,\n",
       "   'resource': 't1',\n",
       "   'start': 1800,\n",
       "   'end': 2123,\n",
       "   'duration': 323,\n",
       "   'priority': 188.5491771372604},\n",
       "  '36': {'rID': 36,\n",
       "   'resource': 't4',\n",
       "   'start': 14890,\n",
       "   'end': 15104,\n",
       "   'duration': 214,\n",
       "   'priority': 67.6505827194146},\n",
       "  '55': {'rID': 55,\n",
       "   'resource': 't3',\n",
       "   'start': 9900,\n",
       "   'end': 12193,\n",
       "   'duration': 2293,\n",
       "   'priority': 1522.4043285722641},\n",
       "  '60': {'rID': 60,\n",
       "   'resource': 't3',\n",
       "   'start': 2100,\n",
       "   'end': 4719,\n",
       "   'duration': 2619,\n",
       "   'priority': 1742.6443059376518},\n",
       "  '70': {'rID': 70,\n",
       "   'resource': 't0',\n",
       "   'start': 5700,\n",
       "   'end': 8655,\n",
       "   'duration': 2955,\n",
       "   'priority': 1978.0724539871},\n",
       "  '86': {'rID': 86,\n",
       "   'resource': 't3',\n",
       "   'start': 7500,\n",
       "   'end': 9818,\n",
       "   'duration': 2318,\n",
       "   'priority': 1549.8383807970579},\n",
       "  '104': {'rID': 104,\n",
       "   'resource': 't1',\n",
       "   'start': 14400,\n",
       "   'end': 14967,\n",
       "   'duration': 567,\n",
       "   'priority': 332.2713207766198},\n",
       "  '113': {'rID': 113,\n",
       "   'resource': 't1',\n",
       "   'start': 12900,\n",
       "   'end': 14383,\n",
       "   'duration': 1483,\n",
       "   'priority': 984.0254235989191},\n",
       "  '114': {'rID': 114,\n",
       "   'resource': 't4',\n",
       "   'start': 10200,\n",
       "   'end': 11325,\n",
       "   'duration': 1125,\n",
       "   'priority': 748.0570162588388},\n",
       "  '117': {'rID': 117,\n",
       "   'resource': 't0',\n",
       "   'start': 57,\n",
       "   'end': 1190,\n",
       "   'duration': 1133,\n",
       "   'priority': 753.3702448871005},\n",
       "  '141': {'rID': 141,\n",
       "   'resource': 't3',\n",
       "   'start': 14700,\n",
       "   'end': 14813,\n",
       "   'duration': 113,\n",
       "   'priority': 75.34638174429506},\n",
       "  '143': {'rID': 143,\n",
       "   'resource': 't0',\n",
       "   'start': 11400,\n",
       "   'end': 12884,\n",
       "   'duration': 1484,\n",
       "   'priority': 993.3536986293867},\n",
       "  '153': {'rID': 153,\n",
       "   'resource': 't2',\n",
       "   'start': 14400,\n",
       "   'end': 14934,\n",
       "   'duration': 534,\n",
       "   'priority': 357.75638892521124},\n",
       "  '167': {'rID': 167,\n",
       "   'resource': 't4',\n",
       "   'start': 7800,\n",
       "   'end': 10131,\n",
       "   'duration': 2331,\n",
       "   'priority': 1549.7860011942219},\n",
       "  '170': {'rID': 170,\n",
       "   'resource': 't1',\n",
       "   'start': 9894,\n",
       "   'end': 10798,\n",
       "   'duration': 904,\n",
       "   'priority': 604.3987388531301},\n",
       "  '203': {'rID': 203,\n",
       "   'resource': 't2',\n",
       "   'start': 1500,\n",
       "   'end': 4478,\n",
       "   'duration': 2978,\n",
       "   'priority': 1977.208519115056},\n",
       "  '208': {'rID': 208,\n",
       "   'resource': 't1',\n",
       "   'start': 10800,\n",
       "   'end': 11678,\n",
       "   'duration': 878,\n",
       "   'priority': 584.0401118373613},\n",
       "  '213': {'rID': 213,\n",
       "   'resource': 't2',\n",
       "   'start': 4500,\n",
       "   'end': 7482,\n",
       "   'duration': 2982,\n",
       "   'priority': 1981.0846681029245},\n",
       "  '250': {'rID': 250,\n",
       "   'resource': 't3',\n",
       "   'start': 12300,\n",
       "   'end': 14289,\n",
       "   'duration': 1989,\n",
       "   'priority': 1324.5089964731649},\n",
       "  '264': {'rID': 264,\n",
       "   'resource': 't0',\n",
       "   'start': 1214,\n",
       "   'end': 2372,\n",
       "   'duration': 1158,\n",
       "   'priority': 772.9409941307673},\n",
       "  '270': {'rID': 270,\n",
       "   'resource': 't2',\n",
       "   'start': 7500,\n",
       "   'end': 9474,\n",
       "   'duration': 1974,\n",
       "   'priority': 1320.5651010808413},\n",
       "  '301': {'rID': 301,\n",
       "   'resource': 't3',\n",
       "   'start': 84,\n",
       "   'end': 2060,\n",
       "   'duration': 1976,\n",
       "   'priority': 1315.9993370928892},\n",
       "  '302': {'rID': 302,\n",
       "   'resource': 't2',\n",
       "   'start': 104,\n",
       "   'end': 1461,\n",
       "   'duration': 1357,\n",
       "   'priority': 908.8752121611194},\n",
       "  '314': {'rID': 314,\n",
       "   'resource': 't0',\n",
       "   'start': 3300,\n",
       "   'end': 5641,\n",
       "   'duration': 2341,\n",
       "   'priority': 1555.9289707672197},\n",
       "  '317': {'rID': 317,\n",
       "   'resource': 't0',\n",
       "   'start': 8700,\n",
       "   'end': 11298,\n",
       "   'duration': 2598,\n",
       "   'priority': 1731.345251755009},\n",
       "  '323': {'rID': 323,\n",
       "   'resource': 't0',\n",
       "   'start': 2400,\n",
       "   'end': 3281,\n",
       "   'duration': 881,\n",
       "   'priority': 588.7020598589962},\n",
       "  '361': {'rID': 361,\n",
       "   'resource': 't3',\n",
       "   'start': 4800,\n",
       "   'end': 7400,\n",
       "   'duration': 2600,\n",
       "   'priority': 1740.490180234116},\n",
       "  '375': {'rID': 375,\n",
       "   'resource': 't1',\n",
       "   'start': 6061,\n",
       "   'end': 8896,\n",
       "   'duration': 2835,\n",
       "   'priority': 1884.96717351751},\n",
       "  '398': {'rID': 398,\n",
       "   'resource': 't2',\n",
       "   'start': 13200,\n",
       "   'end': 14227,\n",
       "   'duration': 1027,\n",
       "   'priority': 687.6130312734078},\n",
       "  '414': {'rID': 414,\n",
       "   'resource': 't3',\n",
       "   'start': 14400,\n",
       "   'end': 14616,\n",
       "   'duration': 216,\n",
       "   'priority': 143.88824028804797},\n",
       "  '416': {'rID': 416,\n",
       "   'resource': 't1',\n",
       "   'start': 21,\n",
       "   'end': 207,\n",
       "   'duration': 186,\n",
       "   'priority': 108.23264373689207},\n",
       "  '425': {'rID': 425,\n",
       "   'resource': 't4',\n",
       "   'start': 11400,\n",
       "   'end': 13699,\n",
       "   'duration': 2299,\n",
       "   'priority': 1531.425448761475},\n",
       "  '432': {'rID': 432,\n",
       "   'resource': 't2',\n",
       "   'start': 10251,\n",
       "   'end': 13114,\n",
       "   'duration': 2863,\n",
       "   'priority': 1910.2591869478483},\n",
       "  '439': {'rID': 439,\n",
       "   'resource': 't1',\n",
       "   'start': 11700,\n",
       "   'end': 12835,\n",
       "   'duration': 1135,\n",
       "   'priority': 755.9388761633866},\n",
       "  '467': {'rID': 467,\n",
       "   'resource': 't4',\n",
       "   'start': 32,\n",
       "   'end': 95,\n",
       "   'duration': 63,\n",
       "   'priority': 21.995420861703305},\n",
       "  '470': {'rID': 470,\n",
       "   'resource': 't4',\n",
       "   'start': 7687,\n",
       "   'end': 7799,\n",
       "   'duration': 112,\n",
       "   'priority': 74.32415025876399}},\n",
       " 'now': 0}"
      ]
     },
     "execution_count": 2,
     "metadata": {},
     "output_type": "execute_result"
    }
   ],
   "source": [
    "from scheduler_v4 import SchedulerV4 as Scheduler\n",
    "from ScheduleSimulator import SchedulerSimulation as SchedSim\n",
    "\n",
    "s = SchedSim(\"sample_input/sample_input_v2_3.json\")\n",
    "s.process_event(s.events[0])\n",
    "requests, resources = s.prepare_scheduler()\n",
    "sched = Scheduler(s.now, s.horizon, s.slice_size, resources, s.proposals, requests, verbose=0)\n",
    "sched.calculate_free_windows()\n",
    "sched.build_data_structures()\n",
    "sched.build_model()\n",
    "\n",
    "sched.solve_model()\n",
    "\n",
    "sched.return_solution()"
   ]
  },
  {
   "cell_type": "code",
   "execution_count": 2,
   "id": "0da6178e-baf1-4507-bea3-523bc3f1addc",
   "metadata": {
    "execution": {
     "iopub.execute_input": "2024-02-02T14:39:29.268205Z",
     "iopub.status.busy": "2024-02-02T14:39:29.267262Z",
     "iopub.status.idle": "2024-02-02T14:39:29.375873Z",
     "shell.execute_reply": "2024-02-02T14:39:29.374858Z",
     "shell.execute_reply.started": "2024-02-02T14:39:29.268205Z"
    },
    "scrolled": true
   },
   "outputs": [
    {
     "name": "stdout",
     "output_type": "stream",
     "text": [
      "190\n",
      "[6, 24, 789.6428975928169, 't0', 0, <scheduler_utils.PossibleStart object at 0x0000020B52878650>]\n",
      "1358\n",
      "[31, 27, 589.112687224596, 't0', 0, <scheduler_utils.PossibleStart object at 0x0000020B5290E110>]\n",
      "1360\n",
      "[32, 1, 966.564840781936, 't1', 0, <scheduler_utils.PossibleStart object at 0x0000020B52914750>]\n",
      "1409\n",
      "[33, 13, 188.5491771372604, 't1', 0, <scheduler_utils.PossibleStart object at 0x0000020B529165D0>]\n",
      "1627\n",
      "[36, 93, 67.6505827194146, 't4', 0, <scheduler_utils.PossibleStart object at 0x0000020B529339D0>]\n",
      "2283\n",
      "[55, 11, 1522.4043285722641, 't3', 0, <scheduler_utils.PossibleStart object at 0x0000020B529A0A50>]\n",
      "2476\n",
      "[60, 3, 1742.6443059376518, 't3', 0, <scheduler_utils.PossibleStart object at 0x0000020B529B9CD0>]\n",
      "2991\n",
      "[70, 6, 1978.0724539871, 't0', 0, <scheduler_utils.PossibleStart object at 0x0000020B52D25690>]\n",
      "3698\n",
      "[86, 21, 1549.8383807970579, 't3', 0, <scheduler_utils.PossibleStart object at 0x0000020B52D7EF90>]\n",
      "4525\n",
      "[104, 75, 332.2713207766198, 't1', 0, <scheduler_utils.PossibleStart object at 0x0000020B52DE1010>]\n",
      "4939\n",
      "[113, 40, 984.0254235989191, 't1', 0, <scheduler_utils.PossibleStart object at 0x0000020B52E15C90>]\n",
      "4959\n",
      "[114, 19, 748.0570162588388, 't4', 0, <scheduler_utils.PossibleStart object at 0x0000020B52E188D0>]\n",
      "5011\n",
      "[117, 0, 753.3702448871005, 't0', 0, <scheduler_utils.PossibleStart object at 0x0000020B52E20610>]\n",
      "6065\n",
      "[141, 95, 75.34638174429506, 't3', 0, <scheduler_utils.PossibleStart object at 0x0000020B52EADE90>]\n",
      "6143\n",
      "[143, 31, 993.3536986293867, 't0', 0, <scheduler_utils.PossibleStart object at 0x0000020B52EBB0D0>]\n",
      "6694\n",
      "[153, 86, 357.75638892521124, 't2', 0, <scheduler_utils.PossibleStart object at 0x0000020B52EFC110>]\n",
      "7182\n",
      "[167, 4, 1549.7860011942219, 't4', 0, <scheduler_utils.PossibleStart object at 0x0000020B52F3EBD0>]\n",
      "7437\n",
      "[170, 55, 604.3987388531301, 't1', 0, <scheduler_utils.PossibleStart object at 0x0000020B52F58E50>]\n",
      "8992\n",
      "[203, 5, 1977.208519115056, 't2', 0, <scheduler_utils.PossibleStart object at 0x0000020B5301FB90>]\n",
      "9161\n",
      "[208, 72, 584.0401118373613, 't1', 0, <scheduler_utils.PossibleStart object at 0x0000020B53033A50>]\n",
      "9271\n",
      "[213, 11, 1981.0846681029245, 't2', 0, <scheduler_utils.PossibleStart object at 0x0000020B5304A910>]\n",
      "11163\n",
      "[250, 27, 1324.5089964731649, 't3', 0, <scheduler_utils.PossibleStart object at 0x0000020B53145610>]\n",
      "11947\n",
      "[264, 0, 772.9409941307673, 't0', 0, <scheduler_utils.PossibleStart object at 0x0000020B5319FB90>]\n",
      "12199\n",
      "[270, 3, 1320.5651010808413, 't2', 0, <scheduler_utils.PossibleStart object at 0x0000020B531BB350>]\n",
      "13282\n",
      "[301, 0, 1315.9993370928892, 't3', 0, <scheduler_utils.PossibleStart object at 0x0000020B53253BD0>]\n",
      "13320\n",
      "[302, 0, 908.8752121611194, 't2', 0, <scheduler_utils.PossibleStart object at 0x0000020B5325E0D0>]\n",
      "13941\n",
      "[314, 13, 1555.9289707672197, 't0', 0, <scheduler_utils.PossibleStart object at 0x0000020B532A5E50>]\n",
      "14066\n",
      "[317, 9, 1731.345251755009, 't0', 0, <scheduler_utils.PossibleStart object at 0x0000020B532B5ED0>]\n",
      "14257\n",
      "[323, 1, 588.7020598589962, 't0', 0, <scheduler_utils.PossibleStart object at 0x0000020B532D2B10>]\n",
      "15753\n",
      "[361, 18, 1740.490180234116, 't3', 0, <scheduler_utils.PossibleStart object at 0x0000020B5338F390>]\n",
      "16289\n",
      "[375, 18, 1884.96717351751, 't1', 0, <scheduler_utils.PossibleStart object at 0x0000020B533D8D90>]\n",
      "17200\n",
      "[398, 34, 687.6130312734078, 't2', 0, <scheduler_utils.PossibleStart object at 0x0000020B534587D0>]\n",
      "17976\n",
      "[414, 108, 143.88824028804797, 't3', 0, <scheduler_utils.PossibleStart object at 0x0000020B534B4B90>]\n",
      "18012\n",
      "[416, 0, 108.23264373689207, 't1', 0, <scheduler_utils.PossibleStart object at 0x0000020B534BF2D0>]\n",
      "18639\n",
      "[425, 52, 1531.425448761475, 't4', 0, <scheduler_utils.PossibleStart object at 0x0000020B53509550>]\n",
      "18828\n",
      "[432, 7, 1910.2591869478483, 't2', 0, <scheduler_utils.PossibleStart object at 0x0000020B53522850>]\n",
      "19117\n",
      "[439, 51, 755.9388761633866, 't1', 0, <scheduler_utils.PossibleStart object at 0x0000020B5354CF90>]\n",
      "20341\n",
      "[467, 0, 21.995420861703305, 't4', 0, <scheduler_utils.PossibleStart object at 0x0000020B535F8210>]\n",
      "20536\n",
      "[470, 31, 74.32415025876399, 't4', 0, <scheduler_utils.PossibleStart object at 0x0000020B53609990>]\n"
     ]
    }
   ],
   "source": [
    "for i in range(len(sched.scheduled_vars)):\n",
    "    isScheduled = sched.scheduled_vars[i]\n",
    "    if sched.solver.Value(isScheduled) == 1:\n",
    "        print(i)\n",
    "        print(sched.yik[i])"
   ]
  },
  {
   "cell_type": "code",
   "execution_count": null,
   "id": "71533de0-0673-47be-a9e9-cbded4d42b22",
   "metadata": {},
   "outputs": [],
   "source": []
  }
 ],
 "metadata": {
  "kernelspec": {
   "display_name": "Python 3 (ipykernel)",
   "language": "python",
   "name": "python3"
  },
  "language_info": {
   "codemirror_mode": {
    "name": "ipython",
    "version": 3
   },
   "file_extension": ".py",
   "mimetype": "text/x-python",
   "name": "python",
   "nbconvert_exporter": "python",
   "pygments_lexer": "ipython3",
   "version": "3.11.4"
  }
 },
 "nbformat": 4,
 "nbformat_minor": 5
}
