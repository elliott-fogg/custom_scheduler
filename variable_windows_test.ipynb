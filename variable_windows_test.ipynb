{
 "cells": [
  {
   "cell_type": "code",
   "execution_count": 1,
   "id": "a67cd3f0-e350-46c5-bd8e-5dd3d3adf560",
   "metadata": {},
   "outputs": [],
   "source": [
    "from test_variable_windows import VariableWindowsTest, extend_window\n",
    "from copy import deepcopy"
   ]
  },
  {
   "cell_type": "code",
   "execution_count": 2,
   "id": "f858a3c7-c9a4-4466-85a7-8cd3b9ce6037",
   "metadata": {},
   "outputs": [
    {
     "name": "stdout",
     "output_type": "stream",
     "text": [
      "Request: 450 / 450\n"
     ]
    }
   ],
   "source": [
    "vwt = VariableWindowsTest(\"sample_input/sample_input_v2_4.json\", 10)"
   ]
  },
  {
   "cell_type": "code",
   "execution_count": 4,
   "id": "d58d5b2e-c905-4be7-9d58-23739877d735",
   "metadata": {},
   "outputs": [
    {
     "name": "stdout",
     "output_type": "stream",
     "text": [
      "Request: 450 / 450\n",
      "CPU times: total: 5min 4s\n",
      "Wall time: 4min 49s\n"
     ]
    }
   ],
   "source": [
    "%%time\n",
    "vwt = VariableWindowsTest(\"sample_input/sample_input_v2_4.json\", -0.5)"
   ]
  },
  {
   "cell_type": "code",
   "execution_count": null,
   "id": "40e323a2-69d3-4846-bce5-71634b529fe3",
   "metadata": {},
   "outputs": [],
   "source": []
  }
 ],
 "metadata": {
  "kernelspec": {
   "display_name": "Python 3 (ipykernel)",
   "language": "python",
   "name": "python3"
  },
  "language_info": {
   "codemirror_mode": {
    "name": "ipython",
    "version": 3
   },
   "file_extension": ".py",
   "mimetype": "text/x-python",
   "name": "python",
   "nbconvert_exporter": "python",
   "pygments_lexer": "ipython3",
   "version": "3.11.4"
  }
 },
 "nbformat": 4,
 "nbformat_minor": 5
}
