{
 "cells": [
  {
   "cell_type": "code",
   "execution_count": 1,
   "id": "a67cd3f0-e350-46c5-bd8e-5dd3d3adf560",
   "metadata": {
    "execution": {
     "iopub.execute_input": "2024-02-07T16:47:11.438010Z",
     "iopub.status.busy": "2024-02-07T16:47:11.436835Z",
     "iopub.status.idle": "2024-02-07T16:47:13.492408Z",
     "shell.execute_reply": "2024-02-07T16:47:13.491393Z",
     "shell.execute_reply.started": "2024-02-07T16:47:11.438010Z"
    }
   },
   "outputs": [],
   "source": [
    "import test_template as tt\n",
    "# import pandas as pd\n",
    "# import numpy as np\n",
    "# import seaborn as sns\n",
    "# import matplotlib.pyplot as plt"
   ]
  },
  {
   "cell_type": "code",
   "execution_count": 2,
   "id": "dc1db6b8-4e89-4851-b362-c2b627c1c6a1",
   "metadata": {
    "execution": {
     "iopub.execute_input": "2024-02-07T16:47:13.495751Z",
     "iopub.status.busy": "2024-02-07T16:47:13.494407Z",
     "iopub.status.idle": "2024-02-07T16:47:13.504488Z",
     "shell.execute_reply": "2024-02-07T16:47:13.504488Z",
     "shell.execute_reply.started": "2024-02-07T16:47:13.495751Z"
    }
   },
   "outputs": [],
   "source": [
    "vwt = tt.VariableWindowsTest(output_folder=\"test_results/performance\",\n",
    "                             window_increase_factor_list=[0.5],\n",
    "                             num_repeats=3,\n",
    "                             num_injections=50,\n",
    "                             injection_spacing=900,\n",
    "                             min_requests_per_injection=30,\n",
    "                             max_requests_per_injection=100,\n",
    "                             test_fraction=0.2\n",
    "                            )"
   ]
  },
  {
   "cell_type": "code",
   "execution_count": 3,
   "id": "b96d32c1-5c1d-4974-ac2b-87bc3d9cce7c",
   "metadata": {
    "execution": {
     "iopub.execute_input": "2024-02-07T16:47:13.506817Z",
     "iopub.status.busy": "2024-02-07T16:47:13.505812Z",
     "iopub.status.idle": "2024-02-07T16:47:16.620364Z",
     "shell.execute_reply": "2024-02-07T16:47:16.619354Z",
     "shell.execute_reply.started": "2024-02-07T16:47:13.506817Z"
    }
   },
   "outputs": [
    {
     "ename": "ValueError",
     "evalue": "empty range for randrange() (15300, 15001, -299)",
     "output_type": "error",
     "traceback": [
      "\u001b[1;31m---------------------------------------------------------------------------\u001b[0m",
      "\u001b[1;31mValueError\u001b[0m                                Traceback (most recent call last)",
      "Cell \u001b[1;32mIn[3], line 1\u001b[0m\n\u001b[1;32m----> 1\u001b[0m \u001b[38;5;28minput\u001b[39m \u001b[38;5;241m=\u001b[39m \u001b[43mvwt\u001b[49m\u001b[38;5;241;43m.\u001b[39;49m\u001b[43mgenerate_input\u001b[49m\u001b[43m(\u001b[49m\u001b[38;5;241;43m1\u001b[39;49m\u001b[43m)\u001b[49m\n",
      "File \u001b[1;32m~\\Documents\\LCO\\custom_scheduler\\test_template.py:427\u001b[0m, in \u001b[0;36mVariableWindowsTest.generate_input\u001b[1;34m(self, random_seed)\u001b[0m\n\u001b[0;32m    423\u001b[0m     num_requests \u001b[38;5;241m=\u001b[39m random\u001b[38;5;241m.\u001b[39mrandint(\u001b[38;5;28mself\u001b[39m\u001b[38;5;241m.\u001b[39mmin_requests_per_injection, \n\u001b[0;32m    424\u001b[0m                                   \u001b[38;5;28mself\u001b[39m\u001b[38;5;241m.\u001b[39mmax_requests_per_injection)\n\u001b[0;32m    425\u001b[0m     request_injection_dict[injection_time] \u001b[38;5;241m=\u001b[39m num_requests\n\u001b[1;32m--> 427\u001b[0m \u001b[43mrg\u001b[49m\u001b[38;5;241;43m.\u001b[39;49m\u001b[43mgenerate_requests_injections\u001b[49m\u001b[43m(\u001b[49m\u001b[43mrequest_injection_dict\u001b[49m\u001b[43m)\u001b[49m\n\u001b[0;32m    428\u001b[0m output \u001b[38;5;241m=\u001b[39m json\u001b[38;5;241m.\u001b[39mdumps(rg\u001b[38;5;241m.\u001b[39moutput_to_json())\n\u001b[0;32m    429\u001b[0m input_data \u001b[38;5;241m=\u001b[39m json\u001b[38;5;241m.\u001b[39mloads(output)\n",
      "File \u001b[1;32m~\\Documents\\LCO\\custom_scheduler\\generate_requests_v2.py:134\u001b[0m, in \u001b[0;36mRequestGeneratorV2.generate_requests_injections\u001b[1;34m(self, injection_dict)\u001b[0m\n\u001b[0;32m    132\u001b[0m \u001b[38;5;28;01mdef\u001b[39;00m \u001b[38;5;21mgenerate_requests_injections\u001b[39m(\u001b[38;5;28mself\u001b[39m, injection_dict):\n\u001b[0;32m    133\u001b[0m     \u001b[38;5;28;01mfor\u001b[39;00m injection_time, num_requests \u001b[38;5;129;01min\u001b[39;00m injection_dict\u001b[38;5;241m.\u001b[39mitems():\n\u001b[1;32m--> 134\u001b[0m         \u001b[38;5;28;43mself\u001b[39;49m\u001b[38;5;241;43m.\u001b[39;49m\u001b[43mgenerate_single_request_injection\u001b[49m\u001b[43m(\u001b[49m\u001b[43minjection_time\u001b[49m\u001b[43m,\u001b[49m\u001b[43m \u001b[49m\u001b[43mnum_requests\u001b[49m\u001b[43m)\u001b[49m\n",
      "File \u001b[1;32m~\\Documents\\LCO\\custom_scheduler\\generate_requests_v2.py:127\u001b[0m, in \u001b[0;36mRequestGeneratorV2.generate_single_request_injection\u001b[1;34m(self, inj_time, num_requests, min_length, max_length, network)\u001b[0m\n\u001b[0;32m    125\u001b[0m \u001b[38;5;28;01mdef\u001b[39;00m \u001b[38;5;21mgenerate_single_request_injection\u001b[39m(\u001b[38;5;28mself\u001b[39m, inj_time, num_requests, \n\u001b[0;32m    126\u001b[0m                                       min_length\u001b[38;5;241m=\u001b[39m\u001b[38;5;241m60\u001b[39m, max_length\u001b[38;5;241m=\u001b[39m\u001b[38;5;241m10800\u001b[39m, network\u001b[38;5;241m=\u001b[39m\u001b[38;5;241m0\u001b[39m):\n\u001b[1;32m--> 127\u001b[0m     requests \u001b[38;5;241m=\u001b[39m \u001b[38;5;28;43mself\u001b[39;49m\u001b[38;5;241;43m.\u001b[39;49m\u001b[43mgenerate_requests\u001b[49m\u001b[43m(\u001b[49m\u001b[43mnum_requests\u001b[49m\u001b[43m,\u001b[49m\u001b[43m \u001b[49m\u001b[43minj_time\u001b[49m\u001b[43m,\u001b[49m\u001b[43m \u001b[49m\n\u001b[0;32m    128\u001b[0m \u001b[43m                                      \u001b[49m\u001b[43mmin_length\u001b[49m\u001b[43m,\u001b[49m\u001b[43m \u001b[49m\u001b[43mmax_length\u001b[49m\u001b[43m,\u001b[49m\u001b[43m \u001b[49m\u001b[43mnetwork\u001b[49m\u001b[43m)\u001b[49m\n\u001b[0;32m    129\u001b[0m     \u001b[38;5;28mself\u001b[39m\u001b[38;5;241m.\u001b[39minjections\u001b[38;5;241m.\u001b[39mappend(RequestInjection(inj_time, requests))\n",
      "File \u001b[1;32m~\\Documents\\LCO\\custom_scheduler\\generate_requests_v2.py:107\u001b[0m, in \u001b[0;36mRequestGeneratorV2.generate_requests\u001b[1;34m(self, num_requests, injection_time, request_min_length, request_max_length, telescope_network)\u001b[0m\n\u001b[0;32m    104\u001b[0m     windows \u001b[38;5;241m=\u001b[39m {r: time_segments(injection_time, \u001b[38;5;28mself\u001b[39m\u001b[38;5;241m.\u001b[39mend_time, \n\u001b[0;32m    105\u001b[0m                                 \u001b[38;5;241m1\u001b[39m, \u001b[38;5;241m8\u001b[39m) \u001b[38;5;28;01mfor\u001b[39;00m r \u001b[38;5;129;01min\u001b[39;00m \u001b[38;5;28mself\u001b[39m\u001b[38;5;241m.\u001b[39mresources}\n\u001b[0;32m    106\u001b[0m \u001b[38;5;28;01melse\u001b[39;00m:\n\u001b[1;32m--> 107\u001b[0m     windows \u001b[38;5;241m=\u001b[39m \u001b[43m{\u001b[49m\u001b[43mr\u001b[49m\u001b[43m:\u001b[49m\u001b[43m \u001b[49m\u001b[43mtime_segments\u001b[49m\u001b[43m(\u001b[49m\u001b[43minjection_time\u001b[49m\u001b[43m,\u001b[49m\u001b[43m \u001b[49m\n\u001b[0;32m    108\u001b[0m \u001b[43m                \u001b[49m\u001b[38;5;28;43mself\u001b[39;49m\u001b[38;5;241;43m.\u001b[39;49m\u001b[43mend_time\u001b[49m\u001b[43m,\u001b[49m\u001b[43m \u001b[49m\u001b[38;5;241;43m1\u001b[39;49m\u001b[43m,\u001b[49m\u001b[43m \u001b[49m\u001b[38;5;241;43m8\u001b[39;49m\u001b[43m)\u001b[49m\u001b[43m \u001b[49m\u001b[38;5;28;43;01mfor\u001b[39;49;00m\u001b[43m \u001b[49m\u001b[43mr\u001b[49m\u001b[43m \u001b[49m\u001b[38;5;129;43;01min\u001b[39;49;00m\u001b[43m \u001b[49m\u001b[38;5;28;43mself\u001b[39;49m\u001b[38;5;241;43m.\u001b[39;49m\u001b[43mnetworks\u001b[49m\u001b[43m[\u001b[49m\u001b[43mtelescope_network\u001b[49m\u001b[43m]\u001b[49m\u001b[43m}\u001b[49m\n\u001b[0;32m    110\u001b[0m duration \u001b[38;5;241m=\u001b[39m random\u001b[38;5;241m.\u001b[39mrandint(request_min_length, request_max_length)\n\u001b[0;32m    111\u001b[0m proposal \u001b[38;5;241m=\u001b[39m random\u001b[38;5;241m.\u001b[39mchoice(\u001b[38;5;28mlist\u001b[39m(\u001b[38;5;28mself\u001b[39m\u001b[38;5;241m.\u001b[39mproposals\u001b[38;5;241m.\u001b[39mkeys()))\n",
      "File \u001b[1;32m~\\Documents\\LCO\\custom_scheduler\\generate_requests_v2.py:107\u001b[0m, in \u001b[0;36m<dictcomp>\u001b[1;34m(.0)\u001b[0m\n\u001b[0;32m    104\u001b[0m     windows \u001b[38;5;241m=\u001b[39m {r: time_segments(injection_time, \u001b[38;5;28mself\u001b[39m\u001b[38;5;241m.\u001b[39mend_time, \n\u001b[0;32m    105\u001b[0m                                 \u001b[38;5;241m1\u001b[39m, \u001b[38;5;241m8\u001b[39m) \u001b[38;5;28;01mfor\u001b[39;00m r \u001b[38;5;129;01min\u001b[39;00m \u001b[38;5;28mself\u001b[39m\u001b[38;5;241m.\u001b[39mresources}\n\u001b[0;32m    106\u001b[0m \u001b[38;5;28;01melse\u001b[39;00m:\n\u001b[1;32m--> 107\u001b[0m     windows \u001b[38;5;241m=\u001b[39m {r: \u001b[43mtime_segments\u001b[49m\u001b[43m(\u001b[49m\u001b[43minjection_time\u001b[49m\u001b[43m,\u001b[49m\u001b[43m \u001b[49m\n\u001b[0;32m    108\u001b[0m \u001b[43m                \u001b[49m\u001b[38;5;28;43mself\u001b[39;49m\u001b[38;5;241;43m.\u001b[39;49m\u001b[43mend_time\u001b[49m\u001b[43m,\u001b[49m\u001b[43m \u001b[49m\u001b[38;5;241;43m1\u001b[39;49m\u001b[43m,\u001b[49m\u001b[43m \u001b[49m\u001b[38;5;241;43m8\u001b[39;49m\u001b[43m)\u001b[49m \u001b[38;5;28;01mfor\u001b[39;00m r \u001b[38;5;129;01min\u001b[39;00m \u001b[38;5;28mself\u001b[39m\u001b[38;5;241m.\u001b[39mnetworks[telescope_network]}\n\u001b[0;32m    110\u001b[0m duration \u001b[38;5;241m=\u001b[39m random\u001b[38;5;241m.\u001b[39mrandint(request_min_length, request_max_length)\n\u001b[0;32m    111\u001b[0m proposal \u001b[38;5;241m=\u001b[39m random\u001b[38;5;241m.\u001b[39mchoice(\u001b[38;5;28mlist\u001b[39m(\u001b[38;5;28mself\u001b[39m\u001b[38;5;241m.\u001b[39mproposals\u001b[38;5;241m.\u001b[39mkeys()))\n",
      "File \u001b[1;32m~\\Documents\\LCO\\custom_scheduler\\generate_requests_v2.py:220\u001b[0m, in \u001b[0;36mtime_segments\u001b[1;34m(start, end, num_min, num_max, use_bounds)\u001b[0m\n\u001b[0;32m    218\u001b[0m     segments \u001b[38;5;241m-\u001b[39m\u001b[38;5;241m=\u001b[39m \u001b[38;5;241m1\u001b[39m\n\u001b[0;32m    219\u001b[0m     boundaries \u001b[38;5;241m+\u001b[39m\u001b[38;5;241m=\u001b[39m [start, end]\n\u001b[1;32m--> 220\u001b[0m boundaries \u001b[38;5;241m+\u001b[39m\u001b[38;5;241m=\u001b[39m \u001b[43m[\u001b[49m\u001b[43mrandom\u001b[49m\u001b[38;5;241;43m.\u001b[39;49m\u001b[43mrandint\u001b[49m\u001b[43m(\u001b[49m\u001b[43mstart\u001b[49m\u001b[43m,\u001b[49m\u001b[43m \u001b[49m\u001b[43mend\u001b[49m\u001b[43m)\u001b[49m\u001b[43m \u001b[49m\u001b[38;5;28;43;01mfor\u001b[39;49;00m\u001b[43m \u001b[49m\u001b[43mx\u001b[49m\u001b[43m \u001b[49m\u001b[38;5;129;43;01min\u001b[39;49;00m\u001b[43m \u001b[49m\u001b[38;5;28;43mrange\u001b[39;49m\u001b[43m(\u001b[49m\u001b[38;5;241;43m2\u001b[39;49m\u001b[38;5;241;43m*\u001b[39;49m\u001b[43msegments\u001b[49m\u001b[43m)\u001b[49m\u001b[43m]\u001b[49m\n\u001b[0;32m    221\u001b[0m boundaries\u001b[38;5;241m.\u001b[39msort()\n\u001b[0;32m    222\u001b[0m windows \u001b[38;5;241m=\u001b[39m [{\u001b[38;5;124m\"\u001b[39m\u001b[38;5;124mstart\u001b[39m\u001b[38;5;124m\"\u001b[39m: boundaries[i], \u001b[38;5;124m\"\u001b[39m\u001b[38;5;124mend\u001b[39m\u001b[38;5;124m\"\u001b[39m: boundaries[i\u001b[38;5;241m+\u001b[39m\u001b[38;5;241m1\u001b[39m]} \u001b[38;5;28;01mfor\u001b[39;00m i \u001b[38;5;129;01min\u001b[39;00m \u001b[38;5;28mrange\u001b[39m(\u001b[38;5;241m0\u001b[39m, \u001b[38;5;28mlen\u001b[39m(boundaries), \u001b[38;5;241m2\u001b[39m)]\n",
      "File \u001b[1;32m~\\Documents\\LCO\\custom_scheduler\\generate_requests_v2.py:220\u001b[0m, in \u001b[0;36m<listcomp>\u001b[1;34m(.0)\u001b[0m\n\u001b[0;32m    218\u001b[0m     segments \u001b[38;5;241m-\u001b[39m\u001b[38;5;241m=\u001b[39m \u001b[38;5;241m1\u001b[39m\n\u001b[0;32m    219\u001b[0m     boundaries \u001b[38;5;241m+\u001b[39m\u001b[38;5;241m=\u001b[39m [start, end]\n\u001b[1;32m--> 220\u001b[0m boundaries \u001b[38;5;241m+\u001b[39m\u001b[38;5;241m=\u001b[39m [\u001b[43mrandom\u001b[49m\u001b[38;5;241;43m.\u001b[39;49m\u001b[43mrandint\u001b[49m\u001b[43m(\u001b[49m\u001b[43mstart\u001b[49m\u001b[43m,\u001b[49m\u001b[43m \u001b[49m\u001b[43mend\u001b[49m\u001b[43m)\u001b[49m \u001b[38;5;28;01mfor\u001b[39;00m x \u001b[38;5;129;01min\u001b[39;00m \u001b[38;5;28mrange\u001b[39m(\u001b[38;5;241m2\u001b[39m\u001b[38;5;241m*\u001b[39msegments)]\n\u001b[0;32m    221\u001b[0m boundaries\u001b[38;5;241m.\u001b[39msort()\n\u001b[0;32m    222\u001b[0m windows \u001b[38;5;241m=\u001b[39m [{\u001b[38;5;124m\"\u001b[39m\u001b[38;5;124mstart\u001b[39m\u001b[38;5;124m\"\u001b[39m: boundaries[i], \u001b[38;5;124m\"\u001b[39m\u001b[38;5;124mend\u001b[39m\u001b[38;5;124m\"\u001b[39m: boundaries[i\u001b[38;5;241m+\u001b[39m\u001b[38;5;241m1\u001b[39m]} \u001b[38;5;28;01mfor\u001b[39;00m i \u001b[38;5;129;01min\u001b[39;00m \u001b[38;5;28mrange\u001b[39m(\u001b[38;5;241m0\u001b[39m, \u001b[38;5;28mlen\u001b[39m(boundaries), \u001b[38;5;241m2\u001b[39m)]\n",
      "File \u001b[1;32m~\\AppData\\Local\\Programs\\Python\\Python311\\Lib\\random.py:362\u001b[0m, in \u001b[0;36mRandom.randint\u001b[1;34m(self, a, b)\u001b[0m\n\u001b[0;32m    358\u001b[0m \u001b[38;5;28;01mdef\u001b[39;00m \u001b[38;5;21mrandint\u001b[39m(\u001b[38;5;28mself\u001b[39m, a, b):\n\u001b[0;32m    359\u001b[0m \u001b[38;5;250m    \u001b[39m\u001b[38;5;124;03m\"\"\"Return random integer in range [a, b], including both end points.\u001b[39;00m\n\u001b[0;32m    360\u001b[0m \u001b[38;5;124;03m    \"\"\"\u001b[39;00m\n\u001b[1;32m--> 362\u001b[0m     \u001b[38;5;28;01mreturn\u001b[39;00m \u001b[38;5;28;43mself\u001b[39;49m\u001b[38;5;241;43m.\u001b[39;49m\u001b[43mrandrange\u001b[49m\u001b[43m(\u001b[49m\u001b[43ma\u001b[49m\u001b[43m,\u001b[49m\u001b[43m \u001b[49m\u001b[43mb\u001b[49m\u001b[38;5;241;43m+\u001b[39;49m\u001b[38;5;241;43m1\u001b[39;49m\u001b[43m)\u001b[49m\n",
      "File \u001b[1;32m~\\AppData\\Local\\Programs\\Python\\Python311\\Lib\\random.py:345\u001b[0m, in \u001b[0;36mRandom.randrange\u001b[1;34m(self, start, stop, step)\u001b[0m\n\u001b[0;32m    343\u001b[0m     \u001b[38;5;28;01mif\u001b[39;00m width \u001b[38;5;241m>\u001b[39m \u001b[38;5;241m0\u001b[39m:\n\u001b[0;32m    344\u001b[0m         \u001b[38;5;28;01mreturn\u001b[39;00m istart \u001b[38;5;241m+\u001b[39m \u001b[38;5;28mself\u001b[39m\u001b[38;5;241m.\u001b[39m_randbelow(width)\n\u001b[1;32m--> 345\u001b[0m     \u001b[38;5;28;01mraise\u001b[39;00m \u001b[38;5;167;01mValueError\u001b[39;00m(\u001b[38;5;124m\"\u001b[39m\u001b[38;5;124mempty range for randrange() (\u001b[39m\u001b[38;5;132;01m%d\u001b[39;00m\u001b[38;5;124m, \u001b[39m\u001b[38;5;132;01m%d\u001b[39;00m\u001b[38;5;124m, \u001b[39m\u001b[38;5;132;01m%d\u001b[39;00m\u001b[38;5;124m)\u001b[39m\u001b[38;5;124m\"\u001b[39m \u001b[38;5;241m%\u001b[39m (istart, istop, width))\n\u001b[0;32m    347\u001b[0m \u001b[38;5;66;03m# Non-unit step argument supplied.\u001b[39;00m\n\u001b[0;32m    348\u001b[0m \u001b[38;5;28;01mif\u001b[39;00m istep \u001b[38;5;241m>\u001b[39m \u001b[38;5;241m0\u001b[39m:\n",
      "\u001b[1;31mValueError\u001b[0m: empty range for randrange() (15300, 15001, -299)"
     ]
    }
   ],
   "source": [
    "input = vwt.generate_input(1)"
   ]
  },
  {
   "cell_type": "markdown",
   "id": "6011869d-ed9b-4846-ab07-ada52c7c2ca3",
   "metadata": {},
   "source": [
    "---"
   ]
  },
  {
   "cell_type": "code",
   "execution_count": null,
   "id": "214f618f-92fe-4aee-baa6-1dc78abce06b",
   "metadata": {},
   "outputs": [],
   "source": [
    "vwt.run()"
   ]
  },
  {
   "cell_type": "code",
   "execution_count": null,
   "id": "f2169a61-c85c-44ad-af8f-7516cfd278bf",
   "metadata": {},
   "outputs": [],
   "source": [
    "import test_template as tt\n",
    "vwt = tt.VariableWindowsTest(\"test_results/performance\",\n",
    "                          [1],\n",
    "                          5,\n",
    "                          1)\n",
    "vwt.run()"
   ]
  },
  {
   "cell_type": "code",
   "execution_count": null,
   "id": "74acbde4-bc97-4987-adff-636ab14686f8",
   "metadata": {},
   "outputs": [],
   "source": [
    "for l in vwt.output[1]:\n",
    "    print(len(l))\n",
    "    print(sum(l))\n",
    "    sum_up = 0\n",
    "    sum_out = 0\n",
    "    for x in l:\n",
    "        if x == 1:\n",
    "            sum_up += 1\n",
    "        elif x == -1:\n",
    "            sum_out += 1\n",
    "    print(len(l), sum_up, sum_out, sum_up-sum_out)"
   ]
  },
  {
   "cell_type": "code",
   "execution_count": 8,
   "id": "28eb6a5b-b65d-45bb-8a34-aa742cd25c42",
   "metadata": {
    "execution": {
     "iopub.execute_input": "2024-02-07T15:09:02.837945Z",
     "iopub.status.busy": "2024-02-07T15:09:02.837945Z",
     "iopub.status.idle": "2024-02-07T15:09:02.857575Z",
     "shell.execute_reply": "2024-02-07T15:09:02.856564Z",
     "shell.execute_reply.started": "2024-02-07T15:09:02.837945Z"
    }
   },
   "outputs": [],
   "source": [
    "import os\n",
    "import json"
   ]
  },
  {
   "cell_type": "code",
   "execution_count": 6,
   "id": "ca5eef7c-c78d-4a33-84d8-5bc47ad5c030",
   "metadata": {
    "execution": {
     "iopub.execute_input": "2024-02-07T15:08:09.912309Z",
     "iopub.status.busy": "2024-02-07T15:08:09.911348Z",
     "iopub.status.idle": "2024-02-07T15:08:09.941650Z",
     "shell.execute_reply": "2024-02-07T15:08:09.939631Z",
     "shell.execute_reply.started": "2024-02-07T15:08:09.912309Z"
    }
   },
   "outputs": [
    {
     "data": {
      "text/plain": [
       "'C:\\\\Users\\\\ecf3\\\\Documents\\\\LCO\\\\custom_scheduler'"
      ]
     },
     "execution_count": 6,
     "metadata": {},
     "output_type": "execute_result"
    }
   ],
   "source": [
    "os.getcwd()"
   ]
  },
  {
   "cell_type": "code",
   "execution_count": 13,
   "id": "c9b2ca0d-5019-4187-ab68-8a398cebb204",
   "metadata": {
    "execution": {
     "iopub.execute_input": "2024-02-07T15:10:56.116484Z",
     "iopub.status.busy": "2024-02-07T15:10:56.116484Z",
     "iopub.status.idle": "2024-02-07T15:10:56.128291Z",
     "shell.execute_reply": "2024-02-07T15:10:56.127589Z",
     "shell.execute_reply.started": "2024-02-07T15:10:56.116484Z"
    }
   },
   "outputs": [
    {
     "name": "stdout",
     "output_type": "stream",
     "text": [
      "True\n",
      "True\n"
     ]
    }
   ],
   "source": [
    "filepath1 = os.path.join(\"..\", \"adaptive_scheduler\", \"data_files\", \"sample_input.json\")\n",
    "print(os.path.isfile(filepath1))\n",
    "\n",
    "filepath2 = os.path.join(\"..\", \"adaptive_scheduler\", \"data_files\", \"test_input.json\")\n",
    "print(os.path.isfile(filepath2))"
   ]
  },
  {
   "cell_type": "code",
   "execution_count": 15,
   "id": "4020cdf0-7ada-4928-8e46-a2c6fe7e522a",
   "metadata": {
    "execution": {
     "iopub.execute_input": "2024-02-07T15:11:39.719535Z",
     "iopub.status.busy": "2024-02-07T15:11:39.718535Z",
     "iopub.status.idle": "2024-02-07T15:11:39.732364Z",
     "shell.execute_reply": "2024-02-07T15:11:39.731032Z",
     "shell.execute_reply.started": "2024-02-07T15:11:39.719535Z"
    }
   },
   "outputs": [
    {
     "name": "stdout",
     "output_type": "stream",
     "text": [
      "dict_keys(['available_resources', 'semester_details', 'rr', 'normal', 'json_request_group_list', 'proposals_by_id', 'sched_params'])\n",
      "dict_keys(['NOAO2019B-9990', 'NOAO2019B-0994', 'NOAO2019B-0992', 'NOAO2019B-0993', 'NOAO2019B-0991'])\n"
     ]
    }
   ],
   "source": [
    "d1 = json.load(open(filepath1, \"r\"))\n",
    "print(d1.keys())\n",
    "print(d1[\"proposals_by_id\"].keys())"
   ]
  },
  {
   "cell_type": "code",
   "execution_count": 16,
   "id": "b8df8e3b-7e7d-4214-8f3a-9ff0c52bb4b9",
   "metadata": {
    "execution": {
     "iopub.execute_input": "2024-02-07T15:11:51.698411Z",
     "iopub.status.busy": "2024-02-07T15:11:51.697406Z",
     "iopub.status.idle": "2024-02-07T15:11:51.711170Z",
     "shell.execute_reply": "2024-02-07T15:11:51.710154Z",
     "shell.execute_reply.started": "2024-02-07T15:11:51.698411Z"
    }
   },
   "outputs": [
    {
     "name": "stdout",
     "output_type": "stream",
     "text": [
      "dict_keys(['available_resources', 'semester_details', 'rr', 'normal', 'json_request_group_list', 'proposals_by_id', 'sched_params'])\n",
      "dict_keys(['NOAO2019B-9990', 'NOAO2019B-0994', 'NOAO2019B-0992', 'NOAO2019B-0993', 'NOAO2019B-0991'])\n"
     ]
    }
   ],
   "source": [
    "d2 = json.load(open(filepath2, \"r\"))\n",
    "print(d2.keys())\n",
    "print(d2[\"proposals_by_id\"].keys())"
   ]
  },
  {
   "cell_type": "code",
   "execution_count": 22,
   "id": "33be1c16-dc65-4e80-8f06-2de5a3c10ee8",
   "metadata": {
    "execution": {
     "iopub.execute_input": "2024-02-07T15:15:25.443034Z",
     "iopub.status.busy": "2024-02-07T15:15:25.443034Z",
     "iopub.status.idle": "2024-02-07T15:15:25.452526Z",
     "shell.execute_reply": "2024-02-07T15:15:25.451100Z",
     "shell.execute_reply.started": "2024-02-07T15:15:25.443034Z"
    }
   },
   "outputs": [
    {
     "name": "stdout",
     "output_type": "stream",
     "text": [
      "NOAO2019B-9990\n",
      "TAC Priority: 30\n",
      "TAC Rank: 1\n",
      "\n",
      "NOAO2019B-0994\n",
      "TAC Priority: 30\n",
      "TAC Rank: 5\n",
      "\n",
      "NOAO2019B-0992\n",
      "TAC Priority: 25\n",
      "TAC Rank: 2\n",
      "\n",
      "NOAO2019B-0993\n",
      "TAC Priority: 20\n",
      "TAC Rank: 4\n",
      "\n",
      "NOAO2019B-0991\n",
      "TAC Priority: 20\n",
      "TAC Rank: 3\n",
      "\n"
     ]
    }
   ],
   "source": [
    "for k, v in d1[\"proposals_by_id\"].items():\n",
    "    # print(v.keys())\n",
    "    print(k)\n",
    "    # print(f\"Time Allocation: {v['timeallocation_set']}\")\n",
    "    print(f\"TAC Priority: {v['tac_priority']}\")\n",
    "    print(f\"TAC Rank: {v['tac_rank']}\")\n",
    "    print()"
   ]
  },
  {
   "cell_type": "code",
   "execution_count": 1,
   "id": "2d3880f6-1f51-4821-a8d6-c687a4795a3d",
   "metadata": {
    "execution": {
     "iopub.execute_input": "2024-02-08T13:54:12.055588Z",
     "iopub.status.busy": "2024-02-08T13:54:12.055588Z",
     "iopub.status.idle": "2024-02-08T13:54:12.073543Z",
     "shell.execute_reply": "2024-02-08T13:54:12.071543Z",
     "shell.execute_reply.started": "2024-02-08T13:54:12.055588Z"
    }
   },
   "outputs": [],
   "source": [
    "estimated_telescope_times= {\n",
    "    \"COJ\": {\n",
    "        \"start\": 8,\n",
    "        \"end\": 20\n",
    "    },\n",
    "    \"OGG\": {\n",
    "        \"start\": 4,\n",
    "        \"end\": 17.5\n",
    "    },\n",
    "    \"LSC\": {\n",
    "        \"start\": 23,\n",
    "        \"end\": 11\n",
    "    },\n",
    "    \"CPT\": {\n",
    "        \"start\": 17,\n",
    "        \"end\": 4.5\n",
    "    },\n",
    "    \"TFN\": {\n",
    "        \"start\": 18.5,\n",
    "        \"end\": 8\n",
    "    },\n",
    "    \"TLV\": {\n",
    "        \"start\": 15.5,\n",
    "        \"end\": 3.5\n",
    "    }\n",
    "}"
   ]
  },
  {
   "cell_type": "code",
   "execution_count": 4,
   "id": "89c9ca72-aa08-4a4f-9e6d-c76ce54dfaba",
   "metadata": {
    "execution": {
     "iopub.execute_input": "2024-02-08T13:55:19.083841Z",
     "iopub.status.busy": "2024-02-08T13:55:19.082841Z",
     "iopub.status.idle": "2024-02-08T13:55:19.104714Z",
     "shell.execute_reply": "2024-02-08T13:55:19.103734Z",
     "shell.execute_reply.started": "2024-02-08T13:55:19.083841Z"
    }
   },
   "outputs": [
    {
     "name": "stdout",
     "output_type": "stream",
     "text": [
      "0\n",
      "604800\n",
      "[[{'start': 14400, 'end': 63000.0}, {'start': 100800, 'end': 149400.0}, {'start': 187200, 'end': 235800.0}, {'start': 273600, 'end': 322200.0}, {'start': 360000, 'end': 408600.0}, {'start': 446400, 'end': 495000.0}, {'start': 532800, 'end': 581400.0}], [{'start': 0, 'end': 39600}, {'start': 82800, 'end': 126000}, {'start': 169200, 'end': 212400}, {'start': 255600, 'end': 298800}, {'start': 342000, 'end': 385200}, {'start': 428400, 'end': 471600}, {'start': 514800, 'end': 558000}, {'start': 601200, 'end': 604800}]]\n"
     ]
    }
   ],
   "source": [
    "from scheduler_utils import overlap_time_segments, trim_time_segments\n",
    "import random\n",
    "horizon_days = 7\n",
    "horizon = horizon_days * 24 * 60 * 60\n",
    "now = 0\n",
    "\n",
    "def generate_telescope_times(num_telescopes):\n",
    "    telescopes = []\n",
    "    telescope_options = list(estimated_telescope_times.keys())\n",
    "    for i in range(num_telescopes):\n",
    "        # Assume the opening hours for a random telescope site\n",
    "        site_name = random.choice(telescope_options)\n",
    "        hours = estimated_telescope_times[site_name]\n",
    "        start_time = hours[\"start\"] * 60 * 60\n",
    "        end_time = hours[\"end\"] * 60 * 60\n",
    "\n",
    "        seconds_in_day = 24 * 60 * 60\n",
    "\n",
    "        if start_time > end_time:\n",
    "            start_time -= seconds_in_day\n",
    "\n",
    "        open_hours = [{\"start\": start_time + i*seconds_in_day, \"end\": end_time + i*seconds_in_day} for i in range(horizon_days+3)]\n",
    "\n",
    "        open_hours = trim_time_segments(open_hours, now, horizon)\n",
    "        \n",
    "        telescopes.append(open_hours)\n",
    "    return telescopes\n",
    "\n",
    "telescopes = generate_telescope_times(2)\n",
    "\n",
    "print(now)\n",
    "print(horizon)\n",
    "print(telescopes)"
   ]
  }
 ],
 "metadata": {
  "kernelspec": {
   "display_name": "Python 3 (ipykernel)",
   "language": "python",
   "name": "python3"
  },
  "language_info": {
   "codemirror_mode": {
    "name": "ipython",
    "version": 3
   },
   "file_extension": ".py",
   "mimetype": "text/x-python",
   "name": "python",
   "nbconvert_exporter": "python",
   "pygments_lexer": "ipython3",
   "version": "3.11.4"
  }
 },
 "nbformat": 4,
 "nbformat_minor": 5
}
