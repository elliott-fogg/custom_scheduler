{
 "cells": [
  {
   "cell_type": "code",
   "execution_count": 1,
   "metadata": {
    "ExecuteTime": {
     "end_time": "2023-03-28T17:18:35.463850Z",
     "start_time": "2023-03-28T17:18:35.434837Z"
    }
   },
   "outputs": [],
   "source": [
    "import json"
   ]
  },
  {
   "cell_type": "code",
   "execution_count": 7,
   "metadata": {
    "ExecuteTime": {
     "end_time": "2023-03-28T17:21:32.762623Z",
     "start_time": "2023-03-28T17:21:32.748630Z"
    }
   },
   "outputs": [],
   "source": [
    "t = {\n",
    "    # Scheduler Variables\n",
    "    \"start_time\": \"2019-04-16T02:46:30.124810Z\",\n",
    "    \"slicesize\": 300,\n",
    "    \n",
    "    # Resource and Proposal values\n",
    "    \"telescopes\": [\"Telescope_1\", \"Telescope_2\"],\n",
    "    \n",
    "    \"proposals\": [\n",
    "        {\n",
    "            \"name\": \"Proposal_1\",\n",
    "            \"priority\": 45\n",
    "        }\n",
    "    ],\n",
    "    \n",
    "    # Downtime\n",
    "    \"scheduled_downtime\": [\n",
    "        {\n",
    "            \"start\": \"2019-04-16T02:46:30.124810Z\",\n",
    "            \"end\": \"2019-04-16T02:46:30.124810Z\",\n",
    "            \"telescope\": \"Telescope_1\",\n",
    "            \"when_scheduled\": None\n",
    "        }\n",
    "    ],\n",
    "    \n",
    "    \"surprise_downtime\": [\n",
    "        {\n",
    "            \"start\": \"2019-04-16T02:46:30.124610Z\",\n",
    "            \"end\": \"2019-04-16T02:46:30.124610Z\",\n",
    "            \"telescope\": \"Telescope_1\"\n",
    "        }\n",
    "    ],\n",
    "\n",
    "    # Request Blocks\n",
    "    \"request_blocks\": [\n",
    "        {\n",
    "            \"time_of_input\": \"2019-04-16T02:46:30.124610Z\",\n",
    "            \"requests\": [\n",
    "                {\n",
    "                    \"duration\": 600,\n",
    "                    \"windows\": [\n",
    "                        {\n",
    "                            \"start\": \"DATETIME\",\n",
    "                            \"end\": \"DATETIME\",\n",
    "                            \"telescope\": \"Telescope_1\"\n",
    "                        }\n",
    "                    ],\n",
    "                    \"proposal_id\": \"Proposal_1\"\n",
    "                }\n",
    "            ]\n",
    "        }\n",
    "    ]\n",
    "}"
   ]
  },
  {
   "cell_type": "code",
   "execution_count": 8,
   "metadata": {
    "ExecuteTime": {
     "end_time": "2023-03-28T17:21:33.199036Z",
     "start_time": "2023-03-28T17:21:33.183075Z"
    }
   },
   "outputs": [
    {
     "data": {
      "text/plain": [
       "{'start_time': '2019-04-16T02:46:30.124810Z',\n",
       " 'slicesize': 300,\n",
       " 'telescopes': ['Telescope_1', 'Telescope_2'],\n",
       " 'proposals': [{'name': 'Proposal_1', 'priority': 45}],\n",
       " 'scheduled_downtime': [{'start': '2019-04-16T02:46:30.124810Z',\n",
       "   'end': '2019-04-16T02:46:30.124810Z',\n",
       "   'telescope': 'Telescope_1',\n",
       "   'when_scheduled': None}],\n",
       " 'surprise_downtime': [{'start': '2019-04-16T02:46:30.124610Z',\n",
       "   'end': '2019-04-16T02:46:30.124610Z',\n",
       "   'telescope': 'Telescope_1'}],\n",
       " 'request_blocks': [{'time_of_input': '2019-04-16T02:46:30.124610Z',\n",
       "   'requests': [{'duration': 600,\n",
       "     'windows': [{'start': 'DATETIME',\n",
       "       'end': 'DATETIME',\n",
       "       'telescope': 'Telescope_1'}],\n",
       "     'proposal_id': 'Proposal_1'}]}]}"
      ]
     },
     "execution_count": 8,
     "metadata": {},
     "output_type": "execute_result"
    }
   ],
   "source": [
    "t"
   ]
  },
  {
   "cell_type": "code",
   "execution_count": 9,
   "metadata": {
    "ExecuteTime": {
     "end_time": "2023-03-28T17:21:36.047793Z",
     "start_time": "2023-03-28T17:21:36.034793Z"
    }
   },
   "outputs": [],
   "source": [
    "json.dump(t, open(\"sample_input_file.json\", \"w\"), indent=4)"
   ]
  },
  {
   "cell_type": "code",
   "execution_count": null,
   "metadata": {},
   "outputs": [],
   "source": []
  }
 ],
 "metadata": {
  "kernelspec": {
   "display_name": "Python 3",
   "language": "python",
   "name": "python3"
  },
  "language_info": {
   "codemirror_mode": {
    "name": "ipython",
    "version": 3
   },
   "file_extension": ".py",
   "mimetype": "text/x-python",
   "name": "python",
   "nbconvert_exporter": "python",
   "pygments_lexer": "ipython3",
   "version": "3.7.3"
  },
  "toc": {
   "base_numbering": 1,
   "nav_menu": {},
   "number_sections": true,
   "sideBar": true,
   "skip_h1_title": true,
   "title_cell": "Table of Contents",
   "title_sidebar": "Contents",
   "toc_cell": false,
   "toc_position": {},
   "toc_section_display": true,
   "toc_window_display": true
  }
 },
 "nbformat": 4,
 "nbformat_minor": 2
}
