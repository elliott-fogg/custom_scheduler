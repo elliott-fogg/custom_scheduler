{
 "cells": [
  {
   "cell_type": "code",
   "execution_count": 1,
   "id": "eb93f74d-e001-4121-b4fa-390b86ba968e",
   "metadata": {
    "execution": {
     "iopub.execute_input": "2023-12-01T15:04:31.396407Z",
     "iopub.status.busy": "2023-12-01T15:04:31.396407Z",
     "iopub.status.idle": "2023-12-01T15:04:54.451847Z",
     "shell.execute_reply": "2023-12-01T15:04:54.451847Z",
     "shell.execute_reply.started": "2023-12-01T15:04:31.396407Z"
    }
   },
   "outputs": [],
   "source": [
    "import test_template as tt\n",
    "import pandas as pd\n",
    "import numpy as np\n",
    "import seaborn as sns\n",
    "import matplotlib.pyplot as plt"
   ]
  },
  {
   "cell_type": "markdown",
   "id": "110faaa0-ee1b-460c-ae38-7a8ce6f7c31f",
   "metadata": {},
   "source": [
    "## Number of Requests"
   ]
  },
  {
   "cell_type": "code",
   "execution_count": 2,
   "id": "ddeb8438-6370-4fa4-8f00-931e05816a2b",
   "metadata": {
    "execution": {
     "iopub.execute_input": "2023-12-01T11:15:19.895150Z",
     "iopub.status.busy": "2023-12-01T11:15:19.894147Z",
     "iopub.status.idle": "2023-12-01T11:15:19.902627Z",
     "shell.execute_reply": "2023-12-01T11:15:19.901611Z",
     "shell.execute_reply.started": "2023-12-01T11:15:19.895150Z"
    }
   },
   "outputs": [],
   "source": [
    "pt1 = tt.PerformanceTest1(\"test_results/performance\", \n",
    "                          [100, 500, 1000, 5000, 10000, 15000, 20000, 25000, 30000, 35000, 40000, 45000, 50000],\n",
    "                          10)"
   ]
  },
  {
   "cell_type": "code",
   "execution_count": 3,
   "id": "9d52b01b-bb1e-404c-8bbb-edd15c68267a",
   "metadata": {
    "execution": {
     "iopub.execute_input": "2023-12-01T11:15:26.077881Z",
     "iopub.status.busy": "2023-12-01T11:15:26.076855Z",
     "iopub.status.idle": "2023-12-01T11:15:26.083932Z",
     "shell.execute_reply": "2023-12-01T11:15:26.083932Z",
     "shell.execute_reply.started": "2023-12-01T11:15:26.076855Z"
    }
   },
   "outputs": [],
   "source": [
    "pt1 = tt.PerformanceTest1(\"test_results/performance\",\n",
    "                          [100],\n",
    "                          1)"
   ]
  },
  {
   "cell_type": "code",
   "execution_count": 4,
   "id": "4162afae-c0a4-4d2d-99cb-961890be0fc6",
   "metadata": {
    "execution": {
     "iopub.execute_input": "2023-12-01T11:15:30.570570Z",
     "iopub.status.busy": "2023-12-01T11:15:30.570570Z",
     "iopub.status.idle": "2023-12-01T11:15:30.796818Z",
     "shell.execute_reply": "2023-12-01T11:15:30.796818Z",
     "shell.execute_reply.started": "2023-12-01T11:15:30.570570Z"
    }
   },
   "outputs": [
    {
     "name": "stdout",
     "output_type": "stream",
     "text": [
      "{100: [0.2115774154663086]}\n"
     ]
    }
   ],
   "source": [
    "pt1.run()"
   ]
  },
  {
   "cell_type": "code",
   "execution_count": 6,
   "id": "9d52b38a-c5f6-4c15-a7d3-4aa52661d4c7",
   "metadata": {
    "execution": {
     "iopub.execute_input": "2023-11-28T13:29:36.794096Z",
     "iopub.status.busy": "2023-11-28T13:29:36.791097Z",
     "iopub.status.idle": "2023-11-28T13:29:36.916384Z",
     "shell.execute_reply": "2023-11-28T13:29:36.915372Z",
     "shell.execute_reply.started": "2023-11-28T13:29:36.794096Z"
    }
   },
   "outputs": [
    {
     "data": {
      "text/html": [
       "<div>\n",
       "<style scoped>\n",
       "    .dataframe tbody tr th:only-of-type {\n",
       "        vertical-align: middle;\n",
       "    }\n",
       "\n",
       "    .dataframe tbody tr th {\n",
       "        vertical-align: top;\n",
       "    }\n",
       "\n",
       "    .dataframe thead th {\n",
       "        text-align: right;\n",
       "    }\n",
       "</style>\n",
       "<table border=\"1\" class=\"dataframe\">\n",
       "  <thead>\n",
       "    <tr style=\"text-align: right;\">\n",
       "      <th></th>\n",
       "      <th>100</th>\n",
       "      <th>500</th>\n",
       "      <th>1000</th>\n",
       "      <th>5000</th>\n",
       "      <th>10000</th>\n",
       "      <th>15000</th>\n",
       "      <th>20000</th>\n",
       "      <th>25000</th>\n",
       "      <th>30000</th>\n",
       "      <th>35000</th>\n",
       "      <th>40000</th>\n",
       "      <th>45000</th>\n",
       "      <th>50000</th>\n",
       "    </tr>\n",
       "  </thead>\n",
       "  <tbody>\n",
       "    <tr>\n",
       "      <th>0</th>\n",
       "      <td>0.154013</td>\n",
       "      <td>0.114035</td>\n",
       "      <td>0.555001</td>\n",
       "      <td>1.473996</td>\n",
       "      <td>4.871010</td>\n",
       "      <td>2.550005</td>\n",
       "      <td>8.555999</td>\n",
       "      <td>27.386949</td>\n",
       "      <td>17.905012</td>\n",
       "      <td>32.098951</td>\n",
       "      <td>47.816322</td>\n",
       "      <td>40.381044</td>\n",
       "      <td>26.361411</td>\n",
       "    </tr>\n",
       "    <tr>\n",
       "      <th>1</th>\n",
       "      <td>0.069035</td>\n",
       "      <td>0.185006</td>\n",
       "      <td>0.626993</td>\n",
       "      <td>3.971000</td>\n",
       "      <td>6.264948</td>\n",
       "      <td>16.177328</td>\n",
       "      <td>6.807043</td>\n",
       "      <td>16.460030</td>\n",
       "      <td>9.821948</td>\n",
       "      <td>32.547029</td>\n",
       "      <td>13.702907</td>\n",
       "      <td>45.717961</td>\n",
       "      <td>58.105560</td>\n",
       "    </tr>\n",
       "    <tr>\n",
       "      <th>2</th>\n",
       "      <td>0.063004</td>\n",
       "      <td>0.176996</td>\n",
       "      <td>0.609003</td>\n",
       "      <td>4.567043</td>\n",
       "      <td>1.600224</td>\n",
       "      <td>0.682182</td>\n",
       "      <td>1.400981</td>\n",
       "      <td>27.974555</td>\n",
       "      <td>29.789049</td>\n",
       "      <td>30.268064</td>\n",
       "      <td>43.239568</td>\n",
       "      <td>36.593228</td>\n",
       "      <td>18.221718</td>\n",
       "    </tr>\n",
       "    <tr>\n",
       "      <th>3</th>\n",
       "      <td>0.074006</td>\n",
       "      <td>0.122963</td>\n",
       "      <td>0.678036</td>\n",
       "      <td>2.438039</td>\n",
       "      <td>8.578996</td>\n",
       "      <td>7.491204</td>\n",
       "      <td>12.364959</td>\n",
       "      <td>9.211958</td>\n",
       "      <td>28.762069</td>\n",
       "      <td>23.915004</td>\n",
       "      <td>21.425022</td>\n",
       "      <td>60.592072</td>\n",
       "      <td>48.034370</td>\n",
       "    </tr>\n",
       "    <tr>\n",
       "      <th>4</th>\n",
       "      <td>0.085964</td>\n",
       "      <td>0.375002</td>\n",
       "      <td>0.180684</td>\n",
       "      <td>0.920951</td>\n",
       "      <td>9.452983</td>\n",
       "      <td>15.647890</td>\n",
       "      <td>4.277055</td>\n",
       "      <td>4.635044</td>\n",
       "      <td>14.838054</td>\n",
       "      <td>4.898011</td>\n",
       "      <td>40.990009</td>\n",
       "      <td>46.081995</td>\n",
       "      <td>17.658937</td>\n",
       "    </tr>\n",
       "    <tr>\n",
       "      <th>5</th>\n",
       "      <td>0.049999</td>\n",
       "      <td>0.261043</td>\n",
       "      <td>0.530962</td>\n",
       "      <td>2.267000</td>\n",
       "      <td>6.734056</td>\n",
       "      <td>11.945759</td>\n",
       "      <td>15.766957</td>\n",
       "      <td>15.278964</td>\n",
       "      <td>25.892996</td>\n",
       "      <td>29.208960</td>\n",
       "      <td>10.714970</td>\n",
       "      <td>6.936000</td>\n",
       "      <td>271.035376</td>\n",
       "    </tr>\n",
       "    <tr>\n",
       "      <th>6</th>\n",
       "      <td>0.034962</td>\n",
       "      <td>0.342956</td>\n",
       "      <td>0.412958</td>\n",
       "      <td>3.968998</td>\n",
       "      <td>8.621966</td>\n",
       "      <td>2.679040</td>\n",
       "      <td>20.731988</td>\n",
       "      <td>16.722060</td>\n",
       "      <td>33.579452</td>\n",
       "      <td>7.447082</td>\n",
       "      <td>2.764004</td>\n",
       "      <td>15.153056</td>\n",
       "      <td>15.211967</td>\n",
       "    </tr>\n",
       "    <tr>\n",
       "      <th>7</th>\n",
       "      <td>0.051987</td>\n",
       "      <td>0.103003</td>\n",
       "      <td>0.285002</td>\n",
       "      <td>0.754957</td>\n",
       "      <td>3.999002</td>\n",
       "      <td>14.053974</td>\n",
       "      <td>16.786279</td>\n",
       "      <td>16.883506</td>\n",
       "      <td>34.528006</td>\n",
       "      <td>38.891009</td>\n",
       "      <td>40.426011</td>\n",
       "      <td>48.121742</td>\n",
       "      <td>54.318008</td>\n",
       "    </tr>\n",
       "    <tr>\n",
       "      <th>8</th>\n",
       "      <td>0.065999</td>\n",
       "      <td>0.378957</td>\n",
       "      <td>0.671003</td>\n",
       "      <td>3.005945</td>\n",
       "      <td>3.473944</td>\n",
       "      <td>11.738132</td>\n",
       "      <td>9.286041</td>\n",
       "      <td>26.204010</td>\n",
       "      <td>18.664005</td>\n",
       "      <td>21.728059</td>\n",
       "      <td>45.276009</td>\n",
       "      <td>14.222304</td>\n",
       "      <td>46.719092</td>\n",
       "    </tr>\n",
       "    <tr>\n",
       "      <th>9</th>\n",
       "      <td>0.037033</td>\n",
       "      <td>0.096040</td>\n",
       "      <td>0.155000</td>\n",
       "      <td>3.923963</td>\n",
       "      <td>7.984001</td>\n",
       "      <td>14.176032</td>\n",
       "      <td>1.625011</td>\n",
       "      <td>25.915297</td>\n",
       "      <td>32.888955</td>\n",
       "      <td>23.588003</td>\n",
       "      <td>22.832009</td>\n",
       "      <td>7.728657</td>\n",
       "      <td>21.109959</td>\n",
       "    </tr>\n",
       "  </tbody>\n",
       "</table>\n",
       "</div>"
      ],
      "text/plain": [
       "      100       500       1000      5000      10000      15000      20000  \\\n",
       "0  0.154013  0.114035  0.555001  1.473996  4.871010   2.550005   8.555999   \n",
       "1  0.069035  0.185006  0.626993  3.971000  6.264948  16.177328   6.807043   \n",
       "2  0.063004  0.176996  0.609003  4.567043  1.600224   0.682182   1.400981   \n",
       "3  0.074006  0.122963  0.678036  2.438039  8.578996   7.491204  12.364959   \n",
       "4  0.085964  0.375002  0.180684  0.920951  9.452983  15.647890   4.277055   \n",
       "5  0.049999  0.261043  0.530962  2.267000  6.734056  11.945759  15.766957   \n",
       "6  0.034962  0.342956  0.412958  3.968998  8.621966   2.679040  20.731988   \n",
       "7  0.051987  0.103003  0.285002  0.754957  3.999002  14.053974  16.786279   \n",
       "8  0.065999  0.378957  0.671003  3.005945  3.473944  11.738132   9.286041   \n",
       "9  0.037033  0.096040  0.155000  3.923963  7.984001  14.176032   1.625011   \n",
       "\n",
       "       25000      30000      35000      40000      45000       50000  \n",
       "0  27.386949  17.905012  32.098951  47.816322  40.381044   26.361411  \n",
       "1  16.460030   9.821948  32.547029  13.702907  45.717961   58.105560  \n",
       "2  27.974555  29.789049  30.268064  43.239568  36.593228   18.221718  \n",
       "3   9.211958  28.762069  23.915004  21.425022  60.592072   48.034370  \n",
       "4   4.635044  14.838054   4.898011  40.990009  46.081995   17.658937  \n",
       "5  15.278964  25.892996  29.208960  10.714970   6.936000  271.035376  \n",
       "6  16.722060  33.579452   7.447082   2.764004  15.153056   15.211967  \n",
       "7  16.883506  34.528006  38.891009  40.426011  48.121742   54.318008  \n",
       "8  26.204010  18.664005  21.728059  45.276009  14.222304   46.719092  \n",
       "9  25.915297  32.888955  23.588003  22.832009   7.728657   21.109959  "
      ]
     },
     "execution_count": 6,
     "metadata": {},
     "output_type": "execute_result"
    }
   ],
   "source": [
    "df1 = pd.DataFrame(pt1.output)\n",
    "df1 = df1.explode(list(df1.columns))\n",
    "df1"
   ]
  },
  {
   "cell_type": "code",
   "execution_count": 7,
   "id": "1663ac9e-b2ea-4570-b57a-30b56f8f7ad4",
   "metadata": {
    "execution": {
     "iopub.execute_input": "2023-11-28T13:29:36.919387Z",
     "iopub.status.busy": "2023-11-28T13:29:36.918384Z",
     "iopub.status.idle": "2023-11-28T13:29:36.955814Z",
     "shell.execute_reply": "2023-11-28T13:29:36.954802Z",
     "shell.execute_reply.started": "2023-11-28T13:29:36.919387Z"
    },
    "scrolled": true
   },
   "outputs": [
    {
     "data": {
      "text/html": [
       "<div>\n",
       "<style scoped>\n",
       "    .dataframe tbody tr th:only-of-type {\n",
       "        vertical-align: middle;\n",
       "    }\n",
       "\n",
       "    .dataframe tbody tr th {\n",
       "        vertical-align: top;\n",
       "    }\n",
       "\n",
       "    .dataframe thead th {\n",
       "        text-align: right;\n",
       "    }\n",
       "</style>\n",
       "<table border=\"1\" class=\"dataframe\">\n",
       "  <thead>\n",
       "    <tr style=\"text-align: right;\">\n",
       "      <th></th>\n",
       "      <th>requests</th>\n",
       "      <th>time</th>\n",
       "    </tr>\n",
       "  </thead>\n",
       "  <tbody>\n",
       "    <tr>\n",
       "      <th>0</th>\n",
       "      <td>100</td>\n",
       "      <td>0.154013</td>\n",
       "    </tr>\n",
       "    <tr>\n",
       "      <th>1</th>\n",
       "      <td>100</td>\n",
       "      <td>0.069035</td>\n",
       "    </tr>\n",
       "    <tr>\n",
       "      <th>2</th>\n",
       "      <td>100</td>\n",
       "      <td>0.063004</td>\n",
       "    </tr>\n",
       "    <tr>\n",
       "      <th>3</th>\n",
       "      <td>100</td>\n",
       "      <td>0.074006</td>\n",
       "    </tr>\n",
       "    <tr>\n",
       "      <th>4</th>\n",
       "      <td>100</td>\n",
       "      <td>0.085964</td>\n",
       "    </tr>\n",
       "    <tr>\n",
       "      <th>...</th>\n",
       "      <td>...</td>\n",
       "      <td>...</td>\n",
       "    </tr>\n",
       "    <tr>\n",
       "      <th>125</th>\n",
       "      <td>50000</td>\n",
       "      <td>271.035376</td>\n",
       "    </tr>\n",
       "    <tr>\n",
       "      <th>126</th>\n",
       "      <td>50000</td>\n",
       "      <td>15.211967</td>\n",
       "    </tr>\n",
       "    <tr>\n",
       "      <th>127</th>\n",
       "      <td>50000</td>\n",
       "      <td>54.318008</td>\n",
       "    </tr>\n",
       "    <tr>\n",
       "      <th>128</th>\n",
       "      <td>50000</td>\n",
       "      <td>46.719092</td>\n",
       "    </tr>\n",
       "    <tr>\n",
       "      <th>129</th>\n",
       "      <td>50000</td>\n",
       "      <td>21.109959</td>\n",
       "    </tr>\n",
       "  </tbody>\n",
       "</table>\n",
       "<p>130 rows × 2 columns</p>\n",
       "</div>"
      ],
      "text/plain": [
       "     requests        time\n",
       "0         100    0.154013\n",
       "1         100    0.069035\n",
       "2         100    0.063004\n",
       "3         100    0.074006\n",
       "4         100    0.085964\n",
       "..        ...         ...\n",
       "125     50000  271.035376\n",
       "126     50000   15.211967\n",
       "127     50000   54.318008\n",
       "128     50000   46.719092\n",
       "129     50000   21.109959\n",
       "\n",
       "[130 rows x 2 columns]"
      ]
     },
     "execution_count": 7,
     "metadata": {},
     "output_type": "execute_result"
    }
   ],
   "source": [
    "df1 = pd.DataFrame(pt1.output)\n",
    "df1 = df1.explode(list(df1.columns)).melt(var_name=\"requests\", value_name=\"time\")\n",
    "df1"
   ]
  },
  {
   "cell_type": "code",
   "execution_count": 10,
   "id": "2c9370a6-1da1-4298-b9f5-34effb202ef0",
   "metadata": {
    "execution": {
     "iopub.execute_input": "2023-11-28T14:22:56.342924Z",
     "iopub.status.busy": "2023-11-28T14:22:56.341925Z",
     "iopub.status.idle": "2023-11-28T14:22:56.812258Z",
     "shell.execute_reply": "2023-11-28T14:22:56.812258Z",
     "shell.execute_reply.started": "2023-11-28T14:22:56.342924Z"
    }
   },
   "outputs": [
    {
     "data": {
      "text/plain": [
       "<Axes: xlabel='requests', ylabel='time'>"
      ]
     },
     "execution_count": 10,
     "metadata": {},
     "output_type": "execute_result"
    },
    {
     "data": {
      "image/png": "[encoded data removed]",
      "text/plain": [
       "<Figure size 640x480 with 1 Axes>"
      ]
     },
     "metadata": {},
     "output_type": "display_data"
    }
   ],
   "source": [
    "sns.lineplot(df1, x=\"requests\", y=\"time\")"
   ]
  },
  {
   "cell_type": "code",
   "execution_count": 11,
   "id": "6428a84a-d17e-477b-9801-4b84656b039c",
   "metadata": {
    "execution": {
     "iopub.execute_input": "2023-11-28T14:22:59.610084Z",
     "iopub.status.busy": "2023-11-28T14:22:59.609086Z",
     "iopub.status.idle": "2023-11-28T14:22:59.827040Z",
     "shell.execute_reply": "2023-11-28T14:22:59.827040Z",
     "shell.execute_reply.started": "2023-11-28T14:22:59.610084Z"
    }
   },
   "outputs": [
    {
     "data": {
      "text/plain": [
       "<Axes: xlabel='requests', ylabel='time'>"
      ]
     },
     "execution_count": 11,
     "metadata": {},
     "output_type": "execute_result"
    },
    {
     "data": {
      "image/png": "[encoded data removed]",
      "text/plain": [
       "<Figure size 640x480 with 1 Axes>"
      ]
     },
     "metadata": {},
     "output_type": "display_data"
    }
   ],
   "source": [
    "sns.scatterplot(df1, x=\"requests\", y=\"time\")"
   ]
  },
  {
   "cell_type": "markdown",
   "id": "07b32f9a-bea1-402f-9160-17126b145d41",
   "metadata": {},
   "source": [
    "## Number of Telescopes"
   ]
  },
  {
   "cell_type": "code",
   "execution_count": 13,
   "id": "1db43515-dff0-4f11-8f14-b99c96cd0948",
   "metadata": {
    "execution": {
     "iopub.execute_input": "2023-11-28T14:37:12.273865Z",
     "iopub.status.busy": "2023-11-28T14:37:12.269867Z",
     "iopub.status.idle": "2023-11-28T14:37:12.281953Z",
     "shell.execute_reply": "2023-11-28T14:37:12.280942Z",
     "shell.execute_reply.started": "2023-11-28T14:37:12.273865Z"
    }
   },
   "outputs": [],
   "source": [
    "pt2 = tt.PerformanceTest2(\"test_results/performance\",\n",
    "                          [1000, 2500, 5000],\n",
    "                          [1, 2, 3, 5, 10, 15, 20],\n",
    "                          3)"
   ]
  },
  {
   "cell_type": "code",
   "execution_count": 14,
   "id": "3428d448-3d6e-46c0-b3a9-841cce60a177",
   "metadata": {
    "execution": {
     "iopub.execute_input": "2023-11-28T14:37:16.894870Z",
     "iopub.status.busy": "2023-11-28T14:37:16.893876Z",
     "iopub.status.idle": "2023-11-28T14:54:13.101671Z",
     "shell.execute_reply": "2023-11-28T14:54:13.098669Z",
     "shell.execute_reply.started": "2023-11-28T14:37:16.894870Z"
    }
   },
   "outputs": [
    {
     "name": "stdout",
     "output_type": "stream",
     "text": [
      "{1: {1000: [0.6407289505004883, 0.5900380611419678, 0.5880007743835449], 2500: [2.0330405235290527, 1.9900057315826416, 1.2559635639190674], 5000: [1.2419977188110352, 2.217297315597534, 4.0909645557403564]}, 2: {1000: [1.1350159645080566, 0.9350101947784424, 1.042001724243164], 2500: [1.095979928970337, 0.8839638233184814, 3.279998779296875], 5000: [9.981010675430298, 8.014005661010742, 1.9869465827941895]}, 3: {1000: [2.2529985904693604, 1.404001235961914, 2.498999834060669], 2500: [3.6620123386383057, 7.491960763931274, 6.8940043449401855], 5000: [11.18100619316101, 16.77497124671936, 12.74700403213501]}, 5: {1000: [3.6679632663726807, 3.63301157951355, 2.581939220428467], 2500: [8.086991786956787, 7.620007038116455, 11.327963829040527], 5000: [12.54396367073059, 19.658971071243286, 9.854042053222656]}, 10: {1000: [5.331009864807129, 4.242960453033447, 4.828068017959595], 2500: [17.388010025024414, 11.268008947372437, 15.911014318466187], 5000: [42.430668115615845, 38.71271276473999, 25.735687971115112]}, 15: {1000: [9.251002073287964, 9.41505217552185, 7.716044664382935], 2500: [22.91897964477539, 26.879019737243652, 26.86101531982422], 5000: [44.46102809906006, 59.66250991821289, 68.67223048210144]}, 20: {1000: [14.060798168182373, 13.584964275360107, 12.992009401321411], 2500: [36.746984243392944, 42.0770628452301, 29.415018796920776], 5000: [56.653993368148804, 82.79104661941528, 72.88707756996155]}}\n"
     ]
    }
   ],
   "source": [
    "pt2.run()"
   ]
  },
  {
   "cell_type": "code",
   "execution_count": 16,
   "id": "6caa2a24-3329-4702-84e4-6fda14bd8953",
   "metadata": {
    "execution": {
     "iopub.execute_input": "2023-11-28T14:54:13.187288Z",
     "iopub.status.busy": "2023-11-28T14:54:13.186290Z",
     "iopub.status.idle": "2023-11-28T14:54:13.240316Z",
     "shell.execute_reply": "2023-11-28T14:54:13.240316Z",
     "shell.execute_reply.started": "2023-11-28T14:54:13.187288Z"
    }
   },
   "outputs": [
    {
     "data": {
      "text/html": [
       "<div>\n",
       "<style scoped>\n",
       "    .dataframe tbody tr th:only-of-type {\n",
       "        vertical-align: middle;\n",
       "    }\n",
       "\n",
       "    .dataframe tbody tr th {\n",
       "        vertical-align: top;\n",
       "    }\n",
       "\n",
       "    .dataframe thead th {\n",
       "        text-align: right;\n",
       "    }\n",
       "</style>\n",
       "<table border=\"1\" class=\"dataframe\">\n",
       "  <thead>\n",
       "    <tr style=\"text-align: right;\">\n",
       "      <th></th>\n",
       "      <th>1000</th>\n",
       "      <th>1000</th>\n",
       "      <th>1000</th>\n",
       "      <th>2500</th>\n",
       "      <th>2500</th>\n",
       "      <th>2500</th>\n",
       "      <th>5000</th>\n",
       "      <th>5000</th>\n",
       "      <th>5000</th>\n",
       "    </tr>\n",
       "  </thead>\n",
       "  <tbody>\n",
       "    <tr>\n",
       "      <th>1</th>\n",
       "      <td>0.640729</td>\n",
       "      <td>0.590038</td>\n",
       "      <td>0.588001</td>\n",
       "      <td>2.033041</td>\n",
       "      <td>1.990006</td>\n",
       "      <td>1.255964</td>\n",
       "      <td>1.241998</td>\n",
       "      <td>2.217297</td>\n",
       "      <td>4.090965</td>\n",
       "    </tr>\n",
       "    <tr>\n",
       "      <th>2</th>\n",
       "      <td>1.135016</td>\n",
       "      <td>0.93501</td>\n",
       "      <td>1.042002</td>\n",
       "      <td>1.09598</td>\n",
       "      <td>0.883964</td>\n",
       "      <td>3.279999</td>\n",
       "      <td>9.981011</td>\n",
       "      <td>8.014006</td>\n",
       "      <td>1.986947</td>\n",
       "    </tr>\n",
       "    <tr>\n",
       "      <th>3</th>\n",
       "      <td>2.252999</td>\n",
       "      <td>1.404001</td>\n",
       "      <td>2.499</td>\n",
       "      <td>3.662012</td>\n",
       "      <td>7.491961</td>\n",
       "      <td>6.894004</td>\n",
       "      <td>11.181006</td>\n",
       "      <td>16.774971</td>\n",
       "      <td>12.747004</td>\n",
       "    </tr>\n",
       "    <tr>\n",
       "      <th>5</th>\n",
       "      <td>3.667963</td>\n",
       "      <td>3.633012</td>\n",
       "      <td>2.581939</td>\n",
       "      <td>8.086992</td>\n",
       "      <td>7.620007</td>\n",
       "      <td>11.327964</td>\n",
       "      <td>12.543964</td>\n",
       "      <td>19.658971</td>\n",
       "      <td>9.854042</td>\n",
       "    </tr>\n",
       "    <tr>\n",
       "      <th>10</th>\n",
       "      <td>5.33101</td>\n",
       "      <td>4.24296</td>\n",
       "      <td>4.828068</td>\n",
       "      <td>17.38801</td>\n",
       "      <td>11.268009</td>\n",
       "      <td>15.911014</td>\n",
       "      <td>42.430668</td>\n",
       "      <td>38.712713</td>\n",
       "      <td>25.735688</td>\n",
       "    </tr>\n",
       "    <tr>\n",
       "      <th>15</th>\n",
       "      <td>9.251002</td>\n",
       "      <td>9.415052</td>\n",
       "      <td>7.716045</td>\n",
       "      <td>22.91898</td>\n",
       "      <td>26.87902</td>\n",
       "      <td>26.861015</td>\n",
       "      <td>44.461028</td>\n",
       "      <td>59.66251</td>\n",
       "      <td>68.67223</td>\n",
       "    </tr>\n",
       "    <tr>\n",
       "      <th>20</th>\n",
       "      <td>14.060798</td>\n",
       "      <td>13.584964</td>\n",
       "      <td>12.992009</td>\n",
       "      <td>36.746984</td>\n",
       "      <td>42.077063</td>\n",
       "      <td>29.415019</td>\n",
       "      <td>56.653993</td>\n",
       "      <td>82.791047</td>\n",
       "      <td>72.887078</td>\n",
       "    </tr>\n",
       "  </tbody>\n",
       "</table>\n",
       "</div>"
      ],
      "text/plain": [
       "         1000       1000       1000       2500       2500       2500  \\\n",
       "1    0.640729   0.590038   0.588001   2.033041   1.990006   1.255964   \n",
       "2    1.135016    0.93501   1.042002    1.09598   0.883964   3.279999   \n",
       "3    2.252999   1.404001      2.499   3.662012   7.491961   6.894004   \n",
       "5    3.667963   3.633012   2.581939   8.086992   7.620007  11.327964   \n",
       "10    5.33101    4.24296   4.828068   17.38801  11.268009  15.911014   \n",
       "15   9.251002   9.415052   7.716045   22.91898   26.87902  26.861015   \n",
       "20  14.060798  13.584964  12.992009  36.746984  42.077063  29.415019   \n",
       "\n",
       "         5000       5000       5000  \n",
       "1    1.241998   2.217297   4.090965  \n",
       "2    9.981011   8.014006   1.986947  \n",
       "3   11.181006  16.774971  12.747004  \n",
       "5   12.543964  19.658971   9.854042  \n",
       "10  42.430668  38.712713  25.735688  \n",
       "15  44.461028   59.66251   68.67223  \n",
       "20  56.653993  82.791047  72.887078  "
      ]
     },
     "execution_count": 16,
     "metadata": {},
     "output_type": "execute_result"
    }
   ],
   "source": [
    "df2 = pd.DataFrame(pt2.output)\n",
    "df2 = df2.explode(list(df2.columns)).transpose()\n",
    "df2"
   ]
  },
  {
   "cell_type": "code",
   "execution_count": 17,
   "id": "abb22470-105d-4fde-ad8f-09e21eb4d459",
   "metadata": {
    "execution": {
     "iopub.execute_input": "2023-11-28T14:54:13.245329Z",
     "iopub.status.busy": "2023-11-28T14:54:13.244323Z",
     "iopub.status.idle": "2023-11-28T14:54:13.644919Z",
     "shell.execute_reply": "2023-11-28T14:54:13.643910Z",
     "shell.execute_reply.started": "2023-11-28T14:54:13.245329Z"
    }
   },
   "outputs": [
    {
     "data": {
      "text/plain": [
       "<Axes: >"
      ]
     },
     "execution_count": 17,
     "metadata": {},
     "output_type": "execute_result"
    },
    {
     "data": {
      "image/png": "[encoded data removed]",
      "text/plain": [
       "<Figure size 640x480 with 1 Axes>"
      ]
     },
     "metadata": {},
     "output_type": "display_data"
    }
   ],
   "source": [
    "sns.lineplot(df2, errorbar=\"sd\")"
   ]
  },
  {
   "cell_type": "code",
   "execution_count": 21,
   "id": "b3679ee4-3377-4bd0-8f09-dc7708f6adbe",
   "metadata": {
    "execution": {
     "iopub.execute_input": "2023-11-28T14:59:29.978824Z",
     "iopub.status.busy": "2023-11-28T14:59:29.977824Z",
     "iopub.status.idle": "2023-11-28T14:59:30.273640Z",
     "shell.execute_reply": "2023-11-28T14:59:30.272630Z",
     "shell.execute_reply.started": "2023-11-28T14:59:29.978824Z"
    }
   },
   "outputs": [
    {
     "data": {
      "text/plain": [
       "<Axes: >"
      ]
     },
     "execution_count": 21,
     "metadata": {},
     "output_type": "execute_result"
    },
    {
     "data": {
      "image/png": "[encoded data removed]",
      "text/plain": [
       "<Figure size 640x480 with 1 Axes>"
      ]
     },
     "metadata": {},
     "output_type": "display_data"
    }
   ],
   "source": [
    "sns.scatterplot(df2)"
   ]
  },
  {
   "cell_type": "markdown",
   "id": "692b0113-6666-40d0-8755-70e7d8e8513d",
   "metadata": {},
   "source": [
    "---\n",
    "\n",
    "---\n",
    "\n",
    "---"
   ]
  },
  {
   "cell_type": "markdown",
   "id": "a467a1c8-5702-482c-9dd0-1bd523d77f56",
   "metadata": {},
   "source": [
    "## Slice Size"
   ]
  },
  {
   "cell_type": "code",
   "execution_count": 84,
   "id": "7ec88be1-7b43-40ee-b9ed-3436f7731e4b",
   "metadata": {},
   "outputs": [],
   "source": [
    "pt3 = tt.PerformanceTest3(\"test_results/performance\",\n",
    "                          [1000],\n",
    "                          [600, 300, 240, 180, 120, 60, 30],\n",
    "                          3)"
   ]
  },
  {
   "cell_type": "code",
   "execution_count": 85,
   "id": "e4713bdf-849c-4d6e-9612-1e8266f0f091",
   "metadata": {},
   "outputs": [
    {
     "name": "stdout",
     "output_type": "stream",
     "text": [
      "{600: {1000: [0.2540106773376465, 0.27595949172973633, 0.28100013732910156]}, 300: {1000: [0.8110010623931885, 0.7690334320068359, 0.37996482849121094]}, 240: {1000: [0.22800302505493164, 0.6341366767883301, 0.7869675159454346]}, 180: {1000: [0.7630023956298828, 0.32204198837280273, 0.8230044841766357]}, 120: {1000: [0.898961067199707, 0.7249500751495361, 2.3179588317871094]}, 60: {1000: [7.830042123794556, 6.53004264831543, 1.7873070240020752]}, 30: {1000: [28.51500368118286, 5.71504020690918, 20.972003936767578]}}\n"
     ]
    }
   ],
   "source": [
    "pt3.run()"
   ]
  },
  {
   "cell_type": "code",
   "execution_count": 86,
   "id": "5bcda165-b300-447c-965c-a2766f696582",
   "metadata": {},
   "outputs": [
    {
     "data": {
      "text/html": [
       "<div>\n",
       "<style scoped>\n",
       "    .dataframe tbody tr th:only-of-type {\n",
       "        vertical-align: middle;\n",
       "    }\n",
       "\n",
       "    .dataframe tbody tr th {\n",
       "        vertical-align: top;\n",
       "    }\n",
       "\n",
       "    .dataframe thead th {\n",
       "        text-align: right;\n",
       "    }\n",
       "</style>\n",
       "<table border=\"1\" class=\"dataframe\">\n",
       "  <thead>\n",
       "    <tr style=\"text-align: right;\">\n",
       "      <th></th>\n",
       "      <th>600</th>\n",
       "      <th>300</th>\n",
       "      <th>240</th>\n",
       "      <th>180</th>\n",
       "      <th>120</th>\n",
       "      <th>60</th>\n",
       "      <th>30</th>\n",
       "    </tr>\n",
       "  </thead>\n",
       "  <tbody>\n",
       "    <tr>\n",
       "      <th>1000</th>\n",
       "      <td>0.254011</td>\n",
       "      <td>0.811001</td>\n",
       "      <td>0.228003</td>\n",
       "      <td>0.763002</td>\n",
       "      <td>0.898961</td>\n",
       "      <td>7.830042</td>\n",
       "      <td>28.515004</td>\n",
       "    </tr>\n",
       "    <tr>\n",
       "      <th>1000</th>\n",
       "      <td>0.275959</td>\n",
       "      <td>0.769033</td>\n",
       "      <td>0.634137</td>\n",
       "      <td>0.322042</td>\n",
       "      <td>0.72495</td>\n",
       "      <td>6.530043</td>\n",
       "      <td>5.71504</td>\n",
       "    </tr>\n",
       "    <tr>\n",
       "      <th>1000</th>\n",
       "      <td>0.281</td>\n",
       "      <td>0.379965</td>\n",
       "      <td>0.786968</td>\n",
       "      <td>0.823004</td>\n",
       "      <td>2.317959</td>\n",
       "      <td>1.787307</td>\n",
       "      <td>20.972004</td>\n",
       "    </tr>\n",
       "  </tbody>\n",
       "</table>\n",
       "</div>"
      ],
      "text/plain": [
       "           600       300       240       180       120       60         30 \n",
       "1000  0.254011  0.811001  0.228003  0.763002  0.898961  7.830042  28.515004\n",
       "1000  0.275959  0.769033  0.634137  0.322042   0.72495  6.530043    5.71504\n",
       "1000     0.281  0.379965  0.786968  0.823004  2.317959  1.787307  20.972004"
      ]
     },
     "execution_count": 86,
     "metadata": {},
     "output_type": "execute_result"
    }
   ],
   "source": [
    "df3 = pd.DataFrame(pt3.output)\n",
    "df3 = df3.explode(list(df3.columns))\n",
    "df3"
   ]
  },
  {
   "cell_type": "code",
   "execution_count": 89,
   "id": "d4405de4-b8f3-492c-9f3b-1f40ab9cdee6",
   "metadata": {},
   "outputs": [
    {
     "data": {
      "image/png": "[encoded data removed]",
      "text/plain": [
       "<Figure size 640x480 with 1 Axes>"
      ]
     },
     "metadata": {},
     "output_type": "display_data"
    }
   ],
   "source": [
    "sns.lineplot(df3.transpose())\n",
    "plt.yscale(\"log\")"
   ]
  },
  {
   "cell_type": "markdown",
   "id": "4df2bfe7-a36f-417e-9ed2-ace5483f0a63",
   "metadata": {},
   "source": [
    "## Alternative Optimiser - HiGHS"
   ]
  },
  {
   "cell_type": "code",
   "execution_count": 2,
   "id": "e4867dca-769d-4a85-90ac-bdf0ef42c600",
   "metadata": {
    "execution": {
     "iopub.execute_input": "2023-12-01T15:04:54.462236Z",
     "iopub.status.busy": "2023-12-01T15:04:54.462236Z",
     "iopub.status.idle": "2023-12-01T15:04:54.527133Z",
     "shell.execute_reply": "2023-12-01T15:04:54.527133Z",
     "shell.execute_reply.started": "2023-12-01T15:04:54.462236Z"
    }
   },
   "outputs": [],
   "source": [
    "from scheduler_v2 import Scheduler\n",
    "from ScheduleSimulator import SchedulerSimulation as SchedSim\n",
    "import highspy\n",
    "h = highspy.Highs()\n",
    "filename = \"test_model_main.mps\""
   ]
  },
  {
   "cell_type": "markdown",
   "id": "a4a852c6-7612-44ce-84b8-8d22152def95",
   "metadata": {},
   "source": [
    "### Gurobi - Create Model"
   ]
  },
  {
   "cell_type": "code",
   "execution_count": 3,
   "id": "1c8d97cd-b9cd-4f6d-9323-233325a1a310",
   "metadata": {
    "execution": {
     "iopub.execute_input": "2023-12-01T15:04:54.527133Z",
     "iopub.status.busy": "2023-12-01T15:04:54.527133Z",
     "iopub.status.idle": "2023-12-01T15:04:55.456671Z",
     "shell.execute_reply": "2023-12-01T15:04:55.455673Z",
     "shell.execute_reply.started": "2023-12-01T15:04:54.527133Z"
    }
   },
   "outputs": [],
   "source": [
    "s = SchedSim(\"sample_input/sample_input_v2_3.json\")\n",
    "s.process_event(s.events[0])\n",
    "requests, resources = s.prepare_scheduler()\n",
    "sched = Scheduler(s.now, s.horizon, s.slice_size, resources, s.proposals, requests, verbose=0)\n",
    "sched.calculate_free_windows()\n",
    "sched.build_data_structures()\n",
    "sched.build_model()"
   ]
  },
  {
   "cell_type": "markdown",
   "id": "20d3a64a-956c-49a6-9dc0-a47e4eba60fd",
   "metadata": {},
   "source": [
    "### Gurobi - Solve Model"
   ]
  },
  {
   "cell_type": "code",
   "execution_count": 4,
   "id": "0f1b1969-1c7f-40b5-a15c-3477afb0dc46",
   "metadata": {
    "execution": {
     "iopub.execute_input": "2023-12-01T15:04:55.458522Z",
     "iopub.status.busy": "2023-12-01T15:04:55.458522Z",
     "iopub.status.idle": "2023-12-01T15:04:57.147717Z",
     "shell.execute_reply": "2023-12-01T15:04:57.147717Z",
     "shell.execute_reply.started": "2023-12-01T15:04:55.458522Z"
    }
   },
   "outputs": [],
   "source": [
    "sched.load_model(filename)\n",
    "sched.solve_model()\n",
    "g_sol = sched.return_solution()"
   ]
  },
  {
   "cell_type": "code",
   "execution_count": 5,
   "id": "905ea5ff-9d90-4714-b8c2-7195f2391c33",
   "metadata": {
    "execution": {
     "iopub.execute_input": "2023-12-01T15:04:57.147717Z",
     "iopub.status.busy": "2023-12-01T15:04:57.147717Z",
     "iopub.status.idle": "2023-12-01T15:04:57.170830Z",
     "shell.execute_reply": "2023-12-01T15:04:57.169815Z",
     "shell.execute_reply.started": "2023-12-01T15:04:57.147717Z"
    }
   },
   "outputs": [
    {
     "name": "stdout",
     "output_type": "stream",
     "text": [
      "['6', '31', '32', '33', '36', '55', '60', '70', '86', '104', '113', '114', '117', '141', '143', '153', '167', '170', '203', '208', '213', '250', '264', '270', '301', '302', '314', '317', '323', '361', '375', '398', '414', '416', '425', '432', '439', '467', '470']\n"
     ]
    }
   ],
   "source": [
    "print(list(g_sol[\"scheduled\"].keys()))"
   ]
  },
  {
   "cell_type": "markdown",
   "id": "73b90777-703d-4f19-a942-76657f8e99c1",
   "metadata": {},
   "source": [
    "### HiGHS - Solve Model"
   ]
  },
  {
   "cell_type": "code",
   "execution_count": 6,
   "id": "deaf9331-200c-4598-bcf6-83bdf090b178",
   "metadata": {
    "execution": {
     "iopub.execute_input": "2023-12-01T15:04:57.173695Z",
     "iopub.status.busy": "2023-12-01T15:04:57.172829Z",
     "iopub.status.idle": "2023-12-01T15:05:19.096331Z",
     "shell.execute_reply": "2023-12-01T15:05:19.096331Z",
     "shell.execute_reply.started": "2023-12-01T15:04:57.173695Z"
    }
   },
   "outputs": [
    {
     "name": "stdout",
     "output_type": "stream",
     "text": [
      "HighsStatus.kOk\n"
     ]
    },
    {
     "data": {
      "text/plain": [
       "<HighsStatus.kOk: 0>"
      ]
     },
     "execution_count": 6,
     "metadata": {},
     "output_type": "execute_result"
    }
   ],
   "source": [
    "status = h.readModel(filename)\n",
    "print(status)\n",
    "h.run()"
   ]
  },
  {
   "cell_type": "code",
   "execution_count": 7,
   "id": "984fadd2-1d6f-4ce2-b432-adf98bc4eeb5",
   "metadata": {
    "execution": {
     "iopub.execute_input": "2023-12-01T15:05:19.096331Z",
     "iopub.status.busy": "2023-12-01T15:05:19.096331Z",
     "iopub.status.idle": "2023-12-01T15:05:19.113907Z",
     "shell.execute_reply": "2023-12-01T15:05:19.113907Z",
     "shell.execute_reply.started": "2023-12-01T15:05:19.096331Z"
    }
   },
   "outputs": [
    {
     "name": "stdout",
     "output_type": "stream",
     "text": [
      "Model Status =  Optimal\n",
      "Optimal Objective =  38714.088107283256\n"
     ]
    }
   ],
   "source": [
    "solution = h.getSolution()\n",
    "info = h.getInfo()\n",
    "model_status = h.getModelStatus()\n",
    "print(\"Model Status = \", h.modelStatusToString(model_status))\n",
    "print(\"Optimal Objective = \", info.objective_function_value)"
   ]
  },
  {
   "cell_type": "code",
   "execution_count": 10,
   "id": "e8f57f41-6bde-4a32-a9c7-7411900b0433",
   "metadata": {
    "execution": {
     "iopub.execute_input": "2023-12-01T15:29:43.250921Z",
     "iopub.status.busy": "2023-12-01T15:29:43.250921Z",
     "iopub.status.idle": "2023-12-01T15:29:43.262819Z",
     "shell.execute_reply": "2023-12-01T15:29:43.261969Z",
     "shell.execute_reply.started": "2023-12-01T15:29:43.250921Z"
    }
   },
   "outputs": [
    {
     "name": "stdout",
     "output_type": "stream",
     "text": [
      "['6', '31', '32', '33', '36', '55', '60', '70', '86', '104', '113', '114', '117', '141', '143', '153', '167', '170', '203', '208', '213', '250', '264', '270', '301', '302', '314', '317', '323', '361', '375', '398', '414', '416', '425', '432', '439', '467', '470']\n"
     ]
    }
   ],
   "source": [
    "h_scheduled = []\n",
    "rv = solution.row_value\n",
    "for i in range(len(rv)):\n",
    "    if rv[i] > 0.5:\n",
    "        const_name = h.getRowName(i)[1]\n",
    "        if \"one_per_reqid_constraint_\" in const_name:\n",
    "            h_scheduled.append(const_name.replace(\"one_per_reqid_constraint_\", \"\"))\n",
    "print(h_scheduled)"
   ]
  },
  {
   "cell_type": "code",
   "execution_count": 13,
   "id": "f3175759-ba65-4755-9e3f-466fe12b9827",
   "metadata": {
    "execution": {
     "iopub.execute_input": "2023-12-01T15:31:32.270635Z",
     "iopub.status.busy": "2023-12-01T15:31:32.269634Z",
     "iopub.status.idle": "2023-12-01T15:31:32.278818Z",
     "shell.execute_reply": "2023-12-01T15:31:32.277807Z",
     "shell.execute_reply.started": "2023-12-01T15:31:32.270635Z"
    }
   },
   "outputs": [
    {
     "data": {
      "text/plain": [
       "True"
      ]
     },
     "execution_count": 13,
     "metadata": {},
     "output_type": "execute_result"
    }
   ],
   "source": [
    "list(g_sol[\"scheduled\"].keys()) == h_scheduled"
   ]
  },
  {
   "cell_type": "markdown",
   "id": "9e548290-9478-4543-8738-ffbb53ff0569",
   "metadata": {},
   "source": [
    "## StringIO Tests"
   ]
  },
  {
   "cell_type": "code",
   "execution_count": 14,
   "id": "762dd5d2-b0af-41bf-9482-c91e9ee453f5",
   "metadata": {
    "execution": {
     "iopub.execute_input": "2023-12-01T15:33:25.496638Z",
     "iopub.status.busy": "2023-12-01T15:33:25.495637Z",
     "iopub.status.idle": "2023-12-01T15:33:25.504361Z",
     "shell.execute_reply": "2023-12-01T15:33:25.503348Z",
     "shell.execute_reply.started": "2023-12-01T15:33:25.496638Z"
    }
   },
   "outputs": [],
   "source": [
    "import io"
   ]
  },
  {
   "cell_type": "code",
   "execution_count": null,
   "id": "f5809067-1cd8-4914-bdc0-12b1560547eb",
   "metadata": {},
   "outputs": [],
   "source": []
  }
 ],
 "metadata": {
  "kernelspec": {
   "display_name": "Python 3 (ipykernel)",
   "language": "python",
   "name": "python3"
  },
  "language_info": {
   "codemirror_mode": {
    "name": "ipython",
    "version": 3
   },
   "file_extension": ".py",
   "mimetype": "text/x-python",
   "name": "python",
   "nbconvert_exporter": "python",
   "pygments_lexer": "ipython3",
   "version": "3.11.4"
  }
 },
 "nbformat": 4,
 "nbformat_minor": 5
}
