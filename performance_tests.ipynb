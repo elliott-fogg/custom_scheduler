{
 "cells": [
  {
   "cell_type": "code",
   "execution_count": 1,
   "id": "eb93f74d-e001-4121-b4fa-390b86ba968e",
   "metadata": {},
   "outputs": [],
   "source": [
    "import test_template as tt\n",
    "import pandas as pd\n",
    "import numpy as np"
   ]
  },
  {
   "cell_type": "markdown",
   "id": "110faaa0-ee1b-460c-ae38-7a8ce6f7c31f",
   "metadata": {},
   "source": [
    "## Number of Requests"
   ]
  },
  {
   "cell_type": "code",
   "execution_count": 17,
   "id": "ddeb8438-6370-4fa4-8f00-931e05816a2b",
   "metadata": {},
   "outputs": [],
   "source": [
    "pt1 = tt.PerformanceTest1(\"test_results/performance\", \n",
    "                          [100, 500, 1000, 5000, 10000, 15000, 20000, 25000, 30000, 35000, 40000, 45000, 50000],\n",
    "                          10)"
   ]
  },
  {
   "cell_type": "code",
   "execution_count": 18,
   "id": "4162afae-c0a4-4d2d-99cb-961890be0fc6",
   "metadata": {},
   "outputs": [
    {
     "name": "stdout",
     "output_type": "stream",
     "text": [
      "80 / 80{100: [0.08602595329284668, 0.06899285316467285, 0.060003042221069336, 0.0730440616607666, 0.06099390983581543, 0.04900789260864258, 0.022003650665283203, 0.04500436782836914, 0.06299448013305664, 0.0350034236907959], 500: [0.10799694061279297, 0.22001266479492188, 0.1340007781982422, 0.12600183486938477, 0.30901217460632324, 0.2639901638031006, 0.284991979598999, 0.09697222709655762, 0.33505773544311523, 0.09400415420532227], 1000: [2.2410032749176025, 0.6540360450744629, 0.6320009231567383, 0.6240119934082031, 0.2539982795715332, 0.5530350208282471, 0.43799805641174316, 0.3509950637817383, 0.6169981956481934, 0.15199971199035645], 5000: [1.4899981021881104, 3.8960020542144775, 4.515961647033691, 2.461003303527832, 0.8440048694610596, 2.250004291534424, 3.9710001945495605, 0.8299944400787354, 3.1730005741119385, 3.9859988689422607], 10000: [4.948038816452026, 6.633008003234863, 1.717024564743042, 8.676003694534302, 9.394981145858765, 6.571998596191406, 7.9700398445129395, 4.195980787277222, 3.3259873390197754, 8.019997358322144], 15000: [2.4569942951202393, 15.927017211914062, 0.4889991283416748, 7.604986906051636, 14.660975456237793, 12.455017805099487, 2.409994125366211, 14.046055316925049, 10.049950122833252, 14.145035028457642], 20000: [8.527283191680908, 6.930411100387573, 1.550980567932129, 12.495011806488037, 4.0999836921691895, 20.298004865646362, 22.807998657226562, 17.754952907562256, 9.881997108459473, 1.647003412246704], 25000: [27.86299228668213, 16.593003511428833, 27.882004261016846, 9.174035787582397, 4.773004531860352, 16.04100489616394, 17.65523862838745, 17.596999168395996, 26.430952787399292, 25.891007661819458]}\n"
     ]
    }
   ],
   "source": [
    "pt1.run()"
   ]
  },
  {
   "cell_type": "code",
   "execution_count": 19,
   "id": "1663ac9e-b2ea-4570-b57a-30b56f8f7ad4",
   "metadata": {},
   "outputs": [
    {
     "data": {
      "text/plain": [
       "100       0.056307\n",
       "500       0.197204\n",
       "1000      0.651608\n",
       "5000      2.741697\n",
       "10000     6.145306\n",
       "15000     9.424503\n",
       "20000    10.599363\n",
       "25000    18.990024\n",
       "dtype: float64"
      ]
     },
     "execution_count": 19,
     "metadata": {},
     "output_type": "execute_result"
    }
   ],
   "source": [
    "df1 = pd.DataFrame(pt1.output)\n",
    "df1.transpose().mean(axis=\"columns\")"
   ]
  },
  {
   "cell_type": "code",
   "execution_count": 20,
   "id": "41c132ca-8aed-42b7-9758-35c3063bab9e",
   "metadata": {},
   "outputs": [
    {
     "data": {
      "text/plain": [
       "100      0.018904\n",
       "500      0.095400\n",
       "1000     0.585182\n",
       "5000     1.369066\n",
       "10000    2.517062\n",
       "15000    5.810183\n",
       "20000    7.604382\n",
       "25000    8.009923\n",
       "dtype: float64"
      ]
     },
     "execution_count": 20,
     "metadata": {},
     "output_type": "execute_result"
    }
   ],
   "source": [
    "df1.transpose().std(axis=\"columns\")"
   ]
  },
  {
   "cell_type": "markdown",
   "id": "07b32f9a-bea1-402f-9160-17126b145d41",
   "metadata": {},
   "source": [
    "## Number of Telescopes"
   ]
  },
  {
   "cell_type": "code",
   "execution_count": 7,
   "id": "1db43515-dff0-4f11-8f14-b99c96cd0948",
   "metadata": {},
   "outputs": [],
   "source": [
    "pt2 = tt.PerformanceTest2(\"test_results/performance\",\n",
    "                          [5000],\n",
    "                          [20],\n",
    "                          10)"
   ]
  },
  {
   "cell_type": "code",
   "execution_count": 8,
   "id": "3428d448-3d6e-46c0-b3a9-841cce60a177",
   "metadata": {},
   "outputs": [
    {
     "name": "stdout",
     "output_type": "stream",
     "text": [
      "10 / 10{20: {5000: [81.74693250656128, 73.86519932746887, 75.7980408668518, 72.33599042892456, 88.27096605300903, 81.16500234603882, 75.98755764961243, 77.42559790611267, 78.34261274337769, 75.13354754447937]}}\n"
     ]
    }
   ],
   "source": [
    "pt2.run()"
   ]
  },
  {
   "cell_type": "code",
   "execution_count": 9,
   "id": "be4d6515-14b1-49ba-aed9-17c8b937d9fb",
   "metadata": {},
   "outputs": [
    {
     "data": {
      "text/html": [
       "<div>\n",
       "<style scoped>\n",
       "    .dataframe tbody tr th:only-of-type {\n",
       "        vertical-align: middle;\n",
       "    }\n",
       "\n",
       "    .dataframe tbody tr th {\n",
       "        vertical-align: top;\n",
       "    }\n",
       "\n",
       "    .dataframe thead th {\n",
       "        text-align: right;\n",
       "    }\n",
       "</style>\n",
       "<table border=\"1\" class=\"dataframe\">\n",
       "  <thead>\n",
       "    <tr style=\"text-align: right;\">\n",
       "      <th></th>\n",
       "      <th>1</th>\n",
       "      <th>2</th>\n",
       "      <th>3</th>\n",
       "      <th>4</th>\n",
       "      <th>5</th>\n",
       "      <th>20</th>\n",
       "    </tr>\n",
       "  </thead>\n",
       "  <tbody>\n",
       "    <tr>\n",
       "      <th>5000</th>\n",
       "      <td>[3.4920382499694824, 4.141999244689941, 3.5899...</td>\n",
       "      <td>[5.3220343589782715, 5.435035943984985, 2.4079...</td>\n",
       "      <td>[11.717044591903687, 7.4720375537872314, 14.44...</td>\n",
       "      <td>[10.925027132034302, 9.986995220184326, 18.295...</td>\n",
       "      <td>[7.588039398193359, 12.238708257675171, 15.363...</td>\n",
       "      <td>[81.74693250656128, 73.86519932746887, 75.7980...</td>\n",
       "    </tr>\n",
       "  </tbody>\n",
       "</table>\n",
       "</div>"
      ],
      "text/plain": [
       "                                                     1   \\\n",
       "5000  [3.4920382499694824, 4.141999244689941, 3.5899...   \n",
       "\n",
       "                                                     2   \\\n",
       "5000  [5.3220343589782715, 5.435035943984985, 2.4079...   \n",
       "\n",
       "                                                     3   \\\n",
       "5000  [11.717044591903687, 7.4720375537872314, 14.44...   \n",
       "\n",
       "                                                     4   \\\n",
       "5000  [10.925027132034302, 9.986995220184326, 18.295...   \n",
       "\n",
       "                                                     5   \\\n",
       "5000  [7.588039398193359, 12.238708257675171, 15.363...   \n",
       "\n",
       "                                                     20  \n",
       "5000  [81.74693250656128, 73.86519932746887, 75.7980...  "
      ]
     },
     "execution_count": 9,
     "metadata": {},
     "output_type": "execute_result"
    }
   ],
   "source": [
    "df3 = pd.DataFrame(pt2.output)\n",
    "df4 = df2.join(df3)\n",
    "df4"
   ]
  },
  {
   "cell_type": "code",
   "execution_count": 11,
   "id": "1bacc8e0-d4a6-4fdd-bf1e-8584e64e96e9",
   "metadata": {},
   "outputs": [
    {
     "data": {
      "text/html": [
       "<div>\n",
       "<style scoped>\n",
       "    .dataframe tbody tr th:only-of-type {\n",
       "        vertical-align: middle;\n",
       "    }\n",
       "\n",
       "    .dataframe tbody tr th {\n",
       "        vertical-align: top;\n",
       "    }\n",
       "\n",
       "    .dataframe thead th {\n",
       "        text-align: right;\n",
       "    }\n",
       "</style>\n",
       "<table border=\"1\" class=\"dataframe\">\n",
       "  <thead>\n",
       "    <tr style=\"text-align: right;\">\n",
       "      <th></th>\n",
       "      <th>1</th>\n",
       "      <th>2</th>\n",
       "      <th>3</th>\n",
       "      <th>4</th>\n",
       "      <th>5</th>\n",
       "      <th>20</th>\n",
       "    </tr>\n",
       "  </thead>\n",
       "  <tbody>\n",
       "    <tr>\n",
       "      <th>5000</th>\n",
       "      <td>3.103315</td>\n",
       "      <td>5.154973</td>\n",
       "      <td>10.34254</td>\n",
       "      <td>11.383813</td>\n",
       "      <td>13.413685</td>\n",
       "      <td>78.007145</td>\n",
       "    </tr>\n",
       "  </tbody>\n",
       "</table>\n",
       "</div>"
      ],
      "text/plain": [
       "            1         2         3          4          5          20\n",
       "5000  3.103315  5.154973  10.34254  11.383813  13.413685  78.007145"
      ]
     },
     "execution_count": 11,
     "metadata": {},
     "output_type": "execute_result"
    }
   ],
   "source": [
    "df4.map(np.mean)"
   ]
  },
  {
   "cell_type": "code",
   "execution_count": 12,
   "id": "513d8cec-2102-4d6c-93c6-05a9b193dafd",
   "metadata": {},
   "outputs": [
    {
     "data": {
      "text/html": [
       "<div>\n",
       "<style scoped>\n",
       "    .dataframe tbody tr th:only-of-type {\n",
       "        vertical-align: middle;\n",
       "    }\n",
       "\n",
       "    .dataframe tbody tr th {\n",
       "        vertical-align: top;\n",
       "    }\n",
       "\n",
       "    .dataframe thead th {\n",
       "        text-align: right;\n",
       "    }\n",
       "</style>\n",
       "<table border=\"1\" class=\"dataframe\">\n",
       "  <thead>\n",
       "    <tr style=\"text-align: right;\">\n",
       "      <th></th>\n",
       "      <th>1</th>\n",
       "      <th>2</th>\n",
       "      <th>3</th>\n",
       "      <th>4</th>\n",
       "      <th>5</th>\n",
       "      <th>20</th>\n",
       "    </tr>\n",
       "  </thead>\n",
       "  <tbody>\n",
       "    <tr>\n",
       "      <th>5000</th>\n",
       "      <td>1.016187</td>\n",
       "      <td>2.341441</td>\n",
       "      <td>2.694069</td>\n",
       "      <td>3.666806</td>\n",
       "      <td>2.73171</td>\n",
       "      <td>4.430451</td>\n",
       "    </tr>\n",
       "  </tbody>\n",
       "</table>\n",
       "</div>"
      ],
      "text/plain": [
       "            1         2         3         4        5         20\n",
       "5000  1.016187  2.341441  2.694069  3.666806  2.73171  4.430451"
      ]
     },
     "execution_count": 12,
     "metadata": {},
     "output_type": "execute_result"
    }
   ],
   "source": [
    "df4.map(np.std)"
   ]
  },
  {
   "cell_type": "markdown",
   "id": "a467a1c8-5702-482c-9dd0-1bd523d77f56",
   "metadata": {},
   "source": [
    "## Slice Size"
   ]
  },
  {
   "cell_type": "code",
   "execution_count": 4,
   "id": "7ec88be1-7b43-40ee-b9ed-3436f7731e4b",
   "metadata": {},
   "outputs": [],
   "source": [
    "pt3 = tt.PerformanceTest3(\"test_results/performance\",\n",
    "                          [5000],\n",
    "                          [300, 500, 1000],\n",
    "                          3)"
   ]
  },
  {
   "cell_type": "code",
   "execution_count": 5,
   "id": "e4713bdf-849c-4d6e-9612-1e8266f0f091",
   "metadata": {},
   "outputs": [
    {
     "name": "stdout",
     "output_type": "stream",
     "text": [
      "{300: {5000: [3.880000114440918, 4.107964277267456, 3.748000383377075]}, 500: {5000: [2.485625982284546, 2.3370022773742676, 1.3339991569519043]}, 1000: {5000: [0.5099992752075195, 1.1410024166107178, 1.067995548248291]}}\n"
     ]
    }
   ],
   "source": [
    "pt3.run()"
   ]
  },
  {
   "cell_type": "code",
   "execution_count": 7,
   "id": "5bcda165-b300-447c-965c-a2766f696582",
   "metadata": {},
   "outputs": [
    {
     "data": {
      "text/html": [
       "<div>\n",
       "<style scoped>\n",
       "    .dataframe tbody tr th:only-of-type {\n",
       "        vertical-align: middle;\n",
       "    }\n",
       "\n",
       "    .dataframe tbody tr th {\n",
       "        vertical-align: top;\n",
       "    }\n",
       "\n",
       "    .dataframe thead th {\n",
       "        text-align: right;\n",
       "    }\n",
       "</style>\n",
       "<table border=\"1\" class=\"dataframe\">\n",
       "  <thead>\n",
       "    <tr style=\"text-align: right;\">\n",
       "      <th></th>\n",
       "      <th>300</th>\n",
       "      <th>500</th>\n",
       "      <th>1000</th>\n",
       "    </tr>\n",
       "  </thead>\n",
       "  <tbody>\n",
       "    <tr>\n",
       "      <th>5000</th>\n",
       "      <td>3.911988</td>\n",
       "      <td>2.052209</td>\n",
       "      <td>0.906332</td>\n",
       "    </tr>\n",
       "  </tbody>\n",
       "</table>\n",
       "</div>"
      ],
      "text/plain": [
       "          300       500       1000\n",
       "5000  3.911988  2.052209  0.906332"
      ]
     },
     "execution_count": 7,
     "metadata": {},
     "output_type": "execute_result"
    }
   ],
   "source": [
    "pd.DataFrame(pt3.output).map(np.mean)"
   ]
  },
  {
   "cell_type": "code",
   "execution_count": null,
   "id": "d4405de4-b8f3-492c-9f3b-1f40ab9cdee6",
   "metadata": {},
   "outputs": [],
   "source": []
  }
 ],
 "metadata": {
  "kernelspec": {
   "display_name": "Python 3 (ipykernel)",
   "language": "python",
   "name": "python3"
  },
  "language_info": {
   "codemirror_mode": {
    "name": "ipython",
    "version": 3
   },
   "file_extension": ".py",
   "mimetype": "text/x-python",
   "name": "python",
   "nbconvert_exporter": "python",
   "pygments_lexer": "ipython3",
   "version": "3.11.4"
  }
 },
 "nbformat": 4,
 "nbformat_minor": 5
}
