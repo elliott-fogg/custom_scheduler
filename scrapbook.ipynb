{
 "cells": [
  {
   "cell_type": "markdown",
   "id": "73cc6ea0-cdfa-49d8-a7f2-0b81b28f8771",
   "metadata": {},
   "source": [
    "# Sampling Request Patterns"
   ]
  },
  {
   "cell_type": "code",
   "execution_count": 82,
   "id": "f33ef78c-afcd-4d4b-817b-39642f2f799e",
   "metadata": {
    "execution": {
     "iopub.execute_input": "2024-02-26T13:22:31.772439Z",
     "iopub.status.busy": "2024-02-26T13:22:31.771438Z",
     "iopub.status.idle": "2024-02-26T13:22:31.781363Z",
     "shell.execute_reply": "2024-02-26T13:22:31.780348Z",
     "shell.execute_reply.started": "2024-02-26T13:22:31.772439Z"
    },
    "scrolled": true
   },
   "outputs": [
    {
     "data": {
      "text/plain": [
       "['30',\n",
       " '41',\n",
       " '51',\n",
       " '89',\n",
       " '68',\n",
       " '46',\n",
       " '32',\n",
       " '21',\n",
       " '73',\n",
       " '72',\n",
       " '48',\n",
       " '15',\n",
       " '29',\n",
       " '44',\n",
       " '6',\n",
       " '54',\n",
       " '19',\n",
       " '45',\n",
       " '77',\n",
       " '4',\n",
       " '28',\n",
       " '36',\n",
       " '78',\n",
       " '66',\n",
       " '87',\n",
       " '38',\n",
       " '79',\n",
       " '76',\n",
       " '62',\n",
       " '0']"
      ]
     },
     "execution_count": 82,
     "metadata": {},
     "output_type": "execute_result"
    }
   ],
   "source": [
    "def sample_requests(all_requests_base, test_fraction):\n",
    "    # TO ADD: a way of ensuring that we are only taking the first half of observations\n",
    "    # - Split the observations up into those that are originally in the scheduler\n",
    "    #   (i.e. those that are added in the upfront bulk request injection)\n",
    "    #   and those that are injected later.\n",
    "    #   Only test on those that are in the upfront bulk injection?\n",
    "    sample_number = round(test_fraction * len(all_requests_base))\n",
    "    sampled_requests = random.sample(list(all_requests_base.keys()), k=sample_number)\n",
    "    return sampled_requests\n",
    "\n",
    "test_fraction = 0.3\n",
    "sample_requests(all_requests_base, test_fraction)"
   ]
  },
  {
   "cell_type": "markdown",
   "id": "ee2dc975-99d8-4e9b-8acf-9bce53d4d7b0",
   "metadata": {},
   "source": [
    "# Estimating average number of requests\n",
    "per telescope, per night (biased to 2m data)"
   ]
  },
  {
   "cell_type": "code",
   "execution_count": 16,
   "id": "442c495a-270f-448e-8092-914080d358b8",
   "metadata": {
    "execution": {
     "iopub.execute_input": "2024-03-14T13:39:26.611446Z",
     "iopub.status.busy": "2024-03-14T13:39:26.610400Z",
     "iopub.status.idle": "2024-03-14T13:39:26.659496Z",
     "shell.execute_reply": "2024-03-14T13:39:26.658494Z",
     "shell.execute_reply.started": "2024-03-14T13:39:26.611446Z"
    }
   },
   "outputs": [],
   "source": [
    "import json\n",
    "import statistics as stats"
   ]
  },
  {
   "cell_type": "code",
   "execution_count": 2,
   "id": "10ad99a5-28d6-4d6b-90b9-504341771e5e",
   "metadata": {
    "execution": {
     "iopub.execute_input": "2024-03-14T13:34:22.737336Z",
     "iopub.status.busy": "2024-03-14T13:34:22.736333Z",
     "iopub.status.idle": "2024-03-14T13:34:22.762211Z",
     "shell.execute_reply": "2024-03-14T13:34:22.762211Z",
     "shell.execute_reply.started": "2024-03-14T13:34:22.737336Z"
    }
   },
   "outputs": [],
   "source": [
    "data = json.load(open(\"data/observation_patterns_v1.json\", \"r\"))"
   ]
  },
  {
   "cell_type": "code",
   "execution_count": 19,
   "id": "4576e6ab-1802-4d74-906a-4e45172b0774",
   "metadata": {
    "execution": {
     "iopub.execute_input": "2024-03-14T13:39:41.105498Z",
     "iopub.status.busy": "2024-03-14T13:39:41.104497Z",
     "iopub.status.idle": "2024-03-14T13:39:41.124571Z",
     "shell.execute_reply": "2024-03-14T13:39:41.123570Z",
     "shell.execute_reply.started": "2024-03-14T13:39:41.105498Z"
    }
   },
   "outputs": [
    {
     "name": "stdout",
     "output_type": "stream",
     "text": [
      "3913285.0 2459 1591.4131760878406 900.0\n"
     ]
    }
   ],
   "source": [
    "total_count = 0\n",
    "total_time = 0\n",
    "time_list = []\n",
    "for i in data:\n",
    "    total_count += data[i][\"count\"]\n",
    "    current_time = 0\n",
    "    for t in data[i][\"pattern\"]:\n",
    "        current_time += float(t)\n",
    "    total_time += current_time * data[i][\"count\"]\n",
    "    for x in range(data[i][\"count\"]):\n",
    "        time_list.append(current_time)\n",
    "avg_time = total_time/total_count\n",
    "median_time = stats.median(time_list)\n",
    "print(total_time, total_count, avg_time, median_time)"
   ]
  },
  {
   "cell_type": "code",
   "execution_count": 20,
   "id": "25b28639-aeb2-450a-8a92-34739e655b1e",
   "metadata": {
    "execution": {
     "iopub.execute_input": "2024-03-14T13:40:11.439802Z",
     "iopub.status.busy": "2024-03-14T13:40:11.438798Z",
     "iopub.status.idle": "2024-03-14T13:40:11.447980Z",
     "shell.execute_reply": "2024-03-14T13:40:11.447512Z",
     "shell.execute_reply.started": "2024-03-14T13:40:11.439802Z"
    }
   },
   "outputs": [
    {
     "name": "stdout",
     "output_type": "stream",
     "text": [
      "27.14568450802842 48.0\n"
     ]
    }
   ],
   "source": [
    "night_length = 12*60*60\n",
    "num_requests_mean = night_length / avg_time\n",
    "num_requests_median = night_length / median_time\n",
    "print(num_requests_mean, num_requests_median)"
   ]
  },
  {
   "cell_type": "code",
   "execution_count": 21,
   "id": "6168471a-b88e-4af1-b168-41901ce9f936",
   "metadata": {
    "execution": {
     "iopub.execute_input": "2024-03-14T13:40:35.089238Z",
     "iopub.status.busy": "2024-03-14T13:40:35.088238Z",
     "iopub.status.idle": "2024-03-14T13:40:35.098591Z",
     "shell.execute_reply": "2024-03-14T13:40:35.097592Z",
     "shell.execute_reply.started": "2024-03-14T13:40:35.089238Z"
    }
   },
   "outputs": [
    {
     "data": {
      "text/plain": [
       "1104.0"
      ]
     },
     "execution_count": 21,
     "metadata": {},
     "output_type": "execute_result"
    }
   ],
   "source": [
    "num_requests_median * 23 # Total requests per night for the entire LCO network?"
   ]
  },
  {
   "cell_type": "code",
   "execution_count": null,
   "id": "094c9719-0f70-4ec8-bcb3-11a9f5cfc3c1",
   "metadata": {},
   "outputs": [],
   "source": []
  },
  {
   "cell_type": "markdown",
   "id": "a0a1ad80-ccbd-4d71-828d-bd9496f4d472",
   "metadata": {},
   "source": [
    "# Modifying Availability Windows"
   ]
  },
  {
   "cell_type": "code",
   "execution_count": 83,
   "id": "d8544058-6cf8-4473-bd4a-0ba199825ee1",
   "metadata": {
    "execution": {
     "iopub.execute_input": "2024-02-26T13:22:57.436932Z",
     "iopub.status.busy": "2024-02-26T13:22:57.434977Z",
     "iopub.status.idle": "2024-02-26T13:22:57.451586Z",
     "shell.execute_reply": "2024-02-26T13:22:57.449251Z",
     "shell.execute_reply.started": "2024-02-26T13:22:57.436932Z"
    }
   },
   "outputs": [],
   "source": [
    "def modify_availability_window(request_data, window_increase):\n",
    "    request_data = deepcopy(request_data)\n",
    "    wgroup = request_data[\"windows\"]\n",
    "    for resource, windows in wgroup.items():\n",
    "        new_windows = []\n",
    "        for w in windows:\n",
    "            new_windows.append(extend_window(w, window_increase))\n",
    "        wgroup[resource] = new_windows\n",
    "    request_data[\"windows\"] = wgroup\n",
    "    return request_data"
   ]
  },
  {
   "cell_type": "code",
   "execution_count": 84,
   "id": "9ec8b608-7230-4743-b76a-a936a4b63e51",
   "metadata": {
    "execution": {
     "iopub.execute_input": "2024-02-26T13:22:57.617764Z",
     "iopub.status.busy": "2024-02-26T13:22:57.617764Z",
     "iopub.status.idle": "2024-02-26T13:22:57.633601Z",
     "shell.execute_reply": "2024-02-26T13:22:57.632311Z",
     "shell.execute_reply.started": "2024-02-26T13:22:57.617764Z"
    }
   },
   "outputs": [],
   "source": [
    "def extend_window(window, amount, extend_type=\"right\"):\n",
    "    start = window[\"start\"]\n",
    "    end = window[\"end\"]\n",
    "    duration = end-start\n",
    "    adjustment = int(duration * amount)\n",
    "\n",
    "    if extend_type == \"right\":\n",
    "        end += adjustment\n",
    "    elif extend_type == \"left\":\n",
    "        start -= adjustment\n",
    "    elif extend_type == \"center\":\n",
    "        start -= int(adjustment/2)\n",
    "        end += int(adjustment/2)\n",
    "\n",
    "    return {\"start\": start, \"end\": end}"
   ]
  },
  {
   "cell_type": "code",
   "execution_count": 85,
   "id": "d3761257-1f1d-4095-ba08-96f9c4fa753d",
   "metadata": {
    "execution": {
     "iopub.execute_input": "2024-02-26T13:23:03.556711Z",
     "iopub.status.busy": "2024-02-26T13:23:03.555706Z",
     "iopub.status.idle": "2024-02-26T13:23:03.565681Z",
     "shell.execute_reply": "2024-02-26T13:23:03.564669Z",
     "shell.execute_reply.started": "2024-02-26T13:23:03.556711Z"
    }
   },
   "outputs": [],
   "source": [
    "modified_requests = deepcopy(all_requests_base)\n",
    "modified_requests['0'] = modify_availability_window(modified_requests['0'], 2.0)"
   ]
  },
  {
   "cell_type": "code",
   "execution_count": 86,
   "id": "07118341-711f-47f4-94db-129393f55b68",
   "metadata": {
    "execution": {
     "iopub.execute_input": "2024-02-26T13:23:03.834452Z",
     "iopub.status.busy": "2024-02-26T13:23:03.834452Z",
     "iopub.status.idle": "2024-02-26T13:23:03.854518Z",
     "shell.execute_reply": "2024-02-26T13:23:03.854081Z",
     "shell.execute_reply.started": "2024-02-26T13:23:03.834452Z"
    }
   },
   "outputs": [
    {
     "data": {
      "text/plain": [
       "{'windows': {'telescope_0': [{'start': 91722, 'end': 109763}]},\n",
       " 'duration': 2240,\n",
       " 'proposal': 'proposal_3',\n",
       " 'resID': 0}"
      ]
     },
     "execution_count": 86,
     "metadata": {},
     "output_type": "execute_result"
    }
   ],
   "source": [
    "all_requests_base['0']"
   ]
  },
  {
   "cell_type": "code",
   "execution_count": 87,
   "id": "05d52b8f-0063-4b6f-8aa6-0b6697043a50",
   "metadata": {
    "execution": {
     "iopub.execute_input": "2024-02-26T13:23:04.049944Z",
     "iopub.status.busy": "2024-02-26T13:23:04.049944Z",
     "iopub.status.idle": "2024-02-26T13:23:04.066152Z",
     "shell.execute_reply": "2024-02-26T13:23:04.064655Z",
     "shell.execute_reply.started": "2024-02-26T13:23:04.049944Z"
    }
   },
   "outputs": [
    {
     "data": {
      "text/plain": [
       "{'windows': {'telescope_0': [{'start': 91722, 'end': 145845}]},\n",
       " 'duration': 2240,\n",
       " 'proposal': 'proposal_3',\n",
       " 'resID': 0}"
      ]
     },
     "execution_count": 87,
     "metadata": {},
     "output_type": "execute_result"
    }
   ],
   "source": [
    "modified_requests['0']"
   ]
  },
  {
   "cell_type": "code",
   "execution_count": 88,
   "id": "74ec686c-02d4-454a-a2b5-9f778f9cca18",
   "metadata": {
    "execution": {
     "iopub.execute_input": "2024-02-26T13:23:11.832049Z",
     "iopub.status.busy": "2024-02-26T13:23:11.832049Z",
     "iopub.status.idle": "2024-02-26T13:23:11.886641Z",
     "shell.execute_reply": "2024-02-26T13:23:11.883624Z",
     "shell.execute_reply.started": "2024-02-26T13:23:11.832049Z"
    }
   },
   "outputs": [
    {
     "data": {
      "text/plain": [
       "{'0': {'windows': {'telescope_0': [{'start': 91722, 'end': 145845}]},\n",
       "  'duration': 2240,\n",
       "  'proposal': 'proposal_3',\n",
       "  'resID': 0},\n",
       " '1': {'windows': {'telescope_0': [{'start': 66057, 'end': 71472}]},\n",
       "  'duration': 600,\n",
       "  'proposal': 'proposal_1',\n",
       "  'resID': 1},\n",
       " '2': {'windows': {'telescope_0': [{'start': 186995, 'end': 237632}]},\n",
       "  'duration': 6490,\n",
       "  'proposal': 'proposal_2',\n",
       "  'resID': 2},\n",
       " '3': {'windows': {'telescope_0': [{'start': 213244, 'end': 226336}]},\n",
       "  'duration': 2260,\n",
       "  'proposal': 'proposal_4',\n",
       "  'resID': 3},\n",
       " '4': {'windows': {'telescope_0': [{'start': 220701, 'end': 226464}]},\n",
       "  'duration': 1520,\n",
       "  'proposal': 'proposal_2',\n",
       "  'resID': 4},\n",
       " '5': {'windows': {'telescope_0': [{'start': 131294, 'end': 131408}]},\n",
       "  'duration': 60,\n",
       "  'proposal': 'proposal_4',\n",
       "  'resID': 5},\n",
       " '6': {'windows': {'telescope_0': [{'start': 167083, 'end': 168787}]},\n",
       "  'duration': 600,\n",
       "  'proposal': 'proposal_3',\n",
       "  'resID': 6},\n",
       " '7': {'windows': {'telescope_0': [{'start': 243440, 'end': 247453}]},\n",
       "  'duration': 1200,\n",
       "  'proposal': 'proposal_4',\n",
       "  'resID': 7},\n",
       " '8': {'windows': {'telescope_0': [{'start': 254044, 'end': 260004}]},\n",
       "  'duration': 3240,\n",
       "  'proposal': 'proposal_0',\n",
       "  'resID': 8},\n",
       " '9': {'windows': {'telescope_0': [{'start': 100740, 'end': 101754}]},\n",
       "  'duration': 120,\n",
       "  'proposal': 'proposal_2',\n",
       "  'resID': 9},\n",
       " '10': {'windows': {'telescope_0': [{'start': 277307, 'end': 277683}]},\n",
       "  'duration': 240,\n",
       "  'proposal': 'proposal_1',\n",
       "  'resID': 10},\n",
       " '11': {'windows': {'telescope_0': [{'start': 242881, 'end': 275111}]},\n",
       "  'duration': 3320,\n",
       "  'proposal': 'proposal_3',\n",
       "  'resID': 11},\n",
       " '12': {'windows': {'telescope_0': [{'start': 264626, 'end': 286989}]},\n",
       "  'duration': 2250,\n",
       "  'proposal': 'proposal_3',\n",
       "  'resID': 12},\n",
       " '13': {'windows': {'telescope_0': [{'start': 213664, 'end': 227196}]},\n",
       "  'duration': 2270,\n",
       "  'proposal': 'proposal_4',\n",
       "  'resID': 13},\n",
       " '14': {'windows': {'telescope_0': [{'start': 61448, 'end': 67028}]},\n",
       "  'duration': 600,\n",
       "  'proposal': 'proposal_4',\n",
       "  'resID': 14},\n",
       " '15': {'windows': {'telescope_0': [{'start': 27710, 'end': 35857}]},\n",
       "  'duration': 2270,\n",
       "  'proposal': 'proposal_3',\n",
       "  'resID': 15},\n",
       " '16': {'windows': {'telescope_0': [{'start': 55602, 'end': 63613}]},\n",
       "  'duration': 2520,\n",
       "  'proposal': 'proposal_1',\n",
       "  'resID': 16},\n",
       " '17': {'windows': {'telescope_0': [{'start': 78641, 'end': 80607}]},\n",
       "  'duration': 200,\n",
       "  'proposal': 'proposal_0',\n",
       "  'resID': 17},\n",
       " '18': {'windows': {'telescope_0': [{'start': 265135, 'end': 282726}]},\n",
       "  'duration': 2250,\n",
       "  'proposal': 'proposal_0',\n",
       "  'resID': 18},\n",
       " '19': {'windows': {'telescope_0': [{'start': 279140, 'end': 293310}]},\n",
       "  'duration': 1560,\n",
       "  'proposal': 'proposal_4',\n",
       "  'resID': 19},\n",
       " '20': {'windows': {'telescope_0': [{'start': 158631, 'end': 162047}]},\n",
       "  'duration': 400,\n",
       "  'proposal': 'proposal_4',\n",
       "  'resID': 20},\n",
       " '21': {'windows': {'telescope_0': [{'start': 270660, 'end': 291409}]},\n",
       "  'duration': 2400,\n",
       "  'proposal': 'proposal_4',\n",
       "  'resID': 21},\n",
       " '22': {'windows': {'telescope_0': [{'start': 83224, 'end': 85015}]},\n",
       "  'duration': 375,\n",
       "  'proposal': 'proposal_3',\n",
       "  'resID': 22},\n",
       " '23': {'windows': {'telescope_0': [{'start': 277283, 'end': 312265}]},\n",
       "  'duration': 3510,\n",
       "  'proposal': 'proposal_2',\n",
       "  'resID': 23},\n",
       " '24': {'windows': {'telescope_0': [{'start': 147101, 'end': 161760}]},\n",
       "  'duration': 2250,\n",
       "  'proposal': 'proposal_2',\n",
       "  'resID': 24},\n",
       " '25': {'windows': {'telescope_0': [{'start': 221202, 'end': 226174}]},\n",
       "  'duration': 1560,\n",
       "  'proposal': 'proposal_0',\n",
       "  'resID': 25},\n",
       " '26': {'windows': {'telescope_0': [{'start': 51554, 'end': 52598}]},\n",
       "  'duration': 240,\n",
       "  'proposal': 'proposal_3',\n",
       "  'resID': 26},\n",
       " '27': {'windows': {'telescope_0': [{'start': 44259, 'end': 48832}]},\n",
       "  'duration': 2400,\n",
       "  'proposal': 'proposal_1',\n",
       "  'resID': 27},\n",
       " '28': {'windows': {'telescope_0': [{'start': 275189, 'end': 276422}]},\n",
       "  'duration': 200,\n",
       "  'proposal': 'proposal_4',\n",
       "  'resID': 28},\n",
       " '29': {'windows': {'telescope_0': [{'start': 37632, 'end': 40631}]},\n",
       "  'duration': 1800,\n",
       "  'proposal': 'proposal_1',\n",
       "  'resID': 29},\n",
       " '30': {'windows': {'telescope_0': [{'start': 118302, 'end': 119044}]},\n",
       "  'duration': 120,\n",
       "  'proposal': 'proposal_2',\n",
       "  'resID': 30},\n",
       " '31': {'windows': {'telescope_0': [{'start': 183104, 'end': 186375}]},\n",
       "  'duration': 1600,\n",
       "  'proposal': 'proposal_1',\n",
       "  'resID': 31},\n",
       " '32': {'windows': {'telescope_0': [{'start': 37466, 'end': 38106}]},\n",
       "  'duration': 240,\n",
       "  'proposal': 'proposal_1',\n",
       "  'resID': 32},\n",
       " '33': {'windows': {'telescope_0': [{'start': 205435, 'end': 206830}]},\n",
       "  'duration': 900,\n",
       "  'proposal': 'proposal_4',\n",
       "  'resID': 33},\n",
       " '34': {'windows': {'telescope_0': [{'start': 78600, 'end': 78849}]},\n",
       "  'duration': 130,\n",
       "  'proposal': 'proposal_1',\n",
       "  'resID': 34},\n",
       " '35': {'windows': {'telescope_0': [{'start': 131867, 'end': 132609}]},\n",
       "  'duration': 200,\n",
       "  'proposal': 'proposal_0',\n",
       "  'resID': 35},\n",
       " '36': {'windows': {'telescope_0': [{'start': 30519, 'end': 31332}]},\n",
       "  'duration': 600,\n",
       "  'proposal': 'proposal_3',\n",
       "  'resID': 36},\n",
       " '37': {'windows': {'telescope_0': [{'start': 221235, 'end': 226646}]},\n",
       "  'duration': 1280,\n",
       "  'proposal': 'proposal_4',\n",
       "  'resID': 37},\n",
       " '38': {'windows': {'telescope_0': [{'start': 292284, 'end': 305686}]},\n",
       "  'duration': 1900,\n",
       "  'proposal': 'proposal_0',\n",
       "  'resID': 38},\n",
       " '39': {'windows': {'telescope_0': [{'start': 48975, 'end': 51884}]},\n",
       "  'duration': 1200,\n",
       "  'proposal': 'proposal_4',\n",
       "  'resID': 39},\n",
       " '40': {'windows': {'telescope_0': [{'start': 133756, 'end': 135667}]},\n",
       "  'duration': 300,\n",
       "  'proposal': 'proposal_1',\n",
       "  'resID': 40},\n",
       " '41': {'windows': {'telescope_0': [{'start': 272190, 'end': 273616}]},\n",
       "  'duration': 200,\n",
       "  'proposal': 'proposal_4',\n",
       "  'resID': 41},\n",
       " '42': {'windows': {'telescope_0': [{'start': 117525, 'end': 122040}]},\n",
       "  'duration': 660,\n",
       "  'proposal': 'proposal_2',\n",
       "  'resID': 42},\n",
       " '43': {'windows': {'telescope_0': [{'start': 138485, 'end': 152198}]},\n",
       "  'duration': 1900,\n",
       "  'proposal': 'proposal_0',\n",
       "  'resID': 43},\n",
       " '44': {'windows': {'telescope_0': [{'start': 84939, 'end': 85786}]},\n",
       "  'duration': 600,\n",
       "  'proposal': 'proposal_1',\n",
       "  'resID': 44},\n",
       " '45': {'windows': {'telescope_0': [{'start': 184505, 'end': 190909}]},\n",
       "  'duration': 1200,\n",
       "  'proposal': 'proposal_2',\n",
       "  'resID': 45},\n",
       " '46': {'windows': {'telescope_0': [{'start': 258181, 'end': 259580}]},\n",
       "  'duration': 155,\n",
       "  'proposal': 'proposal_1',\n",
       "  'resID': 46},\n",
       " '47': {'windows': {'telescope_0': [{'start': 125320, 'end': 128554}]},\n",
       "  'duration': 720,\n",
       "  'proposal': 'proposal_0',\n",
       "  'resID': 47},\n",
       " '48': {'windows': {'telescope_0': [{'start': 101123, 'end': 101669}]},\n",
       "  'duration': 200,\n",
       "  'proposal': 'proposal_1',\n",
       "  'resID': 48},\n",
       " '49': {'windows': {'telescope_0': [{'start': 214810, 'end': 247425}]},\n",
       "  'duration': 6480,\n",
       "  'proposal': 'proposal_4',\n",
       "  'resID': 49},\n",
       " '50': {'windows': {'telescope_0': [{'start': 263599, 'end': 264100}]},\n",
       "  'duration': 390,\n",
       "  'proposal': 'proposal_4',\n",
       "  'resID': 50},\n",
       " '51': {'windows': {'telescope_0': [{'start': 14146, 'end': 14772}]},\n",
       "  'duration': 90,\n",
       "  'proposal': 'proposal_3',\n",
       "  'resID': 51},\n",
       " '52': {'windows': {'telescope_0': [{'start': 134981, 'end': 136444}]},\n",
       "  'duration': 200,\n",
       "  'proposal': 'proposal_3',\n",
       "  'resID': 52},\n",
       " '53': {'windows': {'telescope_0': [{'start': 21, 'end': 14180}]},\n",
       "  'duration': 2200,\n",
       "  'proposal': 'proposal_0',\n",
       "  'resID': 53},\n",
       " '54': {'windows': {'telescope_0': [{'start': 141188, 'end': 154137}]},\n",
       "  'duration': 3400,\n",
       "  'proposal': 'proposal_3',\n",
       "  'resID': 54},\n",
       " '55': {'windows': {'telescope_0': [{'start': 191446, 'end': 228427}]},\n",
       "  'duration': 3700,\n",
       "  'proposal': 'proposal_0',\n",
       "  'resID': 55},\n",
       " '56': {'windows': {'telescope_0': [{'start': 4454, 'end': 9304}]},\n",
       "  'duration': 2230,\n",
       "  'proposal': 'proposal_3',\n",
       "  'resID': 56},\n",
       " '57': {'windows': {'telescope_0': [{'start': 216919, 'end': 224282}]},\n",
       "  'duration': 2520,\n",
       "  'proposal': 'proposal_0',\n",
       "  'resID': 57},\n",
       " '58': {'windows': {'telescope_0': [{'start': 185088, 'end': 188983}]},\n",
       "  'duration': 550,\n",
       "  'proposal': 'proposal_1',\n",
       "  'resID': 58},\n",
       " '59': {'windows': {'telescope_0': [{'start': 264193, 'end': 279727}]},\n",
       "  'duration': 2270,\n",
       "  'proposal': 'proposal_2',\n",
       "  'resID': 59},\n",
       " '60': {'windows': {'telescope_0': [{'start': 143823, 'end': 146199}]},\n",
       "  'duration': 900,\n",
       "  'proposal': 'proposal_3',\n",
       "  'resID': 60},\n",
       " '61': {'windows': {'telescope_0': [{'start': 276358, 'end': 276502}]},\n",
       "  'duration': 120,\n",
       "  'proposal': 'proposal_0',\n",
       "  'resID': 61},\n",
       " '62': {'windows': {'telescope_0': [{'start': 157510, 'end': 177713}]},\n",
       "  'duration': 9180,\n",
       "  'proposal': 'proposal_2',\n",
       "  'resID': 62},\n",
       " '63': {'windows': {'telescope_0': [{'start': 257415, 'end': 262840}]},\n",
       "  'duration': 2270,\n",
       "  'proposal': 'proposal_0',\n",
       "  'resID': 63},\n",
       " '64': {'windows': {'telescope_0': [{'start': 168847, 'end': 170273}]},\n",
       "  'duration': 200,\n",
       "  'proposal': 'proposal_2',\n",
       "  'resID': 64},\n",
       " '65': {'windows': {'telescope_0': [{'start': 12702, 'end': 17664}]},\n",
       "  'duration': 540,\n",
       "  'proposal': 'proposal_4',\n",
       "  'resID': 65},\n",
       " '66': {'windows': {'telescope_0': [{'start': 272980, 'end': 273869}]},\n",
       "  'duration': 120,\n",
       "  'proposal': 'proposal_3',\n",
       "  'resID': 66},\n",
       " '67': {'windows': {'telescope_0': [{'start': 62852, 'end': 66357}]},\n",
       "  'duration': 600,\n",
       "  'proposal': 'proposal_4',\n",
       "  'resID': 67},\n",
       " '68': {'windows': {'telescope_0': [{'start': 82063, 'end': 82602}]},\n",
       "  'duration': 240,\n",
       "  'proposal': 'proposal_2',\n",
       "  'resID': 68},\n",
       " '69': {'windows': {'telescope_0': [{'start': 102289, 'end': 107142}]},\n",
       "  'duration': 650,\n",
       "  'proposal': 'proposal_4',\n",
       "  'resID': 69},\n",
       " '70': {'windows': {'telescope_0': [{'start': 45183, 'end': 45868}]},\n",
       "  'duration': 200,\n",
       "  'proposal': 'proposal_4',\n",
       "  'resID': 70},\n",
       " '71': {'windows': {'telescope_0': [{'start': 165862, 'end': 166955}]},\n",
       "  'duration': 240,\n",
       "  'proposal': 'proposal_2',\n",
       "  'resID': 71},\n",
       " '72': {'windows': {'telescope_0': [{'start': 282367, 'end': 299562}]},\n",
       "  'duration': 2270,\n",
       "  'proposal': 'proposal_2',\n",
       "  'resID': 72},\n",
       " '73': {'windows': {'telescope_0': [{'start': 21429, 'end': 42547}]},\n",
       "  'duration': 3700,\n",
       "  'proposal': 'proposal_3',\n",
       "  'resID': 73},\n",
       " '74': {'windows': {'telescope_0': [{'start': 32856, 'end': 46446}]},\n",
       "  'duration': 3680,\n",
       "  'proposal': 'proposal_4',\n",
       "  'resID': 74},\n",
       " '75': {'windows': {'telescope_0': [{'start': 254273, 'end': 264384}]},\n",
       "  'duration': 1920,\n",
       "  'proposal': 'proposal_2',\n",
       "  'resID': 75},\n",
       " '76': {'windows': {'telescope_0': [{'start': 150515, 'end': 155155}]},\n",
       "  'duration': 2270,\n",
       "  'proposal': 'proposal_0',\n",
       "  'resID': 76},\n",
       " '77': {'windows': {'telescope_0': [{'start': 270466, 'end': 272293}]},\n",
       "  'duration': 240,\n",
       "  'proposal': 'proposal_1',\n",
       "  'resID': 77},\n",
       " '78': {'windows': {'telescope_0': [{'start': 294707, 'end': 301715}]},\n",
       "  'duration': 1600,\n",
       "  'proposal': 'proposal_0',\n",
       "  'resID': 78},\n",
       " '79': {'windows': {'telescope_0': [{'start': 226761, 'end': 227113}]},\n",
       "  'duration': 200,\n",
       "  'proposal': 'proposal_0',\n",
       "  'resID': 79},\n",
       " '80': {'windows': {'telescope_0': [{'start': 168278, 'end': 170085}]},\n",
       "  'duration': 960,\n",
       "  'proposal': 'proposal_2',\n",
       "  'resID': 80},\n",
       " '81': {'windows': {'telescope_0': [{'start': 176870, 'end': 178813}]},\n",
       "  'duration': 360,\n",
       "  'proposal': 'proposal_1',\n",
       "  'resID': 81},\n",
       " '82': {'windows': {'telescope_0': [{'start': 298910, 'end': 299298}]},\n",
       "  'duration': 90,\n",
       "  'proposal': 'proposal_2',\n",
       "  'resID': 82},\n",
       " '83': {'windows': {'telescope_0': [{'start': 58044, 'end': 58494}]},\n",
       "  'duration': 180,\n",
       "  'proposal': 'proposal_0',\n",
       "  'resID': 83},\n",
       " '84': {'windows': {'telescope_0': [{'start': 212286, 'end': 214040}]},\n",
       "  'duration': 200,\n",
       "  'proposal': 'proposal_4',\n",
       "  'resID': 84},\n",
       " '85': {'windows': {'telescope_0': [{'start': 35958, 'end': 38511}]},\n",
       "  'duration': 360,\n",
       "  'proposal': 'proposal_3',\n",
       "  'resID': 85},\n",
       " '86': {'windows': {'telescope_0': [{'start': 301505, 'end': 303536}]},\n",
       "  'duration': 300,\n",
       "  'proposal': 'proposal_1',\n",
       "  'resID': 86},\n",
       " '87': {'windows': {'telescope_0': [{'start': 138623, 'end': 148118}]},\n",
       "  'duration': 4890,\n",
       "  'proposal': 'proposal_2',\n",
       "  'resID': 87},\n",
       " '88': {'windows': {'telescope_0': [{'start': 298980, 'end': 304342}]},\n",
       "  'duration': 2270,\n",
       "  'proposal': 'proposal_3',\n",
       "  'resID': 88},\n",
       " '89': {'windows': {'telescope_0': [{'start': 205611, 'end': 216127}]},\n",
       "  'duration': 2260,\n",
       "  'proposal': 'proposal_4',\n",
       "  'resID': 89},\n",
       " '90': {'windows': {'telescope_0': [{'start': 97512, 'end': 128974}]},\n",
       "  'duration': 3400,\n",
       "  'proposal': 'proposal_3',\n",
       "  'resID': 90},\n",
       " '91': {'windows': {'telescope_0': [{'start': 264509, 'end': 265013}]},\n",
       "  'duration': 75,\n",
       "  'proposal': 'proposal_4',\n",
       "  'resID': 91},\n",
       " '92': {'windows': {'telescope_0': [{'start': 102883, 'end': 103239}]},\n",
       "  'duration': 120,\n",
       "  'proposal': 'proposal_2',\n",
       "  'resID': 92},\n",
       " '93': {'windows': {'telescope_0': [{'start': 44866, 'end': 48032}]},\n",
       "  'duration': 2400,\n",
       "  'proposal': 'proposal_2',\n",
       "  'resID': 93},\n",
       " '94': {'windows': {'telescope_0': [{'start': 114611, 'end': 118937}]},\n",
       "  'duration': 1800,\n",
       "  'proposal': 'proposal_2',\n",
       "  'resID': 94},\n",
       " '95': {'windows': {'telescope_0': [{'start': 20067, 'end': 26017}]},\n",
       "  'duration': 720,\n",
       "  'proposal': 'proposal_0',\n",
       "  'resID': 95},\n",
       " '96': {'windows': {'telescope_0': [{'start': 20066, 'end': 23392}]},\n",
       "  'duration': 360,\n",
       "  'proposal': 'proposal_1',\n",
       "  'resID': 96},\n",
       " '97': {'windows': {'telescope_0': [{'start': 255212, 'end': 255440}]},\n",
       "  'duration': 200,\n",
       "  'proposal': 'proposal_2',\n",
       "  'resID': 97},\n",
       " '98': {'windows': {'telescope_0': [{'start': 262694, 'end': 305258}]},\n",
       "  'duration': 5187,\n",
       "  'proposal': 'proposal_3',\n",
       "  'resID': 98},\n",
       " '99': {'windows': {'telescope_0': [{'start': 272490, 'end': 273044}]},\n",
       "  'duration': 100,\n",
       "  'proposal': 'proposal_4',\n",
       "  'resID': 99}}"
      ]
     },
     "execution_count": 88,
     "metadata": {},
     "output_type": "execute_result"
    }
   ],
   "source": [
    "modified_requests"
   ]
  },
  {
   "cell_type": "markdown",
   "id": "ed360368-e2ce-455d-a8ae-d0a3ba770ec8",
   "metadata": {},
   "source": [
    "# CPSAT Interval Variables"
   ]
  },
  {
   "cell_type": "code",
   "execution_count": 2,
   "id": "05549d1e-3dee-4472-b2fb-1b539d20b43d",
   "metadata": {
    "execution": {
     "iopub.execute_input": "2024-03-05T16:00:30.626348Z",
     "iopub.status.busy": "2024-03-05T16:00:30.625344Z",
     "iopub.status.idle": "2024-03-05T16:00:40.334464Z",
     "shell.execute_reply": "2024-03-05T16:00:40.334464Z",
     "shell.execute_reply.started": "2024-03-05T16:00:30.626348Z"
    }
   },
   "outputs": [],
   "source": [
    "import collections\n",
    "from ortools.sat.python import cp_model"
   ]
  },
  {
   "cell_type": "code",
   "execution_count": 6,
   "id": "97a463fd-5610-4871-bd63-0b0c57e261aa",
   "metadata": {
    "execution": {
     "iopub.execute_input": "2024-03-05T11:50:47.915337Z",
     "iopub.status.busy": "2024-03-05T11:50:47.914337Z",
     "iopub.status.idle": "2024-03-05T11:50:47.934604Z",
     "shell.execute_reply": "2024-03-05T11:50:47.933605Z",
     "shell.execute_reply.started": "2024-03-05T11:50:47.915337Z"
    }
   },
   "outputs": [],
   "source": [
    "jobs_data = [  # task = (machine_id, processing_time).\n",
    "    [(0, 3), (1, 2), (2, 2)],  # Job0\n",
    "    [(0, 2), (2, 1), (1, 4)],  # Job1\n",
    "    [(1, 4), (2, 3)],  # Job2\n",
    "]\n",
    "\n",
    "machines_count = 1 + max(task[0] for job in jobs_data for task in job)\n",
    "all_machines = range(machines_count)\n",
    "# Computes horizon dynamically as the sum of all durations.\n",
    "horizon = sum(task[1] for job in jobs_data for task in job)"
   ]
  },
  {
   "cell_type": "code",
   "execution_count": 7,
   "id": "db835fd3-2aac-47e1-a7c8-91a3c233a516",
   "metadata": {
    "execution": {
     "iopub.execute_input": "2024-03-05T11:51:00.458509Z",
     "iopub.status.busy": "2024-03-05T11:51:00.457512Z",
     "iopub.status.idle": "2024-03-05T11:51:00.477079Z",
     "shell.execute_reply": "2024-03-05T11:51:00.476079Z",
     "shell.execute_reply.started": "2024-03-05T11:51:00.458509Z"
    }
   },
   "outputs": [],
   "source": [
    "model = cp_model.CpModel()"
   ]
  },
  {
   "cell_type": "code",
   "execution_count": 8,
   "id": "5ee96e22-852b-4f1b-8826-e4f20a2f150c",
   "metadata": {
    "execution": {
     "iopub.execute_input": "2024-03-05T11:51:12.168608Z",
     "iopub.status.busy": "2024-03-05T11:51:12.167605Z",
     "iopub.status.idle": "2024-03-05T11:51:12.212991Z",
     "shell.execute_reply": "2024-03-05T11:51:12.209001Z",
     "shell.execute_reply.started": "2024-03-05T11:51:12.168608Z"
    }
   },
   "outputs": [],
   "source": [
    "# Named tuple to store information about created variables.\n",
    "task_type = collections.namedtuple(\"task_type\", \"start end interval\")\n",
    "# Named tuple to manipulate solution information.\n",
    "assigned_task_type = collections.namedtuple(\n",
    "    \"assigned_task_type\", \"start job index duration\"\n",
    ")\n",
    "\n",
    "# Creates job intervals and add to the corresponding machine lists.\n",
    "all_tasks = {}\n",
    "machine_to_intervals = collections.defaultdict(list)\n",
    "\n",
    "for job_id, job in enumerate(jobs_data):\n",
    "    for task_id, task in enumerate(job):\n",
    "        machine, duration = task\n",
    "        suffix = f\"_{job_id}_{task_id}\"\n",
    "        start_var = model.NewIntVar(0, horizon, \"start\" + suffix)\n",
    "        end_var = model.NewIntVar(0, horizon, \"end\" + suffix)\n",
    "        interval_var = model.NewIntervalVar(\n",
    "            start_var, duration, end_var, \"interval\" + suffix\n",
    "        )\n",
    "        all_tasks[job_id, task_id] = task_type(\n",
    "            start=start_var, end=end_var, interval=interval_var\n",
    "        )\n",
    "        machine_to_intervals[machine].append(interval_var)"
   ]
  },
  {
   "cell_type": "code",
   "execution_count": 9,
   "id": "c53d0d67-a500-4803-883f-4b7ffcd59815",
   "metadata": {
    "execution": {
     "iopub.execute_input": "2024-03-05T11:51:23.967671Z",
     "iopub.status.busy": "2024-03-05T11:51:23.966675Z",
     "iopub.status.idle": "2024-03-05T11:51:24.069843Z",
     "shell.execute_reply": "2024-03-05T11:51:24.067859Z",
     "shell.execute_reply.started": "2024-03-05T11:51:23.967671Z"
    }
   },
   "outputs": [
    {
     "data": {
      "text/plain": [
       "defaultdict(list,\n",
       "            {0: [interval_0_0(start = start_0_0, size = 3, end = end_0_0),\n",
       "              interval_1_0(start = start_1_0, size = 2, end = end_1_0)],\n",
       "             1: [interval_0_1(start = start_0_1, size = 2, end = end_0_1),\n",
       "              interval_1_2(start = start_1_2, size = 4, end = end_1_2),\n",
       "              interval_2_0(start = start_2_0, size = 4, end = end_2_0)],\n",
       "             2: [interval_0_2(start = start_0_2, size = 2, end = end_0_2),\n",
       "              interval_1_1(start = start_1_1, size = 1, end = end_1_1),\n",
       "              interval_2_1(start = start_2_1, size = 3, end = end_2_1)]})"
      ]
     },
     "execution_count": 9,
     "metadata": {},
     "output_type": "execute_result"
    }
   ],
   "source": [
    "machine_to_intervals"
   ]
  },
  {
   "cell_type": "code",
   "execution_count": 10,
   "id": "8adf00e6-00a1-42f0-89b8-81a20930665f",
   "metadata": {
    "execution": {
     "iopub.execute_input": "2024-03-05T11:52:42.075259Z",
     "iopub.status.busy": "2024-03-05T11:52:42.074256Z",
     "iopub.status.idle": "2024-03-05T11:52:42.088035Z",
     "shell.execute_reply": "2024-03-05T11:52:42.087035Z",
     "shell.execute_reply.started": "2024-03-05T11:52:42.075259Z"
    }
   },
   "outputs": [],
   "source": [
    "# Create and add disjunctive constraints.\n",
    "for machine in all_machines:\n",
    "    model.AddNoOverlap(machine_to_intervals[machine])\n",
    "\n",
    "# Precedences inside a job.\n",
    "for job_id, job in enumerate(jobs_data):\n",
    "    for task_id in range(len(job) - 1):\n",
    "        model.Add(\n",
    "            all_tasks[job_id, task_id + 1].start >= all_tasks[job_id, task_id].end\n",
    "        )"
   ]
  },
  {
   "cell_type": "code",
   "execution_count": 11,
   "id": "eaa13f7a-5b53-4f9b-b2aa-b5c845c7a650",
   "metadata": {
    "execution": {
     "iopub.execute_input": "2024-03-05T11:53:06.468737Z",
     "iopub.status.busy": "2024-03-05T11:53:06.468737Z",
     "iopub.status.idle": "2024-03-05T11:53:06.482332Z",
     "shell.execute_reply": "2024-03-05T11:53:06.481292Z",
     "shell.execute_reply.started": "2024-03-05T11:53:06.468737Z"
    }
   },
   "outputs": [],
   "source": [
    "# Makespan objective.\n",
    "obj_var = model.NewIntVar(0, horizon, \"makespan\")\n",
    "model.AddMaxEquality(\n",
    "    obj_var,\n",
    "    [all_tasks[job_id, len(job) - 1].end for job_id, job in enumerate(jobs_data)],\n",
    ")\n",
    "model.Minimize(obj_var)"
   ]
  },
  {
   "cell_type": "code",
   "execution_count": 12,
   "id": "d4640492-83b2-4cfc-979d-10b78409bdd0",
   "metadata": {
    "execution": {
     "iopub.execute_input": "2024-03-05T11:53:37.725862Z",
     "iopub.status.busy": "2024-03-05T11:53:37.724863Z",
     "iopub.status.idle": "2024-03-05T11:53:37.941681Z",
     "shell.execute_reply": "2024-03-05T11:53:37.940693Z",
     "shell.execute_reply.started": "2024-03-05T11:53:37.724863Z"
    }
   },
   "outputs": [],
   "source": [
    "solver = cp_model.CpSolver()\n",
    "status = solver.Solve(model)"
   ]
  },
  {
   "cell_type": "code",
   "execution_count": 13,
   "id": "5600d3e5-00ef-4e9f-9d0a-250148852a8b",
   "metadata": {
    "execution": {
     "iopub.execute_input": "2024-03-05T11:53:48.716406Z",
     "iopub.status.busy": "2024-03-05T11:53:48.715407Z",
     "iopub.status.idle": "2024-03-05T11:53:48.739298Z",
     "shell.execute_reply": "2024-03-05T11:53:48.738302Z",
     "shell.execute_reply.started": "2024-03-05T11:53:48.716406Z"
    }
   },
   "outputs": [
    {
     "name": "stdout",
     "output_type": "stream",
     "text": [
      "Solution:\n",
      "Optimal Schedule Length: 11.0\n",
      "Machine 0: job_1_task_0   job_0_task_0   \n",
      "           [0,2]          [2,5]          \n",
      "Machine 1: job_2_task_0   job_0_task_1   job_1_task_2   \n",
      "           [0,4]          [5,7]          [7,11]         \n",
      "Machine 2: job_1_task_1   job_2_task_1   job_0_task_2   \n",
      "           [2,3]          [4,7]          [7,9]          \n",
      "\n"
     ]
    }
   ],
   "source": [
    "if status == cp_model.OPTIMAL or status == cp_model.FEASIBLE:\n",
    "    print(\"Solution:\")\n",
    "    # Create one list of assigned tasks per machine.\n",
    "    assigned_jobs = collections.defaultdict(list)\n",
    "    for job_id, job in enumerate(jobs_data):\n",
    "        for task_id, task in enumerate(job):\n",
    "            machine = task[0]\n",
    "            assigned_jobs[machine].append(\n",
    "                assigned_task_type(\n",
    "                    start=solver.Value(all_tasks[job_id, task_id].start),\n",
    "                    job=job_id,\n",
    "                    index=task_id,\n",
    "                    duration=task[1],\n",
    "                )\n",
    "            )\n",
    "\n",
    "    # Create per machine output lines.\n",
    "    output = \"\"\n",
    "    for machine in all_machines:\n",
    "        # Sort by starting time.\n",
    "        assigned_jobs[machine].sort()\n",
    "        sol_line_tasks = \"Machine \" + str(machine) + \": \"\n",
    "        sol_line = \"           \"\n",
    "\n",
    "        for assigned_task in assigned_jobs[machine]:\n",
    "            name = f\"job_{assigned_task.job}_task_{assigned_task.index}\"\n",
    "            # Add spaces to output to align columns.\n",
    "            sol_line_tasks += f\"{name:15}\"\n",
    "\n",
    "            start = assigned_task.start\n",
    "            duration = assigned_task.duration\n",
    "            sol_tmp = f\"[{start},{start + duration}]\"\n",
    "            # Add spaces to output to align columns.\n",
    "            sol_line += f\"{sol_tmp:15}\"\n",
    "\n",
    "        sol_line += \"\\n\"\n",
    "        sol_line_tasks += \"\\n\"\n",
    "        output += sol_line_tasks\n",
    "        output += sol_line\n",
    "\n",
    "    # Finally print the solution found.\n",
    "    print(f\"Optimal Schedule Length: {solver.ObjectiveValue()}\")\n",
    "    print(output)\n",
    "else:\n",
    "    print(\"No solution found.\")"
   ]
  },
  {
   "cell_type": "markdown",
   "id": "f562e3ea-c15d-4080-a691-9822f16e3b75",
   "metadata": {},
   "source": [
    "# Schedule Simulator Outputting Scheduler Info"
   ]
  },
  {
   "cell_type": "code",
   "execution_count": 1,
   "id": "5cf40741-ea67-4a90-bfdc-e19c4ee6e7a1",
   "metadata": {
    "execution": {
     "iopub.execute_input": "2024-03-14T22:35:19.321461Z",
     "iopub.status.busy": "2024-03-14T22:35:19.321461Z",
     "iopub.status.idle": "2024-03-14T22:35:21.336641Z",
     "shell.execute_reply": "2024-03-14T22:35:21.335643Z",
     "shell.execute_reply.started": "2024-03-14T22:35:19.321461Z"
    }
   },
   "outputs": [],
   "source": [
    "from ScheduleSimulator import SchedulerSimulation\n",
    "from scheduler_gurobi import SchedulerGurobi\n",
    "import json"
   ]
  },
  {
   "cell_type": "code",
   "execution_count": 5,
   "id": "4c484922-4edc-4aba-897e-729a76dc945c",
   "metadata": {
    "execution": {
     "iopub.execute_input": "2024-03-14T22:35:31.219701Z",
     "iopub.status.busy": "2024-03-14T22:35:31.218694Z",
     "iopub.status.idle": "2024-03-14T22:35:31.234911Z",
     "shell.execute_reply": "2024-03-14T22:35:31.233899Z",
     "shell.execute_reply.started": "2024-03-14T22:35:31.219701Z"
    }
   },
   "outputs": [
    {
     "data": {
      "text/plain": [
       "<ScheduleSimulator.SchedulerSimulation at 0x1ccbae4da50>"
      ]
     },
     "execution_count": 5,
     "metadata": {},
     "output_type": "execute_result"
    }
   ],
   "source": [
    "data = json.load(open(\"data/performance_input/performanceTest1_100Requests_0.json\", \"r\"))\n",
    "sim = SchedulerSimulation(data=data)\n",
    "sim"
   ]
  },
  {
   "cell_type": "code",
   "execution_count": 6,
   "id": "b62128c4-fe6e-4e26-ad70-76fcecff45a1",
   "metadata": {
    "execution": {
     "iopub.execute_input": "2024-03-14T22:35:33.993818Z",
     "iopub.status.busy": "2024-03-14T22:35:33.992815Z",
     "iopub.status.idle": "2024-03-14T22:35:34.004270Z",
     "shell.execute_reply": "2024-03-14T22:35:34.003259Z",
     "shell.execute_reply.started": "2024-03-14T22:35:33.993818Z"
    }
   },
   "outputs": [
    {
     "data": {
      "text/plain": [
       "[0]"
      ]
     },
     "execution_count": 6,
     "metadata": {},
     "output_type": "execute_result"
    }
   ],
   "source": [
    "next_events = sim.get_next_events()\n",
    "next_events"
   ]
  },
  {
   "cell_type": "code",
   "execution_count": 7,
   "id": "965738b9-8263-449f-9899-fb777beae33d",
   "metadata": {
    "execution": {
     "iopub.execute_input": "2024-03-14T22:35:35.260216Z",
     "iopub.status.busy": "2024-03-14T22:35:35.259211Z",
     "iopub.status.idle": "2024-03-14T22:35:35.270436Z",
     "shell.execute_reply": "2024-03-14T22:35:35.269425Z",
     "shell.execute_reply.started": "2024-03-14T22:35:35.260216Z"
    }
   },
   "outputs": [],
   "source": [
    "sim.process_event_group(next_events)"
   ]
  },
  {
   "cell_type": "code",
   "execution_count": 8,
   "id": "2d8ff8bd-259d-42ba-9a91-ce530f7378ac",
   "metadata": {
    "execution": {
     "iopub.execute_input": "2024-03-14T22:35:36.512124Z",
     "iopub.status.busy": "2024-03-14T22:35:36.511126Z",
     "iopub.status.idle": "2024-03-14T22:35:36.520132Z",
     "shell.execute_reply": "2024-03-14T22:35:36.519123Z",
     "shell.execute_reply.started": "2024-03-14T22:35:36.512124Z"
    }
   },
   "outputs": [],
   "source": [
    "requests, resources = sim.check_occupied_requests()"
   ]
  },
  {
   "cell_type": "code",
   "execution_count": 9,
   "id": "b03f8408-e1d2-4f93-889f-d72baf3e27a9",
   "metadata": {
    "execution": {
     "iopub.execute_input": "2024-03-14T22:35:37.504722Z",
     "iopub.status.busy": "2024-03-14T22:35:37.504722Z",
     "iopub.status.idle": "2024-03-14T22:35:37.515149Z",
     "shell.execute_reply": "2024-03-14T22:35:37.514140Z",
     "shell.execute_reply.started": "2024-03-14T22:35:37.504722Z"
    }
   },
   "outputs": [
    {
     "data": {
      "text/plain": [
       "dict_keys(['now', 'horizon', 'slice_size', 'resources', 'proposals', 'requests', 'timelimit'])"
      ]
     },
     "execution_count": 9,
     "metadata": {},
     "output_type": "execute_result"
    }
   ],
   "source": [
    "info = sim.get_scheduler_info()\n",
    "info.keys()"
   ]
  },
  {
   "cell_type": "code",
   "execution_count": 10,
   "id": "927f9228-4867-443d-b437-321b367ac32b",
   "metadata": {
    "execution": {
     "iopub.execute_input": "2024-03-14T22:35:39.088191Z",
     "iopub.status.busy": "2024-03-14T22:35:39.088191Z",
     "iopub.status.idle": "2024-03-14T22:35:39.105251Z",
     "shell.execute_reply": "2024-03-14T22:35:39.103243Z",
     "shell.execute_reply.started": "2024-03-14T22:35:39.088191Z"
    }
   },
   "outputs": [
    {
     "name": "stdout",
     "output_type": "stream",
     "text": [
      "<scheduler_gurobi.SchedulerGurobi object at 0x000001CCBB0E98D0>\n",
      "Scheduling with gurobi solver...\n"
     ]
    }
   ],
   "source": [
    "sched = SchedulerGurobi(info[\"now\"], info[\"horizon\"], info[\"slice_size\"], resources, info[\"proposals\"], requests,\n",
    "                        verbose=0, timelimit=info[\"timelimit\"], scheduler_type=\"gurobi\")"
   ]
  },
  {
   "cell_type": "code",
   "execution_count": 11,
   "id": "02308123-8424-42e0-92df-3f16ef432c7c",
   "metadata": {
    "execution": {
     "iopub.execute_input": "2024-03-14T22:35:43.764456Z",
     "iopub.status.busy": "2024-03-14T22:35:43.763471Z",
     "iopub.status.idle": "2024-03-14T22:35:43.878853Z",
     "shell.execute_reply": "2024-03-14T22:35:43.878853Z",
     "shell.execute_reply.started": "2024-03-14T22:35:43.764456Z"
    }
   },
   "outputs": [
    {
     "data": {
      "text/plain": [
       "dict_keys(['scheduled', 'now'])"
      ]
     },
     "execution_count": 11,
     "metadata": {},
     "output_type": "execute_result"
    }
   ],
   "source": [
    "sched.run().keys()"
   ]
  },
  {
   "cell_type": "markdown",
   "id": "0b7810f8-c757-4ab2-87af-a438ba082615",
   "metadata": {},
   "source": [
    "---"
   ]
  },
  {
   "cell_type": "code",
   "execution_count": 12,
   "id": "c199dfb4-65df-4c65-a1f6-be88b3cb7684",
   "metadata": {
    "execution": {
     "iopub.execute_input": "2024-03-15T10:38:39.555551Z",
     "iopub.status.busy": "2024-03-15T10:38:39.547551Z",
     "iopub.status.idle": "2024-03-15T10:38:39.651823Z",
     "shell.execute_reply": "2024-03-15T10:38:39.648814Z",
     "shell.execute_reply.started": "2024-03-15T10:38:39.554551Z"
    }
   },
   "outputs": [],
   "source": [
    "import numpy as np"
   ]
  },
  {
   "cell_type": "code",
   "execution_count": 13,
   "id": "60b2297b-e369-41af-9c4d-2a3bb1e42e87",
   "metadata": {
    "execution": {
     "iopub.execute_input": "2024-03-15T10:38:48.765595Z",
     "iopub.status.busy": "2024-03-15T10:38:48.764594Z",
     "iopub.status.idle": "2024-03-15T10:38:48.783058Z",
     "shell.execute_reply": "2024-03-15T10:38:48.781050Z",
     "shell.execute_reply.started": "2024-03-15T10:38:48.765595Z"
    }
   },
   "outputs": [],
   "source": [
    "a = [1, 2, 3, 4, 5, 6, 7, 8, 9, 10]"
   ]
  },
  {
   "cell_type": "code",
   "execution_count": 14,
   "id": "7edacfbc-f024-49df-a8d1-d095ec901684",
   "metadata": {
    "execution": {
     "iopub.execute_input": "2024-03-15T10:39:04.629657Z",
     "iopub.status.busy": "2024-03-15T10:39:04.628659Z",
     "iopub.status.idle": "2024-03-15T10:39:04.738283Z",
     "shell.execute_reply": "2024-03-15T10:39:04.735268Z",
     "shell.execute_reply.started": "2024-03-15T10:39:04.629657Z"
    }
   },
   "outputs": [
    {
     "data": {
      "text/plain": [
       "[array([ 1,  2,  3,  4,  5,  6,  7,  8,  9, 10])]"
      ]
     },
     "execution_count": 14,
     "metadata": {},
     "output_type": "execute_result"
    }
   ],
   "source": [
    "np.array_split(a, 1)"
   ]
  },
  {
   "cell_type": "code",
   "execution_count": 15,
   "id": "3d71473f-885b-44a7-83c1-7f66187a4fd0",
   "metadata": {
    "execution": {
     "iopub.execute_input": "2024-03-15T10:39:15.528496Z",
     "iopub.status.busy": "2024-03-15T10:39:15.527497Z",
     "iopub.status.idle": "2024-03-15T10:39:15.547726Z",
     "shell.execute_reply": "2024-03-15T10:39:15.545710Z",
     "shell.execute_reply.started": "2024-03-15T10:39:15.528496Z"
    }
   },
   "outputs": [
    {
     "data": {
      "text/plain": [
       "[array([1, 2, 3, 4, 5]), array([ 6,  7,  8,  9, 10])]"
      ]
     },
     "execution_count": 15,
     "metadata": {},
     "output_type": "execute_result"
    }
   ],
   "source": [
    "np.array_split(a, 2)"
   ]
  },
  {
   "cell_type": "code",
   "execution_count": null,
   "id": "57acd339-f158-418c-a63c-3d2c1efc4c56",
   "metadata": {},
   "outputs": [],
   "source": []
  }
 ],
 "metadata": {
  "kernelspec": {
   "display_name": "Python 3 (ipykernel)",
   "language": "python",
   "name": "python3"
  },
  "language_info": {
   "codemirror_mode": {
    "name": "ipython",
    "version": 3
   },
   "file_extension": ".py",
   "mimetype": "text/x-python",
   "name": "python",
   "nbconvert_exporter": "python",
   "pygments_lexer": "ipython3",
   "version": "3.11.4"
  }
 },
 "nbformat": 4,
 "nbformat_minor": 5
}
