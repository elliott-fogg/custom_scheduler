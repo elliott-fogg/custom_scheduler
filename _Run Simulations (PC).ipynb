{
 "cells": [
  {
   "cell_type": "code",
   "execution_count": 6,
   "id": "14e819b2-1c64-4b2e-84cc-0ebc850c0b03",
   "metadata": {
    "execution": {
     "iopub.execute_input": "2024-06-26T00:56:07.849596Z",
     "iopub.status.busy": "2024-06-26T00:56:07.849596Z",
     "iopub.status.idle": "2024-06-26T00:56:07.873610Z",
     "shell.execute_reply": "2024-06-26T00:56:07.872634Z",
     "shell.execute_reply.started": "2024-06-26T00:56:07.849596Z"
    }
   },
   "outputs": [],
   "source": [
    "from ScheduleSimulator import SchedulerSimulation\n",
    "import os\n",
    "import pathlib\n",
    "import time"
   ]
  },
  {
   "cell_type": "code",
   "execution_count": 26,
   "id": "9d23c21e-0f34-46ed-b8bc-f525d6daa842",
   "metadata": {
    "execution": {
     "iopub.execute_input": "2024-06-26T01:23:11.294582Z",
     "iopub.status.busy": "2024-06-26T01:23:11.293578Z",
     "iopub.status.idle": "2024-06-26T01:23:11.324583Z",
     "shell.execute_reply": "2024-06-26T01:23:11.322581Z",
     "shell.execute_reply.started": "2024-06-26T01:23:11.294582Z"
    }
   },
   "outputs": [
    {
     "data": {
      "text/plain": [
       "['input_files\\\\banding\\\\pb_2020-08_100-30-10.pkl',\n",
       " 'input_files\\\\banding\\\\pb_2020-08_100-55-10.pkl',\n",
       " 'input_files\\\\banding\\\\pb_2020-08_30-20-10.pkl',\n",
       " 'input_files\\\\banding\\\\pb_2021-02_100-30-10.pkl',\n",
       " 'input_files\\\\banding\\\\pb_2021-02_100-55-10.pkl',\n",
       " 'input_files\\\\banding\\\\pb_2021-02_30-20-10.pkl',\n",
       " 'input_files\\\\banding\\\\pb_2021-08_100-30-10.pkl',\n",
       " 'input_files\\\\banding\\\\pb_2021-08_100-55-10.pkl',\n",
       " 'input_files\\\\banding\\\\pb_2021-08_30-20-10.pkl',\n",
       " 'input_files\\\\banding\\\\pb_2022-02_100-30-10.pkl',\n",
       " 'input_files\\\\banding\\\\pb_2022-02_100-55-10.pkl',\n",
       " 'input_files\\\\banding\\\\pb_2022-02_30-20-10.pkl',\n",
       " 'input_files\\\\baseline\\\\baseline_2020-08.pkl',\n",
       " 'input_files\\\\baseline\\\\baseline_2021-02.pkl',\n",
       " 'input_files\\\\baseline\\\\baseline_2021-08.pkl',\n",
       " 'input_files\\\\baseline\\\\baseline_2022-02.pkl',\n",
       " 'input_files\\\\vwt\\\\vwt_2020-08.pkl',\n",
       " 'input_files\\\\vwt\\\\vwt_2021-02.pkl',\n",
       " 'input_files\\\\vwt\\\\vwt_2021-08.pkl',\n",
       " 'input_files\\\\vwt\\\\vwt_2022-02.pkl']"
      ]
     },
     "execution_count": 26,
     "metadata": {},
     "output_type": "execute_result"
    }
   ],
   "source": [
    "input_file_list = []\n",
    "for item in os.walk(\"input_files\"):\n",
    "    if item[1] == []:\n",
    "        for filename in item[2]:\n",
    "            input_file_list.append(os.path.join(item[0], filename))\n",
    "input_file_list"
   ]
  },
  {
   "cell_type": "code",
   "execution_count": 19,
   "id": "18fd7de1-ab05-4027-b26e-446be006ecde",
   "metadata": {
    "execution": {
     "iopub.execute_input": "2024-06-26T01:18:54.672162Z",
     "iopub.status.busy": "2024-06-26T01:18:54.671183Z",
     "iopub.status.idle": "2024-06-26T01:18:54.687163Z",
     "shell.execute_reply": "2024-06-26T01:18:54.686161Z",
     "shell.execute_reply.started": "2024-06-26T01:18:54.672162Z"
    }
   },
   "outputs": [],
   "source": [
    "def run_file(input_filepath):\n",
    "    print(input_filepath)\n",
    "    filepath_list = list(pathlib.Path(input_filepath).parts)\n",
    "    output_path_list = filepath_list\n",
    "    output_path_list[0] = \"output_files\"\n",
    "    output_path = os.path.join(*output_path_list)\n",
    "\n",
    "    if os.path.isfile(output_path):\n",
    "        print(\"Simulation already run.\")\n",
    "    else:\n",
    "        print(\"Running simulation...\")\n",
    "        # sim = SchedulerSimulation(input_filepath, horizon_days=7)\n",
    "        t1 = time.time()\n",
    "        print(\"DRY RUNNING SIMULATION\")\n",
    "        # sim.run_simulation()\n",
    "        t2 = time.time()\n",
    "        print(filepath, t2 - t1)\n",
    "\n",
    "    filename = output_path_list[-1]\n",
    "    name, ext = os.path.splitext(filename)\n",
    "    perfect_filename = name + \"_perfect\" + ext\n",
    "\n",
    "    output_path_list[-1] = perfect_filename\n",
    "    perfect_filepath = os.path.join(*output_path_list)\n",
    "    if os.path.isfile(perfect_filepath):\n",
    "        print(\"Optimal Schedule already exists at \", perfect_filepath)\n",
    "    else:\n",
    "        print(\"Solving for optimal schedule...\")\n",
    "        # sim = SchedulerSimulation(input_filepath, horizon_days=7)\n",
    "        t3 = time.time()\n",
    "        print(\"DRY RUNNING OPTIMAL SCHEDULE\")\n",
    "        # sim.run_scheduler_all()\n",
    "        t4 = time.time()\n",
    "        print(\"Solved optimal schedule\", t4 - t3)"
   ]
  },
  {
   "cell_type": "code",
   "execution_count": null,
   "id": "91a0d8c5-498a-4e1a-87bd-7dbf78c485f4",
   "metadata": {},
   "outputs": [],
   "source": [
    "for i in range(len(input_file_list)):\n",
    "    if i % 2 == 0:\n",
    "        run_file(input_file_list[i])"
   ]
  }
 ],
 "metadata": {
  "kernelspec": {
   "display_name": "Python 3 (ipykernel)",
   "language": "python",
   "name": "python3"
  },
  "language_info": {
   "codemirror_mode": {
    "name": "ipython",
    "version": 3
   },
   "file_extension": ".py",
   "mimetype": "text/x-python",
   "name": "python",
   "nbconvert_exporter": "python",
   "pygments_lexer": "ipython3",
   "version": "3.10.0"
  }
 },
 "nbformat": 4,
 "nbformat_minor": 5
}
